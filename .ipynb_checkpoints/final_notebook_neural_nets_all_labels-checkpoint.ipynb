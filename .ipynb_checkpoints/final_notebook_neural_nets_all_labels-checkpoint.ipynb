{
 "cells": [
  {
   "cell_type": "code",
   "execution_count": 1,
   "metadata": {},
   "outputs": [
    {
     "name": "stderr",
     "output_type": "stream",
     "text": [
      "Using TensorFlow backend.\n"
     ]
    }
   ],
   "source": [
    "import numpy as np\n",
    "import pandas as pd\n",
    "#for reading in data properly\n",
    "import ast\n",
    "import json\n",
    "\n",
    "import gensim\n",
    "from gensim.models import Word2Vec\n",
    "\n",
    "from sklearn.model_selection import train_test_split\n",
    "from sklearn import utils\n",
    "from sklearn.metrics import accuracy_score\n",
    "from sklearn.metrics import precision_score\n",
    "from sklearn.metrics import recall_score\n",
    "\n",
    "import re\n",
    "\n",
    "import nltk\n",
    "from nltk.corpus import stopwords\n",
    "from nltk.tokenize import word_tokenize\n",
    "\n",
    "from keras.preprocessing.text import Tokenizer\n",
    "from keras.preprocessing.sequence import pad_sequences\n",
    "import keras.backend as K\n",
    "from keras.callbacks import EarlyStopping\n",
    "from keras.layers import Conv1D, GlobalMaxPooling1D, LSTM, SimpleRNN, Dense, Dropout, Flatten\n",
    "from keras.layers import Input, concatenate, Activation\n",
    "from keras.layers.embeddings import Embedding\n",
    "from keras.models import Sequential, Model\n",
    "from keras.regularizers import l2\n",
    "\n",
    "stop_words = set(stopwords.words('english'))\n",
    "\n",
    "import time"
   ]
  },
  {
   "cell_type": "markdown",
   "metadata": {},
   "source": [
    "read in the data"
   ]
  },
  {
   "cell_type": "code",
   "execution_count": 2,
   "metadata": {},
   "outputs": [],
   "source": [
    "all_data = pd.read_csv('train.csv')\n",
    "all_data = all_data.dropna(subset=['overview', 'genres']) #drop cols without overview or genre (data we use or labels)"
   ]
  },
  {
   "cell_type": "code",
   "execution_count": 3,
   "metadata": {},
   "outputs": [],
   "source": [
    "#parse each row to get label vectors from json\n",
    "def parse_genres_json(x):\n",
    "    try:\n",
    "        json_genres = json.loads(x.replace(\"'\", '\"'))\n",
    "        numElems = len(json_genres)\n",
    "        ret = [0]*len(genre_dict) #number of genres we are looking at\n",
    "        for i in range(numElems):\n",
    "            genre_str = (json_genres[i]['name'])\n",
    "            if genre_str in genre_map.keys():\n",
    "                ret[genre_dict[genre_map[genre_str]]] = 1\n",
    "        return ret\n",
    "    except Exception as excep:\n",
    "        print('Exception' + str(excep))\n",
    "        return ''"
   ]
  },
  {
   "cell_type": "markdown",
   "metadata": {},
   "source": [
    "Get dictionary for genre to its index in label vector"
   ]
  },
  {
   "cell_type": "code",
   "execution_count": 4,
   "metadata": {},
   "outputs": [],
   "source": [
    "#incldue ALL genres of data set in genre dict as is\n",
    "genre_dict = {'War': 0,\n",
    " 'Family': 1,\n",
    " 'Science Fiction': 2,\n",
    " 'Thriller': 3,\n",
    " 'Horror': 4,\n",
    " 'Romance': 5,\n",
    " 'Drama': 6,\n",
    " 'Foreign': 7,\n",
    " 'Documentary': 8,\n",
    " 'Fantasy': 9,\n",
    " 'Western': 10,\n",
    " 'History': 11,\n",
    " 'Comedy': 12,\n",
    " 'Action': 13,\n",
    " 'Adventure': 14,\n",
    " 'Animation': 15,\n",
    " 'Crime': 16,\n",
    " 'Music': 17,\n",
    " 'TV Movie': 18,\n",
    " 'Mystery': 19}"
   ]
  },
  {
   "cell_type": "code",
   "execution_count": 5,
   "metadata": {},
   "outputs": [],
   "source": [
    "#for mapping to coarse grained labels (in this situation we don't do that so labels map to self)\n",
    "#maps to self here as we don't do anything special with labels in this file\n",
    "genre_map = {'War': 'War',\n",
    " 'Family': 'Family',\n",
    " 'Science Fiction': 'Science Fiction',\n",
    " 'Thriller': 'Thriller',\n",
    " 'Horror': 'Horror',\n",
    " 'Romance': 'Romance',\n",
    " 'Drama': 'Drama',\n",
    " 'Foreign': 'Foreign',\n",
    " 'Documentary': 'Documentary',\n",
    " 'Fantasy': 'Fantasy',\n",
    " 'Western': 'Western',\n",
    " 'History': 'History',\n",
    " 'Comedy': 'Comedy',\n",
    " 'Action': 'Action',\n",
    " 'Adventure': 'Adventure',\n",
    " 'Animation': 'Animation',\n",
    " 'Crime': 'Crime',\n",
    " 'Music': 'Music',\n",
    " 'TV Movie': 'TV Movie',\n",
    " 'Mystery': 'Mystery'}"
   ]
  },
  {
   "cell_type": "code",
   "execution_count": 6,
   "metadata": {},
   "outputs": [],
   "source": [
    "def getGenresVects():\n",
    "    y = all_data['genres']\n",
    "    ret = y.apply(parse_genres_json)\n",
    "    all_data['genres_vect'] = ret"
   ]
  },
  {
   "cell_type": "code",
   "execution_count": 7,
   "metadata": {},
   "outputs": [],
   "source": [
    "getGenresVects() #get label vectors for genres indexed by indexes in genre_dict"
   ]
  },
  {
   "cell_type": "code",
   "execution_count": 8,
   "metadata": {},
   "outputs": [],
   "source": [
    "#put to lower case, remove punctation, remove stopwords\n",
    "def cleanText(text):\n",
    "    no_stopword_text = [w for w in text.split() if not w in stop_words]\n",
    "    text = ' '.join(no_stopword_text)\n",
    "    text = re.sub(r'[^a-z A-Z0-9]', \"\", text) #maybe shouldn't remove punction between words here?\n",
    "    text = text.lower()\n",
    "    return text\n",
    "\n",
    "all_data['cleanOverview'] = all_data['overview'].apply(cleanText)"
   ]
  },
  {
   "cell_type": "code",
   "execution_count": 9,
   "metadata": {},
   "outputs": [],
   "source": [
    "all_data = all_data[all_data.genres_vect.map(sum) > 0] #drop rows that now have no labels "
   ]
  },
  {
   "cell_type": "code",
   "execution_count": 10,
   "metadata": {},
   "outputs": [],
   "source": [
    "#neural net data only needs a few cols\n",
    "nn_data = all_data[['cleanOverview', 'genres_vect', 'overview']]"
   ]
  },
  {
   "cell_type": "code",
   "execution_count": 11,
   "metadata": {},
   "outputs": [],
   "source": [
    "train, test = train_test_split(nn_data, test_size=0.2, random_state=42)"
   ]
  },
  {
   "cell_type": "markdown",
   "metadata": {},
   "source": [
    "Extract actual features and labels from train and test set"
   ]
  },
  {
   "cell_type": "code",
   "execution_count": 12,
   "metadata": {},
   "outputs": [],
   "source": [
    "#gettrian and test features for classification. Just need text and lables for this\n",
    "x = train['cleanOverview'].values.tolist()\n",
    "y = train['genres_vect']\n",
    "x_test = test['cleanOverview'].values.tolist()\n",
    "y_test = test['genres_vect']"
   ]
  },
  {
   "cell_type": "code",
   "execution_count": 13,
   "metadata": {},
   "outputs": [],
   "source": [
    "#convert labels from array of lists to numpy array\n",
    "\n",
    "y_train = y.tolist()\n",
    "y_train = np.array(y_train)\n",
    "\n",
    "y_test = y_test.tolist()\n",
    "y_test = np.array(y_test)"
   ]
  },
  {
   "cell_type": "markdown",
   "metadata": {},
   "source": [
    "Get initial word embedding vectors"
   ]
  },
  {
   "cell_type": "code",
   "execution_count": 14,
   "metadata": {},
   "outputs": [],
   "source": [
    "tok = [word_tokenize(ov) for ov in x]"
   ]
  },
  {
   "cell_type": "code",
   "execution_count": 15,
   "metadata": {},
   "outputs": [],
   "source": [
    "word_vec_len = 32\n",
    "w2v = Word2Vec(tok, min_count = 2, size=word_vec_len)"
   ]
  },
  {
   "cell_type": "code",
   "execution_count": 16,
   "metadata": {},
   "outputs": [],
   "source": [
    "num_words_kept = 100000 #using 100000 most popular words, use throughout\n",
    "\n",
    "tokenizer = Tokenizer(num_words_kept)\n",
    "tokenizer.fit_on_texts(x)\n",
    "sequences = tokenizer.texts_to_sequences(x)\n",
    "\n",
    "max_seq_len = 150 #larger than averaage but not too large\n",
    "\n",
    "#get actual train features to feed into neural nets for training\n",
    "x_train_seq = pad_sequences(sequences, maxlen=max_seq_len)"
   ]
  },
  {
   "cell_type": "code",
   "execution_count": 17,
   "metadata": {},
   "outputs": [],
   "source": [
    "test_sequences = tokenizer.texts_to_sequences(x_test)\n",
    "#get actual test features to feed into neural nets for testing\n",
    "x_test_seq = pad_sequences(test_sequences, maxlen=max_seq_len)"
   ]
  },
  {
   "cell_type": "markdown",
   "metadata": {},
   "source": [
    "Get word embeddings matrix for start input to neural net"
   ]
  },
  {
   "cell_type": "code",
   "execution_count": 18,
   "metadata": {},
   "outputs": [],
   "source": [
    "#Citation: This technique to get word embeddings comes, with some minor changes, mostly from: \n",
    "#https://towardsdatascience.com/another-twitter-sentiment-analysis-with-python-part-11-cnn-word2vec-41f5e28eda74\n",
    "\n",
    "embeddings_index = {}\n",
    "for w in w2v.wv.vocab.keys():\n",
    "    embeddings_index[w] = w2v.wv[w]\n",
    "\n",
    "\n",
    "embedding_matrix = np.zeros((num_words_kept, word_vec_len))\n",
    "for word, i in tokenizer.word_index.items():\n",
    "    if i >= num_words_kept:\n",
    "        continue\n",
    "    embedding_vector = embeddings_index.get(word)\n",
    "    if embedding_vector is not None:\n",
    "        embedding_matrix[i] = embedding_vector"
   ]
  },
  {
   "cell_type": "markdown",
   "metadata": {},
   "source": [
    "Below we define evlaution metric functions"
   ]
  },
  {
   "cell_type": "code",
   "execution_count": 19,
   "metadata": {},
   "outputs": [],
   "source": [
    "def get_per_label_metrics(real_labels_matrix, predictions_labels_matrix):\n",
    "    for genre in genre_dict.keys():\n",
    "        index = genre_dict[genre]\n",
    "        real_labels_vect = real_labels_matrix[:, index]\n",
    "        prediction_vect = predictions_labels_matrix[:,index]\n",
    "        print(\"Accuruacy for \" + genre + \": \" + str(accuracy_score(real_labels_vect, prediction_vect)))\n",
    "        print(\"Precision for \" + genre + \": \" + str(precision_score(real_labels_vect, prediction_vect)))\n",
    "        print(\"Recall for \" + genre + \": \" + str(recall_score(real_labels_vect, prediction_vect)))\n",
    "        print()"
   ]
  },
  {
   "cell_type": "code",
   "execution_count": 20,
   "metadata": {},
   "outputs": [],
   "source": [
    "#size of intersection of predicted and actual labels divided by size of their union for each datapoint tested on\n",
    "#sum those and then divide by number of datapoints\n",
    "#vectorized for speed\n",
    "def multi_label_accuracy(real_labels_matrix, predictions_labels_matrix):\n",
    "    #binary so set intersection is and operator\n",
    "    intersection = real_labels_matrix & predictions_labels_matrix\n",
    "    #set union for binary is same as or operator\n",
    "    union = real_labels_matrix | predictions_labels_matrix\n",
    "    #sum(array.T) gets number of 1s in row\n",
    "    row_wise_accuracy = sum(intersection.T) / sum(union.T)\n",
    "    return sum(row_wise_accuracy) / real_labels_matrix.shape[0]\n",
    "\n",
    "#size of intersection of predicted and actual labels divided by size of predicted set for each datapoint tested on\n",
    "#sum those and divide by number of datapoints\n",
    "#if no predicted labels, don't count that row towards the precision as that would be undefined\n",
    "def multi_label_precision(real_labels_matrix, predictions_labels_matrix):\n",
    "    #binary so set intersection is and operator\n",
    "    intersection = real_labels_matrix & predictions_labels_matrix\n",
    "    precision_sum = 0\n",
    "    num_rows = 0\n",
    "    for row in range(intersection.shape[0]):\n",
    "        if sum(predictions_labels_matrix[row]) > 0: #if there is at least one prediction for this row\n",
    "            num_rows += 1\n",
    "            precision_sum += sum(intersection[row]) / sum(predictions_labels_matrix[row])\n",
    "    if num_rows == 0:\n",
    "        return 0#no labels predicted at all will give us 0 precision as precision makes no sense here\n",
    "    return precision_sum / num_rows\n",
    "\n",
    "#size of intersection of predicted and actual labels divided by size of real label set for each datapoint tested on\n",
    "#sum those and divide by number of datapoints\n",
    "#all datapoints should have at least 1 real label in this data set\n",
    "#vectorized for speed\n",
    "def multi_label_recall(real_labels_matrix, predictions_labels_matrix):\n",
    "    #binary so set intersection is and operator\n",
    "    intersection = real_labels_matrix & predictions_labels_matrix\n",
    "    #set union for binary is same as or operator\n",
    "    #sum(array.T) gets number of 1s in row\n",
    "    row_wise_recall = sum(intersection.T) / sum(real_labels_matrix.T)\n",
    "    return sum(row_wise_recall) / real_labels_matrix.shape[0]\n",
    "\n",
    "#lower is better. Percent incorrectly chosen labels counting assignment and non-assignment equally\n",
    "def hamming_loss(real_labels_matrix, predictions_labels_matrix):\n",
    "    return (np.logical_xor(real_labels_matrix, predictions_labels_matrix)).sum()/(real_labels_matrix.shape[0] * real_labels_matrix.shape[1])\n",
    "\n",
    "\n",
    "#K is what we imported keras backend as\n",
    "\n",
    "#metric for keras for early stopping\n",
    "#takes in raw labels from kerass (not yet converted to 0 and 1s)\n",
    "#NOT the same as accuracy, this is total labels correctly identified divided by union of total labels\n",
    "#this weights rows with more labels higher, where accruacy does not, but this is still a good metric for early stopping\n",
    "def raw_multi_label_accuracy(y_true, y_pred):\n",
    "    positives = K.greater_equal(y_pred, 0.5)\n",
    "    positives = K.cast(positives, K.floatx())\n",
    "    new_y_pred = positives #+ ((1-positives)*y_pred)\n",
    "    intersection = y_true * new_y_pred\n",
    "    union = 1 -((1-y_true)*(1-new_y_pred))\n",
    "    accuracy = K.sum(intersection) / K.sum(union)\n",
    "    return accuracy\n",
    "    "
   ]
  },
  {
   "cell_type": "code",
   "execution_count": 21,
   "metadata": {},
   "outputs": [],
   "source": [
    "def get_all_metrics(actual_labels, predictions):\n",
    "    print('Getting evaluation metrics for each label:')\n",
    "    get_per_label_metrics(actual_labels, predictions)\n",
    "    print('Getting evaluations for multilabel problem')\n",
    "    print('Multilabel accuracy: ' + str(multi_label_accuracy(actual_labels, predictions)))\n",
    "    print('Multilabel precision: ' + str(multi_label_precision(actual_labels, predictions)))\n",
    "    print('Multilabel recall: ' + str(multi_label_recall(actual_labels, predictions)))\n",
    "    print(\"Percent of correctly decided label decisions: \" + str(100* (1-hamming_loss(actual_labels, predictions))))"
   ]
  },
  {
   "cell_type": "code",
   "execution_count": 22,
   "metadata": {},
   "outputs": [],
   "source": [
    "#for early stopping only after certain number of epochs. wait until delay epochs until early stopping\n",
    "#not same as patience. Want to not even start looking until delay is reached\n",
    "class DelayedEarlyStopping(EarlyStopping):\n",
    "    def __init__(self, monitor, min_delta=0, patience=0, verbose=0, mode='auto', delay = 100):\n",
    "        super(DelayedEarlyStopping, self).__init__(monitor=monitor, min_delta=min_delta, patience=patience,verbose=verbose, mode=mode)\n",
    "        self.delay = delay\n",
    "\n",
    "    def on_epoch_end(self, epoch, logs=None):\n",
    "        if epoch > self.delay:\n",
    "            super().on_epoch_end(epoch, logs)"
   ]
  },
  {
   "cell_type": "code",
   "execution_count": 23,
   "metadata": {},
   "outputs": [],
   "source": [
    "def nn_output_to_predictions(res):\n",
    "    label_predictions = []\n",
    "    for i in range(res.shape[0]):\n",
    "        pred = [0]*len(genre_dict)\n",
    "        for j in range(res.shape[1]):\n",
    "            if res[i][j] >= .5:\n",
    "                pred[j] = 1\n",
    "        label_predictions.append(pred)\n",
    "    return np.array(label_predictions)"
   ]
  },
  {
   "cell_type": "markdown",
   "metadata": {},
   "source": [
    "Convolutional Neural Networks"
   ]
  },
  {
   "cell_type": "code",
   "execution_count": null,
   "metadata": {
    "scrolled": true
   },
   "outputs": [
    {
     "name": "stdout",
     "output_type": "stream",
     "text": [
      "WARNING:tensorflow:From /home/matt/.local/lib/python3.6/site-packages/tensorflow/python/framework/op_def_library.py:263: colocate_with (from tensorflow.python.framework.ops) is deprecated and will be removed in a future version.\n",
      "Instructions for updating:\n",
      "Colocations handled automatically by placer.\n",
      "WARNING:tensorflow:From /home/matt/.local/lib/python3.6/site-packages/keras/backend/tensorflow_backend.py:3445: calling dropout (from tensorflow.python.ops.nn_ops) with keep_prob is deprecated and will be removed in a future version.\n",
      "Instructions for updating:\n",
      "Please use `rate` instead of `keep_prob`. Rate should be set to `rate = 1 - keep_prob`.\n",
      "WARNING:tensorflow:From /home/matt/.local/lib/python3.6/site-packages/tensorflow/python/ops/math_ops.py:3066: to_int32 (from tensorflow.python.ops.math_ops) is deprecated and will be removed in a future version.\n",
      "Instructions for updating:\n",
      "Use tf.cast instead.\n",
      "WARNING:tensorflow:From /home/matt/.local/lib/python3.6/site-packages/tensorflow/python/ops/math_grad.py:102: div (from tensorflow.python.ops.math_ops) is deprecated and will be removed in a future version.\n",
      "Instructions for updating:\n",
      "Deprecated in favor of operator or tf.math.divide.\n",
      "Train on 2149 samples, validate on 239 samples\n",
      "Epoch 1/1000\n",
      " - 3s - loss: 0.5981 - raw_multi_label_accuracy: 0.1312 - val_loss: 0.4094 - val_raw_multi_label_accuracy: 0.0097\n",
      "Epoch 2/1000\n",
      " - 2s - loss: 0.4075 - raw_multi_label_accuracy: 0.1169 - val_loss: 0.3705 - val_raw_multi_label_accuracy: 0.1686\n",
      "Epoch 3/1000\n",
      " - 2s - loss: 0.3791 - raw_multi_label_accuracy: 0.0983 - val_loss: 0.3587 - val_raw_multi_label_accuracy: 0.1671\n",
      "Epoch 4/1000\n",
      " - 2s - loss: 0.3643 - raw_multi_label_accuracy: 0.1099 - val_loss: 0.3495 - val_raw_multi_label_accuracy: 0.1686\n",
      "Epoch 5/1000\n",
      " - 2s - loss: 0.3543 - raw_multi_label_accuracy: 0.0948 - val_loss: 0.3436 - val_raw_multi_label_accuracy: 0.1697\n",
      "Epoch 6/1000\n",
      " - 2s - loss: 0.3455 - raw_multi_label_accuracy: 0.1073 - val_loss: 0.3386 - val_raw_multi_label_accuracy: 0.1674\n",
      "Epoch 7/1000\n",
      " - 2s - loss: 0.3407 - raw_multi_label_accuracy: 0.1045 - val_loss: 0.3355 - val_raw_multi_label_accuracy: 0.0869\n",
      "Epoch 8/1000\n",
      " - 2s - loss: 0.3361 - raw_multi_label_accuracy: 0.1059 - val_loss: 0.3328 - val_raw_multi_label_accuracy: 0.0000e+00\n",
      "Epoch 9/1000\n",
      " - 2s - loss: 0.3314 - raw_multi_label_accuracy: 0.1074 - val_loss: 0.3298 - val_raw_multi_label_accuracy: 0.1681\n",
      "Epoch 10/1000\n",
      " - 2s - loss: 0.3276 - raw_multi_label_accuracy: 0.0979 - val_loss: 0.3287 - val_raw_multi_label_accuracy: 0.1700\n",
      "Epoch 11/1000\n",
      " - 2s - loss: 0.3228 - raw_multi_label_accuracy: 0.1396 - val_loss: 0.3273 - val_raw_multi_label_accuracy: 0.0350\n",
      "Epoch 12/1000\n",
      " - 2s - loss: 0.3151 - raw_multi_label_accuracy: 0.1198 - val_loss: 0.3272 - val_raw_multi_label_accuracy: 0.1660\n",
      "Epoch 13/1000\n",
      " - 3s - loss: 0.3047 - raw_multi_label_accuracy: 0.1882 - val_loss: 0.3269 - val_raw_multi_label_accuracy: 0.1434\n",
      "Epoch 14/1000\n",
      " - 2s - loss: 0.2852 - raw_multi_label_accuracy: 0.2316 - val_loss: 0.3304 - val_raw_multi_label_accuracy: 0.1511\n",
      "Epoch 15/1000\n",
      " - 2s - loss: 0.2674 - raw_multi_label_accuracy: 0.2977 - val_loss: 0.3337 - val_raw_multi_label_accuracy: 0.1649\n",
      "Epoch 16/1000\n",
      " - 2s - loss: 0.2493 - raw_multi_label_accuracy: 0.3508 - val_loss: 0.3367 - val_raw_multi_label_accuracy: 0.1829\n",
      "Epoch 17/1000\n",
      " - 2s - loss: 0.2329 - raw_multi_label_accuracy: 0.4064 - val_loss: 0.3443 - val_raw_multi_label_accuracy: 0.1817\n",
      "Epoch 18/1000\n",
      " - 2s - loss: 0.2213 - raw_multi_label_accuracy: 0.4269 - val_loss: 0.3513 - val_raw_multi_label_accuracy: 0.1846\n",
      "Epoch 19/1000\n",
      " - 2s - loss: 0.2111 - raw_multi_label_accuracy: 0.4571 - val_loss: 0.3581 - val_raw_multi_label_accuracy: 0.1729\n",
      "Epoch 20/1000\n",
      " - 2s - loss: 0.2026 - raw_multi_label_accuracy: 0.4773 - val_loss: 0.3647 - val_raw_multi_label_accuracy: 0.1741\n",
      "Epoch 21/1000\n",
      " - 2s - loss: 0.1959 - raw_multi_label_accuracy: 0.4929 - val_loss: 0.3726 - val_raw_multi_label_accuracy: 0.1850\n",
      "Epoch 22/1000\n",
      " - 2s - loss: 0.1900 - raw_multi_label_accuracy: 0.5048 - val_loss: 0.3746 - val_raw_multi_label_accuracy: 0.1775\n",
      "Epoch 23/1000\n",
      " - 2s - loss: 0.1853 - raw_multi_label_accuracy: 0.5178 - val_loss: 0.3818 - val_raw_multi_label_accuracy: 0.1834\n",
      "Epoch 24/1000\n",
      " - 2s - loss: 0.1794 - raw_multi_label_accuracy: 0.5279 - val_loss: 0.3913 - val_raw_multi_label_accuracy: 0.1815\n",
      "Epoch 25/1000\n",
      " - 2s - loss: 0.1756 - raw_multi_label_accuracy: 0.5442 - val_loss: 0.3953 - val_raw_multi_label_accuracy: 0.1994\n",
      "Epoch 26/1000\n",
      " - 2s - loss: 0.1693 - raw_multi_label_accuracy: 0.5445 - val_loss: 0.4043 - val_raw_multi_label_accuracy: 0.1928\n",
      "Epoch 27/1000\n",
      " - 2s - loss: 0.1658 - raw_multi_label_accuracy: 0.5575 - val_loss: 0.4064 - val_raw_multi_label_accuracy: 0.1971\n",
      "Epoch 28/1000\n",
      " - 2s - loss: 0.1619 - raw_multi_label_accuracy: 0.5670 - val_loss: 0.4190 - val_raw_multi_label_accuracy: 0.1921\n",
      "Epoch 29/1000\n",
      " - 2s - loss: 0.1585 - raw_multi_label_accuracy: 0.5750 - val_loss: 0.4204 - val_raw_multi_label_accuracy: 0.2016\n",
      "Epoch 30/1000\n",
      " - 2s - loss: 0.1533 - raw_multi_label_accuracy: 0.5859 - val_loss: 0.4351 - val_raw_multi_label_accuracy: 0.2058\n",
      "Epoch 31/1000\n",
      " - 2s - loss: 0.1505 - raw_multi_label_accuracy: 0.5968 - val_loss: 0.4457 - val_raw_multi_label_accuracy: 0.2075\n",
      "Epoch 32/1000\n",
      " - 2s - loss: 0.1459 - raw_multi_label_accuracy: 0.6188 - val_loss: 0.4349 - val_raw_multi_label_accuracy: 0.1960\n",
      "Epoch 33/1000\n",
      " - 2s - loss: 0.1423 - raw_multi_label_accuracy: 0.6284 - val_loss: 0.4487 - val_raw_multi_label_accuracy: 0.2039\n",
      "Epoch 34/1000\n",
      " - 2s - loss: 0.1386 - raw_multi_label_accuracy: 0.6459 - val_loss: 0.4509 - val_raw_multi_label_accuracy: 0.2012\n",
      "Epoch 35/1000\n",
      " - 2s - loss: 0.1350 - raw_multi_label_accuracy: 0.6540 - val_loss: 0.4677 - val_raw_multi_label_accuracy: 0.1974\n",
      "Epoch 36/1000\n",
      " - 2s - loss: 0.1308 - raw_multi_label_accuracy: 0.6649 - val_loss: 0.4821 - val_raw_multi_label_accuracy: 0.2189\n",
      "Epoch 37/1000\n",
      " - 2s - loss: 0.1285 - raw_multi_label_accuracy: 0.6757 - val_loss: 0.4728 - val_raw_multi_label_accuracy: 0.2100\n",
      "Epoch 38/1000\n",
      " - 2s - loss: 0.1253 - raw_multi_label_accuracy: 0.6843 - val_loss: 0.4819 - val_raw_multi_label_accuracy: 0.2018\n",
      "Epoch 39/1000\n",
      " - 2s - loss: 0.1217 - raw_multi_label_accuracy: 0.6982 - val_loss: 0.4927 - val_raw_multi_label_accuracy: 0.2144\n",
      "Epoch 40/1000\n",
      " - 2s - loss: 0.1191 - raw_multi_label_accuracy: 0.7053 - val_loss: 0.4939 - val_raw_multi_label_accuracy: 0.2162\n",
      "Epoch 41/1000\n",
      " - 2s - loss: 0.1158 - raw_multi_label_accuracy: 0.7133 - val_loss: 0.5120 - val_raw_multi_label_accuracy: 0.2105\n",
      "Time to train with cross validation for early stopping: 77.73597383499146 seconds\n"
     ]
    }
   ],
   "source": [
    "model_cnn = Sequential()\n",
    "e = Embedding(num_words_kept, word_vec_len, weights=[embedding_matrix], input_length=max_seq_len, trainable=True)\n",
    "#e = Embedding(num_words_kept, word_vec_len, input_length=max_seq_len, trainable=True)\n",
    "model_cnn.add(e)\n",
    "model_cnn.add(Conv1D(filters=50, kernel_size=2, padding='valid', activation='relu', strides=1))\n",
    "model_cnn.add(GlobalMaxPooling1D())\n",
    "model_cnn.add(Dense(256, activation='relu', kernel_regularizer=l2(0.001)))\n",
    "model_cnn.add(Dropout(.5))\n",
    "model_cnn.add(Dense(len(genre_dict), activation='sigmoid'))\n",
    "model_cnn.compile(loss='binary_crossentropy', optimizer='adam', metrics=[raw_multi_label_accuracy])\n",
    "start = time.time()\n",
    "model_cnn.fit(x_train_seq, y_train, validation_split = .1, callbacks = [DelayedEarlyStopping(monitor = 'val_raw_multi_label_accuracy', patience = 5, delay=25)], epochs=1000, batch_size=100, verbose=2)\n",
    "end = time.time()\n",
    "print('Time to train with cross validation for early stopping: ' + str(end-start) + ' seconds')"
   ]
  },
  {
   "cell_type": "code",
   "execution_count": null,
   "metadata": {},
   "outputs": [],
   "source": [
    "predictions = nn_output_to_predictions(model_cnn.predict(x_test_seq))"
   ]
  },
  {
   "cell_type": "code",
   "execution_count": null,
   "metadata": {},
   "outputs": [
    {
     "name": "stdout",
     "output_type": "stream",
     "text": [
      "Getting evaluation metrics for each label:\n",
      "Accuruacy for War: 0.964824120603015\n",
      "Precision for War: 0.0\n",
      "Recall for War: 0.0\n",
      "\n",
      "Accuruacy for Family: 0.916247906197655\n",
      "Precision for Family: 0.0\n",
      "Recall for Family: 0.0\n",
      "\n",
      "Accuruacy for Science Fiction: 0.8911222780569514\n",
      "Precision for Science Fiction: 0.0\n",
      "Recall for Science Fiction: 0.0\n",
      "\n",
      "Accuruacy for Thriller: 0.6582914572864321\n",
      "Precision for Thriller: 0.4\n",
      "Recall for Thriller: 0.41420118343195267\n",
      "\n",
      "Accuruacy for Horror: 0.8961474036850922\n",
      "Precision for Horror: 0.2\n",
      "Recall for Horror: 0.03571428571428571\n",
      "\n",
      "Accuruacy for Romance: 0.7939698492462312\n",
      "Precision for Romance: 0.34210526315789475\n",
      "Recall for Romance: 0.11711711711711711\n",
      "\n",
      "Accuruacy for Drama: 0.5778894472361809\n",
      "Precision for Drama: 0.5799522673031027\n",
      "Recall for Drama: 0.7617554858934169\n",
      "\n",
      "Accuruacy for Foreign: 0.9882747068676717\n",
      "Precision for Foreign: 0.0\n",
      "Recall for Foreign: 0.0\n",
      "\n",
      "Accuruacy for Documentary: 0.9731993299832495\n",
      "Precision for Documentary: 0.0\n",
      "Recall for Documentary: 0.0\n",
      "\n",
      "Accuruacy for Fantasy: 0.9229480737018425\n",
      "Precision for Fantasy: 0.0\n",
      "Recall for Fantasy: 0.0\n",
      "\n",
      "Accuruacy for Western: 0.983249581239531\n",
      "Precision for Western: 0.0\n",
      "Recall for Western: 0.0\n",
      "\n",
      "Accuruacy for History: 0.9614740368509213\n",
      "Precision for History: 0.0\n",
      "Recall for History: 0.0\n",
      "\n",
      "Accuruacy for Comedy: 0.6566164154103853\n",
      "Precision for Comedy: 0.5578947368421052\n",
      "Recall for Comedy: 0.24537037037037038\n",
      "\n",
      "Accuruacy for Action: 0.7018425460636516\n",
      "Precision for Action: 0.3793103448275862\n",
      "Recall for Action: 0.21019108280254778\n",
      "\n",
      "Accuruacy for Adventure: 0.8358458961474037\n",
      "Precision for Adventure: 0.36363636363636365\n",
      "Recall for Adventure: 0.042105263157894736\n",
      "\n",
      "Accuruacy for Animation: 0.9530988274706867\n",
      "Precision for Animation: 0.0\n",
      "Recall for Animation: 0.0\n",
      "\n",
      "Accuruacy for Crime: 0.8073701842546064\n",
      "Precision for Crime: 0.2826086956521739\n",
      "Recall for Crime: 0.1368421052631579\n",
      "\n",
      "Accuruacy for Music: 0.9748743718592965\n",
      "Precision for Music: 0.0\n",
      "Recall for Music: 0.0\n",
      "\n",
      "Accuruacy for TV Movie: 1.0\n",
      "Precision for TV Movie: 0.0\n",
      "Recall for TV Movie: 0.0\n",
      "\n",
      "Accuruacy for Mystery: 0.9179229480737019\n",
      "Precision for Mystery: 0.0\n",
      "Recall for Mystery: 0.0\n",
      "\n",
      "Getting evaluations for multilabel problem\n",
      "Multilabel accuracy: 0.2648739730398023\n",
      "Multilabel precision: 0.5045703839122488\n",
      "Multilabel recall: 0.3124272154422909\n",
      "Percent of correctly decided label decisions: 86.87604690117253\n"
     ]
    },
    {
     "name": "stderr",
     "output_type": "stream",
     "text": [
      "/home/matt/.local/lib/python3.6/site-packages/sklearn/metrics/classification.py:1437: UndefinedMetricWarning: Precision is ill-defined and being set to 0.0 due to no predicted samples.\n",
      "  'precision', 'predicted', average, warn_for)\n",
      "/home/matt/.local/lib/python3.6/site-packages/sklearn/metrics/classification.py:1439: UndefinedMetricWarning: Recall is ill-defined and being set to 0.0 due to no true samples.\n",
      "  'recall', 'true', average, warn_for)\n"
     ]
    }
   ],
   "source": [
    "get_all_metrics(y_test, predictions)"
   ]
  },
  {
   "cell_type": "markdown",
   "metadata": {},
   "source": [
    "CNN but with multiple filter sizes so we don't just filter on group of words at a time"
   ]
  },
  {
   "cell_type": "code",
   "execution_count": null,
   "metadata": {},
   "outputs": [
    {
     "name": "stdout",
     "output_type": "stream",
     "text": [
      "Train on 2149 samples, validate on 239 samples\n",
      "Epoch 1/1000\n",
      " - 7s - loss: 2.6358 - raw_multi_label_accuracy: 0.1311 - val_loss: 1.8857 - val_raw_multi_label_accuracy: 0.1695\n",
      "Epoch 2/1000\n",
      " - 6s - loss: 1.4976 - raw_multi_label_accuracy: 0.1256 - val_loss: 1.0917 - val_raw_multi_label_accuracy: 0.1300\n",
      "Epoch 3/1000\n",
      " - 6s - loss: 0.8897 - raw_multi_label_accuracy: 0.1043 - val_loss: 0.6814 - val_raw_multi_label_accuracy: 0.1697\n",
      "Epoch 4/1000\n",
      " - 6s - loss: 0.5878 - raw_multi_label_accuracy: 0.1102 - val_loss: 0.4847 - val_raw_multi_label_accuracy: 0.0000e+00\n",
      "Epoch 5/1000\n",
      " - 6s - loss: 0.4415 - raw_multi_label_accuracy: 0.1044 - val_loss: 0.3929 - val_raw_multi_label_accuracy: 0.0000e+00\n",
      "Epoch 6/1000\n",
      " - 6s - loss: 0.3777 - raw_multi_label_accuracy: 0.0964 - val_loss: 0.3531 - val_raw_multi_label_accuracy: 0.1515\n",
      "Epoch 7/1000\n",
      " - 6s - loss: 0.3469 - raw_multi_label_accuracy: 0.1027 - val_loss: 0.3352 - val_raw_multi_label_accuracy: 0.1695\n",
      "Epoch 8/1000\n",
      " - 6s - loss: 0.3349 - raw_multi_label_accuracy: 0.1035 - val_loss: 0.3259 - val_raw_multi_label_accuracy: 0.1695\n",
      "Epoch 9/1000\n",
      " - 6s - loss: 0.3272 - raw_multi_label_accuracy: 0.1022 - val_loss: 0.3229 - val_raw_multi_label_accuracy: 0.0000e+00\n",
      "Epoch 10/1000\n",
      " - 6s - loss: 0.3225 - raw_multi_label_accuracy: 0.0969 - val_loss: 0.3218 - val_raw_multi_label_accuracy: 0.1709\n",
      "Epoch 11/1000\n",
      " - 8s - loss: 0.3212 - raw_multi_label_accuracy: 0.1133 - val_loss: 0.3204 - val_raw_multi_label_accuracy: 0.1695\n",
      "Epoch 12/1000\n",
      " - 10s - loss: 0.3178 - raw_multi_label_accuracy: 0.1064 - val_loss: 0.3190 - val_raw_multi_label_accuracy: 0.1695\n",
      "Epoch 13/1000\n",
      " - 12s - loss: 0.3156 - raw_multi_label_accuracy: 0.1262 - val_loss: 0.3183 - val_raw_multi_label_accuracy: 0.1161\n",
      "Epoch 14/1000\n",
      " - 13s - loss: 0.3120 - raw_multi_label_accuracy: 0.1072 - val_loss: 0.3207 - val_raw_multi_label_accuracy: 0.1695\n",
      "Epoch 15/1000\n",
      " - 11s - loss: 0.3065 - raw_multi_label_accuracy: 0.1197 - val_loss: 0.3204 - val_raw_multi_label_accuracy: 0.1695\n",
      "Epoch 16/1000\n"
     ]
    }
   ],
   "source": [
    "model_input = Input(shape=(max_seq_len,), dtype='int32')\n",
    "e = Embedding(num_words_kept, word_vec_len, weights=[embedding_matrix], input_length=max_seq_len, trainable=True)(model_input)\n",
    "two_word_filter = Conv1D(filters=100, kernel_size=2, padding='valid', activation='relu', strides=1)(e)\n",
    "two_word_filter = GlobalMaxPooling1D()(two_word_filter)\n",
    "three_word_filter = Conv1D(filters=100, kernel_size=3, padding='valid', activation='relu', strides=1)(e)\n",
    "three_word_filter = GlobalMaxPooling1D()(three_word_filter)\n",
    "four_word_filter = Conv1D(filters=100, kernel_size=4, padding='valid', activation='relu', strides=1)(e)\n",
    "four_word_filter = GlobalMaxPooling1D()(four_word_filter)\n",
    "merged = concatenate([two_word_filter, three_word_filter, four_word_filter], axis=1)\n",
    "\n",
    "merged = Dense(256, activation='relu', kernel_regularizer=l2(0.01))(merged)\n",
    "merged = Dropout(0.5)(merged)\n",
    "merged = Dense(len(genre_dict))(merged)\n",
    "output = Activation('sigmoid')(merged)\n",
    "model = Model(inputs=[model_input], outputs=[output])\n",
    "model.compile(loss='binary_crossentropy', optimizer='adam', metrics=[raw_multi_label_accuracy])\n",
    "start = time.time()\n",
    "model.fit(x_train_seq, y_train, validation_split = .1, callbacks = [DelayedEarlyStopping(monitor = 'val_raw_multi_label_accuracy', patience = 5, delay=25)], epochs=1000, batch_size=100, verbose=2)\n",
    "end = time.time()\n",
    "print('Time to train with cross validation for early stopping: ' + str(end-start) + ' seconds')"
   ]
  },
  {
   "cell_type": "code",
   "execution_count": null,
   "metadata": {},
   "outputs": [],
   "source": [
    "predictions = nn_output_to_predictions(model.predict(x_test_seq))"
   ]
  },
  {
   "cell_type": "code",
   "execution_count": null,
   "metadata": {},
   "outputs": [],
   "source": [
    "get_all_metrics(y_test, predictions)"
   ]
  },
  {
   "cell_type": "markdown",
   "metadata": {},
   "source": [
    "Regular Neural Network"
   ]
  },
  {
   "cell_type": "code",
   "execution_count": null,
   "metadata": {},
   "outputs": [],
   "source": [
    "normal_nn = Sequential()\n",
    "e = Embedding(num_words_kept, word_vec_len, weights=[embedding_matrix], input_length=max_seq_len, trainable=True)\n",
    "normal_nn.add(e)\n",
    "normal_nn.add(Flatten())\n",
    "normal_nn.add(Dense(256, activation='relu'))\n",
    "normal_nn.add(Dense(len(genre_dict), activation='sigmoid'))\n",
    "normal_nn.compile(loss='binary_crossentropy', optimizer='adam', metrics=[raw_multi_label_accuracy])\n",
    "start = time.time()\n",
    "normal_nn.fit(x_train_seq, y_train, validation_split = .1, callbacks = [DelayedEarlyStopping(monitor = 'val_raw_multi_label_accuracy', patience = 5, delay=25)], epochs=1000, batch_size=100, verbose=2)\n",
    "end = time.time()\n",
    "print('Time to train with cross validation for early stopping: ' + str(end-start) + ' seconds')"
   ]
  },
  {
   "cell_type": "code",
   "execution_count": null,
   "metadata": {},
   "outputs": [],
   "source": [
    "predictions = nn_output_to_predictions(normal_nn.predict(x_test_seq))"
   ]
  },
  {
   "cell_type": "code",
   "execution_count": null,
   "metadata": {},
   "outputs": [],
   "source": [
    "get_all_metrics(y_test, predictions)"
   ]
  },
  {
   "cell_type": "markdown",
   "metadata": {},
   "source": [
    "LSTM"
   ]
  },
  {
   "cell_type": "code",
   "execution_count": null,
   "metadata": {},
   "outputs": [],
   "source": [
    "lstm_model = Sequential()\n",
    "e = Embedding(num_words_kept, word_vec_len, weights=[embedding_matrix], input_length=max_seq_len, trainable=True)\n",
    "lstm_model.add(e)\n",
    "lstm_model.add(LSTM(100, dropout=0.25, recurrent_dropout=0.25))\n",
    "lstm_model.add(Dense(256, activation='relu'))\n",
    "lstm_model.add(Dense(len(genre_dict), activation='sigmoid'))\n",
    "lstm_model.compile(loss='binary_crossentropy', optimizer='adam', metrics=[raw_multi_label_accuracy])\n",
    "start = time.time()\n",
    "lstm_model.fit(x_train_seq, y_train, validation_split = .1, callbacks = [DelayedEarlyStopping(monitor = 'val_raw_multi_label_accuracy', patience = 5, delay=25)], epochs=1000, batch_size=100, verbose=2)\n",
    "end = time.time()\n",
    "print('Time to train with cross validation for early stopping: ' + str(end-start) + ' seconds')"
   ]
  },
  {
   "cell_type": "code",
   "execution_count": null,
   "metadata": {},
   "outputs": [],
   "source": [
    "predictions = nn_output_to_predictions(lstm_model.predict(x_test_seq))"
   ]
  },
  {
   "cell_type": "code",
   "execution_count": null,
   "metadata": {},
   "outputs": [],
   "source": [
    "get_all_metrics(y_test, predictions)"
   ]
  },
  {
   "cell_type": "markdown",
   "metadata": {},
   "source": [
    "simple rnn"
   ]
  },
  {
   "cell_type": "code",
   "execution_count": null,
   "metadata": {},
   "outputs": [],
   "source": [
    "rnn = Sequential()\n",
    "e = Embedding(num_words_kept, word_vec_len, weights=[embedding_matrix], input_length=max_seq_len, trainable=True)\n",
    "rnn.add(e)\n",
    "rnn.add(SimpleRNN(32, activation = 'relu'))\n",
    "rnn.add(Dense(256, activation='relu'))\n",
    "rnn.add(Dense(len(genre_dict), activation='sigmoid'))\n",
    "rnn.compile(loss='binary_crossentropy', optimizer='adam', metrics=[raw_multi_label_accuracy])\n",
    "start = time.time()\n",
    "rnn.fit(x_train_seq, y_train, validation_split = .1, callbacks = [DelayedEarlyStopping(monitor = 'val_raw_multi_label_accuracy', patience = 5, delay=25)], epochs=1000, batch_size=100, verbose=2)\n",
    "end = time.time()\n",
    "print('Time to train with cross validation for early stopping: ' + str(end-start) + ' seconds')"
   ]
  },
  {
   "cell_type": "code",
   "execution_count": null,
   "metadata": {},
   "outputs": [],
   "source": [
    "predictions = nn_output_to_predictions(rnn.predict(x_test_seq))"
   ]
  },
  {
   "cell_type": "code",
   "execution_count": null,
   "metadata": {},
   "outputs": [],
   "source": [
    "get_all_metrics(y_test, predictions)"
   ]
  }
 ],
 "metadata": {
  "kernelspec": {
   "display_name": "Python 3",
   "language": "python",
   "name": "python3"
  },
  "language_info": {
   "codemirror_mode": {
    "name": "ipython",
    "version": 3
   },
   "file_extension": ".py",
   "mimetype": "text/x-python",
   "name": "python",
   "nbconvert_exporter": "python",
   "pygments_lexer": "ipython3",
   "version": "3.6.7"
  }
 },
 "nbformat": 4,
 "nbformat_minor": 2
}
