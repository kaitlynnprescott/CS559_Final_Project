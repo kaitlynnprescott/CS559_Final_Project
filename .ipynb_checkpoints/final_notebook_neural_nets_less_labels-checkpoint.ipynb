{
 "cells": [
  {
   "cell_type": "code",
   "execution_count": 1,
   "metadata": {},
   "outputs": [
    {
     "name": "stderr",
     "output_type": "stream",
     "text": [
      "Using TensorFlow backend.\n"
     ]
    }
   ],
   "source": [
    "import numpy as np\n",
    "import pandas as pd\n",
    "#for reading in data properly\n",
    "import ast\n",
    "import json\n",
    "\n",
    "import gensim\n",
    "from gensim.models import Word2Vec\n",
    "\n",
    "from sklearn.model_selection import train_test_split\n",
    "from sklearn import utils\n",
    "from sklearn.metrics import accuracy_score\n",
    "from sklearn.metrics import precision_score\n",
    "from sklearn.metrics import recall_score\n",
    "\n",
    "import re\n",
    "\n",
    "import nltk\n",
    "from nltk.corpus import stopwords\n",
    "from nltk.tokenize import word_tokenize\n",
    "\n",
    "from keras.preprocessing.text import Tokenizer\n",
    "from keras.preprocessing.sequence import pad_sequences\n",
    "import keras.backend as K\n",
    "from keras.callbacks import EarlyStopping\n",
    "from keras.layers import Conv1D, GlobalMaxPooling1D, LSTM, SimpleRNN, Dense, Dropout, Flatten, Bidirectional\n",
    "from keras.layers import Input, concatenate, Activation\n",
    "from keras.layers.embeddings import Embedding\n",
    "from keras.models import Sequential, Model\n",
    "from keras.regularizers import l2\n",
    "\n",
    "stop_words = set(stopwords.words('english'))\n",
    "\n",
    "import time"
   ]
  },
  {
   "cell_type": "markdown",
   "metadata": {},
   "source": [
    "read in the data"
   ]
  },
  {
   "cell_type": "code",
   "execution_count": 2,
   "metadata": {},
   "outputs": [],
   "source": [
    "all_data = pd.read_csv('train.csv')\n",
    "all_data = all_data.dropna(subset=['overview', 'genres']) #drop cols without overview or genre (data we use or labels)"
   ]
  },
  {
   "cell_type": "code",
   "execution_count": 3,
   "metadata": {},
   "outputs": [],
   "source": [
    "#parse each row to get label vectors from json\n",
    "def parse_genres_json(x):\n",
    "    try:\n",
    "        json_genres = json.loads(x.replace(\"'\", '\"'))\n",
    "        numElems = len(json_genres)\n",
    "        ret = [0]*len(genre_dict) #number of genres we are looking at\n",
    "        for i in range(numElems):\n",
    "            genre_str = (json_genres[i]['name'])\n",
    "            if genre_str in genre_map.keys():\n",
    "                ret[genre_dict[genre_map[genre_str]]] = 1\n",
    "        return ret\n",
    "    except Exception as excep:\n",
    "        print('Exception' + str(excep))\n",
    "        return ''"
   ]
  },
  {
   "cell_type": "markdown",
   "metadata": {},
   "source": [
    "Get dictionary for genre to its index in label vector"
   ]
  },
  {
   "cell_type": "code",
   "execution_count": 4,
   "metadata": {},
   "outputs": [
    {
     "data": {
      "text/plain": [
       "{'Action-Adventure': 0,\n",
       " 'Romance': 1,\n",
       " 'Horror-Thriller': 2,\n",
       " 'Comedy': 3,\n",
       " 'Science Fiction': 4,\n",
       " 'Drama': 5}"
      ]
     },
     "execution_count": 4,
     "metadata": {},
     "output_type": "execute_result"
    }
   ],
   "source": [
    "genre_dict = {}\n",
    "genre_dict['Action-Adventure'] = 0\n",
    "genre_dict['Romance'] = 1\n",
    "genre_dict['Horror-Thriller'] = 2\n",
    "genre_dict['Comedy'] = 3\n",
    "genre_dict['Science Fiction'] = 4\n",
    "genre_dict['Drama'] = 5\n",
    "genre_dict"
   ]
  },
  {
   "cell_type": "code",
   "execution_count": 5,
   "metadata": {},
   "outputs": [],
   "source": [
    "#map original labels to more coarse grained labels\n",
    "genre_map = {}\n",
    "genre_map['Adventure'] = 'Action-Adventure'\n",
    "genre_map['Romance'] = 'Romance'\n",
    "genre_map['Horror'] = 'Horror-Thriller'\n",
    "genre_map['Thriller'] = 'Horror-Thriller'\n",
    "genre_map['Comedy'] = 'Comedy'\n",
    "genre_map['Fantasy'] = 'Science Fiction'\n",
    "genre_map['Action'] = 'Action-Adventure'\n",
    "genre_map['Science Fiction'] = 'Science Fiction'\n",
    "genre_map['Drama'] = 'Drama'"
   ]
  },
  {
   "cell_type": "code",
   "execution_count": 6,
   "metadata": {},
   "outputs": [],
   "source": [
    "def getGenresVects():\n",
    "    y = all_data['genres']\n",
    "    ret = y.apply(parse_genres_json)\n",
    "    all_data['genres_vect'] = ret"
   ]
  },
  {
   "cell_type": "code",
   "execution_count": 7,
   "metadata": {},
   "outputs": [],
   "source": [
    "getGenresVects() #get label vectors for genres indexed by indexes in genre_dict"
   ]
  },
  {
   "cell_type": "code",
   "execution_count": 8,
   "metadata": {},
   "outputs": [],
   "source": [
    "#put to lower case, remove punctation, remove stopwords\n",
    "def cleanText(text):\n",
    "    no_stopword_text = [w for w in text.split() if not w in stop_words]\n",
    "    text = ' '.join(no_stopword_text)\n",
    "    text = re.sub(r'[^a-z A-Z0-9]', \"\", text) #maybe shouldn't remove punction between words here?\n",
    "    text = text.lower()\n",
    "    return text\n",
    "\n",
    "all_data['cleanOverview'] = all_data['overview'].apply(cleanText)"
   ]
  },
  {
   "cell_type": "code",
   "execution_count": 9,
   "metadata": {},
   "outputs": [],
   "source": [
    "all_data = all_data[all_data.genres_vect.map(sum) > 0] #drop rows that now have no labels "
   ]
  },
  {
   "cell_type": "code",
   "execution_count": 10,
   "metadata": {},
   "outputs": [],
   "source": [
    "#neural net data only needs a few cols\n",
    "nn_data = all_data[['cleanOverview', 'genres_vect', 'overview']]"
   ]
  },
  {
   "cell_type": "code",
   "execution_count": 11,
   "metadata": {},
   "outputs": [],
   "source": [
    "train, test = train_test_split(nn_data, test_size=0.2, random_state=42)"
   ]
  },
  {
   "cell_type": "markdown",
   "metadata": {},
   "source": [
    "Extract actual features and labels from train and test set"
   ]
  },
  {
   "cell_type": "code",
   "execution_count": 12,
   "metadata": {},
   "outputs": [],
   "source": [
    "#gettrian and test features for classification. Just need text and lables for this\n",
    "x = train['cleanOverview'].values.tolist()\n",
    "y = train['genres_vect']\n",
    "x_test = test['cleanOverview'].values.tolist()\n",
    "y_test = test['genres_vect']"
   ]
  },
  {
   "cell_type": "code",
   "execution_count": 13,
   "metadata": {},
   "outputs": [],
   "source": [
    "#convert labels from array of lists to numpy array\n",
    "\n",
    "y_train = y.tolist()\n",
    "y_train = np.array(y_train)\n",
    "\n",
    "y_test = y_test.tolist()\n",
    "y_test = np.array(y_test)"
   ]
  },
  {
   "cell_type": "markdown",
   "metadata": {},
   "source": [
    "Get initial word embedding vectors"
   ]
  },
  {
   "cell_type": "code",
   "execution_count": 14,
   "metadata": {},
   "outputs": [],
   "source": [
    "tok = [word_tokenize(ov) for ov in x]"
   ]
  },
  {
   "cell_type": "code",
   "execution_count": 15,
   "metadata": {},
   "outputs": [],
   "source": [
    "word_vec_len = 32\n",
    "w2v = Word2Vec(tok, min_count = 2, size=word_vec_len)"
   ]
  },
  {
   "cell_type": "code",
   "execution_count": 16,
   "metadata": {},
   "outputs": [],
   "source": [
    "num_words_kept = 100000 #using 100000 most popular words, use throughout\n",
    "\n",
    "tokenizer = Tokenizer(num_words_kept)\n",
    "tokenizer.fit_on_texts(x)\n",
    "sequences = tokenizer.texts_to_sequences(x)\n",
    "\n",
    "max_seq_len = 150 #larger than averaage but not too large\n",
    "\n",
    "#get actual train features to feed into neural nets for training\n",
    "x_train_seq = pad_sequences(sequences, maxlen=max_seq_len)"
   ]
  },
  {
   "cell_type": "code",
   "execution_count": 17,
   "metadata": {},
   "outputs": [],
   "source": [
    "test_sequences = tokenizer.texts_to_sequences(x_test)\n",
    "#get actual test features to feed into neural nets for testing\n",
    "x_test_seq = pad_sequences(test_sequences, maxlen=max_seq_len)"
   ]
  },
  {
   "cell_type": "markdown",
   "metadata": {},
   "source": [
    "Get word embeddings matrix for start input to neural net"
   ]
  },
  {
   "cell_type": "code",
   "execution_count": 18,
   "metadata": {},
   "outputs": [],
   "source": [
    "#Citation: This technique to get word embeddings comes, with some minor changes, mostly from: \n",
    "#https://towardsdatascience.com/another-twitter-sentiment-analysis-with-python-part-11-cnn-word2vec-41f5e28eda74\n",
    "\n",
    "embeddings_index = {}\n",
    "for w in w2v.wv.vocab.keys():\n",
    "    embeddings_index[w] = w2v.wv[w]\n",
    "\n",
    "\n",
    "embedding_matrix = np.zeros((num_words_kept, word_vec_len))\n",
    "for word, i in tokenizer.word_index.items():\n",
    "    if i >= num_words_kept:\n",
    "        continue\n",
    "    embedding_vector = embeddings_index.get(word)\n",
    "    if embedding_vector is not None:\n",
    "        embedding_matrix[i] = embedding_vector"
   ]
  },
  {
   "cell_type": "markdown",
   "metadata": {},
   "source": [
    "Below we define evlaution metric functions"
   ]
  },
  {
   "cell_type": "code",
   "execution_count": 19,
   "metadata": {},
   "outputs": [],
   "source": [
    "def get_per_label_metrics(real_labels_matrix, predictions_labels_matrix):\n",
    "    for genre in genre_dict.keys():\n",
    "        index = genre_dict[genre]\n",
    "        real_labels_vect = real_labels_matrix[:, index]\n",
    "        prediction_vect = predictions_labels_matrix[:,index]\n",
    "        print(\"Accuruacy for \" + genre + \": \" + str(accuracy_score(real_labels_vect, prediction_vect)))\n",
    "        print(\"Precision for \" + genre + \": \" + str(precision_score(real_labels_vect, prediction_vect)))\n",
    "        print(\"Recall for \" + genre + \": \" + str(recall_score(real_labels_vect, prediction_vect)))\n",
    "        print()"
   ]
  },
  {
   "cell_type": "code",
   "execution_count": 20,
   "metadata": {},
   "outputs": [],
   "source": [
    "#size of intersection of predicted and actual labels divided by size of their union for each datapoint tested on\n",
    "#sum those and then divide by number of datapoints\n",
    "#vectorized for speed\n",
    "def multi_label_accuracy(real_labels_matrix, predictions_labels_matrix):\n",
    "    #binary so set intersection is and operator\n",
    "    intersection = real_labels_matrix & predictions_labels_matrix\n",
    "    #set union for binary is same as or operator\n",
    "    union = real_labels_matrix | predictions_labels_matrix\n",
    "    #sum(array.T) gets number of 1s in row\n",
    "    row_wise_accuracy = sum(intersection.T) / sum(union.T)\n",
    "    return sum(row_wise_accuracy) / real_labels_matrix.shape[0]\n",
    "\n",
    "#size of intersection of predicted and actual labels divided by size of predicted set for each datapoint tested on\n",
    "#sum those and divide by number of datapoints\n",
    "#if no predicted labels, don't count that row towards the precision as that would be undefined\n",
    "def multi_label_precision(real_labels_matrix, predictions_labels_matrix):\n",
    "    #binary so set intersection is and operator\n",
    "    intersection = real_labels_matrix & predictions_labels_matrix\n",
    "    precision_sum = 0\n",
    "    num_rows = 0\n",
    "    for row in range(intersection.shape[0]):\n",
    "        if sum(predictions_labels_matrix[row]) > 0: #if there is at least one prediction for this row\n",
    "            num_rows += 1\n",
    "            precision_sum += sum(intersection[row]) / sum(predictions_labels_matrix[row])\n",
    "    if num_rows == 0:\n",
    "        return 0#no labels predicted at all will give us 0 precision as precision makes no sense here\n",
    "    return precision_sum / num_rows\n",
    "\n",
    "#size of intersection of predicted and actual labels divided by size of real label set for each datapoint tested on\n",
    "#sum those and divide by number of datapoints\n",
    "#all datapoints should have at least 1 real label in this data set\n",
    "#vectorized for speed\n",
    "def multi_label_recall(real_labels_matrix, predictions_labels_matrix):\n",
    "    #binary so set intersection is and operator\n",
    "    intersection = real_labels_matrix & predictions_labels_matrix\n",
    "    #set union for binary is same as or operator\n",
    "    #sum(array.T) gets number of 1s in row\n",
    "    row_wise_recall = sum(intersection.T) / sum(real_labels_matrix.T)\n",
    "    return sum(row_wise_recall) / real_labels_matrix.shape[0]\n",
    "\n",
    "#lower is better. Percent incorrectly chosen labels counting assignment and non-assignment equally\n",
    "def hamming_loss(real_labels_matrix, predictions_labels_matrix):\n",
    "    return (np.logical_xor(real_labels_matrix, predictions_labels_matrix)).sum()/(real_labels_matrix.shape[0] * real_labels_matrix.shape[1])\n",
    "\n",
    "\n",
    "#K is what we imported keras backend as\n",
    "\n",
    "#metric for keras for early stopping\n",
    "#takes in raw labels from kerass (not yet converted to 0 and 1s)\n",
    "#NOT the same as accuracy, this is total labels correctly identified divided by union of total labels\n",
    "#this weights rows with more labels higher, where accruacy does not, but this is still a good metric for early stopping\n",
    "def raw_multi_label_accuracy(y_true, y_pred):\n",
    "    positives = K.greater_equal(y_pred, 0.5)\n",
    "    positives = K.cast(positives, K.floatx())\n",
    "    new_y_pred = positives #+ ((1-positives)*y_pred)\n",
    "    intersection = y_true * new_y_pred\n",
    "    union = 1 -((1-y_true)*(1-new_y_pred))\n",
    "    accuracy = K.sum(intersection) / K.sum(union)\n",
    "    return accuracy\n",
    "    "
   ]
  },
  {
   "cell_type": "code",
   "execution_count": 21,
   "metadata": {},
   "outputs": [],
   "source": [
    "def get_all_metrics(actual_labels, predictions):\n",
    "    print('Getting evaluation metrics for each label:')\n",
    "    get_per_label_metrics(actual_labels, predictions)\n",
    "    print('Getting evaluations for multilabel problem')\n",
    "    print('Multilabel accuracy: ' + str(multi_label_accuracy(actual_labels, predictions)))\n",
    "    print('Multilabel precision: ' + str(multi_label_precision(actual_labels, predictions)))\n",
    "    print('Multilabel recall: ' + str(multi_label_recall(actual_labels, predictions)))\n",
    "    print(\"Percent of correctly decided label decisions: \" + str(100* (1-hamming_loss(actual_labels, predictions))))"
   ]
  },
  {
   "cell_type": "code",
   "execution_count": 22,
   "metadata": {},
   "outputs": [],
   "source": [
    "#for early stopping only after certain number of epochs. wait until delay epochs until early stopping\n",
    "#not same as patience. Want to not even start looking until delay is reached\n",
    "class DelayedEarlyStopping(EarlyStopping):\n",
    "    def __init__(self, monitor, min_delta=0, patience=0, verbose=0, mode='auto', delay = 100):\n",
    "        super(DelayedEarlyStopping, self).__init__(monitor=monitor, min_delta=min_delta, patience=patience,verbose=verbose, mode=mode)\n",
    "        self.delay = delay\n",
    "\n",
    "    def on_epoch_end(self, epoch, logs=None):\n",
    "        if epoch > self.delay:\n",
    "            super().on_epoch_end(epoch, logs)"
   ]
  },
  {
   "cell_type": "code",
   "execution_count": 23,
   "metadata": {},
   "outputs": [],
   "source": [
    "def nn_output_to_predictions(res):\n",
    "    label_predictions = []\n",
    "    for i in range(res.shape[0]):\n",
    "        pred = [0]*len(genre_dict)\n",
    "        for j in range(res.shape[1]):\n",
    "            if res[i][j] >= .5:\n",
    "                pred[j] = 1\n",
    "        label_predictions.append(pred)\n",
    "    return np.array(label_predictions)"
   ]
  },
  {
   "cell_type": "markdown",
   "metadata": {},
   "source": [
    "Convolutional Neural Networks"
   ]
  },
  {
   "cell_type": "code",
   "execution_count": 24,
   "metadata": {
    "scrolled": true
   },
   "outputs": [
    {
     "name": "stdout",
     "output_type": "stream",
     "text": [
      "WARNING:tensorflow:From /home/matt/.local/lib/python3.6/site-packages/tensorflow/python/framework/op_def_library.py:263: colocate_with (from tensorflow.python.framework.ops) is deprecated and will be removed in a future version.\n",
      "Instructions for updating:\n",
      "Colocations handled automatically by placer.\n",
      "WARNING:tensorflow:From /home/matt/.local/lib/python3.6/site-packages/keras/backend/tensorflow_backend.py:3445: calling dropout (from tensorflow.python.ops.nn_ops) with keep_prob is deprecated and will be removed in a future version.\n",
      "Instructions for updating:\n",
      "Please use `rate` instead of `keep_prob`. Rate should be set to `rate = 1 - keep_prob`.\n",
      "WARNING:tensorflow:From /home/matt/.local/lib/python3.6/site-packages/tensorflow/python/ops/math_ops.py:3066: to_int32 (from tensorflow.python.ops.math_ops) is deprecated and will be removed in a future version.\n",
      "Instructions for updating:\n",
      "Use tf.cast instead.\n",
      "WARNING:tensorflow:From /home/matt/.local/lib/python3.6/site-packages/tensorflow/python/ops/math_grad.py:102: div (from tensorflow.python.ops.math_ops) is deprecated and will be removed in a future version.\n",
      "Instructions for updating:\n",
      "Deprecated in favor of operator or tf.math.divide.\n",
      "Train on 2072 samples, validate on 231 samples\n",
      "Epoch 1/1000\n",
      " - 4s - loss: 0.6853 - raw_multi_label_accuracy: 0.1930 - val_loss: 0.6676 - val_raw_multi_label_accuracy: 0.2182\n",
      "Epoch 2/1000\n",
      " - 2s - loss: 0.6498 - raw_multi_label_accuracy: 0.1897 - val_loss: 0.6484 - val_raw_multi_label_accuracy: 0.2182\n",
      "Epoch 3/1000\n",
      " - 2s - loss: 0.6348 - raw_multi_label_accuracy: 0.1925 - val_loss: 0.6359 - val_raw_multi_label_accuracy: 0.2182\n",
      "Epoch 4/1000\n",
      " - 1s - loss: 0.6199 - raw_multi_label_accuracy: 0.2039 - val_loss: 0.6287 - val_raw_multi_label_accuracy: 0.2182\n",
      "Epoch 5/1000\n",
      " - 1s - loss: 0.6077 - raw_multi_label_accuracy: 0.2110 - val_loss: 0.6227 - val_raw_multi_label_accuracy: 0.2144\n",
      "Epoch 6/1000\n",
      " - 1s - loss: 0.5843 - raw_multi_label_accuracy: 0.2223 - val_loss: 0.6179 - val_raw_multi_label_accuracy: 0.2021\n",
      "Epoch 7/1000\n",
      " - 1s - loss: 0.5358 - raw_multi_label_accuracy: 0.3414 - val_loss: 0.6145 - val_raw_multi_label_accuracy: 0.2105\n",
      "Epoch 8/1000\n",
      " - 1s - loss: 0.4534 - raw_multi_label_accuracy: 0.5129 - val_loss: 0.6197 - val_raw_multi_label_accuracy: 0.2315\n",
      "Epoch 9/1000\n",
      " - 1s - loss: 0.3719 - raw_multi_label_accuracy: 0.6157 - val_loss: 0.6281 - val_raw_multi_label_accuracy: 0.2581\n",
      "Epoch 10/1000\n",
      " - 1s - loss: 0.3233 - raw_multi_label_accuracy: 0.6780 - val_loss: 0.6728 - val_raw_multi_label_accuracy: 0.2580\n",
      "Epoch 11/1000\n",
      " - 1s - loss: 0.2949 - raw_multi_label_accuracy: 0.7143 - val_loss: 0.6936 - val_raw_multi_label_accuracy: 0.2694\n",
      "Epoch 12/1000\n",
      " - 1s - loss: 0.2727 - raw_multi_label_accuracy: 0.7381 - val_loss: 0.7190 - val_raw_multi_label_accuracy: 0.2597\n",
      "Epoch 13/1000\n",
      " - 1s - loss: 0.2531 - raw_multi_label_accuracy: 0.7620 - val_loss: 0.6964 - val_raw_multi_label_accuracy: 0.2800\n",
      "Epoch 14/1000\n",
      " - 1s - loss: 0.2273 - raw_multi_label_accuracy: 0.8013 - val_loss: 0.7013 - val_raw_multi_label_accuracy: 0.2737\n",
      "Epoch 15/1000\n",
      " - 1s - loss: 0.2080 - raw_multi_label_accuracy: 0.8107 - val_loss: 0.7305 - val_raw_multi_label_accuracy: 0.2918\n",
      "Epoch 16/1000\n",
      " - 1s - loss: 0.1864 - raw_multi_label_accuracy: 0.8491 - val_loss: 0.7548 - val_raw_multi_label_accuracy: 0.2894\n",
      "Epoch 17/1000\n",
      " - 1s - loss: 0.1671 - raw_multi_label_accuracy: 0.8728 - val_loss: 0.7802 - val_raw_multi_label_accuracy: 0.2880\n",
      "Epoch 18/1000\n",
      " - 1s - loss: 0.1481 - raw_multi_label_accuracy: 0.8973 - val_loss: 0.8211 - val_raw_multi_label_accuracy: 0.2901\n",
      "Epoch 19/1000\n",
      " - 1s - loss: 0.1348 - raw_multi_label_accuracy: 0.9125 - val_loss: 0.8292 - val_raw_multi_label_accuracy: 0.3012\n",
      "Epoch 20/1000\n",
      " - 1s - loss: 0.1228 - raw_multi_label_accuracy: 0.9283 - val_loss: 0.8796 - val_raw_multi_label_accuracy: 0.3024\n",
      "Epoch 21/1000\n",
      " - 1s - loss: 0.1132 - raw_multi_label_accuracy: 0.9334 - val_loss: 0.8529 - val_raw_multi_label_accuracy: 0.3111\n",
      "Epoch 22/1000\n",
      " - 1s - loss: 0.1066 - raw_multi_label_accuracy: 0.9444 - val_loss: 0.8969 - val_raw_multi_label_accuracy: 0.3103\n",
      "Epoch 23/1000\n",
      " - 1s - loss: 0.0988 - raw_multi_label_accuracy: 0.9481 - val_loss: 0.9094 - val_raw_multi_label_accuracy: 0.3094\n",
      "Epoch 24/1000\n",
      " - 1s - loss: 0.0933 - raw_multi_label_accuracy: 0.9547 - val_loss: 0.9466 - val_raw_multi_label_accuracy: 0.3127\n",
      "Epoch 25/1000\n",
      " - 1s - loss: 0.0888 - raw_multi_label_accuracy: 0.9539 - val_loss: 0.9202 - val_raw_multi_label_accuracy: 0.3059\n",
      "Epoch 26/1000\n",
      " - 1s - loss: 0.0825 - raw_multi_label_accuracy: 0.9648 - val_loss: 0.9157 - val_raw_multi_label_accuracy: 0.3143\n",
      "Epoch 27/1000\n",
      " - 1s - loss: 0.0790 - raw_multi_label_accuracy: 0.9661 - val_loss: 0.9244 - val_raw_multi_label_accuracy: 0.3122\n",
      "Epoch 28/1000\n",
      " - 1s - loss: 0.0733 - raw_multi_label_accuracy: 0.9737 - val_loss: 0.9456 - val_raw_multi_label_accuracy: 0.3082\n",
      "Epoch 29/1000\n",
      " - 1s - loss: 0.0699 - raw_multi_label_accuracy: 0.9734 - val_loss: 0.9333 - val_raw_multi_label_accuracy: 0.3207\n",
      "Epoch 30/1000\n",
      " - 1s - loss: 0.0676 - raw_multi_label_accuracy: 0.9742 - val_loss: 0.9725 - val_raw_multi_label_accuracy: 0.3093\n",
      "Epoch 31/1000\n",
      " - 1s - loss: 0.0633 - raw_multi_label_accuracy: 0.9793 - val_loss: 0.9723 - val_raw_multi_label_accuracy: 0.3108\n",
      "Epoch 32/1000\n",
      " - 1s - loss: 0.0612 - raw_multi_label_accuracy: 0.9777 - val_loss: 0.9856 - val_raw_multi_label_accuracy: 0.3074\n",
      "Epoch 33/1000\n",
      " - 1s - loss: 0.0579 - raw_multi_label_accuracy: 0.9832 - val_loss: 1.0146 - val_raw_multi_label_accuracy: 0.3104\n",
      "Epoch 34/1000\n",
      " - 1s - loss: 0.0567 - raw_multi_label_accuracy: 0.9822 - val_loss: 0.9792 - val_raw_multi_label_accuracy: 0.3101\n",
      "Time to train with cross validation for early stopping: 47.568729639053345 seconds\n"
     ]
    }
   ],
   "source": [
    "model_cnn = Sequential()\n",
    "e = Embedding(num_words_kept, word_vec_len, weights=[embedding_matrix], input_length=max_seq_len, trainable=True)\n",
    "#e = Embedding(num_words_kept, word_vec_len, input_length=max_seq_len, trainable=True)\n",
    "model_cnn.add(e)\n",
    "model_cnn.add(Conv1D(filters=50, kernel_size=2, padding='valid', activation='relu', strides=1))\n",
    "model_cnn.add(GlobalMaxPooling1D())\n",
    "model_cnn.add(Dense(256, activation='relu', kernel_regularizer=l2(0.001)))\n",
    "model_cnn.add(Dropout(.5))\n",
    "model_cnn.add(Dense(len(genre_dict), activation='sigmoid'))\n",
    "model_cnn.compile(loss='binary_crossentropy', optimizer='adam', metrics=[raw_multi_label_accuracy])\n",
    "start = time.time()\n",
    "model_cnn.fit(x_train_seq, y_train, validation_split = .1, callbacks = [DelayedEarlyStopping(monitor = 'val_raw_multi_label_accuracy', patience = 5, delay=25)], epochs=1000, batch_size=100, verbose=2)\n",
    "end = time.time()\n",
    "print('Time to train with cross validation for early stopping: ' + str(end-start) + ' seconds')"
   ]
  },
  {
   "cell_type": "code",
   "execution_count": 25,
   "metadata": {},
   "outputs": [],
   "source": [
    "predictions = nn_output_to_predictions(model_cnn.predict(x_test_seq))"
   ]
  },
  {
   "cell_type": "code",
   "execution_count": 26,
   "metadata": {},
   "outputs": [
    {
     "name": "stdout",
     "output_type": "stream",
     "text": [
      "Getting evaluation metrics for each label:\n",
      "Accuruacy for Action-Adventure: 0.6805555555555556\n",
      "Precision for Action-Adventure: 0.5190839694656488\n",
      "Recall for Action-Adventure: 0.35978835978835977\n",
      "\n",
      "Accuruacy for Romance: 0.7899305555555556\n",
      "Precision for Romance: 0.4\n",
      "Recall for Romance: 0.10434782608695652\n",
      "\n",
      "Accuruacy for Horror-Thriller: 0.6597222222222222\n",
      "Precision for Horror-Thriller: 0.4968152866242038\n",
      "Recall for Horror-Thriller: 0.4\n",
      "\n",
      "Accuruacy for Comedy: 0.6319444444444444\n",
      "Precision for Comedy: 0.43902439024390244\n",
      "Recall for Comedy: 0.27411167512690354\n",
      "\n",
      "Accuruacy for Science Fiction: 0.8333333333333334\n",
      "Precision for Science Fiction: 0.59375\n",
      "Recall for Science Fiction: 0.18627450980392157\n",
      "\n",
      "Accuruacy for Drama: 0.5763888888888888\n",
      "Precision for Drama: 0.5539568345323741\n",
      "Recall for Drama: 0.7993079584775087\n",
      "\n",
      "Getting evaluations for multilabel problem\n",
      "Multilabel accuracy: 0.368055555555556\n",
      "Multilabel precision: 0.5339892665474062\n",
      "Multilabel recall: 0.46200810185185187\n",
      "Percent of correctly decided label decisions: 69.53125\n"
     ]
    }
   ],
   "source": [
    "get_all_metrics(y_test, predictions)"
   ]
  },
  {
   "cell_type": "markdown",
   "metadata": {},
   "source": [
    "CNN but with multiple filter sizes so we don't just filter on group of words at a time"
   ]
  },
  {
   "cell_type": "code",
   "execution_count": 27,
   "metadata": {
    "scrolled": true
   },
   "outputs": [
    {
     "name": "stdout",
     "output_type": "stream",
     "text": [
      "Train on 2072 samples, validate on 231 samples\n",
      "Epoch 1/1000\n",
      " - 5s - loss: 2.8157 - raw_multi_label_accuracy: 0.1935 - val_loss: 2.1944 - val_raw_multi_label_accuracy: 0.0405\n",
      "Epoch 2/1000\n",
      " - 4s - loss: 1.7938 - raw_multi_label_accuracy: 0.1713 - val_loss: 1.4232 - val_raw_multi_label_accuracy: 0.2182\n",
      "Epoch 3/1000\n",
      " - 4s - loss: 1.1972 - raw_multi_label_accuracy: 0.1690 - val_loss: 1.0058 - val_raw_multi_label_accuracy: 0.2182\n",
      "Epoch 4/1000\n",
      " - 4s - loss: 0.8880 - raw_multi_label_accuracy: 0.1874 - val_loss: 0.7986 - val_raw_multi_label_accuracy: 0.2182\n",
      "Epoch 5/1000\n",
      " - 4s - loss: 0.7349 - raw_multi_label_accuracy: 0.1880 - val_loss: 0.6932 - val_raw_multi_label_accuracy: 0.2182\n",
      "Epoch 6/1000\n",
      " - 4s - loss: 0.6597 - raw_multi_label_accuracy: 0.1731 - val_loss: 0.6457 - val_raw_multi_label_accuracy: 0.2182\n",
      "Epoch 7/1000\n",
      " - 4s - loss: 0.6257 - raw_multi_label_accuracy: 0.1867 - val_loss: 0.6234 - val_raw_multi_label_accuracy: 0.2182\n",
      "Epoch 8/1000\n",
      " - 4s - loss: 0.6090 - raw_multi_label_accuracy: 0.1971 - val_loss: 0.6145 - val_raw_multi_label_accuracy: 0.2182\n",
      "Epoch 9/1000\n",
      " - 4s - loss: 0.5955 - raw_multi_label_accuracy: 0.2084 - val_loss: 0.6090 - val_raw_multi_label_accuracy: 0.2182\n",
      "Epoch 10/1000\n",
      " - 4s - loss: 0.5846 - raw_multi_label_accuracy: 0.2161 - val_loss: 0.6111 - val_raw_multi_label_accuracy: 0.2165\n",
      "Epoch 11/1000\n",
      " - 4s - loss: 0.5574 - raw_multi_label_accuracy: 0.2575 - val_loss: 0.6106 - val_raw_multi_label_accuracy: 0.2119\n",
      "Epoch 12/1000\n",
      " - 5s - loss: 0.5110 - raw_multi_label_accuracy: 0.3447 - val_loss: 0.6122 - val_raw_multi_label_accuracy: 0.2200\n",
      "Epoch 13/1000\n",
      " - 4s - loss: 0.4696 - raw_multi_label_accuracy: 0.4121 - val_loss: 0.6182 - val_raw_multi_label_accuracy: 0.2261\n",
      "Epoch 14/1000\n",
      " - 4s - loss: 0.4155 - raw_multi_label_accuracy: 0.5242 - val_loss: 0.6215 - val_raw_multi_label_accuracy: 0.2481\n",
      "Epoch 15/1000\n",
      " - 5s - loss: 0.3606 - raw_multi_label_accuracy: 0.6182 - val_loss: 0.6216 - val_raw_multi_label_accuracy: 0.2577\n",
      "Epoch 16/1000\n",
      " - 5s - loss: 0.3209 - raw_multi_label_accuracy: 0.6767 - val_loss: 0.6638 - val_raw_multi_label_accuracy: 0.2601\n",
      "Epoch 17/1000\n",
      " - 5s - loss: 0.2945 - raw_multi_label_accuracy: 0.6938 - val_loss: 0.6538 - val_raw_multi_label_accuracy: 0.2786\n",
      "Epoch 18/1000\n",
      " - 5s - loss: 0.2718 - raw_multi_label_accuracy: 0.7249 - val_loss: 0.6505 - val_raw_multi_label_accuracy: 0.2861\n",
      "Epoch 19/1000\n",
      " - 5s - loss: 0.2518 - raw_multi_label_accuracy: 0.7481 - val_loss: 0.6568 - val_raw_multi_label_accuracy: 0.2665\n",
      "Epoch 20/1000\n",
      " - 4s - loss: 0.2347 - raw_multi_label_accuracy: 0.7703 - val_loss: 0.6744 - val_raw_multi_label_accuracy: 0.2729\n",
      "Epoch 21/1000\n",
      " - 5s - loss: 0.2136 - raw_multi_label_accuracy: 0.8003 - val_loss: 0.6827 - val_raw_multi_label_accuracy: 0.2734\n",
      "Epoch 22/1000\n",
      " - 4s - loss: 0.1989 - raw_multi_label_accuracy: 0.8237 - val_loss: 0.7093 - val_raw_multi_label_accuracy: 0.2680\n",
      "Epoch 23/1000\n",
      " - 4s - loss: 0.1901 - raw_multi_label_accuracy: 0.8328 - val_loss: 0.6982 - val_raw_multi_label_accuracy: 0.2811\n",
      "Epoch 24/1000\n",
      " - 4s - loss: 0.1750 - raw_multi_label_accuracy: 0.8509 - val_loss: 0.7231 - val_raw_multi_label_accuracy: 0.2969\n",
      "Epoch 25/1000\n",
      " - 4s - loss: 0.1641 - raw_multi_label_accuracy: 0.8554 - val_loss: 0.7124 - val_raw_multi_label_accuracy: 0.3009\n",
      "Epoch 26/1000\n",
      " - 4s - loss: 0.1529 - raw_multi_label_accuracy: 0.8744 - val_loss: 0.7414 - val_raw_multi_label_accuracy: 0.3139\n",
      "Epoch 27/1000\n",
      " - 4s - loss: 0.1462 - raw_multi_label_accuracy: 0.8772 - val_loss: 0.7504 - val_raw_multi_label_accuracy: 0.3097\n",
      "Epoch 28/1000\n",
      " - 4s - loss: 0.1417 - raw_multi_label_accuracy: 0.8853 - val_loss: 0.7570 - val_raw_multi_label_accuracy: 0.3077\n",
      "Epoch 29/1000\n",
      " - 4s - loss: 0.1334 - raw_multi_label_accuracy: 0.8932 - val_loss: 0.7897 - val_raw_multi_label_accuracy: 0.3096\n",
      "Epoch 30/1000\n",
      " - 4s - loss: 0.1304 - raw_multi_label_accuracy: 0.8930 - val_loss: 0.7576 - val_raw_multi_label_accuracy: 0.3333\n",
      "Epoch 31/1000\n",
      " - 4s - loss: 0.1233 - raw_multi_label_accuracy: 0.9013 - val_loss: 0.7908 - val_raw_multi_label_accuracy: 0.3214\n",
      "Epoch 32/1000\n",
      " - 4s - loss: 0.1182 - raw_multi_label_accuracy: 0.9101 - val_loss: 0.8108 - val_raw_multi_label_accuracy: 0.3135\n",
      "Epoch 33/1000\n",
      " - 4s - loss: 0.1152 - raw_multi_label_accuracy: 0.9126 - val_loss: 0.7981 - val_raw_multi_label_accuracy: 0.3252\n",
      "Epoch 34/1000\n",
      " - 4s - loss: 0.1097 - raw_multi_label_accuracy: 0.9182 - val_loss: 0.7920 - val_raw_multi_label_accuracy: 0.3319\n",
      "Epoch 35/1000\n",
      " - 5s - loss: 0.1064 - raw_multi_label_accuracy: 0.9205 - val_loss: 0.8311 - val_raw_multi_label_accuracy: 0.3197\n",
      "Time to train with cross validation for early stopping: 154.05045008659363 seconds\n"
     ]
    }
   ],
   "source": [
    "model_input = Input(shape=(max_seq_len,), dtype='int32')\n",
    "e = Embedding(num_words_kept, word_vec_len, weights=[embedding_matrix], input_length=max_seq_len, trainable=True)(model_input)\n",
    "two_word_filter = Conv1D(filters=100, kernel_size=2, padding='valid', activation='relu', strides=1)(e)\n",
    "two_word_filter = GlobalMaxPooling1D()(two_word_filter)\n",
    "three_word_filter = Conv1D(filters=100, kernel_size=3, padding='valid', activation='relu', strides=1)(e)\n",
    "three_word_filter = GlobalMaxPooling1D()(three_word_filter)\n",
    "four_word_filter = Conv1D(filters=100, kernel_size=4, padding='valid', activation='relu', strides=1)(e)\n",
    "four_word_filter = GlobalMaxPooling1D()(four_word_filter)\n",
    "merged = concatenate([two_word_filter, three_word_filter, four_word_filter], axis=1)\n",
    "\n",
    "merged = Dense(256, activation='relu', kernel_regularizer=l2(0.01))(merged)\n",
    "merged = Dropout(0.5)(merged)\n",
    "merged = Dense(len(genre_dict))(merged)\n",
    "output = Activation('sigmoid')(merged)\n",
    "model = Model(inputs=[model_input], outputs=[output])\n",
    "model.compile(loss='binary_crossentropy', optimizer='adam', metrics=[raw_multi_label_accuracy])\n",
    "start = time.time()\n",
    "model.fit(x_train_seq, y_train, validation_split = .1, callbacks = [DelayedEarlyStopping(monitor = 'val_raw_multi_label_accuracy', patience = 5, delay=25)], epochs=1000, batch_size=100, verbose=2)\n",
    "end = time.time()\n",
    "print('Time to train with cross validation for early stopping: ' + str(end-start) + ' seconds')"
   ]
  },
  {
   "cell_type": "code",
   "execution_count": 28,
   "metadata": {},
   "outputs": [],
   "source": [
    "predictions = nn_output_to_predictions(model.predict(x_test_seq))"
   ]
  },
  {
   "cell_type": "code",
   "execution_count": 29,
   "metadata": {},
   "outputs": [
    {
     "name": "stdout",
     "output_type": "stream",
     "text": [
      "Getting evaluation metrics for each label:\n",
      "Accuruacy for Action-Adventure: 0.6875\n",
      "Precision for Action-Adventure: 0.5436893203883495\n",
      "Recall for Action-Adventure: 0.2962962962962963\n",
      "\n",
      "Accuruacy for Romance: 0.8020833333333334\n",
      "Precision for Romance: 0.5161290322580645\n",
      "Recall for Romance: 0.1391304347826087\n",
      "\n",
      "Accuruacy for Horror-Thriller: 0.6440972222222222\n",
      "Precision for Horror-Thriller: 0.4752475247524752\n",
      "Recall for Horror-Thriller: 0.49230769230769234\n",
      "\n",
      "Accuruacy for Comedy: 0.6423611111111112\n",
      "Precision for Comedy: 0.46853146853146854\n",
      "Recall for Comedy: 0.3401015228426396\n",
      "\n",
      "Accuruacy for Science Fiction: 0.828125\n",
      "Precision for Science Fiction: 0.5555555555555556\n",
      "Recall for Science Fiction: 0.14705882352941177\n",
      "\n",
      "Accuruacy for Drama: 0.5868055555555556\n",
      "Precision for Drama: 0.5698630136986301\n",
      "Recall for Drama: 0.7197231833910035\n",
      "\n",
      "Getting evaluations for multilabel problem\n",
      "Multilabel accuracy: 0.3711516203703706\n",
      "Multilabel precision: 0.5382249560632688\n",
      "Multilabel recall: 0.46229745370370356\n",
      "Percent of correctly decided label decisions: 69.84953703703704\n"
     ]
    }
   ],
   "source": [
    "get_all_metrics(y_test, predictions)"
   ]
  },
  {
   "cell_type": "markdown",
   "metadata": {},
   "source": [
    "Regular Neural Network"
   ]
  },
  {
   "cell_type": "code",
   "execution_count": 30,
   "metadata": {},
   "outputs": [
    {
     "name": "stdout",
     "output_type": "stream",
     "text": [
      "Train on 2072 samples, validate on 231 samples\n",
      "Epoch 1/1000\n",
      " - 3s - loss: 0.6162 - raw_multi_label_accuracy: 0.1691 - val_loss: 0.6187 - val_raw_multi_label_accuracy: 0.2204\n",
      "Epoch 2/1000\n",
      " - 2s - loss: 0.5821 - raw_multi_label_accuracy: 0.2012 - val_loss: 0.6161 - val_raw_multi_label_accuracy: 0.1789\n",
      "Epoch 3/1000\n",
      " - 2s - loss: 0.5636 - raw_multi_label_accuracy: 0.2134 - val_loss: 0.6139 - val_raw_multi_label_accuracy: 0.1867\n",
      "Epoch 4/1000\n",
      " - 2s - loss: 0.5422 - raw_multi_label_accuracy: 0.2509 - val_loss: 0.6158 - val_raw_multi_label_accuracy: 0.1103\n",
      "Epoch 5/1000\n",
      " - 3s - loss: 0.5058 - raw_multi_label_accuracy: 0.2913 - val_loss: 0.6169 - val_raw_multi_label_accuracy: 0.1916\n",
      "Epoch 6/1000\n",
      " - 2s - loss: 0.4460 - raw_multi_label_accuracy: 0.4196 - val_loss: 0.6070 - val_raw_multi_label_accuracy: 0.2100\n",
      "Epoch 7/1000\n",
      " - 2s - loss: 0.3570 - raw_multi_label_accuracy: 0.5989 - val_loss: 0.6101 - val_raw_multi_label_accuracy: 0.2275\n",
      "Epoch 8/1000\n",
      " - 2s - loss: 0.2638 - raw_multi_label_accuracy: 0.7434 - val_loss: 0.6254 - val_raw_multi_label_accuracy: 0.2789\n",
      "Epoch 9/1000\n",
      " - 2s - loss: 0.1812 - raw_multi_label_accuracy: 0.8535 - val_loss: 0.6325 - val_raw_multi_label_accuracy: 0.2547\n",
      "Epoch 10/1000\n",
      " - 2s - loss: 0.1223 - raw_multi_label_accuracy: 0.9240 - val_loss: 0.6542 - val_raw_multi_label_accuracy: 0.2578\n",
      "Epoch 11/1000\n",
      " - 2s - loss: 0.0815 - raw_multi_label_accuracy: 0.9585 - val_loss: 0.6998 - val_raw_multi_label_accuracy: 0.2434\n",
      "Epoch 12/1000\n",
      " - 2s - loss: 0.0537 - raw_multi_label_accuracy: 0.9809 - val_loss: 0.7461 - val_raw_multi_label_accuracy: 0.2412\n",
      "Epoch 13/1000\n",
      " - 2s - loss: 0.0370 - raw_multi_label_accuracy: 0.9903 - val_loss: 0.7888 - val_raw_multi_label_accuracy: 0.2576\n",
      "Epoch 14/1000\n",
      " - 2s - loss: 0.0259 - raw_multi_label_accuracy: 0.9951 - val_loss: 0.8026 - val_raw_multi_label_accuracy: 0.2680\n",
      "Epoch 15/1000\n",
      " - 2s - loss: 0.0190 - raw_multi_label_accuracy: 0.9979 - val_loss: 0.8440 - val_raw_multi_label_accuracy: 0.2591\n",
      "Epoch 16/1000\n",
      " - 2s - loss: 0.0146 - raw_multi_label_accuracy: 0.9995 - val_loss: 0.8654 - val_raw_multi_label_accuracy: 0.2625\n",
      "Epoch 17/1000\n",
      " - 2s - loss: 0.0115 - raw_multi_label_accuracy: 0.9997 - val_loss: 0.8785 - val_raw_multi_label_accuracy: 0.2609\n",
      "Epoch 18/1000\n",
      " - 2s - loss: 0.0094 - raw_multi_label_accuracy: 0.9997 - val_loss: 0.8847 - val_raw_multi_label_accuracy: 0.2875\n",
      "Epoch 19/1000\n",
      " - 2s - loss: 0.0077 - raw_multi_label_accuracy: 0.9997 - val_loss: 0.9114 - val_raw_multi_label_accuracy: 0.2766\n",
      "Epoch 20/1000\n",
      " - 2s - loss: 0.0065 - raw_multi_label_accuracy: 0.9997 - val_loss: 0.9158 - val_raw_multi_label_accuracy: 0.2739\n",
      "Epoch 21/1000\n",
      " - 2s - loss: 0.0055 - raw_multi_label_accuracy: 0.9998 - val_loss: 0.9402 - val_raw_multi_label_accuracy: 0.2759\n",
      "Epoch 22/1000\n",
      " - 2s - loss: 0.0047 - raw_multi_label_accuracy: 0.9997 - val_loss: 0.9725 - val_raw_multi_label_accuracy: 0.2553\n",
      "Epoch 23/1000\n",
      " - 2s - loss: 0.0041 - raw_multi_label_accuracy: 0.9997 - val_loss: 0.9771 - val_raw_multi_label_accuracy: 0.2728\n",
      "Epoch 24/1000\n",
      " - 2s - loss: 0.0036 - raw_multi_label_accuracy: 0.9997 - val_loss: 0.9941 - val_raw_multi_label_accuracy: 0.2711\n",
      "Epoch 25/1000\n",
      " - 2s - loss: 0.0032 - raw_multi_label_accuracy: 0.9997 - val_loss: 1.0077 - val_raw_multi_label_accuracy: 0.2728\n",
      "Epoch 26/1000\n",
      " - 2s - loss: 0.0029 - raw_multi_label_accuracy: 0.9997 - val_loss: 1.0231 - val_raw_multi_label_accuracy: 0.2709\n",
      "Epoch 27/1000\n",
      " - 2s - loss: 0.0026 - raw_multi_label_accuracy: 0.9997 - val_loss: 1.0331 - val_raw_multi_label_accuracy: 0.2702\n",
      "Epoch 28/1000\n",
      " - 2s - loss: 0.0024 - raw_multi_label_accuracy: 0.9997 - val_loss: 1.0268 - val_raw_multi_label_accuracy: 0.2768\n",
      "Epoch 29/1000\n",
      " - 2s - loss: 0.0021 - raw_multi_label_accuracy: 0.9997 - val_loss: 1.0486 - val_raw_multi_label_accuracy: 0.2730\n",
      "Epoch 30/1000\n",
      " - 2s - loss: 0.0019 - raw_multi_label_accuracy: 0.9997 - val_loss: 1.0513 - val_raw_multi_label_accuracy: 0.2746\n",
      "Epoch 31/1000\n",
      " - 2s - loss: 0.0018 - raw_multi_label_accuracy: 1.0000 - val_loss: 1.0720 - val_raw_multi_label_accuracy: 0.2770\n",
      "Epoch 32/1000\n",
      " - 2s - loss: 0.0016 - raw_multi_label_accuracy: 1.0000 - val_loss: 1.0720 - val_raw_multi_label_accuracy: 0.2687\n",
      "Epoch 33/1000\n",
      " - 2s - loss: 0.0015 - raw_multi_label_accuracy: 1.0000 - val_loss: 1.0760 - val_raw_multi_label_accuracy: 0.2781\n",
      "Epoch 34/1000\n",
      " - 2s - loss: 0.0014 - raw_multi_label_accuracy: 1.0000 - val_loss: 1.0897 - val_raw_multi_label_accuracy: 0.2703\n",
      "Epoch 35/1000\n",
      " - 2s - loss: 0.0013 - raw_multi_label_accuracy: 1.0000 - val_loss: 1.0971 - val_raw_multi_label_accuracy: 0.2770\n",
      "Epoch 36/1000\n",
      " - 2s - loss: 0.0012 - raw_multi_label_accuracy: 1.0000 - val_loss: 1.1141 - val_raw_multi_label_accuracy: 0.2662\n",
      "Epoch 37/1000\n",
      " - 2s - loss: 0.0011 - raw_multi_label_accuracy: 1.0000 - val_loss: 1.1117 - val_raw_multi_label_accuracy: 0.2793\n",
      "Epoch 38/1000\n",
      " - 2s - loss: 0.0010 - raw_multi_label_accuracy: 1.0000 - val_loss: 1.1243 - val_raw_multi_label_accuracy: 0.2709\n",
      "Epoch 39/1000\n",
      " - 3s - loss: 9.6381e-04 - raw_multi_label_accuracy: 1.0000 - val_loss: 1.1302 - val_raw_multi_label_accuracy: 0.2761\n",
      "Epoch 40/1000\n",
      " - 2s - loss: 9.0697e-04 - raw_multi_label_accuracy: 1.0000 - val_loss: 1.1325 - val_raw_multi_label_accuracy: 0.2744\n",
      "Epoch 41/1000\n",
      " - 2s - loss: 8.4900e-04 - raw_multi_label_accuracy: 1.0000 - val_loss: 1.1388 - val_raw_multi_label_accuracy: 0.2741\n",
      "Epoch 42/1000\n",
      " - 2s - loss: 8.0243e-04 - raw_multi_label_accuracy: 1.0000 - val_loss: 1.1545 - val_raw_multi_label_accuracy: 0.2683\n",
      "Time to train with cross validation for early stopping: 82.97319889068604 seconds\n"
     ]
    }
   ],
   "source": [
    "normal_nn = Sequential()\n",
    "e = Embedding(num_words_kept, word_vec_len, weights=[embedding_matrix], input_length=max_seq_len, trainable=True)\n",
    "normal_nn.add(e)\n",
    "normal_nn.add(Flatten())\n",
    "normal_nn.add(Dense(256, activation='relu'))\n",
    "normal_nn.add(Dense(len(genre_dict), activation='sigmoid'))\n",
    "normal_nn.compile(loss='binary_crossentropy', optimizer='adam', metrics=[raw_multi_label_accuracy])\n",
    "start = time.time()\n",
    "normal_nn.fit(x_train_seq, y_train, validation_split = .1, callbacks = [DelayedEarlyStopping(monitor = 'val_raw_multi_label_accuracy', patience = 5, delay=25)], epochs=1000, batch_size=100, verbose=2)\n",
    "end = time.time()\n",
    "print('Time to train with cross validation for early stopping: ' + str(end-start) + ' seconds')"
   ]
  },
  {
   "cell_type": "code",
   "execution_count": 31,
   "metadata": {},
   "outputs": [],
   "source": [
    "predictions = nn_output_to_predictions(normal_nn.predict(x_test_seq))"
   ]
  },
  {
   "cell_type": "code",
   "execution_count": 32,
   "metadata": {},
   "outputs": [
    {
     "name": "stdout",
     "output_type": "stream",
     "text": [
      "Getting evaluation metrics for each label:\n",
      "Accuruacy for Action-Adventure: 0.6875\n",
      "Precision for Action-Adventure: 0.5463917525773195\n",
      "Recall for Action-Adventure: 0.2804232804232804\n",
      "\n",
      "Accuruacy for Romance: 0.796875\n",
      "Precision for Romance: 0.4444444444444444\n",
      "Recall for Romance: 0.06956521739130435\n",
      "\n",
      "Accuruacy for Horror-Thriller: 0.6458333333333334\n",
      "Precision for Horror-Thriller: 0.4444444444444444\n",
      "Recall for Horror-Thriller: 0.18461538461538463\n",
      "\n",
      "Accuruacy for Comedy: 0.6284722222222222\n",
      "Precision for Comedy: 0.4044943820224719\n",
      "Recall for Comedy: 0.18274111675126903\n",
      "\n",
      "Accuruacy for Science Fiction: 0.8333333333333334\n",
      "Precision for Science Fiction: 0.59375\n",
      "Recall for Science Fiction: 0.18627450980392157\n",
      "\n",
      "Accuruacy for Drama: 0.5729166666666666\n",
      "Precision for Drama: 0.5609065155807366\n",
      "Recall for Drama: 0.6851211072664359\n",
      "\n",
      "Getting evaluations for multilabel problem\n",
      "Multilabel accuracy: 0.2873842592592595\n",
      "Multilabel precision: 0.533571915473756\n",
      "Multilabel recall: 0.3373842592592594\n",
      "Percent of correctly decided label decisions: 69.41550925925925\n"
     ]
    }
   ],
   "source": [
    "get_all_metrics(y_test, predictions)"
   ]
  },
  {
   "cell_type": "markdown",
   "metadata": {},
   "source": [
    "LSTM"
   ]
  },
  {
   "cell_type": "code",
   "execution_count": 33,
   "metadata": {},
   "outputs": [
    {
     "name": "stdout",
     "output_type": "stream",
     "text": [
      "Train on 2072 samples, validate on 231 samples\n",
      "Epoch 1/1000\n",
      " - 11s - loss: 0.6269 - raw_multi_label_accuracy: 0.0951 - val_loss: 0.6041 - val_raw_multi_label_accuracy: 0.2182\n",
      "Epoch 2/1000\n",
      " - 9s - loss: 0.5917 - raw_multi_label_accuracy: 0.2306 - val_loss: 0.6009 - val_raw_multi_label_accuracy: 0.2182\n",
      "Epoch 3/1000\n",
      " - 9s - loss: 0.5887 - raw_multi_label_accuracy: 0.2305 - val_loss: 0.5992 - val_raw_multi_label_accuracy: 0.2182\n",
      "Epoch 4/1000\n",
      " - 9s - loss: 0.5873 - raw_multi_label_accuracy: 0.2282 - val_loss: 0.5994 - val_raw_multi_label_accuracy: 0.2182\n",
      "Epoch 5/1000\n",
      " - 8s - loss: 0.5869 - raw_multi_label_accuracy: 0.2306 - val_loss: 0.5994 - val_raw_multi_label_accuracy: 0.2182\n",
      "Epoch 6/1000\n",
      " - 8s - loss: 0.5842 - raw_multi_label_accuracy: 0.2306 - val_loss: 0.5968 - val_raw_multi_label_accuracy: 0.2182\n",
      "Epoch 7/1000\n",
      " - 8s - loss: 0.5802 - raw_multi_label_accuracy: 0.2077 - val_loss: 0.5940 - val_raw_multi_label_accuracy: 0.2151\n",
      "Epoch 8/1000\n",
      " - 8s - loss: 0.5611 - raw_multi_label_accuracy: 0.2060 - val_loss: 0.5885 - val_raw_multi_label_accuracy: 0.1193\n",
      "Epoch 9/1000\n",
      " - 8s - loss: 0.5120 - raw_multi_label_accuracy: 0.2970 - val_loss: 0.5566 - val_raw_multi_label_accuracy: 0.2595\n",
      "Epoch 10/1000\n",
      " - 8s - loss: 0.4521 - raw_multi_label_accuracy: 0.4381 - val_loss: 0.5412 - val_raw_multi_label_accuracy: 0.3269\n",
      "Epoch 11/1000\n",
      " - 8s - loss: 0.3908 - raw_multi_label_accuracy: 0.5353 - val_loss: 0.5422 - val_raw_multi_label_accuracy: 0.3432\n",
      "Epoch 12/1000\n",
      " - 8s - loss: 0.3384 - raw_multi_label_accuracy: 0.6045 - val_loss: 0.5903 - val_raw_multi_label_accuracy: 0.3318\n",
      "Epoch 13/1000\n",
      " - 8s - loss: 0.2924 - raw_multi_label_accuracy: 0.6522 - val_loss: 0.6168 - val_raw_multi_label_accuracy: 0.3407\n",
      "Epoch 14/1000\n",
      " - 8s - loss: 0.2510 - raw_multi_label_accuracy: 0.6989 - val_loss: 0.6617 - val_raw_multi_label_accuracy: 0.3247\n",
      "Epoch 15/1000\n",
      " - 8s - loss: 0.2205 - raw_multi_label_accuracy: 0.7355 - val_loss: 0.7440 - val_raw_multi_label_accuracy: 0.3295\n",
      "Epoch 16/1000\n",
      " - 8s - loss: 0.1922 - raw_multi_label_accuracy: 0.7691 - val_loss: 0.7447 - val_raw_multi_label_accuracy: 0.3320\n",
      "Epoch 17/1000\n",
      " - 8s - loss: 0.1694 - raw_multi_label_accuracy: 0.7987 - val_loss: 0.8270 - val_raw_multi_label_accuracy: 0.3303\n",
      "Epoch 18/1000\n",
      " - 9s - loss: 0.1495 - raw_multi_label_accuracy: 0.8207 - val_loss: 0.9223 - val_raw_multi_label_accuracy: 0.3201\n",
      "Epoch 19/1000\n",
      " - 8s - loss: 0.1411 - raw_multi_label_accuracy: 0.8388 - val_loss: 0.8566 - val_raw_multi_label_accuracy: 0.3307\n",
      "Epoch 20/1000\n",
      " - 8s - loss: 0.1282 - raw_multi_label_accuracy: 0.8415 - val_loss: 0.9006 - val_raw_multi_label_accuracy: 0.3280\n",
      "Epoch 21/1000\n",
      " - 8s - loss: 0.1158 - raw_multi_label_accuracy: 0.8595 - val_loss: 1.0293 - val_raw_multi_label_accuracy: 0.3356\n",
      "Epoch 22/1000\n",
      " - 8s - loss: 0.1012 - raw_multi_label_accuracy: 0.8755 - val_loss: 1.1033 - val_raw_multi_label_accuracy: 0.3368\n",
      "Epoch 23/1000\n",
      " - 8s - loss: 0.0949 - raw_multi_label_accuracy: 0.8864 - val_loss: 1.1303 - val_raw_multi_label_accuracy: 0.3262\n",
      "Epoch 24/1000\n",
      " - 8s - loss: 0.0870 - raw_multi_label_accuracy: 0.8976 - val_loss: 1.1843 - val_raw_multi_label_accuracy: 0.3318\n",
      "Epoch 25/1000\n",
      " - 9s - loss: 0.0781 - raw_multi_label_accuracy: 0.9066 - val_loss: 1.2078 - val_raw_multi_label_accuracy: 0.3396\n",
      "Epoch 26/1000\n",
      " - 8s - loss: 0.0720 - raw_multi_label_accuracy: 0.9193 - val_loss: 1.1709 - val_raw_multi_label_accuracy: 0.3352\n",
      "Epoch 27/1000\n",
      " - 8s - loss: 0.0619 - raw_multi_label_accuracy: 0.9349 - val_loss: 1.3135 - val_raw_multi_label_accuracy: 0.3287\n",
      "Epoch 28/1000\n",
      " - 8s - loss: 0.0565 - raw_multi_label_accuracy: 0.9368 - val_loss: 1.2824 - val_raw_multi_label_accuracy: 0.3317\n",
      "Epoch 29/1000\n",
      " - 8s - loss: 0.0504 - raw_multi_label_accuracy: 0.9437 - val_loss: 1.3626 - val_raw_multi_label_accuracy: 0.3539\n",
      "Epoch 30/1000\n",
      " - 9s - loss: 0.0506 - raw_multi_label_accuracy: 0.9386 - val_loss: 1.3254 - val_raw_multi_label_accuracy: 0.3363\n",
      "Epoch 31/1000\n",
      " - 9s - loss: 0.0464 - raw_multi_label_accuracy: 0.9463 - val_loss: 1.4920 - val_raw_multi_label_accuracy: 0.3329\n",
      "Epoch 32/1000\n",
      " - 9s - loss: 0.0425 - raw_multi_label_accuracy: 0.9470 - val_loss: 1.4919 - val_raw_multi_label_accuracy: 0.3330\n",
      "Epoch 33/1000\n",
      " - 8s - loss: 0.0391 - raw_multi_label_accuracy: 0.9535 - val_loss: 1.4040 - val_raw_multi_label_accuracy: 0.3282\n",
      "Epoch 34/1000\n",
      " - 8s - loss: 0.0368 - raw_multi_label_accuracy: 0.9581 - val_loss: 1.4180 - val_raw_multi_label_accuracy: 0.3360\n",
      "Time to train with cross validation for early stopping: 289.4266617298126 seconds\n"
     ]
    }
   ],
   "source": [
    "lstm_model = Sequential()\n",
    "e = Embedding(num_words_kept, word_vec_len, weights=[embedding_matrix], input_length=max_seq_len, trainable=True)\n",
    "lstm_model.add(e)\n",
    "lstm_model.add(LSTM(100, dropout=0.25, recurrent_dropout=0.25))\n",
    "lstm_model.add(Dense(256, activation='relu'))\n",
    "lstm_model.add(Dense(len(genre_dict), activation='sigmoid'))\n",
    "lstm_model.compile(loss='binary_crossentropy', optimizer='adam', metrics=[raw_multi_label_accuracy])\n",
    "start = time.time()\n",
    "lstm_model.fit(x_train_seq, y_train, validation_split = .1, callbacks = [DelayedEarlyStopping(monitor = 'val_raw_multi_label_accuracy', patience = 5, delay=25)], epochs=1000, batch_size=100, verbose=2)\n",
    "end = time.time()\n",
    "print('Time to train with cross validation for early stopping: ' + str(end-start) + ' seconds')"
   ]
  },
  {
   "cell_type": "code",
   "execution_count": 34,
   "metadata": {},
   "outputs": [],
   "source": [
    "predictions = nn_output_to_predictions(lstm_model.predict(x_test_seq))"
   ]
  },
  {
   "cell_type": "code",
   "execution_count": 35,
   "metadata": {},
   "outputs": [
    {
     "name": "stdout",
     "output_type": "stream",
     "text": [
      "Getting evaluation metrics for each label:\n",
      "Accuruacy for Action-Adventure: 0.6371527777777778\n",
      "Precision for Action-Adventure: 0.45535714285714285\n",
      "Recall for Action-Adventure: 0.5396825396825397\n",
      "\n",
      "Accuruacy for Romance: 0.765625\n",
      "Precision for Romance: 0.4019607843137255\n",
      "Recall for Romance: 0.3565217391304348\n",
      "\n",
      "Accuruacy for Horror-Thriller: 0.6440972222222222\n",
      "Precision for Horror-Thriller: 0.4742268041237113\n",
      "Recall for Horror-Thriller: 0.4717948717948718\n",
      "\n",
      "Accuruacy for Comedy: 0.6232638888888888\n",
      "Precision for Comedy: 0.45535714285714285\n",
      "Recall for Comedy: 0.5177664974619289\n",
      "\n",
      "Accuruacy for Science Fiction: 0.8263888888888888\n",
      "Precision for Science Fiction: 0.525\n",
      "Recall for Science Fiction: 0.20588235294117646\n",
      "\n",
      "Accuruacy for Drama: 0.5711805555555556\n",
      "Precision for Drama: 0.5570652173913043\n",
      "Recall for Drama: 0.7093425605536332\n",
      "\n",
      "Getting evaluations for multilabel problem\n",
      "Multilabel accuracy: 0.37777777777777816\n",
      "Multilabel precision: 0.5026041666666666\n",
      "Multilabel recall: 0.5389467592592593\n",
      "Percent of correctly decided label decisions: 67.79513888888889\n"
     ]
    }
   ],
   "source": [
    "get_all_metrics(y_test, predictions)"
   ]
  },
  {
   "cell_type": "markdown",
   "metadata": {},
   "source": [
    "simple rnn"
   ]
  },
  {
   "cell_type": "code",
   "execution_count": 36,
   "metadata": {},
   "outputs": [
    {
     "name": "stdout",
     "output_type": "stream",
     "text": [
      "Train on 2072 samples, validate on 231 samples\n",
      "Epoch 1/1000\n",
      " - 2s - loss: 0.6230 - raw_multi_label_accuracy: 0.1786 - val_loss: 0.6098 - val_raw_multi_label_accuracy: 0.2182\n",
      "Epoch 2/1000\n",
      " - 1s - loss: 0.5960 - raw_multi_label_accuracy: 0.2237 - val_loss: 0.6043 - val_raw_multi_label_accuracy: 0.2165\n",
      "Epoch 3/1000\n",
      " - 1s - loss: 0.5844 - raw_multi_label_accuracy: 0.2115 - val_loss: 0.6006 - val_raw_multi_label_accuracy: 0.2165\n",
      "Epoch 4/1000\n",
      " - 1s - loss: 0.5719 - raw_multi_label_accuracy: 0.2292 - val_loss: 0.6005 - val_raw_multi_label_accuracy: 0.2096\n",
      "Epoch 5/1000\n",
      " - 1s - loss: 0.5525 - raw_multi_label_accuracy: 0.2313 - val_loss: 0.5925 - val_raw_multi_label_accuracy: 0.2136\n",
      "Epoch 6/1000\n",
      " - 1s - loss: 0.5156 - raw_multi_label_accuracy: 0.2335 - val_loss: 0.6163 - val_raw_multi_label_accuracy: 0.2081\n",
      "Epoch 7/1000\n",
      " - 1s - loss: 0.4563 - raw_multi_label_accuracy: 0.3149 - val_loss: 0.6233 - val_raw_multi_label_accuracy: 0.1663\n",
      "Epoch 8/1000\n",
      " - 1s - loss: 0.3712 - raw_multi_label_accuracy: 0.4928 - val_loss: 0.7220 - val_raw_multi_label_accuracy: 0.1900\n",
      "Epoch 9/1000\n",
      " - 1s - loss: 0.2814 - raw_multi_label_accuracy: 0.6388 - val_loss: 0.7062 - val_raw_multi_label_accuracy: 0.2142\n",
      "Epoch 10/1000\n",
      " - 1s - loss: 0.2030 - raw_multi_label_accuracy: 0.7798 - val_loss: 0.9701 - val_raw_multi_label_accuracy: 0.2287\n",
      "Epoch 11/1000\n",
      " - 1s - loss: 0.1434 - raw_multi_label_accuracy: 0.8514 - val_loss: 0.8593 - val_raw_multi_label_accuracy: 0.2440\n",
      "Epoch 12/1000\n",
      " - 1s - loss: 0.1065 - raw_multi_label_accuracy: 0.8986 - val_loss: 0.9791 - val_raw_multi_label_accuracy: 0.2635\n",
      "Epoch 13/1000\n",
      " - 1s - loss: 0.0777 - raw_multi_label_accuracy: 0.9262 - val_loss: 1.1334 - val_raw_multi_label_accuracy: 0.2429\n",
      "Epoch 14/1000\n",
      " - 1s - loss: 0.0591 - raw_multi_label_accuracy: 0.9453 - val_loss: 1.3265 - val_raw_multi_label_accuracy: 0.2384\n",
      "Epoch 15/1000\n",
      " - 1s - loss: 0.0437 - raw_multi_label_accuracy: 0.9604 - val_loss: 1.3797 - val_raw_multi_label_accuracy: 0.2488\n",
      "Epoch 16/1000\n",
      " - 1s - loss: 0.0334 - raw_multi_label_accuracy: 0.9692 - val_loss: 1.4111 - val_raw_multi_label_accuracy: 0.2480\n",
      "Epoch 17/1000\n",
      " - 1s - loss: 0.0266 - raw_multi_label_accuracy: 0.9805 - val_loss: 1.6410 - val_raw_multi_label_accuracy: 0.2523\n",
      "Epoch 18/1000\n",
      " - 1s - loss: 0.0229 - raw_multi_label_accuracy: 0.9825 - val_loss: 1.5411 - val_raw_multi_label_accuracy: 0.2698\n",
      "Epoch 19/1000\n",
      " - 1s - loss: 0.0191 - raw_multi_label_accuracy: 0.9846 - val_loss: 1.5481 - val_raw_multi_label_accuracy: 0.2556\n",
      "Epoch 20/1000\n",
      " - 1s - loss: 0.0157 - raw_multi_label_accuracy: 0.9914 - val_loss: 1.7349 - val_raw_multi_label_accuracy: 0.2454\n",
      "Epoch 21/1000\n",
      " - 1s - loss: 0.0121 - raw_multi_label_accuracy: 0.9947 - val_loss: 1.7139 - val_raw_multi_label_accuracy: 0.2627\n",
      "Epoch 22/1000\n",
      " - 1s - loss: 0.0107 - raw_multi_label_accuracy: 0.9944 - val_loss: 1.7407 - val_raw_multi_label_accuracy: 0.2654\n",
      "Epoch 23/1000\n",
      " - 1s - loss: 0.0082 - raw_multi_label_accuracy: 0.9957 - val_loss: 1.7388 - val_raw_multi_label_accuracy: 0.2753\n",
      "Epoch 24/1000\n",
      " - 1s - loss: 0.0062 - raw_multi_label_accuracy: 0.9970 - val_loss: 1.7715 - val_raw_multi_label_accuracy: 0.2758\n",
      "Epoch 25/1000\n",
      " - 1s - loss: 0.0052 - raw_multi_label_accuracy: 0.9970 - val_loss: 1.8966 - val_raw_multi_label_accuracy: 0.2524\n",
      "Epoch 26/1000\n",
      " - 1s - loss: 0.0039 - raw_multi_label_accuracy: 0.9993 - val_loss: 1.8684 - val_raw_multi_label_accuracy: 0.2689\n",
      "Epoch 27/1000\n",
      " - 1s - loss: 0.0030 - raw_multi_label_accuracy: 0.9993 - val_loss: 1.9012 - val_raw_multi_label_accuracy: 0.2654\n",
      "Epoch 28/1000\n",
      " - 1s - loss: 0.0028 - raw_multi_label_accuracy: 0.9992 - val_loss: 1.9072 - val_raw_multi_label_accuracy: 0.2619\n",
      "Epoch 29/1000\n",
      " - 1s - loss: 0.0025 - raw_multi_label_accuracy: 0.9992 - val_loss: 2.0437 - val_raw_multi_label_accuracy: 0.2684\n",
      "Epoch 30/1000\n",
      " - 1s - loss: 0.0021 - raw_multi_label_accuracy: 0.9995 - val_loss: 2.0201 - val_raw_multi_label_accuracy: 0.2577\n",
      "Epoch 31/1000\n",
      " - 1s - loss: 0.0019 - raw_multi_label_accuracy: 0.9990 - val_loss: 2.0954 - val_raw_multi_label_accuracy: 0.2690\n",
      "Epoch 32/1000\n",
      " - 1s - loss: 0.0014 - raw_multi_label_accuracy: 0.9995 - val_loss: 2.1489 - val_raw_multi_label_accuracy: 0.2591\n",
      "Epoch 33/1000\n",
      " - 1s - loss: 0.0011 - raw_multi_label_accuracy: 0.9998 - val_loss: 2.1476 - val_raw_multi_label_accuracy: 0.2530\n",
      "Epoch 34/1000\n",
      " - 1s - loss: 9.8326e-04 - raw_multi_label_accuracy: 0.9997 - val_loss: 2.2184 - val_raw_multi_label_accuracy: 0.2528\n",
      "Epoch 35/1000\n",
      " - 1s - loss: 8.9163e-04 - raw_multi_label_accuracy: 0.9997 - val_loss: 2.1854 - val_raw_multi_label_accuracy: 0.2518\n",
      "Epoch 36/1000\n",
      " - 1s - loss: 8.1606e-04 - raw_multi_label_accuracy: 0.9998 - val_loss: 2.2391 - val_raw_multi_label_accuracy: 0.2591\n",
      "Time to train with cross validation for early stopping: 49.51201605796814 seconds\n"
     ]
    }
   ],
   "source": [
    "rnn = Sequential()\n",
    "e = Embedding(num_words_kept, word_vec_len, weights=[embedding_matrix], input_length=max_seq_len, trainable=True)\n",
    "rnn.add(e)\n",
    "rnn.add(SimpleRNN(32, activation = 'relu'))\n",
    "rnn.add(Dense(256, activation='relu'))\n",
    "rnn.add(Dense(len(genre_dict), activation='sigmoid'))\n",
    "rnn.compile(loss='binary_crossentropy', optimizer='adam', metrics=[raw_multi_label_accuracy])\n",
    "start = time.time()\n",
    "rnn.fit(x_train_seq, y_train, validation_split = .1, callbacks = [DelayedEarlyStopping(monitor = 'val_raw_multi_label_accuracy', patience = 5, delay=25)], epochs=1000, batch_size=100, verbose=2)\n",
    "end = time.time()\n",
    "print('Time to train with cross validation for early stopping: ' + str(end-start) + ' seconds')"
   ]
  },
  {
   "cell_type": "code",
   "execution_count": 37,
   "metadata": {},
   "outputs": [],
   "source": [
    "predictions = nn_output_to_predictions(rnn.predict(x_test_seq))"
   ]
  },
  {
   "cell_type": "code",
   "execution_count": 38,
   "metadata": {},
   "outputs": [
    {
     "name": "stdout",
     "output_type": "stream",
     "text": [
      "Getting evaluation metrics for each label:\n",
      "Accuruacy for Action-Adventure: 0.5347222222222222\n",
      "Precision for Action-Adventure: 0.3034825870646766\n",
      "Recall for Action-Adventure: 0.32275132275132273\n",
      "\n",
      "Accuruacy for Romance: 0.7256944444444444\n",
      "Precision for Romance: 0.1791044776119403\n",
      "Recall for Romance: 0.10434782608695652\n",
      "\n",
      "Accuruacy for Horror-Thriller: 0.5798611111111112\n",
      "Precision for Horror-Thriller: 0.3592814371257485\n",
      "Recall for Horror-Thriller: 0.3076923076923077\n",
      "\n",
      "Accuruacy for Comedy: 0.578125\n",
      "Precision for Comedy: 0.3776595744680851\n",
      "Recall for Comedy: 0.3604060913705584\n",
      "\n",
      "Accuruacy for Science Fiction: 0.8368055555555556\n",
      "Precision for Science Fiction: 0.6\n",
      "Recall for Science Fiction: 0.23529411764705882\n",
      "\n",
      "Accuruacy for Drama: 0.5381944444444444\n",
      "Precision for Drama: 0.5343283582089552\n",
      "Recall for Drama: 0.6193771626297578\n",
      "\n",
      "Getting evaluations for multilabel problem\n",
      "Multilabel accuracy: 0.29646990740740764\n",
      "Multilabel precision: 0.42806394316163443\n",
      "Multilabel recall: 0.39782986111111135\n",
      "Percent of correctly decided label decisions: 63.223379629629626\n"
     ]
    }
   ],
   "source": [
    "get_all_metrics(y_test, predictions)"
   ]
  },
  {
   "cell_type": "markdown",
   "metadata": {},
   "source": [
    "bidirectional-LSTM"
   ]
  },
  {
   "cell_type": "code",
   "execution_count": 39,
   "metadata": {},
   "outputs": [
    {
     "name": "stdout",
     "output_type": "stream",
     "text": [
      "Train on 2072 samples, validate on 231 samples\n",
      "Epoch 1/1000\n",
      " - 19s - loss: 0.6259 - raw_multi_label_accuracy: 0.2322 - val_loss: 0.6059 - val_raw_multi_label_accuracy: 0.2182\n",
      "Epoch 2/1000\n",
      " - 16s - loss: 0.5924 - raw_multi_label_accuracy: 0.1620 - val_loss: 0.6024 - val_raw_multi_label_accuracy: 0.2182\n",
      "Epoch 3/1000\n",
      " - 16s - loss: 0.5883 - raw_multi_label_accuracy: 0.2300 - val_loss: 0.5995 - val_raw_multi_label_accuracy: 0.2182\n",
      "Epoch 4/1000\n",
      " - 16s - loss: 0.5876 - raw_multi_label_accuracy: 0.2304 - val_loss: 0.5995 - val_raw_multi_label_accuracy: 0.2182\n",
      "Epoch 5/1000\n",
      " - 16s - loss: 0.5864 - raw_multi_label_accuracy: 0.2276 - val_loss: 0.5996 - val_raw_multi_label_accuracy: 0.2182\n",
      "Epoch 6/1000\n",
      " - 16s - loss: 0.5839 - raw_multi_label_accuracy: 0.2294 - val_loss: 0.5973 - val_raw_multi_label_accuracy: 0.2182\n",
      "Epoch 7/1000\n",
      " - 16s - loss: 0.5747 - raw_multi_label_accuracy: 0.2141 - val_loss: 0.5837 - val_raw_multi_label_accuracy: 0.1728\n",
      "Epoch 8/1000\n",
      " - 16s - loss: 0.5362 - raw_multi_label_accuracy: 0.2473 - val_loss: 0.5552 - val_raw_multi_label_accuracy: 0.2297\n",
      "Epoch 9/1000\n",
      " - 16s - loss: 0.4794 - raw_multi_label_accuracy: 0.3505 - val_loss: 0.5600 - val_raw_multi_label_accuracy: 0.2527\n",
      "Epoch 10/1000\n",
      " - 16s - loss: 0.4533 - raw_multi_label_accuracy: 0.3959 - val_loss: 0.5659 - val_raw_multi_label_accuracy: 0.2217\n",
      "Epoch 11/1000\n",
      " - 16s - loss: 0.4242 - raw_multi_label_accuracy: 0.4324 - val_loss: 0.5773 - val_raw_multi_label_accuracy: 0.2843\n",
      "Epoch 12/1000\n",
      " - 16s - loss: 0.3911 - raw_multi_label_accuracy: 0.4960 - val_loss: 0.5721 - val_raw_multi_label_accuracy: 0.2887\n",
      "Epoch 13/1000\n",
      " - 17s - loss: 0.3481 - raw_multi_label_accuracy: 0.5522 - val_loss: 0.5661 - val_raw_multi_label_accuracy: 0.3158\n",
      "Epoch 14/1000\n",
      " - 21s - loss: 0.3005 - raw_multi_label_accuracy: 0.6179 - val_loss: 0.6005 - val_raw_multi_label_accuracy: 0.3403\n",
      "Epoch 15/1000\n",
      " - 18s - loss: 0.2606 - raw_multi_label_accuracy: 0.6778 - val_loss: 0.6372 - val_raw_multi_label_accuracy: 0.3490\n",
      "Epoch 16/1000\n",
      " - 17s - loss: 0.2212 - raw_multi_label_accuracy: 0.7248 - val_loss: 0.6677 - val_raw_multi_label_accuracy: 0.3170\n",
      "Epoch 17/1000\n",
      " - 16s - loss: 0.1970 - raw_multi_label_accuracy: 0.7641 - val_loss: 0.6975 - val_raw_multi_label_accuracy: 0.3417\n",
      "Epoch 18/1000\n",
      " - 27s - loss: 0.1736 - raw_multi_label_accuracy: 0.7938 - val_loss: 0.6931 - val_raw_multi_label_accuracy: 0.3513\n",
      "Epoch 19/1000\n",
      " - 22s - loss: 0.1398 - raw_multi_label_accuracy: 0.8364 - val_loss: 0.7986 - val_raw_multi_label_accuracy: 0.3569\n",
      "Epoch 20/1000\n",
      " - 32s - loss: 0.1255 - raw_multi_label_accuracy: 0.8513 - val_loss: 0.8032 - val_raw_multi_label_accuracy: 0.3502\n",
      "Epoch 21/1000\n",
      " - 19s - loss: 0.1061 - raw_multi_label_accuracy: 0.8755 - val_loss: 0.8517 - val_raw_multi_label_accuracy: 0.3512\n",
      "Epoch 22/1000\n",
      " - 16s - loss: 0.0856 - raw_multi_label_accuracy: 0.9007 - val_loss: 0.9392 - val_raw_multi_label_accuracy: 0.3525\n",
      "Epoch 23/1000\n",
      " - 16s - loss: 0.0779 - raw_multi_label_accuracy: 0.9104 - val_loss: 0.9608 - val_raw_multi_label_accuracy: 0.3556\n",
      "Epoch 24/1000\n",
      " - 16s - loss: 0.0701 - raw_multi_label_accuracy: 0.9219 - val_loss: 1.0321 - val_raw_multi_label_accuracy: 0.3590\n",
      "Epoch 25/1000\n",
      " - 19s - loss: 0.0623 - raw_multi_label_accuracy: 0.9290 - val_loss: 1.0036 - val_raw_multi_label_accuracy: 0.3792\n",
      "Epoch 26/1000\n",
      " - 16s - loss: 0.0552 - raw_multi_label_accuracy: 0.9346 - val_loss: 1.0384 - val_raw_multi_label_accuracy: 0.3620\n",
      "Epoch 27/1000\n",
      " - 16s - loss: 0.0525 - raw_multi_label_accuracy: 0.9418 - val_loss: 1.1152 - val_raw_multi_label_accuracy: 0.3569\n",
      "Epoch 28/1000\n",
      " - 16s - loss: 0.0489 - raw_multi_label_accuracy: 0.9477 - val_loss: 1.1240 - val_raw_multi_label_accuracy: 0.3650\n",
      "Epoch 29/1000\n",
      " - 16s - loss: 0.0420 - raw_multi_label_accuracy: 0.9514 - val_loss: 1.2347 - val_raw_multi_label_accuracy: 0.3646\n",
      "Epoch 30/1000\n",
      " - 16s - loss: 0.0398 - raw_multi_label_accuracy: 0.9583 - val_loss: 1.1547 - val_raw_multi_label_accuracy: 0.3553\n",
      "Epoch 31/1000\n",
      " - 16s - loss: 0.0351 - raw_multi_label_accuracy: 0.9618 - val_loss: 1.2375 - val_raw_multi_label_accuracy: 0.3665\n",
      "Epoch 32/1000\n",
      " - 16s - loss: 0.0311 - raw_multi_label_accuracy: 0.9698 - val_loss: 1.3199 - val_raw_multi_label_accuracy: 0.3713\n",
      "Epoch 33/1000\n",
      " - 16s - loss: 0.0320 - raw_multi_label_accuracy: 0.9638 - val_loss: 1.2727 - val_raw_multi_label_accuracy: 0.3651\n",
      "Epoch 34/1000\n",
      " - 16s - loss: 0.0275 - raw_multi_label_accuracy: 0.9701 - val_loss: 1.3488 - val_raw_multi_label_accuracy: 0.3683\n",
      "Epoch 35/1000\n",
      " - 16s - loss: 0.0233 - raw_multi_label_accuracy: 0.9761 - val_loss: 1.3823 - val_raw_multi_label_accuracy: 0.3644\n",
      "Epoch 36/1000\n",
      " - 16s - loss: 0.0234 - raw_multi_label_accuracy: 0.9759 - val_loss: 1.4188 - val_raw_multi_label_accuracy: 0.3575\n",
      "Epoch 37/1000\n",
      " - 16s - loss: 0.0223 - raw_multi_label_accuracy: 0.9786 - val_loss: 1.4508 - val_raw_multi_label_accuracy: 0.3620\n",
      "Time to train with cross validation for early stopping: 649.0658183097839 seconds\n"
     ]
    }
   ],
   "source": [
    "bi_lstm = Sequential()\n",
    "e = Embedding(num_words_kept, word_vec_len, weights=[embedding_matrix], input_length=max_seq_len, trainable=True)\n",
    "bi_lstm.add(e)\n",
    "bi_lstm.add(Bidirectional(LSTM(100, dropout=0.25, recurrent_dropout=0.25)))\n",
    "bi_lstm.add(Dense(256, activation='relu'))\n",
    "bi_lstm.add(Dense(len(genre_dict), activation='sigmoid'))\n",
    "bi_lstm.compile(loss='binary_crossentropy', optimizer='adam', metrics=[raw_multi_label_accuracy])\n",
    "start = time.time()\n",
    "bi_lstm.fit(x_train_seq, y_train, validation_split = .1, callbacks = [DelayedEarlyStopping(monitor = 'val_raw_multi_label_accuracy', patience = 5, delay=25)], epochs=1000, batch_size=100, verbose=2)\n",
    "end = time.time()\n",
    "print('Time to train with cross validation for early stopping: ' + str(end-start) + ' seconds')"
   ]
  },
  {
   "cell_type": "code",
   "execution_count": 40,
   "metadata": {},
   "outputs": [],
   "source": [
    "predictions = nn_output_to_predictions(bi_lstm.predict(x_test_seq))"
   ]
  },
  {
   "cell_type": "code",
   "execution_count": 41,
   "metadata": {},
   "outputs": [
    {
     "name": "stdout",
     "output_type": "stream",
     "text": [
      "Getting evaluation metrics for each label:\n",
      "Accuruacy for Action-Adventure: 0.6666666666666666\n",
      "Precision for Action-Adventure: 0.4911242603550296\n",
      "Recall for Action-Adventure: 0.43915343915343913\n",
      "\n",
      "Accuruacy for Romance: 0.78125\n",
      "Precision for Romance: 0.4266666666666667\n",
      "Recall for Romance: 0.2782608695652174\n",
      "\n",
      "Accuruacy for Horror-Thriller: 0.6493055555555556\n",
      "Precision for Horror-Thriller: 0.48717948717948717\n",
      "Recall for Horror-Thriller: 0.6820512820512821\n",
      "\n",
      "Accuruacy for Comedy: 0.6336805555555556\n",
      "Precision for Comedy: 0.46534653465346537\n",
      "Recall for Comedy: 0.47715736040609136\n",
      "\n",
      "Accuruacy for Science Fiction: 0.8246527777777778\n",
      "Precision for Science Fiction: 0.5106382978723404\n",
      "Recall for Science Fiction: 0.23529411764705882\n",
      "\n",
      "Accuruacy for Drama: 0.5520833333333334\n",
      "Precision for Drama: 0.547112462006079\n",
      "Recall for Drama: 0.6228373702422145\n",
      "\n",
      "Getting evaluations for multilabel problem\n",
      "Multilabel accuracy: 0.3789351851851858\n",
      "Multilabel precision: 0.5147569444444445\n",
      "Multilabel recall: 0.5258101851851852\n",
      "Percent of correctly decided label decisions: 68.46064814814814\n"
     ]
    }
   ],
   "source": [
    "get_all_metrics(y_test, predictions)"
   ]
  }
 ],
 "metadata": {
  "kernelspec": {
   "display_name": "Python 3",
   "language": "python",
   "name": "python3"
  },
  "language_info": {
   "codemirror_mode": {
    "name": "ipython",
    "version": 3
   },
   "file_extension": ".py",
   "mimetype": "text/x-python",
   "name": "python",
   "nbconvert_exporter": "python",
   "pygments_lexer": "ipython3",
   "version": "3.6.7"
  }
 },
 "nbformat": 4,
 "nbformat_minor": 2
}
