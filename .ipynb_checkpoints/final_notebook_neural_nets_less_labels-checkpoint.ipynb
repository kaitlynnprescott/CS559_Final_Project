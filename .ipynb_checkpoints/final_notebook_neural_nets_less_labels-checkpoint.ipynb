{
 "cells": [
  {
   "cell_type": "code",
   "execution_count": 1,
   "metadata": {},
   "outputs": [
    {
     "name": "stderr",
     "output_type": "stream",
     "text": [
      "Using TensorFlow backend.\n"
     ]
    }
   ],
   "source": [
    "import numpy as np\n",
    "import pandas as pd\n",
    "#for reading in data properly\n",
    "import ast\n",
    "import json\n",
    "\n",
    "import gensim\n",
    "from gensim.models import Word2Vec\n",
    "\n",
    "from sklearn.model_selection import train_test_split\n",
    "from sklearn import utils\n",
    "from sklearn.metrics import accuracy_score\n",
    "from sklearn.metrics import precision_score\n",
    "from sklearn.metrics import recall_score\n",
    "\n",
    "import re\n",
    "\n",
    "import nltk\n",
    "from nltk.corpus import stopwords\n",
    "from nltk.tokenize import word_tokenize\n",
    "\n",
    "from keras.preprocessing.text import Tokenizer\n",
    "from keras.preprocessing.sequence import pad_sequences\n",
    "import keras.backend as K\n",
    "from keras.callbacks import EarlyStopping\n",
    "from keras.layers import Conv1D, GlobalMaxPooling1D, LSTM, SimpleRNN, Dense, Dropout, Flatten, Bidirectional\n",
    "from keras.layers import Input, concatenate, Activation\n",
    "from keras.layers.embeddings import Embedding\n",
    "from keras.models import Sequential, Model\n",
    "from keras.regularizers import l2\n",
    "\n",
    "stop_words = set(stopwords.words('english'))\n",
    "\n",
    "import time"
   ]
  },
  {
   "cell_type": "markdown",
   "metadata": {},
   "source": [
    "read in the data"
   ]
  },
  {
   "cell_type": "code",
   "execution_count": 2,
   "metadata": {},
   "outputs": [],
   "source": [
    "all_data = pd.read_csv('train.csv')\n",
    "all_data = all_data.dropna(subset=['overview', 'genres']) #drop cols without overview or genre (data we use or labels)"
   ]
  },
  {
   "cell_type": "code",
   "execution_count": 3,
   "metadata": {},
   "outputs": [],
   "source": [
    "#parse each row to get label vectors from json\n",
    "def parse_genres_json(x):\n",
    "    try:\n",
    "        json_genres = json.loads(x.replace(\"'\", '\"'))\n",
    "        numElems = len(json_genres)\n",
    "        ret = [0]*len(genre_dict) #number of genres we are looking at\n",
    "        for i in range(numElems):\n",
    "            genre_str = (json_genres[i]['name'])\n",
    "            if genre_str in genre_map.keys():\n",
    "                ret[genre_dict[genre_map[genre_str]]] = 1\n",
    "        return ret\n",
    "    except Exception as excep:\n",
    "        print('Exception' + str(excep))\n",
    "        return ''"
   ]
  },
  {
   "cell_type": "markdown",
   "metadata": {},
   "source": [
    "Get dictionary for genre to its index in label vector"
   ]
  },
  {
   "cell_type": "code",
   "execution_count": 4,
   "metadata": {},
   "outputs": [
    {
     "data": {
      "text/plain": [
       "{'Action-Adventure': 0,\n",
       " 'Romance': 1,\n",
       " 'Horror-Thriller': 2,\n",
       " 'Comedy': 3,\n",
       " 'Science Fiction': 4}"
      ]
     },
     "execution_count": 4,
     "metadata": {},
     "output_type": "execute_result"
    }
   ],
   "source": [
    "genre_dict = {}\n",
    "genre_dict['Action-Adventure'] = 0\n",
    "genre_dict['Romance'] = 1\n",
    "genre_dict['Horror-Thriller'] = 2\n",
    "genre_dict['Comedy'] = 3\n",
    "genre_dict['Science Fiction'] = 4\n",
    "#genre_dict['Drama'] = 5\n",
    "genre_dict"
   ]
  },
  {
   "cell_type": "code",
   "execution_count": 5,
   "metadata": {},
   "outputs": [],
   "source": [
    "#map original labels to more coarse grained labels\n",
    "genre_map = {}\n",
    "genre_map['Adventure'] = 'Action-Adventure'\n",
    "genre_map['Romance'] = 'Romance'\n",
    "genre_map['Horror'] = 'Horror-Thriller'\n",
    "genre_map['Thriller'] = 'Horror-Thriller'\n",
    "genre_map['Comedy'] = 'Comedy'\n",
    "#genre_map['War'] = 'Action-Adventure'#not sure about this\n",
    "genre_map['Action'] = 'Action-Adventure'\n",
    "genre_map['Science Fiction'] = 'Science Fiction'\n",
    "#genre_map['Drama'] = 'Drama'"
   ]
  },
  {
   "cell_type": "code",
   "execution_count": 6,
   "metadata": {},
   "outputs": [],
   "source": [
    "def getGenresVects():\n",
    "    y = all_data['genres']\n",
    "    ret = y.apply(parse_genres_json)\n",
    "    all_data['genres_vect'] = ret"
   ]
  },
  {
   "cell_type": "code",
   "execution_count": 7,
   "metadata": {},
   "outputs": [],
   "source": [
    "getGenresVects() #get label vectors for genres indexed by indexes in genre_dict"
   ]
  },
  {
   "cell_type": "code",
   "execution_count": 8,
   "metadata": {},
   "outputs": [],
   "source": [
    "#put to lower case, remove punctation, remove stopwords\n",
    "def cleanText(text):\n",
    "    no_stopword_text = [w for w in text.split() if not w in stop_words]\n",
    "    text = ' '.join(no_stopword_text)\n",
    "    text = re.sub(r'[^a-z A-Z0-9]', \"\", text) #maybe shouldn't remove punction between words here?\n",
    "    text = text.lower()\n",
    "    return text\n",
    "\n",
    "all_data['cleanOverview'] = all_data['overview'].apply(cleanText)"
   ]
  },
  {
   "cell_type": "code",
   "execution_count": 9,
   "metadata": {},
   "outputs": [],
   "source": [
    "all_data = all_data[all_data.genres_vect.map(sum) > 0] #drop rows that now have no labels "
   ]
  },
  {
   "cell_type": "code",
   "execution_count": 10,
   "metadata": {},
   "outputs": [],
   "source": [
    "#neural net data only needs a few cols\n",
    "nn_data = all_data[['cleanOverview', 'genres_vect', 'overview']]"
   ]
  },
  {
   "cell_type": "code",
   "execution_count": 11,
   "metadata": {},
   "outputs": [],
   "source": [
    "train, test = train_test_split(nn_data, test_size=0.2, random_state=42)"
   ]
  },
  {
   "cell_type": "markdown",
   "metadata": {},
   "source": [
    "Extract actual features and labels from train and test set"
   ]
  },
  {
   "cell_type": "code",
   "execution_count": 12,
   "metadata": {},
   "outputs": [],
   "source": [
    "#gettrian and test features for classification. Just need text and lables for this\n",
    "x = train['cleanOverview'].values.tolist()\n",
    "y = train['genres_vect']\n",
    "x_test = test['cleanOverview'].values.tolist()\n",
    "y_test = test['genres_vect']"
   ]
  },
  {
   "cell_type": "code",
   "execution_count": 13,
   "metadata": {},
   "outputs": [],
   "source": [
    "#convert labels from array of lists to numpy array\n",
    "\n",
    "y_train = y.tolist()\n",
    "y_train = np.array(y_train)\n",
    "\n",
    "y_test = y_test.tolist()\n",
    "y_test = np.array(y_test)"
   ]
  },
  {
   "cell_type": "markdown",
   "metadata": {},
   "source": [
    "Get initial word embedding vectors"
   ]
  },
  {
   "cell_type": "code",
   "execution_count": 14,
   "metadata": {},
   "outputs": [],
   "source": [
    "tok = [word_tokenize(ov) for ov in x]"
   ]
  },
  {
   "cell_type": "code",
   "execution_count": 15,
   "metadata": {},
   "outputs": [],
   "source": [
    "word_vec_len = 32\n",
    "w2v = Word2Vec(tok, min_count = 2, size=word_vec_len)"
   ]
  },
  {
   "cell_type": "code",
   "execution_count": 16,
   "metadata": {},
   "outputs": [],
   "source": [
    "num_words_kept = 100000 #using 100000 most popular words, use throughout\n",
    "\n",
    "tokenizer = Tokenizer(num_words_kept)\n",
    "tokenizer.fit_on_texts(x)\n",
    "sequences = tokenizer.texts_to_sequences(x)\n",
    "\n",
    "max_seq_len = 150 #larger than averaage but not too large\n",
    "\n",
    "#get actual train features to feed into neural nets for training\n",
    "x_train_seq = pad_sequences(sequences, maxlen=max_seq_len)"
   ]
  },
  {
   "cell_type": "code",
   "execution_count": 17,
   "metadata": {},
   "outputs": [],
   "source": [
    "test_sequences = tokenizer.texts_to_sequences(x_test)\n",
    "#get actual test features to feed into neural nets for testing\n",
    "x_test_seq = pad_sequences(test_sequences, maxlen=max_seq_len)"
   ]
  },
  {
   "cell_type": "markdown",
   "metadata": {},
   "source": [
    "Get word embeddings matrix for start input to neural net"
   ]
  },
  {
   "cell_type": "code",
   "execution_count": 18,
   "metadata": {},
   "outputs": [],
   "source": [
    "#Citation: This technique to get word embeddings comes, with some minor changes, mostly from: \n",
    "#https://towardsdatascience.com/another-twitter-sentiment-analysis-with-python-part-11-cnn-word2vec-41f5e28eda74\n",
    "\n",
    "embeddings_index = {}\n",
    "for w in w2v.wv.vocab.keys():\n",
    "    embeddings_index[w] = w2v.wv[w]\n",
    "\n",
    "\n",
    "embedding_matrix = np.zeros((num_words_kept, word_vec_len))\n",
    "for word, i in tokenizer.word_index.items():\n",
    "    if i >= num_words_kept:\n",
    "        continue\n",
    "    embedding_vector = embeddings_index.get(word)\n",
    "    if embedding_vector is not None:\n",
    "        embedding_matrix[i] = embedding_vector"
   ]
  },
  {
   "cell_type": "markdown",
   "metadata": {},
   "source": [
    "Below we define evlaution metric functions"
   ]
  },
  {
   "cell_type": "code",
   "execution_count": 19,
   "metadata": {},
   "outputs": [],
   "source": [
    "def get_per_label_metrics(real_labels_matrix, predictions_labels_matrix):\n",
    "    for genre in genre_dict.keys():\n",
    "        index = genre_dict[genre]\n",
    "        real_labels_vect = real_labels_matrix[:, index]\n",
    "        prediction_vect = predictions_labels_matrix[:,index]\n",
    "        print(\"Accuruacy for \" + genre + \": \" + str(accuracy_score(real_labels_vect, prediction_vect)))\n",
    "        print(\"Precision for \" + genre + \": \" + str(precision_score(real_labels_vect, prediction_vect)))\n",
    "        print(\"Recall for \" + genre + \": \" + str(recall_score(real_labels_vect, prediction_vect)))\n",
    "        print()"
   ]
  },
  {
   "cell_type": "code",
   "execution_count": 20,
   "metadata": {},
   "outputs": [],
   "source": [
    "#size of intersection of predicted and actual labels divided by size of their union for each datapoint tested on\n",
    "#sum those and then divide by number of datapoints\n",
    "#vectorized for speed\n",
    "def multi_label_accuracy(real_labels_matrix, predictions_labels_matrix):\n",
    "    #binary so set intersection is and operator\n",
    "    intersection = real_labels_matrix & predictions_labels_matrix\n",
    "    #set union for binary is same as or operator\n",
    "    union = real_labels_matrix | predictions_labels_matrix\n",
    "    #sum(array.T) gets number of 1s in row\n",
    "    row_wise_accuracy = sum(intersection.T) / sum(union.T)\n",
    "    return sum(row_wise_accuracy) / real_labels_matrix.shape[0]\n",
    "\n",
    "#size of intersection of predicted and actual labels divided by size of predicted set for each datapoint tested on\n",
    "#sum those and divide by number of datapoints\n",
    "#if no predicted labels, don't count that row towards the precision as that would be undefined\n",
    "def multi_label_precision(real_labels_matrix, predictions_labels_matrix):\n",
    "    #binary so set intersection is and operator\n",
    "    intersection = real_labels_matrix & predictions_labels_matrix\n",
    "    precision_sum = 0\n",
    "    num_rows = 0\n",
    "    for row in range(intersection.shape[0]):\n",
    "        if sum(predictions_labels_matrix[row]) > 0: #if there is at least one prediction for this row\n",
    "            num_rows += 1\n",
    "            precision_sum += sum(intersection[row]) / sum(predictions_labels_matrix[row])\n",
    "    if num_rows == 0:\n",
    "        return 0#no labels predicted at all will give us 0 precision as precision makes no sense here\n",
    "    return precision_sum / num_rows\n",
    "\n",
    "#size of intersection of predicted and actual labels divided by size of real label set for each datapoint tested on\n",
    "#sum those and divide by number of datapoints\n",
    "#all datapoints should have at least 1 real label in this data set\n",
    "#vectorized for speed\n",
    "def multi_label_recall(real_labels_matrix, predictions_labels_matrix):\n",
    "    #binary so set intersection is and operator\n",
    "    intersection = real_labels_matrix & predictions_labels_matrix\n",
    "    #set union for binary is same as or operator\n",
    "    #sum(array.T) gets number of 1s in row\n",
    "    row_wise_recall = sum(intersection.T) / sum(real_labels_matrix.T)\n",
    "    return sum(row_wise_recall) / real_labels_matrix.shape[0]\n",
    "\n",
    "#lower is better. Percent incorrectly chosen labels counting assignment and non-assignment equally\n",
    "def hamming_loss(real_labels_matrix, predictions_labels_matrix):\n",
    "    return (np.logical_xor(real_labels_matrix, predictions_labels_matrix)).sum()/(real_labels_matrix.shape[0] * real_labels_matrix.shape[1])\n",
    "\n",
    "\n",
    "#K is what we imported keras backend as\n",
    "\n",
    "#metric for keras for early stopping\n",
    "#takes in raw labels from kerass (not yet converted to 0 and 1s)\n",
    "#NOT the same as accuracy, this is total labels correctly identified divided by union of total labels\n",
    "#this weights rows with more labels higher, where accruacy does not, but this is still a good metric for early stopping\n",
    "def raw_multi_label_accuracy(y_true, y_pred):\n",
    "    positives = K.greater_equal(y_pred, 0.5)\n",
    "    positives = K.cast(positives, K.floatx())\n",
    "    new_y_pred = positives #+ ((1-positives)*y_pred)\n",
    "    intersection = y_true * new_y_pred\n",
    "    union = 1 -((1-y_true)*(1-new_y_pred))\n",
    "    accuracy = K.sum(intersection) / K.sum(union)\n",
    "    return accuracy\n",
    "    "
   ]
  },
  {
   "cell_type": "code",
   "execution_count": 21,
   "metadata": {},
   "outputs": [],
   "source": [
    "def get_all_metrics(actual_labels, predictions):\n",
    "    print('Getting evaluation metrics for each label:')\n",
    "    get_per_label_metrics(actual_labels, predictions)\n",
    "    print('Getting evaluations for multilabel problem')\n",
    "    print('Multilabel accuracy: ' + str(multi_label_accuracy(actual_labels, predictions)))\n",
    "    print('Multilabel precision: ' + str(multi_label_precision(actual_labels, predictions)))\n",
    "    print('Multilabel recall: ' + str(multi_label_recall(actual_labels, predictions)))\n",
    "    print(\"Percent of correctly decided label decisions: \" + str(100* (1-hamming_loss(actual_labels, predictions))))"
   ]
  },
  {
   "cell_type": "code",
   "execution_count": 22,
   "metadata": {},
   "outputs": [],
   "source": [
    "#for early stopping only after certain number of epochs. wait until delay epochs until early stopping\n",
    "#not same as patience. Want to not even start looking until delay is reached\n",
    "class DelayedEarlyStopping(EarlyStopping):\n",
    "    def __init__(self, monitor, min_delta=0, patience=0, verbose=0, mode='auto', delay = 100):\n",
    "        super(DelayedEarlyStopping, self).__init__(monitor=monitor, min_delta=min_delta, patience=patience,verbose=verbose, mode=mode)\n",
    "        self.delay = delay\n",
    "\n",
    "    def on_epoch_end(self, epoch, logs=None):\n",
    "        if epoch > self.delay:\n",
    "            super().on_epoch_end(epoch, logs)"
   ]
  },
  {
   "cell_type": "code",
   "execution_count": 23,
   "metadata": {},
   "outputs": [],
   "source": [
    "def nn_output_to_predictions(res):\n",
    "    label_predictions = []\n",
    "    for i in range(res.shape[0]):\n",
    "        pred = [0]*len(genre_dict)\n",
    "        for j in range(res.shape[1]):\n",
    "            if res[i][j] >= .5:\n",
    "                pred[j] = 1\n",
    "        label_predictions.append(pred)\n",
    "    return np.array(label_predictions)"
   ]
  },
  {
   "cell_type": "markdown",
   "metadata": {},
   "source": [
    "Convolutional Neural Networks"
   ]
  },
  {
   "cell_type": "code",
   "execution_count": 24,
   "metadata": {
    "scrolled": true
   },
   "outputs": [
    {
     "name": "stdout",
     "output_type": "stream",
     "text": [
      "WARNING:tensorflow:From /home/matt/.local/lib/python3.6/site-packages/tensorflow/python/framework/op_def_library.py:263: colocate_with (from tensorflow.python.framework.ops) is deprecated and will be removed in a future version.\n",
      "Instructions for updating:\n",
      "Colocations handled automatically by placer.\n",
      "WARNING:tensorflow:From /home/matt/.local/lib/python3.6/site-packages/keras/backend/tensorflow_backend.py:3445: calling dropout (from tensorflow.python.ops.nn_ops) with keep_prob is deprecated and will be removed in a future version.\n",
      "Instructions for updating:\n",
      "Please use `rate` instead of `keep_prob`. Rate should be set to `rate = 1 - keep_prob`.\n",
      "WARNING:tensorflow:From /home/matt/.local/lib/python3.6/site-packages/tensorflow/python/ops/math_ops.py:3066: to_int32 (from tensorflow.python.ops.math_ops) is deprecated and will be removed in a future version.\n",
      "Instructions for updating:\n",
      "Use tf.cast instead.\n",
      "WARNING:tensorflow:From /home/matt/.local/lib/python3.6/site-packages/tensorflow/python/ops/math_grad.py:102: div (from tensorflow.python.ops.math_ops) is deprecated and will be removed in a future version.\n",
      "Instructions for updating:\n",
      "Deprecated in favor of operator or tf.math.divide.\n",
      "Train on 1738 samples, validate on 194 samples\n",
      "Epoch 1/1000\n",
      " - 2s - loss: 0.7068 - raw_multi_label_accuracy: 0.0811 - val_loss: 0.6563 - val_raw_multi_label_accuracy: 0.0000e+00\n",
      "Epoch 2/1000\n",
      " - 1s - loss: 0.6603 - raw_multi_label_accuracy: 0.0669 - val_loss: 0.6390 - val_raw_multi_label_accuracy: 0.0000e+00\n",
      "Epoch 3/1000\n",
      " - 2s - loss: 0.6441 - raw_multi_label_accuracy: 0.0310 - val_loss: 0.6279 - val_raw_multi_label_accuracy: 0.0000e+00\n",
      "Epoch 4/1000\n",
      " - 1s - loss: 0.6285 - raw_multi_label_accuracy: 0.0191 - val_loss: 0.6200 - val_raw_multi_label_accuracy: 0.0000e+00\n",
      "Epoch 5/1000\n",
      " - 1s - loss: 0.6163 - raw_multi_label_accuracy: 0.0132 - val_loss: 0.6117 - val_raw_multi_label_accuracy: 0.0000e+00\n",
      "Epoch 6/1000\n",
      " - 1s - loss: 0.6011 - raw_multi_label_accuracy: 0.0218 - val_loss: 0.6060 - val_raw_multi_label_accuracy: 0.0000e+00\n",
      "Epoch 7/1000\n",
      " - 1s - loss: 0.5710 - raw_multi_label_accuracy: 0.1254 - val_loss: 0.6009 - val_raw_multi_label_accuracy: 0.0201\n",
      "Epoch 8/1000\n",
      " - 1s - loss: 0.5105 - raw_multi_label_accuracy: 0.3829 - val_loss: 0.5897 - val_raw_multi_label_accuracy: 0.0769\n",
      "Epoch 9/1000\n",
      " - 1s - loss: 0.4192 - raw_multi_label_accuracy: 0.5772 - val_loss: 0.5869 - val_raw_multi_label_accuracy: 0.1654\n",
      "Epoch 10/1000\n",
      " - 1s - loss: 0.3437 - raw_multi_label_accuracy: 0.6607 - val_loss: 0.6052 - val_raw_multi_label_accuracy: 0.2050\n",
      "Epoch 11/1000\n",
      " - 1s - loss: 0.2941 - raw_multi_label_accuracy: 0.7177 - val_loss: 0.6253 - val_raw_multi_label_accuracy: 0.1858\n",
      "Epoch 12/1000\n",
      " - 1s - loss: 0.2587 - raw_multi_label_accuracy: 0.7681 - val_loss: 0.6463 - val_raw_multi_label_accuracy: 0.1958\n",
      "Epoch 13/1000\n",
      " - 1s - loss: 0.2320 - raw_multi_label_accuracy: 0.8031 - val_loss: 0.6666 - val_raw_multi_label_accuracy: 0.1976\n",
      "Epoch 14/1000\n",
      " - 1s - loss: 0.2093 - raw_multi_label_accuracy: 0.8316 - val_loss: 0.6833 - val_raw_multi_label_accuracy: 0.2102\n",
      "Epoch 15/1000\n",
      " - 1s - loss: 0.1865 - raw_multi_label_accuracy: 0.8632 - val_loss: 0.6973 - val_raw_multi_label_accuracy: 0.2259\n",
      "Epoch 16/1000\n",
      " - 1s - loss: 0.1638 - raw_multi_label_accuracy: 0.8781 - val_loss: 0.7139 - val_raw_multi_label_accuracy: 0.2446\n",
      "Epoch 17/1000\n",
      " - 1s - loss: 0.1455 - raw_multi_label_accuracy: 0.9076 - val_loss: 0.7296 - val_raw_multi_label_accuracy: 0.2371\n",
      "Epoch 18/1000\n",
      " - 1s - loss: 0.1257 - raw_multi_label_accuracy: 0.9269 - val_loss: 0.7453 - val_raw_multi_label_accuracy: 0.2370\n",
      "Epoch 19/1000\n",
      " - 1s - loss: 0.1112 - raw_multi_label_accuracy: 0.9450 - val_loss: 0.7634 - val_raw_multi_label_accuracy: 0.2556\n",
      "Epoch 20/1000\n",
      " - 1s - loss: 0.1010 - raw_multi_label_accuracy: 0.9543 - val_loss: 0.7704 - val_raw_multi_label_accuracy: 0.2473\n",
      "Epoch 21/1000\n",
      " - 1s - loss: 0.0895 - raw_multi_label_accuracy: 0.9662 - val_loss: 0.7857 - val_raw_multi_label_accuracy: 0.2760\n",
      "Epoch 22/1000\n",
      " - 1s - loss: 0.0830 - raw_multi_label_accuracy: 0.9714 - val_loss: 0.8060 - val_raw_multi_label_accuracy: 0.2797\n",
      "Epoch 23/1000\n",
      " - 1s - loss: 0.0771 - raw_multi_label_accuracy: 0.9749 - val_loss: 0.8222 - val_raw_multi_label_accuracy: 0.2764\n",
      "Epoch 24/1000\n",
      " - 1s - loss: 0.0723 - raw_multi_label_accuracy: 0.9793 - val_loss: 0.8192 - val_raw_multi_label_accuracy: 0.2905\n",
      "Epoch 25/1000\n",
      " - 1s - loss: 0.0667 - raw_multi_label_accuracy: 0.9834 - val_loss: 0.8251 - val_raw_multi_label_accuracy: 0.2836\n",
      "Epoch 26/1000\n",
      " - 1s - loss: 0.0656 - raw_multi_label_accuracy: 0.9830 - val_loss: 0.8399 - val_raw_multi_label_accuracy: 0.2807\n",
      "Epoch 27/1000\n",
      " - 1s - loss: 0.0614 - raw_multi_label_accuracy: 0.9836 - val_loss: 0.8484 - val_raw_multi_label_accuracy: 0.2949\n",
      "Epoch 28/1000\n",
      " - 1s - loss: 0.0579 - raw_multi_label_accuracy: 0.9851 - val_loss: 0.8455 - val_raw_multi_label_accuracy: 0.2896\n",
      "Epoch 29/1000\n",
      " - 1s - loss: 0.0553 - raw_multi_label_accuracy: 0.9872 - val_loss: 0.8528 - val_raw_multi_label_accuracy: 0.2849\n",
      "Epoch 30/1000\n",
      " - 1s - loss: 0.0532 - raw_multi_label_accuracy: 0.9875 - val_loss: 0.8656 - val_raw_multi_label_accuracy: 0.2904\n",
      "Epoch 31/1000\n",
      " - 1s - loss: 0.0512 - raw_multi_label_accuracy: 0.9867 - val_loss: 0.8609 - val_raw_multi_label_accuracy: 0.2971\n",
      "Epoch 32/1000\n",
      " - 1s - loss: 0.0474 - raw_multi_label_accuracy: 0.9907 - val_loss: 0.8632 - val_raw_multi_label_accuracy: 0.2986\n",
      "Epoch 33/1000\n",
      " - 1s - loss: 0.0473 - raw_multi_label_accuracy: 0.9879 - val_loss: 0.8640 - val_raw_multi_label_accuracy: 0.2919\n",
      "Epoch 34/1000\n",
      " - 1s - loss: 0.0449 - raw_multi_label_accuracy: 0.9914 - val_loss: 0.8887 - val_raw_multi_label_accuracy: 0.2770\n",
      "Epoch 35/1000\n",
      " - 1s - loss: 0.0431 - raw_multi_label_accuracy: 0.9915 - val_loss: 0.8798 - val_raw_multi_label_accuracy: 0.2842\n",
      "Epoch 36/1000\n",
      " - 1s - loss: 0.0420 - raw_multi_label_accuracy: 0.9897 - val_loss: 0.8850 - val_raw_multi_label_accuracy: 0.2867\n",
      "Epoch 37/1000\n",
      " - 1s - loss: 0.0397 - raw_multi_label_accuracy: 0.9923 - val_loss: 0.8994 - val_raw_multi_label_accuracy: 0.2718\n",
      "Time to train with cross validation for early stopping: 47.321779012680054 seconds\n"
     ]
    }
   ],
   "source": [
    "model_cnn = Sequential()\n",
    "e = Embedding(num_words_kept, word_vec_len, weights=[embedding_matrix], input_length=max_seq_len, trainable=True)\n",
    "#e = Embedding(num_words_kept, word_vec_len, input_length=max_seq_len, trainable=True)\n",
    "model_cnn.add(e)\n",
    "model_cnn.add(Conv1D(filters=50, kernel_size=2, padding='valid', activation='relu', strides=1))\n",
    "model_cnn.add(GlobalMaxPooling1D())\n",
    "model_cnn.add(Dense(256, activation='relu', kernel_regularizer=l2(0.001)))\n",
    "model_cnn.add(Dropout(.5))\n",
    "model_cnn.add(Dense(len(genre_dict), activation='sigmoid'))\n",
    "model_cnn.compile(loss='binary_crossentropy', optimizer='adam', metrics=[raw_multi_label_accuracy])\n",
    "start = time.time()\n",
    "model_cnn.fit(x_train_seq, y_train, validation_split = .1, callbacks = [DelayedEarlyStopping(monitor = 'val_raw_multi_label_accuracy', patience = 5, delay=25)], epochs=1000, batch_size=100, verbose=2)\n",
    "end = time.time()\n",
    "print('Time to train with cross validation for early stopping: ' + str(end-start) + ' seconds')"
   ]
  },
  {
   "cell_type": "code",
   "execution_count": 25,
   "metadata": {},
   "outputs": [],
   "source": [
    "predictions = nn_output_to_predictions(model_cnn.predict(x_test_seq))"
   ]
  },
  {
   "cell_type": "code",
   "execution_count": 26,
   "metadata": {},
   "outputs": [
    {
     "name": "stdout",
     "output_type": "stream",
     "text": [
      "Getting evaluation metrics for each label:\n",
      "Accuruacy for Action-Adventure: 0.6894409937888198\n",
      "Precision for Action-Adventure: 0.635036496350365\n",
      "Recall for Action-Adventure: 0.46524064171123\n",
      "\n",
      "Accuruacy for Romance: 0.7805383022774327\n",
      "Precision for Romance: 0.5\n",
      "Recall for Romance: 0.25471698113207547\n",
      "\n",
      "Accuruacy for Horror-Thriller: 0.639751552795031\n",
      "Precision for Horror-Thriller: 0.5478723404255319\n",
      "Recall for Horror-Thriller: 0.5364583333333334\n",
      "\n",
      "Accuruacy for Comedy: 0.6376811594202898\n",
      "Precision for Comedy: 0.6130952380952381\n",
      "Recall for Comedy: 0.4835680751173709\n",
      "\n",
      "Accuruacy for Science Fiction: 0.8819875776397516\n",
      "Precision for Science Fiction: 0.4444444444444444\n",
      "Recall for Science Fiction: 0.07142857142857142\n",
      "\n",
      "Getting evaluations for multilabel problem\n",
      "Multilabel accuracy: 0.3969979296066253\n",
      "Multilabel precision: 0.5842956120092379\n",
      "Multilabel recall: 0.4560041407867495\n",
      "Percent of correctly decided label decisions: 72.58799171842651\n"
     ]
    }
   ],
   "source": [
    "get_all_metrics(y_test, predictions)"
   ]
  },
  {
   "cell_type": "markdown",
   "metadata": {},
   "source": [
    "CNN but with multiple filter sizes so we don't just filter on group of words at a time"
   ]
  },
  {
   "cell_type": "code",
   "execution_count": 27,
   "metadata": {
    "scrolled": true
   },
   "outputs": [
    {
     "name": "stdout",
     "output_type": "stream",
     "text": [
      "Train on 1738 samples, validate on 194 samples\n",
      "Epoch 1/1000\n",
      " - 5s - loss: 2.8934 - raw_multi_label_accuracy: 0.0731 - val_loss: 2.3014 - val_raw_multi_label_accuracy: 0.0000e+00\n",
      "Epoch 2/1000\n",
      " - 4s - loss: 1.9350 - raw_multi_label_accuracy: 0.0523 - val_loss: 1.5458 - val_raw_multi_label_accuracy: 0.0000e+00\n",
      "Epoch 3/1000\n",
      " - 4s - loss: 1.3322 - raw_multi_label_accuracy: 0.0526 - val_loss: 1.1074 - val_raw_multi_label_accuracy: 0.0000e+00\n",
      "Epoch 4/1000\n",
      " - 4s - loss: 0.9845 - raw_multi_label_accuracy: 0.0213 - val_loss: 0.8576 - val_raw_multi_label_accuracy: 0.0000e+00\n",
      "Epoch 5/1000\n",
      " - 4s - loss: 0.7949 - raw_multi_label_accuracy: 0.0257 - val_loss: 0.7277 - val_raw_multi_label_accuracy: 0.0000e+00\n",
      "Epoch 6/1000\n",
      " - 4s - loss: 0.6930 - raw_multi_label_accuracy: 0.0168 - val_loss: 0.6554 - val_raw_multi_label_accuracy: 0.0000e+00\n",
      "Epoch 7/1000\n",
      " - 4s - loss: 0.6349 - raw_multi_label_accuracy: 0.0550 - val_loss: 0.6195 - val_raw_multi_label_accuracy: 0.0000e+00\n",
      "Epoch 8/1000\n",
      " - 4s - loss: 0.5873 - raw_multi_label_accuracy: 0.1442 - val_loss: 0.6012 - val_raw_multi_label_accuracy: 0.0068\n",
      "Epoch 9/1000\n",
      " - 3s - loss: 0.5092 - raw_multi_label_accuracy: 0.3978 - val_loss: 0.6013 - val_raw_multi_label_accuracy: 0.1690\n",
      "Epoch 10/1000\n",
      " - 3s - loss: 0.4505 - raw_multi_label_accuracy: 0.5131 - val_loss: 0.5835 - val_raw_multi_label_accuracy: 0.1745\n",
      "Epoch 11/1000\n",
      " - 3s - loss: 0.4227 - raw_multi_label_accuracy: 0.5230 - val_loss: 0.5748 - val_raw_multi_label_accuracy: 0.1501\n",
      "Epoch 12/1000\n",
      " - 4s - loss: 0.3992 - raw_multi_label_accuracy: 0.5306 - val_loss: 0.5812 - val_raw_multi_label_accuracy: 0.1751\n",
      "Epoch 13/1000\n",
      " - 3s - loss: 0.3740 - raw_multi_label_accuracy: 0.5733 - val_loss: 0.5768 - val_raw_multi_label_accuracy: 0.1859\n",
      "Epoch 14/1000\n",
      " - 3s - loss: 0.3395 - raw_multi_label_accuracy: 0.6345 - val_loss: 0.5892 - val_raw_multi_label_accuracy: 0.2206\n",
      "Epoch 15/1000\n",
      " - 3s - loss: 0.2948 - raw_multi_label_accuracy: 0.7233 - val_loss: 0.6136 - val_raw_multi_label_accuracy: 0.2501\n",
      "Epoch 16/1000\n",
      " - 3s - loss: 0.2463 - raw_multi_label_accuracy: 0.8055 - val_loss: 0.6384 - val_raw_multi_label_accuracy: 0.2653\n",
      "Epoch 17/1000\n",
      " - 4s - loss: 0.2129 - raw_multi_label_accuracy: 0.8424 - val_loss: 0.6470 - val_raw_multi_label_accuracy: 0.2717\n",
      "Epoch 18/1000\n",
      " - 3s - loss: 0.1895 - raw_multi_label_accuracy: 0.8548 - val_loss: 0.6624 - val_raw_multi_label_accuracy: 0.2767\n",
      "Epoch 19/1000\n",
      " - 3s - loss: 0.1692 - raw_multi_label_accuracy: 0.8772 - val_loss: 0.6616 - val_raw_multi_label_accuracy: 0.3083\n",
      "Epoch 20/1000\n",
      " - 3s - loss: 0.1552 - raw_multi_label_accuracy: 0.8894 - val_loss: 0.6825 - val_raw_multi_label_accuracy: 0.2926\n",
      "Epoch 21/1000\n",
      " - 3s - loss: 0.1448 - raw_multi_label_accuracy: 0.8950 - val_loss: 0.6984 - val_raw_multi_label_accuracy: 0.2453\n",
      "Epoch 22/1000\n",
      " - 4s - loss: 0.1415 - raw_multi_label_accuracy: 0.8948 - val_loss: 0.7051 - val_raw_multi_label_accuracy: 0.2778\n",
      "Epoch 23/1000\n",
      " - 4s - loss: 0.1344 - raw_multi_label_accuracy: 0.8957 - val_loss: 0.7214 - val_raw_multi_label_accuracy: 0.2879\n",
      "Epoch 24/1000\n",
      " - 3s - loss: 0.1257 - raw_multi_label_accuracy: 0.9118 - val_loss: 0.7203 - val_raw_multi_label_accuracy: 0.2941\n",
      "Epoch 25/1000\n",
      " - 3s - loss: 0.1180 - raw_multi_label_accuracy: 0.9175 - val_loss: 0.7338 - val_raw_multi_label_accuracy: 0.2722\n",
      "Epoch 26/1000\n",
      " - 4s - loss: 0.1124 - raw_multi_label_accuracy: 0.9211 - val_loss: 0.7543 - val_raw_multi_label_accuracy: 0.2834\n",
      "Epoch 27/1000\n",
      " - 4s - loss: 0.1071 - raw_multi_label_accuracy: 0.9303 - val_loss: 0.7652 - val_raw_multi_label_accuracy: 0.2595\n",
      "Epoch 28/1000\n",
      " - 4s - loss: 0.1034 - raw_multi_label_accuracy: 0.9336 - val_loss: 0.7661 - val_raw_multi_label_accuracy: 0.3206\n",
      "Epoch 29/1000\n",
      " - 3s - loss: 0.0999 - raw_multi_label_accuracy: 0.9302 - val_loss: 0.7597 - val_raw_multi_label_accuracy: 0.2845\n",
      "Epoch 30/1000\n",
      " - 4s - loss: 0.0941 - raw_multi_label_accuracy: 0.9394 - val_loss: 0.7737 - val_raw_multi_label_accuracy: 0.2774\n",
      "Epoch 31/1000\n",
      " - 3s - loss: 0.0903 - raw_multi_label_accuracy: 0.9473 - val_loss: 0.8199 - val_raw_multi_label_accuracy: 0.2602\n",
      "Epoch 32/1000\n",
      " - 3s - loss: 0.0859 - raw_multi_label_accuracy: 0.9484 - val_loss: 0.8179 - val_raw_multi_label_accuracy: 0.2982\n",
      "Epoch 33/1000\n",
      " - 3s - loss: 0.0819 - raw_multi_label_accuracy: 0.9534 - val_loss: 0.8255 - val_raw_multi_label_accuracy: 0.3049\n",
      "Time to train with cross validation for early stopping: 118.39818787574768 seconds\n"
     ]
    }
   ],
   "source": [
    "model_input = Input(shape=(max_seq_len,), dtype='int32')\n",
    "e = Embedding(num_words_kept, word_vec_len, weights=[embedding_matrix], input_length=max_seq_len, trainable=True)(model_input)\n",
    "two_word_filter = Conv1D(filters=100, kernel_size=2, padding='valid', activation='relu', strides=1)(e)\n",
    "two_word_filter = GlobalMaxPooling1D()(two_word_filter)\n",
    "three_word_filter = Conv1D(filters=100, kernel_size=3, padding='valid', activation='relu', strides=1)(e)\n",
    "three_word_filter = GlobalMaxPooling1D()(three_word_filter)\n",
    "four_word_filter = Conv1D(filters=100, kernel_size=4, padding='valid', activation='relu', strides=1)(e)\n",
    "four_word_filter = GlobalMaxPooling1D()(four_word_filter)\n",
    "merged = concatenate([two_word_filter, three_word_filter, four_word_filter], axis=1)\n",
    "\n",
    "merged = Dense(256, activation='relu', kernel_regularizer=l2(0.01))(merged)\n",
    "merged = Dropout(0.5)(merged)\n",
    "merged = Dense(len(genre_dict))(merged)\n",
    "output = Activation('sigmoid')(merged)\n",
    "model = Model(inputs=[model_input], outputs=[output])\n",
    "model.compile(loss='binary_crossentropy', optimizer='adam', metrics=[raw_multi_label_accuracy])\n",
    "start = time.time()\n",
    "model.fit(x_train_seq, y_train, validation_split = .1, callbacks = [DelayedEarlyStopping(monitor = 'val_raw_multi_label_accuracy', patience = 5, delay=25)], epochs=1000, batch_size=100, verbose=2)\n",
    "end = time.time()\n",
    "print('Time to train with cross validation for early stopping: ' + str(end-start) + ' seconds')"
   ]
  },
  {
   "cell_type": "code",
   "execution_count": 28,
   "metadata": {},
   "outputs": [],
   "source": [
    "predictions = nn_output_to_predictions(model.predict(x_test_seq))"
   ]
  },
  {
   "cell_type": "code",
   "execution_count": 29,
   "metadata": {},
   "outputs": [
    {
     "name": "stdout",
     "output_type": "stream",
     "text": [
      "Getting evaluation metrics for each label:\n",
      "Accuruacy for Action-Adventure: 0.7018633540372671\n",
      "Precision for Action-Adventure: 0.7415730337078652\n",
      "Recall for Action-Adventure: 0.35294117647058826\n",
      "\n",
      "Accuruacy for Romance: 0.7639751552795031\n",
      "Precision for Romance: 0.4090909090909091\n",
      "Recall for Romance: 0.16981132075471697\n",
      "\n",
      "Accuruacy for Horror-Thriller: 0.6107660455486542\n",
      "Precision for Horror-Thriller: 0.5106382978723404\n",
      "Recall for Horror-Thriller: 0.5\n",
      "\n",
      "Accuruacy for Comedy: 0.6356107660455487\n",
      "Precision for Comedy: 0.5911330049261084\n",
      "Recall for Comedy: 0.5633802816901409\n",
      "\n",
      "Accuruacy for Science Fiction: 0.8819875776397516\n",
      "Precision for Science Fiction: 0.4\n",
      "Recall for Science Fiction: 0.03571428571428571\n",
      "\n",
      "Getting evaluations for multilabel problem\n",
      "Multilabel accuracy: 0.3687025534851621\n",
      "Multilabel precision: 0.5723270440251573\n",
      "Multilabel recall: 0.41459627329192544\n",
      "Percent of correctly decided label decisions: 71.8840579710145\n"
     ]
    }
   ],
   "source": [
    "get_all_metrics(y_test, predictions)"
   ]
  },
  {
   "cell_type": "markdown",
   "metadata": {},
   "source": [
    "Regular Neural Network"
   ]
  },
  {
   "cell_type": "code",
   "execution_count": 30,
   "metadata": {},
   "outputs": [
    {
     "name": "stdout",
     "output_type": "stream",
     "text": [
      "Train on 1738 samples, validate on 194 samples\n",
      "Epoch 1/1000\n",
      " - 2s - loss: 0.6184 - raw_multi_label_accuracy: 0.0674 - val_loss: 0.5949 - val_raw_multi_label_accuracy: 0.0233\n",
      "Epoch 2/1000\n",
      " - 1s - loss: 0.5818 - raw_multi_label_accuracy: 0.0787 - val_loss: 0.5882 - val_raw_multi_label_accuracy: 0.0646\n",
      "Epoch 3/1000\n",
      " - 1s - loss: 0.5621 - raw_multi_label_accuracy: 0.1364 - val_loss: 0.5856 - val_raw_multi_label_accuracy: 0.1140\n",
      "Epoch 4/1000\n",
      " - 1s - loss: 0.5308 - raw_multi_label_accuracy: 0.2153 - val_loss: 0.5916 - val_raw_multi_label_accuracy: 0.1494\n",
      "Epoch 5/1000\n",
      " - 1s - loss: 0.4795 - raw_multi_label_accuracy: 0.3448 - val_loss: 0.5865 - val_raw_multi_label_accuracy: 0.1931\n",
      "Epoch 6/1000\n",
      " - 1s - loss: 0.3859 - raw_multi_label_accuracy: 0.5413 - val_loss: 0.5696 - val_raw_multi_label_accuracy: 0.2488\n",
      "Epoch 7/1000\n",
      " - 1s - loss: 0.2840 - raw_multi_label_accuracy: 0.6966 - val_loss: 0.5551 - val_raw_multi_label_accuracy: 0.2434\n",
      "Epoch 8/1000\n",
      " - 1s - loss: 0.1958 - raw_multi_label_accuracy: 0.8216 - val_loss: 0.5806 - val_raw_multi_label_accuracy: 0.2727\n",
      "Epoch 9/1000\n",
      " - 1s - loss: 0.1296 - raw_multi_label_accuracy: 0.9086 - val_loss: 0.6089 - val_raw_multi_label_accuracy: 0.2260\n",
      "Epoch 10/1000\n",
      " - 1s - loss: 0.0822 - raw_multi_label_accuracy: 0.9573 - val_loss: 0.6246 - val_raw_multi_label_accuracy: 0.2557\n",
      "Epoch 11/1000\n",
      " - 1s - loss: 0.0521 - raw_multi_label_accuracy: 0.9830 - val_loss: 0.6699 - val_raw_multi_label_accuracy: 0.2534\n",
      "Epoch 12/1000\n",
      " - 1s - loss: 0.0353 - raw_multi_label_accuracy: 0.9887 - val_loss: 0.6728 - val_raw_multi_label_accuracy: 0.2725\n",
      "Epoch 13/1000\n",
      " - 1s - loss: 0.0245 - raw_multi_label_accuracy: 0.9940 - val_loss: 0.6889 - val_raw_multi_label_accuracy: 0.2857\n",
      "Epoch 14/1000\n",
      " - 1s - loss: 0.0178 - raw_multi_label_accuracy: 0.9963 - val_loss: 0.7246 - val_raw_multi_label_accuracy: 0.2529\n",
      "Epoch 15/1000\n",
      " - 1s - loss: 0.0136 - raw_multi_label_accuracy: 0.9978 - val_loss: 0.7496 - val_raw_multi_label_accuracy: 0.2780\n",
      "Epoch 16/1000\n",
      " - 1s - loss: 0.0107 - raw_multi_label_accuracy: 0.9982 - val_loss: 0.7486 - val_raw_multi_label_accuracy: 0.2799\n",
      "Epoch 17/1000\n",
      " - 1s - loss: 0.0087 - raw_multi_label_accuracy: 0.9989 - val_loss: 0.7512 - val_raw_multi_label_accuracy: 0.2828\n",
      "Epoch 18/1000\n",
      " - 1s - loss: 0.0071 - raw_multi_label_accuracy: 0.9992 - val_loss: 0.7732 - val_raw_multi_label_accuracy: 0.2586\n",
      "Epoch 19/1000\n",
      " - 1s - loss: 0.0063 - raw_multi_label_accuracy: 0.9992 - val_loss: 0.7883 - val_raw_multi_label_accuracy: 0.2777\n",
      "Epoch 20/1000\n",
      " - 1s - loss: 0.0052 - raw_multi_label_accuracy: 0.9992 - val_loss: 0.8008 - val_raw_multi_label_accuracy: 0.2740\n",
      "Epoch 21/1000\n",
      " - 1s - loss: 0.0045 - raw_multi_label_accuracy: 0.9992 - val_loss: 0.8140 - val_raw_multi_label_accuracy: 0.2733\n",
      "Epoch 22/1000\n",
      " - 2s - loss: 0.0040 - raw_multi_label_accuracy: 0.9992 - val_loss: 0.8083 - val_raw_multi_label_accuracy: 0.2736\n",
      "Epoch 23/1000\n",
      " - 1s - loss: 0.0036 - raw_multi_label_accuracy: 0.9992 - val_loss: 0.8176 - val_raw_multi_label_accuracy: 0.2681\n",
      "Epoch 24/1000\n",
      " - 1s - loss: 0.0032 - raw_multi_label_accuracy: 0.9992 - val_loss: 0.8493 - val_raw_multi_label_accuracy: 0.2773\n",
      "Epoch 25/1000\n",
      " - 1s - loss: 0.0029 - raw_multi_label_accuracy: 0.9992 - val_loss: 0.8223 - val_raw_multi_label_accuracy: 0.2756\n",
      "Epoch 26/1000\n",
      " - 1s - loss: 0.0029 - raw_multi_label_accuracy: 0.9993 - val_loss: 0.8571 - val_raw_multi_label_accuracy: 0.2736\n",
      "Epoch 27/1000\n",
      " - 1s - loss: 0.0025 - raw_multi_label_accuracy: 0.9992 - val_loss: 0.8816 - val_raw_multi_label_accuracy: 0.2711\n",
      "Epoch 28/1000\n",
      " - 1s - loss: 0.0022 - raw_multi_label_accuracy: 0.9993 - val_loss: 0.8445 - val_raw_multi_label_accuracy: 0.2640\n",
      "Epoch 29/1000\n",
      " - 1s - loss: 0.0021 - raw_multi_label_accuracy: 0.9993 - val_loss: 0.8771 - val_raw_multi_label_accuracy: 0.2747\n",
      "Epoch 30/1000\n",
      " - 2s - loss: 0.0020 - raw_multi_label_accuracy: 0.9993 - val_loss: 0.8991 - val_raw_multi_label_accuracy: 0.2793\n",
      "Epoch 31/1000\n",
      " - 1s - loss: 0.0019 - raw_multi_label_accuracy: 0.9993 - val_loss: 0.8945 - val_raw_multi_label_accuracy: 0.2765\n",
      "Epoch 32/1000\n",
      " - 1s - loss: 0.0018 - raw_multi_label_accuracy: 0.9989 - val_loss: 0.8892 - val_raw_multi_label_accuracy: 0.2738\n",
      "Epoch 33/1000\n",
      " - 1s - loss: 0.0016 - raw_multi_label_accuracy: 0.9992 - val_loss: 0.9000 - val_raw_multi_label_accuracy: 0.2736\n",
      "Epoch 34/1000\n",
      " - 1s - loss: 0.0015 - raw_multi_label_accuracy: 0.9992 - val_loss: 0.8909 - val_raw_multi_label_accuracy: 0.2678\n",
      "Epoch 35/1000\n",
      " - 1s - loss: 0.0014 - raw_multi_label_accuracy: 0.9993 - val_loss: 0.9130 - val_raw_multi_label_accuracy: 0.2775\n",
      "Time to train with cross validation for early stopping: 51.65764045715332 seconds\n"
     ]
    }
   ],
   "source": [
    "normal_nn = Sequential()\n",
    "e = Embedding(num_words_kept, word_vec_len, weights=[embedding_matrix], input_length=max_seq_len, trainable=True)\n",
    "normal_nn.add(e)\n",
    "normal_nn.add(Flatten())\n",
    "normal_nn.add(Dense(256, activation='relu'))\n",
    "normal_nn.add(Dense(len(genre_dict), activation='sigmoid'))\n",
    "normal_nn.compile(loss='binary_crossentropy', optimizer='adam', metrics=[raw_multi_label_accuracy])\n",
    "start = time.time()\n",
    "normal_nn.fit(x_train_seq, y_train, validation_split = .1, callbacks = [DelayedEarlyStopping(monitor = 'val_raw_multi_label_accuracy', patience = 5, delay=25)], epochs=1000, batch_size=100, verbose=2)\n",
    "end = time.time()\n",
    "print('Time to train with cross validation for early stopping: ' + str(end-start) + ' seconds')"
   ]
  },
  {
   "cell_type": "code",
   "execution_count": 31,
   "metadata": {},
   "outputs": [],
   "source": [
    "predictions = nn_output_to_predictions(normal_nn.predict(x_test_seq))"
   ]
  },
  {
   "cell_type": "code",
   "execution_count": 32,
   "metadata": {},
   "outputs": [
    {
     "name": "stdout",
     "output_type": "stream",
     "text": [
      "Getting evaluation metrics for each label:\n",
      "Accuruacy for Action-Adventure: 0.6645962732919255\n",
      "Precision for Action-Adventure: 0.5850340136054422\n",
      "Recall for Action-Adventure: 0.45989304812834225\n",
      "\n",
      "Accuruacy for Romance: 0.7743271221532091\n",
      "Precision for Romance: 0.45454545454545453\n",
      "Recall for Romance: 0.14150943396226415\n",
      "\n",
      "Accuruacy for Horror-Thriller: 0.6356107660455487\n",
      "Precision for Horror-Thriller: 0.5784313725490197\n",
      "Recall for Horror-Thriller: 0.3072916666666667\n",
      "\n",
      "Accuruacy for Comedy: 0.5734989648033126\n",
      "Precision for Comedy: 0.5238095238095238\n",
      "Recall for Comedy: 0.3615023474178404\n",
      "\n",
      "Accuruacy for Science Fiction: 0.8923395445134575\n",
      "Precision for Science Fiction: 0.8333333333333334\n",
      "Recall for Science Fiction: 0.08928571428571429\n",
      "\n",
      "Getting evaluations for multilabel problem\n",
      "Multilabel accuracy: 0.2768115942028984\n",
      "Multilabel precision: 0.5448343079922028\n",
      "Multilabel recall: 0.31935817805383016\n",
      "Percent of correctly decided label decisions: 70.80745341614907\n"
     ]
    }
   ],
   "source": [
    "get_all_metrics(y_test, predictions)"
   ]
  },
  {
   "cell_type": "markdown",
   "metadata": {},
   "source": [
    "LSTM"
   ]
  },
  {
   "cell_type": "code",
   "execution_count": 33,
   "metadata": {},
   "outputs": [
    {
     "name": "stdout",
     "output_type": "stream",
     "text": [
      "Train on 1738 samples, validate on 194 samples\n",
      "Epoch 1/1000\n",
      " - 9s - loss: 0.6379 - raw_multi_label_accuracy: 0.0574 - val_loss: 0.5884 - val_raw_multi_label_accuracy: 0.0000e+00\n",
      "Epoch 2/1000\n",
      " - 7s - loss: 0.5940 - raw_multi_label_accuracy: 0.0806 - val_loss: 0.5833 - val_raw_multi_label_accuracy: 0.0000e+00\n",
      "Epoch 3/1000\n",
      " - 7s - loss: 0.5901 - raw_multi_label_accuracy: 0.0000e+00 - val_loss: 0.5838 - val_raw_multi_label_accuracy: 0.0000e+00\n",
      "Epoch 4/1000\n",
      " - 7s - loss: 0.5858 - raw_multi_label_accuracy: 0.0000e+00 - val_loss: 0.5816 - val_raw_multi_label_accuracy: 0.0000e+00\n",
      "Epoch 5/1000\n",
      " - 7s - loss: 0.5837 - raw_multi_label_accuracy: 0.0000e+00 - val_loss: 0.5806 - val_raw_multi_label_accuracy: 0.0000e+00\n",
      "Epoch 6/1000\n",
      " - 7s - loss: 0.5799 - raw_multi_label_accuracy: 0.0000e+00 - val_loss: 0.5825 - val_raw_multi_label_accuracy: 0.0000e+00\n",
      "Epoch 7/1000\n",
      " - 7s - loss: 0.5688 - raw_multi_label_accuracy: 0.0250 - val_loss: 0.5716 - val_raw_multi_label_accuracy: 0.0170\n",
      "Epoch 8/1000\n",
      " - 7s - loss: 0.5365 - raw_multi_label_accuracy: 0.1405 - val_loss: 0.5537 - val_raw_multi_label_accuracy: 0.1878\n",
      "Epoch 9/1000\n",
      " - 7s - loss: 0.4493 - raw_multi_label_accuracy: 0.4359 - val_loss: 0.5052 - val_raw_multi_label_accuracy: 0.3444\n",
      "Epoch 10/1000\n",
      " - 7s - loss: 0.3708 - raw_multi_label_accuracy: 0.5640 - val_loss: 0.5276 - val_raw_multi_label_accuracy: 0.3820\n",
      "Epoch 11/1000\n",
      " - 7s - loss: 0.3175 - raw_multi_label_accuracy: 0.6312 - val_loss: 0.5458 - val_raw_multi_label_accuracy: 0.3783\n",
      "Epoch 12/1000\n",
      " - 7s - loss: 0.2680 - raw_multi_label_accuracy: 0.6816 - val_loss: 0.6076 - val_raw_multi_label_accuracy: 0.3686\n",
      "Epoch 13/1000\n",
      " - 8s - loss: 0.2294 - raw_multi_label_accuracy: 0.7190 - val_loss: 0.7107 - val_raw_multi_label_accuracy: 0.3600\n",
      "Epoch 14/1000\n",
      " - 7s - loss: 0.1988 - raw_multi_label_accuracy: 0.7500 - val_loss: 0.6597 - val_raw_multi_label_accuracy: 0.4033\n",
      "Epoch 15/1000\n",
      " - 7s - loss: 0.1692 - raw_multi_label_accuracy: 0.7975 - val_loss: 0.7226 - val_raw_multi_label_accuracy: 0.4023\n",
      "Epoch 16/1000\n",
      " - 7s - loss: 0.1417 - raw_multi_label_accuracy: 0.8277 - val_loss: 0.8392 - val_raw_multi_label_accuracy: 0.3789\n",
      "Epoch 17/1000\n",
      " - 7s - loss: 0.1230 - raw_multi_label_accuracy: 0.8520 - val_loss: 0.8734 - val_raw_multi_label_accuracy: 0.3729\n",
      "Epoch 18/1000\n",
      " - 7s - loss: 0.1044 - raw_multi_label_accuracy: 0.8744 - val_loss: 0.8969 - val_raw_multi_label_accuracy: 0.3860\n",
      "Epoch 19/1000\n",
      " - 7s - loss: 0.0959 - raw_multi_label_accuracy: 0.8834 - val_loss: 0.9464 - val_raw_multi_label_accuracy: 0.3778\n",
      "Epoch 20/1000\n",
      " - 7s - loss: 0.0859 - raw_multi_label_accuracy: 0.8955 - val_loss: 0.9680 - val_raw_multi_label_accuracy: 0.3700\n",
      "Epoch 21/1000\n",
      " - 7s - loss: 0.0746 - raw_multi_label_accuracy: 0.9136 - val_loss: 1.0683 - val_raw_multi_label_accuracy: 0.3607\n",
      "Epoch 22/1000\n",
      " - 7s - loss: 0.0663 - raw_multi_label_accuracy: 0.9220 - val_loss: 1.0713 - val_raw_multi_label_accuracy: 0.3862\n",
      "Epoch 23/1000\n",
      " - 7s - loss: 0.0652 - raw_multi_label_accuracy: 0.9202 - val_loss: 1.0826 - val_raw_multi_label_accuracy: 0.3909\n",
      "Epoch 24/1000\n",
      " - 7s - loss: 0.0580 - raw_multi_label_accuracy: 0.9321 - val_loss: 1.0395 - val_raw_multi_label_accuracy: 0.3883\n",
      "Epoch 25/1000\n",
      " - 7s - loss: 0.0523 - raw_multi_label_accuracy: 0.9350 - val_loss: 1.1067 - val_raw_multi_label_accuracy: 0.3873\n",
      "Epoch 26/1000\n",
      " - 7s - loss: 0.0491 - raw_multi_label_accuracy: 0.9412 - val_loss: 1.1686 - val_raw_multi_label_accuracy: 0.3796\n",
      "Epoch 27/1000\n",
      " - 7s - loss: 0.0464 - raw_multi_label_accuracy: 0.9447 - val_loss: 1.1846 - val_raw_multi_label_accuracy: 0.3843\n",
      "Epoch 28/1000\n",
      " - 7s - loss: 0.0412 - raw_multi_label_accuracy: 0.9530 - val_loss: 1.2245 - val_raw_multi_label_accuracy: 0.3917\n",
      "Epoch 29/1000\n",
      " - 7s - loss: 0.0410 - raw_multi_label_accuracy: 0.9509 - val_loss: 1.2979 - val_raw_multi_label_accuracy: 0.3740\n",
      "Epoch 30/1000\n",
      " - 7s - loss: 0.0365 - raw_multi_label_accuracy: 0.9571 - val_loss: 1.3287 - val_raw_multi_label_accuracy: 0.3863\n",
      "Epoch 31/1000\n",
      " - 7s - loss: 0.0335 - raw_multi_label_accuracy: 0.9614 - val_loss: 1.2398 - val_raw_multi_label_accuracy: 0.3738\n",
      "Epoch 32/1000\n",
      " - 7s - loss: 0.0340 - raw_multi_label_accuracy: 0.9630 - val_loss: 1.2398 - val_raw_multi_label_accuracy: 0.3915\n",
      "Epoch 33/1000\n",
      " - 7s - loss: 0.0274 - raw_multi_label_accuracy: 0.9710 - val_loss: 1.3589 - val_raw_multi_label_accuracy: 0.3756\n",
      "Time to train with cross validation for early stopping: 238.86167240142822 seconds\n"
     ]
    }
   ],
   "source": [
    "lstm_model = Sequential()\n",
    "e = Embedding(num_words_kept, word_vec_len, weights=[embedding_matrix], input_length=max_seq_len, trainable=True)\n",
    "lstm_model.add(e)\n",
    "lstm_model.add(LSTM(100, dropout=0.25, recurrent_dropout=0.25))\n",
    "lstm_model.add(Dense(256, activation='relu'))\n",
    "lstm_model.add(Dense(len(genre_dict), activation='sigmoid'))\n",
    "lstm_model.compile(loss='binary_crossentropy', optimizer='adam', metrics=[raw_multi_label_accuracy])\n",
    "start = time.time()\n",
    "lstm_model.fit(x_train_seq, y_train, validation_split = .1, callbacks = [DelayedEarlyStopping(monitor = 'val_raw_multi_label_accuracy', patience = 5, delay=25)], epochs=1000, batch_size=100, verbose=2)\n",
    "end = time.time()\n",
    "print('Time to train with cross validation for early stopping: ' + str(end-start) + ' seconds')"
   ]
  },
  {
   "cell_type": "code",
   "execution_count": 34,
   "metadata": {},
   "outputs": [],
   "source": [
    "predictions = nn_output_to_predictions(lstm_model.predict(x_test_seq))"
   ]
  },
  {
   "cell_type": "code",
   "execution_count": 35,
   "metadata": {},
   "outputs": [
    {
     "name": "stdout",
     "output_type": "stream",
     "text": [
      "Getting evaluation metrics for each label:\n",
      "Accuruacy for Action-Adventure: 0.6128364389233955\n",
      "Precision for Action-Adventure: 0.5\n",
      "Recall for Action-Adventure: 0.6524064171122995\n",
      "\n",
      "Accuruacy for Romance: 0.7536231884057971\n",
      "Precision for Romance: 0.42528735632183906\n",
      "Recall for Romance: 0.3490566037735849\n",
      "\n",
      "Accuruacy for Horror-Thriller: 0.6935817805383023\n",
      "Precision for Horror-Thriller: 0.6341463414634146\n",
      "Recall for Horror-Thriller: 0.5416666666666666\n",
      "\n",
      "Accuruacy for Comedy: 0.6894409937888198\n",
      "Precision for Comedy: 0.6082474226804123\n",
      "Recall for Comedy: 0.8309859154929577\n",
      "\n",
      "Accuruacy for Science Fiction: 0.8737060041407867\n",
      "Precision for Science Fiction: 0.4074074074074074\n",
      "Recall for Science Fiction: 0.19642857142857142\n",
      "\n",
      "Getting evaluations for multilabel problem\n",
      "Multilabel accuracy: 0.4752587991718428\n",
      "Multilabel precision: 0.5819502074688798\n",
      "Multilabel recall: 0.6280193236714974\n",
      "Percent of correctly decided label decisions: 72.46376811594203\n"
     ]
    }
   ],
   "source": [
    "get_all_metrics(y_test, predictions)"
   ]
  },
  {
   "cell_type": "markdown",
   "metadata": {},
   "source": [
    "simple rnn"
   ]
  },
  {
   "cell_type": "code",
   "execution_count": 36,
   "metadata": {},
   "outputs": [
    {
     "name": "stdout",
     "output_type": "stream",
     "text": [
      "Train on 1738 samples, validate on 194 samples\n",
      "Epoch 1/1000\n",
      " - 2s - loss: 0.6380 - raw_multi_label_accuracy: 0.0919 - val_loss: 0.5904 - val_raw_multi_label_accuracy: 0.0000e+00\n",
      "Epoch 2/1000\n",
      " - 1s - loss: 0.5982 - raw_multi_label_accuracy: 0.0000e+00 - val_loss: 0.5907 - val_raw_multi_label_accuracy: 0.0000e+00\n",
      "Epoch 3/1000\n",
      " - 1s - loss: 0.5869 - raw_multi_label_accuracy: 0.0000e+00 - val_loss: 0.5862 - val_raw_multi_label_accuracy: 0.0000e+00\n",
      "Epoch 4/1000\n",
      " - 1s - loss: 0.5705 - raw_multi_label_accuracy: 0.0000e+00 - val_loss: 0.5810 - val_raw_multi_label_accuracy: 0.0000e+00\n",
      "Epoch 5/1000\n",
      " - 1s - loss: 0.5424 - raw_multi_label_accuracy: 0.0355 - val_loss: 0.5818 - val_raw_multi_label_accuracy: 0.0000e+00\n",
      "Epoch 6/1000\n",
      " - 1s - loss: 0.4851 - raw_multi_label_accuracy: 0.2078 - val_loss: 0.5652 - val_raw_multi_label_accuracy: 0.1086\n",
      "Epoch 7/1000\n",
      " - 1s - loss: 0.3807 - raw_multi_label_accuracy: 0.5266 - val_loss: 0.5684 - val_raw_multi_label_accuracy: 0.1891\n",
      "Epoch 8/1000\n",
      " - 1s - loss: 0.2738 - raw_multi_label_accuracy: 0.6676 - val_loss: 0.6167 - val_raw_multi_label_accuracy: 0.2763\n",
      "Epoch 9/1000\n",
      " - 1s - loss: 0.2110 - raw_multi_label_accuracy: 0.7593 - val_loss: 0.6723 - val_raw_multi_label_accuracy: 0.2468\n",
      "Epoch 10/1000\n",
      " - 1s - loss: 0.1463 - raw_multi_label_accuracy: 0.8422 - val_loss: 0.7210 - val_raw_multi_label_accuracy: 0.2331\n",
      "Epoch 11/1000\n",
      " - 1s - loss: 0.0943 - raw_multi_label_accuracy: 0.9129 - val_loss: 0.8556 - val_raw_multi_label_accuracy: 0.2543\n",
      "Epoch 12/1000\n",
      " - 1s - loss: 0.0632 - raw_multi_label_accuracy: 0.9453 - val_loss: 0.8233 - val_raw_multi_label_accuracy: 0.2323\n",
      "Epoch 13/1000\n",
      " - 1s - loss: 0.0460 - raw_multi_label_accuracy: 0.9565 - val_loss: 0.9166 - val_raw_multi_label_accuracy: 0.2301\n",
      "Epoch 14/1000\n",
      " - 1s - loss: 0.0344 - raw_multi_label_accuracy: 0.9696 - val_loss: 1.0297 - val_raw_multi_label_accuracy: 0.2341\n",
      "Epoch 15/1000\n",
      " - 1s - loss: 0.0267 - raw_multi_label_accuracy: 0.9780 - val_loss: 1.0987 - val_raw_multi_label_accuracy: 0.2613\n",
      "Epoch 16/1000\n",
      " - 1s - loss: 0.0182 - raw_multi_label_accuracy: 0.9867 - val_loss: 1.0804 - val_raw_multi_label_accuracy: 0.2498\n",
      "Epoch 17/1000\n",
      " - 1s - loss: 0.0145 - raw_multi_label_accuracy: 0.9903 - val_loss: 1.0959 - val_raw_multi_label_accuracy: 0.2542\n",
      "Epoch 18/1000\n",
      " - 1s - loss: 0.0105 - raw_multi_label_accuracy: 0.9912 - val_loss: 1.1954 - val_raw_multi_label_accuracy: 0.2551\n",
      "Epoch 19/1000\n",
      " - 1s - loss: 0.0071 - raw_multi_label_accuracy: 0.9942 - val_loss: 1.2788 - val_raw_multi_label_accuracy: 0.2534\n",
      "Epoch 20/1000\n",
      " - 1s - loss: 0.0048 - raw_multi_label_accuracy: 0.9971 - val_loss: 1.3653 - val_raw_multi_label_accuracy: 0.2580\n",
      "Epoch 21/1000\n",
      " - 1s - loss: 0.0038 - raw_multi_label_accuracy: 0.9975 - val_loss: 1.4015 - val_raw_multi_label_accuracy: 0.2428\n",
      "Epoch 22/1000\n",
      " - 1s - loss: 0.0032 - raw_multi_label_accuracy: 0.9973 - val_loss: 1.4073 - val_raw_multi_label_accuracy: 0.2598\n",
      "Epoch 23/1000\n",
      " - 1s - loss: 0.0026 - raw_multi_label_accuracy: 0.9992 - val_loss: 1.4461 - val_raw_multi_label_accuracy: 0.2435\n",
      "Epoch 24/1000\n",
      " - 1s - loss: 0.0024 - raw_multi_label_accuracy: 0.9988 - val_loss: 1.5514 - val_raw_multi_label_accuracy: 0.2690\n",
      "Epoch 25/1000\n",
      " - 1s - loss: 0.0020 - raw_multi_label_accuracy: 0.9993 - val_loss: 1.5520 - val_raw_multi_label_accuracy: 0.2448\n",
      "Epoch 26/1000\n",
      " - 1s - loss: 0.0019 - raw_multi_label_accuracy: 0.9993 - val_loss: 1.4913 - val_raw_multi_label_accuracy: 0.2439\n",
      "Epoch 27/1000\n",
      " - 1s - loss: 0.0021 - raw_multi_label_accuracy: 0.9989 - val_loss: 1.5648 - val_raw_multi_label_accuracy: 0.2391\n",
      "Epoch 28/1000\n",
      " - 1s - loss: 0.0017 - raw_multi_label_accuracy: 0.9993 - val_loss: 1.6104 - val_raw_multi_label_accuracy: 0.2444\n",
      "Epoch 29/1000\n",
      " - 1s - loss: 0.0014 - raw_multi_label_accuracy: 0.9993 - val_loss: 1.4970 - val_raw_multi_label_accuracy: 0.2401\n",
      "Epoch 30/1000\n",
      " - 1s - loss: 0.0013 - raw_multi_label_accuracy: 0.9993 - val_loss: 1.6374 - val_raw_multi_label_accuracy: 0.2417\n",
      "Epoch 31/1000\n",
      " - 1s - loss: 0.0011 - raw_multi_label_accuracy: 0.9993 - val_loss: 1.7246 - val_raw_multi_label_accuracy: 0.2495\n",
      "Epoch 32/1000\n",
      " - 1s - loss: 0.0011 - raw_multi_label_accuracy: 0.9992 - val_loss: 1.6868 - val_raw_multi_label_accuracy: 0.2471\n",
      "Epoch 33/1000\n",
      " - 1s - loss: 0.0056 - raw_multi_label_accuracy: 0.9966 - val_loss: 1.3914 - val_raw_multi_label_accuracy: 0.2403\n",
      "Epoch 34/1000\n",
      " - 1s - loss: 0.0085 - raw_multi_label_accuracy: 0.9926 - val_loss: 1.5829 - val_raw_multi_label_accuracy: 0.2566\n",
      "Epoch 35/1000\n",
      " - 1s - loss: 0.0067 - raw_multi_label_accuracy: 0.9948 - val_loss: 1.5111 - val_raw_multi_label_accuracy: 0.2508\n",
      "Epoch 36/1000\n",
      " - 1s - loss: 0.0036 - raw_multi_label_accuracy: 0.9985 - val_loss: 1.5939 - val_raw_multi_label_accuracy: 0.2669\n",
      "Epoch 37/1000\n",
      " - 1s - loss: 0.0017 - raw_multi_label_accuracy: 0.9993 - val_loss: 1.4377 - val_raw_multi_label_accuracy: 0.2364\n",
      "Epoch 38/1000\n",
      " - 1s - loss: 0.0013 - raw_multi_label_accuracy: 0.9988 - val_loss: 1.4666 - val_raw_multi_label_accuracy: 0.2574\n",
      "Epoch 39/1000\n",
      " - 1s - loss: 9.6283e-04 - raw_multi_label_accuracy: 0.9992 - val_loss: 1.5520 - val_raw_multi_label_accuracy: 0.2448\n",
      "Epoch 40/1000\n",
      " - 1s - loss: 9.0747e-04 - raw_multi_label_accuracy: 0.9992 - val_loss: 1.5186 - val_raw_multi_label_accuracy: 0.2458\n",
      "Epoch 41/1000\n",
      " - 1s - loss: 8.4172e-04 - raw_multi_label_accuracy: 0.9989 - val_loss: 1.5918 - val_raw_multi_label_accuracy: 0.2482\n",
      "Time to train with cross validation for early stopping: 49.83022737503052 seconds\n"
     ]
    }
   ],
   "source": [
    "rnn = Sequential()\n",
    "e = Embedding(num_words_kept, word_vec_len, weights=[embedding_matrix], input_length=max_seq_len, trainable=True)\n",
    "rnn.add(e)\n",
    "rnn.add(SimpleRNN(32, activation = 'relu'))\n",
    "rnn.add(Dense(256, activation='relu'))\n",
    "rnn.add(Dense(len(genre_dict), activation='sigmoid'))\n",
    "rnn.compile(loss='binary_crossentropy', optimizer='adam', metrics=[raw_multi_label_accuracy])\n",
    "start = time.time()\n",
    "rnn.fit(x_train_seq, y_train, validation_split = .1, callbacks = [DelayedEarlyStopping(monitor = 'val_raw_multi_label_accuracy', patience = 5, delay=25)], epochs=1000, batch_size=100, verbose=2)\n",
    "end = time.time()\n",
    "print('Time to train with cross validation for early stopping: ' + str(end-start) + ' seconds')"
   ]
  },
  {
   "cell_type": "code",
   "execution_count": 37,
   "metadata": {},
   "outputs": [],
   "source": [
    "predictions = nn_output_to_predictions(rnn.predict(x_test_seq))"
   ]
  },
  {
   "cell_type": "code",
   "execution_count": 38,
   "metadata": {},
   "outputs": [
    {
     "name": "stdout",
     "output_type": "stream",
     "text": [
      "Getting evaluation metrics for each label:\n",
      "Accuruacy for Action-Adventure: 0.5755693581780539\n",
      "Precision for Action-Adventure: 0.449438202247191\n",
      "Recall for Action-Adventure: 0.42780748663101603\n",
      "\n",
      "Accuruacy for Romance: 0.7391304347826086\n",
      "Precision for Romance: 0.3148148148148148\n",
      "Recall for Romance: 0.16037735849056603\n",
      "\n",
      "Accuruacy for Horror-Thriller: 0.5507246376811594\n",
      "Precision for Horror-Thriller: 0.430939226519337\n",
      "Recall for Horror-Thriller: 0.40625\n",
      "\n",
      "Accuruacy for Comedy: 0.5652173913043478\n",
      "Precision for Comedy: 0.5099337748344371\n",
      "Recall for Comedy: 0.3615023474178404\n",
      "\n",
      "Accuruacy for Science Fiction: 0.8881987577639752\n",
      "Precision for Science Fiction: 0.6666666666666666\n",
      "Recall for Science Fiction: 0.07142857142857142\n",
      "\n",
      "Getting evaluations for multilabel problem\n",
      "Multilabel accuracy: 0.279503105590062\n",
      "Multilabel precision: 0.4498806682577566\n",
      "Multilabel recall: 0.34247757073844026\n",
      "Percent of correctly decided label decisions: 66.3768115942029\n"
     ]
    }
   ],
   "source": [
    "get_all_metrics(y_test, predictions)"
   ]
  },
  {
   "cell_type": "markdown",
   "metadata": {},
   "source": [
    "bidirectional-LSTM"
   ]
  },
  {
   "cell_type": "code",
   "execution_count": 39,
   "metadata": {},
   "outputs": [
    {
     "name": "stdout",
     "output_type": "stream",
     "text": [
      "Train on 1738 samples, validate on 194 samples\n",
      "Epoch 1/1000\n",
      " - 17s - loss: 0.6350 - raw_multi_label_accuracy: 0.0454 - val_loss: 0.5895 - val_raw_multi_label_accuracy: 0.0000e+00\n",
      "Epoch 2/1000\n",
      " - 14s - loss: 0.5946 - raw_multi_label_accuracy: 0.0000e+00 - val_loss: 0.5831 - val_raw_multi_label_accuracy: 0.0000e+00\n",
      "Epoch 3/1000\n",
      " - 14s - loss: 0.5894 - raw_multi_label_accuracy: 0.0000e+00 - val_loss: 0.5841 - val_raw_multi_label_accuracy: 0.0000e+00\n",
      "Epoch 4/1000\n",
      " - 14s - loss: 0.5858 - raw_multi_label_accuracy: 0.0000e+00 - val_loss: 0.5802 - val_raw_multi_label_accuracy: 0.0000e+00\n",
      "Epoch 5/1000\n",
      " - 14s - loss: 0.5814 - raw_multi_label_accuracy: 3.6883e-04 - val_loss: 0.5784 - val_raw_multi_label_accuracy: 0.0000e+00\n",
      "Epoch 6/1000\n",
      " - 14s - loss: 0.5649 - raw_multi_label_accuracy: 0.0442 - val_loss: 0.5572 - val_raw_multi_label_accuracy: 0.1319\n",
      "Epoch 7/1000\n",
      " - 14s - loss: 0.5124 - raw_multi_label_accuracy: 0.3126 - val_loss: 0.5082 - val_raw_multi_label_accuracy: 0.2687\n",
      "Epoch 8/1000\n",
      " - 14s - loss: 0.4369 - raw_multi_label_accuracy: 0.4708 - val_loss: 0.4877 - val_raw_multi_label_accuracy: 0.3862\n",
      "Epoch 9/1000\n",
      " - 14s - loss: 0.4052 - raw_multi_label_accuracy: 0.5077 - val_loss: 0.5081 - val_raw_multi_label_accuracy: 0.3100\n",
      "Epoch 10/1000\n",
      " - 14s - loss: 0.3731 - raw_multi_label_accuracy: 0.5473 - val_loss: 0.5152 - val_raw_multi_label_accuracy: 0.3500\n",
      "Epoch 11/1000\n",
      " - 14s - loss: 0.3418 - raw_multi_label_accuracy: 0.5825 - val_loss: 0.4986 - val_raw_multi_label_accuracy: 0.3868\n",
      "Epoch 12/1000\n",
      " - 14s - loss: 0.3031 - raw_multi_label_accuracy: 0.6269 - val_loss: 0.5265 - val_raw_multi_label_accuracy: 0.3627\n",
      "Epoch 13/1000\n",
      " - 14s - loss: 0.2713 - raw_multi_label_accuracy: 0.6646 - val_loss: 0.5503 - val_raw_multi_label_accuracy: 0.3697\n",
      "Epoch 14/1000\n",
      " - 14s - loss: 0.2437 - raw_multi_label_accuracy: 0.7009 - val_loss: 0.5686 - val_raw_multi_label_accuracy: 0.3705\n",
      "Epoch 15/1000\n",
      " - 14s - loss: 0.2144 - raw_multi_label_accuracy: 0.7491 - val_loss: 0.6384 - val_raw_multi_label_accuracy: 0.3713\n",
      "Epoch 16/1000\n",
      " - 14s - loss: 0.1940 - raw_multi_label_accuracy: 0.7821 - val_loss: 0.7177 - val_raw_multi_label_accuracy: 0.3651\n",
      "Epoch 17/1000\n",
      " - 14s - loss: 0.1716 - raw_multi_label_accuracy: 0.8061 - val_loss: 0.7624 - val_raw_multi_label_accuracy: 0.3675\n",
      "Epoch 18/1000\n",
      " - 14s - loss: 0.1515 - raw_multi_label_accuracy: 0.8275 - val_loss: 0.7363 - val_raw_multi_label_accuracy: 0.3788\n",
      "Epoch 19/1000\n",
      " - 17s - loss: 0.1288 - raw_multi_label_accuracy: 0.8566 - val_loss: 0.8452 - val_raw_multi_label_accuracy: 0.3696\n",
      "Epoch 20/1000\n",
      " - 16s - loss: 0.1168 - raw_multi_label_accuracy: 0.8633 - val_loss: 0.8434 - val_raw_multi_label_accuracy: 0.3804\n",
      "Epoch 21/1000\n",
      " - 14s - loss: 0.1022 - raw_multi_label_accuracy: 0.8871 - val_loss: 0.8746 - val_raw_multi_label_accuracy: 0.3877\n",
      "Epoch 22/1000\n",
      " - 14s - loss: 0.0908 - raw_multi_label_accuracy: 0.9007 - val_loss: 0.9352 - val_raw_multi_label_accuracy: 0.3933\n",
      "Epoch 23/1000\n",
      " - 14s - loss: 0.0808 - raw_multi_label_accuracy: 0.9082 - val_loss: 0.9080 - val_raw_multi_label_accuracy: 0.4146\n",
      "Epoch 24/1000\n",
      " - 14s - loss: 0.0695 - raw_multi_label_accuracy: 0.9289 - val_loss: 0.9574 - val_raw_multi_label_accuracy: 0.4013\n",
      "Epoch 25/1000\n",
      " - 14s - loss: 0.0583 - raw_multi_label_accuracy: 0.9386 - val_loss: 0.9924 - val_raw_multi_label_accuracy: 0.4000\n",
      "Epoch 26/1000\n",
      " - 14s - loss: 0.0544 - raw_multi_label_accuracy: 0.9411 - val_loss: 1.0297 - val_raw_multi_label_accuracy: 0.4098\n",
      "Epoch 27/1000\n",
      " - 14s - loss: 0.0490 - raw_multi_label_accuracy: 0.9486 - val_loss: 1.1226 - val_raw_multi_label_accuracy: 0.4044\n",
      "Epoch 28/1000\n",
      " - 14s - loss: 0.0448 - raw_multi_label_accuracy: 0.9525 - val_loss: 1.1685 - val_raw_multi_label_accuracy: 0.4019\n",
      "Epoch 29/1000\n",
      " - 14s - loss: 0.0416 - raw_multi_label_accuracy: 0.9561 - val_loss: 1.1589 - val_raw_multi_label_accuracy: 0.4128\n",
      "Epoch 30/1000\n",
      " - 14s - loss: 0.0372 - raw_multi_label_accuracy: 0.9593 - val_loss: 1.1728 - val_raw_multi_label_accuracy: 0.4097\n",
      "Epoch 31/1000\n",
      " - 14s - loss: 0.0327 - raw_multi_label_accuracy: 0.9621 - val_loss: 1.1972 - val_raw_multi_label_accuracy: 0.4111\n",
      "Epoch 32/1000\n",
      " - 14s - loss: 0.0291 - raw_multi_label_accuracy: 0.9690 - val_loss: 1.2202 - val_raw_multi_label_accuracy: 0.4178\n",
      "Epoch 33/1000\n",
      " - 14s - loss: 0.0262 - raw_multi_label_accuracy: 0.9724 - val_loss: 1.2155 - val_raw_multi_label_accuracy: 0.4267\n",
      "Epoch 34/1000\n",
      " - 14s - loss: 0.0236 - raw_multi_label_accuracy: 0.9762 - val_loss: 1.3025 - val_raw_multi_label_accuracy: 0.4175\n",
      "Epoch 35/1000\n",
      " - 14s - loss: 0.0248 - raw_multi_label_accuracy: 0.9754 - val_loss: 1.1904 - val_raw_multi_label_accuracy: 0.4204\n",
      "Epoch 36/1000\n",
      " - 15s - loss: 0.0229 - raw_multi_label_accuracy: 0.9767 - val_loss: 1.2664 - val_raw_multi_label_accuracy: 0.4180\n",
      "Epoch 37/1000\n",
      " - 15s - loss: 0.0198 - raw_multi_label_accuracy: 0.9802 - val_loss: 1.3009 - val_raw_multi_label_accuracy: 0.4216\n",
      "Epoch 38/1000\n",
      " - 15s - loss: 0.0179 - raw_multi_label_accuracy: 0.9852 - val_loss: 1.3372 - val_raw_multi_label_accuracy: 0.4043\n",
      "Time to train with cross validation for early stopping: 549.6866929531097 seconds\n"
     ]
    }
   ],
   "source": [
    "bi_lstm = Sequential()\n",
    "e = Embedding(num_words_kept, word_vec_len, weights=[embedding_matrix], input_length=max_seq_len, trainable=True)\n",
    "bi_lstm.add(e)\n",
    "bi_lstm.add(Bidirectional(LSTM(100, dropout=0.25, recurrent_dropout=0.25)))\n",
    "bi_lstm.add(Dense(256, activation='relu'))\n",
    "bi_lstm.add(Dense(len(genre_dict), activation='sigmoid'))\n",
    "bi_lstm.compile(loss='binary_crossentropy', optimizer='adam', metrics=[raw_multi_label_accuracy])\n",
    "start = time.time()\n",
    "bi_lstm.fit(x_train_seq, y_train, validation_split = .1, callbacks = [DelayedEarlyStopping(monitor = 'val_raw_multi_label_accuracy', patience = 5, delay=25)], epochs=1000, batch_size=100, verbose=2)\n",
    "end = time.time()\n",
    "print('Time to train with cross validation for early stopping: ' + str(end-start) + ' seconds')"
   ]
  },
  {
   "cell_type": "code",
   "execution_count": 40,
   "metadata": {},
   "outputs": [],
   "source": [
    "predictions = nn_output_to_predictions(bi_lstm.predict(x_test_seq))"
   ]
  },
  {
   "cell_type": "code",
   "execution_count": 41,
   "metadata": {},
   "outputs": [
    {
     "name": "stdout",
     "output_type": "stream",
     "text": [
      "Getting evaluation metrics for each label:\n",
      "Accuruacy for Action-Adventure: 0.598343685300207\n",
      "Precision for Action-Adventure: 0.48859934853420195\n",
      "Recall for Action-Adventure: 0.8021390374331551\n",
      "\n",
      "Accuruacy for Romance: 0.7598343685300207\n",
      "Precision for Romance: 0.4418604651162791\n",
      "Recall for Romance: 0.3584905660377358\n",
      "\n",
      "Accuruacy for Horror-Thriller: 0.6832298136645962\n",
      "Precision for Horror-Thriller: 0.5924170616113744\n",
      "Recall for Horror-Thriller: 0.6510416666666666\n",
      "\n",
      "Accuruacy for Comedy: 0.7267080745341615\n",
      "Precision for Comedy: 0.6653061224489796\n",
      "Recall for Comedy: 0.7652582159624414\n",
      "\n",
      "Accuruacy for Science Fiction: 0.8819875776397516\n",
      "Precision for Science Fiction: 0.48148148148148145\n",
      "Recall for Science Fiction: 0.23214285714285715\n",
      "\n",
      "Getting evaluations for multilabel problem\n",
      "Multilabel accuracy: 0.4924775707384408\n",
      "Multilabel precision: 0.5950655624568669\n",
      "Multilabel recall: 0.6878881987577641\n",
      "Percent of correctly decided label decisions: 73.00207039337474\n"
     ]
    }
   ],
   "source": [
    "get_all_metrics(y_test, predictions)"
   ]
  }
 ],
 "metadata": {
  "kernelspec": {
   "display_name": "Python 3",
   "language": "python",
   "name": "python3"
  },
  "language_info": {
   "codemirror_mode": {
    "name": "ipython",
    "version": 3
   },
   "file_extension": ".py",
   "mimetype": "text/x-python",
   "name": "python",
   "nbconvert_exporter": "python",
   "pygments_lexer": "ipython3",
   "version": "3.6.7"
  }
 },
 "nbformat": 4,
 "nbformat_minor": 2
}
