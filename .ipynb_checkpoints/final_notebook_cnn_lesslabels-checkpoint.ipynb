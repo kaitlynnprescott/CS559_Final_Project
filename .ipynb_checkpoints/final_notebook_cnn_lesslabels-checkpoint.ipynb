{
 "cells": [
  {
   "cell_type": "code",
   "execution_count": 1,
   "metadata": {},
   "outputs": [],
   "source": [
    "import numpy as np\n",
    "import pandas as pd\n",
    "#for reading in data properly\n",
    "import ast\n",
    "import json\n",
    "\n",
    "import gensim\n",
    "from gensim.models import Doc2Vec\n",
    "from gensim.models import Word2Vec\n",
    "from gensim.models.doc2vec import TaggedDocument\n",
    "\n",
    "from sklearn.model_selection import train_test_split\n",
    "from sklearn import utils\n",
    "\n",
    "import re\n",
    "\n",
    "import nltk\n",
    "from nltk.corpus import stopwords\n",
    "from nltk.tokenize import word_tokenize\n",
    "\n",
    "stop_words = set(stopwords.words('english'))"
   ]
  },
  {
   "cell_type": "code",
   "execution_count": 2,
   "metadata": {},
   "outputs": [],
   "source": [
    "all_data = pd.read_csv('train.csv')\n",
    "all_data = all_data.dropna(subset=['overview', 'genres']) #drop cols without overview or genre (data we use or labels)"
   ]
  },
  {
   "cell_type": "code",
   "execution_count": 3,
   "metadata": {},
   "outputs": [],
   "source": [
    "def text_to_list(x):\n",
    "    if pd.isna(x):\n",
    "        return ''\n",
    "    else:\n",
    "        return ast.literal_eval(x)\n",
    "\n",
    "def parse_json(x):\n",
    "    try:\n",
    "        return json.loads(x.replace(\"'\", '\"'))[0]['name']\n",
    "    except:\n",
    "        return ''\n",
    "    \n",
    "def parse_genres_json(x):\n",
    "    try:\n",
    "        json_genres = json.loads(x.replace(\"'\", '\"'))\n",
    "        numElems = len(json_genres)\n",
    "        ret = [0]*len(genre_dict) #number of genres we are looking at\n",
    "        for i in range(numElems):\n",
    "            genre_str = (json_genres[i]['name'])\n",
    "            if genre_str in genre_map.keys():\n",
    "                ret[genre_dict[genre_map[genre_str]]] = 1\n",
    "        return ret\n",
    "    except Exception as excep:\n",
    "        print('Exception' + str(excep))\n",
    "        return ''"
   ]
  },
  {
   "cell_type": "code",
   "execution_count": 4,
   "metadata": {},
   "outputs": [
    {
     "data": {
      "text/plain": [
       "{'Action-Adventure': 0,\n",
       " 'Romance': 1,\n",
       " 'Horror-Thriller': 2,\n",
       " 'Comedy': 3,\n",
       " 'Science Fiction': 4}"
      ]
     },
     "execution_count": 4,
     "metadata": {},
     "output_type": "execute_result"
    }
   ],
   "source": [
    "genre_dict = {}\n",
    "genre_dict['Action-Adventure'] = 0\n",
    "genre_dict['Romance'] = 1\n",
    "genre_dict['Horror-Thriller'] = 2\n",
    "genre_dict['Comedy'] = 3\n",
    "genre_dict['Science Fiction'] = 4\n",
    "#genre_dict['Drama'] = 5\n",
    "genre_dict"
   ]
  },
  {
   "cell_type": "code",
   "execution_count": 5,
   "metadata": {},
   "outputs": [],
   "source": [
    "genre_map = {}\n",
    "genre_map['Adventure'] = 'Action-Adventure'\n",
    "genre_map['Romance'] = 'Romance'\n",
    "genre_map['Horror'] = 'Horror-Thriller'\n",
    "genre_map['Thriller'] = 'Horror-Thriller'\n",
    "genre_map['Comedy'] = 'Comedy'\n",
    "#genre_map['War'] = 'Action-Adventure'#not sure about this\n",
    "genre_map['Action'] = 'Action-Adventure'\n",
    "genre_map['Science Fiction'] = 'Science Fiction'\n",
    "#genre_map['Drama'] = 'Drama'"
   ]
  },
  {
   "cell_type": "code",
   "execution_count": 6,
   "metadata": {},
   "outputs": [],
   "source": [
    "def getGenresVects():\n",
    "    y = all_data['genres']\n",
    "    ret = y.apply(parse_genres_json)\n",
    "    all_data['genres_vect'] = ret\n",
    "    return ret"
   ]
  },
  {
   "cell_type": "code",
   "execution_count": 7,
   "metadata": {},
   "outputs": [],
   "source": [
    "labels_vects = getGenresVects() #get label vectors for genres indexed by indexes in genre_dict"
   ]
  },
  {
   "cell_type": "code",
   "execution_count": 8,
   "metadata": {},
   "outputs": [],
   "source": [
    "#put to lower case, remove punctation\n",
    "def cleanText(text):\n",
    "    no_stopword_text = [w for w in text.split() if not w in stop_words]\n",
    "    text = ' '.join(no_stopword_text)\n",
    "    text = re.sub(r'[^a-z A-Z0-9]', \"\", text) #maybe shouldn't remove punction between words here?\n",
    "    text = text.lower()\n",
    "    return text\n",
    "all_data['cleanOverview'] = all_data['overview'].apply(cleanText)"
   ]
  },
  {
   "cell_type": "code",
   "execution_count": 9,
   "metadata": {},
   "outputs": [],
   "source": [
    "all_data = all_data[all_data.genres_vect.map(sum) > 0]"
   ]
  },
  {
   "cell_type": "code",
   "execution_count": 10,
   "metadata": {},
   "outputs": [],
   "source": [
    "#logistic regression data\n",
    "lr_data = all_data[['cleanOverview', 'genres_vect', 'overview']]"
   ]
  },
  {
   "cell_type": "code",
   "execution_count": 11,
   "metadata": {},
   "outputs": [],
   "source": [
    "train, test = train_test_split(lr_data, test_size=0.2, random_state=42)"
   ]
  },
  {
   "cell_type": "markdown",
   "metadata": {},
   "source": [
    "CNN STUFF here"
   ]
  },
  {
   "cell_type": "code",
   "execution_count": 12,
   "metadata": {},
   "outputs": [],
   "source": [
    "#get word embeddings\n",
    "x = train['cleanOverview'].values.tolist()\n",
    "y = train['genres_vect']"
   ]
  },
  {
   "cell_type": "code",
   "execution_count": 13,
   "metadata": {},
   "outputs": [],
   "source": [
    "x_test = test['cleanOverview'].values.tolist()\n",
    "y_test = test['genres_vect']"
   ]
  },
  {
   "cell_type": "code",
   "execution_count": 14,
   "metadata": {},
   "outputs": [],
   "source": [
    "y_train = y.tolist()\n",
    "y_train = np.array(y_train)"
   ]
  },
  {
   "cell_type": "code",
   "execution_count": 15,
   "metadata": {},
   "outputs": [],
   "source": [
    "y_test = y_test.tolist()\n",
    "y_test = np.array(y_test)"
   ]
  },
  {
   "cell_type": "code",
   "execution_count": 16,
   "metadata": {},
   "outputs": [],
   "source": [
    "tok = [word_tokenize(sent) for sent in x]"
   ]
  },
  {
   "cell_type": "code",
   "execution_count": 17,
   "metadata": {},
   "outputs": [],
   "source": [
    "word_vec_len = 32\n",
    "model = Word2Vec(tok, min_count = 2, size=word_vec_len)"
   ]
  },
  {
   "cell_type": "code",
   "execution_count": 18,
   "metadata": {},
   "outputs": [
    {
     "name": "stderr",
     "output_type": "stream",
     "text": [
      "Using TensorFlow backend.\n"
     ]
    }
   ],
   "source": [
    "from keras.preprocessing.text import Tokenizer\n",
    "from keras.preprocessing.sequence import pad_sequences\n",
    "\n",
    "num_words_kept = 100000 #using 100000 most popular words, use throughout\n",
    "\n",
    "tokenizer = Tokenizer(num_words_kept)\n",
    "tokenizer.fit_on_texts(x)\n",
    "sequences = tokenizer.texts_to_sequences(x)\n",
    "\n",
    "max_seq_len = 150\n",
    "\n",
    "x_train_seq = pad_sequences(sequences, maxlen=max_seq_len)"
   ]
  },
  {
   "cell_type": "code",
   "execution_count": 19,
   "metadata": {},
   "outputs": [],
   "source": [
    "test_sequences = tokenizer.texts_to_sequences(x_test)\n",
    "x_test_seq = pad_sequences(test_sequences, maxlen=max_seq_len)"
   ]
  },
  {
   "cell_type": "code",
   "execution_count": 20,
   "metadata": {},
   "outputs": [],
   "source": [
    "embeddings_index = {}\n",
    "for w in model.wv.vocab.keys():\n",
    "    embeddings_index[w] = model.wv[w]\n",
    "\n",
    "\n",
    "embedding_matrix = np.zeros((num_words_kept, word_vec_len))\n",
    "for word, i in tokenizer.word_index.items():\n",
    "    if i >= num_words_kept:\n",
    "        continue\n",
    "    embedding_vector = embeddings_index.get(word)\n",
    "    if embedding_vector is not None:\n",
    "        embedding_matrix[i] = embedding_vector"
   ]
  },
  {
   "cell_type": "code",
   "execution_count": 21,
   "metadata": {},
   "outputs": [],
   "source": [
    "from sklearn.metrics import accuracy_score\n",
    "from sklearn.metrics import precision_score\n",
    "from sklearn.metrics import recall_score\n",
    "\n",
    "def get_per_label_metrics(real_labels_matrix, predictions_labels_matrix):\n",
    "    for genre in genre_dict.keys():\n",
    "        index = genre_dict[genre]\n",
    "        real_labels_vect = real_labels_matrix[:, index]\n",
    "        prediction_vect = predictions_labels_matrix[:,index]\n",
    "        print(\"Accuruacy for \" + genre + \": \" + str(accuracy_score(real_labels_vect, prediction_vect)))\n",
    "        print(\"Precision for \" + genre + \": \" + str(precision_score(real_labels_vect, prediction_vect)))\n",
    "        print(\"Recall for \" + genre + \": \" + str(recall_score(real_labels_vect, prediction_vect)))\n",
    "        print()"
   ]
  },
  {
   "cell_type": "code",
   "execution_count": 22,
   "metadata": {},
   "outputs": [],
   "source": [
    "#size of intersection of predicted and actual labels divided by size of their union for each datapoint tested on\n",
    "#sum those and then divide by number of datapoints\n",
    "#vectorized for speed\n",
    "def multi_label_accuracy(real_labels_matrix, predictions_labels_matrix):\n",
    "    #binary so set intersection is and operator\n",
    "    intersection = real_labels_matrix & predictions_labels_matrix\n",
    "    #set union for binary is same as or operator\n",
    "    union = real_labels_matrix | predictions_labels_matrix\n",
    "    #sum(array.T) gets number of 1s in row\n",
    "    row_wise_accuracy = sum(intersection.T) / sum(union.T)\n",
    "    return sum(row_wise_accuracy) / real_labels_matrix.shape[0]\n",
    "\n",
    "#size of intersection of predicted and actual labels divided by size of predicted set for each datapoint tested on\n",
    "#sum those and divide by number of datapoints\n",
    "#if no predicted labels, don't count that row towards the precision as that would be undefined\n",
    "def multi_label_precision(real_labels_matrix, predictions_labels_matrix):\n",
    "    #binary so set intersection is and operator\n",
    "    intersection = real_labels_matrix & predictions_labels_matrix\n",
    "    precision_sum = 0\n",
    "    num_rows = 0\n",
    "    for row in range(intersection.shape[0]):\n",
    "        if sum(predictions_labels_matrix[row]) > 0: #if there is at least one prediction for this row\n",
    "            num_rows += 1\n",
    "            precision_sum += sum(intersection[row]) / sum(predictions_labels_matrix[row])\n",
    "    if num_rows == 0:\n",
    "        return 0#no labels predicted at all will give us 0 precision as precision makes no sense here\n",
    "    return precision_sum / num_rows\n",
    "\n",
    "#size of intersection of predicted and actual labels divided by size of real label set for each datapoint tested on\n",
    "#sum those and divide by number of datapoints\n",
    "#all datapoints should have at least 1 real label in this data set\n",
    "#vectorized for speed\n",
    "def multi_label_recall(real_labels_matrix, predictions_labels_matrix):\n",
    "    #binary so set intersection is and operator\n",
    "    intersection = real_labels_matrix & predictions_labels_matrix\n",
    "    #set union for binary is same as or operator\n",
    "    #sum(array.T) gets number of 1s in row\n",
    "    row_wise_recall = sum(intersection.T) / sum(real_labels_matrix.T)\n",
    "    return sum(row_wise_recall) / real_labels_matrix.shape[0]\n",
    "\n",
    "#lower is better\n",
    "def hamming_loss(real_labels_matrix, predictions_labels_matrix):\n",
    "    return (np.logical_xor(real_labels_matrix, predictions_labels_matrix)).sum()/(real_labels_matrix.shape[0] * real_labels_matrix.shape[1])\n",
    "\n",
    "import keras.backend as K\n",
    "\n",
    "#metric for keras for early stopping\n",
    "#takes in raw labels from kerass (not yet converted to 0 and 1s)\n",
    "#NOT the same as accuracy, this is total labels correctly identified divided by union of total labels\n",
    "#this weights rows with more labels higher, where accruacy does not, but this is still a good metric for early stopping\n",
    "def raw_multi_label_accuracy(y_true, y_pred):\n",
    "    positives = K.greater_equal(y_pred, 0.5)\n",
    "    positives = K.cast(positives, K.floatx())\n",
    "    new_y_pred = positives #+ ((1-positives)*y_pred)\n",
    "    intersection = y_true * new_y_pred\n",
    "    union = 1 -((1-y_true)*(1-new_y_pred))\n",
    "    accuracy = K.sum(intersection) / K.sum(union)\n",
    "    return accuracy\n",
    "    "
   ]
  },
  {
   "cell_type": "code",
   "execution_count": 23,
   "metadata": {},
   "outputs": [],
   "source": [
    "from keras.callbacks import EarlyStopping\n",
    "#for early stopping only after certain number of epochs. wait until delay epochs until early stopping\n",
    "class DelayedEarlyStopping(EarlyStopping):\n",
    "    def __init__(self, monitor, min_delta=0, patience=0, verbose=0, mode='auto', delay = 100):\n",
    "        super(DelayedEarlyStopping, self).__init__()\n",
    "        self.delay = delay\n",
    "\n",
    "    def on_epoch_end(self, epoch, logs=None):\n",
    "        if epoch > self.delay:\n",
    "            super().on_epoch_end(epoch, logs)"
   ]
  },
  {
   "cell_type": "code",
   "execution_count": 24,
   "metadata": {
    "scrolled": true
   },
   "outputs": [
    {
     "name": "stdout",
     "output_type": "stream",
     "text": [
      "WARNING:tensorflow:From /home/matt/.local/lib/python3.6/site-packages/tensorflow/python/framework/op_def_library.py:263: colocate_with (from tensorflow.python.framework.ops) is deprecated and will be removed in a future version.\n",
      "Instructions for updating:\n",
      "Colocations handled automatically by placer.\n",
      "WARNING:tensorflow:From /home/matt/.local/lib/python3.6/site-packages/keras/backend/tensorflow_backend.py:3445: calling dropout (from tensorflow.python.ops.nn_ops) with keep_prob is deprecated and will be removed in a future version.\n",
      "Instructions for updating:\n",
      "Please use `rate` instead of `keep_prob`. Rate should be set to `rate = 1 - keep_prob`.\n",
      "WARNING:tensorflow:From /home/matt/.local/lib/python3.6/site-packages/tensorflow/python/ops/math_ops.py:3066: to_int32 (from tensorflow.python.ops.math_ops) is deprecated and will be removed in a future version.\n",
      "Instructions for updating:\n",
      "Use tf.cast instead.\n",
      "WARNING:tensorflow:From /home/matt/.local/lib/python3.6/site-packages/tensorflow/python/ops/math_grad.py:102: div (from tensorflow.python.ops.math_ops) is deprecated and will be removed in a future version.\n",
      "Instructions for updating:\n",
      "Deprecated in favor of operator or tf.math.divide.\n",
      "Train on 1738 samples, validate on 194 samples\n",
      "Epoch 1/1000\n",
      " - 2s - loss: 2.1209 - raw_multi_label_accuracy: 0.1890 - val_loss: 1.8021 - val_raw_multi_label_accuracy: 0.0000e+00\n",
      "Epoch 2/1000\n",
      " - 1s - loss: 1.6278 - raw_multi_label_accuracy: 0.1493 - val_loss: 1.4011 - val_raw_multi_label_accuracy: 0.0000e+00\n",
      "Epoch 3/1000\n",
      " - 1s - loss: 1.2844 - raw_multi_label_accuracy: 0.1262 - val_loss: 1.1226 - val_raw_multi_label_accuracy: 0.0000e+00\n",
      "Epoch 4/1000\n",
      " - 1s - loss: 1.0464 - raw_multi_label_accuracy: 0.1225 - val_loss: 0.9320 - val_raw_multi_label_accuracy: 0.0000e+00\n",
      "Epoch 5/1000\n",
      " - 1s - loss: 0.8864 - raw_multi_label_accuracy: 0.0988 - val_loss: 0.8100 - val_raw_multi_label_accuracy: 0.0000e+00\n",
      "Epoch 6/1000\n",
      " - 1s - loss: 0.7817 - raw_multi_label_accuracy: 0.0770 - val_loss: 0.7276 - val_raw_multi_label_accuracy: 0.0000e+00\n",
      "Epoch 7/1000\n",
      " - 2s - loss: 0.7150 - raw_multi_label_accuracy: 0.0738 - val_loss: 0.6762 - val_raw_multi_label_accuracy: 0.0000e+00\n",
      "Epoch 8/1000\n",
      " - 2s - loss: 0.6714 - raw_multi_label_accuracy: 0.0527 - val_loss: 0.6418 - val_raw_multi_label_accuracy: 0.0000e+00\n",
      "Epoch 9/1000\n",
      " - 1s - loss: 0.6445 - raw_multi_label_accuracy: 0.0443 - val_loss: 0.6226 - val_raw_multi_label_accuracy: 0.0000e+00\n",
      "Epoch 10/1000\n",
      " - 1s - loss: 0.6233 - raw_multi_label_accuracy: 0.0469 - val_loss: 0.6084 - val_raw_multi_label_accuracy: 0.0000e+00\n",
      "Epoch 11/1000\n",
      " - 1s - loss: 0.6125 - raw_multi_label_accuracy: 0.0322 - val_loss: 0.6005 - val_raw_multi_label_accuracy: 0.0000e+00\n",
      "Epoch 12/1000\n",
      " - 1s - loss: 0.6064 - raw_multi_label_accuracy: 0.0377 - val_loss: 0.5962 - val_raw_multi_label_accuracy: 0.0000e+00\n",
      "Epoch 13/1000\n",
      " - 1s - loss: 0.6006 - raw_multi_label_accuracy: 0.0246 - val_loss: 0.5938 - val_raw_multi_label_accuracy: 0.0000e+00\n",
      "Epoch 14/1000\n",
      " - 1s - loss: 0.5988 - raw_multi_label_accuracy: 0.0131 - val_loss: 0.5913 - val_raw_multi_label_accuracy: 0.0000e+00\n",
      "Epoch 15/1000\n",
      " - 1s - loss: 0.5958 - raw_multi_label_accuracy: 0.0240 - val_loss: 0.5917 - val_raw_multi_label_accuracy: 0.0000e+00\n",
      "Epoch 16/1000\n",
      " - 1s - loss: 0.5909 - raw_multi_label_accuracy: 0.0221 - val_loss: 0.5915 - val_raw_multi_label_accuracy: 0.0000e+00\n",
      "Epoch 17/1000\n",
      " - 1s - loss: 0.5861 - raw_multi_label_accuracy: 0.0361 - val_loss: 0.5942 - val_raw_multi_label_accuracy: 0.0000e+00\n",
      "Epoch 18/1000\n",
      " - 1s - loss: 0.5741 - raw_multi_label_accuracy: 0.0406 - val_loss: 0.6006 - val_raw_multi_label_accuracy: 0.0000e+00\n",
      "Epoch 19/1000\n",
      " - 1s - loss: 0.5612 - raw_multi_label_accuracy: 0.0843 - val_loss: 0.6114 - val_raw_multi_label_accuracy: 0.0100\n",
      "Epoch 20/1000\n",
      " - 1s - loss: 0.5472 - raw_multi_label_accuracy: 0.1263 - val_loss: 0.6153 - val_raw_multi_label_accuracy: 0.0231\n",
      "Epoch 21/1000\n",
      " - 1s - loss: 0.5333 - raw_multi_label_accuracy: 0.1712 - val_loss: 0.6197 - val_raw_multi_label_accuracy: 0.0260\n",
      "Epoch 22/1000\n",
      " - 1s - loss: 0.5239 - raw_multi_label_accuracy: 0.1939 - val_loss: 0.6284 - val_raw_multi_label_accuracy: 0.0496\n",
      "Epoch 23/1000\n",
      " - 1s - loss: 0.5123 - raw_multi_label_accuracy: 0.2200 - val_loss: 0.6352 - val_raw_multi_label_accuracy: 0.0592\n",
      "Epoch 24/1000\n",
      " - 1s - loss: 0.5063 - raw_multi_label_accuracy: 0.2249 - val_loss: 0.6360 - val_raw_multi_label_accuracy: 0.0644\n",
      "Epoch 25/1000\n",
      " - 1s - loss: 0.4980 - raw_multi_label_accuracy: 0.2215 - val_loss: 0.6396 - val_raw_multi_label_accuracy: 0.0618\n",
      "Epoch 26/1000\n",
      " - 1s - loss: 0.4909 - raw_multi_label_accuracy: 0.2545 - val_loss: 0.6415 - val_raw_multi_label_accuracy: 0.0995\n",
      "Epoch 27/1000\n",
      " - 1s - loss: 0.4875 - raw_multi_label_accuracy: 0.2630 - val_loss: 0.6453 - val_raw_multi_label_accuracy: 0.1140\n",
      "Epoch 28/1000\n",
      " - 1s - loss: 0.4839 - raw_multi_label_accuracy: 0.2682 - val_loss: 0.6463 - val_raw_multi_label_accuracy: 0.0944\n",
      "Epoch 29/1000\n",
      " - 1s - loss: 0.4748 - raw_multi_label_accuracy: 0.2950 - val_loss: 0.6426 - val_raw_multi_label_accuracy: 0.1371\n",
      "Epoch 30/1000\n",
      " - 1s - loss: 0.4645 - raw_multi_label_accuracy: 0.3466 - val_loss: 0.6440 - val_raw_multi_label_accuracy: 0.1568\n",
      "Epoch 31/1000\n",
      " - 1s - loss: 0.4514 - raw_multi_label_accuracy: 0.3705 - val_loss: 0.6552 - val_raw_multi_label_accuracy: 0.1667\n",
      "Epoch 32/1000\n",
      " - 1s - loss: 0.4376 - raw_multi_label_accuracy: 0.4086 - val_loss: 0.6712 - val_raw_multi_label_accuracy: 0.1695\n",
      "Epoch 33/1000\n",
      " - 1s - loss: 0.4207 - raw_multi_label_accuracy: 0.4370 - val_loss: 0.6804 - val_raw_multi_label_accuracy: 0.1865\n",
      "Epoch 34/1000\n",
      " - 1s - loss: 0.4077 - raw_multi_label_accuracy: 0.4598 - val_loss: 0.7048 - val_raw_multi_label_accuracy: 0.1909\n",
      "Epoch 35/1000\n",
      " - 1s - loss: 0.4004 - raw_multi_label_accuracy: 0.4857 - val_loss: 0.7008 - val_raw_multi_label_accuracy: 0.2158\n",
      "Epoch 36/1000\n",
      " - 1s - loss: 0.3833 - raw_multi_label_accuracy: 0.5174 - val_loss: 0.6973 - val_raw_multi_label_accuracy: 0.2371\n",
      "Epoch 37/1000\n",
      " - 1s - loss: 0.3750 - raw_multi_label_accuracy: 0.5300 - val_loss: 0.6954 - val_raw_multi_label_accuracy: 0.2230\n",
      "Epoch 38/1000\n",
      " - 1s - loss: 0.3680 - raw_multi_label_accuracy: 0.5424 - val_loss: 0.7068 - val_raw_multi_label_accuracy: 0.2371\n",
      "Epoch 39/1000\n",
      " - 1s - loss: 0.3602 - raw_multi_label_accuracy: 0.5646 - val_loss: 0.7020 - val_raw_multi_label_accuracy: 0.2489\n",
      "Epoch 40/1000\n",
      " - 1s - loss: 0.3518 - raw_multi_label_accuracy: 0.5786 - val_loss: 0.7096 - val_raw_multi_label_accuracy: 0.2506\n",
      "Epoch 41/1000\n",
      " - 1s - loss: 0.3524 - raw_multi_label_accuracy: 0.5725 - val_loss: 0.7023 - val_raw_multi_label_accuracy: 0.2579\n",
      "Epoch 42/1000\n",
      " - 1s - loss: 0.3436 - raw_multi_label_accuracy: 0.5936 - val_loss: 0.6955 - val_raw_multi_label_accuracy: 0.2448\n",
      "Epoch 43/1000\n",
      " - 1s - loss: 0.3351 - raw_multi_label_accuracy: 0.5953 - val_loss: 0.7077 - val_raw_multi_label_accuracy: 0.2374\n",
      "Epoch 44/1000\n",
      " - 1s - loss: 0.3319 - raw_multi_label_accuracy: 0.6137 - val_loss: 0.7162 - val_raw_multi_label_accuracy: 0.2697\n",
      "Epoch 45/1000\n",
      " - 2s - loss: 0.3315 - raw_multi_label_accuracy: 0.6081 - val_loss: 0.7234 - val_raw_multi_label_accuracy: 0.2476\n",
      "Epoch 46/1000\n",
      " - 2s - loss: 0.3246 - raw_multi_label_accuracy: 0.6165 - val_loss: 0.7448 - val_raw_multi_label_accuracy: 0.2652\n",
      "Epoch 47/1000\n",
      " - 2s - loss: 0.3219 - raw_multi_label_accuracy: 0.6171 - val_loss: 0.7516 - val_raw_multi_label_accuracy: 0.2770\n",
      "Epoch 48/1000\n",
      " - 1s - loss: 0.3180 - raw_multi_label_accuracy: 0.6240 - val_loss: 0.7450 - val_raw_multi_label_accuracy: 0.2536\n",
      "Epoch 49/1000\n",
      " - 2s - loss: 0.3137 - raw_multi_label_accuracy: 0.6213 - val_loss: 0.7265 - val_raw_multi_label_accuracy: 0.2731\n",
      "Epoch 50/1000\n",
      " - 2s - loss: 0.3079 - raw_multi_label_accuracy: 0.6211 - val_loss: 0.7945 - val_raw_multi_label_accuracy: 0.2467\n",
      "Epoch 51/1000\n",
      " - 1s - loss: 0.3099 - raw_multi_label_accuracy: 0.6296 - val_loss: 0.7610 - val_raw_multi_label_accuracy: 0.2772\n",
      "Epoch 52/1000\n",
      " - 2s - loss: 0.3035 - raw_multi_label_accuracy: 0.6353 - val_loss: 0.7807 - val_raw_multi_label_accuracy: 0.2802\n",
      "Epoch 53/1000\n",
      " - 2s - loss: 0.2992 - raw_multi_label_accuracy: 0.6443 - val_loss: 0.7888 - val_raw_multi_label_accuracy: 0.2827\n",
      "Epoch 54/1000\n",
      " - 1s - loss: 0.2960 - raw_multi_label_accuracy: 0.6485 - val_loss: 0.7734 - val_raw_multi_label_accuracy: 0.2869\n"
     ]
    },
    {
     "name": "stdout",
     "output_type": "stream",
     "text": [
      "Epoch 55/1000\n",
      " - 1s - loss: 0.2938 - raw_multi_label_accuracy: 0.6610 - val_loss: 0.8267 - val_raw_multi_label_accuracy: 0.2780\n",
      "Epoch 56/1000\n",
      " - 2s - loss: 0.2936 - raw_multi_label_accuracy: 0.6543 - val_loss: 0.7799 - val_raw_multi_label_accuracy: 0.2807\n",
      "Epoch 57/1000\n",
      " - 1s - loss: 0.3000 - raw_multi_label_accuracy: 0.6661 - val_loss: 0.8073 - val_raw_multi_label_accuracy: 0.2915\n",
      "Epoch 58/1000\n",
      " - 2s - loss: 0.2900 - raw_multi_label_accuracy: 0.6696 - val_loss: 0.7985 - val_raw_multi_label_accuracy: 0.2968\n",
      "Epoch 59/1000\n",
      " - 1s - loss: 0.2850 - raw_multi_label_accuracy: 0.6709 - val_loss: 0.8708 - val_raw_multi_label_accuracy: 0.2762\n",
      "Epoch 60/1000\n",
      " - 1s - loss: 0.2848 - raw_multi_label_accuracy: 0.6669 - val_loss: 0.8438 - val_raw_multi_label_accuracy: 0.2836\n",
      "Epoch 61/1000\n",
      " - 1s - loss: 0.2797 - raw_multi_label_accuracy: 0.6912 - val_loss: 0.8351 - val_raw_multi_label_accuracy: 0.2808\n",
      "Epoch 62/1000\n",
      " - 2s - loss: 0.2731 - raw_multi_label_accuracy: 0.7055 - val_loss: 0.8769 - val_raw_multi_label_accuracy: 0.2900\n",
      "Epoch 63/1000\n",
      " - 1s - loss: 0.2759 - raw_multi_label_accuracy: 0.6857 - val_loss: 0.8457 - val_raw_multi_label_accuracy: 0.2887\n",
      "Epoch 64/1000\n",
      " - 1s - loss: 0.2725 - raw_multi_label_accuracy: 0.7030 - val_loss: 0.8522 - val_raw_multi_label_accuracy: 0.2989\n",
      "Epoch 65/1000\n",
      " - 2s - loss: 0.2711 - raw_multi_label_accuracy: 0.6984 - val_loss: 0.8818 - val_raw_multi_label_accuracy: 0.2889\n",
      "Epoch 66/1000\n",
      " - 2s - loss: 0.2711 - raw_multi_label_accuracy: 0.7099 - val_loss: 0.8845 - val_raw_multi_label_accuracy: 0.2947\n",
      "Epoch 67/1000\n",
      " - 2s - loss: 0.2681 - raw_multi_label_accuracy: 0.7035 - val_loss: 0.8867 - val_raw_multi_label_accuracy: 0.2860\n",
      "Epoch 68/1000\n",
      " - 1s - loss: 0.2637 - raw_multi_label_accuracy: 0.7143 - val_loss: 0.8996 - val_raw_multi_label_accuracy: 0.2978\n",
      "Epoch 69/1000\n",
      " - 2s - loss: 0.2636 - raw_multi_label_accuracy: 0.7137 - val_loss: 0.9076 - val_raw_multi_label_accuracy: 0.2916\n",
      "Epoch 70/1000\n",
      " - 1s - loss: 0.2640 - raw_multi_label_accuracy: 0.7142 - val_loss: 0.8850 - val_raw_multi_label_accuracy: 0.2964\n",
      "Epoch 71/1000\n",
      " - 1s - loss: 0.2659 - raw_multi_label_accuracy: 0.7065 - val_loss: 0.9298 - val_raw_multi_label_accuracy: 0.2920\n",
      "Epoch 72/1000\n",
      " - 1s - loss: 0.2586 - raw_multi_label_accuracy: 0.7069 - val_loss: 0.9351 - val_raw_multi_label_accuracy: 0.2970\n",
      "Epoch 73/1000\n",
      " - 1s - loss: 0.2582 - raw_multi_label_accuracy: 0.7242 - val_loss: 0.9690 - val_raw_multi_label_accuracy: 0.2859\n",
      "Epoch 74/1000\n",
      " - 1s - loss: 0.2534 - raw_multi_label_accuracy: 0.7224 - val_loss: 0.9125 - val_raw_multi_label_accuracy: 0.2950\n",
      "Epoch 75/1000\n",
      " - 1s - loss: 0.2553 - raw_multi_label_accuracy: 0.7305 - val_loss: 0.9593 - val_raw_multi_label_accuracy: 0.2932\n",
      "Epoch 76/1000\n",
      " - 1s - loss: 0.2577 - raw_multi_label_accuracy: 0.7179 - val_loss: 0.9545 - val_raw_multi_label_accuracy: 0.2909\n",
      "Epoch 77/1000\n",
      " - 1s - loss: 0.2544 - raw_multi_label_accuracy: 0.7201 - val_loss: 0.9633 - val_raw_multi_label_accuracy: 0.2858\n",
      "Epoch 78/1000\n",
      " - 1s - loss: 0.2539 - raw_multi_label_accuracy: 0.7202 - val_loss: 0.9931 - val_raw_multi_label_accuracy: 0.2907\n",
      "Epoch 79/1000\n",
      " - 1s - loss: 0.2534 - raw_multi_label_accuracy: 0.7256 - val_loss: 0.9380 - val_raw_multi_label_accuracy: 0.3007\n",
      "Epoch 80/1000\n",
      " - 1s - loss: 0.2490 - raw_multi_label_accuracy: 0.7220 - val_loss: 1.0286 - val_raw_multi_label_accuracy: 0.2893\n",
      "Epoch 81/1000\n",
      " - 1s - loss: 0.2464 - raw_multi_label_accuracy: 0.7385 - val_loss: 0.9712 - val_raw_multi_label_accuracy: 0.3094\n",
      "Epoch 82/1000\n",
      " - 1s - loss: 0.2454 - raw_multi_label_accuracy: 0.7297 - val_loss: 0.9798 - val_raw_multi_label_accuracy: 0.2897\n",
      "Epoch 83/1000\n",
      " - 1s - loss: 0.2455 - raw_multi_label_accuracy: 0.7381 - val_loss: 1.0370 - val_raw_multi_label_accuracy: 0.2859\n",
      "Epoch 84/1000\n",
      " - 1s - loss: 0.2428 - raw_multi_label_accuracy: 0.7434 - val_loss: 1.0157 - val_raw_multi_label_accuracy: 0.2867\n",
      "Epoch 85/1000\n",
      " - 1s - loss: 0.2430 - raw_multi_label_accuracy: 0.7417 - val_loss: 1.0052 - val_raw_multi_label_accuracy: 0.2902\n",
      "Epoch 86/1000\n",
      " - 1s - loss: 0.2391 - raw_multi_label_accuracy: 0.7420 - val_loss: 1.0421 - val_raw_multi_label_accuracy: 0.2837\n",
      "Epoch 87/1000\n",
      " - 1s - loss: 0.2430 - raw_multi_label_accuracy: 0.7403 - val_loss: 0.9996 - val_raw_multi_label_accuracy: 0.2963\n",
      "Epoch 88/1000\n",
      " - 1s - loss: 0.2425 - raw_multi_label_accuracy: 0.7391 - val_loss: 1.0340 - val_raw_multi_label_accuracy: 0.2704\n",
      "Epoch 89/1000\n",
      " - 1s - loss: 0.2379 - raw_multi_label_accuracy: 0.7467 - val_loss: 1.0889 - val_raw_multi_label_accuracy: 0.2809\n",
      "Epoch 90/1000\n",
      " - 2s - loss: 0.2393 - raw_multi_label_accuracy: 0.7405 - val_loss: 1.0145 - val_raw_multi_label_accuracy: 0.2837\n",
      "Epoch 91/1000\n",
      " - 1s - loss: 0.2365 - raw_multi_label_accuracy: 0.7538 - val_loss: 1.0701 - val_raw_multi_label_accuracy: 0.2993\n",
      "Epoch 92/1000\n",
      " - 1s - loss: 0.2329 - raw_multi_label_accuracy: 0.7530 - val_loss: 1.0534 - val_raw_multi_label_accuracy: 0.2912\n",
      "Epoch 93/1000\n",
      " - 1s - loss: 0.2310 - raw_multi_label_accuracy: 0.7503 - val_loss: 1.0579 - val_raw_multi_label_accuracy: 0.2847\n",
      "Epoch 94/1000\n",
      " - 1s - loss: 0.2282 - raw_multi_label_accuracy: 0.7574 - val_loss: 1.0702 - val_raw_multi_label_accuracy: 0.2890\n",
      "Epoch 95/1000\n",
      " - 1s - loss: 0.2273 - raw_multi_label_accuracy: 0.7595 - val_loss: 1.0530 - val_raw_multi_label_accuracy: 0.2978\n",
      "Epoch 96/1000\n",
      " - 1s - loss: 0.2293 - raw_multi_label_accuracy: 0.7594 - val_loss: 1.1090 - val_raw_multi_label_accuracy: 0.2929\n",
      "Epoch 97/1000\n",
      " - 1s - loss: 0.2260 - raw_multi_label_accuracy: 0.7514 - val_loss: 1.1018 - val_raw_multi_label_accuracy: 0.2821\n",
      "Epoch 98/1000\n",
      " - 1s - loss: 0.2262 - raw_multi_label_accuracy: 0.7533 - val_loss: 1.0737 - val_raw_multi_label_accuracy: 0.2908\n",
      "Epoch 99/1000\n",
      " - 1s - loss: 0.2233 - raw_multi_label_accuracy: 0.7658 - val_loss: 1.1132 - val_raw_multi_label_accuracy: 0.2884\n",
      "Epoch 100/1000\n",
      " - 1s - loss: 0.2221 - raw_multi_label_accuracy: 0.7581 - val_loss: 1.0912 - val_raw_multi_label_accuracy: 0.2938\n",
      "Epoch 101/1000\n",
      " - 1s - loss: 0.2198 - raw_multi_label_accuracy: 0.7660 - val_loss: 1.1459 - val_raw_multi_label_accuracy: 0.2892\n",
      "Epoch 102/1000\n",
      " - 1s - loss: 0.2190 - raw_multi_label_accuracy: 0.7622 - val_loss: 1.0708 - val_raw_multi_label_accuracy: 0.2841\n",
      "Epoch 103/1000\n",
      " - 1s - loss: 0.2187 - raw_multi_label_accuracy: 0.7611 - val_loss: 1.1165 - val_raw_multi_label_accuracy: 0.2833\n",
      "Epoch 104/1000\n",
      " - 1s - loss: 0.2192 - raw_multi_label_accuracy: 0.7565 - val_loss: 1.1501 - val_raw_multi_label_accuracy: 0.2797\n",
      "Epoch 105/1000\n",
      " - 1s - loss: 0.2167 - raw_multi_label_accuracy: 0.7608 - val_loss: 1.1222 - val_raw_multi_label_accuracy: 0.3019\n",
      "Epoch 106/1000\n",
      " - 1s - loss: 0.2142 - raw_multi_label_accuracy: 0.7701 - val_loss: 1.1282 - val_raw_multi_label_accuracy: 0.3016\n",
      "Epoch 107/1000\n",
      " - 1s - loss: 0.2172 - raw_multi_label_accuracy: 0.7649 - val_loss: 1.1617 - val_raw_multi_label_accuracy: 0.3029\n",
      "Epoch 108/1000\n",
      " - 1s - loss: 0.2072 - raw_multi_label_accuracy: 0.7735 - val_loss: 1.1763 - val_raw_multi_label_accuracy: 0.2880\n",
      "Epoch 109/1000\n",
      " - 1s - loss: 0.2167 - raw_multi_label_accuracy: 0.7609 - val_loss: 1.1965 - val_raw_multi_label_accuracy: 0.2946\n",
      "Epoch 110/1000\n",
      " - 1s - loss: 0.2113 - raw_multi_label_accuracy: 0.7697 - val_loss: 1.1788 - val_raw_multi_label_accuracy: 0.3000\n",
      "Epoch 111/1000\n",
      " - 1s - loss: 0.2059 - raw_multi_label_accuracy: 0.7792 - val_loss: 1.1667 - val_raw_multi_label_accuracy: 0.2983\n",
      "Epoch 112/1000\n",
      " - 1s - loss: 0.2049 - raw_multi_label_accuracy: 0.7741 - val_loss: 1.1536 - val_raw_multi_label_accuracy: 0.2992\n",
      "Epoch 113/1000\n",
      " - 1s - loss: 0.2012 - raw_multi_label_accuracy: 0.7805 - val_loss: 1.1937 - val_raw_multi_label_accuracy: 0.2923\n",
      "Epoch 114/1000\n",
      " - 1s - loss: 0.2063 - raw_multi_label_accuracy: 0.7738 - val_loss: 1.1979 - val_raw_multi_label_accuracy: 0.2951\n",
      "Epoch 115/1000\n",
      " - 1s - loss: 0.2005 - raw_multi_label_accuracy: 0.7819 - val_loss: 1.2208 - val_raw_multi_label_accuracy: 0.2851\n",
      "Epoch 116/1000\n",
      " - 1s - loss: 0.2051 - raw_multi_label_accuracy: 0.7701 - val_loss: 1.2258 - val_raw_multi_label_accuracy: 0.2890\n",
      "Epoch 117/1000\n",
      " - 1s - loss: 0.1999 - raw_multi_label_accuracy: 0.7784 - val_loss: 1.1695 - val_raw_multi_label_accuracy: 0.2954\n",
      "Epoch 118/1000\n",
      " - 1s - loss: 0.1971 - raw_multi_label_accuracy: 0.7816 - val_loss: 1.2134 - val_raw_multi_label_accuracy: 0.2951\n"
     ]
    },
    {
     "name": "stdout",
     "output_type": "stream",
     "text": [
      "Epoch 119/1000\n",
      " - 1s - loss: 0.2038 - raw_multi_label_accuracy: 0.7824 - val_loss: 1.2372 - val_raw_multi_label_accuracy: 0.2906\n",
      "Epoch 120/1000\n",
      " - 1s - loss: 0.2006 - raw_multi_label_accuracy: 0.7781 - val_loss: 1.2398 - val_raw_multi_label_accuracy: 0.3001\n",
      "Epoch 121/1000\n",
      " - 1s - loss: 0.1972 - raw_multi_label_accuracy: 0.7805 - val_loss: 1.2458 - val_raw_multi_label_accuracy: 0.3080\n",
      "Epoch 122/1000\n",
      " - 1s - loss: 0.1996 - raw_multi_label_accuracy: 0.7786 - val_loss: 1.2040 - val_raw_multi_label_accuracy: 0.3081\n",
      "Epoch 123/1000\n",
      " - 1s - loss: 0.1935 - raw_multi_label_accuracy: 0.7861 - val_loss: 1.2626 - val_raw_multi_label_accuracy: 0.3033\n",
      "Epoch 124/1000\n",
      " - 1s - loss: 0.1926 - raw_multi_label_accuracy: 0.7815 - val_loss: 1.2317 - val_raw_multi_label_accuracy: 0.3028\n",
      "Epoch 125/1000\n",
      " - 1s - loss: 0.1919 - raw_multi_label_accuracy: 0.7923 - val_loss: 1.2378 - val_raw_multi_label_accuracy: 0.3000\n",
      "Epoch 126/1000\n",
      " - 1s - loss: 0.1949 - raw_multi_label_accuracy: 0.7858 - val_loss: 1.2409 - val_raw_multi_label_accuracy: 0.3018\n",
      "Epoch 127/1000\n",
      " - 1s - loss: 0.1907 - raw_multi_label_accuracy: 0.7946 - val_loss: 1.3134 - val_raw_multi_label_accuracy: 0.2868\n",
      "Epoch 128/1000\n",
      " - 1s - loss: 0.1899 - raw_multi_label_accuracy: 0.7949 - val_loss: 1.2291 - val_raw_multi_label_accuracy: 0.2979\n",
      "Epoch 129/1000\n",
      " - 1s - loss: 0.1891 - raw_multi_label_accuracy: 0.7942 - val_loss: 1.2788 - val_raw_multi_label_accuracy: 0.2968\n",
      "Epoch 130/1000\n",
      " - 1s - loss: 0.1887 - raw_multi_label_accuracy: 0.7982 - val_loss: 1.3051 - val_raw_multi_label_accuracy: 0.2920\n",
      "Epoch 131/1000\n",
      " - 1s - loss: 0.1896 - raw_multi_label_accuracy: 0.7905 - val_loss: 1.2799 - val_raw_multi_label_accuracy: 0.2909\n",
      "Epoch 132/1000\n",
      " - 1s - loss: 0.1907 - raw_multi_label_accuracy: 0.7932 - val_loss: 1.3019 - val_raw_multi_label_accuracy: 0.2859\n",
      "Epoch 133/1000\n",
      " - 1s - loss: 0.1862 - raw_multi_label_accuracy: 0.8010 - val_loss: 1.3111 - val_raw_multi_label_accuracy: 0.2899\n",
      "Epoch 134/1000\n",
      " - 1s - loss: 0.1849 - raw_multi_label_accuracy: 0.8022 - val_loss: 1.3029 - val_raw_multi_label_accuracy: 0.2930\n",
      "Epoch 135/1000\n",
      " - 1s - loss: 0.1874 - raw_multi_label_accuracy: 0.7974 - val_loss: 1.2768 - val_raw_multi_label_accuracy: 0.2834\n",
      "Epoch 136/1000\n",
      " - 1s - loss: 0.1854 - raw_multi_label_accuracy: 0.8006 - val_loss: 1.3632 - val_raw_multi_label_accuracy: 0.2927\n",
      "Epoch 137/1000\n",
      " - 1s - loss: 0.1901 - raw_multi_label_accuracy: 0.7980 - val_loss: 1.3146 - val_raw_multi_label_accuracy: 0.2747\n",
      "Epoch 138/1000\n",
      " - 1s - loss: 0.1825 - raw_multi_label_accuracy: 0.8072 - val_loss: 1.3116 - val_raw_multi_label_accuracy: 0.2846\n",
      "Epoch 139/1000\n",
      " - 1s - loss: 0.1828 - raw_multi_label_accuracy: 0.8024 - val_loss: 1.3308 - val_raw_multi_label_accuracy: 0.2884\n",
      "Epoch 140/1000\n",
      " - 1s - loss: 0.1778 - raw_multi_label_accuracy: 0.8163 - val_loss: 1.3799 - val_raw_multi_label_accuracy: 0.2863\n",
      "Epoch 141/1000\n",
      " - 1s - loss: 0.1814 - raw_multi_label_accuracy: 0.8065 - val_loss: 1.3479 - val_raw_multi_label_accuracy: 0.2804\n",
      "Epoch 142/1000\n",
      " - 1s - loss: 0.1798 - raw_multi_label_accuracy: 0.8179 - val_loss: 1.3643 - val_raw_multi_label_accuracy: 0.2913\n",
      "Epoch 143/1000\n",
      " - 1s - loss: 0.1805 - raw_multi_label_accuracy: 0.8044 - val_loss: 1.4159 - val_raw_multi_label_accuracy: 0.2821\n",
      "Epoch 144/1000\n",
      " - 1s - loss: 0.1812 - raw_multi_label_accuracy: 0.8168 - val_loss: 1.3956 - val_raw_multi_label_accuracy: 0.2776\n",
      "Epoch 145/1000\n",
      " - 1s - loss: 0.1760 - raw_multi_label_accuracy: 0.8196 - val_loss: 1.3621 - val_raw_multi_label_accuracy: 0.2968\n",
      "Epoch 146/1000\n",
      " - 1s - loss: 0.1740 - raw_multi_label_accuracy: 0.8261 - val_loss: 1.3859 - val_raw_multi_label_accuracy: 0.2866\n",
      "Epoch 147/1000\n",
      " - 1s - loss: 0.1742 - raw_multi_label_accuracy: 0.8297 - val_loss: 1.4357 - val_raw_multi_label_accuracy: 0.2892\n",
      "Epoch 148/1000\n",
      " - 1s - loss: 0.1745 - raw_multi_label_accuracy: 0.8235 - val_loss: 1.3788 - val_raw_multi_label_accuracy: 0.2862\n",
      "Epoch 149/1000\n",
      " - 1s - loss: 0.1745 - raw_multi_label_accuracy: 0.8213 - val_loss: 1.3749 - val_raw_multi_label_accuracy: 0.2933\n",
      "Epoch 150/1000\n",
      " - 1s - loss: 0.1724 - raw_multi_label_accuracy: 0.8204 - val_loss: 1.4087 - val_raw_multi_label_accuracy: 0.2934\n",
      "Epoch 151/1000\n",
      " - 1s - loss: 0.1729 - raw_multi_label_accuracy: 0.8243 - val_loss: 1.3915 - val_raw_multi_label_accuracy: 0.2889\n",
      "Epoch 152/1000\n",
      " - 1s - loss: 0.1771 - raw_multi_label_accuracy: 0.8241 - val_loss: 1.4089 - val_raw_multi_label_accuracy: 0.2963\n",
      "Epoch 153/1000\n",
      " - 1s - loss: 0.1701 - raw_multi_label_accuracy: 0.8296 - val_loss: 1.4198 - val_raw_multi_label_accuracy: 0.3055\n",
      "Epoch 154/1000\n",
      " - 1s - loss: 0.1734 - raw_multi_label_accuracy: 0.8332 - val_loss: 1.4265 - val_raw_multi_label_accuracy: 0.2941\n",
      "Epoch 155/1000\n",
      " - 1s - loss: 0.1708 - raw_multi_label_accuracy: 0.8223 - val_loss: 1.4041 - val_raw_multi_label_accuracy: 0.2972\n",
      "Epoch 156/1000\n",
      " - 1s - loss: 0.1711 - raw_multi_label_accuracy: 0.8268 - val_loss: 1.4309 - val_raw_multi_label_accuracy: 0.2998\n",
      "Epoch 157/1000\n",
      " - 1s - loss: 0.1711 - raw_multi_label_accuracy: 0.8305 - val_loss: 1.4230 - val_raw_multi_label_accuracy: 0.2917\n",
      "Epoch 158/1000\n",
      " - 1s - loss: 0.1657 - raw_multi_label_accuracy: 0.8383 - val_loss: 1.4545 - val_raw_multi_label_accuracy: 0.2915\n",
      "Epoch 159/1000\n",
      " - 1s - loss: 0.1649 - raw_multi_label_accuracy: 0.8329 - val_loss: 1.4847 - val_raw_multi_label_accuracy: 0.2871\n",
      "Epoch 160/1000\n",
      " - 1s - loss: 0.1659 - raw_multi_label_accuracy: 0.8280 - val_loss: 1.4670 - val_raw_multi_label_accuracy: 0.2988\n",
      "Epoch 161/1000\n",
      " - 1s - loss: 0.1652 - raw_multi_label_accuracy: 0.8380 - val_loss: 1.4195 - val_raw_multi_label_accuracy: 0.2929\n",
      "Epoch 162/1000\n",
      " - 1s - loss: 0.1665 - raw_multi_label_accuracy: 0.8372 - val_loss: 1.4484 - val_raw_multi_label_accuracy: 0.2855\n",
      "Epoch 163/1000\n",
      " - 1s - loss: 0.1637 - raw_multi_label_accuracy: 0.8416 - val_loss: 1.4757 - val_raw_multi_label_accuracy: 0.2907\n",
      "Epoch 164/1000\n",
      " - 1s - loss: 0.1660 - raw_multi_label_accuracy: 0.8444 - val_loss: 1.4928 - val_raw_multi_label_accuracy: 0.2899\n",
      "Epoch 165/1000\n",
      " - 1s - loss: 0.1653 - raw_multi_label_accuracy: 0.8387 - val_loss: 1.4910 - val_raw_multi_label_accuracy: 0.2912\n",
      "Epoch 166/1000\n",
      " - 1s - loss: 0.1616 - raw_multi_label_accuracy: 0.8475 - val_loss: 1.5057 - val_raw_multi_label_accuracy: 0.2835\n",
      "Epoch 167/1000\n",
      " - 1s - loss: 0.1626 - raw_multi_label_accuracy: 0.8424 - val_loss: 1.4895 - val_raw_multi_label_accuracy: 0.2920\n",
      "Epoch 168/1000\n",
      " - 1s - loss: 0.1650 - raw_multi_label_accuracy: 0.8373 - val_loss: 1.5552 - val_raw_multi_label_accuracy: 0.2789\n",
      "Epoch 169/1000\n",
      " - 1s - loss: 0.1610 - raw_multi_label_accuracy: 0.8435 - val_loss: 1.4796 - val_raw_multi_label_accuracy: 0.2774\n",
      "Epoch 170/1000\n",
      " - 1s - loss: 0.1605 - raw_multi_label_accuracy: 0.8495 - val_loss: 1.5426 - val_raw_multi_label_accuracy: 0.2901\n",
      "Epoch 171/1000\n",
      " - 1s - loss: 0.1641 - raw_multi_label_accuracy: 0.8363 - val_loss: 1.5683 - val_raw_multi_label_accuracy: 0.2962\n",
      "Epoch 172/1000\n",
      " - 1s - loss: 0.1582 - raw_multi_label_accuracy: 0.8531 - val_loss: 1.5525 - val_raw_multi_label_accuracy: 0.2919\n",
      "Epoch 173/1000\n",
      " - 1s - loss: 0.1585 - raw_multi_label_accuracy: 0.8570 - val_loss: 1.6022 - val_raw_multi_label_accuracy: 0.2853\n",
      "Epoch 174/1000\n",
      " - 1s - loss: 0.1555 - raw_multi_label_accuracy: 0.8616 - val_loss: 1.6116 - val_raw_multi_label_accuracy: 0.2845\n",
      "Epoch 175/1000\n",
      " - 1s - loss: 0.1561 - raw_multi_label_accuracy: 0.8528 - val_loss: 1.5395 - val_raw_multi_label_accuracy: 0.2949\n",
      "Epoch 176/1000\n",
      " - 1s - loss: 0.1545 - raw_multi_label_accuracy: 0.8541 - val_loss: 1.6092 - val_raw_multi_label_accuracy: 0.2935\n",
      "Epoch 177/1000\n",
      " - 1s - loss: 0.1571 - raw_multi_label_accuracy: 0.8623 - val_loss: 1.5544 - val_raw_multi_label_accuracy: 0.2939\n",
      "Epoch 178/1000\n",
      " - 1s - loss: 0.1572 - raw_multi_label_accuracy: 0.8591 - val_loss: 1.5099 - val_raw_multi_label_accuracy: 0.2920\n",
      "Epoch 179/1000\n",
      " - 1s - loss: 0.1527 - raw_multi_label_accuracy: 0.8629 - val_loss: 1.5825 - val_raw_multi_label_accuracy: 0.2879\n",
      "Epoch 180/1000\n",
      " - 1s - loss: 0.1535 - raw_multi_label_accuracy: 0.8576 - val_loss: 1.5547 - val_raw_multi_label_accuracy: 0.2882\n",
      "Epoch 181/1000\n",
      " - 1s - loss: 0.1585 - raw_multi_label_accuracy: 0.8488 - val_loss: 1.5953 - val_raw_multi_label_accuracy: 0.2959\n",
      "Epoch 182/1000\n",
      " - 1s - loss: 0.1567 - raw_multi_label_accuracy: 0.8609 - val_loss: 1.5808 - val_raw_multi_label_accuracy: 0.2966\n"
     ]
    },
    {
     "name": "stdout",
     "output_type": "stream",
     "text": [
      "Epoch 183/1000\n",
      " - 1s - loss: 0.1561 - raw_multi_label_accuracy: 0.8613 - val_loss: 1.6218 - val_raw_multi_label_accuracy: 0.2828\n",
      "Epoch 184/1000\n",
      " - 1s - loss: 0.1558 - raw_multi_label_accuracy: 0.8604 - val_loss: 1.6027 - val_raw_multi_label_accuracy: 0.2910\n",
      "Epoch 185/1000\n",
      " - 1s - loss: 0.1540 - raw_multi_label_accuracy: 0.8624 - val_loss: 1.6237 - val_raw_multi_label_accuracy: 0.2922\n",
      "Epoch 186/1000\n",
      " - 1s - loss: 0.1534 - raw_multi_label_accuracy: 0.8616 - val_loss: 1.6522 - val_raw_multi_label_accuracy: 0.2805\n",
      "Epoch 187/1000\n",
      " - 1s - loss: 0.1553 - raw_multi_label_accuracy: 0.8629 - val_loss: 1.6223 - val_raw_multi_label_accuracy: 0.2881\n",
      "Epoch 188/1000\n",
      " - 1s - loss: 0.1544 - raw_multi_label_accuracy: 0.8566 - val_loss: 1.6754 - val_raw_multi_label_accuracy: 0.2812\n",
      "Epoch 189/1000\n",
      " - 1s - loss: 0.1522 - raw_multi_label_accuracy: 0.8627 - val_loss: 1.5769 - val_raw_multi_label_accuracy: 0.2964\n",
      "Epoch 190/1000\n",
      " - 1s - loss: 0.1490 - raw_multi_label_accuracy: 0.8633 - val_loss: 1.5686 - val_raw_multi_label_accuracy: 0.2929\n",
      "Epoch 191/1000\n",
      " - 1s - loss: 0.1505 - raw_multi_label_accuracy: 0.8648 - val_loss: 1.5892 - val_raw_multi_label_accuracy: 0.2883\n",
      "Epoch 192/1000\n",
      " - 1s - loss: 0.1492 - raw_multi_label_accuracy: 0.8617 - val_loss: 1.6004 - val_raw_multi_label_accuracy: 0.2839\n",
      "Epoch 193/1000\n",
      " - 1s - loss: 0.1501 - raw_multi_label_accuracy: 0.8670 - val_loss: 1.6681 - val_raw_multi_label_accuracy: 0.2768\n",
      "Epoch 194/1000\n",
      " - 1s - loss: 0.1545 - raw_multi_label_accuracy: 0.8597 - val_loss: 1.6141 - val_raw_multi_label_accuracy: 0.2853\n",
      "Epoch 195/1000\n",
      " - 1s - loss: 0.1516 - raw_multi_label_accuracy: 0.8623 - val_loss: 1.7265 - val_raw_multi_label_accuracy: 0.2716\n",
      "Epoch 196/1000\n",
      " - 1s - loss: 0.1488 - raw_multi_label_accuracy: 0.8690 - val_loss: 1.6973 - val_raw_multi_label_accuracy: 0.2744\n",
      "Epoch 197/1000\n",
      " - 1s - loss: 0.1485 - raw_multi_label_accuracy: 0.8647 - val_loss: 1.7409 - val_raw_multi_label_accuracy: 0.2812\n",
      "Epoch 198/1000\n",
      " - 1s - loss: 0.1513 - raw_multi_label_accuracy: 0.8656 - val_loss: 1.6576 - val_raw_multi_label_accuracy: 0.2917\n",
      "Epoch 199/1000\n",
      " - 1s - loss: 0.1517 - raw_multi_label_accuracy: 0.8646 - val_loss: 1.6627 - val_raw_multi_label_accuracy: 0.3002\n",
      "Epoch 200/1000\n",
      " - 1s - loss: 0.1451 - raw_multi_label_accuracy: 0.8698 - val_loss: 1.6665 - val_raw_multi_label_accuracy: 0.2931\n",
      "Epoch 201/1000\n",
      " - 1s - loss: 0.1470 - raw_multi_label_accuracy: 0.8777 - val_loss: 1.6956 - val_raw_multi_label_accuracy: 0.2927\n",
      "Epoch 202/1000\n",
      " - 1s - loss: 0.1462 - raw_multi_label_accuracy: 0.8685 - val_loss: 1.6238 - val_raw_multi_label_accuracy: 0.2911\n",
      "Epoch 203/1000\n",
      " - 1s - loss: 0.1481 - raw_multi_label_accuracy: 0.8631 - val_loss: 1.6685 - val_raw_multi_label_accuracy: 0.2976\n"
     ]
    },
    {
     "data": {
      "text/plain": [
       "<keras.callbacks.History at 0x7f60400469e8>"
      ]
     },
     "execution_count": 24,
     "metadata": {},
     "output_type": "execute_result"
    }
   ],
   "source": [
    "from keras.layers import Conv1D, GlobalMaxPooling1D\n",
    "from keras.models import Sequential\n",
    "from keras.layers import Dense, Dropout\n",
    "from keras.layers import Flatten\n",
    "from keras.layers.embeddings import Embedding\n",
    "from keras.regularizers import l2\n",
    "\n",
    "model_cnn = Sequential()\n",
    "e = Embedding(num_words_kept, word_vec_len, weights=[embedding_matrix], input_length=max_seq_len, trainable=True)\n",
    "#e = Embedding(num_words_kept, word_vec_len, input_length=max_seq_len, trainable=True)\n",
    "model_cnn.add(e)\n",
    "model_cnn.add(Conv1D(filters=50, kernel_size=2, padding='valid', activation='relu', strides=1))\n",
    "model_cnn.add(GlobalMaxPooling1D())\n",
    "model_cnn.add(Dense(256, activation='relu', kernel_regularizer=l2(0.01)))\n",
    "model_cnn.add(Dropout(.5))\n",
    "model_cnn.add(Dense(50, activation='relu', kernel_regularizer=l2(0.01)))\n",
    "model_cnn.add(Dropout(.5))\n",
    "model_cnn.add(Dense(len(genre_dict), activation='sigmoid'))\n",
    "model_cnn.compile(loss='binary_crossentropy', optimizer='adam', metrics=[raw_multi_label_accuracy])\n",
    "#model_cnn_01.fit(x_train_seq, y_train, validation_data=(x_val_seq, y_validation), epochs=5, batch_size=32, verbose=2)\n",
    "model_cnn.fit(x_train_seq, y_train, validation_split = .1, callbacks = [DelayedEarlyStopping(monitor = 'val_raw_multi_label_accuracy', patience = 5, delay=200)], epochs=1000, batch_size=100, verbose=2)"
   ]
  },
  {
   "cell_type": "code",
   "execution_count": 25,
   "metadata": {},
   "outputs": [],
   "source": [
    "def nn_output_to_predictions(res):\n",
    "    label_predictions = []\n",
    "    for i in range(res.shape[0]):\n",
    "        pred = [0]*len(genre_dict)\n",
    "        for j in range(res.shape[1]):\n",
    "            if res[i][j] >= .5:\n",
    "                pred[j] = 1\n",
    "        label_predictions.append(pred)\n",
    "    return np.array(label_predictions)"
   ]
  },
  {
   "cell_type": "code",
   "execution_count": 26,
   "metadata": {},
   "outputs": [],
   "source": [
    "predictions = nn_output_to_predictions(model_cnn.predict(x_test_seq))"
   ]
  },
  {
   "cell_type": "code",
   "execution_count": 27,
   "metadata": {},
   "outputs": [
    {
     "data": {
      "text/plain": [
       "187"
      ]
     },
     "execution_count": 27,
     "metadata": {},
     "output_type": "execute_result"
    }
   ],
   "source": [
    "y_test[:,0].sum()"
   ]
  },
  {
   "cell_type": "code",
   "execution_count": 28,
   "metadata": {},
   "outputs": [
    {
     "data": {
      "text/plain": [
       "219"
      ]
     },
     "execution_count": 28,
     "metadata": {},
     "output_type": "execute_result"
    }
   ],
   "source": [
    "predictions[:,0].sum()"
   ]
  },
  {
   "cell_type": "code",
   "execution_count": 29,
   "metadata": {},
   "outputs": [
    {
     "data": {
      "text/plain": [
       "array([1, 0, 0, 1, 0])"
      ]
     },
     "execution_count": 29,
     "metadata": {},
     "output_type": "execute_result"
    }
   ],
   "source": [
    "predictions[0]"
   ]
  },
  {
   "cell_type": "code",
   "execution_count": 30,
   "metadata": {},
   "outputs": [
    {
     "data": {
      "text/plain": [
       "0.3480676328502416"
      ]
     },
     "execution_count": 30,
     "metadata": {},
     "output_type": "execute_result"
    }
   ],
   "source": [
    "multi_label_accuracy(y_test, predictions)"
   ]
  },
  {
   "cell_type": "code",
   "execution_count": 31,
   "metadata": {},
   "outputs": [
    {
     "data": {
      "text/plain": [
       "0.5141509433962265"
      ]
     },
     "execution_count": 31,
     "metadata": {},
     "output_type": "execute_result"
    }
   ],
   "source": [
    "multi_label_precision(y_test, predictions)"
   ]
  },
  {
   "cell_type": "code",
   "execution_count": 32,
   "metadata": {},
   "outputs": [
    {
     "data": {
      "text/plain": [
       "0.43046928916494137"
      ]
     },
     "execution_count": 32,
     "metadata": {},
     "output_type": "execute_result"
    }
   ],
   "source": [
    "multi_label_recall(y_test, predictions)"
   ]
  },
  {
   "cell_type": "code",
   "execution_count": 33,
   "metadata": {},
   "outputs": [
    {
     "name": "stdout",
     "output_type": "stream",
     "text": [
      "Percent of correctly decided label decisions: 68.86128364389235\n"
     ]
    }
   ],
   "source": [
    "print(\"Percent of correctly decided label decisions: \" + str(100* (1-hamming_loss(y_test, predictions))))"
   ]
  },
  {
   "cell_type": "code",
   "execution_count": 34,
   "metadata": {},
   "outputs": [
    {
     "name": "stdout",
     "output_type": "stream",
     "text": [
      "Accuruacy for Action-Adventure: 0.6356107660455487\n",
      "Precision for Action-Adventure: 0.5251141552511416\n",
      "Recall for Action-Adventure: 0.6149732620320856\n",
      "\n",
      "Accuruacy for Romance: 0.7349896480331263\n",
      "Precision for Romance: 0.3225806451612903\n",
      "Recall for Romance: 0.18867924528301888\n",
      "\n",
      "Accuruacy for Horror-Thriller: 0.6004140786749482\n",
      "Precision for Horror-Thriller: 0.49645390070921985\n",
      "Recall for Horror-Thriller: 0.3645833333333333\n",
      "\n",
      "Accuruacy for Comedy: 0.6149068322981367\n",
      "Precision for Comedy: 0.572972972972973\n",
      "Recall for Comedy: 0.49765258215962443\n",
      "\n",
      "Accuruacy for Science Fiction: 0.8571428571428571\n",
      "Precision for Science Fiction: 0.15789473684210525\n",
      "Recall for Science Fiction: 0.05357142857142857\n",
      "\n"
     ]
    }
   ],
   "source": [
    "get_per_label_metrics(y_test, predictions)"
   ]
  },
  {
   "cell_type": "markdown",
   "metadata": {},
   "source": [
    "CNN but with multiple filter sizes so we don't just filter on group of words at a time"
   ]
  },
  {
   "cell_type": "code",
   "execution_count": 35,
   "metadata": {},
   "outputs": [],
   "source": [
    "from keras.layers import Input, Dense, concatenate, Activation\n",
    "from keras.models import Model\n",
    "\n",
    "model_input = Input(shape=(max_seq_len,), dtype='int32')\n",
    "\n",
    "e = Embedding(num_words_kept, word_vec_len, weights=[embedding_matrix], input_length=max_seq_len, trainable=True)(model_input)\n",
    "two_word_filter = Conv1D(filters=100, kernel_size=2, padding='valid', activation='relu', strides=1)(e)\n",
    "two_word_filter = GlobalMaxPooling1D()(two_word_filter)\n",
    "three_word_filter = Conv1D(filters=100, kernel_size=3, padding='valid', activation='relu', strides=1)(e)\n",
    "three_word_filter = GlobalMaxPooling1D()(three_word_filter)\n",
    "four_word_filter = Conv1D(filters=100, kernel_size=4, padding='valid', activation='relu', strides=1)(e)\n",
    "four_word_filter = GlobalMaxPooling1D()(four_word_filter)\n",
    "merged = concatenate([two_word_filter, three_word_filter, four_word_filter], axis=1)\n",
    "\n",
    "merged = Dense(256, activation='relu', kernel_regularizer=l2(0.01))(merged)\n",
    "merged = Dropout(0.5)(merged)\n",
    "merged = Dense(len(genre_dict))(merged)\n",
    "output = Activation('sigmoid')(merged)\n",
    "model = Model(inputs=[model_input], outputs=[output])\n",
    "model.compile(loss='binary_crossentropy', optimizer='adam', metrics=[raw_multi_label_accuracy])"
   ]
  },
  {
   "cell_type": "code",
   "execution_count": 36,
   "metadata": {},
   "outputs": [
    {
     "name": "stdout",
     "output_type": "stream",
     "text": [
      "Train on 1738 samples, validate on 194 samples\n",
      "Epoch 1/1000\n",
      " - 4s - loss: 2.8855 - raw_multi_label_accuracy: 0.0847 - val_loss: 2.2943 - val_raw_multi_label_accuracy: 0.0294\n",
      "Epoch 2/1000\n",
      " - 3s - loss: 1.9296 - raw_multi_label_accuracy: 0.0570 - val_loss: 1.5420 - val_raw_multi_label_accuracy: 0.0000e+00\n",
      "Epoch 3/1000\n",
      " - 3s - loss: 1.3252 - raw_multi_label_accuracy: 0.0305 - val_loss: 1.0982 - val_raw_multi_label_accuracy: 0.0000e+00\n",
      "Epoch 4/1000\n",
      " - 3s - loss: 0.9787 - raw_multi_label_accuracy: 0.0185 - val_loss: 0.8555 - val_raw_multi_label_accuracy: 0.0000e+00\n",
      "Epoch 5/1000\n",
      " - 3s - loss: 0.7902 - raw_multi_label_accuracy: 0.0320 - val_loss: 0.7204 - val_raw_multi_label_accuracy: 0.0000e+00\n",
      "Epoch 6/1000\n",
      " - 3s - loss: 0.6902 - raw_multi_label_accuracy: 0.0349 - val_loss: 0.6539 - val_raw_multi_label_accuracy: 0.0000e+00\n",
      "Epoch 7/1000\n",
      " - 3s - loss: 0.6369 - raw_multi_label_accuracy: 0.0398 - val_loss: 0.6233 - val_raw_multi_label_accuracy: 0.0000e+00\n",
      "Epoch 8/1000\n",
      " - 3s - loss: 0.5909 - raw_multi_label_accuracy: 0.1049 - val_loss: 0.5997 - val_raw_multi_label_accuracy: 0.0233\n",
      "Epoch 9/1000\n",
      " - 3s - loss: 0.5266 - raw_multi_label_accuracy: 0.3550 - val_loss: 0.5954 - val_raw_multi_label_accuracy: 0.1749\n",
      "Epoch 10/1000\n",
      " - 3s - loss: 0.4568 - raw_multi_label_accuracy: 0.5065 - val_loss: 0.5787 - val_raw_multi_label_accuracy: 0.1796\n",
      "Epoch 11/1000\n",
      " - 3s - loss: 0.4151 - raw_multi_label_accuracy: 0.5539 - val_loss: 0.5766 - val_raw_multi_label_accuracy: 0.1911\n",
      "Epoch 12/1000\n",
      " - 4s - loss: 0.3842 - raw_multi_label_accuracy: 0.5716 - val_loss: 0.5806 - val_raw_multi_label_accuracy: 0.1853\n",
      "Epoch 13/1000\n",
      " - 4s - loss: 0.3436 - raw_multi_label_accuracy: 0.6573 - val_loss: 0.5793 - val_raw_multi_label_accuracy: 0.2905\n",
      "Epoch 14/1000\n",
      " - 3s - loss: 0.3063 - raw_multi_label_accuracy: 0.7153 - val_loss: 0.5848 - val_raw_multi_label_accuracy: 0.2919\n",
      "Epoch 15/1000\n",
      " - 3s - loss: 0.2752 - raw_multi_label_accuracy: 0.7682 - val_loss: 0.5853 - val_raw_multi_label_accuracy: 0.3304\n",
      "Epoch 16/1000\n",
      " - 4s - loss: 0.2449 - raw_multi_label_accuracy: 0.7902 - val_loss: 0.6071 - val_raw_multi_label_accuracy: 0.2842\n",
      "Epoch 17/1000\n",
      " - 3s - loss: 0.2283 - raw_multi_label_accuracy: 0.7973 - val_loss: 0.5858 - val_raw_multi_label_accuracy: 0.3227\n",
      "Epoch 18/1000\n",
      " - 3s - loss: 0.2059 - raw_multi_label_accuracy: 0.8239 - val_loss: 0.5994 - val_raw_multi_label_accuracy: 0.3201\n",
      "Epoch 19/1000\n",
      " - 3s - loss: 0.1852 - raw_multi_label_accuracy: 0.8532 - val_loss: 0.5993 - val_raw_multi_label_accuracy: 0.3228\n",
      "Epoch 20/1000\n",
      " - 3s - loss: 0.1662 - raw_multi_label_accuracy: 0.8764 - val_loss: 0.6131 - val_raw_multi_label_accuracy: 0.3212\n",
      "Epoch 21/1000\n",
      " - 3s - loss: 0.1499 - raw_multi_label_accuracy: 0.8918 - val_loss: 0.6194 - val_raw_multi_label_accuracy: 0.3360\n",
      "Epoch 22/1000\n",
      " - 3s - loss: 0.1380 - raw_multi_label_accuracy: 0.9064 - val_loss: 0.6419 - val_raw_multi_label_accuracy: 0.3249\n",
      "Epoch 23/1000\n",
      " - 3s - loss: 0.1243 - raw_multi_label_accuracy: 0.9269 - val_loss: 0.6682 - val_raw_multi_label_accuracy: 0.3433\n",
      "Epoch 24/1000\n",
      " - 3s - loss: 0.1138 - raw_multi_label_accuracy: 0.9401 - val_loss: 0.6651 - val_raw_multi_label_accuracy: 0.3399\n",
      "Epoch 25/1000\n",
      " - 3s - loss: 0.1034 - raw_multi_label_accuracy: 0.9450 - val_loss: 0.6503 - val_raw_multi_label_accuracy: 0.3571\n",
      "Epoch 26/1000\n",
      " - 4s - loss: 0.0967 - raw_multi_label_accuracy: 0.9533 - val_loss: 0.6802 - val_raw_multi_label_accuracy: 0.3565\n",
      "Epoch 27/1000\n",
      " - 3s - loss: 0.0909 - raw_multi_label_accuracy: 0.9522 - val_loss: 0.6948 - val_raw_multi_label_accuracy: 0.3630\n",
      "Epoch 28/1000\n",
      " - 3s - loss: 0.0871 - raw_multi_label_accuracy: 0.9592 - val_loss: 0.7194 - val_raw_multi_label_accuracy: 0.3509\n"
     ]
    },
    {
     "data": {
      "text/plain": [
       "<keras.callbacks.History at 0x7f5fed80da58>"
      ]
     },
     "execution_count": 36,
     "metadata": {},
     "output_type": "execute_result"
    }
   ],
   "source": [
    "model.fit(x_train_seq, y_train, validation_split = .1, callbacks = [DelayedEarlyStopping(monitor = 'val_raw_multi_label_accuracy', patience = 5, delay=25)], epochs=1000, batch_size=100, verbose=2)"
   ]
  },
  {
   "cell_type": "code",
   "execution_count": 37,
   "metadata": {},
   "outputs": [],
   "source": [
    "predictions = nn_output_to_predictions(model.predict(x_test_seq))"
   ]
  },
  {
   "cell_type": "code",
   "execution_count": 38,
   "metadata": {},
   "outputs": [
    {
     "data": {
      "text/plain": [
       "0.376984126984127"
      ]
     },
     "execution_count": 38,
     "metadata": {},
     "output_type": "execute_result"
    }
   ],
   "source": [
    "multi_label_accuracy(y_test, predictions)"
   ]
  },
  {
   "cell_type": "code",
   "execution_count": 39,
   "metadata": {},
   "outputs": [
    {
     "data": {
      "text/plain": [
       "0.5858585858585859"
      ]
     },
     "execution_count": 39,
     "metadata": {},
     "output_type": "execute_result"
    }
   ],
   "source": [
    "multi_label_precision(y_test, predictions)"
   ]
  },
  {
   "cell_type": "code",
   "execution_count": 40,
   "metadata": {},
   "outputs": [
    {
     "data": {
      "text/plain": [
       "0.42822636300897166"
      ]
     },
     "execution_count": 40,
     "metadata": {},
     "output_type": "execute_result"
    }
   ],
   "source": [
    "multi_label_recall(y_test, predictions)"
   ]
  },
  {
   "cell_type": "code",
   "execution_count": 41,
   "metadata": {},
   "outputs": [
    {
     "name": "stdout",
     "output_type": "stream",
     "text": [
      "Percent of correctly decided label decisions: 72.17391304347827\n"
     ]
    }
   ],
   "source": [
    "print(\"Percent of correctly decided label decisions: \" + str(100* (1-hamming_loss(y_test, predictions))))"
   ]
  },
  {
   "cell_type": "code",
   "execution_count": 42,
   "metadata": {},
   "outputs": [
    {
     "name": "stdout",
     "output_type": "stream",
     "text": [
      "Accuruacy for Action-Adventure: 0.6790890269151139\n",
      "Precision for Action-Adventure: 0.625\n",
      "Recall for Action-Adventure: 0.42780748663101603\n",
      "\n",
      "Accuruacy for Romance: 0.7846790890269151\n",
      "Precision for Romance: 0.5147058823529411\n",
      "Recall for Romance: 0.330188679245283\n",
      "\n",
      "Accuruacy for Horror-Thriller: 0.6521739130434783\n",
      "Precision for Horror-Thriller: 0.59375\n",
      "Recall for Horror-Thriller: 0.3958333333333333\n",
      "\n",
      "Accuruacy for Comedy: 0.6190476190476191\n",
      "Precision for Comedy: 0.5728643216080402\n",
      "Recall for Comedy: 0.5352112676056338\n",
      "\n",
      "Accuruacy for Science Fiction: 0.8737060041407867\n",
      "Precision for Science Fiction: 0.2222222222222222\n",
      "Recall for Science Fiction: 0.03571428571428571\n",
      "\n"
     ]
    }
   ],
   "source": [
    "get_per_label_metrics(y_test, predictions)"
   ]
  },
  {
   "cell_type": "markdown",
   "metadata": {},
   "source": [
    "Regular Neural Network"
   ]
  },
  {
   "cell_type": "code",
   "execution_count": 43,
   "metadata": {},
   "outputs": [
    {
     "name": "stdout",
     "output_type": "stream",
     "text": [
      "Train on 1738 samples, validate on 194 samples\n",
      "Epoch 1/1000\n",
      " - 2s - loss: 0.6169 - raw_multi_label_accuracy: 0.0818 - val_loss: 0.5998 - val_raw_multi_label_accuracy: 0.1131\n",
      "Epoch 2/1000\n",
      " - 2s - loss: 0.5803 - raw_multi_label_accuracy: 0.0761 - val_loss: 0.5947 - val_raw_multi_label_accuracy: 0.1083\n",
      "Epoch 3/1000\n",
      " - 1s - loss: 0.5558 - raw_multi_label_accuracy: 0.1597 - val_loss: 0.5903 - val_raw_multi_label_accuracy: 0.1494\n",
      "Epoch 4/1000\n",
      " - 2s - loss: 0.5223 - raw_multi_label_accuracy: 0.2511 - val_loss: 0.5970 - val_raw_multi_label_accuracy: 0.1331\n",
      "Epoch 5/1000\n",
      " - 1s - loss: 0.4640 - raw_multi_label_accuracy: 0.3733 - val_loss: 0.6027 - val_raw_multi_label_accuracy: 0.1970\n",
      "Epoch 6/1000\n",
      " - 1s - loss: 0.3614 - raw_multi_label_accuracy: 0.5831 - val_loss: 0.5940 - val_raw_multi_label_accuracy: 0.1579\n",
      "Epoch 7/1000\n",
      " - 1s - loss: 0.2481 - raw_multi_label_accuracy: 0.7657 - val_loss: 0.6225 - val_raw_multi_label_accuracy: 0.1867\n",
      "Epoch 8/1000\n",
      " - 1s - loss: 0.1667 - raw_multi_label_accuracy: 0.8633 - val_loss: 0.6246 - val_raw_multi_label_accuracy: 0.2080\n",
      "Epoch 9/1000\n",
      " - 1s - loss: 0.1099 - raw_multi_label_accuracy: 0.9285 - val_loss: 0.6587 - val_raw_multi_label_accuracy: 0.2298\n",
      "Epoch 10/1000\n",
      " - 1s - loss: 0.0730 - raw_multi_label_accuracy: 0.9573 - val_loss: 0.6783 - val_raw_multi_label_accuracy: 0.2515\n",
      "Epoch 11/1000\n",
      " - 1s - loss: 0.0499 - raw_multi_label_accuracy: 0.9789 - val_loss: 0.7225 - val_raw_multi_label_accuracy: 0.2404\n",
      "Epoch 12/1000\n",
      " - 1s - loss: 0.0348 - raw_multi_label_accuracy: 0.9871 - val_loss: 0.7429 - val_raw_multi_label_accuracy: 0.2436\n",
      "Epoch 13/1000\n",
      " - 1s - loss: 0.0256 - raw_multi_label_accuracy: 0.9927 - val_loss: 0.7876 - val_raw_multi_label_accuracy: 0.2215\n",
      "Epoch 14/1000\n",
      " - 1s - loss: 0.0193 - raw_multi_label_accuracy: 0.9948 - val_loss: 0.7926 - val_raw_multi_label_accuracy: 0.2279\n",
      "Epoch 15/1000\n",
      " - 1s - loss: 0.0148 - raw_multi_label_accuracy: 0.9967 - val_loss: 0.7971 - val_raw_multi_label_accuracy: 0.2378\n",
      "Epoch 16/1000\n",
      " - 1s - loss: 0.0119 - raw_multi_label_accuracy: 0.9983 - val_loss: 0.8301 - val_raw_multi_label_accuracy: 0.2215\n",
      "Epoch 17/1000\n",
      " - 1s - loss: 0.0095 - raw_multi_label_accuracy: 0.9989 - val_loss: 0.8570 - val_raw_multi_label_accuracy: 0.2247\n",
      "Epoch 18/1000\n",
      " - 1s - loss: 0.0079 - raw_multi_label_accuracy: 0.9992 - val_loss: 0.8486 - val_raw_multi_label_accuracy: 0.2362\n",
      "Epoch 19/1000\n",
      " - 1s - loss: 0.0067 - raw_multi_label_accuracy: 0.9993 - val_loss: 0.8758 - val_raw_multi_label_accuracy: 0.2266\n",
      "Epoch 20/1000\n",
      " - 1s - loss: 0.0058 - raw_multi_label_accuracy: 0.9992 - val_loss: 0.8961 - val_raw_multi_label_accuracy: 0.2184\n",
      "Epoch 21/1000\n",
      " - 1s - loss: 0.0052 - raw_multi_label_accuracy: 0.9993 - val_loss: 0.9047 - val_raw_multi_label_accuracy: 0.2286\n",
      "Epoch 22/1000\n",
      " - 1s - loss: 0.0046 - raw_multi_label_accuracy: 0.9992 - val_loss: 0.9059 - val_raw_multi_label_accuracy: 0.2363\n",
      "Epoch 23/1000\n",
      " - 1s - loss: 0.0041 - raw_multi_label_accuracy: 0.9992 - val_loss: 0.9293 - val_raw_multi_label_accuracy: 0.2186\n",
      "Epoch 24/1000\n",
      " - 1s - loss: 0.0037 - raw_multi_label_accuracy: 0.9993 - val_loss: 0.9519 - val_raw_multi_label_accuracy: 0.2372\n",
      "Epoch 25/1000\n",
      " - 1s - loss: 0.0033 - raw_multi_label_accuracy: 0.9993 - val_loss: 0.9401 - val_raw_multi_label_accuracy: 0.2239\n",
      "Epoch 26/1000\n",
      " - 1s - loss: 0.0031 - raw_multi_label_accuracy: 0.9992 - val_loss: 0.9531 - val_raw_multi_label_accuracy: 0.2218\n",
      "Epoch 27/1000\n",
      " - 1s - loss: 0.0028 - raw_multi_label_accuracy: 0.9992 - val_loss: 0.9655 - val_raw_multi_label_accuracy: 0.2167\n",
      "Epoch 28/1000\n",
      " - 1s - loss: 0.0026 - raw_multi_label_accuracy: 0.9993 - val_loss: 0.9742 - val_raw_multi_label_accuracy: 0.2296\n"
     ]
    },
    {
     "data": {
      "text/plain": [
       "<keras.callbacks.History at 0x7f5fecc75518>"
      ]
     },
     "execution_count": 43,
     "metadata": {},
     "output_type": "execute_result"
    }
   ],
   "source": [
    "normal_nn = Sequential()\n",
    "e = Embedding(num_words_kept, word_vec_len, weights=[embedding_matrix], input_length=max_seq_len, trainable=True)\n",
    "normal_nn.add(e)\n",
    "normal_nn.add(Flatten())\n",
    "normal_nn.add(Dense(256, activation='relu'))\n",
    "normal_nn.add(Dense(len(genre_dict), activation='sigmoid'))\n",
    "normal_nn.compile(loss='binary_crossentropy', optimizer='adam', metrics=[raw_multi_label_accuracy])\n",
    "normal_nn.fit(x_train_seq, y_train, validation_split = .1, callbacks = [DelayedEarlyStopping(monitor = 'val_raw_multi_label_accuracy', patience = 5, delay=25)], epochs=1000, batch_size=100, verbose=2)"
   ]
  },
  {
   "cell_type": "code",
   "execution_count": 44,
   "metadata": {},
   "outputs": [],
   "source": [
    "predictions = nn_output_to_predictions(normal_nn.predict(x_test_seq))"
   ]
  },
  {
   "cell_type": "code",
   "execution_count": 45,
   "metadata": {},
   "outputs": [
    {
     "data": {
      "text/plain": [
       "0.225327812284334"
      ]
     },
     "execution_count": 45,
     "metadata": {},
     "output_type": "execute_result"
    }
   ],
   "source": [
    "multi_label_accuracy(y_test, predictions)"
   ]
  },
  {
   "cell_type": "code",
   "execution_count": 46,
   "metadata": {},
   "outputs": [
    {
     "data": {
      "text/plain": [
       "0.5115894039735099"
      ]
     },
     "execution_count": 46,
     "metadata": {},
     "output_type": "execute_result"
    }
   ],
   "source": [
    "multi_label_precision(y_test, predictions)"
   ]
  },
  {
   "cell_type": "code",
   "execution_count": 47,
   "metadata": {},
   "outputs": [
    {
     "data": {
      "text/plain": [
       "0.24327122153209108"
      ]
     },
     "execution_count": 47,
     "metadata": {},
     "output_type": "execute_result"
    }
   ],
   "source": [
    "multi_label_recall(y_test, predictions)"
   ]
  },
  {
   "cell_type": "code",
   "execution_count": 48,
   "metadata": {},
   "outputs": [
    {
     "name": "stdout",
     "output_type": "stream",
     "text": [
      "Percent of correctly decided label decisions: 69.27536231884058\n"
     ]
    }
   ],
   "source": [
    "print(\"Percent of correctly decided label decisions: \" + str(100* (1-hamming_loss(y_test, predictions))))"
   ]
  },
  {
   "cell_type": "code",
   "execution_count": 49,
   "metadata": {},
   "outputs": [
    {
     "name": "stdout",
     "output_type": "stream",
     "text": [
      "Accuruacy for Action-Adventure: 0.6459627329192547\n",
      "Precision for Action-Adventure: 0.58\n",
      "Recall for Action-Adventure: 0.31016042780748665\n",
      "\n",
      "Accuruacy for Romance: 0.7846790890269151\n",
      "Precision for Romance: 0.5454545454545454\n",
      "Recall for Romance: 0.11320754716981132\n",
      "\n",
      "Accuruacy for Horror-Thriller: 0.6004140786749482\n",
      "Precision for Horror-Thriller: 0.4942528735632184\n",
      "Recall for Horror-Thriller: 0.22395833333333334\n",
      "\n",
      "Accuruacy for Comedy: 0.5424430641821946\n",
      "Precision for Comedy: 0.46923076923076923\n",
      "Recall for Comedy: 0.2863849765258216\n",
      "\n",
      "Accuruacy for Science Fiction: 0.8902691511387164\n",
      "Precision for Science Fiction: 1.0\n",
      "Recall for Science Fiction: 0.05357142857142857\n",
      "\n"
     ]
    }
   ],
   "source": [
    "get_per_label_metrics(y_test, predictions)"
   ]
  },
  {
   "cell_type": "markdown",
   "metadata": {},
   "source": [
    "LSTM"
   ]
  },
  {
   "cell_type": "code",
   "execution_count": 66,
   "metadata": {},
   "outputs": [
    {
     "name": "stdout",
     "output_type": "stream",
     "text": [
      "Train on 1738 samples, validate on 194 samples\n",
      "Epoch 1/1000\n",
      " - 9s - loss: 0.6425 - raw_multi_label_accuracy: 0.0932 - val_loss: 0.5899 - val_raw_multi_label_accuracy: 0.0000e+00\n",
      "Epoch 2/1000\n",
      " - 7s - loss: 0.5926 - raw_multi_label_accuracy: 0.0000e+00 - val_loss: 0.5813 - val_raw_multi_label_accuracy: 0.0000e+00\n",
      "Epoch 3/1000\n",
      " - 7s - loss: 0.5876 - raw_multi_label_accuracy: 0.0000e+00 - val_loss: 0.5839 - val_raw_multi_label_accuracy: 0.0000e+00\n",
      "Epoch 4/1000\n",
      " - 7s - loss: 0.5851 - raw_multi_label_accuracy: 0.0000e+00 - val_loss: 0.5805 - val_raw_multi_label_accuracy: 0.0000e+00\n",
      "Epoch 5/1000\n",
      " - 7s - loss: 0.5807 - raw_multi_label_accuracy: 0.0000e+00 - val_loss: 0.5793 - val_raw_multi_label_accuracy: 0.0000e+00\n",
      "Epoch 6/1000\n",
      " - 7s - loss: 0.5728 - raw_multi_label_accuracy: 0.0040 - val_loss: 0.5729 - val_raw_multi_label_accuracy: 0.0395\n",
      "Epoch 7/1000\n",
      " - 7s - loss: 0.5573 - raw_multi_label_accuracy: 0.1312 - val_loss: 0.5572 - val_raw_multi_label_accuracy: 0.1286\n",
      "Epoch 8/1000\n",
      " - 8s - loss: 0.5102 - raw_multi_label_accuracy: 0.3044 - val_loss: 0.5246 - val_raw_multi_label_accuracy: 0.2574\n",
      "Epoch 9/1000\n",
      " - 9s - loss: 0.4393 - raw_multi_label_accuracy: 0.4626 - val_loss: 0.5167 - val_raw_multi_label_accuracy: 0.3315\n",
      "Epoch 10/1000\n",
      " - 7s - loss: 0.4019 - raw_multi_label_accuracy: 0.5106 - val_loss: 0.4958 - val_raw_multi_label_accuracy: 0.3416\n",
      "Epoch 11/1000\n",
      " - 7s - loss: 0.3702 - raw_multi_label_accuracy: 0.5569 - val_loss: 0.5115 - val_raw_multi_label_accuracy: 0.3632\n",
      "Epoch 12/1000\n",
      " - 7s - loss: 0.3365 - raw_multi_label_accuracy: 0.5977 - val_loss: 0.5074 - val_raw_multi_label_accuracy: 0.3834\n",
      "Epoch 13/1000\n",
      " - 7s - loss: 0.2960 - raw_multi_label_accuracy: 0.6579 - val_loss: 0.5178 - val_raw_multi_label_accuracy: 0.3869\n",
      "Epoch 14/1000\n",
      " - 7s - loss: 0.2616 - raw_multi_label_accuracy: 0.7092 - val_loss: 0.5257 - val_raw_multi_label_accuracy: 0.3717\n",
      "Epoch 15/1000\n",
      " - 7s - loss: 0.2280 - raw_multi_label_accuracy: 0.7529 - val_loss: 0.5624 - val_raw_multi_label_accuracy: 0.3624\n",
      "Epoch 16/1000\n",
      " - 7s - loss: 0.1999 - raw_multi_label_accuracy: 0.7911 - val_loss: 0.5575 - val_raw_multi_label_accuracy: 0.3678\n",
      "Epoch 17/1000\n",
      " - 7s - loss: 0.1817 - raw_multi_label_accuracy: 0.8100 - val_loss: 0.5675 - val_raw_multi_label_accuracy: 0.3848\n",
      "Epoch 18/1000\n",
      " - 7s - loss: 0.1547 - raw_multi_label_accuracy: 0.8449 - val_loss: 0.5982 - val_raw_multi_label_accuracy: 0.3857\n",
      "Epoch 19/1000\n",
      " - 7s - loss: 0.1328 - raw_multi_label_accuracy: 0.8629 - val_loss: 0.6393 - val_raw_multi_label_accuracy: 0.3996\n",
      "Epoch 20/1000\n",
      " - 7s - loss: 0.1220 - raw_multi_label_accuracy: 0.8789 - val_loss: 0.6042 - val_raw_multi_label_accuracy: 0.3935\n",
      "Epoch 21/1000\n",
      " - 7s - loss: 0.1065 - raw_multi_label_accuracy: 0.8980 - val_loss: 0.6984 - val_raw_multi_label_accuracy: 0.3871\n",
      "Epoch 22/1000\n",
      " - 7s - loss: 0.0942 - raw_multi_label_accuracy: 0.9042 - val_loss: 0.6768 - val_raw_multi_label_accuracy: 0.3955\n",
      "Epoch 23/1000\n",
      " - 7s - loss: 0.0832 - raw_multi_label_accuracy: 0.9205 - val_loss: 0.6809 - val_raw_multi_label_accuracy: 0.3971\n",
      "Epoch 24/1000\n",
      " - 7s - loss: 0.0748 - raw_multi_label_accuracy: 0.9283 - val_loss: 0.7210 - val_raw_multi_label_accuracy: 0.4055\n",
      "Epoch 25/1000\n",
      " - 7s - loss: 0.0706 - raw_multi_label_accuracy: 0.9359 - val_loss: 0.7193 - val_raw_multi_label_accuracy: 0.3955\n",
      "Epoch 26/1000\n",
      " - 7s - loss: 0.0613 - raw_multi_label_accuracy: 0.9448 - val_loss: 0.7365 - val_raw_multi_label_accuracy: 0.4005\n",
      "Epoch 27/1000\n",
      " - 7s - loss: 0.0568 - raw_multi_label_accuracy: 0.9486 - val_loss: 0.7859 - val_raw_multi_label_accuracy: 0.3789\n",
      "Epoch 28/1000\n",
      " - 7s - loss: 0.0484 - raw_multi_label_accuracy: 0.9631 - val_loss: 0.8304 - val_raw_multi_label_accuracy: 0.3835\n"
     ]
    },
    {
     "data": {
      "text/plain": [
       "<keras.callbacks.History at 0x7f5fd7185e10>"
      ]
     },
     "execution_count": 66,
     "metadata": {},
     "output_type": "execute_result"
    }
   ],
   "source": [
    "from keras.layers import LSTM\n",
    "lstm_model = Sequential()\n",
    "e = Embedding(num_words_kept, word_vec_len, weights=[embedding_matrix], input_length=max_seq_len, trainable=True)\n",
    "lstm_model.add(e)\n",
    "lstm_model.add(LSTM(100, dropout=0.25, recurrent_dropout=0.25))\n",
    "rnn.add(Dense(256, activation='relu'))#experiment with this here and not here\n",
    "lstm_model.add(Dense(len(genre_dict), activation='sigmoid'))\n",
    "lstm_model.compile(loss='binary_crossentropy', optimizer='adam', metrics=[raw_multi_label_accuracy])\n",
    "lstm_model.fit(x_train_seq, y_train, validation_split = .1, callbacks = [DelayedEarlyStopping(monitor = 'val_raw_multi_label_accuracy', patience = 5, delay=25)], epochs=1000, batch_size=100, verbose=2)"
   ]
  },
  {
   "cell_type": "code",
   "execution_count": 67,
   "metadata": {},
   "outputs": [],
   "source": [
    "predictions = nn_output_to_predictions(lstm_model.predict(x_test_seq))"
   ]
  },
  {
   "cell_type": "code",
   "execution_count": 68,
   "metadata": {},
   "outputs": [
    {
     "data": {
      "text/plain": [
       "0.4839544513457561"
      ]
     },
     "execution_count": 68,
     "metadata": {},
     "output_type": "execute_result"
    }
   ],
   "source": [
    "multi_label_accuracy(y_test, predictions)"
   ]
  },
  {
   "cell_type": "code",
   "execution_count": 69,
   "metadata": {},
   "outputs": [
    {
     "data": {
      "text/plain": [
       "0.6149545772187281"
      ]
     },
     "execution_count": 69,
     "metadata": {},
     "output_type": "execute_result"
    }
   ],
   "source": [
    "multi_label_precision(y_test, predictions)"
   ]
  },
  {
   "cell_type": "code",
   "execution_count": 70,
   "metadata": {},
   "outputs": [
    {
     "data": {
      "text/plain": [
       "0.5914423740510696"
      ]
     },
     "execution_count": 70,
     "metadata": {},
     "output_type": "execute_result"
    }
   ],
   "source": [
    "multi_label_recall(y_test, predictions)"
   ]
  },
  {
   "cell_type": "code",
   "execution_count": 71,
   "metadata": {},
   "outputs": [
    {
     "name": "stdout",
     "output_type": "stream",
     "text": [
      "Percent of correctly decided label decisions: 74.24430641821947\n"
     ]
    }
   ],
   "source": [
    "print(\"Percent of correctly decided label decisions: \" + str(100* (1-hamming_loss(y_test, predictions))))"
   ]
  },
  {
   "cell_type": "code",
   "execution_count": 72,
   "metadata": {},
   "outputs": [
    {
     "name": "stdout",
     "output_type": "stream",
     "text": [
      "Accuruacy for Action-Adventure: 0.722567287784679\n",
      "Precision for Action-Adventure: 0.6606060606060606\n",
      "Recall for Action-Adventure: 0.5828877005347594\n",
      "\n",
      "Accuruacy for Romance: 0.7556935817805382\n",
      "Precision for Romance: 0.4318181818181818\n",
      "Recall for Romance: 0.3584905660377358\n",
      "\n",
      "Accuruacy for Horror-Thriller: 0.6542443064182195\n",
      "Precision for Horror-Thriller: 0.5706214689265536\n",
      "Recall for Horror-Thriller: 0.5260416666666666\n",
      "\n",
      "Accuruacy for Comedy: 0.6997929606625258\n",
      "Precision for Comedy: 0.646551724137931\n",
      "Recall for Comedy: 0.704225352112676\n",
      "\n",
      "Accuruacy for Science Fiction: 0.8799171842650103\n",
      "Precision for Science Fiction: 0.4666666666666667\n",
      "Recall for Science Fiction: 0.25\n",
      "\n"
     ]
    }
   ],
   "source": [
    "get_per_label_metrics(y_test, predictions)"
   ]
  },
  {
   "cell_type": "markdown",
   "metadata": {},
   "source": [
    "simple rnn"
   ]
  },
  {
   "cell_type": "code",
   "execution_count": 65,
   "metadata": {},
   "outputs": [
    {
     "name": "stdout",
     "output_type": "stream",
     "text": [
      "Train on 1738 samples, validate on 194 samples\n",
      "Epoch 1/1000\n",
      " - 3s - loss: 0.6983 - raw_multi_label_accuracy: 0.1373 - val_loss: 0.6678 - val_raw_multi_label_accuracy: 0.1458\n",
      "Epoch 2/1000\n",
      " - 1s - loss: 0.6321 - raw_multi_label_accuracy: 0.0864 - val_loss: 0.6068 - val_raw_multi_label_accuracy: 0.0067\n",
      "Epoch 3/1000\n",
      " - 1s - loss: 0.5878 - raw_multi_label_accuracy: 0.0026 - val_loss: 0.5922 - val_raw_multi_label_accuracy: 0.0035\n",
      "Epoch 4/1000\n",
      " - 1s - loss: 0.5633 - raw_multi_label_accuracy: 0.0233 - val_loss: 0.5829 - val_raw_multi_label_accuracy: 0.0103\n",
      "Epoch 5/1000\n",
      " - 2s - loss: 0.5372 - raw_multi_label_accuracy: 0.0615 - val_loss: 0.5804 - val_raw_multi_label_accuracy: 0.0103\n",
      "Epoch 6/1000\n",
      " - 1s - loss: 0.4992 - raw_multi_label_accuracy: 0.1941 - val_loss: 0.5800 - val_raw_multi_label_accuracy: 0.0602\n",
      "Epoch 7/1000\n",
      " - 2s - loss: 0.4357 - raw_multi_label_accuracy: 0.4051 - val_loss: 0.6132 - val_raw_multi_label_accuracy: 0.0712\n",
      "Epoch 8/1000\n",
      " - 1s - loss: 0.3575 - raw_multi_label_accuracy: 0.5694 - val_loss: 0.6677 - val_raw_multi_label_accuracy: 0.0849\n",
      "Epoch 9/1000\n",
      " - 1s - loss: 0.3119 - raw_multi_label_accuracy: 0.6575 - val_loss: 0.7131 - val_raw_multi_label_accuracy: 0.1233\n",
      "Epoch 10/1000\n",
      " - 2s - loss: 0.2545 - raw_multi_label_accuracy: 0.7007 - val_loss: 0.7309 - val_raw_multi_label_accuracy: 0.1546\n",
      "Epoch 11/1000\n",
      " - 2s - loss: 0.2077 - raw_multi_label_accuracy: 0.7462 - val_loss: 0.9142 - val_raw_multi_label_accuracy: 0.1444\n",
      "Epoch 12/1000\n",
      " - 2s - loss: 0.1741 - raw_multi_label_accuracy: 0.7855 - val_loss: 0.9087 - val_raw_multi_label_accuracy: 0.1308\n",
      "Epoch 13/1000\n",
      " - 1s - loss: 0.1597 - raw_multi_label_accuracy: 0.8328 - val_loss: 0.7594 - val_raw_multi_label_accuracy: 0.1875\n",
      "Epoch 14/1000\n",
      " - 1s - loss: 0.1845 - raw_multi_label_accuracy: 0.8252 - val_loss: 0.7643 - val_raw_multi_label_accuracy: 0.1805\n",
      "Epoch 15/1000\n",
      " - 1s - loss: 0.1477 - raw_multi_label_accuracy: 0.8473 - val_loss: 0.8435 - val_raw_multi_label_accuracy: 0.1733\n",
      "Epoch 16/1000\n",
      " - 1s - loss: 0.1062 - raw_multi_label_accuracy: 0.9028 - val_loss: 0.9238 - val_raw_multi_label_accuracy: 0.1584\n",
      "Epoch 17/1000\n",
      " - 2s - loss: 0.0842 - raw_multi_label_accuracy: 0.9298 - val_loss: 1.0326 - val_raw_multi_label_accuracy: 0.1877\n",
      "Epoch 18/1000\n",
      " - 2s - loss: 0.0661 - raw_multi_label_accuracy: 0.9475 - val_loss: 1.2046 - val_raw_multi_label_accuracy: 0.1872\n",
      "Epoch 19/1000\n",
      " - 2s - loss: 0.0603 - raw_multi_label_accuracy: 0.9552 - val_loss: 1.0232 - val_raw_multi_label_accuracy: 0.1808\n",
      "Epoch 20/1000\n",
      " - 1s - loss: 0.0520 - raw_multi_label_accuracy: 0.9646 - val_loss: 1.1734 - val_raw_multi_label_accuracy: 0.2023\n",
      "Epoch 21/1000\n",
      " - 1s - loss: 0.0668 - raw_multi_label_accuracy: 0.9682 - val_loss: 1.1425 - val_raw_multi_label_accuracy: 0.1991\n",
      "Epoch 22/1000\n",
      " - 1s - loss: 0.0449 - raw_multi_label_accuracy: 0.9706 - val_loss: 1.4814 - val_raw_multi_label_accuracy: 0.1606\n",
      "Epoch 23/1000\n",
      " - 2s - loss: 0.0302 - raw_multi_label_accuracy: 0.9797 - val_loss: 1.2873 - val_raw_multi_label_accuracy: 0.1860\n",
      "Epoch 24/1000\n",
      " - 1s - loss: 0.0298 - raw_multi_label_accuracy: 0.9791 - val_loss: 1.5216 - val_raw_multi_label_accuracy: 0.1506\n",
      "Epoch 25/1000\n",
      " - 2s - loss: 0.0253 - raw_multi_label_accuracy: 0.9825 - val_loss: 1.3011 - val_raw_multi_label_accuracy: 0.2006\n",
      "Epoch 26/1000\n",
      " - 1s - loss: 0.0208 - raw_multi_label_accuracy: 0.9871 - val_loss: 1.4823 - val_raw_multi_label_accuracy: 0.1802\n",
      "Epoch 27/1000\n",
      " - 2s - loss: 0.0159 - raw_multi_label_accuracy: 0.9917 - val_loss: 1.6352 - val_raw_multi_label_accuracy: 0.1817\n",
      "Epoch 28/1000\n",
      " - 2s - loss: 0.0131 - raw_multi_label_accuracy: 0.9922 - val_loss: 1.4691 - val_raw_multi_label_accuracy: 0.1954\n",
      "Epoch 29/1000\n",
      " - 2s - loss: 0.0133 - raw_multi_label_accuracy: 0.9945 - val_loss: 1.7396 - val_raw_multi_label_accuracy: 0.1848\n"
     ]
    },
    {
     "data": {
      "text/plain": [
       "<keras.callbacks.History at 0x7f5fd7d51d68>"
      ]
     },
     "execution_count": 65,
     "metadata": {},
     "output_type": "execute_result"
    }
   ],
   "source": [
    "from keras.layers import Conv1D, GlobalMaxPooling1D\n",
    "from keras.models import Sequential\n",
    "from keras.layers import Dense, Dropout\n",
    "from keras.layers import Flatten\n",
    "from keras.layers.embeddings import Embedding\n",
    "from keras.regularizers import l2\n",
    "\n",
    "from keras.layers import SimpleRNN\n",
    "rnn = Sequential()\n",
    "e = Embedding(num_words_kept, word_vec_len, weights=[embedding_matrix], input_length=max_seq_len, trainable=True)\n",
    "rnn.add(e)\n",
    "rnn.add(SimpleRNN(32, activation = 'relu'))\n",
    "rnn.add(Dense(256, activation='relu'))\n",
    "rnn.add(Dense(len(genre_dict), activation='sigmoid'))\n",
    "rnn.compile(loss='binary_crossentropy', optimizer='adam', metrics=[raw_multi_label_accuracy])\n",
    "rnn.fit(x_train_seq, y_train, validation_split = .1, callbacks = [DelayedEarlyStopping(monitor = 'val_raw_multi_label_accuracy', patience = 5, delay=25)], epochs=1000, batch_size=100, verbose=2)"
   ]
  },
  {
   "cell_type": "code",
   "execution_count": 59,
   "metadata": {},
   "outputs": [],
   "source": [
    "predictions = nn_output_to_predictions(rnn.predict(x_test_seq))"
   ]
  },
  {
   "cell_type": "code",
   "execution_count": 60,
   "metadata": {},
   "outputs": [
    {
     "data": {
      "text/plain": [
       "0.28112491373360926"
      ]
     },
     "execution_count": 60,
     "metadata": {},
     "output_type": "execute_result"
    }
   ],
   "source": [
    "multi_label_accuracy(y_test, predictions)"
   ]
  },
  {
   "cell_type": "code",
   "execution_count": 61,
   "metadata": {},
   "outputs": [
    {
     "data": {
      "text/plain": [
       "0.4123427672955975"
      ]
     },
     "execution_count": 61,
     "metadata": {},
     "output_type": "execute_result"
    }
   ],
   "source": [
    "multi_label_precision(y_test, predictions)"
   ]
  },
  {
   "cell_type": "code",
   "execution_count": 62,
   "metadata": {},
   "outputs": [
    {
     "data": {
      "text/plain": [
       "0.3618012422360249"
      ]
     },
     "execution_count": 62,
     "metadata": {},
     "output_type": "execute_result"
    }
   ],
   "source": [
    "multi_label_recall(y_test, predictions)"
   ]
  },
  {
   "cell_type": "code",
   "execution_count": 63,
   "metadata": {},
   "outputs": [
    {
     "name": "stdout",
     "output_type": "stream",
     "text": [
      "Percent of correctly decided label decisions: 64.55486542443064\n"
     ]
    }
   ],
   "source": [
    "print(\"Percent of correctly decided label decisions: \" + str(100* (1-hamming_loss(y_test, predictions))))"
   ]
  },
  {
   "cell_type": "code",
   "execution_count": 64,
   "metadata": {},
   "outputs": [
    {
     "name": "stdout",
     "output_type": "stream",
     "text": [
      "Accuruacy for Action-Adventure: 0.5548654244306418\n",
      "Precision for Action-Adventure: 0.4375\n",
      "Recall for Action-Adventure: 0.5240641711229946\n",
      "\n",
      "Accuruacy for Romance: 0.7619047619047619\n",
      "Precision for Romance: 0.3902439024390244\n",
      "Recall for Romance: 0.1509433962264151\n",
      "\n",
      "Accuruacy for Horror-Thriller: 0.546583850931677\n",
      "Precision for Horror-Thriller: 0.4354066985645933\n",
      "Recall for Horror-Thriller: 0.4739583333333333\n",
      "\n",
      "Accuruacy for Comedy: 0.5093167701863354\n",
      "Precision for Comedy: 0.4230769230769231\n",
      "Recall for Comedy: 0.30985915492957744\n",
      "\n",
      "Accuruacy for Science Fiction: 0.855072463768116\n",
      "Precision for Science Fiction: 0.18181818181818182\n",
      "Recall for Science Fiction: 0.07142857142857142\n",
      "\n"
     ]
    }
   ],
   "source": [
    "get_per_label_metrics(y_test, predictions)"
   ]
  },
  {
   "cell_type": "code",
   "execution_count": null,
   "metadata": {},
   "outputs": [],
   "source": []
  }
 ],
 "metadata": {
  "kernelspec": {
   "display_name": "Python 3",
   "language": "python",
   "name": "python3"
  },
  "language_info": {
   "codemirror_mode": {
    "name": "ipython",
    "version": 3
   },
   "file_extension": ".py",
   "mimetype": "text/x-python",
   "name": "python",
   "nbconvert_exporter": "python",
   "pygments_lexer": "ipython3",
   "version": "3.6.7"
  }
 },
 "nbformat": 4,
 "nbformat_minor": 2
}
