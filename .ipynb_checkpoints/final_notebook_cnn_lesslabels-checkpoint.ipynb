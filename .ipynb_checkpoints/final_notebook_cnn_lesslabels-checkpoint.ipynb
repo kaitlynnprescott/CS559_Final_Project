{
 "cells": [
  {
   "cell_type": "code",
   "execution_count": 1,
   "metadata": {},
   "outputs": [
    {
     "name": "stderr",
     "output_type": "stream",
     "text": [
      "Using TensorFlow backend.\n"
     ]
    }
   ],
   "source": [
    "import numpy as np\n",
    "import pandas as pd\n",
    "#for reading in data properly\n",
    "import ast\n",
    "import json\n",
    "\n",
    "import gensim\n",
    "from gensim.models import Word2Vec\n",
    "\n",
    "from sklearn.model_selection import train_test_split\n",
    "from sklearn import utils\n",
    "from sklearn.metrics import accuracy_score\n",
    "from sklearn.metrics import precision_score\n",
    "from sklearn.metrics import recall_score\n",
    "\n",
    "import re\n",
    "\n",
    "import nltk\n",
    "from nltk.corpus import stopwords\n",
    "from nltk.tokenize import word_tokenize\n",
    "\n",
    "from keras.preprocessing.text import Tokenizer\n",
    "from keras.preprocessing.sequence import pad_sequences\n",
    "import keras.backend as K\n",
    "from keras.callbacks import EarlyStopping\n",
    "from keras.layers import Conv1D, GlobalMaxPooling1D\n",
    "from keras.models import Sequential\n",
    "from keras.layers import Dense, Dropout\n",
    "from keras.layers import Flatten\n",
    "from keras.layers.embeddings import Embedding\n",
    "from keras.regularizers import l2\n",
    "from keras.layers import Input, concatenate, Activation\n",
    "from keras.models import Model\n",
    "from keras.layers import LSTM\n",
    "from keras.layers import SimpleRNN\n",
    "\n",
    "stop_words = set(stopwords.words('english'))"
   ]
  },
  {
   "cell_type": "markdown",
   "metadata": {},
   "source": [
    "read in the data"
   ]
  },
  {
   "cell_type": "code",
   "execution_count": 2,
   "metadata": {},
   "outputs": [],
   "source": [
    "all_data = pd.read_csv('train.csv')\n",
    "all_data = all_data.dropna(subset=['overview', 'genres']) #drop cols without overview or genre (data we use or labels)"
   ]
  },
  {
   "cell_type": "code",
   "execution_count": 3,
   "metadata": {},
   "outputs": [],
   "source": [
    "#parse each row to get label vectors from json\n",
    "def parse_genres_json(x):\n",
    "    try:\n",
    "        json_genres = json.loads(x.replace(\"'\", '\"'))\n",
    "        numElems = len(json_genres)\n",
    "        ret = [0]*len(genre_dict) #number of genres we are looking at\n",
    "        for i in range(numElems):\n",
    "            genre_str = (json_genres[i]['name'])\n",
    "            if genre_str in genre_map.keys():\n",
    "                ret[genre_dict[genre_map[genre_str]]] = 1\n",
    "        return ret\n",
    "    except Exception as excep:\n",
    "        print('Exception' + str(excep))\n",
    "        return ''"
   ]
  },
  {
   "cell_type": "markdown",
   "metadata": {},
   "source": [
    "Get dictionary for genre to its index in label vector"
   ]
  },
  {
   "cell_type": "code",
   "execution_count": 4,
   "metadata": {},
   "outputs": [
    {
     "data": {
      "text/plain": [
       "{'Action-Adventure': 0,\n",
       " 'Romance': 1,\n",
       " 'Horror-Thriller': 2,\n",
       " 'Comedy': 3,\n",
       " 'Science Fiction': 4}"
      ]
     },
     "execution_count": 4,
     "metadata": {},
     "output_type": "execute_result"
    }
   ],
   "source": [
    "genre_dict = {}\n",
    "genre_dict['Action-Adventure'] = 0\n",
    "genre_dict['Romance'] = 1\n",
    "genre_dict['Horror-Thriller'] = 2\n",
    "genre_dict['Comedy'] = 3\n",
    "genre_dict['Science Fiction'] = 4\n",
    "#genre_dict['Drama'] = 5\n",
    "genre_dict"
   ]
  },
  {
   "cell_type": "code",
   "execution_count": 5,
   "metadata": {},
   "outputs": [],
   "source": [
    "#map original labels to more coarse grained labels\n",
    "genre_map = {}\n",
    "genre_map['Adventure'] = 'Action-Adventure'\n",
    "genre_map['Romance'] = 'Romance'\n",
    "genre_map['Horror'] = 'Horror-Thriller'\n",
    "genre_map['Thriller'] = 'Horror-Thriller'\n",
    "genre_map['Comedy'] = 'Comedy'\n",
    "#genre_map['War'] = 'Action-Adventure'#not sure about this\n",
    "genre_map['Action'] = 'Action-Adventure'\n",
    "genre_map['Science Fiction'] = 'Science Fiction'\n",
    "#genre_map['Drama'] = 'Drama'"
   ]
  },
  {
   "cell_type": "code",
   "execution_count": 6,
   "metadata": {},
   "outputs": [],
   "source": [
    "def getGenresVects():\n",
    "    y = all_data['genres']\n",
    "    ret = y.apply(parse_genres_json)\n",
    "    all_data['genres_vect'] = ret"
   ]
  },
  {
   "cell_type": "code",
   "execution_count": 7,
   "metadata": {},
   "outputs": [],
   "source": [
    "getGenresVects() #get label vectors for genres indexed by indexes in genre_dict"
   ]
  },
  {
   "cell_type": "code",
   "execution_count": 8,
   "metadata": {},
   "outputs": [],
   "source": [
    "#put to lower case, remove punctation, remove stopwords\n",
    "def cleanText(text):\n",
    "    no_stopword_text = [w for w in text.split() if not w in stop_words]\n",
    "    text = ' '.join(no_stopword_text)\n",
    "    text = re.sub(r'[^a-z A-Z0-9]', \"\", text) #maybe shouldn't remove punction between words here?\n",
    "    text = text.lower()\n",
    "    return text\n",
    "\n",
    "all_data['cleanOverview'] = all_data['overview'].apply(cleanText)"
   ]
  },
  {
   "cell_type": "code",
   "execution_count": 9,
   "metadata": {},
   "outputs": [],
   "source": [
    "all_data = all_data[all_data.genres_vect.map(sum) > 0] #drop rows that now have no labels "
   ]
  },
  {
   "cell_type": "code",
   "execution_count": 10,
   "metadata": {},
   "outputs": [],
   "source": [
    "#neural net data only needs a few cols\n",
    "nn_data = all_data[['cleanOverview', 'genres_vect', 'overview']]"
   ]
  },
  {
   "cell_type": "code",
   "execution_count": 11,
   "metadata": {},
   "outputs": [],
   "source": [
    "train, test = train_test_split(nn_data, test_size=0.2, random_state=42)"
   ]
  },
  {
   "cell_type": "markdown",
   "metadata": {},
   "source": [
    "Extract actual features and labels from train and test set"
   ]
  },
  {
   "cell_type": "code",
   "execution_count": 12,
   "metadata": {},
   "outputs": [],
   "source": [
    "#gettrian and test features for classification. Just need text and lables for this\n",
    "x = train['cleanOverview'].values.tolist()\n",
    "y = train['genres_vect']\n",
    "x_test = test['cleanOverview'].values.tolist()\n",
    "y_test = test['genres_vect']"
   ]
  },
  {
   "cell_type": "code",
   "execution_count": 13,
   "metadata": {},
   "outputs": [],
   "source": [
    "#convert labels from array of lists to numpy array\n",
    "\n",
    "y_train = y.tolist()\n",
    "y_train = np.array(y_train)\n",
    "\n",
    "y_test = y_test.tolist()\n",
    "y_test = np.array(y_test)"
   ]
  },
  {
   "cell_type": "markdown",
   "metadata": {},
   "source": [
    "Get initial word embedding vectors"
   ]
  },
  {
   "cell_type": "code",
   "execution_count": 14,
   "metadata": {},
   "outputs": [],
   "source": [
    "tok = [word_tokenize(ov) for ov in x]"
   ]
  },
  {
   "cell_type": "code",
   "execution_count": 15,
   "metadata": {},
   "outputs": [],
   "source": [
    "word_vec_len = 32\n",
    "w2v = Word2Vec(tok, min_count = 2, size=word_vec_len)"
   ]
  },
  {
   "cell_type": "code",
   "execution_count": 16,
   "metadata": {},
   "outputs": [],
   "source": [
    "num_words_kept = 100000 #using 100000 most popular words, use throughout\n",
    "\n",
    "tokenizer = Tokenizer(num_words_kept)\n",
    "tokenizer.fit_on_texts(x)\n",
    "sequences = tokenizer.texts_to_sequences(x)\n",
    "\n",
    "max_seq_len = 150 #larger than averaage but not too large\n",
    "\n",
    "#get actual train features to feed into neural nets for training\n",
    "x_train_seq = pad_sequences(sequences, maxlen=max_seq_len)"
   ]
  },
  {
   "cell_type": "code",
   "execution_count": 17,
   "metadata": {},
   "outputs": [],
   "source": [
    "test_sequences = tokenizer.texts_to_sequences(x_test)\n",
    "#get actual test features to feed into neural nets for testing\n",
    "x_test_seq = pad_sequences(test_sequences, maxlen=max_seq_len)"
   ]
  },
  {
   "cell_type": "markdown",
   "metadata": {},
   "source": [
    "Get word embeddings matrix for start input to neural net"
   ]
  },
  {
   "cell_type": "code",
   "execution_count": 18,
   "metadata": {},
   "outputs": [],
   "source": [
    "#Citation: This technique to get word embeddings comes, with some minor changes, mostly from: \n",
    "#https://towardsdatascience.com/another-twitter-sentiment-analysis-with-python-part-11-cnn-word2vec-41f5e28eda74\n",
    "\n",
    "embeddings_index = {}\n",
    "for w in w2v.wv.vocab.keys():\n",
    "    embeddings_index[w] = w2v.wv[w]\n",
    "\n",
    "\n",
    "embedding_matrix = np.zeros((num_words_kept, word_vec_len))\n",
    "for word, i in tokenizer.word_index.items():\n",
    "    if i >= num_words_kept:\n",
    "        continue\n",
    "    embedding_vector = embeddings_index.get(word)\n",
    "    if embedding_vector is not None:\n",
    "        embedding_matrix[i] = embedding_vector"
   ]
  },
  {
   "cell_type": "markdown",
   "metadata": {},
   "source": [
    "Below we define evlaution metric functions"
   ]
  },
  {
   "cell_type": "code",
   "execution_count": 19,
   "metadata": {},
   "outputs": [],
   "source": [
    "def get_per_label_metrics(real_labels_matrix, predictions_labels_matrix):\n",
    "    for genre in genre_dict.keys():\n",
    "        index = genre_dict[genre]\n",
    "        real_labels_vect = real_labels_matrix[:, index]\n",
    "        prediction_vect = predictions_labels_matrix[:,index]\n",
    "        print(\"Accuruacy for \" + genre + \": \" + str(accuracy_score(real_labels_vect, prediction_vect)))\n",
    "        print(\"Precision for \" + genre + \": \" + str(precision_score(real_labels_vect, prediction_vect)))\n",
    "        print(\"Recall for \" + genre + \": \" + str(recall_score(real_labels_vect, prediction_vect)))\n",
    "        print()"
   ]
  },
  {
   "cell_type": "code",
   "execution_count": 20,
   "metadata": {},
   "outputs": [],
   "source": [
    "#size of intersection of predicted and actual labels divided by size of their union for each datapoint tested on\n",
    "#sum those and then divide by number of datapoints\n",
    "#vectorized for speed\n",
    "def multi_label_accuracy(real_labels_matrix, predictions_labels_matrix):\n",
    "    #binary so set intersection is and operator\n",
    "    intersection = real_labels_matrix & predictions_labels_matrix\n",
    "    #set union for binary is same as or operator\n",
    "    union = real_labels_matrix | predictions_labels_matrix\n",
    "    #sum(array.T) gets number of 1s in row\n",
    "    row_wise_accuracy = sum(intersection.T) / sum(union.T)\n",
    "    return sum(row_wise_accuracy) / real_labels_matrix.shape[0]\n",
    "\n",
    "#size of intersection of predicted and actual labels divided by size of predicted set for each datapoint tested on\n",
    "#sum those and divide by number of datapoints\n",
    "#if no predicted labels, don't count that row towards the precision as that would be undefined\n",
    "def multi_label_precision(real_labels_matrix, predictions_labels_matrix):\n",
    "    #binary so set intersection is and operator\n",
    "    intersection = real_labels_matrix & predictions_labels_matrix\n",
    "    precision_sum = 0\n",
    "    num_rows = 0\n",
    "    for row in range(intersection.shape[0]):\n",
    "        if sum(predictions_labels_matrix[row]) > 0: #if there is at least one prediction for this row\n",
    "            num_rows += 1\n",
    "            precision_sum += sum(intersection[row]) / sum(predictions_labels_matrix[row])\n",
    "    if num_rows == 0:\n",
    "        return 0#no labels predicted at all will give us 0 precision as precision makes no sense here\n",
    "    return precision_sum / num_rows\n",
    "\n",
    "#size of intersection of predicted and actual labels divided by size of real label set for each datapoint tested on\n",
    "#sum those and divide by number of datapoints\n",
    "#all datapoints should have at least 1 real label in this data set\n",
    "#vectorized for speed\n",
    "def multi_label_recall(real_labels_matrix, predictions_labels_matrix):\n",
    "    #binary so set intersection is and operator\n",
    "    intersection = real_labels_matrix & predictions_labels_matrix\n",
    "    #set union for binary is same as or operator\n",
    "    #sum(array.T) gets number of 1s in row\n",
    "    row_wise_recall = sum(intersection.T) / sum(real_labels_matrix.T)\n",
    "    return sum(row_wise_recall) / real_labels_matrix.shape[0]\n",
    "\n",
    "#lower is better. Percent incorrectly chosen labels counting assignment and non-assignment equally\n",
    "def hamming_loss(real_labels_matrix, predictions_labels_matrix):\n",
    "    return (np.logical_xor(real_labels_matrix, predictions_labels_matrix)).sum()/(real_labels_matrix.shape[0] * real_labels_matrix.shape[1])\n",
    "\n",
    "\n",
    "#K is what we imported keras backend as\n",
    "\n",
    "#metric for keras for early stopping\n",
    "#takes in raw labels from kerass (not yet converted to 0 and 1s)\n",
    "#NOT the same as accuracy, this is total labels correctly identified divided by union of total labels\n",
    "#this weights rows with more labels higher, where accruacy does not, but this is still a good metric for early stopping\n",
    "def raw_multi_label_accuracy(y_true, y_pred):\n",
    "    positives = K.greater_equal(y_pred, 0.5)\n",
    "    positives = K.cast(positives, K.floatx())\n",
    "    new_y_pred = positives #+ ((1-positives)*y_pred)\n",
    "    intersection = y_true * new_y_pred\n",
    "    union = 1 -((1-y_true)*(1-new_y_pred))\n",
    "    accuracy = K.sum(intersection) / K.sum(union)\n",
    "    return accuracy\n",
    "    "
   ]
  },
  {
   "cell_type": "code",
   "execution_count": 21,
   "metadata": {},
   "outputs": [],
   "source": [
    "def get_all_metrics(actual_labels, predictions):\n",
    "    print('Getting evaluation metrics for each label:')\n",
    "    get_per_label_metrics(actual_labels, predictions)\n",
    "    print('Getting evaluations for multilabel problem')\n",
    "    print('Multilabel accuracy: ' + str(multi_label_accuracy(actual_labels, predictions)))\n",
    "    print('Multilabel precision: ' + str(multi_label_precision(actual_labels, predictions)))\n",
    "    print('Multilabel recall: ' + str(multi_label_recall(actual_labels, predictions)))\n",
    "    print(\"Percent of correctly decided label decisions: \" + str(100* (1-hamming_loss(actual_labels, predictions))))"
   ]
  },
  {
   "cell_type": "code",
   "execution_count": 22,
   "metadata": {},
   "outputs": [],
   "source": [
    "#for early stopping only after certain number of epochs. wait until delay epochs until early stopping\n",
    "#not same as patience. Want to not even start looking until delay is reached\n",
    "class DelayedEarlyStopping(EarlyStopping):\n",
    "    def __init__(self, monitor, min_delta=0, patience=0, verbose=0, mode='auto', delay = 100):\n",
    "        super(DelayedEarlyStopping, self).__init__()\n",
    "        self.delay = delay\n",
    "\n",
    "    def on_epoch_end(self, epoch, logs=None):\n",
    "        if epoch > self.delay:\n",
    "            super().on_epoch_end(epoch, logs)"
   ]
  },
  {
   "cell_type": "code",
   "execution_count": 23,
   "metadata": {},
   "outputs": [],
   "source": [
    "def nn_output_to_predictions(res):\n",
    "    label_predictions = []\n",
    "    for i in range(res.shape[0]):\n",
    "        pred = [0]*len(genre_dict)\n",
    "        for j in range(res.shape[1]):\n",
    "            if res[i][j] >= .5:\n",
    "                pred[j] = 1\n",
    "        label_predictions.append(pred)\n",
    "    return np.array(label_predictions)"
   ]
  },
  {
   "cell_type": "markdown",
   "metadata": {},
   "source": [
    "Convolutional Neural Networks"
   ]
  },
  {
   "cell_type": "code",
   "execution_count": 24,
   "metadata": {
    "scrolled": true
   },
   "outputs": [
    {
     "name": "stdout",
     "output_type": "stream",
     "text": [
      "WARNING:tensorflow:From /home/matt/.local/lib/python3.6/site-packages/tensorflow/python/framework/op_def_library.py:263: colocate_with (from tensorflow.python.framework.ops) is deprecated and will be removed in a future version.\n",
      "Instructions for updating:\n",
      "Colocations handled automatically by placer.\n",
      "WARNING:tensorflow:From /home/matt/.local/lib/python3.6/site-packages/keras/backend/tensorflow_backend.py:3445: calling dropout (from tensorflow.python.ops.nn_ops) with keep_prob is deprecated and will be removed in a future version.\n",
      "Instructions for updating:\n",
      "Please use `rate` instead of `keep_prob`. Rate should be set to `rate = 1 - keep_prob`.\n",
      "WARNING:tensorflow:From /home/matt/.local/lib/python3.6/site-packages/tensorflow/python/ops/math_ops.py:3066: to_int32 (from tensorflow.python.ops.math_ops) is deprecated and will be removed in a future version.\n",
      "Instructions for updating:\n",
      "Use tf.cast instead.\n",
      "WARNING:tensorflow:From /home/matt/.local/lib/python3.6/site-packages/tensorflow/python/ops/math_grad.py:102: div (from tensorflow.python.ops.math_ops) is deprecated and will be removed in a future version.\n",
      "Instructions for updating:\n",
      "Deprecated in favor of operator or tf.math.divide.\n",
      "Train on 1738 samples, validate on 194 samples\n",
      "Epoch 1/1000\n",
      " - 6s - loss: 0.7084 - raw_multi_label_accuracy: 0.0428 - val_loss: 0.6524 - val_raw_multi_label_accuracy: 0.0000e+00\n",
      "Epoch 2/1000\n",
      " - 4s - loss: 0.6584 - raw_multi_label_accuracy: 0.0447 - val_loss: 0.6369 - val_raw_multi_label_accuracy: 0.0000e+00\n",
      "Epoch 3/1000\n",
      " - 4s - loss: 0.6402 - raw_multi_label_accuracy: 0.0217 - val_loss: 0.6260 - val_raw_multi_label_accuracy: 0.0000e+00\n",
      "Epoch 4/1000\n",
      " - 4s - loss: 0.6261 - raw_multi_label_accuracy: 0.0178 - val_loss: 0.6155 - val_raw_multi_label_accuracy: 0.0000e+00\n",
      "Epoch 5/1000\n",
      " - 5s - loss: 0.6130 - raw_multi_label_accuracy: 0.0220 - val_loss: 0.6097 - val_raw_multi_label_accuracy: 0.0000e+00\n",
      "Epoch 6/1000\n",
      " - 5s - loss: 0.5951 - raw_multi_label_accuracy: 0.0259 - val_loss: 0.6015 - val_raw_multi_label_accuracy: 0.0000e+00\n",
      "Epoch 7/1000\n",
      " - 5s - loss: 0.5584 - raw_multi_label_accuracy: 0.1420 - val_loss: 0.5888 - val_raw_multi_label_accuracy: 0.0239\n",
      "Epoch 8/1000\n",
      " - 5s - loss: 0.4840 - raw_multi_label_accuracy: 0.4450 - val_loss: 0.5672 - val_raw_multi_label_accuracy: 0.2075\n",
      "Epoch 9/1000\n",
      " - 5s - loss: 0.4041 - raw_multi_label_accuracy: 0.5572 - val_loss: 0.5581 - val_raw_multi_label_accuracy: 0.2106\n",
      "Epoch 10/1000\n",
      " - 5s - loss: 0.3515 - raw_multi_label_accuracy: 0.6175 - val_loss: 0.5793 - val_raw_multi_label_accuracy: 0.2247\n",
      "Epoch 11/1000\n",
      " - 5s - loss: 0.3007 - raw_multi_label_accuracy: 0.6977 - val_loss: 0.5767 - val_raw_multi_label_accuracy: 0.2652\n",
      "Epoch 12/1000\n",
      " - 2s - loss: 0.2624 - raw_multi_label_accuracy: 0.7527 - val_loss: 0.5834 - val_raw_multi_label_accuracy: 0.3003\n",
      "Epoch 13/1000\n",
      " - 3s - loss: 0.2231 - raw_multi_label_accuracy: 0.7947 - val_loss: 0.6043 - val_raw_multi_label_accuracy: 0.3114\n",
      "Epoch 14/1000\n",
      " - 3s - loss: 0.1911 - raw_multi_label_accuracy: 0.8471 - val_loss: 0.6204 - val_raw_multi_label_accuracy: 0.3213\n",
      "Epoch 15/1000\n",
      " - 3s - loss: 0.1632 - raw_multi_label_accuracy: 0.8891 - val_loss: 0.6343 - val_raw_multi_label_accuracy: 0.3316\n",
      "Epoch 16/1000\n",
      " - 2s - loss: 0.1395 - raw_multi_label_accuracy: 0.9182 - val_loss: 0.6610 - val_raw_multi_label_accuracy: 0.3316\n",
      "Epoch 17/1000\n",
      " - 3s - loss: 0.1257 - raw_multi_label_accuracy: 0.9266 - val_loss: 0.6820 - val_raw_multi_label_accuracy: 0.3325\n",
      "Epoch 18/1000\n",
      " - 3s - loss: 0.1130 - raw_multi_label_accuracy: 0.9404 - val_loss: 0.6973 - val_raw_multi_label_accuracy: 0.3280\n",
      "Epoch 19/1000\n",
      " - 2s - loss: 0.1050 - raw_multi_label_accuracy: 0.9452 - val_loss: 0.7097 - val_raw_multi_label_accuracy: 0.3378\n",
      "Epoch 20/1000\n",
      " - 3s - loss: 0.0961 - raw_multi_label_accuracy: 0.9561 - val_loss: 0.7243 - val_raw_multi_label_accuracy: 0.3316\n",
      "Epoch 21/1000\n",
      " - 3s - loss: 0.0887 - raw_multi_label_accuracy: 0.9663 - val_loss: 0.7373 - val_raw_multi_label_accuracy: 0.3404\n",
      "Epoch 22/1000\n",
      " - 3s - loss: 0.0829 - raw_multi_label_accuracy: 0.9716 - val_loss: 0.7584 - val_raw_multi_label_accuracy: 0.3280\n",
      "Epoch 23/1000\n",
      " - 4s - loss: 0.0772 - raw_multi_label_accuracy: 0.9707 - val_loss: 0.7652 - val_raw_multi_label_accuracy: 0.3271\n",
      "Epoch 24/1000\n",
      " - 3s - loss: 0.0723 - raw_multi_label_accuracy: 0.9774 - val_loss: 0.7703 - val_raw_multi_label_accuracy: 0.3398\n",
      "Epoch 25/1000\n",
      " - 3s - loss: 0.0689 - raw_multi_label_accuracy: 0.9758 - val_loss: 0.7784 - val_raw_multi_label_accuracy: 0.3293\n",
      "Epoch 26/1000\n",
      " - 3s - loss: 0.0634 - raw_multi_label_accuracy: 0.9795 - val_loss: 0.7849 - val_raw_multi_label_accuracy: 0.3372\n",
      "Epoch 27/1000\n",
      " - 3s - loss: 0.0610 - raw_multi_label_accuracy: 0.9812 - val_loss: 0.7883 - val_raw_multi_label_accuracy: 0.3340\n",
      "Epoch 28/1000\n",
      " - 3s - loss: 0.0575 - raw_multi_label_accuracy: 0.9848 - val_loss: 0.7854 - val_raw_multi_label_accuracy: 0.3414\n",
      "Epoch 29/1000\n",
      " - 3s - loss: 0.0553 - raw_multi_label_accuracy: 0.9834 - val_loss: 0.8014 - val_raw_multi_label_accuracy: 0.3422\n"
     ]
    },
    {
     "data": {
      "text/plain": [
       "<keras.callbacks.History at 0x7fbb9ddbe518>"
      ]
     },
     "execution_count": 24,
     "metadata": {},
     "output_type": "execute_result"
    }
   ],
   "source": [
    "model_cnn = Sequential()\n",
    "e = Embedding(num_words_kept, word_vec_len, weights=[embedding_matrix], input_length=max_seq_len, trainable=True)\n",
    "#e = Embedding(num_words_kept, word_vec_len, input_length=max_seq_len, trainable=True)\n",
    "model_cnn.add(e)\n",
    "model_cnn.add(Conv1D(filters=50, kernel_size=2, padding='valid', activation='relu', strides=1))\n",
    "model_cnn.add(GlobalMaxPooling1D())\n",
    "model_cnn.add(Dense(256, activation='relu', kernel_regularizer=l2(0.001)))\n",
    "model_cnn.add(Dropout(.5))\n",
    "model_cnn.add(Dense(len(genre_dict), activation='sigmoid'))\n",
    "model_cnn.compile(loss='binary_crossentropy', optimizer='adam', metrics=[raw_multi_label_accuracy])\n",
    "model_cnn.fit(x_train_seq, y_train, validation_split = .1, callbacks = [DelayedEarlyStopping(monitor = 'val_raw_multi_label_accuracy', patience = 5, delay=25)], epochs=1000, batch_size=100, verbose=2)"
   ]
  },
  {
   "cell_type": "code",
   "execution_count": 25,
   "metadata": {},
   "outputs": [],
   "source": [
    "predictions = nn_output_to_predictions(model_cnn.predict(x_test_seq))"
   ]
  },
  {
   "cell_type": "code",
   "execution_count": 26,
   "metadata": {},
   "outputs": [
    {
     "name": "stdout",
     "output_type": "stream",
     "text": [
      "Getting evaluation metrics for each label:\n",
      "Accuruacy for Action-Adventure: 0.6770186335403726\n",
      "Precision for Action-Adventure: 0.6476190476190476\n",
      "Recall for Action-Adventure: 0.36363636363636365\n",
      "\n",
      "Accuruacy for Romance: 0.7743271221532091\n",
      "Precision for Romance: 0.4666666666666667\n",
      "Recall for Romance: 0.19811320754716982\n",
      "\n",
      "Accuruacy for Horror-Thriller: 0.7101449275362319\n",
      "Precision for Horror-Thriller: 0.6940298507462687\n",
      "Recall for Horror-Thriller: 0.484375\n",
      "\n",
      "Accuruacy for Comedy: 0.629399585921325\n",
      "Precision for Comedy: 0.56640625\n",
      "Recall for Comedy: 0.6807511737089202\n",
      "\n",
      "Accuruacy for Science Fiction: 0.8840579710144928\n",
      "Precision for Science Fiction: 0.5\n",
      "Recall for Science Fiction: 0.03571428571428571\n",
      "\n",
      "Getting evaluations for multilabel problem\n",
      "Multilabel accuracy: 0.4133885438233265\n",
      "Multilabel precision: 0.6109794628751976\n",
      "Multilabel recall: 0.46773636991028306\n",
      "Percent of correctly decided label decisions: 73.49896480331263\n"
     ]
    }
   ],
   "source": [
    "get_all_metrics(y_test, predictions)"
   ]
  },
  {
   "cell_type": "markdown",
   "metadata": {},
   "source": [
    "CNN but with multiple filter sizes so we don't just filter on group of words at a time"
   ]
  },
  {
   "cell_type": "code",
   "execution_count": 27,
   "metadata": {},
   "outputs": [],
   "source": [
    "model_input = Input(shape=(max_seq_len,), dtype='int32')\n",
    "e = Embedding(num_words_kept, word_vec_len, weights=[embedding_matrix], input_length=max_seq_len, trainable=True)(model_input)\n",
    "two_word_filter = Conv1D(filters=100, kernel_size=2, padding='valid', activation='relu', strides=1)(e)\n",
    "two_word_filter = GlobalMaxPooling1D()(two_word_filter)\n",
    "three_word_filter = Conv1D(filters=100, kernel_size=3, padding='valid', activation='relu', strides=1)(e)\n",
    "three_word_filter = GlobalMaxPooling1D()(three_word_filter)\n",
    "four_word_filter = Conv1D(filters=100, kernel_size=4, padding='valid', activation='relu', strides=1)(e)\n",
    "four_word_filter = GlobalMaxPooling1D()(four_word_filter)\n",
    "merged = concatenate([two_word_filter, three_word_filter, four_word_filter], axis=1)\n",
    "\n",
    "merged = Dense(256, activation='relu', kernel_regularizer=l2(0.01))(merged)\n",
    "merged = Dropout(0.5)(merged)\n",
    "merged = Dense(len(genre_dict))(merged)\n",
    "output = Activation('sigmoid')(merged)\n",
    "model = Model(inputs=[model_input], outputs=[output])\n",
    "model.compile(loss='binary_crossentropy', optimizer='adam', metrics=[raw_multi_label_accuracy])"
   ]
  },
  {
   "cell_type": "code",
   "execution_count": 28,
   "metadata": {},
   "outputs": [
    {
     "name": "stdout",
     "output_type": "stream",
     "text": [
      "Train on 1738 samples, validate on 194 samples\n",
      "Epoch 1/1000\n",
      " - 12s - loss: 2.8846 - raw_multi_label_accuracy: 0.0741 - val_loss: 2.2812 - val_raw_multi_label_accuracy: 0.0000e+00\n",
      "Epoch 2/1000\n",
      " - 10s - loss: 1.9111 - raw_multi_label_accuracy: 0.0425 - val_loss: 1.5225 - val_raw_multi_label_accuracy: 0.0000e+00\n",
      "Epoch 3/1000\n",
      " - 10s - loss: 1.3064 - raw_multi_label_accuracy: 0.0288 - val_loss: 1.0804 - val_raw_multi_label_accuracy: 0.0000e+00\n",
      "Epoch 4/1000\n",
      " - 10s - loss: 0.9664 - raw_multi_label_accuracy: 0.0246 - val_loss: 0.8375 - val_raw_multi_label_accuracy: 0.0000e+00\n",
      "Epoch 5/1000\n",
      " - 9s - loss: 0.7804 - raw_multi_label_accuracy: 0.0463 - val_loss: 0.7151 - val_raw_multi_label_accuracy: 0.0000e+00\n",
      "Epoch 6/1000\n",
      " - 10s - loss: 0.6825 - raw_multi_label_accuracy: 0.0172 - val_loss: 0.6479 - val_raw_multi_label_accuracy: 0.0000e+00\n",
      "Epoch 7/1000\n",
      " - 9s - loss: 0.6344 - raw_multi_label_accuracy: 0.0271 - val_loss: 0.6154 - val_raw_multi_label_accuracy: 0.0000e+00\n",
      "Epoch 8/1000\n",
      " - 9s - loss: 0.6049 - raw_multi_label_accuracy: 0.0193 - val_loss: 0.6081 - val_raw_multi_label_accuracy: 0.0000e+00\n",
      "Epoch 9/1000\n",
      " - 9s - loss: 0.5758 - raw_multi_label_accuracy: 0.0932 - val_loss: 0.6003 - val_raw_multi_label_accuracy: 0.0103\n",
      "Epoch 10/1000\n",
      " - 10s - loss: 0.5074 - raw_multi_label_accuracy: 0.3759 - val_loss: 0.5943 - val_raw_multi_label_accuracy: 0.1638\n",
      "Epoch 11/1000\n",
      " - 9s - loss: 0.4387 - raw_multi_label_accuracy: 0.5357 - val_loss: 0.5936 - val_raw_multi_label_accuracy: 0.1887\n",
      "Epoch 12/1000\n",
      " - 9s - loss: 0.4015 - raw_multi_label_accuracy: 0.5599 - val_loss: 0.5827 - val_raw_multi_label_accuracy: 0.1532\n",
      "Epoch 13/1000\n",
      " - 9s - loss: 0.3617 - raw_multi_label_accuracy: 0.6019 - val_loss: 0.5883 - val_raw_multi_label_accuracy: 0.1601\n",
      "Epoch 14/1000\n",
      " - 9s - loss: 0.3173 - raw_multi_label_accuracy: 0.6813 - val_loss: 0.5978 - val_raw_multi_label_accuracy: 0.2177\n",
      "Epoch 15/1000\n",
      " - 8s - loss: 0.2731 - raw_multi_label_accuracy: 0.7662 - val_loss: 0.6069 - val_raw_multi_label_accuracy: 0.2136\n",
      "Epoch 16/1000\n",
      " - 6s - loss: 0.2402 - raw_multi_label_accuracy: 0.8147 - val_loss: 0.6253 - val_raw_multi_label_accuracy: 0.2283\n",
      "Epoch 17/1000\n",
      " - 5s - loss: 0.2121 - raw_multi_label_accuracy: 0.8335 - val_loss: 0.6237 - val_raw_multi_label_accuracy: 0.2466\n",
      "Epoch 18/1000\n",
      " - 4s - loss: 0.1876 - raw_multi_label_accuracy: 0.8571 - val_loss: 0.6425 - val_raw_multi_label_accuracy: 0.2579\n",
      "Epoch 19/1000\n",
      " - 4s - loss: 0.1734 - raw_multi_label_accuracy: 0.8674 - val_loss: 0.6529 - val_raw_multi_label_accuracy: 0.2768\n",
      "Epoch 20/1000\n",
      " - 5s - loss: 0.1602 - raw_multi_label_accuracy: 0.8741 - val_loss: 0.6324 - val_raw_multi_label_accuracy: 0.2748\n",
      "Epoch 21/1000\n",
      " - 4s - loss: 0.1462 - raw_multi_label_accuracy: 0.8927 - val_loss: 0.6828 - val_raw_multi_label_accuracy: 0.2829\n",
      "Epoch 22/1000\n",
      " - 3s - loss: 0.1405 - raw_multi_label_accuracy: 0.8910 - val_loss: 0.6573 - val_raw_multi_label_accuracy: 0.2822\n",
      "Epoch 23/1000\n",
      " - 3s - loss: 0.1321 - raw_multi_label_accuracy: 0.8942 - val_loss: 0.6661 - val_raw_multi_label_accuracy: 0.2794\n",
      "Epoch 24/1000\n",
      " - 3s - loss: 0.1252 - raw_multi_label_accuracy: 0.9064 - val_loss: 0.6719 - val_raw_multi_label_accuracy: 0.2799\n",
      "Epoch 25/1000\n",
      " - 3s - loss: 0.1176 - raw_multi_label_accuracy: 0.9129 - val_loss: 0.6997 - val_raw_multi_label_accuracy: 0.2866\n",
      "Epoch 26/1000\n",
      " - 4s - loss: 0.1132 - raw_multi_label_accuracy: 0.9198 - val_loss: 0.7163 - val_raw_multi_label_accuracy: 0.2727\n",
      "Epoch 27/1000\n",
      " - 4s - loss: 0.1098 - raw_multi_label_accuracy: 0.9220 - val_loss: 0.7112 - val_raw_multi_label_accuracy: 0.3013\n",
      "Epoch 28/1000\n",
      " - 4s - loss: 0.1027 - raw_multi_label_accuracy: 0.9275 - val_loss: 0.7128 - val_raw_multi_label_accuracy: 0.3162\n"
     ]
    },
    {
     "data": {
      "text/plain": [
       "<keras.callbacks.History at 0x7fbb9e04c240>"
      ]
     },
     "execution_count": 28,
     "metadata": {},
     "output_type": "execute_result"
    }
   ],
   "source": [
    "model.fit(x_train_seq, y_train, validation_split = .1, callbacks = [DelayedEarlyStopping(monitor = 'val_raw_multi_label_accuracy', patience = 5, delay=25)], epochs=1000, batch_size=100, verbose=2)"
   ]
  },
  {
   "cell_type": "code",
   "execution_count": 29,
   "metadata": {},
   "outputs": [],
   "source": [
    "predictions = nn_output_to_predictions(model.predict(x_test_seq))"
   ]
  },
  {
   "cell_type": "code",
   "execution_count": 30,
   "metadata": {},
   "outputs": [
    {
     "name": "stdout",
     "output_type": "stream",
     "text": [
      "Getting evaluation metrics for each label:\n",
      "Accuruacy for Action-Adventure: 0.6687370600414079\n",
      "Precision for Action-Adventure: 0.5737704918032787\n",
      "Recall for Action-Adventure: 0.5614973262032086\n",
      "\n",
      "Accuruacy for Romance: 0.7805383022774327\n",
      "Precision for Romance: 0.5\n",
      "Recall for Romance: 0.1320754716981132\n",
      "\n",
      "Accuruacy for Horror-Thriller: 0.6335403726708074\n",
      "Precision for Horror-Thriller: 0.5423728813559322\n",
      "Recall for Horror-Thriller: 0.5\n",
      "\n",
      "Accuruacy for Comedy: 0.6418219461697723\n",
      "Precision for Comedy: 0.6176470588235294\n",
      "Recall for Comedy: 0.49295774647887325\n",
      "\n",
      "Accuruacy for Science Fiction: 0.8861283643892339\n",
      "Precision for Science Fiction: 0.6666666666666666\n",
      "Recall for Science Fiction: 0.03571428571428571\n",
      "\n",
      "Getting evaluations for multilabel problem\n",
      "Multilabel accuracy: 0.3837129054520359\n",
      "Multilabel precision: 0.58\n",
      "Multilabel recall: 0.44841269841269843\n",
      "Percent of correctly decided label decisions: 72.21532091097309\n"
     ]
    }
   ],
   "source": [
    "get_all_metrics(y_test, predictions)"
   ]
  },
  {
   "cell_type": "markdown",
   "metadata": {},
   "source": [
    "Regular Neural Network"
   ]
  },
  {
   "cell_type": "code",
   "execution_count": 31,
   "metadata": {},
   "outputs": [
    {
     "name": "stdout",
     "output_type": "stream",
     "text": [
      "Train on 1738 samples, validate on 194 samples\n",
      "Epoch 1/1000\n",
      " - 2s - loss: 0.6226 - raw_multi_label_accuracy: 0.0399 - val_loss: 0.5947 - val_raw_multi_label_accuracy: 0.0703\n",
      "Epoch 2/1000\n",
      " - 2s - loss: 0.5834 - raw_multi_label_accuracy: 0.0866 - val_loss: 0.5999 - val_raw_multi_label_accuracy: 0.1326\n",
      "Epoch 3/1000\n",
      " - 2s - loss: 0.5617 - raw_multi_label_accuracy: 0.1649 - val_loss: 0.5991 - val_raw_multi_label_accuracy: 0.1114\n",
      "Epoch 4/1000\n",
      " - 3s - loss: 0.5231 - raw_multi_label_accuracy: 0.2281 - val_loss: 0.6068 - val_raw_multi_label_accuracy: 0.1830\n",
      "Epoch 5/1000\n",
      " - 2s - loss: 0.4616 - raw_multi_label_accuracy: 0.4115 - val_loss: 0.6114 - val_raw_multi_label_accuracy: 0.1986\n",
      "Epoch 6/1000\n",
      " - 3s - loss: 0.3526 - raw_multi_label_accuracy: 0.6244 - val_loss: 0.5994 - val_raw_multi_label_accuracy: 0.1887\n",
      "Epoch 7/1000\n",
      " - 2s - loss: 0.2343 - raw_multi_label_accuracy: 0.7941 - val_loss: 0.5930 - val_raw_multi_label_accuracy: 0.1926\n",
      "Epoch 8/1000\n",
      " - 2s - loss: 0.1506 - raw_multi_label_accuracy: 0.8816 - val_loss: 0.6137 - val_raw_multi_label_accuracy: 0.2137\n",
      "Epoch 9/1000\n",
      " - 2s - loss: 0.0935 - raw_multi_label_accuracy: 0.9459 - val_loss: 0.6462 - val_raw_multi_label_accuracy: 0.2206\n",
      "Epoch 10/1000\n",
      " - 2s - loss: 0.0597 - raw_multi_label_accuracy: 0.9731 - val_loss: 0.6506 - val_raw_multi_label_accuracy: 0.2585\n",
      "Epoch 11/1000\n",
      " - 1s - loss: 0.0391 - raw_multi_label_accuracy: 0.9889 - val_loss: 0.6870 - val_raw_multi_label_accuracy: 0.2402\n",
      "Epoch 12/1000\n",
      " - 1s - loss: 0.0273 - raw_multi_label_accuracy: 0.9919 - val_loss: 0.6996 - val_raw_multi_label_accuracy: 0.2470\n",
      "Epoch 13/1000\n",
      " - 2s - loss: 0.0198 - raw_multi_label_accuracy: 0.9942 - val_loss: 0.7150 - val_raw_multi_label_accuracy: 0.2676\n",
      "Epoch 14/1000\n",
      " - 2s - loss: 0.0149 - raw_multi_label_accuracy: 0.9963 - val_loss: 0.7300 - val_raw_multi_label_accuracy: 0.2739\n",
      "Epoch 15/1000\n",
      " - 1s - loss: 0.0117 - raw_multi_label_accuracy: 0.9975 - val_loss: 0.7497 - val_raw_multi_label_accuracy: 0.2785\n",
      "Epoch 16/1000\n",
      " - 1s - loss: 0.0094 - raw_multi_label_accuracy: 0.9983 - val_loss: 0.7501 - val_raw_multi_label_accuracy: 0.2835\n",
      "Epoch 17/1000\n",
      " - 1s - loss: 0.0079 - raw_multi_label_accuracy: 0.9989 - val_loss: 0.7949 - val_raw_multi_label_accuracy: 0.2724\n",
      "Epoch 18/1000\n",
      " - 1s - loss: 0.0066 - raw_multi_label_accuracy: 0.9985 - val_loss: 0.8035 - val_raw_multi_label_accuracy: 0.2805\n",
      "Epoch 19/1000\n",
      " - 1s - loss: 0.0058 - raw_multi_label_accuracy: 0.9985 - val_loss: 0.8152 - val_raw_multi_label_accuracy: 0.2775\n",
      "Epoch 20/1000\n",
      " - 2s - loss: 0.0050 - raw_multi_label_accuracy: 0.9989 - val_loss: 0.8176 - val_raw_multi_label_accuracy: 0.2876\n",
      "Epoch 21/1000\n",
      " - 2s - loss: 0.0044 - raw_multi_label_accuracy: 0.9993 - val_loss: 0.8095 - val_raw_multi_label_accuracy: 0.2815\n",
      "Epoch 22/1000\n",
      " - 2s - loss: 0.0040 - raw_multi_label_accuracy: 0.9993 - val_loss: 0.8318 - val_raw_multi_label_accuracy: 0.2857\n",
      "Epoch 23/1000\n",
      " - 2s - loss: 0.0037 - raw_multi_label_accuracy: 0.9992 - val_loss: 0.8753 - val_raw_multi_label_accuracy: 0.2767\n",
      "Epoch 24/1000\n",
      " - 2s - loss: 0.0031 - raw_multi_label_accuracy: 0.9989 - val_loss: 0.8468 - val_raw_multi_label_accuracy: 0.2797\n",
      "Epoch 25/1000\n",
      " - 2s - loss: 0.0029 - raw_multi_label_accuracy: 0.9988 - val_loss: 0.8576 - val_raw_multi_label_accuracy: 0.2833\n",
      "Epoch 26/1000\n",
      " - 3s - loss: 0.0026 - raw_multi_label_accuracy: 0.9992 - val_loss: 0.8650 - val_raw_multi_label_accuracy: 0.2809\n",
      "Epoch 27/1000\n",
      " - 3s - loss: 0.0025 - raw_multi_label_accuracy: 0.9988 - val_loss: 0.8753 - val_raw_multi_label_accuracy: 0.2849\n",
      "Epoch 28/1000\n",
      " - 2s - loss: 0.0024 - raw_multi_label_accuracy: 0.9989 - val_loss: 0.9021 - val_raw_multi_label_accuracy: 0.2763\n"
     ]
    },
    {
     "data": {
      "text/plain": [
       "<keras.callbacks.History at 0x7fbb8e295eb8>"
      ]
     },
     "execution_count": 31,
     "metadata": {},
     "output_type": "execute_result"
    }
   ],
   "source": [
    "normal_nn = Sequential()\n",
    "e = Embedding(num_words_kept, word_vec_len, weights=[embedding_matrix], input_length=max_seq_len, trainable=True)\n",
    "normal_nn.add(e)\n",
    "normal_nn.add(Flatten())\n",
    "normal_nn.add(Dense(256, activation='relu'))\n",
    "normal_nn.add(Dense(len(genre_dict), activation='sigmoid'))\n",
    "normal_nn.compile(loss='binary_crossentropy', optimizer='adam', metrics=[raw_multi_label_accuracy])\n",
    "normal_nn.fit(x_train_seq, y_train, validation_split = .1, callbacks = [DelayedEarlyStopping(monitor = 'val_raw_multi_label_accuracy', patience = 5, delay=25)], epochs=1000, batch_size=100, verbose=2)"
   ]
  },
  {
   "cell_type": "code",
   "execution_count": 32,
   "metadata": {},
   "outputs": [],
   "source": [
    "predictions = nn_output_to_predictions(normal_nn.predict(x_test_seq))"
   ]
  },
  {
   "cell_type": "code",
   "execution_count": 33,
   "metadata": {},
   "outputs": [
    {
     "name": "stdout",
     "output_type": "stream",
     "text": [
      "Getting evaluation metrics for each label:\n",
      "Accuruacy for Action-Adventure: 0.6480331262939959\n",
      "Precision for Action-Adventure: 0.5639097744360902\n",
      "Recall for Action-Adventure: 0.40106951871657753\n",
      "\n",
      "Accuruacy for Romance: 0.7846790890269151\n",
      "Precision for Romance: 0.5416666666666666\n",
      "Recall for Romance: 0.12264150943396226\n",
      "\n",
      "Accuruacy for Horror-Thriller: 0.6211180124223602\n",
      "Precision for Horror-Thriller: 0.5463917525773195\n",
      "Recall for Horror-Thriller: 0.2760416666666667\n",
      "\n",
      "Accuruacy for Comedy: 0.5527950310559007\n",
      "Precision for Comedy: 0.48905109489051096\n",
      "Recall for Comedy: 0.3145539906103286\n",
      "\n",
      "Accuruacy for Science Fiction: 0.8902691511387164\n",
      "Precision for Science Fiction: 0.6666666666666666\n",
      "Recall for Science Fiction: 0.10714285714285714\n",
      "\n",
      "Getting evaluations for multilabel problem\n",
      "Multilabel accuracy: 0.26249137336093853\n",
      "Multilabel precision: 0.5331325301204819\n",
      "Multilabel recall: 0.2907177363699103\n",
      "Percent of correctly decided label decisions: 69.93788819875778\n"
     ]
    }
   ],
   "source": [
    "get_all_metrics(y_test, predictions)"
   ]
  },
  {
   "cell_type": "markdown",
   "metadata": {},
   "source": [
    "LSTM"
   ]
  },
  {
   "cell_type": "code",
   "execution_count": 34,
   "metadata": {},
   "outputs": [
    {
     "name": "stdout",
     "output_type": "stream",
     "text": [
      "Train on 1738 samples, validate on 194 samples\n",
      "Epoch 1/1000\n",
      " - 9s - loss: 0.6387 - raw_multi_label_accuracy: 0.0620 - val_loss: 0.5914 - val_raw_multi_label_accuracy: 0.0000e+00\n",
      "Epoch 2/1000\n",
      " - 7s - loss: 0.5954 - raw_multi_label_accuracy: 0.0000e+00 - val_loss: 0.5828 - val_raw_multi_label_accuracy: 0.0000e+00\n",
      "Epoch 3/1000\n",
      " - 7s - loss: 0.5889 - raw_multi_label_accuracy: 0.0000e+00 - val_loss: 0.5845 - val_raw_multi_label_accuracy: 0.0000e+00\n",
      "Epoch 4/1000\n",
      " - 8s - loss: 0.5862 - raw_multi_label_accuracy: 0.0000e+00 - val_loss: 0.5810 - val_raw_multi_label_accuracy: 0.0000e+00\n",
      "Epoch 5/1000\n",
      " - 10s - loss: 0.5850 - raw_multi_label_accuracy: 0.0000e+00 - val_loss: 0.5794 - val_raw_multi_label_accuracy: 0.0000e+00\n",
      "Epoch 6/1000\n",
      " - 9s - loss: 0.5810 - raw_multi_label_accuracy: 0.0000e+00 - val_loss: 0.5763 - val_raw_multi_label_accuracy: 0.0035\n",
      "Epoch 7/1000\n",
      " - 9s - loss: 0.5683 - raw_multi_label_accuracy: 0.0403 - val_loss: 0.5744 - val_raw_multi_label_accuracy: 0.0068\n",
      "Epoch 8/1000\n",
      " - 7s - loss: 0.5224 - raw_multi_label_accuracy: 0.2392 - val_loss: 0.5360 - val_raw_multi_label_accuracy: 0.2506\n",
      "Epoch 9/1000\n",
      " - 9s - loss: 0.4308 - raw_multi_label_accuracy: 0.4643 - val_loss: 0.5382 - val_raw_multi_label_accuracy: 0.3383\n",
      "Epoch 10/1000\n",
      " - 8s - loss: 0.3712 - raw_multi_label_accuracy: 0.5494 - val_loss: 0.5102 - val_raw_multi_label_accuracy: 0.3634\n",
      "Epoch 11/1000\n",
      " - 9s - loss: 0.3180 - raw_multi_label_accuracy: 0.6134 - val_loss: 0.5326 - val_raw_multi_label_accuracy: 0.3576\n",
      "Epoch 12/1000\n",
      " - 8s - loss: 0.2800 - raw_multi_label_accuracy: 0.6587 - val_loss: 0.6293 - val_raw_multi_label_accuracy: 0.3609\n",
      "Epoch 13/1000\n",
      " - 7s - loss: 0.2435 - raw_multi_label_accuracy: 0.6985 - val_loss: 0.6021 - val_raw_multi_label_accuracy: 0.3733\n",
      "Epoch 14/1000\n",
      " - 7s - loss: 0.2035 - raw_multi_label_accuracy: 0.7637 - val_loss: 0.7365 - val_raw_multi_label_accuracy: 0.3575\n",
      "Epoch 15/1000\n",
      " - 7s - loss: 0.1694 - raw_multi_label_accuracy: 0.8039 - val_loss: 0.7143 - val_raw_multi_label_accuracy: 0.3868\n",
      "Epoch 16/1000\n",
      " - 7s - loss: 0.1356 - raw_multi_label_accuracy: 0.8443 - val_loss: 0.7838 - val_raw_multi_label_accuracy: 0.3875\n",
      "Epoch 17/1000\n",
      " - 7s - loss: 0.1136 - raw_multi_label_accuracy: 0.8790 - val_loss: 0.7634 - val_raw_multi_label_accuracy: 0.3928\n",
      "Epoch 18/1000\n",
      " - 8s - loss: 0.0970 - raw_multi_label_accuracy: 0.8885 - val_loss: 0.8838 - val_raw_multi_label_accuracy: 0.3917\n",
      "Epoch 19/1000\n",
      " - 7s - loss: 0.0805 - raw_multi_label_accuracy: 0.9086 - val_loss: 0.8972 - val_raw_multi_label_accuracy: 0.3816\n",
      "Epoch 20/1000\n",
      " - 7s - loss: 0.0724 - raw_multi_label_accuracy: 0.9109 - val_loss: 1.0362 - val_raw_multi_label_accuracy: 0.3835\n",
      "Epoch 21/1000\n",
      " - 7s - loss: 0.0628 - raw_multi_label_accuracy: 0.9249 - val_loss: 1.0477 - val_raw_multi_label_accuracy: 0.3872\n",
      "Epoch 22/1000\n",
      " - 7s - loss: 0.0573 - raw_multi_label_accuracy: 0.9317 - val_loss: 1.0436 - val_raw_multi_label_accuracy: 0.4000\n",
      "Epoch 23/1000\n",
      " - 8s - loss: 0.0554 - raw_multi_label_accuracy: 0.9335 - val_loss: 1.0335 - val_raw_multi_label_accuracy: 0.3940\n",
      "Epoch 24/1000\n",
      " - 7s - loss: 0.0465 - raw_multi_label_accuracy: 0.9439 - val_loss: 1.1157 - val_raw_multi_label_accuracy: 0.3936\n",
      "Epoch 25/1000\n",
      " - 7s - loss: 0.0445 - raw_multi_label_accuracy: 0.9470 - val_loss: 1.1637 - val_raw_multi_label_accuracy: 0.3929\n",
      "Epoch 26/1000\n",
      " - 7s - loss: 0.0373 - raw_multi_label_accuracy: 0.9587 - val_loss: 1.1993 - val_raw_multi_label_accuracy: 0.3878\n",
      "Epoch 27/1000\n",
      " - 7s - loss: 0.0374 - raw_multi_label_accuracy: 0.9552 - val_loss: 1.1812 - val_raw_multi_label_accuracy: 0.3988\n",
      "Epoch 28/1000\n",
      " - 7s - loss: 0.0336 - raw_multi_label_accuracy: 0.9608 - val_loss: 1.2473 - val_raw_multi_label_accuracy: 0.3921\n"
     ]
    },
    {
     "data": {
      "text/plain": [
       "<keras.callbacks.History at 0x7fbb8d9aa470>"
      ]
     },
     "execution_count": 34,
     "metadata": {},
     "output_type": "execute_result"
    }
   ],
   "source": [
    "lstm_model = Sequential()\n",
    "e = Embedding(num_words_kept, word_vec_len, weights=[embedding_matrix], input_length=max_seq_len, trainable=True)\n",
    "lstm_model.add(e)\n",
    "lstm_model.add(LSTM(100, dropout=0.25, recurrent_dropout=0.25))\n",
    "lstm_model.add(Dense(256, activation='relu'))\n",
    "lstm_model.add(Dense(len(genre_dict), activation='sigmoid'))\n",
    "lstm_model.compile(loss='binary_crossentropy', optimizer='adam', metrics=[raw_multi_label_accuracy])\n",
    "lstm_model.fit(x_train_seq, y_train, validation_split = .1, callbacks = [DelayedEarlyStopping(monitor = 'val_raw_multi_label_accuracy', patience = 5, delay=25)], epochs=1000, batch_size=100, verbose=2)"
   ]
  },
  {
   "cell_type": "code",
   "execution_count": 35,
   "metadata": {},
   "outputs": [],
   "source": [
    "predictions = nn_output_to_predictions(lstm_model.predict(x_test_seq))"
   ]
  },
  {
   "cell_type": "code",
   "execution_count": 36,
   "metadata": {},
   "outputs": [
    {
     "name": "stdout",
     "output_type": "stream",
     "text": [
      "Getting evaluation metrics for each label:\n",
      "Accuruacy for Action-Adventure: 0.7080745341614907\n",
      "Precision for Action-Adventure: 0.5958333333333333\n",
      "Recall for Action-Adventure: 0.7647058823529411\n",
      "\n",
      "Accuruacy for Romance: 0.7577639751552795\n",
      "Precision for Romance: 0.43820224719101125\n",
      "Recall for Romance: 0.36792452830188677\n",
      "\n",
      "Accuruacy for Horror-Thriller: 0.639751552795031\n",
      "Precision for Horror-Thriller: 0.5401785714285714\n",
      "Recall for Horror-Thriller: 0.6302083333333334\n",
      "\n",
      "Accuruacy for Comedy: 0.6873706004140787\n",
      "Precision for Comedy: 0.6220472440944882\n",
      "Recall for Comedy: 0.7417840375586855\n",
      "\n",
      "Accuruacy for Science Fiction: 0.8840579710144928\n",
      "Precision for Science Fiction: 0.5\n",
      "Recall for Science Fiction: 0.17857142857142858\n",
      "\n",
      "Getting evaluations for multilabel problem\n",
      "Multilabel accuracy: 0.4931677018633544\n",
      "Multilabel precision: 0.5955831608005521\n",
      "Multilabel recall: 0.6549344375431332\n",
      "Percent of correctly decided label decisions: 73.54037267080746\n"
     ]
    }
   ],
   "source": [
    "get_all_metrics(y_test, predictions)"
   ]
  },
  {
   "cell_type": "markdown",
   "metadata": {},
   "source": [
    "simple rnn"
   ]
  },
  {
   "cell_type": "code",
   "execution_count": 37,
   "metadata": {},
   "outputs": [
    {
     "name": "stdout",
     "output_type": "stream",
     "text": [
      "Train on 1738 samples, validate on 194 samples\n",
      "Epoch 1/1000\n",
      " - 2s - loss: 0.6458 - raw_multi_label_accuracy: 0.0302 - val_loss: 0.5883 - val_raw_multi_label_accuracy: 0.0000e+00\n",
      "Epoch 2/1000\n",
      " - 1s - loss: 0.5862 - raw_multi_label_accuracy: 0.0026 - val_loss: 0.5838 - val_raw_multi_label_accuracy: 0.0000e+00\n",
      "Epoch 3/1000\n",
      " - 1s - loss: 0.5708 - raw_multi_label_accuracy: 0.0000e+00 - val_loss: 0.5785 - val_raw_multi_label_accuracy: 0.0000e+00\n",
      "Epoch 4/1000\n",
      " - 1s - loss: 0.5514 - raw_multi_label_accuracy: 0.0101 - val_loss: 0.5762 - val_raw_multi_label_accuracy: 0.0035\n",
      "Epoch 5/1000\n",
      " - 1s - loss: 0.5171 - raw_multi_label_accuracy: 0.0529 - val_loss: 0.5728 - val_raw_multi_label_accuracy: 0.0459\n",
      "Epoch 6/1000\n",
      " - 1s - loss: 0.4618 - raw_multi_label_accuracy: 0.3071 - val_loss: 0.5773 - val_raw_multi_label_accuracy: 0.1096\n",
      "Epoch 7/1000\n",
      " - 1s - loss: 0.3625 - raw_multi_label_accuracy: 0.5142 - val_loss: 0.6293 - val_raw_multi_label_accuracy: 0.1652\n",
      "Epoch 8/1000\n",
      " - 1s - loss: 0.2667 - raw_multi_label_accuracy: 0.6502 - val_loss: 0.6613 - val_raw_multi_label_accuracy: 0.1665\n",
      "Epoch 9/1000\n",
      " - 1s - loss: 0.2008 - raw_multi_label_accuracy: 0.7818 - val_loss: 0.7642 - val_raw_multi_label_accuracy: 0.1960\n",
      "Epoch 10/1000\n",
      " - 1s - loss: 0.1348 - raw_multi_label_accuracy: 0.8639 - val_loss: 0.8135 - val_raw_multi_label_accuracy: 0.2246\n",
      "Epoch 11/1000\n",
      " - 1s - loss: 0.0902 - raw_multi_label_accuracy: 0.9063 - val_loss: 0.9327 - val_raw_multi_label_accuracy: 0.2292\n",
      "Epoch 12/1000\n",
      " - 1s - loss: 0.0623 - raw_multi_label_accuracy: 0.9397 - val_loss: 1.0605 - val_raw_multi_label_accuracy: 0.2283\n",
      "Epoch 13/1000\n",
      " - 1s - loss: 0.0433 - raw_multi_label_accuracy: 0.9584 - val_loss: 1.1423 - val_raw_multi_label_accuracy: 0.2389\n",
      "Epoch 14/1000\n",
      " - 2s - loss: 0.0318 - raw_multi_label_accuracy: 0.9717 - val_loss: 1.4047 - val_raw_multi_label_accuracy: 0.2618\n",
      "Epoch 15/1000\n",
      " - 1s - loss: 0.0250 - raw_multi_label_accuracy: 0.9804 - val_loss: 1.3278 - val_raw_multi_label_accuracy: 0.2540\n",
      "Epoch 16/1000\n",
      " - 1s - loss: 0.0188 - raw_multi_label_accuracy: 0.9846 - val_loss: 1.3032 - val_raw_multi_label_accuracy: 0.2615\n",
      "Epoch 17/1000\n",
      " - 2s - loss: 0.0155 - raw_multi_label_accuracy: 0.9903 - val_loss: 1.4326 - val_raw_multi_label_accuracy: 0.2297\n",
      "Epoch 18/1000\n",
      " - 2s - loss: 0.0113 - raw_multi_label_accuracy: 0.9904 - val_loss: 1.3556 - val_raw_multi_label_accuracy: 0.2454\n",
      "Epoch 19/1000\n",
      " - 1s - loss: 0.0085 - raw_multi_label_accuracy: 0.9938 - val_loss: 1.4154 - val_raw_multi_label_accuracy: 0.2390\n",
      "Epoch 20/1000\n",
      " - 1s - loss: 0.0071 - raw_multi_label_accuracy: 0.9929 - val_loss: 1.4431 - val_raw_multi_label_accuracy: 0.2323\n",
      "Epoch 21/1000\n",
      " - 1s - loss: 0.0079 - raw_multi_label_accuracy: 0.9949 - val_loss: 1.4880 - val_raw_multi_label_accuracy: 0.2428\n",
      "Epoch 22/1000\n",
      " - 1s - loss: 0.0064 - raw_multi_label_accuracy: 0.9941 - val_loss: 1.7981 - val_raw_multi_label_accuracy: 0.2419\n",
      "Epoch 23/1000\n",
      " - 1s - loss: 0.0056 - raw_multi_label_accuracy: 0.9951 - val_loss: 1.6086 - val_raw_multi_label_accuracy: 0.2333\n",
      "Epoch 24/1000\n",
      " - 2s - loss: 0.0041 - raw_multi_label_accuracy: 0.9975 - val_loss: 1.7517 - val_raw_multi_label_accuracy: 0.2482\n",
      "Epoch 25/1000\n",
      " - 1s - loss: 0.0032 - raw_multi_label_accuracy: 0.9978 - val_loss: 1.7107 - val_raw_multi_label_accuracy: 0.2516\n",
      "Epoch 26/1000\n",
      " - 1s - loss: 0.0028 - raw_multi_label_accuracy: 0.9981 - val_loss: 1.7052 - val_raw_multi_label_accuracy: 0.2458\n",
      "Epoch 27/1000\n",
      " - 1s - loss: 0.0028 - raw_multi_label_accuracy: 0.9981 - val_loss: 1.6593 - val_raw_multi_label_accuracy: 0.2655\n",
      "Epoch 28/1000\n",
      " - 1s - loss: 0.0024 - raw_multi_label_accuracy: 0.9985 - val_loss: 1.7860 - val_raw_multi_label_accuracy: 0.2550\n"
     ]
    },
    {
     "data": {
      "text/plain": [
       "<keras.callbacks.History at 0x7fbb8c87bf28>"
      ]
     },
     "execution_count": 37,
     "metadata": {},
     "output_type": "execute_result"
    }
   ],
   "source": [
    "rnn = Sequential()\n",
    "e = Embedding(num_words_kept, word_vec_len, weights=[embedding_matrix], input_length=max_seq_len, trainable=True)\n",
    "rnn.add(e)\n",
    "rnn.add(SimpleRNN(32, activation = 'relu'))\n",
    "rnn.add(Dense(256, activation='relu'))\n",
    "rnn.add(Dense(len(genre_dict), activation='sigmoid'))\n",
    "rnn.compile(loss='binary_crossentropy', optimizer='adam', metrics=[raw_multi_label_accuracy])\n",
    "rnn.fit(x_train_seq, y_train, validation_split = .1, callbacks = [DelayedEarlyStopping(monitor = 'val_raw_multi_label_accuracy', patience = 5, delay=25)], epochs=1000, batch_size=100, verbose=2)"
   ]
  },
  {
   "cell_type": "code",
   "execution_count": 38,
   "metadata": {},
   "outputs": [],
   "source": [
    "predictions = nn_output_to_predictions(rnn.predict(x_test_seq))"
   ]
  },
  {
   "cell_type": "code",
   "execution_count": 39,
   "metadata": {},
   "outputs": [
    {
     "name": "stdout",
     "output_type": "stream",
     "text": [
      "Getting evaluation metrics for each label:\n",
      "Accuruacy for Action-Adventure: 0.525879917184265\n",
      "Precision for Action-Adventure: 0.4153225806451613\n",
      "Recall for Action-Adventure: 0.5508021390374331\n",
      "\n",
      "Accuruacy for Romance: 0.7204968944099379\n",
      "Precision for Romance: 0.23636363636363636\n",
      "Recall for Romance: 0.12264150943396226\n",
      "\n",
      "Accuruacy for Horror-Thriller: 0.4906832298136646\n",
      "Precision for Horror-Thriller: 0.3622448979591837\n",
      "Recall for Horror-Thriller: 0.3697916666666667\n",
      "\n",
      "Accuruacy for Comedy: 0.5424430641821946\n",
      "Precision for Comedy: 0.48148148148148145\n",
      "Recall for Comedy: 0.48826291079812206\n",
      "\n",
      "Accuruacy for Science Fiction: 0.8944099378881988\n",
      "Precision for Science Fiction: 1.0\n",
      "Recall for Science Fiction: 0.08928571428571429\n",
      "\n",
      "Getting evaluations for multilabel problem\n",
      "Multilabel accuracy: 0.2853692201518289\n",
      "Multilabel precision: 0.39796659404502555\n",
      "Multilabel recall: 0.3907867494824017\n",
      "Percent of correctly decided label decisions: 63.47826086956522\n"
     ]
    }
   ],
   "source": [
    "get_all_metrics(y_test, predictions)"
   ]
  }
 ],
 "metadata": {
  "kernelspec": {
   "display_name": "Python 3",
   "language": "python",
   "name": "python3"
  },
  "language_info": {
   "codemirror_mode": {
    "name": "ipython",
    "version": 3
   },
   "file_extension": ".py",
   "mimetype": "text/x-python",
   "name": "python",
   "nbconvert_exporter": "python",
   "pygments_lexer": "ipython3",
   "version": "3.6.7"
  }
 },
 "nbformat": 4,
 "nbformat_minor": 2
}
