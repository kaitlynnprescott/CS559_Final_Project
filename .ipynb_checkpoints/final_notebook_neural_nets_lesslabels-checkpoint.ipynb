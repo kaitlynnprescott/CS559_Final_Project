{
 "cells": [
  {
   "cell_type": "code",
   "execution_count": 1,
   "metadata": {},
   "outputs": [
    {
     "name": "stderr",
     "output_type": "stream",
     "text": [
      "Using TensorFlow backend.\n"
     ]
    }
   ],
   "source": [
    "import numpy as np\n",
    "import pandas as pd\n",
    "#for reading in data properly\n",
    "import ast\n",
    "import json\n",
    "\n",
    "import gensim\n",
    "from gensim.models import Word2Vec\n",
    "\n",
    "from sklearn.model_selection import train_test_split\n",
    "from sklearn import utils\n",
    "from sklearn.metrics import accuracy_score\n",
    "from sklearn.metrics import precision_score\n",
    "from sklearn.metrics import recall_score\n",
    "\n",
    "import re\n",
    "\n",
    "import nltk\n",
    "from nltk.corpus import stopwords\n",
    "from nltk.tokenize import word_tokenize\n",
    "\n",
    "from keras.preprocessing.text import Tokenizer\n",
    "from keras.preprocessing.sequence import pad_sequences\n",
    "import keras.backend as K\n",
    "from keras.callbacks import EarlyStopping\n",
    "from keras.layers import Conv1D, GlobalMaxPooling1D, LSTM, SimpleRNN, Dense, Dropout, Flatten\n",
    "from keras.layers import Input, concatenate, Activation\n",
    "from keras.layers.embeddings import Embedding\n",
    "from keras.models import Sequential, Model\n",
    "from keras.regularizers import l2\n",
    "\n",
    "stop_words = set(stopwords.words('english'))"
   ]
  },
  {
   "cell_type": "markdown",
   "metadata": {},
   "source": [
    "read in the data"
   ]
  },
  {
   "cell_type": "code",
   "execution_count": 2,
   "metadata": {},
   "outputs": [],
   "source": [
    "all_data = pd.read_csv('train.csv')\n",
    "all_data = all_data.dropna(subset=['overview', 'genres']) #drop cols without overview or genre (data we use or labels)"
   ]
  },
  {
   "cell_type": "code",
   "execution_count": 3,
   "metadata": {},
   "outputs": [],
   "source": [
    "#parse each row to get label vectors from json\n",
    "def parse_genres_json(x):\n",
    "    try:\n",
    "        json_genres = json.loads(x.replace(\"'\", '\"'))\n",
    "        numElems = len(json_genres)\n",
    "        ret = [0]*len(genre_dict) #number of genres we are looking at\n",
    "        for i in range(numElems):\n",
    "            genre_str = (json_genres[i]['name'])\n",
    "            if genre_str in genre_map.keys():\n",
    "                ret[genre_dict[genre_map[genre_str]]] = 1\n",
    "        return ret\n",
    "    except Exception as excep:\n",
    "        print('Exception' + str(excep))\n",
    "        return ''"
   ]
  },
  {
   "cell_type": "markdown",
   "metadata": {},
   "source": [
    "Get dictionary for genre to its index in label vector"
   ]
  },
  {
   "cell_type": "code",
   "execution_count": 4,
   "metadata": {},
   "outputs": [
    {
     "data": {
      "text/plain": [
       "{'Action-Adventure': 0,\n",
       " 'Romance': 1,\n",
       " 'Horror-Thriller': 2,\n",
       " 'Comedy': 3,\n",
       " 'Science Fiction': 4}"
      ]
     },
     "execution_count": 4,
     "metadata": {},
     "output_type": "execute_result"
    }
   ],
   "source": [
    "genre_dict = {}\n",
    "genre_dict['Action-Adventure'] = 0\n",
    "genre_dict['Romance'] = 1\n",
    "genre_dict['Horror-Thriller'] = 2\n",
    "genre_dict['Comedy'] = 3\n",
    "genre_dict['Science Fiction'] = 4\n",
    "#genre_dict['Drama'] = 5\n",
    "genre_dict"
   ]
  },
  {
   "cell_type": "code",
   "execution_count": 5,
   "metadata": {},
   "outputs": [],
   "source": [
    "#map original labels to more coarse grained labels\n",
    "genre_map = {}\n",
    "genre_map['Adventure'] = 'Action-Adventure'\n",
    "genre_map['Romance'] = 'Romance'\n",
    "genre_map['Horror'] = 'Horror-Thriller'\n",
    "genre_map['Thriller'] = 'Horror-Thriller'\n",
    "genre_map['Comedy'] = 'Comedy'\n",
    "#genre_map['War'] = 'Action-Adventure'#not sure about this\n",
    "genre_map['Action'] = 'Action-Adventure'\n",
    "genre_map['Science Fiction'] = 'Science Fiction'\n",
    "#genre_map['Drama'] = 'Drama'"
   ]
  },
  {
   "cell_type": "code",
   "execution_count": 6,
   "metadata": {},
   "outputs": [],
   "source": [
    "def getGenresVects():\n",
    "    y = all_data['genres']\n",
    "    ret = y.apply(parse_genres_json)\n",
    "    all_data['genres_vect'] = ret"
   ]
  },
  {
   "cell_type": "code",
   "execution_count": 7,
   "metadata": {},
   "outputs": [],
   "source": [
    "getGenresVects() #get label vectors for genres indexed by indexes in genre_dict"
   ]
  },
  {
   "cell_type": "code",
   "execution_count": 8,
   "metadata": {},
   "outputs": [],
   "source": [
    "#put to lower case, remove punctation, remove stopwords\n",
    "def cleanText(text):\n",
    "    no_stopword_text = [w for w in text.split() if not w in stop_words]\n",
    "    text = ' '.join(no_stopword_text)\n",
    "    text = re.sub(r'[^a-z A-Z0-9]', \"\", text) #maybe shouldn't remove punction between words here?\n",
    "    text = text.lower()\n",
    "    return text\n",
    "\n",
    "all_data['cleanOverview'] = all_data['overview'].apply(cleanText)"
   ]
  },
  {
   "cell_type": "code",
   "execution_count": 9,
   "metadata": {},
   "outputs": [],
   "source": [
    "all_data = all_data[all_data.genres_vect.map(sum) > 0] #drop rows that now have no labels "
   ]
  },
  {
   "cell_type": "code",
   "execution_count": 10,
   "metadata": {},
   "outputs": [],
   "source": [
    "#neural net data only needs a few cols\n",
    "nn_data = all_data[['cleanOverview', 'genres_vect', 'overview']]"
   ]
  },
  {
   "cell_type": "code",
   "execution_count": 11,
   "metadata": {},
   "outputs": [],
   "source": [
    "train, test = train_test_split(nn_data, test_size=0.2, random_state=42)"
   ]
  },
  {
   "cell_type": "markdown",
   "metadata": {},
   "source": [
    "Extract actual features and labels from train and test set"
   ]
  },
  {
   "cell_type": "code",
   "execution_count": 12,
   "metadata": {},
   "outputs": [],
   "source": [
    "#gettrian and test features for classification. Just need text and lables for this\n",
    "x = train['cleanOverview'].values.tolist()\n",
    "y = train['genres_vect']\n",
    "x_test = test['cleanOverview'].values.tolist()\n",
    "y_test = test['genres_vect']"
   ]
  },
  {
   "cell_type": "code",
   "execution_count": 13,
   "metadata": {},
   "outputs": [],
   "source": [
    "#convert labels from array of lists to numpy array\n",
    "\n",
    "y_train = y.tolist()\n",
    "y_train = np.array(y_train)\n",
    "\n",
    "y_test = y_test.tolist()\n",
    "y_test = np.array(y_test)"
   ]
  },
  {
   "cell_type": "markdown",
   "metadata": {},
   "source": [
    "Get initial word embedding vectors"
   ]
  },
  {
   "cell_type": "code",
   "execution_count": 14,
   "metadata": {},
   "outputs": [],
   "source": [
    "tok = [word_tokenize(ov) for ov in x]"
   ]
  },
  {
   "cell_type": "code",
   "execution_count": 15,
   "metadata": {},
   "outputs": [],
   "source": [
    "word_vec_len = 32\n",
    "w2v = Word2Vec(tok, min_count = 2, size=word_vec_len)"
   ]
  },
  {
   "cell_type": "code",
   "execution_count": 16,
   "metadata": {},
   "outputs": [],
   "source": [
    "num_words_kept = 100000 #using 100000 most popular words, use throughout\n",
    "\n",
    "tokenizer = Tokenizer(num_words_kept)\n",
    "tokenizer.fit_on_texts(x)\n",
    "sequences = tokenizer.texts_to_sequences(x)\n",
    "\n",
    "max_seq_len = 150 #larger than averaage but not too large\n",
    "\n",
    "#get actual train features to feed into neural nets for training\n",
    "x_train_seq = pad_sequences(sequences, maxlen=max_seq_len)"
   ]
  },
  {
   "cell_type": "code",
   "execution_count": 17,
   "metadata": {},
   "outputs": [],
   "source": [
    "test_sequences = tokenizer.texts_to_sequences(x_test)\n",
    "#get actual test features to feed into neural nets for testing\n",
    "x_test_seq = pad_sequences(test_sequences, maxlen=max_seq_len)"
   ]
  },
  {
   "cell_type": "markdown",
   "metadata": {},
   "source": [
    "Get word embeddings matrix for start input to neural net"
   ]
  },
  {
   "cell_type": "code",
   "execution_count": 18,
   "metadata": {},
   "outputs": [],
   "source": [
    "#Citation: This technique to get word embeddings comes, with some minor changes, mostly from: \n",
    "#https://towardsdatascience.com/another-twitter-sentiment-analysis-with-python-part-11-cnn-word2vec-41f5e28eda74\n",
    "\n",
    "embeddings_index = {}\n",
    "for w in w2v.wv.vocab.keys():\n",
    "    embeddings_index[w] = w2v.wv[w]\n",
    "\n",
    "\n",
    "embedding_matrix = np.zeros((num_words_kept, word_vec_len))\n",
    "for word, i in tokenizer.word_index.items():\n",
    "    if i >= num_words_kept:\n",
    "        continue\n",
    "    embedding_vector = embeddings_index.get(word)\n",
    "    if embedding_vector is not None:\n",
    "        embedding_matrix[i] = embedding_vector"
   ]
  },
  {
   "cell_type": "markdown",
   "metadata": {},
   "source": [
    "Below we define evlaution metric functions"
   ]
  },
  {
   "cell_type": "code",
   "execution_count": 19,
   "metadata": {},
   "outputs": [],
   "source": [
    "def get_per_label_metrics(real_labels_matrix, predictions_labels_matrix):\n",
    "    for genre in genre_dict.keys():\n",
    "        index = genre_dict[genre]\n",
    "        real_labels_vect = real_labels_matrix[:, index]\n",
    "        prediction_vect = predictions_labels_matrix[:,index]\n",
    "        print(\"Accuruacy for \" + genre + \": \" + str(accuracy_score(real_labels_vect, prediction_vect)))\n",
    "        print(\"Precision for \" + genre + \": \" + str(precision_score(real_labels_vect, prediction_vect)))\n",
    "        print(\"Recall for \" + genre + \": \" + str(recall_score(real_labels_vect, prediction_vect)))\n",
    "        print()"
   ]
  },
  {
   "cell_type": "code",
   "execution_count": 20,
   "metadata": {},
   "outputs": [],
   "source": [
    "#size of intersection of predicted and actual labels divided by size of their union for each datapoint tested on\n",
    "#sum those and then divide by number of datapoints\n",
    "#vectorized for speed\n",
    "def multi_label_accuracy(real_labels_matrix, predictions_labels_matrix):\n",
    "    #binary so set intersection is and operator\n",
    "    intersection = real_labels_matrix & predictions_labels_matrix\n",
    "    #set union for binary is same as or operator\n",
    "    union = real_labels_matrix | predictions_labels_matrix\n",
    "    #sum(array.T) gets number of 1s in row\n",
    "    row_wise_accuracy = sum(intersection.T) / sum(union.T)\n",
    "    return sum(row_wise_accuracy) / real_labels_matrix.shape[0]\n",
    "\n",
    "#size of intersection of predicted and actual labels divided by size of predicted set for each datapoint tested on\n",
    "#sum those and divide by number of datapoints\n",
    "#if no predicted labels, don't count that row towards the precision as that would be undefined\n",
    "def multi_label_precision(real_labels_matrix, predictions_labels_matrix):\n",
    "    #binary so set intersection is and operator\n",
    "    intersection = real_labels_matrix & predictions_labels_matrix\n",
    "    precision_sum = 0\n",
    "    num_rows = 0\n",
    "    for row in range(intersection.shape[0]):\n",
    "        if sum(predictions_labels_matrix[row]) > 0: #if there is at least one prediction for this row\n",
    "            num_rows += 1\n",
    "            precision_sum += sum(intersection[row]) / sum(predictions_labels_matrix[row])\n",
    "    if num_rows == 0:\n",
    "        return 0#no labels predicted at all will give us 0 precision as precision makes no sense here\n",
    "    return precision_sum / num_rows\n",
    "\n",
    "#size of intersection of predicted and actual labels divided by size of real label set for each datapoint tested on\n",
    "#sum those and divide by number of datapoints\n",
    "#all datapoints should have at least 1 real label in this data set\n",
    "#vectorized for speed\n",
    "def multi_label_recall(real_labels_matrix, predictions_labels_matrix):\n",
    "    #binary so set intersection is and operator\n",
    "    intersection = real_labels_matrix & predictions_labels_matrix\n",
    "    #set union for binary is same as or operator\n",
    "    #sum(array.T) gets number of 1s in row\n",
    "    row_wise_recall = sum(intersection.T) / sum(real_labels_matrix.T)\n",
    "    return sum(row_wise_recall) / real_labels_matrix.shape[0]\n",
    "\n",
    "#lower is better. Percent incorrectly chosen labels counting assignment and non-assignment equally\n",
    "def hamming_loss(real_labels_matrix, predictions_labels_matrix):\n",
    "    return (np.logical_xor(real_labels_matrix, predictions_labels_matrix)).sum()/(real_labels_matrix.shape[0] * real_labels_matrix.shape[1])\n",
    "\n",
    "\n",
    "#K is what we imported keras backend as\n",
    "\n",
    "#metric for keras for early stopping\n",
    "#takes in raw labels from kerass (not yet converted to 0 and 1s)\n",
    "#NOT the same as accuracy, this is total labels correctly identified divided by union of total labels\n",
    "#this weights rows with more labels higher, where accruacy does not, but this is still a good metric for early stopping\n",
    "def raw_multi_label_accuracy(y_true, y_pred):\n",
    "    positives = K.greater_equal(y_pred, 0.5)\n",
    "    positives = K.cast(positives, K.floatx())\n",
    "    new_y_pred = positives #+ ((1-positives)*y_pred)\n",
    "    intersection = y_true * new_y_pred\n",
    "    union = 1 -((1-y_true)*(1-new_y_pred))\n",
    "    accuracy = K.sum(intersection) / K.sum(union)\n",
    "    return accuracy\n",
    "    "
   ]
  },
  {
   "cell_type": "code",
   "execution_count": 21,
   "metadata": {},
   "outputs": [],
   "source": [
    "def get_all_metrics(actual_labels, predictions):\n",
    "    print('Getting evaluation metrics for each label:')\n",
    "    get_per_label_metrics(actual_labels, predictions)\n",
    "    print('Getting evaluations for multilabel problem')\n",
    "    print('Multilabel accuracy: ' + str(multi_label_accuracy(actual_labels, predictions)))\n",
    "    print('Multilabel precision: ' + str(multi_label_precision(actual_labels, predictions)))\n",
    "    print('Multilabel recall: ' + str(multi_label_recall(actual_labels, predictions)))\n",
    "    print(\"Percent of correctly decided label decisions: \" + str(100* (1-hamming_loss(actual_labels, predictions))))"
   ]
  },
  {
   "cell_type": "code",
   "execution_count": 22,
   "metadata": {},
   "outputs": [],
   "source": [
    "#for early stopping only after certain number of epochs. wait until delay epochs until early stopping\n",
    "#not same as patience. Want to not even start looking until delay is reached\n",
    "class DelayedEarlyStopping(EarlyStopping):\n",
    "    def __init__(self, monitor, min_delta=0, patience=0, verbose=0, mode='auto', delay = 100):\n",
    "        super(DelayedEarlyStopping, self).__init__(monitor=monitor, min_delta=min_delta, patience=patience,verbose=verbose, mode=mode)\n",
    "        self.delay = delay\n",
    "\n",
    "    def on_epoch_end(self, epoch, logs=None):\n",
    "        if epoch > self.delay:\n",
    "            super().on_epoch_end(epoch, logs)"
   ]
  },
  {
   "cell_type": "code",
   "execution_count": 23,
   "metadata": {},
   "outputs": [],
   "source": [
    "def nn_output_to_predictions(res):\n",
    "    label_predictions = []\n",
    "    for i in range(res.shape[0]):\n",
    "        pred = [0]*len(genre_dict)\n",
    "        for j in range(res.shape[1]):\n",
    "            if res[i][j] >= .5:\n",
    "                pred[j] = 1\n",
    "        label_predictions.append(pred)\n",
    "    return np.array(label_predictions)"
   ]
  },
  {
   "cell_type": "markdown",
   "metadata": {},
   "source": [
    "Convolutional Neural Networks"
   ]
  },
  {
   "cell_type": "code",
   "execution_count": 24,
   "metadata": {
    "scrolled": true
   },
   "outputs": [
    {
     "name": "stdout",
     "output_type": "stream",
     "text": [
      "WARNING:tensorflow:From /home/matt/.local/lib/python3.6/site-packages/tensorflow/python/framework/op_def_library.py:263: colocate_with (from tensorflow.python.framework.ops) is deprecated and will be removed in a future version.\n",
      "Instructions for updating:\n",
      "Colocations handled automatically by placer.\n",
      "WARNING:tensorflow:From /home/matt/.local/lib/python3.6/site-packages/keras/backend/tensorflow_backend.py:3445: calling dropout (from tensorflow.python.ops.nn_ops) with keep_prob is deprecated and will be removed in a future version.\n",
      "Instructions for updating:\n",
      "Please use `rate` instead of `keep_prob`. Rate should be set to `rate = 1 - keep_prob`.\n",
      "WARNING:tensorflow:From /home/matt/.local/lib/python3.6/site-packages/tensorflow/python/ops/math_ops.py:3066: to_int32 (from tensorflow.python.ops.math_ops) is deprecated and will be removed in a future version.\n",
      "Instructions for updating:\n",
      "Use tf.cast instead.\n",
      "WARNING:tensorflow:From /home/matt/.local/lib/python3.6/site-packages/tensorflow/python/ops/math_grad.py:102: div (from tensorflow.python.ops.math_ops) is deprecated and will be removed in a future version.\n",
      "Instructions for updating:\n",
      "Deprecated in favor of operator or tf.math.divide.\n",
      "Train on 1738 samples, validate on 194 samples\n",
      "Epoch 1/1000\n",
      " - 4s - loss: 0.7048 - raw_multi_label_accuracy: 0.1188 - val_loss: 0.6516 - val_raw_multi_label_accuracy: 0.0000e+00\n",
      "Epoch 2/1000\n",
      " - 2s - loss: 0.6562 - raw_multi_label_accuracy: 0.0433 - val_loss: 0.6360 - val_raw_multi_label_accuracy: 0.0000e+00\n",
      "Epoch 3/1000\n",
      " - 2s - loss: 0.6410 - raw_multi_label_accuracy: 0.0352 - val_loss: 0.6254 - val_raw_multi_label_accuracy: 0.0000e+00\n",
      "Epoch 4/1000\n",
      " - 2s - loss: 0.6278 - raw_multi_label_accuracy: 0.0310 - val_loss: 0.6154 - val_raw_multi_label_accuracy: 0.0000e+00\n",
      "Epoch 5/1000\n",
      " - 3s - loss: 0.6178 - raw_multi_label_accuracy: 0.0136 - val_loss: 0.6090 - val_raw_multi_label_accuracy: 0.0000e+00\n",
      "Epoch 6/1000\n",
      " - 3s - loss: 0.6047 - raw_multi_label_accuracy: 0.0279 - val_loss: 0.6034 - val_raw_multi_label_accuracy: 0.0000e+00\n",
      "Epoch 7/1000\n",
      " - 2s - loss: 0.5891 - raw_multi_label_accuracy: 0.0282 - val_loss: 0.5968 - val_raw_multi_label_accuracy: 0.0100\n",
      "Epoch 8/1000\n",
      " - 2s - loss: 0.5501 - raw_multi_label_accuracy: 0.2155 - val_loss: 0.5843 - val_raw_multi_label_accuracy: 0.0755\n",
      "Epoch 9/1000\n",
      " - 2s - loss: 0.4664 - raw_multi_label_accuracy: 0.4552 - val_loss: 0.5685 - val_raw_multi_label_accuracy: 0.1656\n",
      "Epoch 10/1000\n",
      " - 2s - loss: 0.3827 - raw_multi_label_accuracy: 0.5854 - val_loss: 0.5739 - val_raw_multi_label_accuracy: 0.1766\n",
      "Epoch 11/1000\n",
      " - 2s - loss: 0.3193 - raw_multi_label_accuracy: 0.6599 - val_loss: 0.5815 - val_raw_multi_label_accuracy: 0.2339\n",
      "Epoch 12/1000\n",
      " - 2s - loss: 0.2607 - raw_multi_label_accuracy: 0.7587 - val_loss: 0.6023 - val_raw_multi_label_accuracy: 0.2552\n",
      "Epoch 13/1000\n",
      " - 2s - loss: 0.2135 - raw_multi_label_accuracy: 0.8233 - val_loss: 0.6060 - val_raw_multi_label_accuracy: 0.2512\n",
      "Epoch 14/1000\n",
      " - 2s - loss: 0.1786 - raw_multi_label_accuracy: 0.8732 - val_loss: 0.6291 - val_raw_multi_label_accuracy: 0.2631\n",
      "Epoch 15/1000\n",
      " - 2s - loss: 0.1530 - raw_multi_label_accuracy: 0.8991 - val_loss: 0.6586 - val_raw_multi_label_accuracy: 0.2599\n",
      "Epoch 16/1000\n",
      " - 2s - loss: 0.1391 - raw_multi_label_accuracy: 0.9056 - val_loss: 0.6998 - val_raw_multi_label_accuracy: 0.2919\n",
      "Epoch 17/1000\n",
      " - 2s - loss: 0.1276 - raw_multi_label_accuracy: 0.9203 - val_loss: 0.7043 - val_raw_multi_label_accuracy: 0.2783\n",
      "Epoch 18/1000\n",
      " - 2s - loss: 0.1143 - raw_multi_label_accuracy: 0.9384 - val_loss: 0.7133 - val_raw_multi_label_accuracy: 0.2909\n",
      "Epoch 19/1000\n",
      " - 2s - loss: 0.1082 - raw_multi_label_accuracy: 0.9409 - val_loss: 0.7217 - val_raw_multi_label_accuracy: 0.3116\n",
      "Epoch 20/1000\n",
      " - 2s - loss: 0.0972 - raw_multi_label_accuracy: 0.9498 - val_loss: 0.7290 - val_raw_multi_label_accuracy: 0.3043\n",
      "Epoch 21/1000\n",
      " - 2s - loss: 0.0905 - raw_multi_label_accuracy: 0.9593 - val_loss: 0.7366 - val_raw_multi_label_accuracy: 0.3190\n",
      "Epoch 22/1000\n",
      " - 2s - loss: 0.0832 - raw_multi_label_accuracy: 0.9669 - val_loss: 0.7425 - val_raw_multi_label_accuracy: 0.3292\n",
      "Epoch 23/1000\n",
      " - 3s - loss: 0.0790 - raw_multi_label_accuracy: 0.9713 - val_loss: 0.7645 - val_raw_multi_label_accuracy: 0.3139\n",
      "Epoch 24/1000\n",
      " - 2s - loss: 0.0740 - raw_multi_label_accuracy: 0.9721 - val_loss: 0.7600 - val_raw_multi_label_accuracy: 0.3349\n",
      "Epoch 25/1000\n",
      " - 2s - loss: 0.0709 - raw_multi_label_accuracy: 0.9727 - val_loss: 0.7666 - val_raw_multi_label_accuracy: 0.3305\n",
      "Epoch 26/1000\n",
      " - 2s - loss: 0.0663 - raw_multi_label_accuracy: 0.9765 - val_loss: 0.7811 - val_raw_multi_label_accuracy: 0.3473\n",
      "Epoch 27/1000\n",
      " - 2s - loss: 0.0633 - raw_multi_label_accuracy: 0.9772 - val_loss: 0.7899 - val_raw_multi_label_accuracy: 0.3474\n",
      "Epoch 28/1000\n",
      " - 2s - loss: 0.0591 - raw_multi_label_accuracy: 0.9812 - val_loss: 0.8040 - val_raw_multi_label_accuracy: 0.3261\n",
      "Epoch 29/1000\n",
      " - 2s - loss: 0.0585 - raw_multi_label_accuracy: 0.9790 - val_loss: 0.7828 - val_raw_multi_label_accuracy: 0.3293\n",
      "Epoch 30/1000\n",
      " - 2s - loss: 0.0558 - raw_multi_label_accuracy: 0.9845 - val_loss: 0.7918 - val_raw_multi_label_accuracy: 0.3384\n",
      "Epoch 31/1000\n",
      " - 2s - loss: 0.0545 - raw_multi_label_accuracy: 0.9802 - val_loss: 0.8159 - val_raw_multi_label_accuracy: 0.3402\n",
      "Epoch 32/1000\n",
      " - 2s - loss: 0.0506 - raw_multi_label_accuracy: 0.9860 - val_loss: 0.8308 - val_raw_multi_label_accuracy: 0.3374\n"
     ]
    },
    {
     "data": {
      "text/plain": [
       "<keras.callbacks.History at 0x7f706b957a58>"
      ]
     },
     "execution_count": 24,
     "metadata": {},
     "output_type": "execute_result"
    }
   ],
   "source": [
    "model_cnn = Sequential()\n",
    "e = Embedding(num_words_kept, word_vec_len, weights=[embedding_matrix], input_length=max_seq_len, trainable=True)\n",
    "#e = Embedding(num_words_kept, word_vec_len, input_length=max_seq_len, trainable=True)\n",
    "model_cnn.add(e)\n",
    "model_cnn.add(Conv1D(filters=50, kernel_size=2, padding='valid', activation='relu', strides=1))\n",
    "model_cnn.add(GlobalMaxPooling1D())\n",
    "model_cnn.add(Dense(256, activation='relu', kernel_regularizer=l2(0.001)))\n",
    "model_cnn.add(Dropout(.5))\n",
    "model_cnn.add(Dense(len(genre_dict), activation='sigmoid'))\n",
    "model_cnn.compile(loss='binary_crossentropy', optimizer='adam', metrics=[raw_multi_label_accuracy])\n",
    "model_cnn.fit(x_train_seq, y_train, validation_split = .1, callbacks = [DelayedEarlyStopping(monitor = 'val_raw_multi_label_accuracy', patience = 5, delay=25)], epochs=1000, batch_size=100, verbose=2)"
   ]
  },
  {
   "cell_type": "code",
   "execution_count": 25,
   "metadata": {},
   "outputs": [],
   "source": [
    "predictions = nn_output_to_predictions(model_cnn.predict(x_test_seq))"
   ]
  },
  {
   "cell_type": "code",
   "execution_count": 26,
   "metadata": {},
   "outputs": [
    {
     "name": "stdout",
     "output_type": "stream",
     "text": [
      "Getting evaluation metrics for each label:\n",
      "Accuruacy for Action-Adventure: 0.6128364389233955\n",
      "Precision for Action-Adventure: 0.5\n",
      "Recall for Action-Adventure: 0.5240641711229946\n",
      "\n",
      "Accuruacy for Romance: 0.7805383022774327\n",
      "Precision for Romance: 0.5\n",
      "Recall for Romance: 0.25471698113207547\n",
      "\n",
      "Accuruacy for Horror-Thriller: 0.6459627329192547\n",
      "Precision for Horror-Thriller: 0.6235294117647059\n",
      "Recall for Horror-Thriller: 0.2760416666666667\n",
      "\n",
      "Accuruacy for Comedy: 0.6045548654244306\n",
      "Precision for Comedy: 0.5482456140350878\n",
      "Recall for Comedy: 0.5868544600938967\n",
      "\n",
      "Accuruacy for Science Fiction: 0.8819875776397516\n",
      "Precision for Science Fiction: 0.45454545454545453\n",
      "Recall for Science Fiction: 0.08928571428571429\n",
      "\n",
      "Getting evaluations for multilabel problem\n",
      "Multilabel accuracy: 0.3624913733609387\n",
      "Multilabel precision: 0.5383720930232558\n",
      "Multilabel recall: 0.42943409247757075\n",
      "Percent of correctly decided label decisions: 70.5175983436853\n"
     ]
    }
   ],
   "source": [
    "get_all_metrics(y_test, predictions)"
   ]
  },
  {
   "cell_type": "markdown",
   "metadata": {},
   "source": [
    "CNN but with multiple filter sizes so we don't just filter on group of words at a time"
   ]
  },
  {
   "cell_type": "code",
   "execution_count": 27,
   "metadata": {},
   "outputs": [],
   "source": [
    "model_input = Input(shape=(max_seq_len,), dtype='int32')\n",
    "e = Embedding(num_words_kept, word_vec_len, weights=[embedding_matrix], input_length=max_seq_len, trainable=True)(model_input)\n",
    "two_word_filter = Conv1D(filters=100, kernel_size=2, padding='valid', activation='relu', strides=1)(e)\n",
    "two_word_filter = GlobalMaxPooling1D()(two_word_filter)\n",
    "three_word_filter = Conv1D(filters=100, kernel_size=3, padding='valid', activation='relu', strides=1)(e)\n",
    "three_word_filter = GlobalMaxPooling1D()(three_word_filter)\n",
    "four_word_filter = Conv1D(filters=100, kernel_size=4, padding='valid', activation='relu', strides=1)(e)\n",
    "four_word_filter = GlobalMaxPooling1D()(four_word_filter)\n",
    "merged = concatenate([two_word_filter, three_word_filter, four_word_filter], axis=1)\n",
    "\n",
    "merged = Dense(256, activation='relu', kernel_regularizer=l2(0.01))(merged)\n",
    "merged = Dropout(0.5)(merged)\n",
    "merged = Dense(len(genre_dict))(merged)\n",
    "output = Activation('sigmoid')(merged)\n",
    "model = Model(inputs=[model_input], outputs=[output])\n",
    "model.compile(loss='binary_crossentropy', optimizer='adam', metrics=[raw_multi_label_accuracy])"
   ]
  },
  {
   "cell_type": "code",
   "execution_count": 28,
   "metadata": {
    "scrolled": true
   },
   "outputs": [
    {
     "name": "stdout",
     "output_type": "stream",
     "text": [
      "Train on 1738 samples, validate on 194 samples\n",
      "Epoch 1/1000\n",
      " - 9s - loss: 2.9272 - raw_multi_label_accuracy: 0.0839 - val_loss: 2.3268 - val_raw_multi_label_accuracy: 0.0000e+00\n",
      "Epoch 2/1000\n",
      " - 8s - loss: 1.9574 - raw_multi_label_accuracy: 0.0623 - val_loss: 1.5678 - val_raw_multi_label_accuracy: 0.0000e+00\n",
      "Epoch 3/1000\n",
      " - 7s - loss: 1.3484 - raw_multi_label_accuracy: 0.0221 - val_loss: 1.1155 - val_raw_multi_label_accuracy: 0.0000e+00\n",
      "Epoch 4/1000\n",
      " - 7s - loss: 0.9936 - raw_multi_label_accuracy: 0.0407 - val_loss: 0.8653 - val_raw_multi_label_accuracy: 0.0000e+00\n",
      "Epoch 5/1000\n",
      " - 9s - loss: 0.8005 - raw_multi_label_accuracy: 0.0243 - val_loss: 0.7271 - val_raw_multi_label_accuracy: 0.0000e+00\n",
      "Epoch 6/1000\n",
      " - 8s - loss: 0.6962 - raw_multi_label_accuracy: 0.0110 - val_loss: 0.6558 - val_raw_multi_label_accuracy: 0.0000e+00\n",
      "Epoch 7/1000\n",
      " - 8s - loss: 0.6424 - raw_multi_label_accuracy: 0.0202 - val_loss: 0.6209 - val_raw_multi_label_accuracy: 0.0000e+00\n",
      "Epoch 8/1000\n",
      " - 7s - loss: 0.6152 - raw_multi_label_accuracy: 0.0109 - val_loss: 0.6057 - val_raw_multi_label_accuracy: 0.0000e+00\n",
      "Epoch 9/1000\n",
      " - 8s - loss: 0.5939 - raw_multi_label_accuracy: 0.0488 - val_loss: 0.5965 - val_raw_multi_label_accuracy: 0.0000e+00\n",
      "Epoch 10/1000\n",
      " - 8s - loss: 0.5643 - raw_multi_label_accuracy: 0.1646 - val_loss: 0.6038 - val_raw_multi_label_accuracy: 0.0235\n",
      "Epoch 11/1000\n",
      " - 7s - loss: 0.4951 - raw_multi_label_accuracy: 0.4175 - val_loss: 0.5847 - val_raw_multi_label_accuracy: 0.1681\n",
      "Epoch 12/1000\n",
      " - 7s - loss: 0.4356 - raw_multi_label_accuracy: 0.5285 - val_loss: 0.5860 - val_raw_multi_label_accuracy: 0.1516\n",
      "Epoch 13/1000\n",
      " - 7s - loss: 0.4033 - raw_multi_label_accuracy: 0.5414 - val_loss: 0.5748 - val_raw_multi_label_accuracy: 0.1490\n",
      "Epoch 14/1000\n",
      " - 8s - loss: 0.3721 - raw_multi_label_accuracy: 0.5844 - val_loss: 0.5833 - val_raw_multi_label_accuracy: 0.1664\n",
      "Epoch 15/1000\n",
      " - 8s - loss: 0.3310 - raw_multi_label_accuracy: 0.6536 - val_loss: 0.5841 - val_raw_multi_label_accuracy: 0.1961\n",
      "Epoch 16/1000\n",
      " - 9s - loss: 0.2922 - raw_multi_label_accuracy: 0.7386 - val_loss: 0.6046 - val_raw_multi_label_accuracy: 0.2573\n",
      "Epoch 17/1000\n",
      " - 9s - loss: 0.2464 - raw_multi_label_accuracy: 0.7989 - val_loss: 0.6157 - val_raw_multi_label_accuracy: 0.1900\n",
      "Epoch 18/1000\n",
      " - 9s - loss: 0.2192 - raw_multi_label_accuracy: 0.8409 - val_loss: 0.6245 - val_raw_multi_label_accuracy: 0.2183\n",
      "Epoch 19/1000\n",
      " - 10s - loss: 0.1913 - raw_multi_label_accuracy: 0.8660 - val_loss: 0.6260 - val_raw_multi_label_accuracy: 0.2458\n",
      "Epoch 20/1000\n",
      " - 8s - loss: 0.1715 - raw_multi_label_accuracy: 0.8724 - val_loss: 0.6254 - val_raw_multi_label_accuracy: 0.2724\n",
      "Epoch 21/1000\n",
      " - 8s - loss: 0.1608 - raw_multi_label_accuracy: 0.8875 - val_loss: 0.6381 - val_raw_multi_label_accuracy: 0.2578\n",
      "Epoch 22/1000\n",
      " - 8s - loss: 0.1471 - raw_multi_label_accuracy: 0.8948 - val_loss: 0.6456 - val_raw_multi_label_accuracy: 0.2641\n",
      "Epoch 23/1000\n",
      " - 8s - loss: 0.1349 - raw_multi_label_accuracy: 0.9041 - val_loss: 0.6665 - val_raw_multi_label_accuracy: 0.2515\n",
      "Epoch 24/1000\n",
      " - 7s - loss: 0.1311 - raw_multi_label_accuracy: 0.9112 - val_loss: 0.6764 - val_raw_multi_label_accuracy: 0.2907\n",
      "Epoch 25/1000\n",
      " - 8s - loss: 0.1231 - raw_multi_label_accuracy: 0.9164 - val_loss: 0.6980 - val_raw_multi_label_accuracy: 0.2761\n",
      "Epoch 26/1000\n",
      " - 8s - loss: 0.1151 - raw_multi_label_accuracy: 0.9276 - val_loss: 0.7069 - val_raw_multi_label_accuracy: 0.2938\n",
      "Epoch 27/1000\n",
      " - 8s - loss: 0.1052 - raw_multi_label_accuracy: 0.9401 - val_loss: 0.7226 - val_raw_multi_label_accuracy: 0.2817\n",
      "Epoch 28/1000\n",
      " - 9s - loss: 0.1037 - raw_multi_label_accuracy: 0.9367 - val_loss: 0.7236 - val_raw_multi_label_accuracy: 0.2704\n",
      "Epoch 29/1000\n",
      " - 9s - loss: 0.0952 - raw_multi_label_accuracy: 0.9468 - val_loss: 0.6985 - val_raw_multi_label_accuracy: 0.2864\n",
      "Epoch 30/1000\n",
      " - 8s - loss: 0.0911 - raw_multi_label_accuracy: 0.9482 - val_loss: 0.7107 - val_raw_multi_label_accuracy: 0.2916\n",
      "Epoch 31/1000\n",
      " - 8s - loss: 0.0851 - raw_multi_label_accuracy: 0.9528 - val_loss: 0.7178 - val_raw_multi_label_accuracy: 0.2826\n",
      "Epoch 32/1000\n",
      " - 9s - loss: 0.0790 - raw_multi_label_accuracy: 0.9597 - val_loss: 0.7281 - val_raw_multi_label_accuracy: 0.2870\n",
      "Epoch 33/1000\n",
      " - 10s - loss: 0.0778 - raw_multi_label_accuracy: 0.9621 - val_loss: 0.7528 - val_raw_multi_label_accuracy: 0.2749\n",
      "Epoch 34/1000\n",
      " - 9s - loss: 0.0739 - raw_multi_label_accuracy: 0.9659 - val_loss: 0.7451 - val_raw_multi_label_accuracy: 0.3144\n",
      "Epoch 35/1000\n",
      " - 8s - loss: 0.0726 - raw_multi_label_accuracy: 0.9653 - val_loss: 0.7528 - val_raw_multi_label_accuracy: 0.2980\n",
      "Epoch 36/1000\n",
      " - 9s - loss: 0.0718 - raw_multi_label_accuracy: 0.9639 - val_loss: 0.7476 - val_raw_multi_label_accuracy: 0.2993\n",
      "Epoch 37/1000\n",
      " - 9s - loss: 0.0667 - raw_multi_label_accuracy: 0.9637 - val_loss: 0.7692 - val_raw_multi_label_accuracy: 0.2988\n",
      "Epoch 38/1000\n",
      " - 8s - loss: 0.0642 - raw_multi_label_accuracy: 0.9697 - val_loss: 0.7883 - val_raw_multi_label_accuracy: 0.3108\n",
      "Epoch 39/1000\n",
      " - 8s - loss: 0.0645 - raw_multi_label_accuracy: 0.9690 - val_loss: 0.7614 - val_raw_multi_label_accuracy: 0.2983\n"
     ]
    },
    {
     "data": {
      "text/plain": [
       "<keras.callbacks.History at 0x7f706bd165f8>"
      ]
     },
     "execution_count": 28,
     "metadata": {},
     "output_type": "execute_result"
    }
   ],
   "source": [
    "model.fit(x_train_seq, y_train, validation_split = .1, callbacks = [DelayedEarlyStopping(monitor = 'val_raw_multi_label_accuracy', patience = 5, delay=25)], epochs=1000, batch_size=100, verbose=2)"
   ]
  },
  {
   "cell_type": "code",
   "execution_count": 29,
   "metadata": {},
   "outputs": [],
   "source": [
    "predictions = nn_output_to_predictions(model.predict(x_test_seq))"
   ]
  },
  {
   "cell_type": "code",
   "execution_count": 30,
   "metadata": {},
   "outputs": [
    {
     "name": "stdout",
     "output_type": "stream",
     "text": [
      "Getting evaluation metrics for each label:\n",
      "Accuruacy for Action-Adventure: 0.6728778467908902\n",
      "Precision for Action-Adventure: 0.5868263473053892\n",
      "Recall for Action-Adventure: 0.5240641711229946\n",
      "\n",
      "Accuruacy for Romance: 0.7681159420289855\n",
      "Precision for Romance: 0.44642857142857145\n",
      "Recall for Romance: 0.2358490566037736\n",
      "\n",
      "Accuruacy for Horror-Thriller: 0.6480331262939959\n",
      "Precision for Horror-Thriller: 0.5733333333333334\n",
      "Recall for Horror-Thriller: 0.4479166666666667\n",
      "\n",
      "Accuruacy for Comedy: 0.6459627329192547\n",
      "Precision for Comedy: 0.6166666666666667\n",
      "Recall for Comedy: 0.5211267605633803\n",
      "\n",
      "Accuruacy for Science Fiction: 0.8819875776397516\n",
      "Precision for Science Fiction: 0.45454545454545453\n",
      "Recall for Science Fiction: 0.08928571428571429\n",
      "\n",
      "Getting evaluations for multilabel problem\n",
      "Multilabel accuracy: 0.38492063492063494\n",
      "Multilabel precision: 0.5884433962264151\n",
      "Multilabel recall: 0.44634230503795724\n",
      "Percent of correctly decided label decisions: 72.33954451345755\n"
     ]
    }
   ],
   "source": [
    "get_all_metrics(y_test, predictions)"
   ]
  },
  {
   "cell_type": "markdown",
   "metadata": {},
   "source": [
    "Regular Neural Network"
   ]
  },
  {
   "cell_type": "code",
   "execution_count": 31,
   "metadata": {},
   "outputs": [
    {
     "name": "stdout",
     "output_type": "stream",
     "text": [
      "Train on 1738 samples, validate on 194 samples\n",
      "Epoch 1/1000\n",
      " - 5s - loss: 0.6213 - raw_multi_label_accuracy: 0.0536 - val_loss: 0.5935 - val_raw_multi_label_accuracy: 0.0548\n",
      "Epoch 2/1000\n",
      " - 4s - loss: 0.5833 - raw_multi_label_accuracy: 0.0786 - val_loss: 0.5930 - val_raw_multi_label_accuracy: 0.1187\n",
      "Epoch 3/1000\n",
      " - 3s - loss: 0.5584 - raw_multi_label_accuracy: 0.1432 - val_loss: 0.5925 - val_raw_multi_label_accuracy: 0.0971\n",
      "Epoch 4/1000\n",
      " - 3s - loss: 0.5314 - raw_multi_label_accuracy: 0.2156 - val_loss: 0.6051 - val_raw_multi_label_accuracy: 0.1486\n",
      "Epoch 5/1000\n",
      " - 4s - loss: 0.4837 - raw_multi_label_accuracy: 0.3520 - val_loss: 0.6298 - val_raw_multi_label_accuracy: 0.1897\n",
      "Epoch 6/1000\n",
      " - 3s - loss: 0.4025 - raw_multi_label_accuracy: 0.5316 - val_loss: 0.6012 - val_raw_multi_label_accuracy: 0.1688\n",
      "Epoch 7/1000\n",
      " - 3s - loss: 0.2938 - raw_multi_label_accuracy: 0.7166 - val_loss: 0.6224 - val_raw_multi_label_accuracy: 0.1703\n",
      "Epoch 8/1000\n",
      " - 3s - loss: 0.2023 - raw_multi_label_accuracy: 0.8186 - val_loss: 0.6298 - val_raw_multi_label_accuracy: 0.2176\n",
      "Epoch 9/1000\n",
      " - 3s - loss: 0.1377 - raw_multi_label_accuracy: 0.8899 - val_loss: 0.6424 - val_raw_multi_label_accuracy: 0.2248\n",
      "Epoch 10/1000\n",
      " - 3s - loss: 0.0929 - raw_multi_label_accuracy: 0.9420 - val_loss: 0.6819 - val_raw_multi_label_accuracy: 0.2118\n",
      "Epoch 11/1000\n",
      " - 3s - loss: 0.0631 - raw_multi_label_accuracy: 0.9688 - val_loss: 0.6973 - val_raw_multi_label_accuracy: 0.2278\n",
      "Epoch 12/1000\n",
      " - 3s - loss: 0.0464 - raw_multi_label_accuracy: 0.9793 - val_loss: 0.7272 - val_raw_multi_label_accuracy: 0.2334\n",
      "Epoch 13/1000\n",
      " - 3s - loss: 0.0322 - raw_multi_label_accuracy: 0.9893 - val_loss: 0.7559 - val_raw_multi_label_accuracy: 0.2237\n",
      "Epoch 14/1000\n",
      " - 3s - loss: 0.0240 - raw_multi_label_accuracy: 0.9918 - val_loss: 0.7689 - val_raw_multi_label_accuracy: 0.2328\n",
      "Epoch 15/1000\n",
      " - 3s - loss: 0.0180 - raw_multi_label_accuracy: 0.9951 - val_loss: 0.7834 - val_raw_multi_label_accuracy: 0.2273\n",
      "Epoch 16/1000\n",
      " - 3s - loss: 0.0143 - raw_multi_label_accuracy: 0.9970 - val_loss: 0.8304 - val_raw_multi_label_accuracy: 0.2041\n",
      "Epoch 17/1000\n",
      " - 3s - loss: 0.0115 - raw_multi_label_accuracy: 0.9982 - val_loss: 0.8181 - val_raw_multi_label_accuracy: 0.2288\n",
      "Epoch 18/1000\n",
      " - 3s - loss: 0.0095 - raw_multi_label_accuracy: 0.9985 - val_loss: 0.8330 - val_raw_multi_label_accuracy: 0.2330\n",
      "Epoch 19/1000\n",
      " - 3s - loss: 0.0081 - raw_multi_label_accuracy: 0.9989 - val_loss: 0.8596 - val_raw_multi_label_accuracy: 0.2166\n",
      "Epoch 20/1000\n",
      " - 3s - loss: 0.0069 - raw_multi_label_accuracy: 0.9989 - val_loss: 0.8663 - val_raw_multi_label_accuracy: 0.2233\n",
      "Epoch 21/1000\n",
      " - 3s - loss: 0.0061 - raw_multi_label_accuracy: 0.9989 - val_loss: 0.8751 - val_raw_multi_label_accuracy: 0.2122\n",
      "Epoch 22/1000\n",
      " - 3s - loss: 0.0054 - raw_multi_label_accuracy: 0.9992 - val_loss: 0.8866 - val_raw_multi_label_accuracy: 0.2176\n",
      "Epoch 23/1000\n",
      " - 3s - loss: 0.0047 - raw_multi_label_accuracy: 0.9992 - val_loss: 0.9039 - val_raw_multi_label_accuracy: 0.2190\n",
      "Epoch 24/1000\n",
      " - 3s - loss: 0.0043 - raw_multi_label_accuracy: 0.9992 - val_loss: 0.9125 - val_raw_multi_label_accuracy: 0.2251\n",
      "Epoch 25/1000\n",
      " - 3s - loss: 0.0039 - raw_multi_label_accuracy: 0.9993 - val_loss: 0.9144 - val_raw_multi_label_accuracy: 0.2165\n",
      "Epoch 26/1000\n",
      " - 3s - loss: 0.0036 - raw_multi_label_accuracy: 0.9993 - val_loss: 0.9211 - val_raw_multi_label_accuracy: 0.2127\n",
      "Epoch 27/1000\n",
      " - 3s - loss: 0.0032 - raw_multi_label_accuracy: 0.9993 - val_loss: 0.9532 - val_raw_multi_label_accuracy: 0.2030\n",
      "Epoch 28/1000\n",
      " - 3s - loss: 0.0029 - raw_multi_label_accuracy: 0.9992 - val_loss: 0.9377 - val_raw_multi_label_accuracy: 0.2145\n",
      "Epoch 29/1000\n",
      " - 3s - loss: 0.0028 - raw_multi_label_accuracy: 0.9993 - val_loss: 0.9787 - val_raw_multi_label_accuracy: 0.1998\n",
      "Epoch 30/1000\n",
      " - 3s - loss: 0.0026 - raw_multi_label_accuracy: 0.9993 - val_loss: 0.9496 - val_raw_multi_label_accuracy: 0.2151\n",
      "Epoch 31/1000\n",
      " - 3s - loss: 0.0023 - raw_multi_label_accuracy: 0.9993 - val_loss: 0.9767 - val_raw_multi_label_accuracy: 0.2184\n",
      "Epoch 32/1000\n",
      " - 3s - loss: 0.0022 - raw_multi_label_accuracy: 0.9993 - val_loss: 0.9649 - val_raw_multi_label_accuracy: 0.2124\n",
      "Epoch 33/1000\n",
      " - 3s - loss: 0.0021 - raw_multi_label_accuracy: 0.9993 - val_loss: 1.0045 - val_raw_multi_label_accuracy: 0.2070\n",
      "Epoch 34/1000\n",
      " - 3s - loss: 0.0020 - raw_multi_label_accuracy: 0.9993 - val_loss: 0.9953 - val_raw_multi_label_accuracy: 0.2084\n",
      "Epoch 35/1000\n",
      " - 3s - loss: 0.0019 - raw_multi_label_accuracy: 0.9993 - val_loss: 0.9910 - val_raw_multi_label_accuracy: 0.2124\n",
      "Epoch 36/1000\n",
      " - 3s - loss: 0.0018 - raw_multi_label_accuracy: 0.9989 - val_loss: 0.9917 - val_raw_multi_label_accuracy: 0.2168\n"
     ]
    },
    {
     "data": {
      "text/plain": [
       "<keras.callbacks.History at 0x7f705bec5278>"
      ]
     },
     "execution_count": 31,
     "metadata": {},
     "output_type": "execute_result"
    }
   ],
   "source": [
    "normal_nn = Sequential()\n",
    "e = Embedding(num_words_kept, word_vec_len, weights=[embedding_matrix], input_length=max_seq_len, trainable=True)\n",
    "normal_nn.add(e)\n",
    "normal_nn.add(Flatten())\n",
    "normal_nn.add(Dense(256, activation='relu'))\n",
    "normal_nn.add(Dense(len(genre_dict), activation='sigmoid'))\n",
    "normal_nn.compile(loss='binary_crossentropy', optimizer='adam', metrics=[raw_multi_label_accuracy])\n",
    "normal_nn.fit(x_train_seq, y_train, validation_split = .1, callbacks = [DelayedEarlyStopping(monitor = 'val_raw_multi_label_accuracy', patience = 5, delay=25)], epochs=1000, batch_size=100, verbose=2)"
   ]
  },
  {
   "cell_type": "code",
   "execution_count": 32,
   "metadata": {},
   "outputs": [],
   "source": [
    "predictions = nn_output_to_predictions(normal_nn.predict(x_test_seq))"
   ]
  },
  {
   "cell_type": "code",
   "execution_count": 33,
   "metadata": {},
   "outputs": [
    {
     "name": "stdout",
     "output_type": "stream",
     "text": [
      "Getting evaluation metrics for each label:\n",
      "Accuruacy for Action-Adventure: 0.650103519668737\n",
      "Precision for Action-Adventure: 0.5918367346938775\n",
      "Recall for Action-Adventure: 0.31016042780748665\n",
      "\n",
      "Accuruacy for Romance: 0.7784679089026915\n",
      "Precision for Romance: 0.4782608695652174\n",
      "Recall for Romance: 0.10377358490566038\n",
      "\n",
      "Accuruacy for Horror-Thriller: 0.6045548654244306\n",
      "Precision for Horror-Thriller: 0.5048543689320388\n",
      "Recall for Horror-Thriller: 0.2708333333333333\n",
      "\n",
      "Accuruacy for Comedy: 0.5507246376811594\n",
      "Precision for Comedy: 0.4852941176470588\n",
      "Recall for Comedy: 0.30985915492957744\n",
      "\n",
      "Accuruacy for Science Fiction: 0.8861283643892339\n",
      "Precision for Science Fiction: 0.6\n",
      "Recall for Science Fiction: 0.05357142857142857\n",
      "\n",
      "Getting evaluations for multilabel problem\n",
      "Multilabel accuracy: 0.23602484472049687\n",
      "Multilabel precision: 0.5155913978494624\n",
      "Multilabel recall: 0.25879917184265006\n",
      "Percent of correctly decided label decisions: 69.39958592132504\n"
     ]
    }
   ],
   "source": [
    "get_all_metrics(y_test, predictions)"
   ]
  },
  {
   "cell_type": "markdown",
   "metadata": {},
   "source": [
    "LSTM"
   ]
  },
  {
   "cell_type": "code",
   "execution_count": 34,
   "metadata": {},
   "outputs": [
    {
     "name": "stdout",
     "output_type": "stream",
     "text": [
      "Train on 1738 samples, validate on 194 samples\n",
      "Epoch 1/1000\n",
      " - 23s - loss: 0.6325 - raw_multi_label_accuracy: 0.0046 - val_loss: 0.5922 - val_raw_multi_label_accuracy: 0.0000e+00\n",
      "Epoch 2/1000\n",
      " - 16s - loss: 0.5951 - raw_multi_label_accuracy: 0.0021 - val_loss: 0.5837 - val_raw_multi_label_accuracy: 0.0000e+00\n",
      "Epoch 3/1000\n",
      " - 16s - loss: 0.5897 - raw_multi_label_accuracy: 0.0000e+00 - val_loss: 0.5848 - val_raw_multi_label_accuracy: 0.0000e+00\n",
      "Epoch 4/1000\n",
      " - 17s - loss: 0.5884 - raw_multi_label_accuracy: 0.0000e+00 - val_loss: 0.5796 - val_raw_multi_label_accuracy: 0.0000e+00\n",
      "Epoch 5/1000\n",
      " - 16s - loss: 0.5851 - raw_multi_label_accuracy: 0.0000e+00 - val_loss: 0.5848 - val_raw_multi_label_accuracy: 0.0000e+00\n",
      "Epoch 6/1000\n",
      " - 16s - loss: 0.5810 - raw_multi_label_accuracy: 0.0063 - val_loss: 0.5751 - val_raw_multi_label_accuracy: 0.0000e+00\n",
      "Epoch 7/1000\n",
      " - 16s - loss: 0.5703 - raw_multi_label_accuracy: 0.0487 - val_loss: 0.5814 - val_raw_multi_label_accuracy: 0.0770\n",
      "Epoch 8/1000\n",
      " - 16s - loss: 0.5313 - raw_multi_label_accuracy: 0.2251 - val_loss: 0.5452 - val_raw_multi_label_accuracy: 0.2320\n",
      "Epoch 9/1000\n",
      " - 16s - loss: 0.4529 - raw_multi_label_accuracy: 0.4411 - val_loss: 0.4956 - val_raw_multi_label_accuracy: 0.3110\n",
      "Epoch 10/1000\n",
      " - 17s - loss: 0.4028 - raw_multi_label_accuracy: 0.5078 - val_loss: 0.5067 - val_raw_multi_label_accuracy: 0.3197\n",
      "Epoch 11/1000\n",
      " - 17s - loss: 0.3632 - raw_multi_label_accuracy: 0.5653 - val_loss: 0.5063 - val_raw_multi_label_accuracy: 0.3677\n",
      "Epoch 12/1000\n",
      " - 16s - loss: 0.3270 - raw_multi_label_accuracy: 0.6120 - val_loss: 0.5137 - val_raw_multi_label_accuracy: 0.3850\n",
      "Epoch 13/1000\n",
      " - 17s - loss: 0.2916 - raw_multi_label_accuracy: 0.6450 - val_loss: 0.5943 - val_raw_multi_label_accuracy: 0.3748\n",
      "Epoch 14/1000\n",
      " - 16s - loss: 0.2657 - raw_multi_label_accuracy: 0.6734 - val_loss: 0.5649 - val_raw_multi_label_accuracy: 0.3963\n",
      "Epoch 15/1000\n",
      " - 16s - loss: 0.2427 - raw_multi_label_accuracy: 0.7025 - val_loss: 0.6258 - val_raw_multi_label_accuracy: 0.4006\n",
      "Epoch 16/1000\n",
      " - 16s - loss: 0.2163 - raw_multi_label_accuracy: 0.7252 - val_loss: 0.6378 - val_raw_multi_label_accuracy: 0.3977\n",
      "Epoch 17/1000\n",
      " - 16s - loss: 0.2002 - raw_multi_label_accuracy: 0.7420 - val_loss: 0.6665 - val_raw_multi_label_accuracy: 0.3955\n",
      "Epoch 18/1000\n",
      " - 16s - loss: 0.1803 - raw_multi_label_accuracy: 0.7680 - val_loss: 0.7176 - val_raw_multi_label_accuracy: 0.3702\n",
      "Epoch 19/1000\n",
      " - 16s - loss: 0.1508 - raw_multi_label_accuracy: 0.8163 - val_loss: 0.7850 - val_raw_multi_label_accuracy: 0.3869\n",
      "Epoch 20/1000\n",
      " - 16s - loss: 0.1294 - raw_multi_label_accuracy: 0.8400 - val_loss: 0.9292 - val_raw_multi_label_accuracy: 0.3765\n",
      "Epoch 21/1000\n",
      " - 16s - loss: 0.1117 - raw_multi_label_accuracy: 0.8671 - val_loss: 0.9464 - val_raw_multi_label_accuracy: 0.3706\n",
      "Epoch 22/1000\n",
      " - 16s - loss: 0.1010 - raw_multi_label_accuracy: 0.8812 - val_loss: 0.9769 - val_raw_multi_label_accuracy: 0.3721\n",
      "Epoch 23/1000\n",
      " - 17s - loss: 0.0831 - raw_multi_label_accuracy: 0.9042 - val_loss: 1.0620 - val_raw_multi_label_accuracy: 0.3682\n",
      "Epoch 24/1000\n",
      " - 16s - loss: 0.0785 - raw_multi_label_accuracy: 0.9017 - val_loss: 1.1605 - val_raw_multi_label_accuracy: 0.3676\n",
      "Epoch 25/1000\n",
      " - 15s - loss: 0.0648 - raw_multi_label_accuracy: 0.9267 - val_loss: 1.1216 - val_raw_multi_label_accuracy: 0.3842\n",
      "Epoch 26/1000\n",
      " - 15s - loss: 0.0642 - raw_multi_label_accuracy: 0.9240 - val_loss: 1.1396 - val_raw_multi_label_accuracy: 0.3691\n",
      "Epoch 27/1000\n",
      " - 16s - loss: 0.0531 - raw_multi_label_accuracy: 0.9409 - val_loss: 1.1126 - val_raw_multi_label_accuracy: 0.4020\n",
      "Epoch 28/1000\n",
      " - 15s - loss: 0.0519 - raw_multi_label_accuracy: 0.9381 - val_loss: 1.1294 - val_raw_multi_label_accuracy: 0.3938\n",
      "Epoch 29/1000\n",
      " - 15s - loss: 0.0454 - raw_multi_label_accuracy: 0.9502 - val_loss: 1.1972 - val_raw_multi_label_accuracy: 0.3917\n",
      "Epoch 30/1000\n",
      " - 15s - loss: 0.0417 - raw_multi_label_accuracy: 0.9541 - val_loss: 1.2384 - val_raw_multi_label_accuracy: 0.3799\n",
      "Epoch 31/1000\n",
      " - 18s - loss: 0.0363 - raw_multi_label_accuracy: 0.9618 - val_loss: 1.3364 - val_raw_multi_label_accuracy: 0.3950\n",
      "Epoch 32/1000\n",
      " - 18s - loss: 0.0333 - raw_multi_label_accuracy: 0.9629 - val_loss: 1.3084 - val_raw_multi_label_accuracy: 0.3888\n"
     ]
    },
    {
     "data": {
      "text/plain": [
       "<keras.callbacks.History at 0x7f70595ba710>"
      ]
     },
     "execution_count": 34,
     "metadata": {},
     "output_type": "execute_result"
    }
   ],
   "source": [
    "lstm_model = Sequential()\n",
    "e = Embedding(num_words_kept, word_vec_len, weights=[embedding_matrix], input_length=max_seq_len, trainable=True)\n",
    "lstm_model.add(e)\n",
    "lstm_model.add(LSTM(100, dropout=0.25, recurrent_dropout=0.25))\n",
    "lstm_model.add(Dense(256, activation='relu'))\n",
    "lstm_model.add(Dense(len(genre_dict), activation='sigmoid'))\n",
    "lstm_model.compile(loss='binary_crossentropy', optimizer='adam', metrics=[raw_multi_label_accuracy])\n",
    "lstm_model.fit(x_train_seq, y_train, validation_split = .1, callbacks = [DelayedEarlyStopping(monitor = 'val_raw_multi_label_accuracy', patience = 5, delay=25)], epochs=1000, batch_size=100, verbose=2)"
   ]
  },
  {
   "cell_type": "code",
   "execution_count": 35,
   "metadata": {},
   "outputs": [],
   "source": [
    "predictions = nn_output_to_predictions(lstm_model.predict(x_test_seq))"
   ]
  },
  {
   "cell_type": "code",
   "execution_count": 36,
   "metadata": {},
   "outputs": [
    {
     "name": "stdout",
     "output_type": "stream",
     "text": [
      "Getting evaluation metrics for each label:\n",
      "Accuruacy for Action-Adventure: 0.629399585921325\n",
      "Precision for Action-Adventure: 0.5169491525423728\n",
      "Recall for Action-Adventure: 0.6524064171122995\n",
      "\n",
      "Accuruacy for Romance: 0.772256728778468\n",
      "Precision for Romance: 0.4722222222222222\n",
      "Recall for Romance: 0.32075471698113206\n",
      "\n",
      "Accuruacy for Horror-Thriller: 0.6687370600414079\n",
      "Precision for Horror-Thriller: 0.5776699029126213\n",
      "Recall for Horror-Thriller: 0.6197916666666666\n",
      "\n",
      "Accuruacy for Comedy: 0.6935817805383023\n",
      "Precision for Comedy: 0.620817843866171\n",
      "Recall for Comedy: 0.784037558685446\n",
      "\n",
      "Accuruacy for Science Fiction: 0.8881987577639752\n",
      "Precision for Science Fiction: 0.5714285714285714\n",
      "Recall for Science Fiction: 0.14285714285714285\n",
      "\n",
      "Getting evaluations for multilabel problem\n",
      "Multilabel accuracy: 0.4860248447204972\n",
      "Multilabel precision: 0.5938578329882681\n",
      "Multilabel recall: 0.6306073153899238\n",
      "Percent of correctly decided label decisions: 73.04347826086956\n"
     ]
    }
   ],
   "source": [
    "get_all_metrics(y_test, predictions)"
   ]
  },
  {
   "cell_type": "markdown",
   "metadata": {},
   "source": [
    "simple rnn"
   ]
  },
  {
   "cell_type": "code",
   "execution_count": 37,
   "metadata": {},
   "outputs": [
    {
     "name": "stdout",
     "output_type": "stream",
     "text": [
      "Train on 1738 samples, validate on 194 samples\n",
      "Epoch 1/1000\n",
      " - 6s - loss: 0.6476 - raw_multi_label_accuracy: 0.0459 - val_loss: 0.6017 - val_raw_multi_label_accuracy: 0.0000e+00\n",
      "Epoch 2/1000\n",
      " - 3s - loss: 0.5958 - raw_multi_label_accuracy: 0.0055 - val_loss: 0.5884 - val_raw_multi_label_accuracy: 0.0000e+00\n",
      "Epoch 3/1000\n",
      " - 3s - loss: 0.5814 - raw_multi_label_accuracy: 0.0000e+00 - val_loss: 0.5835 - val_raw_multi_label_accuracy: 0.0000e+00\n",
      "Epoch 4/1000\n",
      " - 3s - loss: 0.5611 - raw_multi_label_accuracy: 0.0000e+00 - val_loss: 0.5791 - val_raw_multi_label_accuracy: 0.0000e+00\n",
      "Epoch 5/1000\n",
      " - 4s - loss: 0.5326 - raw_multi_label_accuracy: 0.0069 - val_loss: 0.5779 - val_raw_multi_label_accuracy: 0.0069\n",
      "Epoch 6/1000\n",
      " - 3s - loss: 0.4832 - raw_multi_label_accuracy: 0.2154 - val_loss: 0.5644 - val_raw_multi_label_accuracy: 0.0741\n",
      "Epoch 7/1000\n",
      " - 3s - loss: 0.3952 - raw_multi_label_accuracy: 0.5003 - val_loss: 0.6032 - val_raw_multi_label_accuracy: 0.1714\n",
      "Epoch 8/1000\n",
      " - 3s - loss: 0.2917 - raw_multi_label_accuracy: 0.6414 - val_loss: 0.6639 - val_raw_multi_label_accuracy: 0.1510\n",
      "Epoch 9/1000\n",
      " - 3s - loss: 0.2079 - raw_multi_label_accuracy: 0.7633 - val_loss: 0.6828 - val_raw_multi_label_accuracy: 0.2224\n",
      "Epoch 10/1000\n",
      " - 2s - loss: 0.1385 - raw_multi_label_accuracy: 0.8704 - val_loss: 0.7860 - val_raw_multi_label_accuracy: 0.2450\n",
      "Epoch 11/1000\n",
      " - 2s - loss: 0.0879 - raw_multi_label_accuracy: 0.9161 - val_loss: 0.9215 - val_raw_multi_label_accuracy: 0.2335\n",
      "Epoch 12/1000\n",
      " - 2s - loss: 0.0601 - raw_multi_label_accuracy: 0.9471 - val_loss: 1.0228 - val_raw_multi_label_accuracy: 0.2276\n",
      "Epoch 13/1000\n",
      " - 3s - loss: 0.0416 - raw_multi_label_accuracy: 0.9589 - val_loss: 1.0797 - val_raw_multi_label_accuracy: 0.2405\n",
      "Epoch 14/1000\n",
      " - 2s - loss: 0.0313 - raw_multi_label_accuracy: 0.9746 - val_loss: 1.1466 - val_raw_multi_label_accuracy: 0.2369\n",
      "Epoch 15/1000\n",
      " - 3s - loss: 0.0231 - raw_multi_label_accuracy: 0.9788 - val_loss: 1.1987 - val_raw_multi_label_accuracy: 0.2358\n",
      "Epoch 16/1000\n",
      " - 3s - loss: 0.0171 - raw_multi_label_accuracy: 0.9883 - val_loss: 1.2569 - val_raw_multi_label_accuracy: 0.2245\n",
      "Epoch 17/1000\n",
      " - 3s - loss: 0.0127 - raw_multi_label_accuracy: 0.9928 - val_loss: 1.2793 - val_raw_multi_label_accuracy: 0.2206\n",
      "Epoch 18/1000\n",
      " - 3s - loss: 0.0113 - raw_multi_label_accuracy: 0.9953 - val_loss: 1.4039 - val_raw_multi_label_accuracy: 0.2091\n",
      "Epoch 19/1000\n",
      " - 3s - loss: 0.0074 - raw_multi_label_accuracy: 0.9979 - val_loss: 1.3668 - val_raw_multi_label_accuracy: 0.2424\n",
      "Epoch 20/1000\n",
      " - 3s - loss: 0.0056 - raw_multi_label_accuracy: 0.9985 - val_loss: 1.5161 - val_raw_multi_label_accuracy: 0.2207\n",
      "Epoch 21/1000\n",
      " - 3s - loss: 0.0045 - raw_multi_label_accuracy: 0.9988 - val_loss: 1.5237 - val_raw_multi_label_accuracy: 0.2019\n",
      "Epoch 22/1000\n",
      " - 3s - loss: 0.0033 - raw_multi_label_accuracy: 0.9993 - val_loss: 1.4412 - val_raw_multi_label_accuracy: 0.2289\n",
      "Epoch 23/1000\n",
      " - 3s - loss: 0.0029 - raw_multi_label_accuracy: 0.9989 - val_loss: 1.6731 - val_raw_multi_label_accuracy: 0.2454\n",
      "Epoch 24/1000\n",
      " - 3s - loss: 0.0131 - raw_multi_label_accuracy: 0.9890 - val_loss: 1.3777 - val_raw_multi_label_accuracy: 0.2300\n",
      "Epoch 25/1000\n",
      " - 3s - loss: 0.0084 - raw_multi_label_accuracy: 0.9967 - val_loss: 1.4256 - val_raw_multi_label_accuracy: 0.2338\n",
      "Epoch 26/1000\n",
      " - 3s - loss: 0.0039 - raw_multi_label_accuracy: 0.9984 - val_loss: 1.5523 - val_raw_multi_label_accuracy: 0.2397\n",
      "Epoch 27/1000\n",
      " - 3s - loss: 0.0023 - raw_multi_label_accuracy: 0.9993 - val_loss: 1.5170 - val_raw_multi_label_accuracy: 0.2145\n",
      "Epoch 28/1000\n",
      " - 3s - loss: 0.0017 - raw_multi_label_accuracy: 0.9993 - val_loss: 1.5800 - val_raw_multi_label_accuracy: 0.2285\n",
      "Epoch 29/1000\n",
      " - 3s - loss: 0.0015 - raw_multi_label_accuracy: 0.9992 - val_loss: 1.6709 - val_raw_multi_label_accuracy: 0.2242\n",
      "Epoch 30/1000\n",
      " - 2s - loss: 0.0012 - raw_multi_label_accuracy: 0.9993 - val_loss: 1.6144 - val_raw_multi_label_accuracy: 0.2204\n",
      "Epoch 31/1000\n",
      " - 2s - loss: 0.0011 - raw_multi_label_accuracy: 0.9992 - val_loss: 1.6141 - val_raw_multi_label_accuracy: 0.2266\n",
      "Epoch 32/1000\n",
      " - 3s - loss: 0.0010 - raw_multi_label_accuracy: 0.9989 - val_loss: 1.6431 - val_raw_multi_label_accuracy: 0.2232\n",
      "Epoch 33/1000\n",
      " - 2s - loss: 9.6094e-04 - raw_multi_label_accuracy: 0.9992 - val_loss: 1.6937 - val_raw_multi_label_accuracy: 0.2173\n"
     ]
    },
    {
     "data": {
      "text/plain": [
       "<keras.callbacks.History at 0x7f7058396ac8>"
      ]
     },
     "execution_count": 37,
     "metadata": {},
     "output_type": "execute_result"
    }
   ],
   "source": [
    "rnn = Sequential()\n",
    "e = Embedding(num_words_kept, word_vec_len, weights=[embedding_matrix], input_length=max_seq_len, trainable=True)\n",
    "rnn.add(e)\n",
    "rnn.add(SimpleRNN(32, activation = 'relu'))\n",
    "rnn.add(Dense(256, activation='relu'))\n",
    "rnn.add(Dense(len(genre_dict), activation='sigmoid'))\n",
    "rnn.compile(loss='binary_crossentropy', optimizer='adam', metrics=[raw_multi_label_accuracy])\n",
    "rnn.fit(x_train_seq, y_train, validation_split = .1, callbacks = [DelayedEarlyStopping(monitor = 'val_raw_multi_label_accuracy', patience = 5, delay=25)], epochs=1000, batch_size=100, verbose=2)"
   ]
  },
  {
   "cell_type": "code",
   "execution_count": 38,
   "metadata": {},
   "outputs": [],
   "source": [
    "predictions = nn_output_to_predictions(rnn.predict(x_test_seq))"
   ]
  },
  {
   "cell_type": "code",
   "execution_count": 39,
   "metadata": {},
   "outputs": [
    {
     "name": "stdout",
     "output_type": "stream",
     "text": [
      "Getting evaluation metrics for each label:\n",
      "Accuruacy for Action-Adventure: 0.5962732919254659\n",
      "Precision for Action-Adventure: 0.4759036144578313\n",
      "Recall for Action-Adventure: 0.42245989304812837\n",
      "\n",
      "Accuruacy for Romance: 0.7743271221532091\n",
      "Precision for Romance: 0.4482758620689655\n",
      "Recall for Romance: 0.12264150943396226\n",
      "\n",
      "Accuruacy for Horror-Thriller: 0.5507246376811594\n",
      "Precision for Horror-Thriller: 0.41007194244604317\n",
      "Recall for Horror-Thriller: 0.296875\n",
      "\n",
      "Accuruacy for Comedy: 0.494824016563147\n",
      "Precision for Comedy: 0.41968911917098445\n",
      "Recall for Comedy: 0.38028169014084506\n",
      "\n",
      "Accuruacy for Science Fiction: 0.8861283643892339\n",
      "Precision for Science Fiction: 0.5714285714285714\n",
      "Recall for Science Fiction: 0.07142857142857142\n",
      "\n",
      "Getting evaluations for multilabel problem\n",
      "Multilabel accuracy: 0.2550724637681158\n",
      "Multilabel precision: 0.4351145038167939\n",
      "Multilabel recall: 0.31159420289855067\n",
      "Percent of correctly decided label decisions: 66.0455486542443\n"
     ]
    }
   ],
   "source": [
    "get_all_metrics(y_test, predictions)"
   ]
  }
 ],
 "metadata": {
  "kernelspec": {
   "display_name": "Python 3",
   "language": "python",
   "name": "python3"
  },
  "language_info": {
   "codemirror_mode": {
    "name": "ipython",
    "version": 3
   },
   "file_extension": ".py",
   "mimetype": "text/x-python",
   "name": "python",
   "nbconvert_exporter": "python",
   "pygments_lexer": "ipython3",
   "version": "3.6.7"
  }
 },
 "nbformat": 4,
 "nbformat_minor": 2
}
