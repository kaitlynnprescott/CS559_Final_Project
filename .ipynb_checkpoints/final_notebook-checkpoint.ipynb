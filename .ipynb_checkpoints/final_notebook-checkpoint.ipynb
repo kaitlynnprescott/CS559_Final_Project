{
 "cells": [
  {
   "cell_type": "code",
   "execution_count": 17,
   "metadata": {},
   "outputs": [],
   "source": [
    "import numpy as np\n",
    "import pandas as pd\n",
    "#for reading in data properly\n",
    "import ast\n",
    "import json\n",
    "\n",
    "import gensim\n",
    "from gensim.models import Doc2Vec\n",
    "from gensim.models.doc2vec import TaggedDocument\n",
    "from sklearn.linear_model import LogisticRegression\n",
    "from sklearn.model_selection import train_test_split\n",
    "from sklearn import utils\n",
    "\n",
    "import re\n",
    "\n",
    "import nltk\n",
    "from nltk.corpus import stopwords\n",
    "from nltk.stem import PorterStemmer\n",
    "from nltk.tokenize import word_tokenize"
   ]
  },
  {
   "cell_type": "code",
   "execution_count": 18,
   "metadata": {},
   "outputs": [],
   "source": [
    "all_data = pd.read_csv('train.csv')\n",
    "all_data = all_data.dropna(subset=['overview', 'genres']) #drop cols without overview or genre (data we use or labels)\n",
    "genre_set = {'Comedy'}"
   ]
  },
  {
   "cell_type": "code",
   "execution_count": 19,
   "metadata": {},
   "outputs": [],
   "source": [
    "def text_to_list(x):\n",
    "    if pd.isna(x):\n",
    "        return ''\n",
    "    else:\n",
    "        return ast.literal_eval(x)\n",
    "\n",
    "def parse_json(x):\n",
    "    try:\n",
    "        return json.loads(x.replace(\"'\", '\"'))[0]['name']\n",
    "    except:\n",
    "        return ''\n",
    "    \n",
    "def parse_all_genres_json(x):\n",
    "    try:\n",
    "        json_genres = json.loads(x.replace(\"'\", '\"'))\n",
    "        numElems = len(json_genres)\n",
    "        for i in range(numElems):\n",
    "            genre_set.add(json_genres[i]['name'])\n",
    "    except:\n",
    "        return ''\n",
    "    \n",
    "def parse_genres_json(x):\n",
    "    try:\n",
    "        json_genres = json.loads(x.replace(\"'\", '\"'))\n",
    "        numElems = len(json_genres)\n",
    "        ret = [0]*len(genre_dict) #20 0s\n",
    "        for i in range(numElems):\n",
    "            ret[genre_dict[(json_genres[i]['name'])]] = 1\n",
    "        return ret\n",
    "    except:\n",
    "        return ''\n",
    "    \n",
    "\n",
    "def get_labels_as_strs(x):\n",
    "    try:\n",
    "        json_genres = json.loads(x.replace(\"'\", '\"'))\n",
    "        numElems = len(json_genres)\n",
    "        ret = []#20 0s\n",
    "        for i in range(numElems):\n",
    "            ret.append(json_genres[i]['name'])\n",
    "        return ret\n",
    "    except:\n",
    "        return ''"
   ]
  },
  {
   "cell_type": "code",
   "execution_count": 20,
   "metadata": {},
   "outputs": [],
   "source": [
    " def getAllGenres():\n",
    "    full_data = pd.read_csv('train.csv')\n",
    "\n",
    "    y = full_data['genres']\n",
    "    y.apply(parse_all_genres_json)"
   ]
  },
  {
   "cell_type": "code",
   "execution_count": 21,
   "metadata": {},
   "outputs": [],
   "source": [
    "getAllGenres()"
   ]
  },
  {
   "cell_type": "code",
   "execution_count": 22,
   "metadata": {},
   "outputs": [
    {
     "data": {
      "text/plain": [
       "20"
      ]
     },
     "execution_count": 22,
     "metadata": {},
     "output_type": "execute_result"
    }
   ],
   "source": [
    "len(genre_set)"
   ]
  },
  {
   "cell_type": "code",
   "execution_count": 23,
   "metadata": {},
   "outputs": [
    {
     "data": {
      "text/plain": [
       "{'Action',\n",
       " 'Adventure',\n",
       " 'Animation',\n",
       " 'Comedy',\n",
       " 'Crime',\n",
       " 'Documentary',\n",
       " 'Drama',\n",
       " 'Family',\n",
       " 'Fantasy',\n",
       " 'Foreign',\n",
       " 'History',\n",
       " 'Horror',\n",
       " 'Music',\n",
       " 'Mystery',\n",
       " 'Romance',\n",
       " 'Science Fiction',\n",
       " 'TV Movie',\n",
       " 'Thriller',\n",
       " 'War',\n",
       " 'Western'}"
      ]
     },
     "execution_count": 23,
     "metadata": {},
     "output_type": "execute_result"
    }
   ],
   "source": [
    "genre_set"
   ]
  },
  {
   "cell_type": "code",
   "execution_count": 24,
   "metadata": {},
   "outputs": [],
   "source": [
    "#get set to dictionary for indexing of target vectors\n",
    "genre_dict = {}\n",
    "index = 0\n",
    "for genre in genre_set:\n",
    "    genre_dict[genre] = index\n",
    "    index += 1"
   ]
  },
  {
   "cell_type": "code",
   "execution_count": 25,
   "metadata": {},
   "outputs": [
    {
     "data": {
      "text/plain": [
       "{'Animation': 0,\n",
       " 'Documentary': 1,\n",
       " 'Music': 2,\n",
       " 'History': 3,\n",
       " 'Adventure': 4,\n",
       " 'Crime': 5,\n",
       " 'Foreign': 6,\n",
       " 'Science Fiction': 7,\n",
       " 'Western': 8,\n",
       " 'Fantasy': 9,\n",
       " 'Drama': 10,\n",
       " 'Horror': 11,\n",
       " 'Romance': 12,\n",
       " 'Thriller': 13,\n",
       " 'War': 14,\n",
       " 'Comedy': 15,\n",
       " 'Family': 16,\n",
       " 'TV Movie': 17,\n",
       " 'Action': 18,\n",
       " 'Mystery': 19}"
      ]
     },
     "execution_count": 25,
     "metadata": {},
     "output_type": "execute_result"
    }
   ],
   "source": [
    "genre_dict"
   ]
  },
  {
   "cell_type": "code",
   "execution_count": 26,
   "metadata": {},
   "outputs": [],
   "source": [
    "def getGenresVects():\n",
    "    y = all_data['genres']\n",
    "    ret = y.apply(parse_genres_json)\n",
    "    all_data['genres_vect'] = ret\n",
    "    label_strs = y.apply(get_labels_as_strs)\n",
    "    all_data['genres_labels'] = label_strs\n",
    "    return ret"
   ]
  },
  {
   "cell_type": "code",
   "execution_count": 27,
   "metadata": {},
   "outputs": [
    {
     "data": {
      "text/plain": [
       "0       [0, 0, 0, 0, 0, 0, 0, 0, 0, 0, 0, 0, 0, 0, 0, ...\n",
       "1       [0, 0, 0, 0, 0, 0, 0, 0, 0, 0, 1, 0, 1, 0, 0, ...\n",
       "2       [0, 0, 0, 0, 0, 0, 0, 0, 0, 0, 1, 0, 0, 0, 0, ...\n",
       "3       [0, 0, 0, 0, 0, 0, 0, 0, 0, 0, 1, 0, 0, 1, 0, ...\n",
       "4       [0, 0, 0, 0, 0, 0, 0, 0, 0, 0, 0, 0, 0, 1, 0, ...\n",
       "5       [1, 0, 0, 0, 1, 0, 0, 0, 0, 0, 0, 0, 0, 0, 0, ...\n",
       "6       [0, 0, 0, 0, 0, 0, 0, 0, 0, 0, 0, 1, 0, 1, 0, ...\n",
       "7       [0, 1, 0, 0, 0, 0, 0, 0, 0, 0, 0, 0, 0, 0, 0, ...\n",
       "8       [0, 0, 1, 0, 1, 0, 0, 0, 0, 0, 0, 0, 0, 0, 0, ...\n",
       "9       [0, 0, 1, 0, 0, 0, 0, 0, 0, 0, 0, 0, 0, 0, 0, ...\n",
       "10      [0, 0, 0, 0, 0, 0, 0, 0, 0, 0, 1, 0, 0, 0, 0, ...\n",
       "11      [0, 0, 0, 0, 0, 0, 0, 0, 0, 0, 0, 0, 0, 0, 0, ...\n",
       "12      [0, 0, 0, 0, 0, 0, 0, 0, 0, 0, 1, 0, 0, 0, 0, ...\n",
       "13      [0, 0, 0, 0, 0, 1, 0, 0, 0, 0, 0, 0, 0, 0, 0, ...\n",
       "14      [0, 0, 0, 0, 0, 0, 0, 1, 0, 0, 0, 0, 0, 1, 0, ...\n",
       "15      [0, 0, 0, 0, 0, 1, 0, 0, 0, 0, 1, 0, 0, 0, 0, ...\n",
       "16      [0, 0, 0, 0, 0, 0, 0, 0, 0, 0, 0, 1, 0, 1, 0, ...\n",
       "17      [0, 0, 0, 0, 0, 0, 0, 0, 0, 0, 1, 0, 1, 0, 0, ...\n",
       "18      [0, 0, 0, 0, 0, 0, 0, 0, 0, 0, 0, 0, 1, 0, 0, ...\n",
       "19      [0, 0, 0, 0, 0, 1, 0, 0, 0, 0, 0, 0, 0, 1, 0, ...\n",
       "20      [0, 0, 0, 0, 1, 0, 0, 1, 0, 0, 0, 0, 0, 0, 0, ...\n",
       "21      [0, 0, 0, 0, 0, 0, 0, 0, 0, 0, 0, 1, 0, 1, 0, ...\n",
       "22      [0, 0, 0, 0, 0, 0, 0, 0, 0, 0, 0, 1, 0, 1, 0, ...\n",
       "23      [0, 0, 0, 0, 0, 0, 1, 0, 0, 0, 0, 0, 0, 1, 0, ...\n",
       "24      [0, 0, 0, 0, 0, 0, 0, 0, 0, 0, 0, 1, 0, 0, 0, ...\n",
       "25      [0, 0, 0, 0, 0, 0, 0, 0, 0, 0, 0, 1, 0, 1, 0, ...\n",
       "26      [0, 0, 0, 0, 0, 1, 0, 0, 0, 0, 1, 0, 0, 1, 0, ...\n",
       "27      [0, 0, 0, 0, 0, 0, 0, 0, 0, 0, 1, 0, 1, 0, 0, ...\n",
       "28      [1, 0, 0, 0, 0, 0, 0, 0, 0, 0, 0, 0, 0, 0, 0, ...\n",
       "29      [0, 0, 0, 0, 1, 1, 0, 0, 0, 0, 0, 0, 0, 1, 0, ...\n",
       "                              ...                        \n",
       "2970    [0, 0, 1, 0, 0, 0, 0, 0, 0, 0, 1, 0, 1, 1, 0, ...\n",
       "2971    [0, 0, 0, 0, 0, 0, 0, 1, 0, 1, 0, 0, 1, 0, 0, ...\n",
       "2972    [0, 0, 0, 0, 0, 0, 0, 0, 0, 0, 0, 0, 0, 1, 0, ...\n",
       "2973    [0, 0, 0, 0, 0, 0, 0, 1, 0, 1, 0, 0, 0, 0, 0, ...\n",
       "2974    [0, 0, 0, 0, 0, 0, 0, 0, 0, 1, 0, 1, 0, 1, 0, ...\n",
       "2975    [0, 0, 0, 0, 1, 0, 0, 1, 0, 1, 0, 0, 0, 0, 0, ...\n",
       "2976    [0, 0, 0, 0, 0, 1, 0, 0, 0, 0, 0, 0, 0, 0, 0, ...\n",
       "2977    [0, 0, 0, 0, 0, 0, 0, 0, 0, 0, 1, 0, 1, 1, 0, ...\n",
       "2978    [0, 0, 1, 0, 0, 0, 0, 0, 0, 0, 1, 0, 0, 0, 0, ...\n",
       "2979    [0, 0, 0, 0, 0, 0, 0, 0, 0, 0, 0, 0, 1, 0, 0, ...\n",
       "2980    [0, 0, 0, 0, 0, 1, 0, 0, 0, 0, 0, 0, 0, 0, 0, ...\n",
       "2981    [0, 0, 0, 0, 0, 0, 0, 0, 0, 0, 1, 0, 0, 0, 0, ...\n",
       "2982    [0, 0, 0, 0, 0, 0, 0, 0, 0, 0, 1, 0, 0, 0, 0, ...\n",
       "2983    [0, 0, 0, 0, 0, 0, 0, 0, 0, 0, 1, 0, 1, 0, 0, ...\n",
       "2984    [0, 0, 0, 0, 0, 1, 0, 0, 0, 0, 0, 0, 0, 1, 0, ...\n",
       "2985    [0, 0, 0, 0, 0, 1, 0, 0, 0, 0, 1, 0, 0, 1, 0, ...\n",
       "2986    [0, 0, 0, 0, 0, 0, 0, 0, 0, 0, 1, 0, 0, 1, 0, ...\n",
       "2987    [0, 0, 0, 0, 0, 0, 0, 1, 0, 0, 0, 1, 0, 0, 0, ...\n",
       "2988    [0, 0, 0, 0, 0, 0, 0, 0, 0, 0, 1, 0, 0, 0, 0, ...\n",
       "2989    [1, 0, 0, 0, 0, 0, 0, 0, 0, 0, 0, 0, 0, 0, 0, ...\n",
       "2990    [0, 0, 0, 0, 0, 0, 0, 0, 0, 0, 0, 0, 0, 0, 0, ...\n",
       "2991    [0, 0, 1, 0, 0, 0, 0, 0, 0, 0, 1, 0, 1, 0, 0, ...\n",
       "2992    [0, 0, 0, 0, 1, 0, 0, 0, 0, 1, 1, 0, 0, 0, 0, ...\n",
       "2993    [0, 0, 0, 0, 0, 0, 0, 0, 0, 0, 1, 0, 0, 0, 0, ...\n",
       "2994    [0, 0, 0, 0, 0, 0, 0, 0, 0, 0, 1, 0, 0, 0, 0, ...\n",
       "2995    [0, 0, 0, 0, 0, 0, 0, 0, 0, 0, 0, 0, 1, 0, 0, ...\n",
       "2996    [0, 0, 1, 0, 0, 0, 0, 0, 0, 0, 1, 0, 0, 0, 0, ...\n",
       "2997    [0, 0, 0, 0, 0, 1, 0, 0, 0, 0, 0, 0, 0, 1, 0, ...\n",
       "2998    [0, 0, 0, 0, 0, 0, 0, 0, 0, 0, 0, 0, 1, 0, 0, ...\n",
       "2999    [0, 0, 0, 0, 0, 0, 0, 0, 0, 0, 0, 0, 0, 1, 0, ...\n",
       "Name: genres, Length: 2985, dtype: object"
      ]
     },
     "execution_count": 27,
     "metadata": {},
     "output_type": "execute_result"
    }
   ],
   "source": [
    "getGenresVects()"
   ]
  },
  {
   "cell_type": "code",
   "execution_count": 28,
   "metadata": {},
   "outputs": [
    {
     "data": {
      "text/plain": [
       "0       When Lou, who has become the \"father of the In...\n",
       "1       Mia Thermopolis is now a college graduate and ...\n",
       "2       Under the direction of a ruthless instructor, ...\n",
       "3       Vidya Bagchi (Vidya Balan) arrives in Kolkata ...\n",
       "4       Marine Boy is the story of a former national s...\n",
       "5       Pinocchio and his friends, a glow worm and a m...\n",
       "6       A young girl buys an antique box at a yard sal...\n",
       "7       A chronicle which provides a rare window into ...\n",
       "8       After telling the story of Flint's last journe...\n",
       "9       In \"A Mighty Wind\", director Christopher Guest...\n",
       "10      When world heavyweight boxing champion, Apollo...\n",
       "11      The members of the Lambda Lambda Lambda frater...\n",
       "12      Lester Burnham, a depressed suburban father in...\n",
       "13      Disenchanted with the movie industry, Chili Pa...\n",
       "14      John Anderton is a top 'Precrime' cop in the l...\n",
       "15      Novica is a mathematics champion in a Belgrade...\n",
       "16      After attending the funeral of her grandmother...\n",
       "17      In 1857, at the height of his fame and fortune...\n",
       "18      While working a job at an exclusive ski resort...\n",
       "19      Professional driver Frank Martin is living in ...\n",
       "20      The prospects for continuing life on Earth in ...\n",
       "21      An idyllic summer turns into a nightmare of un...\n",
       "22      When a group of misfits is hired by an unknown...\n",
       "23      Kaitlyn, an ER nurse who is tending to a young...\n",
       "24      A genetic engineering experiment gone horribly...\n",
       "25      In 1957, Evan Rendell flees after his father i...\n",
       "26      An employee of a corporation with a lucrative ...\n",
       "27      Wallace, a medical school dropout, has been re...\n",
       "28      The Autobots must stop a colossal planet-consu...\n",
       "29      A rush-hour fender-bender on New York City's c...\n",
       "                              ...                        \n",
       "2970    A former Secret Service agent grudgingly takes...\n",
       "2971    Larry Burrows is unhappy and feels powerless o...\n",
       "2972    Dragon Tiger Gate is a 2006 Hong Kong martial ...\n",
       "2973    Michael and Ellie break into a military junkya...\n",
       "2974    Edward Carnby is a private investigator specia...\n",
       "2975    It's summer vacation, but the Pearson family k...\n",
       "2976    The recently deceased Mona Dearly (Bette Midle...\n",
       "2977    A story about a seemingly unlikely couple who ...\n",
       "2978    Almost a decade has elapsed since Bowiesque gl...\n",
       "2979    When Zoe tires of looking for Mr. Right, she d...\n",
       "2980    Biju is an honest policeman who fights the inj...\n",
       "2981    David, a struggling comedy writer fresh off fr...\n",
       "2982    Kate and Charlie like to have a good time. The...\n",
       "2983    Anna (Marceau) is a wife and mother who has an...\n",
       "2984    Hondo Harrelson recruits Jim Street to join an...\n",
       "2985    A black police detective must solve a strange ...\n",
       "2986    A rising Hollywood actor decides to take perso...\n",
       "2987    Experiments in biological warfare have destroy...\n",
       "2988    A visual social examination in the form of ten...\n",
       "2989    The adventures of a young Trumpeter swan who c...\n",
       "2990    Can two clueless Georgia homegirls with big he...\n",
       "2991    A white midwestern girl moves to Chicago, wher...\n",
       "2992    A recalcitrant thief vies with a duplicitous M...\n",
       "2993    Viktor Navorski is a man without a country; hi...\n",
       "2994    When David Greene receives a football scholars...\n",
       "2995    Military men Rock Reilly and Eddie Devane are ...\n",
       "2996    Three girls in 1980s Stockholm decide to form ...\n",
       "2997    Samantha Caine, suburban homemaker, is the ide...\n",
       "2998    Reuben Feffer is a guy who's spent his entire ...\n",
       "2999    A young man sets out to uncover the truth abou...\n",
       "Name: overview, Length: 2985, dtype: object"
      ]
     },
     "execution_count": 28,
     "metadata": {},
     "output_type": "execute_result"
    }
   ],
   "source": [
    "all_data['overview']"
   ]
  },
  {
   "cell_type": "markdown",
   "metadata": {},
   "source": [
    "Todo: apapend genresVect to pandas dataframe (not really necessary)"
   ]
  },
  {
   "cell_type": "code",
   "execution_count": 29,
   "metadata": {},
   "outputs": [],
   "source": [
    "#put to lower case, remove punctation\n",
    "def cleanText(text):\n",
    "    text = re.sub(r'[^a-z A-Z0-9]', \"\", text) #maybe shouldn't remove punction between words here?\n",
    "    text = text.lower()\n",
    "    return text\n",
    "all_data['cleanOverview'] = all_data['overview'].apply(cleanText)"
   ]
  },
  {
   "cell_type": "code",
   "execution_count": 30,
   "metadata": {},
   "outputs": [
    {
     "data": {
      "text/plain": [
       "0       when lou who has become the father of the inte...\n",
       "1       mia thermopolis is now a college graduate and ...\n",
       "2       under the direction of a ruthless instructor a...\n",
       "3       vidya bagchi vidya balan arrives in kolkata fr...\n",
       "4       marine boy is the story of a former national s...\n",
       "5       pinocchio and his friends a glow worm and a ma...\n",
       "6       a young girl buys an antique box at a yard sal...\n",
       "7       a chronicle which provides a rare window into ...\n",
       "8       after telling the story of flints last journey...\n",
       "9       in a mighty wind director christopher guest re...\n",
       "10      when world heavyweight boxing champion apollo ...\n",
       "11      the members of the lambda lambda lambda frater...\n",
       "12      lester burnham a depressed suburban father in ...\n",
       "13      disenchanted with the movie industry chili pal...\n",
       "14      john anderton is a top precrime cop in the lat...\n",
       "15      novica is a mathematics champion in a belgrade...\n",
       "16      after attending the funeral of her grandmother...\n",
       "17      in 1857 at the height of his fame and fortune ...\n",
       "18      while working a job at an exclusive ski resort...\n",
       "19      professional driver frank martin is living in ...\n",
       "20      the prospects for continuing life on earth in ...\n",
       "21      an idyllic summer turns into a nightmare of un...\n",
       "22      when a group of misfits is hired by an unknown...\n",
       "23      kaitlyn an er nurse who is tending to a young ...\n",
       "24      a genetic engineering experiment gone horribly...\n",
       "25      in 1957 evan rendell flees after his father is...\n",
       "26      an employee of a corporation with a lucrative ...\n",
       "27      wallace a medical school dropout has been repe...\n",
       "28      the autobots must stop a colossal planetconsum...\n",
       "29      a rushhour fenderbender on new york citys crow...\n",
       "                              ...                        \n",
       "2970    a former secret service agent grudgingly takes...\n",
       "2971    larry burrows is unhappy and feels powerless o...\n",
       "2972    dragon tiger gate is a 2006 hong kong martial ...\n",
       "2973    michael and ellie break into a military junkya...\n",
       "2974    edward carnby is a private investigator specia...\n",
       "2975    its summer vacation but the pearson family kid...\n",
       "2976    the recently deceased mona dearly bette midler...\n",
       "2977    a story about a seemingly unlikely couple who ...\n",
       "2978    almost a decade has elapsed since bowiesque gl...\n",
       "2979    when zoe tires of looking for mr right she dec...\n",
       "2980    biju is an honest policeman who fights the inj...\n",
       "2981    david a struggling comedy writer fresh off fro...\n",
       "2982    kate and charlie like to have a good time thei...\n",
       "2983    anna marceau is a wife and mother who has an a...\n",
       "2984    hondo harrelson recruits jim street to join an...\n",
       "2985    a black police detective must solve a strange ...\n",
       "2986    a rising hollywood actor decides to take perso...\n",
       "2987    experiments in biological warfare have destroy...\n",
       "2988    a visual social examination in the form of ten...\n",
       "2989    the adventures of a young trumpeter swan who c...\n",
       "2990    can two clueless georgia homegirls with big he...\n",
       "2991    a white midwestern girl moves to chicago where...\n",
       "2992    a recalcitrant thief vies with a duplicitous m...\n",
       "2993    viktor navorski is a man without a country his...\n",
       "2994    when david greene receives a football scholars...\n",
       "2995    military men rock reilly and eddie devane are ...\n",
       "2996    three girls in 1980s stockholm decide to form ...\n",
       "2997    samantha caine suburban homemaker is the ideal...\n",
       "2998    reuben feffer is a guy whos spent his entire l...\n",
       "2999    a young man sets out to uncover the truth abou...\n",
       "Name: cleanOverview, Length: 2985, dtype: object"
      ]
     },
     "execution_count": 30,
     "metadata": {},
     "output_type": "execute_result"
    }
   ],
   "source": [
    "all_data['cleanOverview']"
   ]
  },
  {
   "cell_type": "code",
   "execution_count": 31,
   "metadata": {},
   "outputs": [
    {
     "data": {
      "text/plain": [
       "[0, 0, 0, 0, 0, 0, 0, 0, 0, 0, 0, 0, 0, 0, 0, 1, 0, 0, 0, 0]"
      ]
     },
     "execution_count": 31,
     "metadata": {},
     "output_type": "execute_result"
    }
   ],
   "source": [
    "all_data['genres_vect'][0]"
   ]
  },
  {
   "cell_type": "code",
   "execution_count": 32,
   "metadata": {},
   "outputs": [
    {
     "name": "stderr",
     "output_type": "stream",
     "text": [
      "/home/matt/.local/lib/python3.6/site-packages/ipykernel_launcher.py:3: SettingWithCopyWarning: \n",
      "A value is trying to be set on a copy of a slice from a DataFrame.\n",
      "Try using .loc[row_indexer,col_indexer] = value instead\n",
      "\n",
      "See the caveats in the documentation: http://pandas.pydata.org/pandas-docs/stable/indexing.html#indexing-view-versus-copy\n",
      "  This is separate from the ipykernel package so we can avoid doing imports until\n"
     ]
    }
   ],
   "source": [
    "#logistic regression data\n",
    "lr_data = all_data[['cleanOverview', 'genres_vect', 'overview', 'genres_labels']]\n",
    "lr_data['g'] = lr_data.apply(lambda row: row['genres_vect'][0], axis=1)"
   ]
  },
  {
   "cell_type": "code",
   "execution_count": 33,
   "metadata": {},
   "outputs": [],
   "source": [
    "train, test = train_test_split(lr_data, test_size=0.2, random_state=42)\n",
    "\n",
    "def tokenize_text(text):\n",
    "    tokens = []\n",
    "    for sent in nltk.sent_tokenize(text):\n",
    "        for word in nltk.word_tokenize(sent):\n",
    "            if len(word) < 2:\n",
    "                continue\n",
    "            tokens.append(word.lower())\n",
    "    return tokens\n",
    "\n",
    "train_tagged = train.apply(\n",
    "    lambda r: TaggedDocument(words=tokenize_text(r['overview']), tags=r.genres_labels), axis=1)\n",
    "test_tagged = test.apply(\n",
    "    lambda r: TaggedDocument(words=tokenize_text(r['overview']), tags=r.genres_labels), axis=1)"
   ]
  },
  {
   "cell_type": "code",
   "execution_count": 34,
   "metadata": {},
   "outputs": [
    {
     "data": {
      "text/plain": [
       "TaggedDocument(words=['dragon', 'tiger', 'gate', 'is', '2006', 'hong', 'kong', 'martial', 'arts-action', 'film', 'directed', 'by', 'wilson', 'yip', 'and', 'featuring', 'fight', 'choreography', 'by', 'donnie', 'yen', 'who', 'also', 'stars', 'in', 'the', 'film', 'the', 'film', 'is', 'based', 'on', 'the', 'popular', 'hong', 'kong', 'manhua', 'oriental', 'heroes', 'which', 'bears', 'the', 'same', 'chinese', 'name', 'as', 'the', 'movie'], tags=['Action', 'Thriller'])"
      ]
     },
     "execution_count": 34,
     "metadata": {},
     "output_type": "execute_result"
    }
   ],
   "source": [
    "train_tagged.values[0]"
   ]
  },
  {
   "cell_type": "code",
   "execution_count": 35,
   "metadata": {},
   "outputs": [],
   "source": [
    "import multiprocessing\n",
    "\n",
    "cores = multiprocessing.cpu_count()"
   ]
  },
  {
   "cell_type": "code",
   "execution_count": 36,
   "metadata": {},
   "outputs": [],
   "source": [
    "from tqdm import tqdm"
   ]
  },
  {
   "cell_type": "code",
   "execution_count": 37,
   "metadata": {},
   "outputs": [
    {
     "name": "stderr",
     "output_type": "stream",
     "text": [
      "100%|██████████| 2388/2388 [00:00<00:00, 1912910.23it/s]\n"
     ]
    }
   ],
   "source": [
    "model_dbow = Doc2Vec(dm=0, vector_size=300, negative=5, hs=0, min_count=2, sample = 0, workers=cores)\n",
    "model_dbow.build_vocab([x for x in tqdm(train_tagged.values)])"
   ]
  },
  {
   "cell_type": "code",
   "execution_count": 38,
   "metadata": {},
   "outputs": [
    {
     "name": "stderr",
     "output_type": "stream",
     "text": [
      "100%|██████████| 2388/2388 [00:00<00:00, 2039918.12it/s]\n",
      "100%|██████████| 2388/2388 [00:00<00:00, 2480435.35it/s]\n",
      "100%|██████████| 2388/2388 [00:00<00:00, 2588782.10it/s]\n",
      "100%|██████████| 2388/2388 [00:00<00:00, 2441735.24it/s]\n",
      "100%|██████████| 2388/2388 [00:00<00:00, 2529292.41it/s]\n",
      "100%|██████████| 2388/2388 [00:00<00:00, 2547303.65it/s]\n",
      "100%|██████████| 2388/2388 [00:00<00:00, 2583440.28it/s]\n",
      "100%|██████████| 2388/2388 [00:00<00:00, 2434021.37it/s]\n",
      "100%|██████████| 2388/2388 [00:00<00:00, 2507761.13it/s]\n",
      "100%|██████████| 2388/2388 [00:00<00:00, 2500249.11it/s]\n",
      "100%|██████████| 2388/2388 [00:00<00:00, 2536337.79it/s]\n",
      "100%|██████████| 2388/2388 [00:00<00:00, 2413493.48it/s]\n",
      "100%|██████████| 2388/2388 [00:00<00:00, 2437575.55it/s]\n",
      "100%|██████████| 2388/2388 [00:00<00:00, 2343471.68it/s]\n",
      "100%|██████████| 2388/2388 [00:00<00:00, 2456105.43it/s]\n",
      "100%|██████████| 2388/2388 [00:00<00:00, 2477980.69it/s]\n",
      "100%|██████████| 2388/2388 [00:00<00:00, 1892310.21it/s]\n",
      "100%|██████████| 2388/2388 [00:00<00:00, 2485359.29it/s]\n",
      "100%|██████████| 2388/2388 [00:00<00:00, 2518480.75it/s]\n",
      "100%|██████████| 2388/2388 [00:00<00:00, 2453097.71it/s]\n",
      "100%|██████████| 2388/2388 [00:00<00:00, 2516582.40it/s]\n",
      "100%|██████████| 2388/2388 [00:00<00:00, 2524829.33it/s]\n",
      "100%|██████████| 2388/2388 [00:00<00:00, 2475530.88it/s]\n",
      "100%|██████████| 2388/2388 [00:00<00:00, 2505252.11it/s]\n",
      "100%|██████████| 2388/2388 [00:00<00:00, 2490302.82it/s]\n",
      "100%|██████████| 2388/2388 [00:00<00:00, 2470036.49it/s]\n",
      "100%|██████████| 2388/2388 [00:00<00:00, 2448300.65it/s]\n",
      "100%|██████████| 2388/2388 [00:00<00:00, 2384761.42it/s]\n",
      "100%|██████████| 2388/2388 [00:00<00:00, 2441140.13it/s]\n",
      "100%|██████████| 2388/2388 [00:00<00:00, 2494644.57it/s]\n"
     ]
    }
   ],
   "source": [
    "for epoch in range(30):\n",
    "    model_dbow.train(utils.shuffle([x for x in tqdm(train_tagged.values)]), total_examples=len(train_tagged.values), epochs=1)\n",
    "    model_dbow.alpha -= 0.002\n",
    "    model_dbow.min_alpha = model_dbow.alpha"
   ]
  },
  {
   "cell_type": "code",
   "execution_count": 39,
   "metadata": {},
   "outputs": [],
   "source": [
    "def vec_for_learning(model, tagged_docs):\n",
    "    sents = tagged_docs.values\n",
    "    targets, regressors = zip(*[(doc.tags[0], model.infer_vector(doc.words, steps=20)) for doc in sents])\n",
    "    return targets, regressors"
   ]
  },
  {
   "cell_type": "code",
   "execution_count": 40,
   "metadata": {},
   "outputs": [
    {
     "name": "stderr",
     "output_type": "stream",
     "text": [
      "/home/matt/.local/lib/python3.6/site-packages/sklearn/linear_model/logistic.py:432: FutureWarning: Default solver will be changed to 'lbfgs' in 0.22. Specify a solver to silence this warning.\n",
      "  FutureWarning)\n"
     ]
    },
    {
     "name": "stdout",
     "output_type": "stream",
     "text": [
      "Testing accuracy 0.20435510887772193\n",
      "Testing F1 score: 0.18971889179009932\n"
     ]
    },
    {
     "name": "stderr",
     "output_type": "stream",
     "text": [
      "/home/matt/.local/lib/python3.6/site-packages/sklearn/metrics/classification.py:1437: UndefinedMetricWarning: F-score is ill-defined and being set to 0.0 in labels with no predicted samples.\n",
      "  'precision', 'predicted', average, warn_for)\n"
     ]
    }
   ],
   "source": [
    "y_train, X_train = vec_for_learning(model_dbow, train_tagged)\n",
    "y_test, X_test = vec_for_learning(model_dbow, test_tagged)\n",
    "\n",
    "logreg = LogisticRegression(n_jobs=1, C=1e5, multi_class = 'ovr')\n",
    "logreg.fit(X_train, y_train)\n",
    "y_pred = logreg.predict(X_test)\n",
    "\n",
    "from sklearn.metrics import accuracy_score, f1_score\n",
    "\n",
    "print('Testing accuracy %s' % accuracy_score(y_test, y_pred))\n",
    "print('Testing F1 score: {}'.format(f1_score(y_test, y_pred, average='weighted')))"
   ]
  },
  {
   "cell_type": "code",
   "execution_count": 41,
   "metadata": {},
   "outputs": [
    {
     "data": {
      "text/plain": [
       "array(['Animation', 'Comedy', 'Drama', 'Documentary', 'Family', 'Drama',\n",
       "       'Comedy', 'Action', 'Comedy', 'Action', 'Action', 'Drama', 'Drama',\n",
       "       'Drama', 'Crime', 'Comedy', 'Documentary', 'Comedy', 'Drama',\n",
       "       'Drama', 'Crime', 'Drama', 'Crime', 'Comedy', 'Drama', 'Horror',\n",
       "       'Action', 'Horror', 'Drama', 'Romance', 'Action', 'Action',\n",
       "       'Action', 'Action', 'Documentary', 'Crime', 'Drama', 'Adventure',\n",
       "       'Comedy', 'Thriller', 'Drama', 'Drama', 'Comedy', 'Action',\n",
       "       'Action', 'Crime', 'Drama', 'Action', 'Drama', 'Action',\n",
       "       'Thriller', 'Drama', 'Documentary', 'Comedy', 'Drama', 'Action',\n",
       "       'Drama', 'Action', 'Action', 'Crime', 'Action', 'Comedy', 'Action',\n",
       "       'Horror', 'Comedy', 'Drama', 'Action', 'Comedy', 'Comedy', 'Drama',\n",
       "       'Comedy', 'Documentary', 'Drama', 'Drama', 'Comedy', 'Drama',\n",
       "       'Comedy', 'Drama', 'Comedy', 'Action', 'Drama', 'Comedy', 'Crime',\n",
       "       'Comedy', 'Drama', 'Comedy', 'Drama', 'Comedy', 'Comedy', 'Comedy',\n",
       "       'Drama', 'Drama', 'Horror', 'Science Fiction', 'Drama', 'Comedy',\n",
       "       'Documentary', 'Action', 'Drama', 'Horror', 'Drama', 'Comedy',\n",
       "       'Comedy', 'Horror', 'Action', 'Comedy', 'Drama', 'Drama', 'Comedy',\n",
       "       'Drama', 'Drama', 'Comedy', 'Drama', 'Comedy', 'Crime', 'Action',\n",
       "       'Comedy', 'Comedy', 'Drama', 'Action', 'Comedy', 'Animation',\n",
       "       'Action', 'Comedy', 'Thriller', 'Action', 'Comedy', 'Comedy',\n",
       "       'Comedy', 'Drama', 'Drama', 'Action', 'Drama', 'Drama', 'Drama',\n",
       "       'Crime', 'Comedy', 'Drama', 'Animation', 'Animation', 'Drama',\n",
       "       'Drama', 'Drama', 'Adventure', 'Action', 'Horror', 'Thriller',\n",
       "       'Science Fiction', 'Thriller', 'Action', 'Animation', 'Drama',\n",
       "       'Drama', 'Comedy', 'Thriller', 'Comedy', 'Comedy', 'Drama',\n",
       "       'Comedy', 'Drama', 'Drama', 'Drama', 'Comedy', 'Drama', 'Comedy',\n",
       "       'Comedy', 'Comedy', 'Drama', 'Drama', 'Crime', 'Comedy', 'Comedy',\n",
       "       'Action', 'Crime', 'Drama', 'Comedy', 'Crime', 'Drama', 'Horror',\n",
       "       'Comedy', 'Action', 'Thriller', 'Comedy', 'Drama', 'Drama',\n",
       "       'Comedy', 'Adventure', 'Comedy', 'Romance', 'Action', 'Action',\n",
       "       'Comedy', 'Comedy', 'Drama', 'Drama', 'Action', 'Comedy', 'Drama',\n",
       "       'Adventure', 'Drama', 'Drama', 'Drama', 'Drama', 'Comedy',\n",
       "       'Action', 'Science Fiction', 'Comedy', 'Comedy', 'Horror', 'Drama',\n",
       "       'Drama', 'Action', 'Drama', 'Comedy', 'Thriller', 'Animation',\n",
       "       'Comedy', 'Action', 'Drama', 'Drama', 'Music', 'Comedy', 'Comedy',\n",
       "       'Drama', 'Family', 'Comedy', 'Drama', 'Drama', 'Crime', 'Crime',\n",
       "       'Drama', 'Drama', 'Drama', 'Adventure', 'Drama', 'Crime', 'Action',\n",
       "       'Crime', 'Adventure', 'Action', 'Action', 'Fantasy', 'Drama',\n",
       "       'Drama', 'Drama', 'Horror', 'Drama', 'Crime', 'Action', 'Fantasy',\n",
       "       'Drama', 'Thriller', 'Science Fiction', 'Comedy', 'Romance',\n",
       "       'Comedy', 'Drama', 'Comedy', 'Comedy', 'Action', 'Drama', 'Drama',\n",
       "       'Drama', 'Drama', 'Action', 'Comedy', 'Drama', 'Action', 'Comedy',\n",
       "       'Comedy', 'Adventure', 'Drama', 'Thriller', 'Adventure', 'Drama',\n",
       "       'Drama', 'Thriller', 'Documentary', 'Comedy', 'Comedy', 'Drama',\n",
       "       'Crime', 'Action', 'Crime', 'Comedy', 'Comedy', 'Thriller',\n",
       "       'Comedy', 'Documentary', 'Action', 'Drama', 'Action', 'Drama',\n",
       "       'Drama', 'Comedy', 'Comedy', 'Horror', 'Documentary', 'Thriller',\n",
       "       'Drama', 'Thriller', 'Crime', 'Drama', 'Drama', 'Comedy', 'Drama',\n",
       "       'Crime', 'Drama', 'Comedy', 'Drama', 'Drama', 'Adventure',\n",
       "       'Horror', 'Documentary', 'Crime', 'Action', 'Drama', 'Thriller',\n",
       "       'Drama', 'Comedy', 'Drama', 'Action', 'Action', 'Action', 'Drama',\n",
       "       'Comedy', 'Action', 'Comedy', 'Drama', 'Comedy', 'Drama',\n",
       "       'Animation', 'Action', 'Thriller', 'Comedy', 'Adventure', 'Drama',\n",
       "       'Drama', 'Comedy', 'Drama', 'Comedy', 'Animation', 'Drama',\n",
       "       'Drama', 'Comedy', 'Drama', 'Comedy', 'Action', 'Thriller',\n",
       "       'Drama', 'Comedy', 'Comedy', 'Drama', 'Thriller', 'Thriller',\n",
       "       'Drama', 'Comedy', 'Crime', 'Action', 'Drama', 'Drama', 'Comedy',\n",
       "       'Comedy', 'Adventure', 'Crime', 'Comedy', 'Science Fiction',\n",
       "       'Drama', 'Action', 'Drama', 'Drama', 'Comedy', 'Comedy', 'Drama',\n",
       "       'Action', 'Comedy', 'Animation', 'Comedy', 'Mystery', 'Drama',\n",
       "       'Horror', 'Drama', 'Drama', 'Action', 'Drama', 'Crime',\n",
       "       'Science Fiction', 'Action', 'Fantasy', 'Drama', 'Comedy',\n",
       "       'Comedy', 'Drama', 'Horror', 'Drama', 'Fantasy', 'Comedy',\n",
       "       'Fantasy', 'Adventure', 'Drama', 'Romance', 'Fantasy', 'Comedy',\n",
       "       'Comedy', 'Drama', 'Drama', 'Drama', 'Comedy', 'Drama', 'Comedy',\n",
       "       'Drama', 'Drama', 'Drama', 'Crime', 'Comedy', 'Comedy', 'Drama',\n",
       "       'Action', 'Documentary', 'Drama', 'Drama', 'Action', 'Drama',\n",
       "       'Drama', 'Comedy', 'Animation', 'Drama', 'Drama', 'Action',\n",
       "       'Science Fiction', 'Horror', 'Drama', 'Action', 'Animation',\n",
       "       'Comedy', 'Action', 'Action', 'Drama', 'Drama', 'Drama', 'Horror',\n",
       "       'Comedy', 'Comedy', 'Action', 'Drama', 'Drama', 'Drama', 'Action',\n",
       "       'Comedy', 'Drama', 'Comedy', 'Drama', 'Comedy', 'Drama', 'Drama',\n",
       "       'Crime', 'Drama', 'Drama', 'Drama', 'Drama', 'Comedy', 'Drama',\n",
       "       'Drama', 'Action', 'Drama', 'Drama', 'Crime', 'Action', 'Thriller',\n",
       "       'Mystery', 'Drama', 'Comedy', 'Action', 'Drama', 'Drama',\n",
       "       'Fantasy', 'Drama', 'Drama', 'Action', 'Crime', 'Drama', 'Drama',\n",
       "       'Drama', 'Drama', 'Drama', 'Action', 'Comedy', 'Drama', 'Action',\n",
       "       'Comedy', 'Comedy', 'Action', 'Drama', 'Comedy', 'Action', 'Drama',\n",
       "       'Drama', 'Action', 'Fantasy', 'Drama', 'Horror', 'Drama', 'Crime',\n",
       "       'Drama', 'Comedy', 'Action', 'Horror', 'Drama', 'Comedy', 'Family',\n",
       "       'Adventure', 'Horror', 'Drama', 'Crime', 'Action', 'Action',\n",
       "       'Fantasy', 'Drama', 'Comedy', 'Comedy', 'Drama', 'Science Fiction',\n",
       "       'Horror', 'Fantasy', 'Comedy', 'Drama', 'Thriller', 'Action',\n",
       "       'Drama', 'Comedy', 'Drama', 'Action', 'Drama', 'Action', 'Comedy',\n",
       "       'Comedy', 'Drama', 'Action', 'Thriller', 'Action', 'Comedy',\n",
       "       'Drama', 'Action', 'Drama', 'Fantasy', 'Drama', 'Thriller',\n",
       "       'Drama', 'Comedy', 'Drama', 'Drama', 'Drama', 'Comedy',\n",
       "       'Science Fiction', 'Comedy', 'Comedy', 'Mystery', 'Comedy',\n",
       "       'Animation', 'Horror', 'Action', 'Action', 'Crime', 'Drama',\n",
       "       'Drama', 'Drama', 'Comedy', 'Thriller', 'Drama', 'Drama', 'Comedy',\n",
       "       'Comedy', 'Documentary', 'Drama', 'Romance', 'Comedy', 'Comedy',\n",
       "       'Drama', 'Drama', 'Drama', 'Drama', 'Comedy', 'Comedy', 'Drama',\n",
       "       'Drama', 'Drama', 'Drama', 'Comedy', 'Horror', 'Action',\n",
       "       'Adventure', 'Action', 'Drama', 'Drama', 'Comedy', 'Comedy',\n",
       "       'Action'], dtype='<U15')"
      ]
     },
     "execution_count": 41,
     "metadata": {},
     "output_type": "execute_result"
    }
   ],
   "source": [
    "y_pred"
   ]
  },
  {
   "cell_type": "code",
   "execution_count": 42,
   "metadata": {},
   "outputs": [
    {
     "data": {
      "text/plain": [
       "array([0, 0, 0, 0, 0, 0, 0, 0, 0, 0, 0, 0, 0, 0, 0, 0, 0, 0, 0, 0, 0, 0,\n",
       "       0, 0, 0, 0, 0, 0, 0, 0, 0, 0, 0, 0, 0, 0, 0, 0, 0, 0, 0, 0, 0, 0,\n",
       "       1, 0, 0, 0, 0, 0, 0, 0, 0, 0, 0, 0, 0, 0, 0, 1, 0, 0, 0, 0, 0, 0,\n",
       "       0, 0, 0, 1, 0, 0, 0, 0, 0, 1, 0, 0, 0, 0, 0, 0, 0, 0, 0, 0, 0, 1,\n",
       "       0, 0, 0, 0, 0, 0, 0, 0, 0, 0, 0, 0, 0, 0, 0, 0, 0, 0, 0, 0, 0, 0,\n",
       "       0, 0, 0, 0, 0, 0, 0, 0, 0, 0, 0, 1, 0, 0, 0, 0, 0, 0, 0, 0, 0, 0,\n",
       "       1, 0, 1, 0, 0, 0, 0, 0, 0, 0, 0, 0, 0, 1, 0, 0, 0, 0, 0, 0, 0, 0,\n",
       "       0, 0, 0, 0, 0, 0, 0, 0, 0, 0, 0, 0, 0, 0, 0, 0, 0, 0, 0, 0, 1, 0,\n",
       "       0, 0, 0, 0, 0, 0, 0, 0, 0, 0, 0, 0, 0, 0, 0, 0, 0, 0, 0, 0, 1, 0,\n",
       "       0, 0, 0, 0, 0, 0, 0, 0, 0, 0, 0, 0, 0, 0, 0, 0, 0, 0, 0, 1, 0, 0,\n",
       "       0, 1, 0, 0, 0, 0, 0, 0, 1, 0, 0, 0, 0, 0, 0, 0, 0, 0, 0, 1, 0, 0,\n",
       "       0, 0, 0, 0, 0, 0, 0, 0, 0, 0, 0, 0, 0, 0, 0, 0, 0, 0, 0, 0, 0, 0,\n",
       "       0, 0, 0, 0, 0, 0, 0, 0, 0, 0, 0, 0, 0, 0, 0, 0, 0, 0, 0, 0, 0, 0,\n",
       "       0, 0, 0, 0, 0, 0, 0, 0, 0, 0, 0, 0, 0, 0, 0, 0, 0, 0, 0, 0, 0, 0,\n",
       "       0, 0, 0, 0, 0, 0, 0, 0, 0, 0, 0, 0, 0, 0, 0, 0, 0, 0, 0, 0, 0, 0,\n",
       "       0, 0, 0, 0, 0, 1, 0, 0, 0, 0, 0, 0, 0, 0, 0, 0, 0, 0, 0, 0, 1, 0,\n",
       "       0, 0, 0, 0, 0, 0, 0, 0, 0, 0, 0, 0, 0, 0, 0, 0, 0, 0, 0, 0, 0, 1,\n",
       "       0, 0, 0, 0, 0, 0, 0, 0, 0, 0, 0, 0, 0, 0, 0, 0, 0, 0, 0, 0, 0, 0,\n",
       "       0, 0, 0, 0, 0, 0, 0, 0, 0, 0, 0, 0, 0, 0, 0, 0, 0, 0, 0, 0, 0, 1,\n",
       "       0, 0, 0, 0, 0, 0, 0, 0, 0, 0, 0, 0, 0, 0, 0, 0, 0, 0, 0, 0, 0, 0,\n",
       "       0, 0, 0, 0, 0, 1, 1, 0, 0, 0, 0, 0, 0, 0, 0, 0, 0, 0, 0, 0, 0, 0,\n",
       "       0, 0, 0, 0, 0, 0, 0, 0, 0, 0, 0, 0, 0, 1, 0, 0, 0, 0, 0, 0, 0, 0,\n",
       "       0, 0, 0, 0, 0, 0, 0, 0, 0, 1, 0, 0, 0, 0, 0, 1, 0, 0, 0, 0, 0, 0,\n",
       "       0, 0, 0, 0, 0, 0, 0, 0, 0, 0, 0, 0, 1, 0, 0, 0, 0, 0, 0, 0, 0, 0,\n",
       "       0, 0, 0, 0, 1, 0, 0, 0, 0, 0, 0, 0, 0, 0, 0, 0, 0, 0, 0, 0, 0, 0,\n",
       "       0, 0, 0, 0, 0, 0, 0, 0, 0, 0, 0, 0, 0, 0, 0, 0, 0, 0, 0, 0, 0, 0,\n",
       "       0, 0, 0, 0, 0, 0, 0, 1, 0, 0, 0, 0, 0, 0, 0, 0, 0, 0, 0, 0, 0, 0,\n",
       "       0, 0, 0])"
      ]
     },
     "execution_count": 42,
     "metadata": {},
     "output_type": "execute_result"
    }
   ],
   "source": [
    "test['genres_labels'].values"
   ]
  },
  {
   "cell_type": "code",
   "execution_count": 43,
   "metadata": {},
   "outputs": [
    {
     "data": {
      "text/plain": [
       "0"
      ]
     },
     "execution_count": 43,
     "metadata": {},
     "output_type": "execute_result"
    }
   ],
   "source": [
    "true_positive = 0\n",
    "for i in range(len(test['g'].values)):\n",
    "    if test['g'].values[i] == 1 and y_pred[i] == 1:\n",
    "        true_positive += 1\n",
    "true_positive"
   ]
  },
  {
   "cell_type": "code",
   "execution_count": null,
   "metadata": {},
   "outputs": [],
   "source": []
  }
 ],
 "metadata": {
  "kernelspec": {
   "display_name": "Python 3",
   "language": "python",
   "name": "python3"
  },
  "language_info": {
   "codemirror_mode": {
    "name": "ipython",
    "version": 3
   },
   "file_extension": ".py",
   "mimetype": "text/x-python",
   "name": "python",
   "nbconvert_exporter": "python",
   "pygments_lexer": "ipython3",
   "version": "3.6.7"
  }
 },
 "nbformat": 4,
 "nbformat_minor": 2
}
