{
 "cells": [
  {
   "cell_type": "code",
   "execution_count": 138,
   "metadata": {},
   "outputs": [],
   "source": [
    "import numpy as np\n",
    "import pandas as pd\n",
    "#for reading in data properly\n",
    "import ast\n",
    "import json\n",
    "\n",
    "import gensim\n",
    "from gensim.models import Doc2Vec\n",
    "from gensim.models import Word2Vec\n",
    "from gensim.models.doc2vec import TaggedDocument\n",
    "\n",
    "from sklearn.model_selection import train_test_split\n",
    "from sklearn import utils\n",
    "\n",
    "import re\n",
    "\n",
    "import nltk\n",
    "from nltk.corpus import stopwords\n",
    "from nltk.tokenize import word_tokenize\n",
    "\n",
    "stop_words = set(stopwords.words('english'))"
   ]
  },
  {
   "cell_type": "code",
   "execution_count": 139,
   "metadata": {},
   "outputs": [],
   "source": [
    "all_data = pd.read_csv('train.csv')\n",
    "all_data = all_data.dropna(subset=['overview', 'genres']) #drop cols without overview or genre (data we use or labels)"
   ]
  },
  {
   "cell_type": "code",
   "execution_count": 140,
   "metadata": {},
   "outputs": [],
   "source": [
    "def text_to_list(x):\n",
    "    if pd.isna(x):\n",
    "        return ''\n",
    "    else:\n",
    "        return ast.literal_eval(x)\n",
    "\n",
    "def parse_json(x):\n",
    "    try:\n",
    "        return json.loads(x.replace(\"'\", '\"'))[0]['name']\n",
    "    except:\n",
    "        return ''\n",
    "    \n",
    "def parse_genres_json(x):\n",
    "    try:\n",
    "        json_genres = json.loads(x.replace(\"'\", '\"'))\n",
    "        numElems = len(json_genres)\n",
    "        ret = [0]*len(genre_dict) #number of genres we are looking at\n",
    "        for i in range(numElems):\n",
    "            genre_str = (json_genres[i]['name'])\n",
    "            if genre_str in genre_map.keys():\n",
    "                ret[genre_dict[genre_map[genre_str]]] = 1\n",
    "        return ret\n",
    "    except Exception as excep:\n",
    "        print('Exception' + str(excep))\n",
    "        return ''"
   ]
  },
  {
   "cell_type": "code",
   "execution_count": 141,
   "metadata": {},
   "outputs": [
    {
     "data": {
      "text/plain": [
       "{'Action-Adventure': 0,\n",
       " 'Romance': 1,\n",
       " 'Horror-Thriller': 2,\n",
       " 'Comedy': 3,\n",
       " 'Science Fiction': 4}"
      ]
     },
     "execution_count": 141,
     "metadata": {},
     "output_type": "execute_result"
    }
   ],
   "source": [
    "genre_dict = {}\n",
    "genre_dict['Action-Adventure'] = 0\n",
    "genre_dict['Romance'] = 1\n",
    "genre_dict['Horror-Thriller'] = 2\n",
    "genre_dict['Comedy'] = 3\n",
    "genre_dict['Science Fiction'] = 4\n",
    "#genre_dict['Drama'] = 5\n",
    "genre_dict"
   ]
  },
  {
   "cell_type": "code",
   "execution_count": 142,
   "metadata": {},
   "outputs": [],
   "source": [
    "genre_map = {}\n",
    "genre_map['Adventure'] = 'Action-Adventure'\n",
    "genre_map['Romance'] = 'Romance'\n",
    "genre_map['Horror'] = 'Horror-Thriller'\n",
    "genre_map['Thriller'] = 'Horror-Thriller'\n",
    "genre_map['Comedy'] = 'Comedy'\n",
    "#genre_map['War'] = 'Action-Adventure'#not sure about this\n",
    "genre_map['Action'] = 'Action-Adventure'\n",
    "genre_map['Science Fiction'] = 'Science Fiction'\n",
    "#genre_map['Drama'] = 'Drama'"
   ]
  },
  {
   "cell_type": "code",
   "execution_count": 143,
   "metadata": {},
   "outputs": [],
   "source": [
    "def getGenresVects():\n",
    "    y = all_data['genres']\n",
    "    ret = y.apply(parse_genres_json)\n",
    "    all_data['genres_vect'] = ret\n",
    "    return ret"
   ]
  },
  {
   "cell_type": "code",
   "execution_count": 144,
   "metadata": {},
   "outputs": [],
   "source": [
    "labels_vects = getGenresVects() #get label vectors for genres indexed by indexes in genre_dict"
   ]
  },
  {
   "cell_type": "code",
   "execution_count": 145,
   "metadata": {},
   "outputs": [],
   "source": [
    "#put to lower case, remove punctation\n",
    "def cleanText(text):\n",
    "    text = re.sub(r'[^a-z A-Z0-9]', \"\", text) #maybe shouldn't remove punction between words here?\n",
    "    text = text.lower()\n",
    "    return text\n",
    "all_data['cleanOverview'] = all_data['overview'].apply(cleanText)"
   ]
  },
  {
   "cell_type": "code",
   "execution_count": 146,
   "metadata": {},
   "outputs": [],
   "source": [
    "all_data = all_data[all_data.genres_vect.map(sum) > 0]"
   ]
  },
  {
   "cell_type": "code",
   "execution_count": 147,
   "metadata": {},
   "outputs": [],
   "source": [
    "#logistic regression data\n",
    "lr_data = all_data[['cleanOverview', 'genres_vect', 'overview']]"
   ]
  },
  {
   "cell_type": "code",
   "execution_count": 148,
   "metadata": {},
   "outputs": [],
   "source": [
    "train, test = train_test_split(lr_data, test_size=0.2, random_state=42)"
   ]
  },
  {
   "cell_type": "markdown",
   "metadata": {},
   "source": [
    "CNN STUFF here"
   ]
  },
  {
   "cell_type": "code",
   "execution_count": 149,
   "metadata": {},
   "outputs": [],
   "source": [
    "#get word embeddings\n",
    "x = train['cleanOverview'].values.tolist()\n",
    "y = train['genres_vect']"
   ]
  },
  {
   "cell_type": "code",
   "execution_count": 150,
   "metadata": {},
   "outputs": [],
   "source": [
    "x_test = test['cleanOverview'].values.tolist()\n",
    "y_test = test['genres_vect']"
   ]
  },
  {
   "cell_type": "code",
   "execution_count": 151,
   "metadata": {},
   "outputs": [],
   "source": [
    "y_train = y.tolist()\n",
    "y_train = np.array(y_train)"
   ]
  },
  {
   "cell_type": "code",
   "execution_count": 152,
   "metadata": {},
   "outputs": [],
   "source": [
    "y_test = y_test.tolist()\n",
    "y_test = np.array(y_test)"
   ]
  },
  {
   "cell_type": "code",
   "execution_count": 153,
   "metadata": {},
   "outputs": [],
   "source": [
    "tok = [word_tokenize(sent) for sent in x]"
   ]
  },
  {
   "cell_type": "code",
   "execution_count": 154,
   "metadata": {},
   "outputs": [],
   "source": [
    "word_vec_len = 32\n",
    "model = Word2Vec(tok, min_count = 1, size=word_vec_len)"
   ]
  },
  {
   "cell_type": "code",
   "execution_count": 155,
   "metadata": {},
   "outputs": [],
   "source": [
    "from keras.preprocessing.text import Tokenizer\n",
    "from keras.preprocessing.sequence import pad_sequences\n",
    "\n",
    "num_words_kept = 100000 #using 100000 most popular words, use throughout\n",
    "\n",
    "tokenizer = Tokenizer(num_words_kept)\n",
    "tokenizer.fit_on_texts(x)\n",
    "sequences = tokenizer.texts_to_sequences(x)\n",
    "\n",
    "max_seq_len = 100\n",
    "\n",
    "x_train_seq = pad_sequences(sequences, maxlen=max_seq_len)"
   ]
  },
  {
   "cell_type": "code",
   "execution_count": 156,
   "metadata": {},
   "outputs": [],
   "source": [
    "test_sequences = tokenizer.texts_to_sequences(x_test)\n",
    "x_test_seq = pad_sequences(test_sequences, maxlen=max_seq_len)"
   ]
  },
  {
   "cell_type": "code",
   "execution_count": 157,
   "metadata": {},
   "outputs": [],
   "source": [
    "embeddings_index = {}\n",
    "for w in model.wv.vocab.keys():\n",
    "    embeddings_index[w] = model.wv[w]\n",
    "\n",
    "\n",
    "embedding_matrix = np.zeros((num_words_kept, word_vec_len))\n",
    "for word, i in tokenizer.word_index.items():\n",
    "    if i >= num_words_kept:\n",
    "        continue\n",
    "    embedding_vector = embeddings_index.get(word)\n",
    "    if embedding_vector is not None:\n",
    "        embedding_matrix[i] = embedding_vector"
   ]
  },
  {
   "cell_type": "code",
   "execution_count": 158,
   "metadata": {},
   "outputs": [],
   "source": [
    "from sklearn.metrics import accuracy_score\n",
    "from sklearn.metrics import precision_score\n",
    "from sklearn.metrics import recall_score\n",
    "\n",
    "def get_per_label_metrics(real_labels_matrix, predictions_labels_matrix):\n",
    "    for genre in genre_dict.keys():\n",
    "        index = genre_dict[genre]\n",
    "        real_labels_vect = real_labels_matrix[:, index]\n",
    "        prediction_vect = predictions_labels_matrix[:,index]\n",
    "        print(\"Accuruacy for \" + genre + \": \" + str(accuracy_score(real_labels_vect, prediction_vect)))\n",
    "        print(\"Precision for \" + genre + \": \" + str(precision_score(real_labels_vect, prediction_vect)))\n",
    "        print(\"Recall for \" + genre + \": \" + str(recall_score(real_labels_vect, prediction_vect)))\n",
    "        print()"
   ]
  },
  {
   "cell_type": "code",
   "execution_count": 159,
   "metadata": {},
   "outputs": [],
   "source": [
    "#size of intersection of predicted and actual labels divided by size of their union for each datapoint tested on\n",
    "#sum those and then divide by number of datapoints\n",
    "#vectorized for speed\n",
    "def multi_label_accuracy(real_labels_matrix, predictions_labels_matrix):\n",
    "    #binary so set intersection is and operator\n",
    "    intersection = real_labels_matrix & predictions_labels_matrix\n",
    "    #set union for binary is same as or operator\n",
    "    union = real_labels_matrix | predictions_labels_matrix\n",
    "    #sum(array.T) gets number of 1s in row\n",
    "    row_wise_accuracy = sum(intersection.T) / sum(union.T)\n",
    "    return sum(row_wise_accuracy) / real_labels_matrix.shape[0]\n",
    "\n",
    "#size of intersection of predicted and actual labels divided by size of predicted set for each datapoint tested on\n",
    "#sum those and divide by number of datapoints\n",
    "#if no predicted labels, don't count that row towards the precision as that would be undefined\n",
    "def multi_label_precision(real_labels_matrix, predictions_labels_matrix):\n",
    "    #binary so set intersection is and operator\n",
    "    intersection = real_labels_matrix & predictions_labels_matrix\n",
    "    precision_sum = 0\n",
    "    num_rows = 0\n",
    "    for row in range(intersection.shape[0]):\n",
    "        if sum(predictions_labels_matrix[row]) > 0: #if there is at least one prediction for this row\n",
    "            num_rows += 1\n",
    "            precision_sum += sum(intersection[row]) / sum(predictions_labels_matrix[row])\n",
    "    if num_rows == 0:\n",
    "        return 0#no labels predicted at all will give us 0 precision as precision makes no sense here\n",
    "    return precision_sum / num_rows\n",
    "\n",
    "#size of intersection of predicted and actual labels divided by size of real label set for each datapoint tested on\n",
    "#sum those and divide by number of datapoints\n",
    "#all datapoints should have at least 1 real label in this data set\n",
    "#vectorized for speed\n",
    "def multi_label_recall(real_labels_matrix, predictions_labels_matrix):\n",
    "    #binary so set intersection is and operator\n",
    "    intersection = real_labels_matrix & predictions_labels_matrix\n",
    "    #set union for binary is same as or operator\n",
    "    #sum(array.T) gets number of 1s in row\n",
    "    row_wise_recall = sum(intersection.T) / sum(real_labels_matrix.T)\n",
    "    return sum(row_wise_recall) / real_labels_matrix.shape[0]\n",
    "\n",
    "#lower is better\n",
    "def hamming_loss(real_labels_matrix, predictions_labels_matrix):\n",
    "    return (np.logical_xor(real_labels_matrix, predictions_labels_matrix)).sum()/(real_labels_matrix.shape[0] * real_labels_matrix.shape[1])\n",
    "\n",
    "import keras.backend as K\n",
    "\n",
    "#metric for keras for early stopping\n",
    "#takes in raw labels from kerass (not yet converted to 0 and 1s)\n",
    "#NOT the same as accuracy, this is total labels correctly identified divided by union of total labels\n",
    "#this weights rows with more labels higher, where accruacy does not, but this is still a good metric for early stopping\n",
    "def raw_multi_label_accuracy(y_true, y_pred):\n",
    "    positives = K.greater_equal(y_pred, 0.5)\n",
    "    positives = K.cast(positives, K.floatx())\n",
    "    new_y_pred = positives #+ ((1-positives)*y_pred)\n",
    "    intersection = y_true * new_y_pred\n",
    "    union = 1 -((1-y_true)*(1-new_y_pred))\n",
    "    accuracy = K.sum(intersection) / K.sum(union)\n",
    "    return accuracy\n",
    "    "
   ]
  },
  {
   "cell_type": "code",
   "execution_count": 160,
   "metadata": {},
   "outputs": [],
   "source": [
    "from keras.callbacks import EarlyStopping\n",
    "#for early stopping only after certain number of epochs. wait until delay epochs until early stopping\n",
    "class DelayedEarlyStopping(EarlyStopping):\n",
    "    def __init__(self, monitor, min_delta=0, patience=0, verbose=0, mode='auto', delay = 100):\n",
    "        super(DelayedEarlyStopping, self).__init__()\n",
    "        self.delay = delay\n",
    "\n",
    "    def on_epoch_end(self, epoch, logs=None):\n",
    "        if epoch > self.delay:\n",
    "            super().on_epoch_end(epoch, logs)"
   ]
  },
  {
   "cell_type": "code",
   "execution_count": 161,
   "metadata": {},
   "outputs": [
    {
     "name": "stdout",
     "output_type": "stream",
     "text": [
      "Train on 1738 samples, validate on 194 samples\n",
      "Epoch 1/1000\n",
      " - 2s - loss: 0.7755 - raw_multi_label_accuracy: 0.1816 - val_loss: 0.6448 - val_raw_multi_label_accuracy: 0.0000e+00\n",
      "Epoch 2/1000\n",
      " - 1s - loss: 0.6722 - raw_multi_label_accuracy: 0.0973 - val_loss: 0.6405 - val_raw_multi_label_accuracy: 0.0067\n",
      "Epoch 3/1000\n",
      " - 1s - loss: 0.6512 - raw_multi_label_accuracy: 0.0841 - val_loss: 0.6331 - val_raw_multi_label_accuracy: 0.0000e+00\n",
      "Epoch 4/1000\n",
      " - 1s - loss: 0.6414 - raw_multi_label_accuracy: 0.0564 - val_loss: 0.6264 - val_raw_multi_label_accuracy: 0.0000e+00\n",
      "Epoch 5/1000\n",
      " - 1s - loss: 0.6351 - raw_multi_label_accuracy: 0.0391 - val_loss: 0.6226 - val_raw_multi_label_accuracy: 0.0000e+00\n",
      "Epoch 6/1000\n",
      " - 1s - loss: 0.6280 - raw_multi_label_accuracy: 0.0588 - val_loss: 0.6173 - val_raw_multi_label_accuracy: 0.0000e+00\n",
      "Epoch 7/1000\n",
      " - 1s - loss: 0.6259 - raw_multi_label_accuracy: 0.0487 - val_loss: 0.6135 - val_raw_multi_label_accuracy: 0.0000e+00\n",
      "Epoch 8/1000\n",
      " - 1s - loss: 0.6206 - raw_multi_label_accuracy: 0.0654 - val_loss: 0.6110 - val_raw_multi_label_accuracy: 0.0000e+00\n",
      "Epoch 9/1000\n",
      " - 1s - loss: 0.6093 - raw_multi_label_accuracy: 0.0681 - val_loss: 0.6085 - val_raw_multi_label_accuracy: 0.0000e+00\n",
      "Epoch 10/1000\n",
      " - 1s - loss: 0.6046 - raw_multi_label_accuracy: 0.0925 - val_loss: 0.6085 - val_raw_multi_label_accuracy: 0.0033\n",
      "Epoch 11/1000\n",
      " - 1s - loss: 0.5950 - raw_multi_label_accuracy: 0.1308 - val_loss: 0.6116 - val_raw_multi_label_accuracy: 0.0067\n",
      "Epoch 12/1000\n",
      " - 1s - loss: 0.5837 - raw_multi_label_accuracy: 0.1420 - val_loss: 0.5993 - val_raw_multi_label_accuracy: 0.0000e+00\n",
      "Epoch 13/1000\n",
      " - 1s - loss: 0.5657 - raw_multi_label_accuracy: 0.1737 - val_loss: 0.6001 - val_raw_multi_label_accuracy: 0.0233\n",
      "Epoch 14/1000\n",
      " - 1s - loss: 0.5352 - raw_multi_label_accuracy: 0.2916 - val_loss: 0.5916 - val_raw_multi_label_accuracy: 0.0168\n",
      "Epoch 15/1000\n",
      " - 1s - loss: 0.4965 - raw_multi_label_accuracy: 0.3528 - val_loss: 0.5846 - val_raw_multi_label_accuracy: 0.0683\n",
      "Epoch 16/1000\n",
      " - 1s - loss: 0.4390 - raw_multi_label_accuracy: 0.5001 - val_loss: 0.5868 - val_raw_multi_label_accuracy: 0.2180\n",
      "Epoch 17/1000\n",
      " - 2s - loss: 0.3857 - raw_multi_label_accuracy: 0.5954 - val_loss: 0.5777 - val_raw_multi_label_accuracy: 0.2420\n",
      "Epoch 18/1000\n",
      " - 1s - loss: 0.3443 - raw_multi_label_accuracy: 0.6571 - val_loss: 0.5739 - val_raw_multi_label_accuracy: 0.2271\n",
      "Epoch 19/1000\n",
      " - 1s - loss: 0.3051 - raw_multi_label_accuracy: 0.6966 - val_loss: 0.5793 - val_raw_multi_label_accuracy: 0.2069\n",
      "Epoch 20/1000\n",
      " - 1s - loss: 0.2767 - raw_multi_label_accuracy: 0.7231 - val_loss: 0.5803 - val_raw_multi_label_accuracy: 0.2069\n",
      "Epoch 21/1000\n",
      " - 1s - loss: 0.2476 - raw_multi_label_accuracy: 0.7627 - val_loss: 0.5923 - val_raw_multi_label_accuracy: 0.2368\n",
      "Epoch 22/1000\n",
      " - 1s - loss: 0.2286 - raw_multi_label_accuracy: 0.7882 - val_loss: 0.5891 - val_raw_multi_label_accuracy: 0.2364\n",
      "Epoch 23/1000\n",
      " - 2s - loss: 0.2071 - raw_multi_label_accuracy: 0.8085 - val_loss: 0.6015 - val_raw_multi_label_accuracy: 0.2418\n",
      "Epoch 24/1000\n",
      " - 1s - loss: 0.1884 - raw_multi_label_accuracy: 0.8265 - val_loss: 0.6103 - val_raw_multi_label_accuracy: 0.2701\n",
      "Epoch 25/1000\n",
      " - 1s - loss: 0.1663 - raw_multi_label_accuracy: 0.8592 - val_loss: 0.6267 - val_raw_multi_label_accuracy: 0.2612\n",
      "Epoch 26/1000\n",
      " - 1s - loss: 0.1537 - raw_multi_label_accuracy: 0.8776 - val_loss: 0.6344 - val_raw_multi_label_accuracy: 0.2689\n",
      "Epoch 27/1000\n",
      " - 1s - loss: 0.1402 - raw_multi_label_accuracy: 0.8893 - val_loss: 0.6458 - val_raw_multi_label_accuracy: 0.2750\n",
      "Epoch 28/1000\n",
      " - 1s - loss: 0.1306 - raw_multi_label_accuracy: 0.9034 - val_loss: 0.6559 - val_raw_multi_label_accuracy: 0.2564\n",
      "Epoch 29/1000\n",
      " - 1s - loss: 0.1190 - raw_multi_label_accuracy: 0.9189 - val_loss: 0.6618 - val_raw_multi_label_accuracy: 0.2751\n",
      "Epoch 30/1000\n",
      " - 2s - loss: 0.1127 - raw_multi_label_accuracy: 0.9312 - val_loss: 0.6786 - val_raw_multi_label_accuracy: 0.2697\n",
      "Epoch 31/1000\n",
      " - 1s - loss: 0.1041 - raw_multi_label_accuracy: 0.9307 - val_loss: 0.7000 - val_raw_multi_label_accuracy: 0.2810\n",
      "Epoch 32/1000\n",
      " - 1s - loss: 0.0970 - raw_multi_label_accuracy: 0.9413 - val_loss: 0.6976 - val_raw_multi_label_accuracy: 0.3104\n",
      "Epoch 33/1000\n",
      " - 1s - loss: 0.0919 - raw_multi_label_accuracy: 0.9457 - val_loss: 0.7033 - val_raw_multi_label_accuracy: 0.2994\n",
      "Epoch 34/1000\n",
      " - 1s - loss: 0.0859 - raw_multi_label_accuracy: 0.9583 - val_loss: 0.7155 - val_raw_multi_label_accuracy: 0.2995\n",
      "Epoch 35/1000\n",
      " - 1s - loss: 0.0810 - raw_multi_label_accuracy: 0.9588 - val_loss: 0.7386 - val_raw_multi_label_accuracy: 0.3046\n",
      "Epoch 36/1000\n",
      " - 1s - loss: 0.0794 - raw_multi_label_accuracy: 0.9589 - val_loss: 0.7310 - val_raw_multi_label_accuracy: 0.2867\n",
      "Epoch 37/1000\n",
      " - 1s - loss: 0.0734 - raw_multi_label_accuracy: 0.9687 - val_loss: 0.7704 - val_raw_multi_label_accuracy: 0.3002\n",
      "Epoch 38/1000\n",
      " - 2s - loss: 0.0719 - raw_multi_label_accuracy: 0.9699 - val_loss: 0.7647 - val_raw_multi_label_accuracy: 0.2917\n",
      "Epoch 39/1000\n",
      " - 2s - loss: 0.0684 - raw_multi_label_accuracy: 0.9766 - val_loss: 0.7541 - val_raw_multi_label_accuracy: 0.2854\n",
      "Epoch 40/1000\n",
      " - 1s - loss: 0.0665 - raw_multi_label_accuracy: 0.9726 - val_loss: 0.7866 - val_raw_multi_label_accuracy: 0.3297\n",
      "Epoch 41/1000\n",
      " - 1s - loss: 0.0634 - raw_multi_label_accuracy: 0.9767 - val_loss: 0.7935 - val_raw_multi_label_accuracy: 0.2834\n",
      "Epoch 42/1000\n",
      " - 1s - loss: 0.0639 - raw_multi_label_accuracy: 0.9721 - val_loss: 0.7657 - val_raw_multi_label_accuracy: 0.3044\n",
      "Epoch 43/1000\n",
      " - 1s - loss: 0.0601 - raw_multi_label_accuracy: 0.9810 - val_loss: 0.7820 - val_raw_multi_label_accuracy: 0.3113\n",
      "Epoch 44/1000\n",
      " - 1s - loss: 0.0594 - raw_multi_label_accuracy: 0.9760 - val_loss: 0.7826 - val_raw_multi_label_accuracy: 0.2886\n",
      "Epoch 45/1000\n",
      " - 1s - loss: 0.0589 - raw_multi_label_accuracy: 0.9758 - val_loss: 0.8050 - val_raw_multi_label_accuracy: 0.3224\n",
      "Epoch 46/1000\n",
      " - 1s - loss: 0.0556 - raw_multi_label_accuracy: 0.9816 - val_loss: 0.8033 - val_raw_multi_label_accuracy: 0.3104\n",
      "Epoch 47/1000\n",
      " - 2s - loss: 0.0513 - raw_multi_label_accuracy: 0.9863 - val_loss: 0.7999 - val_raw_multi_label_accuracy: 0.3406\n",
      "Epoch 48/1000\n",
      " - 1s - loss: 0.0518 - raw_multi_label_accuracy: 0.9814 - val_loss: 0.8079 - val_raw_multi_label_accuracy: 0.3144\n",
      "Epoch 49/1000\n",
      " - 1s - loss: 0.0511 - raw_multi_label_accuracy: 0.9832 - val_loss: 0.8158 - val_raw_multi_label_accuracy: 0.3120\n",
      "Epoch 50/1000\n",
      " - 1s - loss: 0.0492 - raw_multi_label_accuracy: 0.9882 - val_loss: 0.8250 - val_raw_multi_label_accuracy: 0.3116\n",
      "Epoch 51/1000\n",
      " - 1s - loss: 0.0499 - raw_multi_label_accuracy: 0.9822 - val_loss: 0.8485 - val_raw_multi_label_accuracy: 0.2976\n",
      "Epoch 52/1000\n",
      " - 2s - loss: 0.0472 - raw_multi_label_accuracy: 0.9870 - val_loss: 0.8453 - val_raw_multi_label_accuracy: 0.2982\n",
      "Epoch 53/1000\n",
      " - 1s - loss: 0.0451 - raw_multi_label_accuracy: 0.9915 - val_loss: 0.8413 - val_raw_multi_label_accuracy: 0.2907\n",
      "Epoch 54/1000\n",
      " - 1s - loss: 0.0475 - raw_multi_label_accuracy: 0.9852 - val_loss: 0.8867 - val_raw_multi_label_accuracy: 0.2751\n"
     ]
    },
    {
     "data": {
      "text/plain": [
       "<keras.callbacks.History at 0x7f5d0f4c1240>"
      ]
     },
     "execution_count": 161,
     "metadata": {},
     "output_type": "execute_result"
    }
   ],
   "source": [
    "from keras.layers import Conv1D, GlobalMaxPooling1D\n",
    "from keras.models import Sequential\n",
    "from keras.layers import Dense, Dropout\n",
    "from keras.layers import Flatten\n",
    "from keras.layers.embeddings import Embedding\n",
    "from keras.regularizers import l2\n",
    "\n",
    "model_cnn = Sequential()\n",
    "e = Embedding(num_words_kept, word_vec_len, weights=[embedding_matrix], input_length=max_seq_len, trainable=True)\n",
    "model_cnn.add(e)\n",
    "model_cnn.add(Conv1D(filters=50, kernel_size=5, padding='valid', activation='relu', strides=1))\n",
    "model_cnn.add(GlobalMaxPooling1D())\n",
    "model_cnn.add(Dense(148, activation='relu', kernel_regularizer=l2(0.001)))\n",
    "model_cnn.add(Dropout(.5))\n",
    "model_cnn.add(Dense(len(genre_dict), activation='sigmoid'))\n",
    "model_cnn.compile(loss='binary_crossentropy', optimizer='adam', metrics=[raw_multi_label_accuracy])\n",
    "#model_cnn_01.fit(x_train_seq, y_train, validation_data=(x_val_seq, y_validation), epochs=5, batch_size=32, verbose=2)\n",
    "model_cnn.fit(x_train_seq, y_train, validation_split = .1, callbacks = [DelayedEarlyStopping(monitor = 'val_raw_multi_label_accuracy', patience = 5, delay=50)], epochs=1000, batch_size=100, verbose=2)"
   ]
  },
  {
   "cell_type": "code",
   "execution_count": 162,
   "metadata": {},
   "outputs": [],
   "source": [
    "def nn_output_to_predictions(res):\n",
    "    label_predictions = []\n",
    "    for i in range(res.shape[0]):\n",
    "        pred = [0]*len(genre_dict)\n",
    "        for j in range(res.shape[1]):\n",
    "            if res[i][j] >= .5:\n",
    "                pred[j] = 1\n",
    "        label_predictions.append(pred)\n",
    "    return np.array(label_predictions)"
   ]
  },
  {
   "cell_type": "code",
   "execution_count": 163,
   "metadata": {},
   "outputs": [],
   "source": [
    "predictions = nn_output_to_predictions(model_cnn.predict(x_test_seq))"
   ]
  },
  {
   "cell_type": "code",
   "execution_count": 164,
   "metadata": {},
   "outputs": [
    {
     "data": {
      "text/plain": [
       "187"
      ]
     },
     "execution_count": 164,
     "metadata": {},
     "output_type": "execute_result"
    }
   ],
   "source": [
    "y_test[:,0].sum()"
   ]
  },
  {
   "cell_type": "code",
   "execution_count": 165,
   "metadata": {},
   "outputs": [
    {
     "data": {
      "text/plain": [
       "137"
      ]
     },
     "execution_count": 165,
     "metadata": {},
     "output_type": "execute_result"
    }
   ],
   "source": [
    "predictions[:,0].sum()"
   ]
  },
  {
   "cell_type": "code",
   "execution_count": 166,
   "metadata": {},
   "outputs": [
    {
     "data": {
      "text/plain": [
       "array([0, 0, 1, 0, 0])"
      ]
     },
     "execution_count": 166,
     "metadata": {},
     "output_type": "execute_result"
    }
   ],
   "source": [
    "predictions[0]"
   ]
  },
  {
   "cell_type": "code",
   "execution_count": 167,
   "metadata": {},
   "outputs": [
    {
     "data": {
      "text/plain": [
       "0.3264320220841961"
      ]
     },
     "execution_count": 167,
     "metadata": {},
     "output_type": "execute_result"
    }
   ],
   "source": [
    "multi_label_accuracy(y_test, predictions)"
   ]
  },
  {
   "cell_type": "code",
   "execution_count": 168,
   "metadata": {},
   "outputs": [
    {
     "data": {
      "text/plain": [
       "0.56427304964539"
      ]
     },
     "execution_count": 168,
     "metadata": {},
     "output_type": "execute_result"
    }
   ],
   "source": [
    "multi_label_precision(y_test, predictions)"
   ]
  },
  {
   "cell_type": "code",
   "execution_count": 169,
   "metadata": {},
   "outputs": [
    {
     "data": {
      "text/plain": [
       "0.36421670117322286"
      ]
     },
     "execution_count": 169,
     "metadata": {},
     "output_type": "execute_result"
    }
   ],
   "source": [
    "multi_label_recall(y_test, predictions)"
   ]
  },
  {
   "cell_type": "code",
   "execution_count": 170,
   "metadata": {},
   "outputs": [
    {
     "name": "stdout",
     "output_type": "stream",
     "text": [
      "Percent of correctly decided label decisions: 71.5527950310559\n"
     ]
    }
   ],
   "source": [
    "print(\"Percent of correctly decided label decisions: \" + str(100* (1-hamming_loss(y_test, predictions))))"
   ]
  },
  {
   "cell_type": "code",
   "execution_count": 171,
   "metadata": {},
   "outputs": [
    {
     "name": "stdout",
     "output_type": "stream",
     "text": [
      "Accuruacy for Action-Adventure: 0.6563146997929606\n",
      "Precision for Action-Adventure: 0.5766423357664233\n",
      "Recall for Action-Adventure: 0.42245989304812837\n",
      "\n",
      "Accuruacy for Romance: 0.7598343685300207\n",
      "Precision for Romance: 0.44047619047619047\n",
      "Recall for Romance: 0.3490566037735849\n",
      "\n",
      "Accuruacy for Horror-Thriller: 0.6811594202898551\n",
      "Precision for Horror-Thriller: 0.611764705882353\n",
      "Recall for Horror-Thriller: 0.5416666666666666\n",
      "\n",
      "Accuruacy for Comedy: 0.5962732919254659\n",
      "Precision for Comedy: 0.6153846153846154\n",
      "Recall for Comedy: 0.22535211267605634\n",
      "\n",
      "Accuruacy for Science Fiction: 0.8840579710144928\n",
      "Precision for Science Fiction: 0.5\n",
      "Recall for Science Fiction: 0.03571428571428571\n",
      "\n"
     ]
    }
   ],
   "source": [
    "get_per_label_metrics(y_test, predictions)"
   ]
  }
 ],
 "metadata": {
  "kernelspec": {
   "display_name": "Python 3",
   "language": "python",
   "name": "python3"
  },
  "language_info": {
   "codemirror_mode": {
    "name": "ipython",
    "version": 3
   },
   "file_extension": ".py",
   "mimetype": "text/x-python",
   "name": "python",
   "nbconvert_exporter": "python",
   "pygments_lexer": "ipython3",
   "version": "3.6.7"
  }
 },
 "nbformat": 4,
 "nbformat_minor": 2
}
