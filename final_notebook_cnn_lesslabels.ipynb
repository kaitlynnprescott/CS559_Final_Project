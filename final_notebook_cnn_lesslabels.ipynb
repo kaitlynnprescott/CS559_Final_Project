{
 "cells": [
  {
   "cell_type": "code",
   "execution_count": 84,
   "metadata": {},
   "outputs": [],
   "source": [
    "import numpy as np\n",
    "import pandas as pd\n",
    "#for reading in data properly\n",
    "import ast\n",
    "import json\n",
    "\n",
    "import gensim\n",
    "from gensim.models import Doc2Vec\n",
    "from gensim.models import Word2Vec\n",
    "from gensim.models.doc2vec import TaggedDocument\n",
    "\n",
    "from sklearn.model_selection import train_test_split\n",
    "from sklearn import utils\n",
    "\n",
    "import re\n",
    "\n",
    "import nltk\n",
    "from nltk.corpus import stopwords\n",
    "from nltk.tokenize import word_tokenize\n",
    "\n",
    "stop_words = set(stopwords.words('english'))"
   ]
  },
  {
   "cell_type": "code",
   "execution_count": 85,
   "metadata": {},
   "outputs": [],
   "source": [
    "all_data = pd.read_csv('train.csv')\n",
    "all_data = all_data.dropna(subset=['overview', 'genres']) #drop cols without overview or genre (data we use or labels)"
   ]
  },
  {
   "cell_type": "code",
   "execution_count": 86,
   "metadata": {},
   "outputs": [],
   "source": [
    "def text_to_list(x):\n",
    "    if pd.isna(x):\n",
    "        return ''\n",
    "    else:\n",
    "        return ast.literal_eval(x)\n",
    "\n",
    "def parse_json(x):\n",
    "    try:\n",
    "        return json.loads(x.replace(\"'\", '\"'))[0]['name']\n",
    "    except:\n",
    "        return ''\n",
    "    \n",
    "def parse_genres_json(x):\n",
    "    try:\n",
    "        json_genres = json.loads(x.replace(\"'\", '\"'))\n",
    "        numElems = len(json_genres)\n",
    "        ret = [0]*len(genre_dict) #number of genres we are looking at\n",
    "        for i in range(numElems):\n",
    "            genre_str = (json_genres[i]['name'])\n",
    "            if genre_str in genre_map.keys():\n",
    "                ret[genre_dict[genre_map[genre_str]]] = 1\n",
    "        return ret\n",
    "    except Exception as excep:\n",
    "        print('Exception' + str(excep))\n",
    "        return ''"
   ]
  },
  {
   "cell_type": "code",
   "execution_count": 87,
   "metadata": {},
   "outputs": [
    {
     "data": {
      "text/plain": [
       "{'Action-Adventure': 0,\n",
       " 'Romance': 1,\n",
       " 'Horror-Thriller': 2,\n",
       " 'Comedy': 3,\n",
       " 'Science Fiction': 4}"
      ]
     },
     "execution_count": 87,
     "metadata": {},
     "output_type": "execute_result"
    }
   ],
   "source": [
    "genre_dict = {}\n",
    "genre_dict['Action-Adventure'] = 0\n",
    "genre_dict['Romance'] = 1\n",
    "genre_dict['Horror-Thriller'] = 2\n",
    "genre_dict['Comedy'] = 3\n",
    "genre_dict['Science Fiction'] = 4\n",
    "#genre_dict['Drama'] = 5\n",
    "genre_dict"
   ]
  },
  {
   "cell_type": "code",
   "execution_count": 88,
   "metadata": {},
   "outputs": [],
   "source": [
    "genre_map = {}\n",
    "genre_map['Adventure'] = 'Action-Adventure'\n",
    "genre_map['Romance'] = 'Romance'\n",
    "genre_map['Horror'] = 'Horror-Thriller'\n",
    "genre_map['Thriller'] = 'Horror-Thriller'\n",
    "genre_map['Comedy'] = 'Comedy'\n",
    "#genre_map['War'] = 'Action-Adventure'#not sure about this\n",
    "genre_map['Action'] = 'Action-Adventure'\n",
    "genre_map['Science Fiction'] = 'Science Fiction'\n",
    "#genre_map['Drama'] = 'Drama'"
   ]
  },
  {
   "cell_type": "code",
   "execution_count": 89,
   "metadata": {},
   "outputs": [],
   "source": [
    "def getGenresVects():\n",
    "    y = all_data['genres']\n",
    "    ret = y.apply(parse_genres_json)\n",
    "    all_data['genres_vect'] = ret\n",
    "    return ret"
   ]
  },
  {
   "cell_type": "code",
   "execution_count": 90,
   "metadata": {},
   "outputs": [],
   "source": [
    "labels_vects = getGenresVects() #get label vectors for genres indexed by indexes in genre_dict"
   ]
  },
  {
   "cell_type": "code",
   "execution_count": 91,
   "metadata": {},
   "outputs": [],
   "source": [
    "#put to lower case, remove punctation\n",
    "def cleanText(text):\n",
    "    no_stopword_text = [w for w in text.split() if not w in stop_words]\n",
    "    text = ' '.join(no_stopword_text)\n",
    "    text = re.sub(r'[^a-z A-Z0-9]', \"\", text) #maybe shouldn't remove punction between words here?\n",
    "    text = text.lower()\n",
    "    return text\n",
    "all_data['cleanOverview'] = all_data['overview'].apply(cleanText)"
   ]
  },
  {
   "cell_type": "code",
   "execution_count": 92,
   "metadata": {},
   "outputs": [],
   "source": [
    "all_data = all_data[all_data.genres_vect.map(sum) > 0]"
   ]
  },
  {
   "cell_type": "code",
   "execution_count": 93,
   "metadata": {},
   "outputs": [],
   "source": [
    "#logistic regression data\n",
    "lr_data = all_data[['cleanOverview', 'genres_vect', 'overview']]"
   ]
  },
  {
   "cell_type": "code",
   "execution_count": 94,
   "metadata": {},
   "outputs": [],
   "source": [
    "train, test = train_test_split(lr_data, test_size=0.2, random_state=42)"
   ]
  },
  {
   "cell_type": "markdown",
   "metadata": {},
   "source": [
    "CNN STUFF here"
   ]
  },
  {
   "cell_type": "code",
   "execution_count": 95,
   "metadata": {},
   "outputs": [],
   "source": [
    "#get word embeddings\n",
    "x = train['cleanOverview'].values.tolist()\n",
    "y = train['genres_vect']"
   ]
  },
  {
   "cell_type": "code",
   "execution_count": 96,
   "metadata": {},
   "outputs": [],
   "source": [
    "x_test = test['cleanOverview'].values.tolist()\n",
    "y_test = test['genres_vect']"
   ]
  },
  {
   "cell_type": "code",
   "execution_count": 97,
   "metadata": {},
   "outputs": [],
   "source": [
    "y_train = y.tolist()\n",
    "y_train = np.array(y_train)"
   ]
  },
  {
   "cell_type": "code",
   "execution_count": 98,
   "metadata": {},
   "outputs": [],
   "source": [
    "y_test = y_test.tolist()\n",
    "y_test = np.array(y_test)"
   ]
  },
  {
   "cell_type": "code",
   "execution_count": 99,
   "metadata": {},
   "outputs": [],
   "source": [
    "tok = [word_tokenize(sent) for sent in x]"
   ]
  },
  {
   "cell_type": "code",
   "execution_count": 100,
   "metadata": {},
   "outputs": [],
   "source": [
    "word_vec_len = 32\n",
    "model = Word2Vec(tok, min_count = 2, size=word_vec_len)"
   ]
  },
  {
   "cell_type": "code",
   "execution_count": 101,
   "metadata": {},
   "outputs": [],
   "source": [
    "from keras.preprocessing.text import Tokenizer\n",
    "from keras.preprocessing.sequence import pad_sequences\n",
    "\n",
    "num_words_kept = 100000 #using 100000 most popular words, use throughout\n",
    "\n",
    "tokenizer = Tokenizer(num_words_kept)\n",
    "tokenizer.fit_on_texts(x)\n",
    "sequences = tokenizer.texts_to_sequences(x)\n",
    "\n",
    "max_seq_len = 150\n",
    "\n",
    "x_train_seq = pad_sequences(sequences, maxlen=max_seq_len)"
   ]
  },
  {
   "cell_type": "code",
   "execution_count": 102,
   "metadata": {},
   "outputs": [],
   "source": [
    "test_sequences = tokenizer.texts_to_sequences(x_test)\n",
    "x_test_seq = pad_sequences(test_sequences, maxlen=max_seq_len)"
   ]
  },
  {
   "cell_type": "code",
   "execution_count": 103,
   "metadata": {},
   "outputs": [],
   "source": [
    "embeddings_index = {}\n",
    "for w in model.wv.vocab.keys():\n",
    "    embeddings_index[w] = model.wv[w]\n",
    "\n",
    "\n",
    "embedding_matrix = np.zeros((num_words_kept, word_vec_len))\n",
    "for word, i in tokenizer.word_index.items():\n",
    "    if i >= num_words_kept:\n",
    "        continue\n",
    "    embedding_vector = embeddings_index.get(word)\n",
    "    if embedding_vector is not None:\n",
    "        embedding_matrix[i] = embedding_vector"
   ]
  },
  {
   "cell_type": "code",
   "execution_count": 104,
   "metadata": {},
   "outputs": [],
   "source": [
    "from sklearn.metrics import accuracy_score\n",
    "from sklearn.metrics import precision_score\n",
    "from sklearn.metrics import recall_score\n",
    "\n",
    "def get_per_label_metrics(real_labels_matrix, predictions_labels_matrix):\n",
    "    for genre in genre_dict.keys():\n",
    "        index = genre_dict[genre]\n",
    "        real_labels_vect = real_labels_matrix[:, index]\n",
    "        prediction_vect = predictions_labels_matrix[:,index]\n",
    "        print(\"Accuruacy for \" + genre + \": \" + str(accuracy_score(real_labels_vect, prediction_vect)))\n",
    "        print(\"Precision for \" + genre + \": \" + str(precision_score(real_labels_vect, prediction_vect)))\n",
    "        print(\"Recall for \" + genre + \": \" + str(recall_score(real_labels_vect, prediction_vect)))\n",
    "        print()"
   ]
  },
  {
   "cell_type": "code",
   "execution_count": 105,
   "metadata": {},
   "outputs": [],
   "source": [
    "#size of intersection of predicted and actual labels divided by size of their union for each datapoint tested on\n",
    "#sum those and then divide by number of datapoints\n",
    "#vectorized for speed\n",
    "def multi_label_accuracy(real_labels_matrix, predictions_labels_matrix):\n",
    "    #binary so set intersection is and operator\n",
    "    intersection = real_labels_matrix & predictions_labels_matrix\n",
    "    #set union for binary is same as or operator\n",
    "    union = real_labels_matrix | predictions_labels_matrix\n",
    "    #sum(array.T) gets number of 1s in row\n",
    "    row_wise_accuracy = sum(intersection.T) / sum(union.T)\n",
    "    return sum(row_wise_accuracy) / real_labels_matrix.shape[0]\n",
    "\n",
    "#size of intersection of predicted and actual labels divided by size of predicted set for each datapoint tested on\n",
    "#sum those and divide by number of datapoints\n",
    "#if no predicted labels, don't count that row towards the precision as that would be undefined\n",
    "def multi_label_precision(real_labels_matrix, predictions_labels_matrix):\n",
    "    #binary so set intersection is and operator\n",
    "    intersection = real_labels_matrix & predictions_labels_matrix\n",
    "    precision_sum = 0\n",
    "    num_rows = 0\n",
    "    for row in range(intersection.shape[0]):\n",
    "        if sum(predictions_labels_matrix[row]) > 0: #if there is at least one prediction for this row\n",
    "            num_rows += 1\n",
    "            precision_sum += sum(intersection[row]) / sum(predictions_labels_matrix[row])\n",
    "    if num_rows == 0:\n",
    "        return 0#no labels predicted at all will give us 0 precision as precision makes no sense here\n",
    "    return precision_sum / num_rows\n",
    "\n",
    "#size of intersection of predicted and actual labels divided by size of real label set for each datapoint tested on\n",
    "#sum those and divide by number of datapoints\n",
    "#all datapoints should have at least 1 real label in this data set\n",
    "#vectorized for speed\n",
    "def multi_label_recall(real_labels_matrix, predictions_labels_matrix):\n",
    "    #binary so set intersection is and operator\n",
    "    intersection = real_labels_matrix & predictions_labels_matrix\n",
    "    #set union for binary is same as or operator\n",
    "    #sum(array.T) gets number of 1s in row\n",
    "    row_wise_recall = sum(intersection.T) / sum(real_labels_matrix.T)\n",
    "    return sum(row_wise_recall) / real_labels_matrix.shape[0]\n",
    "\n",
    "#lower is better\n",
    "def hamming_loss(real_labels_matrix, predictions_labels_matrix):\n",
    "    return (np.logical_xor(real_labels_matrix, predictions_labels_matrix)).sum()/(real_labels_matrix.shape[0] * real_labels_matrix.shape[1])\n",
    "\n",
    "import keras.backend as K\n",
    "\n",
    "#metric for keras for early stopping\n",
    "#takes in raw labels from kerass (not yet converted to 0 and 1s)\n",
    "#NOT the same as accuracy, this is total labels correctly identified divided by union of total labels\n",
    "#this weights rows with more labels higher, where accruacy does not, but this is still a good metric for early stopping\n",
    "def raw_multi_label_accuracy(y_true, y_pred):\n",
    "    positives = K.greater_equal(y_pred, 0.5)\n",
    "    positives = K.cast(positives, K.floatx())\n",
    "    new_y_pred = positives #+ ((1-positives)*y_pred)\n",
    "    intersection = y_true * new_y_pred\n",
    "    union = 1 -((1-y_true)*(1-new_y_pred))\n",
    "    accuracy = K.sum(intersection) / K.sum(union)\n",
    "    return accuracy\n",
    "    "
   ]
  },
  {
   "cell_type": "code",
   "execution_count": 106,
   "metadata": {},
   "outputs": [],
   "source": [
    "from keras.callbacks import EarlyStopping\n",
    "#for early stopping only after certain number of epochs. wait until delay epochs until early stopping\n",
    "class DelayedEarlyStopping(EarlyStopping):\n",
    "    def __init__(self, monitor, min_delta=0, patience=0, verbose=0, mode='auto', delay = 100):\n",
    "        super(DelayedEarlyStopping, self).__init__()\n",
    "        self.delay = delay\n",
    "\n",
    "    def on_epoch_end(self, epoch, logs=None):\n",
    "        if epoch > self.delay:\n",
    "            super().on_epoch_end(epoch, logs)"
   ]
  },
  {
   "cell_type": "code",
   "execution_count": 107,
   "metadata": {
    "scrolled": true
   },
   "outputs": [
    {
     "name": "stdout",
     "output_type": "stream",
     "text": [
      "Train on 1738 samples, validate on 194 samples\n",
      "Epoch 1/1000\n",
      " - 4s - loss: 2.0995 - raw_multi_label_accuracy: 0.1724 - val_loss: 1.7789 - val_raw_multi_label_accuracy: 0.0000e+00\n",
      "Epoch 2/1000\n",
      " - 1s - loss: 1.6067 - raw_multi_label_accuracy: 0.1151 - val_loss: 1.3835 - val_raw_multi_label_accuracy: 0.0000e+00\n",
      "Epoch 3/1000\n",
      " - 2s - loss: 1.2630 - raw_multi_label_accuracy: 0.1171 - val_loss: 1.1084 - val_raw_multi_label_accuracy: 0.0000e+00\n",
      "Epoch 4/1000\n",
      " - 2s - loss: 1.0326 - raw_multi_label_accuracy: 0.0857 - val_loss: 0.9232 - val_raw_multi_label_accuracy: 0.0000e+00\n",
      "Epoch 5/1000\n",
      " - 2s - loss: 0.8762 - raw_multi_label_accuracy: 0.0666 - val_loss: 0.8015 - val_raw_multi_label_accuracy: 0.0000e+00\n",
      "Epoch 6/1000\n",
      " - 2s - loss: 0.7745 - raw_multi_label_accuracy: 0.0573 - val_loss: 0.7227 - val_raw_multi_label_accuracy: 0.0000e+00\n",
      "Epoch 7/1000\n",
      " - 2s - loss: 0.7071 - raw_multi_label_accuracy: 0.0460 - val_loss: 0.6706 - val_raw_multi_label_accuracy: 0.0000e+00\n",
      "Epoch 8/1000\n",
      " - 2s - loss: 0.6650 - raw_multi_label_accuracy: 0.0423 - val_loss: 0.6398 - val_raw_multi_label_accuracy: 0.0000e+00\n",
      "Epoch 9/1000\n",
      " - 2s - loss: 0.6422 - raw_multi_label_accuracy: 0.0427 - val_loss: 0.6212 - val_raw_multi_label_accuracy: 0.0000e+00\n",
      "Epoch 10/1000\n",
      " - 2s - loss: 0.6224 - raw_multi_label_accuracy: 0.0295 - val_loss: 0.6092 - val_raw_multi_label_accuracy: 0.0000e+00\n",
      "Epoch 11/1000\n",
      " - 2s - loss: 0.6133 - raw_multi_label_accuracy: 0.0203 - val_loss: 0.5996 - val_raw_multi_label_accuracy: 0.0000e+00\n",
      "Epoch 12/1000\n",
      " - 2s - loss: 0.6044 - raw_multi_label_accuracy: 0.0154 - val_loss: 0.5947 - val_raw_multi_label_accuracy: 0.0000e+00\n",
      "Epoch 13/1000\n",
      " - 2s - loss: 0.6015 - raw_multi_label_accuracy: 0.0146 - val_loss: 0.5921 - val_raw_multi_label_accuracy: 0.0000e+00\n",
      "Epoch 14/1000\n",
      " - 2s - loss: 0.5984 - raw_multi_label_accuracy: 0.0066 - val_loss: 0.5890 - val_raw_multi_label_accuracy: 0.0000e+00\n",
      "Epoch 15/1000\n",
      " - 2s - loss: 0.5949 - raw_multi_label_accuracy: 0.0127 - val_loss: 0.5887 - val_raw_multi_label_accuracy: 0.0000e+00\n",
      "Epoch 16/1000\n",
      " - 2s - loss: 0.5940 - raw_multi_label_accuracy: 0.0131 - val_loss: 0.5883 - val_raw_multi_label_accuracy: 0.0000e+00\n",
      "Epoch 17/1000\n",
      " - 1s - loss: 0.5889 - raw_multi_label_accuracy: 0.0160 - val_loss: 0.5899 - val_raw_multi_label_accuracy: 0.0000e+00\n",
      "Epoch 18/1000\n",
      " - 1s - loss: 0.5794 - raw_multi_label_accuracy: 0.0285 - val_loss: 0.5947 - val_raw_multi_label_accuracy: 0.0000e+00\n",
      "Epoch 19/1000\n",
      " - 1s - loss: 0.5643 - raw_multi_label_accuracy: 0.0577 - val_loss: 0.6016 - val_raw_multi_label_accuracy: 0.0100\n",
      "Epoch 20/1000\n",
      " - 2s - loss: 0.5503 - raw_multi_label_accuracy: 0.1229 - val_loss: 0.6018 - val_raw_multi_label_accuracy: 0.0455\n",
      "Epoch 21/1000\n",
      " - 2s - loss: 0.5378 - raw_multi_label_accuracy: 0.1593 - val_loss: 0.6077 - val_raw_multi_label_accuracy: 0.0645\n",
      "Epoch 22/1000\n",
      " - 1s - loss: 0.5280 - raw_multi_label_accuracy: 0.1962 - val_loss: 0.6125 - val_raw_multi_label_accuracy: 0.0910\n",
      "Epoch 23/1000\n",
      " - 1s - loss: 0.5142 - raw_multi_label_accuracy: 0.2490 - val_loss: 0.6152 - val_raw_multi_label_accuracy: 0.1366\n",
      "Epoch 24/1000\n",
      " - 1s - loss: 0.5020 - raw_multi_label_accuracy: 0.2987 - val_loss: 0.6182 - val_raw_multi_label_accuracy: 0.1737\n",
      "Epoch 25/1000\n",
      " - 1s - loss: 0.4840 - raw_multi_label_accuracy: 0.3478 - val_loss: 0.6207 - val_raw_multi_label_accuracy: 0.1924\n",
      "Epoch 26/1000\n",
      " - 1s - loss: 0.4665 - raw_multi_label_accuracy: 0.3938 - val_loss: 0.6322 - val_raw_multi_label_accuracy: 0.1874\n",
      "Epoch 27/1000\n",
      " - 2s - loss: 0.4502 - raw_multi_label_accuracy: 0.4270 - val_loss: 0.6371 - val_raw_multi_label_accuracy: 0.1797\n",
      "Epoch 28/1000\n",
      " - 2s - loss: 0.4343 - raw_multi_label_accuracy: 0.4481 - val_loss: 0.6503 - val_raw_multi_label_accuracy: 0.2103\n",
      "Epoch 29/1000\n",
      " - 1s - loss: 0.4258 - raw_multi_label_accuracy: 0.4499 - val_loss: 0.6577 - val_raw_multi_label_accuracy: 0.2208\n",
      "Epoch 30/1000\n",
      " - 1s - loss: 0.4130 - raw_multi_label_accuracy: 0.4494 - val_loss: 0.6740 - val_raw_multi_label_accuracy: 0.2283\n",
      "Epoch 31/1000\n",
      " - 1s - loss: 0.4033 - raw_multi_label_accuracy: 0.4672 - val_loss: 0.6768 - val_raw_multi_label_accuracy: 0.2106\n",
      "Epoch 32/1000\n",
      " - 1s - loss: 0.3931 - raw_multi_label_accuracy: 0.4746 - val_loss: 0.6847 - val_raw_multi_label_accuracy: 0.2337\n",
      "Epoch 33/1000\n",
      " - 2s - loss: 0.3883 - raw_multi_label_accuracy: 0.4701 - val_loss: 0.7086 - val_raw_multi_label_accuracy: 0.2373\n",
      "Epoch 34/1000\n",
      " - 2s - loss: 0.3820 - raw_multi_label_accuracy: 0.4746 - val_loss: 0.6954 - val_raw_multi_label_accuracy: 0.2238\n",
      "Epoch 35/1000\n",
      " - 1s - loss: 0.3744 - raw_multi_label_accuracy: 0.4778 - val_loss: 0.7200 - val_raw_multi_label_accuracy: 0.2242\n",
      "Epoch 36/1000\n",
      " - 1s - loss: 0.3687 - raw_multi_label_accuracy: 0.4787 - val_loss: 0.7245 - val_raw_multi_label_accuracy: 0.2259\n",
      "Epoch 37/1000\n",
      " - 1s - loss: 0.3626 - raw_multi_label_accuracy: 0.4885 - val_loss: 0.7388 - val_raw_multi_label_accuracy: 0.2226\n",
      "Epoch 38/1000\n",
      " - 1s - loss: 0.3577 - raw_multi_label_accuracy: 0.5106 - val_loss: 0.7496 - val_raw_multi_label_accuracy: 0.2381\n",
      "Epoch 39/1000\n",
      " - 1s - loss: 0.3547 - raw_multi_label_accuracy: 0.5261 - val_loss: 0.7494 - val_raw_multi_label_accuracy: 0.2253\n",
      "Epoch 40/1000\n",
      " - 1s - loss: 0.3432 - raw_multi_label_accuracy: 0.5288 - val_loss: 0.7659 - val_raw_multi_label_accuracy: 0.2290\n",
      "Epoch 41/1000\n",
      " - 1s - loss: 0.3402 - raw_multi_label_accuracy: 0.5594 - val_loss: 0.7564 - val_raw_multi_label_accuracy: 0.2319\n",
      "Epoch 42/1000\n",
      " - 1s - loss: 0.3373 - raw_multi_label_accuracy: 0.5715 - val_loss: 0.7475 - val_raw_multi_label_accuracy: 0.2282\n",
      "Epoch 43/1000\n",
      " - 1s - loss: 0.3328 - raw_multi_label_accuracy: 0.5797 - val_loss: 0.7833 - val_raw_multi_label_accuracy: 0.2285\n",
      "Epoch 44/1000\n",
      " - 1s - loss: 0.3311 - raw_multi_label_accuracy: 0.5837 - val_loss: 0.7753 - val_raw_multi_label_accuracy: 0.2637\n",
      "Epoch 45/1000\n",
      " - 1s - loss: 0.3263 - raw_multi_label_accuracy: 0.6008 - val_loss: 0.7820 - val_raw_multi_label_accuracy: 0.2555\n",
      "Epoch 46/1000\n",
      " - 1s - loss: 0.3200 - raw_multi_label_accuracy: 0.6017 - val_loss: 0.7904 - val_raw_multi_label_accuracy: 0.2696\n",
      "Epoch 47/1000\n",
      " - 1s - loss: 0.3168 - raw_multi_label_accuracy: 0.6084 - val_loss: 0.7969 - val_raw_multi_label_accuracy: 0.2613\n",
      "Epoch 48/1000\n",
      " - 1s - loss: 0.3162 - raw_multi_label_accuracy: 0.6134 - val_loss: 0.8016 - val_raw_multi_label_accuracy: 0.2765\n",
      "Epoch 49/1000\n",
      " - 1s - loss: 0.3113 - raw_multi_label_accuracy: 0.6253 - val_loss: 0.8033 - val_raw_multi_label_accuracy: 0.2680\n",
      "Epoch 50/1000\n",
      " - 1s - loss: 0.3096 - raw_multi_label_accuracy: 0.6448 - val_loss: 0.8109 - val_raw_multi_label_accuracy: 0.2699\n",
      "Epoch 51/1000\n",
      " - 1s - loss: 0.3039 - raw_multi_label_accuracy: 0.6399 - val_loss: 0.8194 - val_raw_multi_label_accuracy: 0.2663\n",
      "Epoch 52/1000\n",
      " - 1s - loss: 0.2999 - raw_multi_label_accuracy: 0.6492 - val_loss: 0.8221 - val_raw_multi_label_accuracy: 0.2774\n",
      "Epoch 53/1000\n",
      " - 1s - loss: 0.2964 - raw_multi_label_accuracy: 0.6571 - val_loss: 0.8516 - val_raw_multi_label_accuracy: 0.2736\n",
      "Epoch 54/1000\n",
      " - 1s - loss: 0.2939 - raw_multi_label_accuracy: 0.6546 - val_loss: 0.8204 - val_raw_multi_label_accuracy: 0.2785\n",
      "Epoch 55/1000\n",
      " - 1s - loss: 0.2910 - raw_multi_label_accuracy: 0.6617 - val_loss: 0.8110 - val_raw_multi_label_accuracy: 0.2844\n",
      "Epoch 56/1000\n",
      " - 1s - loss: 0.2882 - raw_multi_label_accuracy: 0.6575 - val_loss: 0.8200 - val_raw_multi_label_accuracy: 0.2776\n",
      "Epoch 57/1000\n",
      " - 1s - loss: 0.2835 - raw_multi_label_accuracy: 0.6771 - val_loss: 0.8226 - val_raw_multi_label_accuracy: 0.2935\n",
      "Epoch 58/1000\n",
      " - 1s - loss: 0.2823 - raw_multi_label_accuracy: 0.6708 - val_loss: 0.8169 - val_raw_multi_label_accuracy: 0.2926\n",
      "Epoch 59/1000\n",
      " - 1s - loss: 0.2793 - raw_multi_label_accuracy: 0.6754 - val_loss: 0.8965 - val_raw_multi_label_accuracy: 0.2806\n",
      "Epoch 60/1000\n",
      " - 1s - loss: 0.2748 - raw_multi_label_accuracy: 0.6782 - val_loss: 0.8855 - val_raw_multi_label_accuracy: 0.2812\n",
      "Epoch 61/1000\n",
      " - 1s - loss: 0.2736 - raw_multi_label_accuracy: 0.6861 - val_loss: 0.8414 - val_raw_multi_label_accuracy: 0.2801\n",
      "Epoch 62/1000\n",
      " - 1s - loss: 0.2698 - raw_multi_label_accuracy: 0.6972 - val_loss: 0.9118 - val_raw_multi_label_accuracy: 0.2839\n",
      "Epoch 63/1000\n",
      " - 1s - loss: 0.2710 - raw_multi_label_accuracy: 0.7043 - val_loss: 0.8746 - val_raw_multi_label_accuracy: 0.2806\n",
      "Epoch 64/1000\n",
      " - 1s - loss: 0.2723 - raw_multi_label_accuracy: 0.6974 - val_loss: 0.8941 - val_raw_multi_label_accuracy: 0.2719\n"
     ]
    },
    {
     "name": "stdout",
     "output_type": "stream",
     "text": [
      "Epoch 65/1000\n",
      " - 1s - loss: 0.2689 - raw_multi_label_accuracy: 0.6925 - val_loss: 0.9176 - val_raw_multi_label_accuracy: 0.2829\n",
      "Epoch 66/1000\n",
      " - 1s - loss: 0.2657 - raw_multi_label_accuracy: 0.7074 - val_loss: 0.8942 - val_raw_multi_label_accuracy: 0.2702\n",
      "Epoch 67/1000\n",
      " - 2s - loss: 0.2631 - raw_multi_label_accuracy: 0.7057 - val_loss: 0.9038 - val_raw_multi_label_accuracy: 0.2778\n",
      "Epoch 68/1000\n",
      " - 2s - loss: 0.2630 - raw_multi_label_accuracy: 0.7140 - val_loss: 0.9165 - val_raw_multi_label_accuracy: 0.2724\n",
      "Epoch 69/1000\n",
      " - 2s - loss: 0.2616 - raw_multi_label_accuracy: 0.7094 - val_loss: 0.9141 - val_raw_multi_label_accuracy: 0.2775\n",
      "Epoch 70/1000\n",
      " - 1s - loss: 0.2587 - raw_multi_label_accuracy: 0.7075 - val_loss: 0.9451 - val_raw_multi_label_accuracy: 0.2649\n",
      "Epoch 71/1000\n",
      " - 2s - loss: 0.2568 - raw_multi_label_accuracy: 0.7180 - val_loss: 0.8904 - val_raw_multi_label_accuracy: 0.2760\n",
      "Epoch 72/1000\n",
      " - 2s - loss: 0.2551 - raw_multi_label_accuracy: 0.7214 - val_loss: 0.9749 - val_raw_multi_label_accuracy: 0.2758\n",
      "Epoch 73/1000\n",
      " - 1s - loss: 0.2557 - raw_multi_label_accuracy: 0.7243 - val_loss: 0.9714 - val_raw_multi_label_accuracy: 0.2783\n",
      "Epoch 74/1000\n",
      " - 1s - loss: 0.2560 - raw_multi_label_accuracy: 0.7175 - val_loss: 0.9532 - val_raw_multi_label_accuracy: 0.2821\n",
      "Epoch 75/1000\n",
      " - 1s - loss: 0.2504 - raw_multi_label_accuracy: 0.7225 - val_loss: 0.9707 - val_raw_multi_label_accuracy: 0.2768\n",
      "Epoch 76/1000\n",
      " - 2s - loss: 0.2474 - raw_multi_label_accuracy: 0.7226 - val_loss: 0.9878 - val_raw_multi_label_accuracy: 0.2780\n",
      "Epoch 77/1000\n",
      " - 2s - loss: 0.2472 - raw_multi_label_accuracy: 0.7307 - val_loss: 1.0363 - val_raw_multi_label_accuracy: 0.2778\n",
      "Epoch 78/1000\n",
      " - 1s - loss: 0.2443 - raw_multi_label_accuracy: 0.7434 - val_loss: 1.0107 - val_raw_multi_label_accuracy: 0.2715\n",
      "Epoch 79/1000\n",
      " - 1s - loss: 0.2460 - raw_multi_label_accuracy: 0.7299 - val_loss: 0.9071 - val_raw_multi_label_accuracy: 0.2802\n",
      "Epoch 80/1000\n",
      " - 1s - loss: 0.2440 - raw_multi_label_accuracy: 0.7407 - val_loss: 1.0513 - val_raw_multi_label_accuracy: 0.2665\n",
      "Epoch 81/1000\n",
      " - 1s - loss: 0.2425 - raw_multi_label_accuracy: 0.7401 - val_loss: 1.0039 - val_raw_multi_label_accuracy: 0.2669\n",
      "Epoch 82/1000\n",
      " - 1s - loss: 0.2370 - raw_multi_label_accuracy: 0.7384 - val_loss: 1.0697 - val_raw_multi_label_accuracy: 0.2664\n",
      "Epoch 83/1000\n",
      " - 1s - loss: 0.2390 - raw_multi_label_accuracy: 0.7372 - val_loss: 1.0481 - val_raw_multi_label_accuracy: 0.2801\n",
      "Epoch 84/1000\n",
      " - 1s - loss: 0.2390 - raw_multi_label_accuracy: 0.7306 - val_loss: 1.0257 - val_raw_multi_label_accuracy: 0.2675\n",
      "Epoch 85/1000\n",
      " - 2s - loss: 0.2350 - raw_multi_label_accuracy: 0.7543 - val_loss: 1.0518 - val_raw_multi_label_accuracy: 0.2729\n",
      "Epoch 86/1000\n",
      " - 1s - loss: 0.2374 - raw_multi_label_accuracy: 0.7480 - val_loss: 1.0208 - val_raw_multi_label_accuracy: 0.2667\n",
      "Epoch 87/1000\n",
      " - 1s - loss: 0.2341 - raw_multi_label_accuracy: 0.7402 - val_loss: 0.9737 - val_raw_multi_label_accuracy: 0.2770\n",
      "Epoch 88/1000\n",
      " - 2s - loss: 0.2311 - raw_multi_label_accuracy: 0.7592 - val_loss: 1.0999 - val_raw_multi_label_accuracy: 0.2680\n",
      "Epoch 89/1000\n",
      " - 2s - loss: 0.2306 - raw_multi_label_accuracy: 0.7523 - val_loss: 1.0803 - val_raw_multi_label_accuracy: 0.2716\n",
      "Epoch 90/1000\n",
      " - 2s - loss: 0.2334 - raw_multi_label_accuracy: 0.7491 - val_loss: 1.0161 - val_raw_multi_label_accuracy: 0.2798\n",
      "Epoch 91/1000\n",
      " - 2s - loss: 0.2285 - raw_multi_label_accuracy: 0.7543 - val_loss: 1.0537 - val_raw_multi_label_accuracy: 0.2773\n",
      "Epoch 92/1000\n",
      " - 1s - loss: 0.2248 - raw_multi_label_accuracy: 0.7542 - val_loss: 1.1045 - val_raw_multi_label_accuracy: 0.2772\n",
      "Epoch 93/1000\n",
      " - 1s - loss: 0.2279 - raw_multi_label_accuracy: 0.7536 - val_loss: 1.0558 - val_raw_multi_label_accuracy: 0.2765\n",
      "Epoch 94/1000\n",
      " - 2s - loss: 0.2228 - raw_multi_label_accuracy: 0.7574 - val_loss: 1.1073 - val_raw_multi_label_accuracy: 0.2796\n",
      "Epoch 95/1000\n",
      " - 2s - loss: 0.2231 - raw_multi_label_accuracy: 0.7685 - val_loss: 1.0745 - val_raw_multi_label_accuracy: 0.2839\n",
      "Epoch 96/1000\n",
      " - 2s - loss: 0.2234 - raw_multi_label_accuracy: 0.7600 - val_loss: 1.0494 - val_raw_multi_label_accuracy: 0.2783\n",
      "Epoch 97/1000\n",
      " - 1s - loss: 0.2221 - raw_multi_label_accuracy: 0.7557 - val_loss: 1.0524 - val_raw_multi_label_accuracy: 0.2828\n",
      "Epoch 98/1000\n",
      " - 2s - loss: 0.2181 - raw_multi_label_accuracy: 0.7583 - val_loss: 1.1243 - val_raw_multi_label_accuracy: 0.2709\n",
      "Epoch 99/1000\n",
      " - 1s - loss: 0.2187 - raw_multi_label_accuracy: 0.7608 - val_loss: 1.1247 - val_raw_multi_label_accuracy: 0.2761\n",
      "Epoch 100/1000\n",
      " - 2s - loss: 0.2187 - raw_multi_label_accuracy: 0.7645 - val_loss: 1.0946 - val_raw_multi_label_accuracy: 0.2742\n",
      "Epoch 101/1000\n",
      " - 2s - loss: 0.2138 - raw_multi_label_accuracy: 0.7756 - val_loss: 1.1186 - val_raw_multi_label_accuracy: 0.2743\n",
      "Epoch 102/1000\n",
      " - 1s - loss: 0.2181 - raw_multi_label_accuracy: 0.7494 - val_loss: 1.0667 - val_raw_multi_label_accuracy: 0.2823\n",
      "Epoch 103/1000\n",
      " - 1s - loss: 0.2136 - raw_multi_label_accuracy: 0.7612 - val_loss: 1.1093 - val_raw_multi_label_accuracy: 0.2753\n",
      "Epoch 104/1000\n",
      " - 1s - loss: 0.2112 - raw_multi_label_accuracy: 0.7690 - val_loss: 1.0806 - val_raw_multi_label_accuracy: 0.2854\n",
      "Epoch 105/1000\n",
      " - 1s - loss: 0.2134 - raw_multi_label_accuracy: 0.7807 - val_loss: 1.0986 - val_raw_multi_label_accuracy: 0.2859\n",
      "Epoch 106/1000\n",
      " - 1s - loss: 0.2142 - raw_multi_label_accuracy: 0.7625 - val_loss: 1.1154 - val_raw_multi_label_accuracy: 0.2850\n",
      "Epoch 107/1000\n",
      " - 1s - loss: 0.2113 - raw_multi_label_accuracy: 0.7695 - val_loss: 1.1246 - val_raw_multi_label_accuracy: 0.2763\n",
      "Epoch 108/1000\n",
      " - 1s - loss: 0.2108 - raw_multi_label_accuracy: 0.7706 - val_loss: 1.1165 - val_raw_multi_label_accuracy: 0.2757\n",
      "Epoch 109/1000\n",
      " - 2s - loss: 0.2089 - raw_multi_label_accuracy: 0.7777 - val_loss: 1.1796 - val_raw_multi_label_accuracy: 0.2718\n",
      "Epoch 110/1000\n",
      " - 2s - loss: 0.2087 - raw_multi_label_accuracy: 0.7757 - val_loss: 1.1538 - val_raw_multi_label_accuracy: 0.2734\n",
      "Epoch 111/1000\n",
      " - 2s - loss: 0.2067 - raw_multi_label_accuracy: 0.7750 - val_loss: 1.1588 - val_raw_multi_label_accuracy: 0.2850\n",
      "Epoch 112/1000\n",
      " - 1s - loss: 0.2097 - raw_multi_label_accuracy: 0.7714 - val_loss: 1.1474 - val_raw_multi_label_accuracy: 0.2811\n",
      "Epoch 113/1000\n",
      " - 2s - loss: 0.2052 - raw_multi_label_accuracy: 0.7789 - val_loss: 1.2241 - val_raw_multi_label_accuracy: 0.2751\n",
      "Epoch 114/1000\n",
      " - 1s - loss: 0.2037 - raw_multi_label_accuracy: 0.7779 - val_loss: 1.1689 - val_raw_multi_label_accuracy: 0.2808\n",
      "Epoch 115/1000\n",
      " - 2s - loss: 0.2040 - raw_multi_label_accuracy: 0.7764 - val_loss: 1.2350 - val_raw_multi_label_accuracy: 0.2743\n",
      "Epoch 116/1000\n",
      " - 2s - loss: 0.2075 - raw_multi_label_accuracy: 0.7663 - val_loss: 1.2350 - val_raw_multi_label_accuracy: 0.2798\n",
      "Epoch 117/1000\n",
      " - 2s - loss: 0.2031 - raw_multi_label_accuracy: 0.7773 - val_loss: 1.1677 - val_raw_multi_label_accuracy: 0.2817\n",
      "Epoch 118/1000\n",
      " - 1s - loss: 0.2033 - raw_multi_label_accuracy: 0.7742 - val_loss: 1.2055 - val_raw_multi_label_accuracy: 0.2740\n",
      "Epoch 119/1000\n",
      " - 2s - loss: 0.2053 - raw_multi_label_accuracy: 0.7718 - val_loss: 1.1541 - val_raw_multi_label_accuracy: 0.2908\n",
      "Epoch 120/1000\n",
      " - 2s - loss: 0.2002 - raw_multi_label_accuracy: 0.7818 - val_loss: 1.1176 - val_raw_multi_label_accuracy: 0.2943\n",
      "Epoch 121/1000\n",
      " - 2s - loss: 0.2028 - raw_multi_label_accuracy: 0.7735 - val_loss: 1.1485 - val_raw_multi_label_accuracy: 0.2864\n",
      "Epoch 122/1000\n",
      " - 1s - loss: 0.1996 - raw_multi_label_accuracy: 0.7848 - val_loss: 1.2078 - val_raw_multi_label_accuracy: 0.2821\n",
      "Epoch 123/1000\n",
      " - 1s - loss: 0.2034 - raw_multi_label_accuracy: 0.7739 - val_loss: 1.1955 - val_raw_multi_label_accuracy: 0.2711\n",
      "Epoch 124/1000\n",
      " - 2s - loss: 0.1998 - raw_multi_label_accuracy: 0.7769 - val_loss: 1.1546 - val_raw_multi_label_accuracy: 0.2733\n",
      "Epoch 125/1000\n",
      " - 1s - loss: 0.1984 - raw_multi_label_accuracy: 0.7827 - val_loss: 1.2084 - val_raw_multi_label_accuracy: 0.2897\n",
      "Epoch 126/1000\n",
      " - 1s - loss: 0.2025 - raw_multi_label_accuracy: 0.7828 - val_loss: 1.1843 - val_raw_multi_label_accuracy: 0.2796\n",
      "Epoch 127/1000\n",
      " - 2s - loss: 0.1945 - raw_multi_label_accuracy: 0.7889 - val_loss: 1.2090 - val_raw_multi_label_accuracy: 0.2875\n",
      "Epoch 128/1000\n",
      " - 2s - loss: 0.1957 - raw_multi_label_accuracy: 0.7731 - val_loss: 1.1525 - val_raw_multi_label_accuracy: 0.2905\n"
     ]
    },
    {
     "name": "stdout",
     "output_type": "stream",
     "text": [
      "Epoch 129/1000\n",
      " - 2s - loss: 0.1945 - raw_multi_label_accuracy: 0.7832 - val_loss: 1.2242 - val_raw_multi_label_accuracy: 0.2714\n",
      "Epoch 130/1000\n",
      " - 1s - loss: 0.1926 - raw_multi_label_accuracy: 0.7861 - val_loss: 1.2263 - val_raw_multi_label_accuracy: 0.2771\n",
      "Epoch 131/1000\n",
      " - 1s - loss: 0.1949 - raw_multi_label_accuracy: 0.7812 - val_loss: 1.2372 - val_raw_multi_label_accuracy: 0.2847\n",
      "Epoch 132/1000\n",
      " - 1s - loss: 0.1946 - raw_multi_label_accuracy: 0.7791 - val_loss: 1.2212 - val_raw_multi_label_accuracy: 0.2941\n",
      "Epoch 133/1000\n",
      " - 1s - loss: 0.1940 - raw_multi_label_accuracy: 0.7835 - val_loss: 1.2755 - val_raw_multi_label_accuracy: 0.2794\n",
      "Epoch 134/1000\n",
      " - 2s - loss: 0.1926 - raw_multi_label_accuracy: 0.7855 - val_loss: 1.3151 - val_raw_multi_label_accuracy: 0.2785\n",
      "Epoch 135/1000\n",
      " - 1s - loss: 0.1938 - raw_multi_label_accuracy: 0.7880 - val_loss: 1.1944 - val_raw_multi_label_accuracy: 0.2929\n",
      "Epoch 136/1000\n",
      " - 1s - loss: 0.1902 - raw_multi_label_accuracy: 0.7866 - val_loss: 1.2296 - val_raw_multi_label_accuracy: 0.2758\n",
      "Epoch 137/1000\n",
      " - 1s - loss: 0.1905 - raw_multi_label_accuracy: 0.7889 - val_loss: 1.2248 - val_raw_multi_label_accuracy: 0.2810\n",
      "Epoch 138/1000\n",
      " - 1s - loss: 0.1871 - raw_multi_label_accuracy: 0.7871 - val_loss: 1.2470 - val_raw_multi_label_accuracy: 0.2797\n",
      "Epoch 139/1000\n",
      " - 1s - loss: 0.1897 - raw_multi_label_accuracy: 0.7842 - val_loss: 1.2114 - val_raw_multi_label_accuracy: 0.3014\n",
      "Epoch 140/1000\n",
      " - 1s - loss: 0.1889 - raw_multi_label_accuracy: 0.7930 - val_loss: 1.2212 - val_raw_multi_label_accuracy: 0.2879\n",
      "Epoch 141/1000\n",
      " - 1s - loss: 0.1899 - raw_multi_label_accuracy: 0.7884 - val_loss: 1.3195 - val_raw_multi_label_accuracy: 0.2735\n",
      "Epoch 142/1000\n",
      " - 1s - loss: 0.1900 - raw_multi_label_accuracy: 0.7788 - val_loss: 1.2588 - val_raw_multi_label_accuracy: 0.2751\n",
      "Epoch 143/1000\n",
      " - 1s - loss: 0.1918 - raw_multi_label_accuracy: 0.7864 - val_loss: 1.2421 - val_raw_multi_label_accuracy: 0.2920\n",
      "Epoch 144/1000\n",
      " - 1s - loss: 0.1860 - raw_multi_label_accuracy: 0.7985 - val_loss: 1.2493 - val_raw_multi_label_accuracy: 0.2888\n",
      "Epoch 145/1000\n",
      " - 1s - loss: 0.1888 - raw_multi_label_accuracy: 0.7905 - val_loss: 1.2781 - val_raw_multi_label_accuracy: 0.2822\n",
      "Epoch 146/1000\n",
      " - 1s - loss: 0.1856 - raw_multi_label_accuracy: 0.7938 - val_loss: 1.3442 - val_raw_multi_label_accuracy: 0.2712\n",
      "Epoch 147/1000\n",
      " - 1s - loss: 0.1853 - raw_multi_label_accuracy: 0.7915 - val_loss: 1.2378 - val_raw_multi_label_accuracy: 0.2986\n",
      "Epoch 148/1000\n",
      " - 1s - loss: 0.1818 - raw_multi_label_accuracy: 0.7978 - val_loss: 1.2386 - val_raw_multi_label_accuracy: 0.2963\n",
      "Epoch 149/1000\n",
      " - 1s - loss: 0.1871 - raw_multi_label_accuracy: 0.7948 - val_loss: 1.2487 - val_raw_multi_label_accuracy: 0.2933\n",
      "Epoch 150/1000\n",
      " - 1s - loss: 0.1863 - raw_multi_label_accuracy: 0.7905 - val_loss: 1.2740 - val_raw_multi_label_accuracy: 0.2774\n",
      "Epoch 151/1000\n",
      " - 1s - loss: 0.1868 - raw_multi_label_accuracy: 0.7917 - val_loss: 1.2711 - val_raw_multi_label_accuracy: 0.2995\n",
      "Epoch 152/1000\n",
      " - 1s - loss: 0.1849 - raw_multi_label_accuracy: 0.7962 - val_loss: 1.2870 - val_raw_multi_label_accuracy: 0.2894\n",
      "Epoch 153/1000\n",
      " - 1s - loss: 0.1850 - raw_multi_label_accuracy: 0.7896 - val_loss: 1.3406 - val_raw_multi_label_accuracy: 0.2872\n",
      "Epoch 154/1000\n",
      " - 1s - loss: 0.1873 - raw_multi_label_accuracy: 0.7914 - val_loss: 1.3270 - val_raw_multi_label_accuracy: 0.2760\n",
      "Epoch 155/1000\n",
      " - 1s - loss: 0.1824 - raw_multi_label_accuracy: 0.7969 - val_loss: 1.3140 - val_raw_multi_label_accuracy: 0.2988\n",
      "Epoch 156/1000\n",
      " - 1s - loss: 0.1823 - raw_multi_label_accuracy: 0.7982 - val_loss: 1.3005 - val_raw_multi_label_accuracy: 0.2861\n",
      "Epoch 157/1000\n",
      " - 1s - loss: 0.1836 - raw_multi_label_accuracy: 0.7997 - val_loss: 1.2855 - val_raw_multi_label_accuracy: 0.2996\n",
      "Epoch 158/1000\n",
      " - 1s - loss: 0.1826 - raw_multi_label_accuracy: 0.7943 - val_loss: 1.2976 - val_raw_multi_label_accuracy: 0.3040\n",
      "Epoch 159/1000\n",
      " - 1s - loss: 0.1796 - raw_multi_label_accuracy: 0.8005 - val_loss: 1.4046 - val_raw_multi_label_accuracy: 0.2786\n",
      "Epoch 160/1000\n",
      " - 1s - loss: 0.1819 - raw_multi_label_accuracy: 0.8020 - val_loss: 1.3353 - val_raw_multi_label_accuracy: 0.2956\n",
      "Epoch 161/1000\n",
      " - 1s - loss: 0.1808 - raw_multi_label_accuracy: 0.8055 - val_loss: 1.3258 - val_raw_multi_label_accuracy: 0.2826\n",
      "Epoch 162/1000\n",
      " - 1s - loss: 0.1780 - raw_multi_label_accuracy: 0.8112 - val_loss: 1.2880 - val_raw_multi_label_accuracy: 0.2845\n",
      "Epoch 163/1000\n",
      " - 1s - loss: 0.1762 - raw_multi_label_accuracy: 0.8081 - val_loss: 1.3350 - val_raw_multi_label_accuracy: 0.2855\n",
      "Epoch 164/1000\n",
      " - 1s - loss: 0.1790 - raw_multi_label_accuracy: 0.8070 - val_loss: 1.3806 - val_raw_multi_label_accuracy: 0.2895\n",
      "Epoch 165/1000\n",
      " - 1s - loss: 0.1751 - raw_multi_label_accuracy: 0.8012 - val_loss: 1.3237 - val_raw_multi_label_accuracy: 0.2916\n",
      "Epoch 166/1000\n",
      " - 1s - loss: 0.1779 - raw_multi_label_accuracy: 0.8048 - val_loss: 1.3211 - val_raw_multi_label_accuracy: 0.2827\n",
      "Epoch 167/1000\n",
      " - 1s - loss: 0.1741 - raw_multi_label_accuracy: 0.8101 - val_loss: 1.3024 - val_raw_multi_label_accuracy: 0.2958\n",
      "Epoch 168/1000\n",
      " - 1s - loss: 0.1790 - raw_multi_label_accuracy: 0.8018 - val_loss: 1.3516 - val_raw_multi_label_accuracy: 0.2885\n",
      "Epoch 169/1000\n",
      " - 1s - loss: 0.1765 - raw_multi_label_accuracy: 0.8078 - val_loss: 1.4858 - val_raw_multi_label_accuracy: 0.2785\n",
      "Epoch 170/1000\n",
      " - 1s - loss: 0.1740 - raw_multi_label_accuracy: 0.8070 - val_loss: 1.3544 - val_raw_multi_label_accuracy: 0.3085\n",
      "Epoch 171/1000\n",
      " - 1s - loss: 0.1796 - raw_multi_label_accuracy: 0.8032 - val_loss: 1.3307 - val_raw_multi_label_accuracy: 0.3015\n",
      "Epoch 172/1000\n",
      " - 1s - loss: 0.1718 - raw_multi_label_accuracy: 0.8118 - val_loss: 1.4189 - val_raw_multi_label_accuracy: 0.2810\n",
      "Epoch 173/1000\n",
      " - 1s - loss: 0.1721 - raw_multi_label_accuracy: 0.8090 - val_loss: 1.3560 - val_raw_multi_label_accuracy: 0.2996\n",
      "Epoch 174/1000\n",
      " - 1s - loss: 0.1731 - raw_multi_label_accuracy: 0.8057 - val_loss: 1.2737 - val_raw_multi_label_accuracy: 0.2901\n",
      "Epoch 175/1000\n",
      " - 1s - loss: 0.1706 - raw_multi_label_accuracy: 0.8186 - val_loss: 1.3368 - val_raw_multi_label_accuracy: 0.2878\n",
      "Epoch 176/1000\n",
      " - 1s - loss: 0.1704 - raw_multi_label_accuracy: 0.8153 - val_loss: 1.4890 - val_raw_multi_label_accuracy: 0.2901\n",
      "Epoch 177/1000\n",
      " - 1s - loss: 0.1754 - raw_multi_label_accuracy: 0.8087 - val_loss: 1.3739 - val_raw_multi_label_accuracy: 0.2903\n",
      "Epoch 178/1000\n",
      " - 1s - loss: 0.1755 - raw_multi_label_accuracy: 0.8100 - val_loss: 1.2749 - val_raw_multi_label_accuracy: 0.3027\n",
      "Epoch 179/1000\n",
      " - 2s - loss: 0.1742 - raw_multi_label_accuracy: 0.8034 - val_loss: 1.3436 - val_raw_multi_label_accuracy: 0.2831\n",
      "Epoch 180/1000\n",
      " - 1s - loss: 0.1708 - raw_multi_label_accuracy: 0.8214 - val_loss: 1.3697 - val_raw_multi_label_accuracy: 0.2964\n",
      "Epoch 181/1000\n",
      " - 1s - loss: 0.1711 - raw_multi_label_accuracy: 0.8144 - val_loss: 1.3143 - val_raw_multi_label_accuracy: 0.3001\n",
      "Epoch 182/1000\n",
      " - 1s - loss: 0.1747 - raw_multi_label_accuracy: 0.8120 - val_loss: 1.3515 - val_raw_multi_label_accuracy: 0.2886\n",
      "Epoch 183/1000\n",
      " - 1s - loss: 0.1726 - raw_multi_label_accuracy: 0.8131 - val_loss: 1.3143 - val_raw_multi_label_accuracy: 0.3028\n",
      "Epoch 184/1000\n",
      " - 1s - loss: 0.1707 - raw_multi_label_accuracy: 0.8207 - val_loss: 1.3031 - val_raw_multi_label_accuracy: 0.2960\n",
      "Epoch 185/1000\n",
      " - 1s - loss: 0.1677 - raw_multi_label_accuracy: 0.8187 - val_loss: 1.4234 - val_raw_multi_label_accuracy: 0.2991\n",
      "Epoch 186/1000\n",
      " - 2s - loss: 0.1727 - raw_multi_label_accuracy: 0.8080 - val_loss: 1.3800 - val_raw_multi_label_accuracy: 0.2889\n",
      "Epoch 187/1000\n",
      " - 1s - loss: 0.1722 - raw_multi_label_accuracy: 0.8160 - val_loss: 1.3597 - val_raw_multi_label_accuracy: 0.3003\n",
      "Epoch 188/1000\n",
      " - 1s - loss: 0.1683 - raw_multi_label_accuracy: 0.8148 - val_loss: 1.3825 - val_raw_multi_label_accuracy: 0.2921\n",
      "Epoch 189/1000\n",
      " - 1s - loss: 0.1692 - raw_multi_label_accuracy: 0.8176 - val_loss: 1.3651 - val_raw_multi_label_accuracy: 0.3138\n",
      "Epoch 190/1000\n",
      " - 1s - loss: 0.1667 - raw_multi_label_accuracy: 0.8142 - val_loss: 1.3585 - val_raw_multi_label_accuracy: 0.2845\n",
      "Epoch 191/1000\n",
      " - 1s - loss: 0.1635 - raw_multi_label_accuracy: 0.8213 - val_loss: 1.3400 - val_raw_multi_label_accuracy: 0.3057\n",
      "Epoch 192/1000\n",
      " - 1s - loss: 0.1611 - raw_multi_label_accuracy: 0.8263 - val_loss: 1.4162 - val_raw_multi_label_accuracy: 0.2886\n"
     ]
    },
    {
     "name": "stdout",
     "output_type": "stream",
     "text": [
      "Epoch 193/1000\n",
      " - 1s - loss: 0.1686 - raw_multi_label_accuracy: 0.8203 - val_loss: 1.4048 - val_raw_multi_label_accuracy: 0.2814\n",
      "Epoch 194/1000\n",
      " - 1s - loss: 0.1686 - raw_multi_label_accuracy: 0.8213 - val_loss: 1.3168 - val_raw_multi_label_accuracy: 0.3007\n",
      "Epoch 195/1000\n",
      " - 1s - loss: 0.1660 - raw_multi_label_accuracy: 0.8194 - val_loss: 1.3244 - val_raw_multi_label_accuracy: 0.2947\n",
      "Epoch 196/1000\n",
      " - 2s - loss: 0.1662 - raw_multi_label_accuracy: 0.8267 - val_loss: 1.3243 - val_raw_multi_label_accuracy: 0.2979\n",
      "Epoch 197/1000\n",
      " - 1s - loss: 0.1645 - raw_multi_label_accuracy: 0.8224 - val_loss: 1.3643 - val_raw_multi_label_accuracy: 0.2962\n",
      "Epoch 198/1000\n",
      " - 1s - loss: 0.1634 - raw_multi_label_accuracy: 0.8225 - val_loss: 1.4092 - val_raw_multi_label_accuracy: 0.3021\n",
      "Epoch 199/1000\n",
      " - 1s - loss: 0.1609 - raw_multi_label_accuracy: 0.8157 - val_loss: 1.4711 - val_raw_multi_label_accuracy: 0.2796\n",
      "Epoch 200/1000\n",
      " - 1s - loss: 0.1665 - raw_multi_label_accuracy: 0.8165 - val_loss: 1.3603 - val_raw_multi_label_accuracy: 0.2924\n",
      "Epoch 201/1000\n",
      " - 2s - loss: 0.1646 - raw_multi_label_accuracy: 0.8221 - val_loss: 1.2888 - val_raw_multi_label_accuracy: 0.3051\n",
      "Epoch 202/1000\n",
      " - 1s - loss: 0.1621 - raw_multi_label_accuracy: 0.8218 - val_loss: 1.3508 - val_raw_multi_label_accuracy: 0.2929\n",
      "Epoch 203/1000\n",
      " - 2s - loss: 0.1603 - raw_multi_label_accuracy: 0.8259 - val_loss: 1.3891 - val_raw_multi_label_accuracy: 0.2905\n"
     ]
    },
    {
     "data": {
      "text/plain": [
       "<keras.callbacks.History at 0x7fa8b8676780>"
      ]
     },
     "execution_count": 107,
     "metadata": {},
     "output_type": "execute_result"
    }
   ],
   "source": [
    "from keras.layers import Conv1D, GlobalMaxPooling1D\n",
    "from keras.models import Sequential\n",
    "from keras.layers import Dense, Dropout\n",
    "from keras.layers import Flatten\n",
    "from keras.layers.embeddings import Embedding\n",
    "from keras.regularizers import l2\n",
    "\n",
    "model_cnn = Sequential()\n",
    "e = Embedding(num_words_kept, word_vec_len, weights=[embedding_matrix], input_length=max_seq_len, trainable=True)\n",
    "#e = Embedding(num_words_kept, word_vec_len, input_length=max_seq_len, trainable=True)\n",
    "model_cnn.add(e)\n",
    "model_cnn.add(Conv1D(filters=50, kernel_size=2, padding='valid', activation='relu', strides=1))\n",
    "model_cnn.add(GlobalMaxPooling1D())\n",
    "model_cnn.add(Dense(256, activation='relu', kernel_regularizer=l2(0.01)))\n",
    "model_cnn.add(Dropout(.5))\n",
    "model_cnn.add(Dense(50, activation='relu', kernel_regularizer=l2(0.01)))\n",
    "model_cnn.add(Dropout(.5))\n",
    "model_cnn.add(Dense(len(genre_dict), activation='sigmoid'))\n",
    "model_cnn.compile(loss='binary_crossentropy', optimizer='adam', metrics=[raw_multi_label_accuracy])\n",
    "#model_cnn_01.fit(x_train_seq, y_train, validation_data=(x_val_seq, y_validation), epochs=5, batch_size=32, verbose=2)\n",
    "model_cnn.fit(x_train_seq, y_train, validation_split = .1, callbacks = [DelayedEarlyStopping(monitor = 'val_raw_multi_label_accuracy', patience = 5, delay=200)], epochs=1000, batch_size=100, verbose=2)"
   ]
  },
  {
   "cell_type": "code",
   "execution_count": 108,
   "metadata": {},
   "outputs": [],
   "source": [
    "def nn_output_to_predictions(res):\n",
    "    label_predictions = []\n",
    "    for i in range(res.shape[0]):\n",
    "        pred = [0]*len(genre_dict)\n",
    "        for j in range(res.shape[1]):\n",
    "            if res[i][j] >= .5:\n",
    "                pred[j] = 1\n",
    "        label_predictions.append(pred)\n",
    "    return np.array(label_predictions)"
   ]
  },
  {
   "cell_type": "code",
   "execution_count": 109,
   "metadata": {},
   "outputs": [],
   "source": [
    "predictions = nn_output_to_predictions(model_cnn.predict(x_test_seq))"
   ]
  },
  {
   "cell_type": "code",
   "execution_count": 110,
   "metadata": {},
   "outputs": [
    {
     "data": {
      "text/plain": [
       "187"
      ]
     },
     "execution_count": 110,
     "metadata": {},
     "output_type": "execute_result"
    }
   ],
   "source": [
    "y_test[:,0].sum()"
   ]
  },
  {
   "cell_type": "code",
   "execution_count": 111,
   "metadata": {},
   "outputs": [
    {
     "data": {
      "text/plain": [
       "273"
      ]
     },
     "execution_count": 111,
     "metadata": {},
     "output_type": "execute_result"
    }
   ],
   "source": [
    "predictions[:,0].sum()"
   ]
  },
  {
   "cell_type": "code",
   "execution_count": 112,
   "metadata": {},
   "outputs": [
    {
     "data": {
      "text/plain": [
       "array([1, 0, 1, 0, 0])"
      ]
     },
     "execution_count": 112,
     "metadata": {},
     "output_type": "execute_result"
    }
   ],
   "source": [
    "predictions[0]"
   ]
  },
  {
   "cell_type": "code",
   "execution_count": 113,
   "metadata": {},
   "outputs": [
    {
     "data": {
      "text/plain": [
       "0.36849551414768833"
      ]
     },
     "execution_count": 113,
     "metadata": {},
     "output_type": "execute_result"
    }
   ],
   "source": [
    "multi_label_accuracy(y_test, predictions)"
   ]
  },
  {
   "cell_type": "code",
   "execution_count": 114,
   "metadata": {},
   "outputs": [
    {
     "data": {
      "text/plain": [
       "0.4861702127659575"
      ]
     },
     "execution_count": 114,
     "metadata": {},
     "output_type": "execute_result"
    }
   ],
   "source": [
    "multi_label_precision(y_test, predictions)"
   ]
  },
  {
   "cell_type": "code",
   "execution_count": 115,
   "metadata": {},
   "outputs": [
    {
     "data": {
      "text/plain": [
       "0.4801587301587302"
      ]
     },
     "execution_count": 115,
     "metadata": {},
     "output_type": "execute_result"
    }
   ],
   "source": [
    "multi_label_recall(y_test, predictions)"
   ]
  },
  {
   "cell_type": "code",
   "execution_count": 116,
   "metadata": {},
   "outputs": [
    {
     "name": "stdout",
     "output_type": "stream",
     "text": [
      "Percent of correctly decided label decisions: 66.45962732919256\n"
     ]
    }
   ],
   "source": [
    "print(\"Percent of correctly decided label decisions: \" + str(100* (1-hamming_loss(y_test, predictions))))"
   ]
  },
  {
   "cell_type": "code",
   "execution_count": 117,
   "metadata": {},
   "outputs": [
    {
     "name": "stdout",
     "output_type": "stream",
     "text": [
      "Accuruacy for Action-Adventure: 0.556935817805383\n",
      "Precision for Action-Adventure: 0.45054945054945056\n",
      "Recall for Action-Adventure: 0.6577540106951871\n",
      "\n",
      "Accuruacy for Romance: 0.7619047619047619\n",
      "Precision for Romance: 0.4117647058823529\n",
      "Recall for Romance: 0.19811320754716982\n",
      "\n",
      "Accuruacy for Horror-Thriller: 0.5755693581780539\n",
      "Precision for Horror-Thriller: 0.4723404255319149\n",
      "Recall for Horror-Thriller: 0.578125\n",
      "\n",
      "Accuruacy for Comedy: 0.5942028985507246\n",
      "Precision for Comedy: 0.5521472392638037\n",
      "Recall for Comedy: 0.4225352112676056\n",
      "\n",
      "Accuruacy for Science Fiction: 0.8343685300207039\n",
      "Precision for Science Fiction: 0.2\n",
      "Recall for Science Fiction: 0.14285714285714285\n",
      "\n"
     ]
    }
   ],
   "source": [
    "get_per_label_metrics(y_test, predictions)"
   ]
  },
  {
   "cell_type": "markdown",
   "metadata": {},
   "source": [
    "CNN but with multiple filter sizes so we don't just filter on group of words at a time"
   ]
  },
  {
   "cell_type": "code",
   "execution_count": 120,
   "metadata": {},
   "outputs": [],
   "source": [
    "from keras.layers import Input, Dense, concatenate, Activation\n",
    "from keras.models import Model\n",
    "\n",
    "model_input = Input(shape=(max_seq_len,), dtype='int32')\n",
    "\n",
    "e = Embedding(num_words_kept, word_vec_len, weights=[embedding_matrix], input_length=max_seq_len, trainable=True)(model_input)\n",
    "two_word_filter = Conv1D(filters=100, kernel_size=2, padding='valid', activation='relu', strides=1)(e)\n",
    "two_word_filter = GlobalMaxPooling1D()(two_word_filter)\n",
    "three_word_filter = Conv1D(filters=100, kernel_size=3, padding='valid', activation='relu', strides=1)(e)\n",
    "three_word_filter = GlobalMaxPooling1D()(three_word_filter)\n",
    "four_word_filter = Conv1D(filters=100, kernel_size=4, padding='valid', activation='relu', strides=1)(e)\n",
    "four_word_filter = GlobalMaxPooling1D()(four_word_filter)\n",
    "merged = concatenate([two_word_filter, three_word_filter, four_word_filter], axis=1)\n",
    "\n",
    "merged = Dense(256, activation='relu', kernel_regularizer=l2(0.01))(merged)\n",
    "merged = Dropout(0.5)(merged)\n",
    "merged = Dense(len(genre_dict))(merged)\n",
    "output = Activation('sigmoid')(merged)\n",
    "model = Model(inputs=[model_input], outputs=[output])\n",
    "model.compile(loss='binary_crossentropy', optimizer='adam', metrics=[raw_multi_label_accuracy])"
   ]
  },
  {
   "cell_type": "code",
   "execution_count": 121,
   "metadata": {},
   "outputs": [
    {
     "name": "stdout",
     "output_type": "stream",
     "text": [
      "Train on 1738 samples, validate on 194 samples\n",
      "Epoch 1/1000\n",
      " - 5s - loss: 2.8998 - raw_multi_label_accuracy: 0.0729 - val_loss: 2.3065 - val_raw_multi_label_accuracy: 0.0000e+00\n",
      "Epoch 2/1000\n",
      " - 4s - loss: 1.9396 - raw_multi_label_accuracy: 0.0403 - val_loss: 1.5543 - val_raw_multi_label_accuracy: 0.0000e+00\n",
      "Epoch 3/1000\n",
      " - 4s - loss: 1.3356 - raw_multi_label_accuracy: 0.0406 - val_loss: 1.1050 - val_raw_multi_label_accuracy: 0.0000e+00\n",
      "Epoch 4/1000\n",
      " - 4s - loss: 0.9876 - raw_multi_label_accuracy: 0.0147 - val_loss: 0.8601 - val_raw_multi_label_accuracy: 0.0000e+00\n",
      "Epoch 5/1000\n",
      " - 4s - loss: 0.7961 - raw_multi_label_accuracy: 0.0416 - val_loss: 0.7256 - val_raw_multi_label_accuracy: 0.0000e+00\n",
      "Epoch 6/1000\n",
      " - 4s - loss: 0.6933 - raw_multi_label_accuracy: 0.0333 - val_loss: 0.6593 - val_raw_multi_label_accuracy: 0.0000e+00\n",
      "Epoch 7/1000\n",
      " - 4s - loss: 0.6398 - raw_multi_label_accuracy: 0.0203 - val_loss: 0.6254 - val_raw_multi_label_accuracy: 0.0000e+00\n",
      "Epoch 8/1000\n",
      " - 5s - loss: 0.6034 - raw_multi_label_accuracy: 0.0475 - val_loss: 0.6047 - val_raw_multi_label_accuracy: 0.0000e+00\n",
      "Epoch 9/1000\n",
      " - 4s - loss: 0.5568 - raw_multi_label_accuracy: 0.2171 - val_loss: 0.6023 - val_raw_multi_label_accuracy: 0.0677\n",
      "Epoch 10/1000\n",
      " - 4s - loss: 0.4798 - raw_multi_label_accuracy: 0.4652 - val_loss: 0.6019 - val_raw_multi_label_accuracy: 0.1483\n",
      "Epoch 11/1000\n",
      " - 4s - loss: 0.4338 - raw_multi_label_accuracy: 0.5278 - val_loss: 0.5937 - val_raw_multi_label_accuracy: 0.1662\n",
      "Epoch 12/1000\n",
      " - 4s - loss: 0.4122 - raw_multi_label_accuracy: 0.5197 - val_loss: 0.5831 - val_raw_multi_label_accuracy: 0.1705\n",
      "Epoch 13/1000\n",
      " - 4s - loss: 0.4002 - raw_multi_label_accuracy: 0.5338 - val_loss: 0.5967 - val_raw_multi_label_accuracy: 0.1528\n",
      "Epoch 14/1000\n",
      " - 4s - loss: 0.3863 - raw_multi_label_accuracy: 0.5355 - val_loss: 0.5883 - val_raw_multi_label_accuracy: 0.1845\n",
      "Epoch 15/1000\n",
      " - 4s - loss: 0.3720 - raw_multi_label_accuracy: 0.5498 - val_loss: 0.5892 - val_raw_multi_label_accuracy: 0.2189\n",
      "Epoch 16/1000\n",
      " - 4s - loss: 0.3529 - raw_multi_label_accuracy: 0.5909 - val_loss: 0.6148 - val_raw_multi_label_accuracy: 0.1884\n",
      "Epoch 17/1000\n",
      " - 4s - loss: 0.3240 - raw_multi_label_accuracy: 0.6382 - val_loss: 0.6271 - val_raw_multi_label_accuracy: 0.2319\n",
      "Epoch 18/1000\n",
      " - 4s - loss: 0.2873 - raw_multi_label_accuracy: 0.7185 - val_loss: 0.6720 - val_raw_multi_label_accuracy: 0.2250\n",
      "Epoch 19/1000\n",
      " - 4s - loss: 0.2517 - raw_multi_label_accuracy: 0.7690 - val_loss: 0.6869 - val_raw_multi_label_accuracy: 0.2440\n",
      "Epoch 20/1000\n",
      " - 4s - loss: 0.2197 - raw_multi_label_accuracy: 0.8206 - val_loss: 0.7162 - val_raw_multi_label_accuracy: 0.2471\n",
      "Epoch 21/1000\n",
      " - 4s - loss: 0.1949 - raw_multi_label_accuracy: 0.8388 - val_loss: 0.7268 - val_raw_multi_label_accuracy: 0.2578\n",
      "Epoch 22/1000\n",
      " - 4s - loss: 0.1772 - raw_multi_label_accuracy: 0.8712 - val_loss: 0.7466 - val_raw_multi_label_accuracy: 0.2743\n",
      "Epoch 23/1000\n",
      " - 4s - loss: 0.1598 - raw_multi_label_accuracy: 0.8851 - val_loss: 0.7602 - val_raw_multi_label_accuracy: 0.2706\n",
      "Epoch 24/1000\n",
      " - 4s - loss: 0.1472 - raw_multi_label_accuracy: 0.8944 - val_loss: 0.7540 - val_raw_multi_label_accuracy: 0.2911\n",
      "Epoch 25/1000\n",
      " - 4s - loss: 0.1363 - raw_multi_label_accuracy: 0.9035 - val_loss: 0.7756 - val_raw_multi_label_accuracy: 0.2931\n",
      "Epoch 26/1000\n",
      " - 4s - loss: 0.1255 - raw_multi_label_accuracy: 0.9127 - val_loss: 0.7783 - val_raw_multi_label_accuracy: 0.2931\n",
      "Epoch 27/1000\n",
      " - 4s - loss: 0.1168 - raw_multi_label_accuracy: 0.9302 - val_loss: 0.8186 - val_raw_multi_label_accuracy: 0.2760\n",
      "Epoch 28/1000\n",
      " - 4s - loss: 0.1114 - raw_multi_label_accuracy: 0.9255 - val_loss: 0.8065 - val_raw_multi_label_accuracy: 0.2856\n",
      "Epoch 29/1000\n",
      " - 4s - loss: 0.1041 - raw_multi_label_accuracy: 0.9366 - val_loss: 0.8464 - val_raw_multi_label_accuracy: 0.3182\n"
     ]
    },
    {
     "data": {
      "text/plain": [
       "<keras.callbacks.History at 0x7fa88ef8e278>"
      ]
     },
     "execution_count": 121,
     "metadata": {},
     "output_type": "execute_result"
    }
   ],
   "source": [
    "model.fit(x_train_seq, y_train, validation_split = .1, callbacks = [DelayedEarlyStopping(monitor = 'val_raw_multi_label_accuracy', patience = 5, delay=25)], epochs=1000, batch_size=100, verbose=2)"
   ]
  },
  {
   "cell_type": "code",
   "execution_count": 122,
   "metadata": {},
   "outputs": [],
   "source": [
    "predictions = nn_output_to_predictions(model.predict(x_test_seq))"
   ]
  },
  {
   "cell_type": "code",
   "execution_count": 123,
   "metadata": {},
   "outputs": [
    {
     "data": {
      "text/plain": [
       "0.3887163561076607"
      ]
     },
     "execution_count": 123,
     "metadata": {},
     "output_type": "execute_result"
    }
   ],
   "source": [
    "multi_label_accuracy(y_test, predictions)"
   ]
  },
  {
   "cell_type": "code",
   "execution_count": 124,
   "metadata": {},
   "outputs": [
    {
     "data": {
      "text/plain": [
       "0.5672782874617737"
      ]
     },
     "execution_count": 124,
     "metadata": {},
     "output_type": "execute_result"
    }
   ],
   "source": [
    "multi_label_precision(y_test, predictions)"
   ]
  },
  {
   "cell_type": "code",
   "execution_count": 125,
   "metadata": {},
   "outputs": [
    {
     "data": {
      "text/plain": [
       "0.47066942719116645"
      ]
     },
     "execution_count": 125,
     "metadata": {},
     "output_type": "execute_result"
    }
   ],
   "source": [
    "multi_label_recall(y_test, predictions)"
   ]
  },
  {
   "cell_type": "code",
   "execution_count": 126,
   "metadata": {},
   "outputs": [
    {
     "name": "stdout",
     "output_type": "stream",
     "text": [
      "Percent of correctly decided label decisions: 71.01449275362319\n"
     ]
    }
   ],
   "source": [
    "print(\"Percent of correctly decided label decisions: \" + str(100* (1-hamming_loss(y_test, predictions))))"
   ]
  },
  {
   "cell_type": "code",
   "execution_count": 127,
   "metadata": {},
   "outputs": [
    {
     "name": "stdout",
     "output_type": "stream",
     "text": [
      "Accuruacy for Action-Adventure: 0.639751552795031\n",
      "Precision for Action-Adventure: 0.536723163841808\n",
      "Recall for Action-Adventure: 0.5080213903743316\n",
      "\n",
      "Accuruacy for Romance: 0.7349896480331263\n",
      "Precision for Romance: 0.13333333333333333\n",
      "Recall for Romance: 0.03773584905660377\n",
      "\n",
      "Accuruacy for Horror-Thriller: 0.6521739130434783\n",
      "Precision for Horror-Thriller: 0.5631578947368421\n",
      "Recall for Horror-Thriller: 0.5572916666666666\n",
      "\n",
      "Accuruacy for Comedy: 0.6418219461697723\n",
      "Precision for Comedy: 0.5909090909090909\n",
      "Recall for Comedy: 0.6103286384976526\n",
      "\n",
      "Accuruacy for Science Fiction: 0.8819875776397516\n",
      "Precision for Science Fiction: 0.3333333333333333\n",
      "Recall for Science Fiction: 0.017857142857142856\n",
      "\n"
     ]
    }
   ],
   "source": [
    "get_per_label_metrics(y_test, predictions)"
   ]
  },
  {
   "cell_type": "markdown",
   "metadata": {},
   "source": [
    "Regular Neural Network"
   ]
  },
  {
   "cell_type": "code",
   "execution_count": 128,
   "metadata": {},
   "outputs": [
    {
     "name": "stdout",
     "output_type": "stream",
     "text": [
      "Train on 1738 samples, validate on 194 samples\n",
      "Epoch 1/1000\n",
      " - 3s - loss: 0.6201 - raw_multi_label_accuracy: 0.0391 - val_loss: 0.5979 - val_raw_multi_label_accuracy: 0.0572\n",
      "Epoch 2/1000\n",
      " - 1s - loss: 0.5824 - raw_multi_label_accuracy: 0.0770 - val_loss: 0.5973 - val_raw_multi_label_accuracy: 0.1666\n",
      "Epoch 3/1000\n",
      " - 2s - loss: 0.5579 - raw_multi_label_accuracy: 0.1495 - val_loss: 0.5978 - val_raw_multi_label_accuracy: 0.1513\n",
      "Epoch 4/1000\n",
      " - 2s - loss: 0.5283 - raw_multi_label_accuracy: 0.2400 - val_loss: 0.5934 - val_raw_multi_label_accuracy: 0.1645\n",
      "Epoch 5/1000\n",
      " - 2s - loss: 0.4755 - raw_multi_label_accuracy: 0.3542 - val_loss: 0.6018 - val_raw_multi_label_accuracy: 0.1652\n",
      "Epoch 6/1000\n",
      " - 2s - loss: 0.3837 - raw_multi_label_accuracy: 0.5507 - val_loss: 0.5813 - val_raw_multi_label_accuracy: 0.2200\n",
      "Epoch 7/1000\n",
      " - 2s - loss: 0.2795 - raw_multi_label_accuracy: 0.7035 - val_loss: 0.5818 - val_raw_multi_label_accuracy: 0.2336\n",
      "Epoch 8/1000\n",
      " - 1s - loss: 0.1952 - raw_multi_label_accuracy: 0.8181 - val_loss: 0.6017 - val_raw_multi_label_accuracy: 0.2311\n",
      "Epoch 9/1000\n",
      " - 2s - loss: 0.1305 - raw_multi_label_accuracy: 0.9106 - val_loss: 0.6260 - val_raw_multi_label_accuracy: 0.2572\n",
      "Epoch 10/1000\n",
      " - 2s - loss: 0.0864 - raw_multi_label_accuracy: 0.9498 - val_loss: 0.6471 - val_raw_multi_label_accuracy: 0.2626\n",
      "Epoch 11/1000\n",
      " - 2s - loss: 0.0572 - raw_multi_label_accuracy: 0.9742 - val_loss: 0.6743 - val_raw_multi_label_accuracy: 0.2582\n",
      "Epoch 12/1000\n",
      " - 1s - loss: 0.0392 - raw_multi_label_accuracy: 0.9862 - val_loss: 0.6927 - val_raw_multi_label_accuracy: 0.2666\n",
      "Epoch 13/1000\n",
      " - 1s - loss: 0.0277 - raw_multi_label_accuracy: 0.9922 - val_loss: 0.7240 - val_raw_multi_label_accuracy: 0.2465\n",
      "Epoch 14/1000\n",
      " - 1s - loss: 0.0204 - raw_multi_label_accuracy: 0.9925 - val_loss: 0.7335 - val_raw_multi_label_accuracy: 0.2599\n",
      "Epoch 15/1000\n",
      " - 1s - loss: 0.0156 - raw_multi_label_accuracy: 0.9964 - val_loss: 0.7477 - val_raw_multi_label_accuracy: 0.2627\n",
      "Epoch 16/1000\n",
      " - 1s - loss: 0.0124 - raw_multi_label_accuracy: 0.9977 - val_loss: 0.7533 - val_raw_multi_label_accuracy: 0.2888\n",
      "Epoch 17/1000\n",
      " - 1s - loss: 0.0100 - raw_multi_label_accuracy: 0.9985 - val_loss: 0.7898 - val_raw_multi_label_accuracy: 0.2432\n",
      "Epoch 18/1000\n",
      " - 1s - loss: 0.0083 - raw_multi_label_accuracy: 0.9989 - val_loss: 0.8010 - val_raw_multi_label_accuracy: 0.2526\n",
      "Epoch 19/1000\n",
      " - 2s - loss: 0.0071 - raw_multi_label_accuracy: 0.9992 - val_loss: 0.8165 - val_raw_multi_label_accuracy: 0.2518\n",
      "Epoch 20/1000\n",
      " - 2s - loss: 0.0061 - raw_multi_label_accuracy: 0.9993 - val_loss: 0.8236 - val_raw_multi_label_accuracy: 0.2586\n",
      "Epoch 21/1000\n",
      " - 2s - loss: 0.0053 - raw_multi_label_accuracy: 0.9992 - val_loss: 0.8540 - val_raw_multi_label_accuracy: 0.2659\n",
      "Epoch 22/1000\n",
      " - 1s - loss: 0.0048 - raw_multi_label_accuracy: 0.9989 - val_loss: 0.8485 - val_raw_multi_label_accuracy: 0.2627\n",
      "Epoch 23/1000\n",
      " - 2s - loss: 0.0042 - raw_multi_label_accuracy: 0.9992 - val_loss: 0.8578 - val_raw_multi_label_accuracy: 0.2612\n",
      "Epoch 24/1000\n",
      " - 2s - loss: 0.0037 - raw_multi_label_accuracy: 0.9992 - val_loss: 0.8705 - val_raw_multi_label_accuracy: 0.2456\n",
      "Epoch 25/1000\n",
      " - 1s - loss: 0.0036 - raw_multi_label_accuracy: 0.9993 - val_loss: 0.8934 - val_raw_multi_label_accuracy: 0.2615\n",
      "Epoch 26/1000\n",
      " - 1s - loss: 0.0030 - raw_multi_label_accuracy: 0.9992 - val_loss: 0.8962 - val_raw_multi_label_accuracy: 0.2494\n",
      "Epoch 27/1000\n",
      " - 2s - loss: 0.0028 - raw_multi_label_accuracy: 0.9992 - val_loss: 0.9211 - val_raw_multi_label_accuracy: 0.2585\n",
      "Epoch 28/1000\n",
      " - 1s - loss: 0.0025 - raw_multi_label_accuracy: 0.9992 - val_loss: 0.9007 - val_raw_multi_label_accuracy: 0.2413\n",
      "Epoch 29/1000\n",
      " - 2s - loss: 0.0023 - raw_multi_label_accuracy: 0.9992 - val_loss: 0.9170 - val_raw_multi_label_accuracy: 0.2601\n"
     ]
    },
    {
     "data": {
      "text/plain": [
       "<keras.callbacks.History at 0x7fa886d57a90>"
      ]
     },
     "execution_count": 128,
     "metadata": {},
     "output_type": "execute_result"
    }
   ],
   "source": [
    "normal_nn = Sequential()\n",
    "e = Embedding(num_words_kept, word_vec_len, weights=[embedding_matrix], input_length=max_seq_len, trainable=True)\n",
    "normal_nn.add(e)\n",
    "normal_nn.add(Flatten())\n",
    "normal_nn.add(Dense(256, activation='relu'))\n",
    "normal_nn.add(Dense(len(genre_dict), activation='sigmoid'))\n",
    "normal_nn.compile(loss='binary_crossentropy', optimizer='adam', metrics=[raw_multi_label_accuracy])\n",
    "normal_nn.fit(x_train_seq, y_train, validation_split = .1, callbacks = [DelayedEarlyStopping(monitor = 'val_raw_multi_label_accuracy', patience = 5, delay=25)], epochs=1000, batch_size=100, verbose=2)"
   ]
  },
  {
   "cell_type": "code",
   "execution_count": 129,
   "metadata": {},
   "outputs": [],
   "source": [
    "predictions = nn_output_to_predictions(normal_nn.predict(x_test_seq))"
   ]
  },
  {
   "cell_type": "code",
   "execution_count": 130,
   "metadata": {},
   "outputs": [
    {
     "data": {
      "text/plain": [
       "0.3064182194616977"
      ]
     },
     "execution_count": 130,
     "metadata": {},
     "output_type": "execute_result"
    }
   ],
   "source": [
    "multi_label_accuracy(y_test, predictions)"
   ]
  },
  {
   "cell_type": "code",
   "execution_count": 131,
   "metadata": {},
   "outputs": [
    {
     "data": {
      "text/plain": [
       "0.5862068965517241"
      ]
     },
     "execution_count": 131,
     "metadata": {},
     "output_type": "execute_result"
    }
   ],
   "source": [
    "multi_label_precision(y_test, predictions)"
   ]
  },
  {
   "cell_type": "code",
   "execution_count": 132,
   "metadata": {},
   "outputs": [
    {
     "data": {
      "text/plain": [
       "0.3309178743961353"
      ]
     },
     "execution_count": 132,
     "metadata": {},
     "output_type": "execute_result"
    }
   ],
   "source": [
    "multi_label_recall(y_test, predictions)"
   ]
  },
  {
   "cell_type": "code",
   "execution_count": 133,
   "metadata": {},
   "outputs": [
    {
     "name": "stdout",
     "output_type": "stream",
     "text": [
      "Percent of correctly decided label decisions: 71.7184265010352\n"
     ]
    }
   ],
   "source": [
    "print(\"Percent of correctly decided label decisions: \" + str(100* (1-hamming_loss(y_test, predictions))))"
   ]
  },
  {
   "cell_type": "code",
   "execution_count": 134,
   "metadata": {},
   "outputs": [
    {
     "name": "stdout",
     "output_type": "stream",
     "text": [
      "Accuruacy for Action-Adventure: 0.7163561076604554\n",
      "Precision for Action-Adventure: 0.7232142857142857\n",
      "Recall for Action-Adventure: 0.43315508021390375\n",
      "\n",
      "Accuruacy for Romance: 0.782608695652174\n",
      "Precision for Romance: 0.5172413793103449\n",
      "Recall for Romance: 0.14150943396226415\n",
      "\n",
      "Accuruacy for Horror-Thriller: 0.6252587991718427\n",
      "Precision for Horror-Thriller: 0.5523809523809524\n",
      "Recall for Horror-Thriller: 0.3020833333333333\n",
      "\n",
      "Accuruacy for Comedy: 0.5714285714285714\n",
      "Precision for Comedy: 0.5182926829268293\n",
      "Recall for Comedy: 0.39906103286384975\n",
      "\n",
      "Accuruacy for Science Fiction: 0.8902691511387164\n",
      "Precision for Science Fiction: 0.8\n",
      "Recall for Science Fiction: 0.07142857142857142\n",
      "\n"
     ]
    }
   ],
   "source": [
    "get_per_label_metrics(y_test, predictions)"
   ]
  },
  {
   "cell_type": "markdown",
   "metadata": {},
   "source": [
    "LSTM"
   ]
  },
  {
   "cell_type": "code",
   "execution_count": 135,
   "metadata": {},
   "outputs": [
    {
     "name": "stdout",
     "output_type": "stream",
     "text": [
      "Train on 1738 samples, validate on 194 samples\n",
      "Epoch 1/1000\n",
      " - 11s - loss: 0.6398 - raw_multi_label_accuracy: 0.0461 - val_loss: 0.5898 - val_raw_multi_label_accuracy: 0.0000e+00\n",
      "Epoch 2/1000\n",
      " - 9s - loss: 0.5956 - raw_multi_label_accuracy: 0.0464 - val_loss: 0.5866 - val_raw_multi_label_accuracy: 0.0000e+00\n",
      "Epoch 3/1000\n",
      " - 7s - loss: 0.5878 - raw_multi_label_accuracy: 0.0000e+00 - val_loss: 0.5814 - val_raw_multi_label_accuracy: 0.0000e+00\n",
      "Epoch 4/1000\n",
      " - 7s - loss: 0.5844 - raw_multi_label_accuracy: 0.0022 - val_loss: 0.5779 - val_raw_multi_label_accuracy: 0.0000e+00\n",
      "Epoch 5/1000\n",
      " - 7s - loss: 0.5803 - raw_multi_label_accuracy: 0.0000e+00 - val_loss: 0.5773 - val_raw_multi_label_accuracy: 0.0000e+00\n",
      "Epoch 6/1000\n",
      " - 7s - loss: 0.5717 - raw_multi_label_accuracy: 0.0000e+00 - val_loss: 0.5721 - val_raw_multi_label_accuracy: 0.0000e+00\n",
      "Epoch 7/1000\n",
      " - 7s - loss: 0.5478 - raw_multi_label_accuracy: 0.1440 - val_loss: 0.5436 - val_raw_multi_label_accuracy: 0.1666\n",
      "Epoch 8/1000\n",
      " - 8s - loss: 0.4955 - raw_multi_label_accuracy: 0.3547 - val_loss: 0.5357 - val_raw_multi_label_accuracy: 0.3237\n",
      "Epoch 9/1000\n",
      " - 7s - loss: 0.4428 - raw_multi_label_accuracy: 0.4648 - val_loss: 0.4937 - val_raw_multi_label_accuracy: 0.3706\n",
      "Epoch 10/1000\n",
      " - 7s - loss: 0.4065 - raw_multi_label_accuracy: 0.5088 - val_loss: 0.4962 - val_raw_multi_label_accuracy: 0.3424\n",
      "Epoch 11/1000\n",
      " - 7s - loss: 0.3888 - raw_multi_label_accuracy: 0.5349 - val_loss: 0.4978 - val_raw_multi_label_accuracy: 0.3571\n",
      "Epoch 12/1000\n",
      " - 7s - loss: 0.3625 - raw_multi_label_accuracy: 0.5818 - val_loss: 0.4827 - val_raw_multi_label_accuracy: 0.3667\n",
      "Epoch 13/1000\n",
      " - 7s - loss: 0.3349 - raw_multi_label_accuracy: 0.6288 - val_loss: 0.4795 - val_raw_multi_label_accuracy: 0.4161\n",
      "Epoch 14/1000\n",
      " - 7s - loss: 0.3015 - raw_multi_label_accuracy: 0.6589 - val_loss: 0.4874 - val_raw_multi_label_accuracy: 0.3872\n",
      "Epoch 15/1000\n",
      " - 8s - loss: 0.2700 - raw_multi_label_accuracy: 0.7005 - val_loss: 0.4881 - val_raw_multi_label_accuracy: 0.3901\n",
      "Epoch 16/1000\n",
      " - 7s - loss: 0.2449 - raw_multi_label_accuracy: 0.7325 - val_loss: 0.5212 - val_raw_multi_label_accuracy: 0.3953\n",
      "Epoch 17/1000\n",
      " - 7s - loss: 0.2275 - raw_multi_label_accuracy: 0.7522 - val_loss: 0.5125 - val_raw_multi_label_accuracy: 0.4125\n",
      "Epoch 18/1000\n",
      " - 8s - loss: 0.2009 - raw_multi_label_accuracy: 0.7748 - val_loss: 0.5574 - val_raw_multi_label_accuracy: 0.4125\n",
      "Epoch 19/1000\n",
      " - 7s - loss: 0.1784 - raw_multi_label_accuracy: 0.8039 - val_loss: 0.5280 - val_raw_multi_label_accuracy: 0.4099\n",
      "Epoch 20/1000\n",
      " - 7s - loss: 0.1643 - raw_multi_label_accuracy: 0.8182 - val_loss: 0.5831 - val_raw_multi_label_accuracy: 0.4036\n",
      "Epoch 21/1000\n",
      " - 8s - loss: 0.1497 - raw_multi_label_accuracy: 0.8388 - val_loss: 0.5876 - val_raw_multi_label_accuracy: 0.3941\n",
      "Epoch 22/1000\n",
      " - 7s - loss: 0.1344 - raw_multi_label_accuracy: 0.8582 - val_loss: 0.5871 - val_raw_multi_label_accuracy: 0.4114\n",
      "Epoch 23/1000\n",
      " - 7s - loss: 0.1191 - raw_multi_label_accuracy: 0.8778 - val_loss: 0.6059 - val_raw_multi_label_accuracy: 0.4114\n",
      "Epoch 24/1000\n",
      " - 7s - loss: 0.1092 - raw_multi_label_accuracy: 0.8885 - val_loss: 0.5912 - val_raw_multi_label_accuracy: 0.4036\n",
      "Epoch 25/1000\n",
      " - 7s - loss: 0.1021 - raw_multi_label_accuracy: 0.9020 - val_loss: 0.6209 - val_raw_multi_label_accuracy: 0.4195\n",
      "Epoch 26/1000\n",
      " - 8s - loss: 0.0912 - raw_multi_label_accuracy: 0.9043 - val_loss: 0.6139 - val_raw_multi_label_accuracy: 0.4115\n",
      "Epoch 27/1000\n",
      " - 7s - loss: 0.0813 - raw_multi_label_accuracy: 0.9137 - val_loss: 0.7013 - val_raw_multi_label_accuracy: 0.4198\n",
      "Epoch 28/1000\n",
      " - 9s - loss: 0.0743 - raw_multi_label_accuracy: 0.9266 - val_loss: 0.6826 - val_raw_multi_label_accuracy: 0.4080\n",
      "Epoch 29/1000\n",
      " - 8s - loss: 0.0672 - raw_multi_label_accuracy: 0.9378 - val_loss: 0.6872 - val_raw_multi_label_accuracy: 0.4138\n"
     ]
    },
    {
     "data": {
      "text/plain": [
       "<keras.callbacks.History at 0x7fa886802668>"
      ]
     },
     "execution_count": 135,
     "metadata": {},
     "output_type": "execute_result"
    }
   ],
   "source": [
    "from keras.layers import LSTM\n",
    "lstm_model = Sequential()\n",
    "e = Embedding(num_words_kept, word_vec_len, weights=[embedding_matrix], input_length=max_seq_len, trainable=True)\n",
    "lstm_model.add(e)\n",
    "lstm_model.add(LSTM(100, dropout=0.25, recurrent_dropout=0.25))\n",
    "lstm_model.add(Dense(len(genre_dict), activation='sigmoid'))\n",
    "lstm_model.compile(loss='binary_crossentropy', optimizer='adam', metrics=[raw_multi_label_accuracy])\n",
    "lstm_model.fit(x_train_seq, y_train, validation_split = .1, callbacks = [DelayedEarlyStopping(monitor = 'val_raw_multi_label_accuracy', patience = 5, delay=25)], epochs=1000, batch_size=100, verbose=2)"
   ]
  },
  {
   "cell_type": "code",
   "execution_count": 136,
   "metadata": {},
   "outputs": [],
   "source": [
    "predictions = nn_output_to_predictions(lstm_model.predict(x_test_seq))"
   ]
  },
  {
   "cell_type": "code",
   "execution_count": 137,
   "metadata": {},
   "outputs": [
    {
     "data": {
      "text/plain": [
       "0.4903381642512081"
      ]
     },
     "execution_count": 137,
     "metadata": {},
     "output_type": "execute_result"
    }
   ],
   "source": [
    "multi_label_accuracy(y_test, predictions)"
   ]
  },
  {
   "cell_type": "code",
   "execution_count": 138,
   "metadata": {},
   "outputs": [
    {
     "data": {
      "text/plain": [
       "0.6324965132496515"
      ]
     },
     "execution_count": 138,
     "metadata": {},
     "output_type": "execute_result"
    }
   ],
   "source": [
    "multi_label_precision(y_test, predictions)"
   ]
  },
  {
   "cell_type": "code",
   "execution_count": 139,
   "metadata": {},
   "outputs": [
    {
     "data": {
      "text/plain": [
       "0.5876466528640443"
      ]
     },
     "execution_count": 139,
     "metadata": {},
     "output_type": "execute_result"
    }
   ],
   "source": [
    "multi_label_recall(y_test, predictions)"
   ]
  },
  {
   "cell_type": "code",
   "execution_count": 140,
   "metadata": {},
   "outputs": [
    {
     "name": "stdout",
     "output_type": "stream",
     "text": [
      "Percent of correctly decided label decisions: 75.03105590062111\n"
     ]
    }
   ],
   "source": [
    "print(\"Percent of correctly decided label decisions: \" + str(100* (1-hamming_loss(y_test, predictions))))"
   ]
  },
  {
   "cell_type": "code",
   "execution_count": 141,
   "metadata": {},
   "outputs": [
    {
     "name": "stdout",
     "output_type": "stream",
     "text": [
      "Accuruacy for Action-Adventure: 0.6873706004140787\n",
      "Precision for Action-Adventure: 0.62\n",
      "Recall for Action-Adventure: 0.49732620320855614\n",
      "\n",
      "Accuruacy for Romance: 0.8012422360248447\n",
      "Precision for Romance: 0.5806451612903226\n",
      "Recall for Romance: 0.33962264150943394\n",
      "\n",
      "Accuruacy for Horror-Thriller: 0.660455486542443\n",
      "Precision for Horror-Thriller: 0.5752688172043011\n",
      "Recall for Horror-Thriller: 0.5572916666666666\n",
      "\n",
      "Accuruacy for Comedy: 0.7080745341614907\n",
      "Precision for Comedy: 0.6428571428571429\n",
      "Recall for Comedy: 0.7605633802816901\n",
      "\n",
      "Accuruacy for Science Fiction: 0.8944099378881988\n",
      "Precision for Science Fiction: 0.6086956521739131\n",
      "Recall for Science Fiction: 0.25\n",
      "\n"
     ]
    }
   ],
   "source": [
    "get_per_label_metrics(y_test, predictions)"
   ]
  }
 ],
 "metadata": {
  "kernelspec": {
   "display_name": "Python 3",
   "language": "python",
   "name": "python3"
  },
  "language_info": {
   "codemirror_mode": {
    "name": "ipython",
    "version": 3
   },
   "file_extension": ".py",
   "mimetype": "text/x-python",
   "name": "python",
   "nbconvert_exporter": "python",
   "pygments_lexer": "ipython3",
   "version": "3.6.7"
  }
 },
 "nbformat": 4,
 "nbformat_minor": 2
}
