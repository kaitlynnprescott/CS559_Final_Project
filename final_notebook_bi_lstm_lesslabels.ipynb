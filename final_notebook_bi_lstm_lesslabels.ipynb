{
 "cells": [
  {
   "cell_type": "markdown",
   "metadata": {},
   "source": [
    "# LSTM Reduced Labels"
   ]
  },
  {
   "cell_type": "code",
   "execution_count": 1,
   "metadata": {},
   "outputs": [],
   "source": [
    "import numpy as np\n",
    "import pandas as pd\n",
    "#for reading in data properly\n",
    "import ast\n",
    "import json\n",
    "\n",
    "import gensim\n",
    "from gensim.models import Doc2Vec\n",
    "from gensim.models import Word2Vec\n",
    "from gensim.models.doc2vec import TaggedDocument\n",
    "\n",
    "from sklearn.model_selection import train_test_split\n",
    "from sklearn import utils\n",
    "\n",
    "import re\n",
    "\n",
    "import nltk\n",
    "from nltk.corpus import stopwords\n",
    "from nltk.tokenize import word_tokenize\n",
    "\n",
    "stop_words = set(stopwords.words('english'))"
   ]
  },
  {
   "cell_type": "markdown",
   "metadata": {},
   "source": [
    "### Load Data"
   ]
  },
  {
   "cell_type": "code",
   "execution_count": 2,
   "metadata": {},
   "outputs": [],
   "source": [
    "all_data = pd.read_csv('train.csv')\n",
    "all_data = all_data.dropna(subset=['overview', 'genres']) #drop cols without overview or genre (data we use or labels)"
   ]
  },
  {
   "cell_type": "markdown",
   "metadata": {},
   "source": [
    "### Preprocess Data\n",
    "<ul>\n",
    "    <li>Get all possible genres.</li>\n",
    "    <li>Vectorize Genres:</li>\n",
    "    <ul>\n",
    "        <li>Save genres as a vector of 0s and 1s.</li>\n",
    "        <li>Save genres as list of strings.</li>\n",
    "    </ul>\n",
    "    <li>Process Overview Category</li>\n",
    "    <ul>\n",
    "        <li>Remove punctuation</li>\n",
    "        <li>Set to lowercase</li>\n",
    "    </ul>\n",
    "</ul>"
   ]
  },
  {
   "cell_type": "code",
   "execution_count": 3,
   "metadata": {},
   "outputs": [],
   "source": [
    "def text_to_list(x):\n",
    "    if pd.isna(x):\n",
    "        return ''\n",
    "    else:\n",
    "        return ast.literal_eval(x)\n",
    "\n",
    "def parse_json(x):\n",
    "    try:\n",
    "        return json.loads(x.replace(\"'\", '\"'))[0]['name']\n",
    "    except:\n",
    "        return ''\n",
    "    \n",
    "def parse_genres_json(x):\n",
    "    try:\n",
    "        json_genres = json.loads(x.replace(\"'\", '\"'))\n",
    "        numElems = len(json_genres)\n",
    "        ret = [0]*len(genre_dict) #number of genres we are looking at\n",
    "        for i in range(numElems):\n",
    "            genre_str = (json_genres[i]['name'])\n",
    "            if genre_str in genre_map.keys():\n",
    "                ret[genre_dict[genre_map[genre_str]]] = 1\n",
    "        return ret\n",
    "    except Exception as excep:\n",
    "        print('Exception' + str(excep))\n",
    "        return ''"
   ]
  },
  {
   "cell_type": "code",
   "execution_count": 4,
   "metadata": {},
   "outputs": [
    {
     "data": {
      "text/plain": [
       "{'Action-Adventure': 0,\n",
       " 'Romance': 1,\n",
       " 'Horror-Thriller': 2,\n",
       " 'Comedy': 3,\n",
       " 'Science Fiction': 4,\n",
       " 'Drama': 5}"
      ]
     },
     "execution_count": 4,
     "metadata": {},
     "output_type": "execute_result"
    }
   ],
   "source": [
    "genre_dict = {}\n",
    "genre_dict['Action-Adventure'] = 0\n",
    "genre_dict['Romance'] = 1\n",
    "genre_dict['Horror-Thriller'] = 2\n",
    "genre_dict['Comedy'] = 3\n",
    "genre_dict['Science Fiction'] = 4\n",
    "genre_dict['Drama'] = 5\n",
    "genre_dict"
   ]
  },
  {
   "cell_type": "code",
   "execution_count": 5,
   "metadata": {},
   "outputs": [],
   "source": [
    "genre_map = {}\n",
    "genre_map['Adventure'] = 'Action-Adventure'\n",
    "genre_map['Romance'] = 'Romance'\n",
    "genre_map['Horror'] = 'Horror-Thriller'\n",
    "genre_map['Thriller'] = 'Horror-Thriller'\n",
    "genre_map['Comedy'] = 'Comedy'\n",
    "#genre_map['War'] = 'Action-Adventure'#not sure about this\n",
    "genre_map['Action'] = 'Action-Adventure'\n",
    "genre_map['Science Fiction'] = 'Science Fiction'\n",
    "genre_map['Fantasy'] = 'Science Fiction'\n",
    "genre_map['Drama'] = 'Drama'"
   ]
  },
  {
   "cell_type": "code",
   "execution_count": 6,
   "metadata": {},
   "outputs": [],
   "source": [
    "def getGenresVects():\n",
    "    y = all_data['genres']\n",
    "    ret = y.apply(parse_genres_json)\n",
    "    all_data['genres_vect'] = ret\n",
    "    return ret"
   ]
  },
  {
   "cell_type": "code",
   "execution_count": 7,
   "metadata": {},
   "outputs": [],
   "source": [
    "labels_vects = getGenresVects() #get label vectors for genres indexed by indexes in genre_dict"
   ]
  },
  {
   "cell_type": "code",
   "execution_count": 8,
   "metadata": {},
   "outputs": [],
   "source": [
    "#put to lower case, remove punctation\n",
    "def cleanText(text):\n",
    "    text = re.sub(r'[^a-z A-Z0-9]', \"\", text) #maybe shouldn't remove punction between words here?\n",
    "    text = text.lower()\n",
    "    return text\n",
    "all_data['cleanOverview'] = all_data['overview'].apply(cleanText)"
   ]
  },
  {
   "cell_type": "code",
   "execution_count": 9,
   "metadata": {},
   "outputs": [],
   "source": [
    "all_data = all_data[all_data.genres_vect.map(sum) > 0]"
   ]
  },
  {
   "cell_type": "code",
   "execution_count": 10,
   "metadata": {},
   "outputs": [],
   "source": [
    "#logistic regression data\n",
    "lr_data = all_data[['cleanOverview', 'genres_vect', 'overview']]"
   ]
  },
  {
   "cell_type": "code",
   "execution_count": 11,
   "metadata": {},
   "outputs": [],
   "source": [
    "train, test = train_test_split(lr_data, test_size=0.2, random_state=42)"
   ]
  },
  {
   "cell_type": "markdown",
   "metadata": {},
   "source": [
    "## LSTM \n",
    "<ul>\n",
    "    <li>Get Word Embeddings</li>\n",
    "    <li>Tokenize words</li>\n",
    "    <li>Vectorize Overview</li>\n",
    "</ul>"
   ]
  },
  {
   "cell_type": "code",
   "execution_count": 12,
   "metadata": {},
   "outputs": [],
   "source": [
    "#get word embeddings\n",
    "x = train['cleanOverview'].values.tolist()\n",
    "y = train['genres_vect']"
   ]
  },
  {
   "cell_type": "code",
   "execution_count": 13,
   "metadata": {},
   "outputs": [],
   "source": [
    "x_test = test['cleanOverview'].values.tolist()\n",
    "y_test = test['genres_vect']"
   ]
  },
  {
   "cell_type": "code",
   "execution_count": 14,
   "metadata": {},
   "outputs": [],
   "source": [
    "y_train = y.tolist()\n",
    "y_train = np.array(y_train)"
   ]
  },
  {
   "cell_type": "code",
   "execution_count": 15,
   "metadata": {},
   "outputs": [],
   "source": [
    "y_test = y_test.tolist()\n",
    "y_test = np.array(y_test)"
   ]
  },
  {
   "cell_type": "code",
   "execution_count": 16,
   "metadata": {},
   "outputs": [],
   "source": [
    "tok = [word_tokenize(sent) for sent in x]"
   ]
  },
  {
   "cell_type": "code",
   "execution_count": 17,
   "metadata": {},
   "outputs": [],
   "source": [
    "word_vec_len = 32\n",
    "model = Word2Vec(tok, min_count = 1, size=word_vec_len)"
   ]
  },
  {
   "cell_type": "code",
   "execution_count": 18,
   "metadata": {},
   "outputs": [
    {
     "name": "stderr",
     "output_type": "stream",
     "text": [
      "Using TensorFlow backend.\n"
     ]
    }
   ],
   "source": [
    "from keras.preprocessing.text import Tokenizer\n",
    "from keras.preprocessing.sequence import pad_sequences\n",
    "\n",
    "num_words_kept = 100000 #using 100000 most popular words, use throughout\n",
    "\n",
    "tokenizer = Tokenizer(num_words_kept)\n",
    "tokenizer.fit_on_texts(x)\n",
    "sequences = tokenizer.texts_to_sequences(x)\n",
    "\n",
    "max_seq_len = 100\n",
    "\n",
    "x_train_seq = pad_sequences(sequences, maxlen=max_seq_len)"
   ]
  },
  {
   "cell_type": "code",
   "execution_count": 19,
   "metadata": {},
   "outputs": [],
   "source": [
    "test_sequences = tokenizer.texts_to_sequences(x_test)\n",
    "x_test_seq = pad_sequences(test_sequences, maxlen=max_seq_len)"
   ]
  },
  {
   "cell_type": "code",
   "execution_count": 20,
   "metadata": {},
   "outputs": [],
   "source": [
    "embeddings_index = {}\n",
    "for w in model.wv.vocab.keys():\n",
    "    embeddings_index[w] = model.wv[w]\n",
    "\n",
    "\n",
    "embedding_matrix = np.zeros((num_words_kept, word_vec_len))\n",
    "for word, i in tokenizer.word_index.items():\n",
    "    if i >= num_words_kept:\n",
    "        continue\n",
    "    embedding_vector = embeddings_index.get(word)\n",
    "    if embedding_vector is not None:\n",
    "        embedding_matrix[i] = embedding_vector"
   ]
  },
  {
   "cell_type": "markdown",
   "metadata": {},
   "source": [
    "### Get Metrics\n",
    "<ul>\n",
    "    <li>Get accuracy, precision, recall for each genre.</li>\n",
    "    <li>Get multi-label metrics.</li>\n",
    "    <li>Compute hamming loss.</li>\n",
    "    <li>Implement Delayed Early Stopping.</li>\n",
    "</ul>"
   ]
  },
  {
   "cell_type": "code",
   "execution_count": 21,
   "metadata": {},
   "outputs": [],
   "source": [
    "from sklearn.metrics import accuracy_score\n",
    "from sklearn.metrics import precision_score\n",
    "from sklearn.metrics import recall_score\n",
    "\n",
    "def get_per_label_metrics(real_labels_matrix, predictions_labels_matrix):\n",
    "    for genre in genre_dict.keys():\n",
    "        index = genre_dict[genre]\n",
    "        real_labels_vect = real_labels_matrix[:, index]\n",
    "        prediction_vect = predictions_labels_matrix[:,index]\n",
    "        print(\"Accuruacy for \" + genre + \": \" + str(accuracy_score(real_labels_vect, prediction_vect)))\n",
    "        print(\"Precision for \" + genre + \": \" + str(precision_score(real_labels_vect, prediction_vect)))\n",
    "        print(\"Recall for \" + genre + \": \" + str(recall_score(real_labels_vect, prediction_vect)))\n",
    "        print()"
   ]
  },
  {
   "cell_type": "code",
   "execution_count": 22,
   "metadata": {},
   "outputs": [],
   "source": [
    "#size of intersection of predicted and actual labels divided by size of their union for each datapoint tested on\n",
    "#sum those and then divide by number of datapoints\n",
    "#vectorized for speed\n",
    "def multi_label_accuracy(real_labels_matrix, predictions_labels_matrix):\n",
    "    #binary so set intersection is and operator\n",
    "    intersection = real_labels_matrix & predictions_labels_matrix\n",
    "    #set union for binary is same as or operator\n",
    "    union = real_labels_matrix | predictions_labels_matrix\n",
    "    #sum(array.T) gets number of 1s in row\n",
    "    row_wise_accuracy = sum(intersection.T) / sum(union.T)\n",
    "    return sum(row_wise_accuracy) / real_labels_matrix.shape[0]\n",
    "\n",
    "#size of intersection of predicted and actual labels divided by size of predicted set for each datapoint tested on\n",
    "#sum those and divide by number of datapoints\n",
    "#if no predicted labels, don't count that row towards the precision as that would be undefined\n",
    "def multi_label_precision(real_labels_matrix, predictions_labels_matrix):\n",
    "    #binary so set intersection is and operator\n",
    "    intersection = real_labels_matrix & predictions_labels_matrix\n",
    "    precision_sum = 0\n",
    "    num_rows = 0\n",
    "    for row in range(intersection.shape[0]):\n",
    "        if sum(predictions_labels_matrix[row]) > 0: #if there is at least one prediction for this row\n",
    "            num_rows += 1\n",
    "            precision_sum += sum(intersection[row]) / sum(predictions_labels_matrix[row])\n",
    "    if num_rows == 0:\n",
    "        return 0#no labels predicted at all will give us 0 precision as precision makes no sense here\n",
    "    return precision_sum / num_rows\n",
    "\n",
    "#size of intersection of predicted and actual labels divided by size of real label set for each datapoint tested on\n",
    "#sum those and divide by number of datapoints\n",
    "#all datapoints should have at least 1 real label in this data set\n",
    "#vectorized for speed\n",
    "def multi_label_recall(real_labels_matrix, predictions_labels_matrix):\n",
    "    #binary so set intersection is and operator\n",
    "    intersection = real_labels_matrix & predictions_labels_matrix\n",
    "    #set union for binary is same as or operator\n",
    "    #sum(array.T) gets number of 1s in row\n",
    "    row_wise_recall = sum(intersection.T) / sum(real_labels_matrix.T)\n",
    "    return sum(row_wise_recall) / real_labels_matrix.shape[0]\n",
    "\n",
    "#lower is better\n",
    "def hamming_loss(real_labels_matrix, predictions_labels_matrix):\n",
    "    return (np.logical_xor(real_labels_matrix, predictions_labels_matrix)).sum()/(real_labels_matrix.shape[0] * real_labels_matrix.shape[1])\n",
    "\n",
    "import keras.backend as K\n",
    "\n",
    "#metric for keras for early stopping\n",
    "#takes in raw labels from kerass (not yet converted to 0 and 1s)\n",
    "#NOT the same as accuracy, this is total labels correctly identified divided by union of total labels\n",
    "#this weights rows with more labels higher, where accruacy does not, but this is still a good metric for early stopping\n",
    "def raw_multi_label_accuracy(y_true, y_pred):\n",
    "    positives = K.greater_equal(y_pred, 0.5)\n",
    "    positives = K.cast(positives, K.floatx())\n",
    "    new_y_pred = positives #+ ((1-positives)*y_pred)\n",
    "    intersection = y_true * new_y_pred\n",
    "    union = 1 -((1-y_true)*(1-new_y_pred))\n",
    "    accuracy = K.sum(intersection) / K.sum(union)\n",
    "    return accuracy\n",
    "    "
   ]
  },
  {
   "cell_type": "code",
   "execution_count": 23,
   "metadata": {},
   "outputs": [],
   "source": [
    "from keras.callbacks import EarlyStopping\n",
    "#for early stopping only after certain number of epochs. wait until delay epochs until early stopping\n",
    "class DelayedEarlyStopping(EarlyStopping):\n",
    "    def __init__(self, monitor, min_delta=0, patience=0, verbose=0, mode='auto', delay = 100):\n",
    "        super(DelayedEarlyStopping, self).__init__()\n",
    "        self.delay = delay\n",
    "\n",
    "    def on_epoch_end(self, epoch, logs=None):\n",
    "        if epoch > self.delay:\n",
    "            super().on_epoch_end(epoch, logs)"
   ]
  },
  {
   "cell_type": "markdown",
   "metadata": {},
   "source": [
    "### Build Network\n",
    "<ul>\n",
    "    <li>Add Embedding layer</li>\n",
    "    <li>Add Convolutional layer</li>\n",
    "    <li>Add MaxPooling layer</li>\n",
    "    <li>Add Bi-directional LSTM layer</li>\n",
    "    <li>Add Dense layers</li>\n",
    "    <li>Compile model</li>\n",
    "</ul>\n"
   ]
  },
  {
   "cell_type": "code",
   "execution_count": 24,
   "metadata": {},
   "outputs": [
    {
     "name": "stdout",
     "output_type": "stream",
     "text": [
      "WARNING:tensorflow:From /usr/local/Cellar/python/3.7.0/Frameworks/Python.framework/Versions/3.7/lib/python3.7/site-packages/tensorflow/python/framework/op_def_library.py:263: colocate_with (from tensorflow.python.framework.ops) is deprecated and will be removed in a future version.\n",
      "Instructions for updating:\n",
      "Colocations handled automatically by placer.\n"
     ]
    }
   ],
   "source": [
    "from keras.layers import Conv1D, MaxPooling1D\n",
    "from keras.models import Sequential\n",
    "from keras.layers import Dense, Dropout\n",
    "from keras.layers import Flatten, LSTM, Bidirectional\n",
    "from keras.layers.embeddings import Embedding\n",
    "\n",
    "model_lstm = Sequential()\n",
    "e = Embedding(num_words_kept, word_vec_len, weights=[embedding_matrix], input_length=100, trainable=True)\n",
    "model_lstm.add(e)\n",
    "model_lstm.add(Conv1D(filters=100, kernel_size=2, padding='valid', activation='relu', strides=1))\n",
    "model_lstm.add(MaxPooling1D())\n",
    "model_lstm.add(Bidirectional(LSTM(100)))\n",
    "model_lstm.add(Dense(256, activation='relu'))\n",
    "model_lstm.add(Dense(len(genre_dict), activation='sigmoid'))\n",
    "model_lstm.compile(loss='binary_crossentropy', optimizer='adam', metrics=[raw_multi_label_accuracy])\n"
   ]
  },
  {
   "cell_type": "code",
   "execution_count": 25,
   "metadata": {},
   "outputs": [],
   "source": [
    "def nn_output_to_predictions(res):\n",
    "    label_predictions = []\n",
    "    for i in range(res.shape[0]):\n",
    "        pred = [0]*len(genre_dict)\n",
    "        for j in range(res.shape[1]):\n",
    "            if res[i][j] >= .5:\n",
    "                pred[j] = 1\n",
    "        label_predictions.append(pred)\n",
    "    return np.array(label_predictions)"
   ]
  },
  {
   "cell_type": "markdown",
   "metadata": {},
   "source": [
    "### Train and Predict\n",
    "Train and predict model for each epoch, with early stopping to avoid overfitting.\n"
   ]
  },
  {
   "cell_type": "code",
   "execution_count": 26,
   "metadata": {},
   "outputs": [
    {
     "name": "stdout",
     "output_type": "stream",
     "text": [
      "Epoch: 1/1000\n",
      "WARNING:tensorflow:From /usr/local/Cellar/python/3.7.0/Frameworks/Python.framework/Versions/3.7/lib/python3.7/site-packages/tensorflow/python/ops/math_ops.py:3066: to_int32 (from tensorflow.python.ops.math_ops) is deprecated and will be removed in a future version.\n",
      "Instructions for updating:\n",
      "Use tf.cast instead.\n",
      "Train on 2072 samples, validate on 231 samples\n",
      "Epoch 1/1\n",
      "2072/2072 [==============================] - 37s 18ms/step - loss: 0.6039 - raw_multi_label_accuracy: 0.1382 - val_loss: 0.5997 - val_raw_multi_label_accuracy: 0.2182\n",
      "Epoch: 2/1000\n",
      "Train on 2072 samples, validate on 231 samples\n",
      "Epoch 1/1\n",
      "2072/2072 [==============================] - 24s 11ms/step - loss: 0.5881 - raw_multi_label_accuracy: 0.2298 - val_loss: 0.6022 - val_raw_multi_label_accuracy: 0.2182\n",
      "Epoch: 3/1000\n",
      "Train on 2072 samples, validate on 231 samples\n",
      "Epoch 1/1\n",
      "2072/2072 [==============================] - 18s 8ms/step - loss: 0.5866 - raw_multi_label_accuracy: 0.2310 - val_loss: 0.5991 - val_raw_multi_label_accuracy: 0.1355\n",
      "Epoch: 4/1000\n",
      "Train on 2072 samples, validate on 231 samples\n",
      "Epoch 1/1\n",
      "2072/2072 [==============================] - 20s 10ms/step - loss: 0.5871 - raw_multi_label_accuracy: 0.2020 - val_loss: 0.6037 - val_raw_multi_label_accuracy: 0.2182\n",
      "Epoch: 5/1000\n",
      "Train on 2072 samples, validate on 231 samples\n",
      "Epoch 1/1\n",
      "2072/2072 [==============================] - 22s 11ms/step - loss: 0.5869 - raw_multi_label_accuracy: 0.1694 - val_loss: 0.6035 - val_raw_multi_label_accuracy: 0.2182\n",
      "Epoch: 6/1000\n",
      "Train on 2072 samples, validate on 231 samples\n",
      "Epoch 1/1\n",
      "2072/2072 [==============================] - 21s 10ms/step - loss: 0.5865 - raw_multi_label_accuracy: 0.1685 - val_loss: 0.6016 - val_raw_multi_label_accuracy: 0.2179\n",
      "Epoch: 7/1000\n",
      "Train on 2072 samples, validate on 231 samples\n",
      "Epoch 1/1\n",
      "2072/2072 [==============================] - 18s 9ms/step - loss: 0.5855 - raw_multi_label_accuracy: 0.2112 - val_loss: 0.5985 - val_raw_multi_label_accuracy: 0.1296\n",
      "Epoch: 8/1000\n",
      "Train on 2072 samples, validate on 231 samples\n",
      "Epoch 1/1\n",
      "2072/2072 [==============================] - 14s 7ms/step - loss: 0.5845 - raw_multi_label_accuracy: 0.2085 - val_loss: 0.5981 - val_raw_multi_label_accuracy: 0.1658\n",
      "Epoch: 9/1000\n",
      "Train on 2072 samples, validate on 231 samples\n",
      "Epoch 1/1\n",
      "2072/2072 [==============================] - 13s 6ms/step - loss: 0.5833 - raw_multi_label_accuracy: 0.1870 - val_loss: 0.6003 - val_raw_multi_label_accuracy: 0.2182\n",
      "Epoch: 10/1000\n",
      "Train on 2072 samples, validate on 231 samples\n",
      "Epoch 1/1\n",
      "2072/2072 [==============================] - 12s 6ms/step - loss: 0.5812 - raw_multi_label_accuracy: 0.2058 - val_loss: 0.6000 - val_raw_multi_label_accuracy: 0.2086\n",
      "Epoch: 11/1000\n",
      "Train on 2072 samples, validate on 231 samples\n",
      "Epoch 1/1\n",
      "2072/2072 [==============================] - 13s 6ms/step - loss: 0.5729 - raw_multi_label_accuracy: 0.2278 - val_loss: 0.5922 - val_raw_multi_label_accuracy: 0.1283\n",
      "Epoch: 12/1000\n",
      "Train on 2072 samples, validate on 231 samples\n",
      "Epoch 1/1\n",
      "2072/2072 [==============================] - 13s 6ms/step - loss: 0.5339 - raw_multi_label_accuracy: 0.2857 - val_loss: 0.5928 - val_raw_multi_label_accuracy: 0.2676\n",
      "Epoch: 13/1000\n",
      "Train on 2072 samples, validate on 231 samples\n",
      "Epoch 1/1\n",
      "2072/2072 [==============================] - 15s 7ms/step - loss: 0.4773 - raw_multi_label_accuracy: 0.3948 - val_loss: 0.6110 - val_raw_multi_label_accuracy: 0.2948\n",
      "Epoch: 14/1000\n",
      "Train on 2072 samples, validate on 231 samples\n",
      "Epoch 1/1\n",
      "2072/2072 [==============================] - 16s 8ms/step - loss: 0.4343 - raw_multi_label_accuracy: 0.4698 - val_loss: 0.6190 - val_raw_multi_label_accuracy: 0.3153\n",
      "Epoch: 15/1000\n",
      "Train on 2072 samples, validate on 231 samples\n",
      "Epoch 1/1\n",
      "2072/2072 [==============================] - 20s 10ms/step - loss: 0.3904 - raw_multi_label_accuracy: 0.5338 - val_loss: 0.6283 - val_raw_multi_label_accuracy: 0.3096\n",
      "Epoch: 16/1000\n",
      "Train on 2072 samples, validate on 231 samples\n",
      "Epoch 1/1\n",
      "2072/2072 [==============================] - 15s 7ms/step - loss: 0.3479 - raw_multi_label_accuracy: 0.5814 - val_loss: 0.6412 - val_raw_multi_label_accuracy: 0.3051\n",
      "Epoch: 17/1000\n",
      "Train on 2072 samples, validate on 231 samples\n",
      "Epoch 1/1\n",
      "2072/2072 [==============================] - 13s 6ms/step - loss: 0.3075 - raw_multi_label_accuracy: 0.6305 - val_loss: 0.7770 - val_raw_multi_label_accuracy: 0.3221\n",
      "Epoch: 18/1000\n",
      "Train on 2072 samples, validate on 231 samples\n",
      "Epoch 1/1\n",
      "2072/2072 [==============================] - 17s 8ms/step - loss: 0.2587 - raw_multi_label_accuracy: 0.6912 - val_loss: 0.8227 - val_raw_multi_label_accuracy: 0.3276\n",
      "Epoch: 19/1000\n",
      "Train on 2072 samples, validate on 231 samples\n",
      "Epoch 1/1\n",
      "2072/2072 [==============================] - 14s 7ms/step - loss: 0.2489 - raw_multi_label_accuracy: 0.7018 - val_loss: 0.7727 - val_raw_multi_label_accuracy: 0.3231\n",
      "Epoch: 20/1000\n",
      "Train on 2072 samples, validate on 231 samples\n",
      "Epoch 1/1\n",
      "2072/2072 [==============================] - 14s 7ms/step - loss: 0.1960 - raw_multi_label_accuracy: 0.7771 - val_loss: 0.8929 - val_raw_multi_label_accuracy: 0.3334\n",
      "Epoch: 21/1000\n",
      "Train on 2072 samples, validate on 231 samples\n",
      "Epoch 1/1\n",
      "2072/2072 [==============================] - 14s 7ms/step - loss: 0.1580 - raw_multi_label_accuracy: 0.8224 - val_loss: 1.0093 - val_raw_multi_label_accuracy: 0.3379\n",
      "Epoch: 22/1000\n",
      "Train on 2072 samples, validate on 231 samples\n",
      "Epoch 1/1\n",
      "2072/2072 [==============================] - 15s 7ms/step - loss: 0.1318 - raw_multi_label_accuracy: 0.8599 - val_loss: 1.0658 - val_raw_multi_label_accuracy: 0.3341\n",
      "Epoch: 23/1000\n",
      "Train on 2072 samples, validate on 231 samples\n",
      "Epoch 1/1\n",
      "2072/2072 [==============================] - 13s 6ms/step - loss: 0.1127 - raw_multi_label_accuracy: 0.8774 - val_loss: 1.1715 - val_raw_multi_label_accuracy: 0.3415\n",
      "Epoch: 24/1000\n",
      "Train on 2072 samples, validate on 231 samples\n",
      "Epoch 1/1\n",
      "2072/2072 [==============================] - 15s 7ms/step - loss: 0.0894 - raw_multi_label_accuracy: 0.9062 - val_loss: 1.2456 - val_raw_multi_label_accuracy: 0.3369\n",
      "Epoch: 25/1000\n",
      "Train on 2072 samples, validate on 231 samples\n",
      "Epoch 1/1\n",
      "2072/2072 [==============================] - 16s 8ms/step - loss: 0.0779 - raw_multi_label_accuracy: 0.9148 - val_loss: 1.2748 - val_raw_multi_label_accuracy: 0.3373\n",
      "Epoch: 26/1000\n",
      "Train on 2072 samples, validate on 231 samples\n",
      "Epoch 1/1\n",
      "2072/2072 [==============================] - 14s 7ms/step - loss: 0.0694 - raw_multi_label_accuracy: 0.9249 - val_loss: 1.3459 - val_raw_multi_label_accuracy: 0.3241\n",
      "Epoch: 27/1000\n",
      "Train on 2072 samples, validate on 231 samples\n",
      "Epoch 1/1\n",
      "2072/2072 [==============================] - 13s 6ms/step - loss: 0.0577 - raw_multi_label_accuracy: 0.9383 - val_loss: 1.5136 - val_raw_multi_label_accuracy: 0.3443\n",
      "Epoch: 28/1000\n",
      "Train on 2072 samples, validate on 231 samples\n",
      "Epoch 1/1\n",
      "2072/2072 [==============================] - 13s 6ms/step - loss: 0.0459 - raw_multi_label_accuracy: 0.9536 - val_loss: 1.5093 - val_raw_multi_label_accuracy: 0.3404\n",
      "Epoch: 29/1000\n",
      "Train on 2072 samples, validate on 231 samples\n",
      "Epoch 1/1\n",
      "2072/2072 [==============================] - 13s 6ms/step - loss: 0.0386 - raw_multi_label_accuracy: 0.9619 - val_loss: 1.6170 - val_raw_multi_label_accuracy: 0.3279\n",
      "Epoch: 30/1000\n",
      "Train on 2072 samples, validate on 231 samples\n",
      "Epoch 1/1\n",
      "2072/2072 [==============================] - 13s 6ms/step - loss: 0.0285 - raw_multi_label_accuracy: 0.9749 - val_loss: 1.7140 - val_raw_multi_label_accuracy: 0.3242\n",
      "Epoch: 31/1000\n",
      "Train on 2072 samples, validate on 231 samples\n",
      "Epoch 1/1\n",
      "2072/2072 [==============================] - 14s 7ms/step - loss: 0.0201 - raw_multi_label_accuracy: 0.9841 - val_loss: 1.8065 - val_raw_multi_label_accuracy: 0.3320\n",
      "Epoch: 32/1000\n",
      "Train on 2072 samples, validate on 231 samples\n",
      "Epoch 1/1\n",
      "2072/2072 [==============================] - 15s 7ms/step - loss: 0.0162 - raw_multi_label_accuracy: 0.9880 - val_loss: 1.9439 - val_raw_multi_label_accuracy: 0.3197\n",
      "Epoch: 33/1000\n",
      "Train on 2072 samples, validate on 231 samples\n",
      "Epoch 1/1\n",
      "2072/2072 [==============================] - 15s 7ms/step - loss: 0.0113 - raw_multi_label_accuracy: 0.9945 - val_loss: 2.0647 - val_raw_multi_label_accuracy: 0.3403\n",
      "Epoch: 34/1000\n",
      "Train on 2072 samples, validate on 231 samples\n",
      "Epoch 1/1\n"
     ]
    },
    {
     "name": "stdout",
     "output_type": "stream",
     "text": [
      "2072/2072 [==============================] - 15s 7ms/step - loss: 0.0102 - raw_multi_label_accuracy: 0.9939 - val_loss: 2.1055 - val_raw_multi_label_accuracy: 0.3164\n",
      "Epoch: 35/1000\n",
      "Train on 2072 samples, validate on 231 samples\n",
      "Epoch 1/1\n",
      "2072/2072 [==============================] - 14s 7ms/step - loss: 0.0084 - raw_multi_label_accuracy: 0.9952 - val_loss: 2.0822 - val_raw_multi_label_accuracy: 0.3165\n",
      "Epoch: 36/1000\n",
      "Train on 2072 samples, validate on 231 samples\n",
      "Epoch 1/1\n",
      "2072/2072 [==============================] - 14s 7ms/step - loss: 0.0065 - raw_multi_label_accuracy: 0.9959 - val_loss: 2.1846 - val_raw_multi_label_accuracy: 0.3386\n",
      "Epoch: 37/1000\n",
      "Train on 2072 samples, validate on 231 samples\n",
      "Epoch 1/1\n",
      "2072/2072 [==============================] - 13s 6ms/step - loss: 0.0049 - raw_multi_label_accuracy: 0.9972 - val_loss: 2.2327 - val_raw_multi_label_accuracy: 0.3257\n",
      "Epoch: 38/1000\n",
      "Train on 2072 samples, validate on 231 samples\n",
      "Epoch 1/1\n",
      "2072/2072 [==============================] - 15s 7ms/step - loss: 0.0037 - raw_multi_label_accuracy: 0.9990 - val_loss: 2.3811 - val_raw_multi_label_accuracy: 0.3200\n",
      "Epoch: 39/1000\n",
      "Train on 2072 samples, validate on 231 samples\n",
      "Epoch 1/1\n",
      "2072/2072 [==============================] - 14s 7ms/step - loss: 0.0027 - raw_multi_label_accuracy: 0.9985 - val_loss: 2.4309 - val_raw_multi_label_accuracy: 0.3316\n",
      "Epoch: 40/1000\n",
      "Train on 2072 samples, validate on 231 samples\n",
      "Epoch 1/1\n",
      "2072/2072 [==============================] - 15s 7ms/step - loss: 0.0023 - raw_multi_label_accuracy: 0.9990 - val_loss: 2.4549 - val_raw_multi_label_accuracy: 0.3331\n",
      "Epoch: 41/1000\n",
      "Train on 2072 samples, validate on 231 samples\n",
      "Epoch 1/1\n",
      "2072/2072 [==============================] - 15s 7ms/step - loss: 0.0026 - raw_multi_label_accuracy: 0.9992 - val_loss: 2.4414 - val_raw_multi_label_accuracy: 0.3291\n",
      "Epoch: 42/1000\n",
      "Train on 2072 samples, validate on 231 samples\n",
      "Epoch 1/1\n",
      "2072/2072 [==============================] - 19s 9ms/step - loss: 0.0025 - raw_multi_label_accuracy: 0.9992 - val_loss: 2.4881 - val_raw_multi_label_accuracy: 0.3200\n",
      "Epoch: 43/1000\n",
      "Train on 2072 samples, validate on 231 samples\n",
      "Epoch 1/1\n",
      "2072/2072 [==============================] - 21s 10ms/step - loss: 0.0024 - raw_multi_label_accuracy: 0.9995 - val_loss: 2.4849 - val_raw_multi_label_accuracy: 0.3353\n",
      "Epoch: 44/1000\n",
      "Train on 2072 samples, validate on 231 samples\n",
      "Epoch 1/1\n",
      "2072/2072 [==============================] - 16s 8ms/step - loss: 0.0017 - raw_multi_label_accuracy: 0.9992 - val_loss: 2.5978 - val_raw_multi_label_accuracy: 0.3322\n",
      "Epoch: 45/1000\n",
      "Train on 2072 samples, validate on 231 samples\n",
      "Epoch 1/1\n",
      "2072/2072 [==============================] - 17s 8ms/step - loss: 9.2762e-04 - raw_multi_label_accuracy: 1.0000 - val_loss: 2.6186 - val_raw_multi_label_accuracy: 0.3275\n",
      "Epoch: 46/1000\n",
      "Train on 2072 samples, validate on 231 samples\n",
      "Epoch 1/1\n",
      "2072/2072 [==============================] - 16s 8ms/step - loss: 6.9142e-04 - raw_multi_label_accuracy: 1.0000 - val_loss: 2.6426 - val_raw_multi_label_accuracy: 0.3289\n",
      "Epoch: 47/1000\n",
      "Train on 2072 samples, validate on 231 samples\n",
      "Epoch 1/1\n",
      "2072/2072 [==============================] - 17s 8ms/step - loss: 5.4549e-04 - raw_multi_label_accuracy: 1.0000 - val_loss: 2.6679 - val_raw_multi_label_accuracy: 0.3315\n",
      "Epoch: 48/1000\n",
      "Train on 2072 samples, validate on 231 samples\n",
      "Epoch 1/1\n",
      "2072/2072 [==============================] - 16s 8ms/step - loss: 4.7413e-04 - raw_multi_label_accuracy: 1.0000 - val_loss: 2.6868 - val_raw_multi_label_accuracy: 0.3259\n",
      "Epoch: 49/1000\n",
      "Train on 2072 samples, validate on 231 samples\n",
      "Epoch 1/1\n",
      "2072/2072 [==============================] - 18s 9ms/step - loss: 4.2949e-04 - raw_multi_label_accuracy: 1.0000 - val_loss: 2.7030 - val_raw_multi_label_accuracy: 0.3310\n",
      "Epoch: 50/1000\n",
      "Train on 2072 samples, validate on 231 samples\n",
      "Epoch 1/1\n",
      "2072/2072 [==============================] - 18s 8ms/step - loss: 3.9236e-04 - raw_multi_label_accuracy: 1.0000 - val_loss: 2.7275 - val_raw_multi_label_accuracy: 0.3306\n",
      "Epoch: 51/1000\n",
      "Train on 2072 samples, validate on 231 samples\n",
      "Epoch 1/1\n",
      "2072/2072 [==============================] - 21s 10ms/step - loss: 3.6035e-04 - raw_multi_label_accuracy: 1.0000 - val_loss: 2.7519 - val_raw_multi_label_accuracy: 0.3295\n",
      "Epoch: 52/1000\n",
      "Train on 2072 samples, validate on 231 samples\n",
      "Epoch 1/1\n",
      "2072/2072 [==============================] - 14s 7ms/step - loss: 3.3675e-04 - raw_multi_label_accuracy: 1.0000 - val_loss: 2.7643 - val_raw_multi_label_accuracy: 0.3304\n",
      "Epoch: 53/1000\n",
      "Train on 2072 samples, validate on 231 samples\n",
      "Epoch 1/1\n",
      "2072/2072 [==============================] - 16s 8ms/step - loss: 3.1057e-04 - raw_multi_label_accuracy: 1.0000 - val_loss: 2.7812 - val_raw_multi_label_accuracy: 0.3316\n",
      "Avoid Overfitting, Initiating Early Stopping\n",
      "Epoch: 54/1000\n",
      "Train on 2072 samples, validate on 231 samples\n",
      "Epoch 1/1\n",
      "2072/2072 [==============================] - 15s 7ms/step - loss: 2.9480e-04 - raw_multi_label_accuracy: 1.0000 - val_loss: 2.7894 - val_raw_multi_label_accuracy: 0.3344\n",
      "Epoch: 55/1000\n",
      "Train on 2072 samples, validate on 231 samples\n",
      "Epoch 1/1\n",
      "2072/2072 [==============================] - 14s 7ms/step - loss: 2.7534e-04 - raw_multi_label_accuracy: 1.0000 - val_loss: 2.8056 - val_raw_multi_label_accuracy: 0.3345\n",
      "Epoch: 56/1000\n",
      "Train on 2072 samples, validate on 231 samples\n",
      "Epoch 1/1\n",
      "2072/2072 [==============================] - 14s 7ms/step - loss: 2.5918e-04 - raw_multi_label_accuracy: 1.0000 - val_loss: 2.8137 - val_raw_multi_label_accuracy: 0.3354\n",
      "Epoch: 57/1000\n",
      "Train on 2072 samples, validate on 231 samples\n",
      "Epoch 1/1\n",
      "2072/2072 [==============================] - 16s 8ms/step - loss: 2.4745e-04 - raw_multi_label_accuracy: 1.0000 - val_loss: 2.8320 - val_raw_multi_label_accuracy: 0.3354\n",
      "Epoch: 58/1000\n",
      "Train on 2072 samples, validate on 231 samples\n",
      "Epoch 1/1\n",
      "2072/2072 [==============================] - 14s 7ms/step - loss: 2.3134e-04 - raw_multi_label_accuracy: 1.0000 - val_loss: 2.8406 - val_raw_multi_label_accuracy: 0.3377\n",
      "Epoch: 59/1000\n",
      "Train on 2072 samples, validate on 231 samples\n",
      "Epoch 1/1\n",
      "2072/2072 [==============================] - 20s 10ms/step - loss: 2.1921e-04 - raw_multi_label_accuracy: 1.0000 - val_loss: 2.8513 - val_raw_multi_label_accuracy: 0.3396\n",
      "Epoch: 60/1000\n",
      "Train on 2072 samples, validate on 231 samples\n",
      "Epoch 1/1\n",
      "2072/2072 [==============================] - 23s 11ms/step - loss: 2.0876e-04 - raw_multi_label_accuracy: 1.0000 - val_loss: 2.8627 - val_raw_multi_label_accuracy: 0.3343\n",
      "Epoch: 61/1000\n",
      "Train on 2072 samples, validate on 231 samples\n",
      "Epoch 1/1\n",
      "2072/2072 [==============================] - 14s 7ms/step - loss: 1.9907e-04 - raw_multi_label_accuracy: 1.0000 - val_loss: 2.8723 - val_raw_multi_label_accuracy: 0.3371\n",
      "Epoch: 62/1000\n",
      "Train on 2072 samples, validate on 231 samples\n",
      "Epoch 1/1\n",
      "2072/2072 [==============================] - 12s 6ms/step - loss: 1.8836e-04 - raw_multi_label_accuracy: 1.0000 - val_loss: 2.8824 - val_raw_multi_label_accuracy: 0.3311\n",
      "Epoch: 63/1000\n",
      "Train on 2072 samples, validate on 231 samples\n",
      "Epoch 1/1\n",
      "2072/2072 [==============================] - 12s 6ms/step - loss: 1.8039e-04 - raw_multi_label_accuracy: 1.0000 - val_loss: 2.9021 - val_raw_multi_label_accuracy: 0.3391\n",
      "Epoch: 64/1000\n",
      "Train on 2072 samples, validate on 231 samples\n",
      "Epoch 1/1\n",
      "2072/2072 [==============================] - 14s 7ms/step - loss: 1.7146e-04 - raw_multi_label_accuracy: 1.0000 - val_loss: 2.9018 - val_raw_multi_label_accuracy: 0.3371\n",
      "Epoch: 65/1000\n",
      "Train on 2072 samples, validate on 231 samples\n",
      "Epoch 1/1\n",
      "2072/2072 [==============================] - 17s 8ms/step - loss: 1.6232e-04 - raw_multi_label_accuracy: 1.0000 - val_loss: 2.9158 - val_raw_multi_label_accuracy: 0.3353\n",
      "Epoch: 66/1000\n",
      "Train on 2072 samples, validate on 231 samples\n",
      "Epoch 1/1\n",
      "2072/2072 [==============================] - 20s 10ms/step - loss: 1.5524e-04 - raw_multi_label_accuracy: 1.0000 - val_loss: 2.9268 - val_raw_multi_label_accuracy: 0.3371\n",
      "Epoch: 67/1000\n",
      "Train on 2072 samples, validate on 231 samples\n",
      "Epoch 1/1\n",
      "2072/2072 [==============================] - 25s 12ms/step - loss: 1.4790e-04 - raw_multi_label_accuracy: 1.0000 - val_loss: 2.9402 - val_raw_multi_label_accuracy: 0.3381\n",
      "Epoch: 68/1000\n",
      "Train on 2072 samples, validate on 231 samples\n",
      "Epoch 1/1\n"
     ]
    },
    {
     "name": "stdout",
     "output_type": "stream",
     "text": [
      "2072/2072 [==============================] - 25s 12ms/step - loss: 1.4085e-04 - raw_multi_label_accuracy: 1.0000 - val_loss: 2.9463 - val_raw_multi_label_accuracy: 0.3391\n",
      "Epoch: 69/1000\n",
      "Train on 2072 samples, validate on 231 samples\n",
      "Epoch 1/1\n",
      "2072/2072 [==============================] - 31s 15ms/step - loss: 1.3417e-04 - raw_multi_label_accuracy: 1.0000 - val_loss: 2.9552 - val_raw_multi_label_accuracy: 0.3361\n",
      "Epoch: 70/1000\n",
      "Train on 2072 samples, validate on 231 samples\n",
      "Epoch 1/1\n",
      "2072/2072 [==============================] - 20s 9ms/step - loss: 1.2881e-04 - raw_multi_label_accuracy: 1.0000 - val_loss: 2.9656 - val_raw_multi_label_accuracy: 0.3367\n",
      "Epoch: 71/1000\n",
      "Train on 2072 samples, validate on 231 samples\n",
      "Epoch 1/1\n",
      "2072/2072 [==============================] - 17s 8ms/step - loss: 1.2304e-04 - raw_multi_label_accuracy: 1.0000 - val_loss: 2.9753 - val_raw_multi_label_accuracy: 0.3339\n",
      "Epoch: 72/1000\n",
      "Train on 2072 samples, validate on 231 samples\n",
      "Epoch 1/1\n",
      "2072/2072 [==============================] - 17s 8ms/step - loss: 1.1837e-04 - raw_multi_label_accuracy: 1.0000 - val_loss: 2.9842 - val_raw_multi_label_accuracy: 0.3371\n",
      "Epoch: 73/1000\n",
      "Train on 2072 samples, validate on 231 samples\n",
      "Epoch 1/1\n",
      "2072/2072 [==============================] - 14s 7ms/step - loss: 1.1279e-04 - raw_multi_label_accuracy: 1.0000 - val_loss: 2.9955 - val_raw_multi_label_accuracy: 0.3381\n",
      "Epoch: 74/1000\n",
      "Train on 2072 samples, validate on 231 samples\n",
      "Epoch 1/1\n",
      "2072/2072 [==============================] - 16s 8ms/step - loss: 1.0714e-04 - raw_multi_label_accuracy: 1.0000 - val_loss: 3.0006 - val_raw_multi_label_accuracy: 0.3376\n",
      "Epoch: 75/1000\n",
      "Train on 2072 samples, validate on 231 samples\n",
      "Epoch 1/1\n",
      "2072/2072 [==============================] - 12s 6ms/step - loss: 1.0459e-04 - raw_multi_label_accuracy: 1.0000 - val_loss: 3.0074 - val_raw_multi_label_accuracy: 0.3361\n",
      "Epoch: 76/1000\n",
      "Train on 2072 samples, validate on 231 samples\n",
      "Epoch 1/1\n",
      "2072/2072 [==============================] - 14s 7ms/step - loss: 9.9033e-05 - raw_multi_label_accuracy: 1.0000 - val_loss: 3.0158 - val_raw_multi_label_accuracy: 0.3386\n",
      "Epoch: 77/1000\n",
      "Train on 2072 samples, validate on 231 samples\n",
      "Epoch 1/1\n",
      "2072/2072 [==============================] - 14s 7ms/step - loss: 9.4899e-05 - raw_multi_label_accuracy: 1.0000 - val_loss: 3.0215 - val_raw_multi_label_accuracy: 0.3381\n",
      "Epoch: 78/1000\n",
      "Train on 2072 samples, validate on 231 samples\n",
      "Epoch 1/1\n",
      "2072/2072 [==============================] - 15s 7ms/step - loss: 9.1057e-05 - raw_multi_label_accuracy: 1.0000 - val_loss: 3.0349 - val_raw_multi_label_accuracy: 0.3371\n",
      "Stopping Early to Avoid Overfitting.\n"
     ]
    }
   ],
   "source": [
    "n_epochs = 1000\n",
    "history = []\n",
    "test_err = []\n",
    "test_acc = []\n",
    "test_prec = []\n",
    "test_recall = []\n",
    "stopping = 1\n",
    "pat = 10\n",
    "patience = 10\n",
    "delay = 25\n",
    "\n",
    "for num in range(n_epochs):\n",
    "    print(\"Epoch: {}/{}\".format(num+1, n_epochs))\n",
    "    this_hist = model_lstm.fit(x_train_seq, y_train, batch_size=100, epochs=1, validation_split=0.1)\n",
    "    history.append(this_hist)\n",
    "    \n",
    "    vl = this_hist.history['val_loss']\n",
    "    \n",
    "    if patience > -1:\n",
    "        if stopping >= vl[0]:\n",
    "            if patience < pat:\n",
    "                patience = pat\n",
    "            stopping = vl\n",
    "        else:\n",
    "            patience -= 1\n",
    "            stopping = vl\n",
    "    else:\n",
    "        delay -= 1\n",
    "        \n",
    "        \n",
    "    this_preds = nn_output_to_predictions(model_lstm.predict(x_test_seq))\n",
    "    acc = multi_label_accuracy(y_test, this_preds)\n",
    "    test_acc.append(acc)\n",
    "    test_err.append(1-acc)\n",
    "    \n",
    "    if patience == 0:\n",
    "        print(\"Avoid Overfitting, Initiating Early Stopping\")\n",
    "        patience = -1\n",
    "        \n",
    "    if delay == 0:\n",
    "        print(\"Stopping Early to Avoid Overfitting.\")\n",
    "        break"
   ]
  },
  {
   "cell_type": "code",
   "execution_count": 27,
   "metadata": {},
   "outputs": [],
   "source": [
    "# go through history to store accuracies and errors in individual lists\n",
    "all_multi_acc = []\n",
    "all_loss = []\n",
    "all_val_multi_acc = []\n",
    "all_val_loss = []\n",
    "\n",
    "for x in history:\n",
    "    all_multi_acc.append(x.history['raw_multi_label_accuracy'])\n",
    "    all_loss.append(x.history['loss'])\n",
    "    all_val_multi_acc.append(x.history['val_raw_multi_label_accuracy'])\n",
    "    all_val_loss.append(x.history['val_loss'])\n",
    "    \n",
    "# flatten all variables to one dimension list\n",
    "flat_acc = [val for sublist in all_multi_acc for val in sublist]\n",
    "flat_loss = [val for sublist in all_loss for val in sublist]\n",
    "flat_val_acc = [val for sublist in all_val_multi_acc for val in sublist]\n",
    "flat_val_loss = [val for sublist in all_val_loss for val in sublist]\n"
   ]
  },
  {
   "cell_type": "code",
   "execution_count": 28,
   "metadata": {},
   "outputs": [
    {
     "data": {
      "text/plain": [
       "<Figure size 640x480 with 1 Axes>"
      ]
     },
     "metadata": {},
     "output_type": "display_data"
    }
   ],
   "source": [
    "import matplotlib.pyplot as plt\n",
    "# plot accuracy\n",
    "plt.plot(all_multi_acc)\n",
    "plt.plot(all_val_multi_acc)\n",
    "plt.plot(test_acc)\n",
    "plt.title(\"Bi-Directional LSTM Accuracy - Less Genres\")\n",
    "plt.ylabel('accuracy')\n",
    "plt.xlabel('epoch')\n",
    "plt.legend(['train', 'valid', 'test'], loc='upper left')\n",
    "plt.show()"
   ]
  },
  {
   "cell_type": "code",
   "execution_count": 29,
   "metadata": {},
   "outputs": [
    {
     "data": {
      "image/png": "[encoded data removed]",
      "text/plain": [
       "<Figure size 432x288 with 1 Axes>"
      ]
     },
     "metadata": {
      "needs_background": "light"
     },
     "output_type": "display_data"
    }
   ],
   "source": [
    "# plot loss (error)\n",
    "plt.plot(all_loss)\n",
    "plt.plot(all_val_loss)\n",
    "plt.plot(test_err)\n",
    "plt.title(\"Bi-Directional LSTM Loss - Less Genres\")\n",
    "plt.ylabel('loss')\n",
    "plt.xlabel('epoch')\n",
    "plt.legend(['train', 'valid', 'test'], loc='upper left')\n",
    "plt.show()"
   ]
  },
  {
   "cell_type": "markdown",
   "metadata": {},
   "source": [
    "### Get Final Predictions\n",
    "<ul>\n",
    "    <li>Show Multi-Level Metrics</li>\n",
    "    <li>Show percentage of correctly labeled predicitons</li>\n",
    "    <li>Show accuracy, precision, and recall for each genre</li>\n",
    "</ul>"
   ]
  },
  {
   "cell_type": "code",
   "execution_count": 30,
   "metadata": {},
   "outputs": [],
   "source": [
    "predictions = nn_output_to_predictions(model_lstm.predict(x_test_seq))"
   ]
  },
  {
   "cell_type": "code",
   "execution_count": 31,
   "metadata": {},
   "outputs": [
    {
     "data": {
      "text/plain": [
       "189"
      ]
     },
     "execution_count": 31,
     "metadata": {},
     "output_type": "execute_result"
    }
   ],
   "source": [
    "y_test[:,0].sum()"
   ]
  },
  {
   "cell_type": "code",
   "execution_count": 32,
   "metadata": {},
   "outputs": [
    {
     "data": {
      "text/plain": [
       "172"
      ]
     },
     "execution_count": 32,
     "metadata": {},
     "output_type": "execute_result"
    }
   ],
   "source": [
    "predictions[:,0].sum()"
   ]
  },
  {
   "cell_type": "code",
   "execution_count": 33,
   "metadata": {},
   "outputs": [
    {
     "data": {
      "text/plain": [
       "0.3626157407407409"
      ]
     },
     "execution_count": 33,
     "metadata": {},
     "output_type": "execute_result"
    }
   ],
   "source": [
    "multi_label_accuracy(y_test, predictions)"
   ]
  },
  {
   "cell_type": "code",
   "execution_count": 34,
   "metadata": {},
   "outputs": [
    {
     "data": {
      "text/plain": [
       "0.46701388888888906"
      ]
     },
     "execution_count": 34,
     "metadata": {},
     "output_type": "execute_result"
    }
   ],
   "source": [
    "multi_label_precision(y_test, predictions)"
   ]
  },
  {
   "cell_type": "code",
   "execution_count": 35,
   "metadata": {},
   "outputs": [
    {
     "data": {
      "text/plain": [
       "0.5316550925925925"
      ]
     },
     "execution_count": 35,
     "metadata": {},
     "output_type": "execute_result"
    }
   ],
   "source": [
    "multi_label_recall(y_test, predictions)"
   ]
  },
  {
   "cell_type": "code",
   "execution_count": 36,
   "metadata": {},
   "outputs": [
    {
     "name": "stdout",
     "output_type": "stream",
     "text": [
      "Percent of correctly decided label decisions: 65.68287037037037\n"
     ]
    }
   ],
   "source": [
    "print(\"Percent of correctly decided label decisions: \" + str(100* (1-hamming_loss(y_test, predictions))))"
   ]
  },
  {
   "cell_type": "code",
   "execution_count": 37,
   "metadata": {},
   "outputs": [
    {
     "name": "stdout",
     "output_type": "stream",
     "text": [
      "Accuruacy for Action-Adventure: 0.6545138888888888\n",
      "Precision for Action-Adventure: 0.47093023255813954\n",
      "Recall for Action-Adventure: 0.42857142857142855\n",
      "\n",
      "Accuruacy for Romance: 0.7413194444444444\n",
      "Precision for Romance: 0.3068181818181818\n",
      "Recall for Romance: 0.23478260869565218\n",
      "\n",
      "Accuruacy for Horror-Thriller: 0.5972222222222222\n",
      "Precision for Horror-Thriller: 0.43416370106761565\n",
      "Recall for Horror-Thriller: 0.6256410256410256\n",
      "\n",
      "Accuruacy for Comedy: 0.6215277777777778\n",
      "Precision for Comedy: 0.4406779661016949\n",
      "Recall for Comedy: 0.39593908629441626\n",
      "\n",
      "Accuruacy for Science Fiction: 0.75\n",
      "Precision for Science Fiction: 0.28125\n",
      "Recall for Science Fiction: 0.2647058823529412\n",
      "\n",
      "Accuruacy for Drama: 0.5763888888888888\n",
      "Precision for Drama: 0.5575447570332481\n",
      "Recall for Drama: 0.754325259515571\n",
      "\n"
     ]
    }
   ],
   "source": [
    "get_per_label_metrics(y_test, predictions)"
   ]
  },
  {
   "cell_type": "code",
   "execution_count": null,
   "metadata": {},
   "outputs": [],
   "source": []
  }
 ],
 "metadata": {
  "kernelspec": {
   "display_name": "Python 3",
   "language": "python",
   "name": "python3"
  },
  "language_info": {
   "codemirror_mode": {
    "name": "ipython",
    "version": 3
   },
   "file_extension": ".py",
   "mimetype": "text/x-python",
   "name": "python",
   "nbconvert_exporter": "python",
   "pygments_lexer": "ipython3",
   "version": "3.7.0"
  }
 },
 "nbformat": 4,
 "nbformat_minor": 2
}
