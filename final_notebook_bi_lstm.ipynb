{
 "cells": [
  {
   "cell_type": "markdown",
   "metadata": {},
   "source": [
    "# LSTM on all genres"
   ]
  },
  {
   "cell_type": "code",
   "execution_count": 1,
   "metadata": {},
   "outputs": [],
   "source": [
    "import numpy as np\n",
    "import pandas as pd\n",
    "#for reading in data properly\n",
    "import ast\n",
    "import json\n",
    "\n",
    "import gensim\n",
    "from gensim.models import Doc2Vec\n",
    "from gensim.models import Word2Vec\n",
    "from gensim.models.doc2vec import TaggedDocument\n",
    "\n",
    "from sklearn.model_selection import train_test_split\n",
    "from sklearn import utils\n",
    "\n",
    "import re\n",
    "\n",
    "import nltk\n",
    "from nltk.corpus import stopwords\n",
    "from nltk.tokenize import word_tokenize\n",
    "\n",
    "stop_words = set(stopwords.words('english'))"
   ]
  },
  {
   "cell_type": "markdown",
   "metadata": {},
   "source": [
    "### Load Data"
   ]
  },
  {
   "cell_type": "code",
   "execution_count": 2,
   "metadata": {},
   "outputs": [],
   "source": [
    "# read in data\n",
    "all_data = pd.read_csv('train.csv')\n",
    "all_data = all_data.dropna(subset=['overview', 'genres']) #drop cols without overview or genre (data we use or labels)\n",
    "genre_set = {'Comedy'}"
   ]
  },
  {
   "cell_type": "markdown",
   "metadata": {},
   "source": [
    "### Preprocess Data\n",
    "<ul>\n",
    "    <li>Get all possible genres.</li>\n",
    "    <li>Vectorize Genres:</li>\n",
    "    <ul>\n",
    "        <li>Save genres as a vector of 0s and 1s.</li>\n",
    "        <li>Save genres as list of strings.</li>\n",
    "    </ul>\n",
    "    <li>Process Overview Category</li>\n",
    "    <ul>\n",
    "        <li>Remove punctuation</li>\n",
    "        <li>Set to lowercase</li>\n",
    "    </ul>\n",
    "</ul>"
   ]
  },
  {
   "cell_type": "code",
   "execution_count": 3,
   "metadata": {},
   "outputs": [],
   "source": [
    "def text_to_list(x):\n",
    "    if pd.isna(x):\n",
    "        return ''\n",
    "    else:\n",
    "        return ast.literal_eval(x)\n",
    "\n",
    "def parse_json(x):\n",
    "    try:\n",
    "        return json.loads(x.replace(\"'\", '\"'))[0]['name']\n",
    "    except:\n",
    "        return ''\n",
    "    \n",
    "def parse_all_genres_json(x):\n",
    "    try:\n",
    "        json_genres = json.loads(x.replace(\"'\", '\"'))\n",
    "        numElems = len(json_genres)\n",
    "        for i in range(numElems):\n",
    "            genre_set.add(json_genres[i]['name'])\n",
    "    except:\n",
    "        return ''\n",
    "    \n",
    "def parse_genres_json(x):\n",
    "    try:\n",
    "        json_genres = json.loads(x.replace(\"'\", '\"'))\n",
    "        numElems = len(json_genres)\n",
    "        ret = [0]*len(genre_dict) #20 0s\n",
    "        for i in range(numElems):\n",
    "            ret[genre_dict[(json_genres[i]['name'])]] = 1\n",
    "        return ret\n",
    "    except:\n",
    "        return ''\n",
    "    \n",
    "\n",
    "def get_labels_as_strs(x):\n",
    "    try:\n",
    "        json_genres = json.loads(x.replace(\"'\", '\"'))\n",
    "        numElems = len(json_genres)\n",
    "        ret = []#20 0s\n",
    "        for i in range(numElems):\n",
    "            ret.append(json_genres[i]['name'])\n",
    "        return ret\n",
    "    except:\n",
    "        return ''"
   ]
  },
  {
   "cell_type": "code",
   "execution_count": 4,
   "metadata": {},
   "outputs": [],
   "source": [
    "# generate list of genres \n",
    "def getAllGenres():\n",
    "    full_data = pd.read_csv('train.csv')\n",
    "\n",
    "    y = full_data['genres']\n",
    "    y.apply(parse_all_genres_json)"
   ]
  },
  {
   "cell_type": "code",
   "execution_count": 5,
   "metadata": {},
   "outputs": [],
   "source": [
    "getAllGenres()#populate the genre set"
   ]
  },
  {
   "cell_type": "code",
   "execution_count": 6,
   "metadata": {},
   "outputs": [],
   "source": [
    "#get set to dictionary for indexing of target vectors\n",
    "genre_dict = {}\n",
    "index = 0\n",
    "for genre in genre_set:\n",
    "    genre_dict[genre] = index\n",
    "    index += 1"
   ]
  },
  {
   "cell_type": "code",
   "execution_count": 7,
   "metadata": {},
   "outputs": [],
   "source": [
    "# vectorize genres\n",
    "def getGenresVects():\n",
    "    y = all_data['genres']\n",
    "    ret = y.apply(parse_genres_json)\n",
    "    all_data['genres_vect'] = ret\n",
    "    label_strs = y.apply(get_labels_as_strs)\n",
    "    all_data['genres_labels'] = label_strs\n",
    "    return ret"
   ]
  },
  {
   "cell_type": "code",
   "execution_count": 8,
   "metadata": {},
   "outputs": [],
   "source": [
    "labels_vects = getGenresVects() #get label vectors for genres indexed by indexes in genre_dict"
   ]
  },
  {
   "cell_type": "code",
   "execution_count": 9,
   "metadata": {},
   "outputs": [],
   "source": [
    "#put to lower case, remove punctation\n",
    "def cleanText(text):\n",
    "    text = re.sub(r'[^a-z A-Z0-9]', \"\", text) #maybe shouldn't remove punction between words here?\n",
    "    text = text.lower()\n",
    "    return text\n",
    "all_data['cleanOverview'] = all_data['overview'].apply(cleanText)"
   ]
  },
  {
   "cell_type": "code",
   "execution_count": 10,
   "metadata": {},
   "outputs": [],
   "source": [
    "#logistic regression data\n",
    "lr_data = all_data[['cleanOverview', 'genres_labels', 'genres_vect', 'overview']]"
   ]
  },
  {
   "cell_type": "code",
   "execution_count": 11,
   "metadata": {},
   "outputs": [],
   "source": [
    "train, test = train_test_split(lr_data, test_size=0.2, random_state=42)"
   ]
  },
  {
   "cell_type": "markdown",
   "metadata": {},
   "source": [
    "## LSTM \n",
    "<ul>\n",
    "    <li>Get Word Embeddings</li>\n",
    "    <li>Tokenize words</li>\n",
    "    <li>Vectorize Overview</li>\n",
    "</ul>"
   ]
  },
  {
   "cell_type": "code",
   "execution_count": 12,
   "metadata": {},
   "outputs": [],
   "source": [
    "#get word embeddings\n",
    "x = train['cleanOverview'].values.tolist()\n",
    "y = train['genres_vect']"
   ]
  },
  {
   "cell_type": "code",
   "execution_count": 13,
   "metadata": {},
   "outputs": [],
   "source": [
    "x_test = test['cleanOverview'].values.tolist()\n",
    "y_test = test['genres_vect']"
   ]
  },
  {
   "cell_type": "code",
   "execution_count": 14,
   "metadata": {},
   "outputs": [],
   "source": [
    "y_train = y.tolist()\n",
    "y_train = np.array(y_train)"
   ]
  },
  {
   "cell_type": "code",
   "execution_count": 15,
   "metadata": {},
   "outputs": [],
   "source": [
    "y_test = y_test.tolist()\n",
    "y_test = np.array(y_test)"
   ]
  },
  {
   "cell_type": "code",
   "execution_count": 16,
   "metadata": {},
   "outputs": [],
   "source": [
    "tok = [word_tokenize(sent) for sent in x]"
   ]
  },
  {
   "cell_type": "code",
   "execution_count": 17,
   "metadata": {},
   "outputs": [],
   "source": [
    "word_vec_len = 32\n",
    "model = Word2Vec(tok, min_count = 1, size=word_vec_len)"
   ]
  },
  {
   "cell_type": "code",
   "execution_count": 18,
   "metadata": {},
   "outputs": [
    {
     "name": "stderr",
     "output_type": "stream",
     "text": [
      "Using TensorFlow backend.\n"
     ]
    }
   ],
   "source": [
    "from keras.preprocessing.text import Tokenizer\n",
    "from keras.preprocessing.sequence import pad_sequences\n",
    "\n",
    "num_words_kept = 100000 #using 100000 most popular words, use throughout\n",
    "\n",
    "tokenizer = Tokenizer(num_words_kept)\n",
    "tokenizer.fit_on_texts(x)\n",
    "sequences = tokenizer.texts_to_sequences(x)\n",
    "\n",
    "x_train_seq = pad_sequences(sequences, maxlen=200)"
   ]
  },
  {
   "cell_type": "code",
   "execution_count": 19,
   "metadata": {},
   "outputs": [],
   "source": [
    "test_sequences = tokenizer.texts_to_sequences(x_test)\n",
    "x_test_seq = pad_sequences(test_sequences, maxlen=200)"
   ]
  },
  {
   "cell_type": "code",
   "execution_count": 20,
   "metadata": {},
   "outputs": [],
   "source": [
    "embeddings_index = {}\n",
    "for w in model.wv.vocab.keys():\n",
    "    embeddings_index[w] = model.wv[w]\n",
    "\n",
    "\n",
    "embedding_matrix = np.zeros((num_words_kept, word_vec_len))\n",
    "for word, i in tokenizer.word_index.items():\n",
    "    if i >= num_words_kept:\n",
    "        continue\n",
    "    embedding_vector = embeddings_index.get(word)\n",
    "    if embedding_vector is not None:\n",
    "        embedding_matrix[i] = embedding_vector"
   ]
  },
  {
   "cell_type": "markdown",
   "metadata": {},
   "source": [
    "### Get Metrics\n",
    "<ul>\n",
    "    <li>Get accuracy, precision, recall for each genre.</li>\n",
    "    <li>Get multi-label metrics.</li>\n",
    "    <li>Compute hamming loss.</li>\n",
    "    <li>Implement Delayed Early Stopping.</li>\n",
    "</ul>"
   ]
  },
  {
   "cell_type": "code",
   "execution_count": 21,
   "metadata": {},
   "outputs": [],
   "source": [
    "from sklearn.metrics import accuracy_score\n",
    "from sklearn.metrics import precision_score\n",
    "from sklearn.metrics import recall_score\n",
    "\n",
    "def get_per_label_metrics(real_labels_matrix, predictions_labels_matrix):\n",
    "    for genre in genre_dict.keys():\n",
    "        index = genre_dict[genre]\n",
    "        real_labels_vect = real_labels_matrix[:, index]\n",
    "        prediction_vect = predictions_labels_matrix[:,index]\n",
    "        print(\"Accuracy for \" + genre + \": \" + str(accuracy_score(real_labels_vect, prediction_vect)))\n",
    "        print(\"Precision for \" + genre + \": \" + str(precision_score(real_labels_vect, prediction_vect)))\n",
    "        print(\"Recall for \" + genre + \": \" + str(recall_score(real_labels_vect, prediction_vect)))\n",
    "        print()"
   ]
  },
  {
   "cell_type": "code",
   "execution_count": 22,
   "metadata": {},
   "outputs": [],
   "source": [
    "#size of intersection of predicted and actual labels divided by size of their union for each datapoint tested on\n",
    "#sum those and then divide by number of datapoints\n",
    "#vectorized for speed\n",
    "def multi_label_accuracy(real_labels_matrix, predictions_labels_matrix):\n",
    "    #binary so set intersection is and operator\n",
    "    intersection = real_labels_matrix & predictions_labels_matrix\n",
    "    #set union for binary is same as or operator\n",
    "    union = real_labels_matrix | predictions_labels_matrix\n",
    "    #sum(array.T) gets number of 1s in row\n",
    "    row_wise_accuracy = sum(intersection.T) / sum(union.T)\n",
    "    return sum(row_wise_accuracy) / real_labels_matrix.shape[0]\n",
    "\n",
    "#size of intersection of predicted and actual labels divided by size of predicted set for each datapoint tested on\n",
    "#sum those and divide by number of datapoints\n",
    "#if no predicted labels, don't count that row towards the precision as that would be undefined\n",
    "def multi_label_precision(real_labels_matrix, predictions_labels_matrix):\n",
    "    #binary so set intersection is and operator\n",
    "    intersection = real_labels_matrix & predictions_labels_matrix\n",
    "    precision_sum = 0\n",
    "    num_rows = 0\n",
    "    for row in range(intersection.shape[0]):\n",
    "        if sum(predictions_labels_matrix[row]) > 0: #if there is at least one prediction for this row\n",
    "            num_rows += 1\n",
    "            precision_sum += sum(intersection[row]) / sum(predictions_labels_matrix[row])\n",
    "    if num_rows == 0:\n",
    "        return 0#no labels predicted at all will give us 0 precision as precision makes no sense here\n",
    "    return precision_sum / num_rows\n",
    "\n",
    "#size of intersection of predicted and actual labels divided by size of real label set for each datapoint tested on\n",
    "#sum those and divide by number of datapoints\n",
    "#all datapoints should have at least 1 real label in this data set\n",
    "#vectorized for speed\n",
    "def multi_label_recall(real_labels_matrix, predictions_labels_matrix):\n",
    "    #binary so set intersection is and operator\n",
    "    intersection = real_labels_matrix & predictions_labels_matrix\n",
    "    #set union for binary is same as or operator\n",
    "    #sum(array.T) gets number of 1s in row\n",
    "    row_wise_recall = sum(intersection.T) / sum(real_labels_matrix.T)\n",
    "    return sum(row_wise_recall) / real_labels_matrix.shape[0]\n",
    "\n",
    "#lower is better\n",
    "def hamming_loss(real_labels_matrix, predictions_labels_matrix):\n",
    "    return (np.logical_xor(real_labels_matrix, predictions_labels_matrix)).sum()/(real_labels_matrix.shape[0] * real_labels_matrix.shape[1])\n",
    "\n",
    "import keras.backend as K\n",
    "\n",
    "#metric for keras for early stopping\n",
    "#takes in raw labels from kerass (not yet converted to 0 and 1s)\n",
    "#NOT the same as accuracy, this is total labels correctly identified divided by union of total labels\n",
    "#this weights rows with more labels higher, where accruacy does not, but this is still a good metric for early stopping\n",
    "def raw_multi_label_accuracy(y_true, y_pred):\n",
    "    positives = K.greater_equal(y_pred, 0.5)\n",
    "    positives = K.cast(positives, K.floatx())\n",
    "    new_y_pred = positives #+ ((1-positives)*y_pred)\n",
    "    intersection = y_true * new_y_pred\n",
    "    union = 1 -((1-y_true)*(1-new_y_pred))\n",
    "    accuracy = K.sum(intersection) / K.sum(union)\n",
    "    return accuracy\n",
    "    "
   ]
  },
  {
   "cell_type": "code",
   "execution_count": 23,
   "metadata": {},
   "outputs": [],
   "source": [
    "from keras.callbacks import EarlyStopping\n",
    "#for early stopping only after certain number of epochs. wait until delay epochs until early stopping\n",
    "class DelayedEarlyStopping(EarlyStopping):\n",
    "    def __init__(self, monitor, min_delta=0, patience=0, verbose=0, mode='auto', delay = 100):\n",
    "        super(DelayedEarlyStopping, self).__init__()\n",
    "        self.delay = delay\n",
    "\n",
    "    def on_epoch_end(self, epoch, logs=None):\n",
    "        if epoch > self.delay:\n",
    "            super().on_epoch_end(epoch, logs)"
   ]
  },
  {
   "cell_type": "markdown",
   "metadata": {},
   "source": [
    "### Build Network\n",
    "<ul>\n",
    "    <li>Add Embedding layer</li>\n",
    "    <li>Add Convolutional layer</li>\n",
    "    <li>Add MaxPooling layer</li>\n",
    "    <li>Add Bi-directional LSTM layer</li>\n",
    "    <li>Add Dense layers</li>\n",
    "    <li>Compile model</li>\n",
    "</ul>\n"
   ]
  },
  {
   "cell_type": "code",
   "execution_count": 24,
   "metadata": {},
   "outputs": [
    {
     "name": "stdout",
     "output_type": "stream",
     "text": [
      "WARNING:tensorflow:From /usr/local/Cellar/python/3.7.0/Frameworks/Python.framework/Versions/3.7/lib/python3.7/site-packages/tensorflow/python/framework/op_def_library.py:263: colocate_with (from tensorflow.python.framework.ops) is deprecated and will be removed in a future version.\n",
      "Instructions for updating:\n",
      "Colocations handled automatically by placer.\n"
     ]
    }
   ],
   "source": [
    "from keras.layers import Conv1D, MaxPooling1D\n",
    "from keras.models import Sequential\n",
    "from keras.layers import Dense, Dropout, Bidirectional\n",
    "from keras.layers import Flatten, LSTM\n",
    "from keras.layers.embeddings import Embedding\n",
    "\n",
    "model_lstm = Sequential()\n",
    "#e = Embedding(num_words_kept, word_vec_len, weights=[embedding_matrix], input_length=200, trainable=False)\n",
    "#e = Embedding(num_words_kept, word_vec_len, input_length=200, trainable=True)\n",
    "e = Embedding(num_words_kept, word_vec_len, weights=[embedding_matrix], input_length=200, trainable=True)\n",
    "model_lstm.add(e)\n",
    "model_lstm.add(Conv1D(filters=100, kernel_size=2, padding='valid', activation='relu', strides=1))\n",
    "model_lstm.add(MaxPooling1D())\n",
    "model_lstm.add(Bidirectional(LSTM(100)))\n",
    "model_lstm.add(Dense(256, activation='relu'))\n",
    "model_lstm.add(Dense(20, activation='sigmoid'))\n",
    "model_lstm.compile(loss='binary_crossentropy', optimizer='adam', metrics=[raw_multi_label_accuracy])\n",
    "# print(model_lstm.summary())\n",
    "#model_cnn_01.fit(x_train_seq, y_train, validation_data=(x_val_seq, y_validation), epochs=5, batch_size=32, verbose=2)\n",
    "\n",
    "# model_lstm.fit(x_train_seq, y_train, validation_split = .1, callbacks = [DelayedEarlyStopping(monitor = 'val_raw_multi_label_accuracy', patience = 10, delay=250)], epochs=1000, batch_size=100, verbose=2)\n"
   ]
  },
  {
   "cell_type": "code",
   "execution_count": 25,
   "metadata": {},
   "outputs": [],
   "source": [
    "def nn_output_to_predictions(res):\n",
    "    label_predictions = []\n",
    "    for i in range(res.shape[0]):\n",
    "        pred = [0]*20\n",
    "        for j in range(res.shape[1]):\n",
    "            if res[i][j] >= .5:\n",
    "                pred[j] = 1\n",
    "        label_predictions.append(pred)\n",
    "    return np.array(label_predictions)"
   ]
  },
  {
   "cell_type": "markdown",
   "metadata": {},
   "source": [
    "### Train and Predict\n",
    "Train and predict model for each epoch, with early stopping to avoid overfitting.\n"
   ]
  },
  {
   "cell_type": "code",
   "execution_count": 26,
   "metadata": {
    "scrolled": false
   },
   "outputs": [
    {
     "name": "stdout",
     "output_type": "stream",
     "text": [
      "Epoch: 1/1000\n",
      "WARNING:tensorflow:From /usr/local/Cellar/python/3.7.0/Frameworks/Python.framework/Versions/3.7/lib/python3.7/site-packages/tensorflow/python/ops/math_ops.py:3066: to_int32 (from tensorflow.python.ops.math_ops) is deprecated and will be removed in a future version.\n",
      "Instructions for updating:\n",
      "Use tf.cast instead.\n",
      "Train on 2149 samples, validate on 239 samples\n",
      "Epoch 1/1\n",
      "2149/2149 [==============================] - 25s 12ms/step - loss: 0.4232 - raw_multi_label_accuracy: 0.1180 - val_loss: 0.3213 - val_raw_multi_label_accuracy: 0.0620\n",
      "Epoch: 2/1000\n",
      "Train on 2149 samples, validate on 239 samples\n",
      "Epoch 1/1\n",
      "2149/2149 [==============================] - 24s 11ms/step - loss: 0.3148 - raw_multi_label_accuracy: 0.0930 - val_loss: 0.3144 - val_raw_multi_label_accuracy: 0.1635\n",
      "Epoch: 3/1000\n",
      "Train on 2149 samples, validate on 239 samples\n",
      "Epoch 1/1\n",
      "2149/2149 [==============================] - 25s 12ms/step - loss: 0.3126 - raw_multi_label_accuracy: 0.0753 - val_loss: 0.3154 - val_raw_multi_label_accuracy: 0.1695\n",
      "Epoch: 4/1000\n",
      "Train on 2149 samples, validate on 239 samples\n",
      "Epoch 1/1\n",
      "2149/2149 [==============================] - 44s 21ms/step - loss: 0.3124 - raw_multi_label_accuracy: 0.0914 - val_loss: 0.3145 - val_raw_multi_label_accuracy: 0.0000e+00\n",
      "Epoch: 5/1000\n",
      "Train on 2149 samples, validate on 239 samples\n",
      "Epoch 1/1\n",
      "2149/2149 [==============================] - 38s 17ms/step - loss: 0.3126 - raw_multi_label_accuracy: 0.0593 - val_loss: 0.3146 - val_raw_multi_label_accuracy: 0.1646\n",
      "Epoch: 6/1000\n",
      "Train on 2149 samples, validate on 239 samples\n",
      "Epoch 1/1\n",
      "2149/2149 [==============================] - 46s 22ms/step - loss: 0.3117 - raw_multi_label_accuracy: 0.1112 - val_loss: 0.3142 - val_raw_multi_label_accuracy: 0.0158\n",
      "Epoch: 7/1000\n",
      "Train on 2149 samples, validate on 239 samples\n",
      "Epoch 1/1\n",
      "2149/2149 [==============================] - 33s 15ms/step - loss: 0.3118 - raw_multi_label_accuracy: 0.1129 - val_loss: 0.3144 - val_raw_multi_label_accuracy: 0.0000e+00\n",
      "Epoch: 8/1000\n",
      "Train on 2149 samples, validate on 239 samples\n",
      "Epoch 1/1\n",
      "2149/2149 [==============================] - 25s 12ms/step - loss: 0.3115 - raw_multi_label_accuracy: 0.0963 - val_loss: 0.3144 - val_raw_multi_label_accuracy: 0.0000e+00\n",
      "Epoch: 9/1000\n",
      "Train on 2149 samples, validate on 239 samples\n",
      "Epoch 1/1\n",
      "2149/2149 [==============================] - 26s 12ms/step - loss: 0.3115 - raw_multi_label_accuracy: 0.0812 - val_loss: 0.3145 - val_raw_multi_label_accuracy: 0.1695\n",
      "Epoch: 10/1000\n",
      "Train on 2149 samples, validate on 239 samples\n",
      "Epoch 1/1\n",
      "2149/2149 [==============================] - 31s 15ms/step - loss: 0.3116 - raw_multi_label_accuracy: 0.1155 - val_loss: 0.3142 - val_raw_multi_label_accuracy: 0.1695\n",
      "Epoch: 11/1000\n",
      "Train on 2149 samples, validate on 239 samples\n",
      "Epoch 1/1\n",
      "2149/2149 [==============================] - 35s 16ms/step - loss: 0.3114 - raw_multi_label_accuracy: 0.0821 - val_loss: 0.3140 - val_raw_multi_label_accuracy: 0.1695\n",
      "Epoch: 12/1000\n",
      "Train on 2149 samples, validate on 239 samples\n",
      "Epoch 1/1\n",
      "2149/2149 [==============================] - 29s 14ms/step - loss: 0.3104 - raw_multi_label_accuracy: 0.0805 - val_loss: 0.3136 - val_raw_multi_label_accuracy: 0.1234\n",
      "Epoch: 13/1000\n",
      "Train on 2149 samples, validate on 239 samples\n",
      "Epoch 1/1\n",
      "2149/2149 [==============================] - 27s 13ms/step - loss: 0.3108 - raw_multi_label_accuracy: 0.1018 - val_loss: 0.3131 - val_raw_multi_label_accuracy: 0.0000e+00\n",
      "Epoch: 14/1000\n",
      "Train on 2149 samples, validate on 239 samples\n",
      "Epoch 1/1\n",
      "2149/2149 [==============================] - 30s 14ms/step - loss: 0.3107 - raw_multi_label_accuracy: 0.1020 - val_loss: 0.3138 - val_raw_multi_label_accuracy: 0.0000e+00\n",
      "Epoch: 15/1000\n",
      "Train on 2149 samples, validate on 239 samples\n",
      "Epoch 1/1\n",
      "2149/2149 [==============================] - 29s 13ms/step - loss: 0.3091 - raw_multi_label_accuracy: 0.1101 - val_loss: 0.3134 - val_raw_multi_label_accuracy: 0.1695\n",
      "Epoch: 16/1000\n",
      "Train on 2149 samples, validate on 239 samples\n",
      "Epoch 1/1\n",
      "2149/2149 [==============================] - 29s 14ms/step - loss: 0.3081 - raw_multi_label_accuracy: 0.0960 - val_loss: 0.3131 - val_raw_multi_label_accuracy: 0.0840\n",
      "Epoch: 17/1000\n",
      "Train on 2149 samples, validate on 239 samples\n",
      "Epoch 1/1\n",
      "2149/2149 [==============================] - 26s 12ms/step - loss: 0.3026 - raw_multi_label_accuracy: 0.1294 - val_loss: 0.3110 - val_raw_multi_label_accuracy: 0.0548\n",
      "Epoch: 18/1000\n",
      "Train on 2149 samples, validate on 239 samples\n",
      "Epoch 1/1\n",
      "2149/2149 [==============================] - 26s 12ms/step - loss: 0.2920 - raw_multi_label_accuracy: 0.1357 - val_loss: 0.3108 - val_raw_multi_label_accuracy: 0.1157\n",
      "Epoch: 19/1000\n",
      "Train on 2149 samples, validate on 239 samples\n",
      "Epoch 1/1\n",
      "2149/2149 [==============================] - 28s 13ms/step - loss: 0.2808 - raw_multi_label_accuracy: 0.1867 - val_loss: 0.3141 - val_raw_multi_label_accuracy: 0.1025\n",
      "Epoch: 20/1000\n",
      "Train on 2149 samples, validate on 239 samples\n",
      "Epoch 1/1\n",
      "2149/2149 [==============================] - 29s 14ms/step - loss: 0.2706 - raw_multi_label_accuracy: 0.2423 - val_loss: 0.3269 - val_raw_multi_label_accuracy: 0.0911\n",
      "Epoch: 21/1000\n",
      "Train on 2149 samples, validate on 239 samples\n",
      "Epoch 1/1\n",
      "2149/2149 [==============================] - 27s 13ms/step - loss: 0.2644 - raw_multi_label_accuracy: 0.2622 - val_loss: 0.3183 - val_raw_multi_label_accuracy: 0.1764\n",
      "Epoch: 22/1000\n",
      "Train on 2149 samples, validate on 239 samples\n",
      "Epoch 1/1\n",
      "2149/2149 [==============================] - 27s 13ms/step - loss: 0.2578 - raw_multi_label_accuracy: 0.2830 - val_loss: 0.3238 - val_raw_multi_label_accuracy: 0.1443\n",
      "Epoch: 23/1000\n",
      "Train on 2149 samples, validate on 239 samples\n",
      "Epoch 1/1\n",
      "2149/2149 [==============================] - 29s 13ms/step - loss: 0.2495 - raw_multi_label_accuracy: 0.3071 - val_loss: 0.3276 - val_raw_multi_label_accuracy: 0.1549\n",
      "Epoch: 24/1000\n",
      "Train on 2149 samples, validate on 239 samples\n",
      "Epoch 1/1\n",
      "2149/2149 [==============================] - 33s 16ms/step - loss: 0.2369 - raw_multi_label_accuracy: 0.3409 - val_loss: 0.3302 - val_raw_multi_label_accuracy: 0.1845\n",
      "Epoch: 25/1000\n",
      "Train on 2149 samples, validate on 239 samples\n",
      "Epoch 1/1\n",
      "2149/2149 [==============================] - 37s 17ms/step - loss: 0.2212 - raw_multi_label_accuracy: 0.3859 - val_loss: 0.3428 - val_raw_multi_label_accuracy: 0.2005\n",
      "Epoch: 26/1000\n",
      "Train on 2149 samples, validate on 239 samples\n",
      "Epoch 1/1\n",
      "2149/2149 [==============================] - 33s 15ms/step - loss: 0.2075 - raw_multi_label_accuracy: 0.4162 - val_loss: 0.3578 - val_raw_multi_label_accuracy: 0.1863\n",
      "Epoch: 27/1000\n",
      "Train on 2149 samples, validate on 239 samples\n",
      "Epoch 1/1\n",
      "2149/2149 [==============================] - 33s 16ms/step - loss: 0.1948 - raw_multi_label_accuracy: 0.4543 - val_loss: 0.3810 - val_raw_multi_label_accuracy: 0.2149\n",
      "Epoch: 28/1000\n",
      "Train on 2149 samples, validate on 239 samples\n",
      "Epoch 1/1\n",
      "2149/2149 [==============================] - 37s 17ms/step - loss: 0.1850 - raw_multi_label_accuracy: 0.4799 - val_loss: 0.3845 - val_raw_multi_label_accuracy: 0.2013\n",
      "Epoch: 29/1000\n",
      "Train on 2149 samples, validate on 239 samples\n",
      "Epoch 1/1\n",
      "2149/2149 [==============================] - 36s 17ms/step - loss: 0.1781 - raw_multi_label_accuracy: 0.5021 - val_loss: 0.4090 - val_raw_multi_label_accuracy: 0.2002\n",
      "Epoch: 30/1000\n",
      "Train on 2149 samples, validate on 239 samples\n",
      "Epoch 1/1\n",
      "2149/2149 [==============================] - 30s 14ms/step - loss: 0.1716 - raw_multi_label_accuracy: 0.5214 - val_loss: 0.4005 - val_raw_multi_label_accuracy: 0.2054\n",
      "Epoch: 31/1000\n",
      "Train on 2149 samples, validate on 239 samples\n",
      "Epoch 1/1\n",
      "2149/2149 [==============================] - 28s 13ms/step - loss: 0.1597 - raw_multi_label_accuracy: 0.5490 - val_loss: 0.4148 - val_raw_multi_label_accuracy: 0.2027\n",
      "Epoch: 32/1000\n",
      "Train on 2149 samples, validate on 239 samples\n",
      "Epoch 1/1\n",
      "2149/2149 [==============================] - 30s 14ms/step - loss: 0.1509 - raw_multi_label_accuracy: 0.5762 - val_loss: 0.4351 - val_raw_multi_label_accuracy: 0.2222\n",
      "Epoch: 33/1000\n",
      "Train on 2149 samples, validate on 239 samples\n",
      "Epoch 1/1\n",
      "2149/2149 [==============================] - 42s 20ms/step - loss: 0.1412 - raw_multi_label_accuracy: 0.6073 - val_loss: 0.4620 - val_raw_multi_label_accuracy: 0.2067\n"
     ]
    },
    {
     "name": "stdout",
     "output_type": "stream",
     "text": [
      "Epoch: 34/1000\n",
      "Train on 2149 samples, validate on 239 samples\n",
      "Epoch 1/1\n",
      "2149/2149 [==============================] - 26s 12ms/step - loss: 0.1342 - raw_multi_label_accuracy: 0.6256 - val_loss: 0.4847 - val_raw_multi_label_accuracy: 0.2039\n",
      "Epoch: 35/1000\n",
      "Train on 2149 samples, validate on 239 samples\n",
      "Epoch 1/1\n",
      "2149/2149 [==============================] - 24s 11ms/step - loss: 0.1282 - raw_multi_label_accuracy: 0.6430 - val_loss: 0.4894 - val_raw_multi_label_accuracy: 0.2108\n",
      "Epoch: 36/1000\n",
      "Train on 2149 samples, validate on 239 samples\n",
      "Epoch 1/1\n",
      "2149/2149 [==============================] - 33s 15ms/step - loss: 0.1203 - raw_multi_label_accuracy: 0.6663 - val_loss: 0.5116 - val_raw_multi_label_accuracy: 0.2118\n",
      "Epoch: 37/1000\n",
      "Train on 2149 samples, validate on 239 samples\n",
      "Epoch 1/1\n",
      "2149/2149 [==============================] - 46s 21ms/step - loss: 0.1119 - raw_multi_label_accuracy: 0.6858 - val_loss: 0.5351 - val_raw_multi_label_accuracy: 0.2065\n",
      "Epoch: 38/1000\n",
      "Train on 2149 samples, validate on 239 samples\n",
      "Epoch 1/1\n",
      "2149/2149 [==============================] - 57s 27ms/step - loss: 0.1069 - raw_multi_label_accuracy: 0.7098 - val_loss: 0.5578 - val_raw_multi_label_accuracy: 0.2242\n",
      "Epoch: 39/1000\n",
      "Train on 2149 samples, validate on 239 samples\n",
      "Epoch 1/1\n",
      "2149/2149 [==============================] - 36s 17ms/step - loss: 0.1014 - raw_multi_label_accuracy: 0.7263 - val_loss: 0.5932 - val_raw_multi_label_accuracy: 0.2145\n",
      "Epoch: 40/1000\n",
      "Train on 2149 samples, validate on 239 samples\n",
      "Epoch 1/1\n",
      "2149/2149 [==============================] - 30s 14ms/step - loss: 0.0955 - raw_multi_label_accuracy: 0.7315 - val_loss: 0.6096 - val_raw_multi_label_accuracy: 0.2109\n",
      "Avoid Overfitting, Initiating Early Stopping\n",
      "Epoch: 41/1000\n",
      "Train on 2149 samples, validate on 239 samples\n",
      "Epoch 1/1\n",
      "2149/2149 [==============================] - 27s 12ms/step - loss: 0.0892 - raw_multi_label_accuracy: 0.7611 - val_loss: 0.6274 - val_raw_multi_label_accuracy: 0.2002\n",
      "Epoch: 42/1000\n",
      "Train on 2149 samples, validate on 239 samples\n",
      "Epoch 1/1\n",
      "2149/2149 [==============================] - 27s 13ms/step - loss: 0.0820 - raw_multi_label_accuracy: 0.7841 - val_loss: 0.6425 - val_raw_multi_label_accuracy: 0.2110\n",
      "Epoch: 43/1000\n",
      "Train on 2149 samples, validate on 239 samples\n",
      "Epoch 1/1\n",
      "2149/2149 [==============================] - 27s 13ms/step - loss: 0.0768 - raw_multi_label_accuracy: 0.7968 - val_loss: 0.6704 - val_raw_multi_label_accuracy: 0.2126\n",
      "Epoch: 44/1000\n",
      "Train on 2149 samples, validate on 239 samples\n",
      "Epoch 1/1\n",
      "2149/2149 [==============================] - 22s 10ms/step - loss: 0.0725 - raw_multi_label_accuracy: 0.8116 - val_loss: 0.7092 - val_raw_multi_label_accuracy: 0.2110\n",
      "Epoch: 45/1000\n",
      "Train on 2149 samples, validate on 239 samples\n",
      "Epoch 1/1\n",
      "2149/2149 [==============================] - 22s 10ms/step - loss: 0.0688 - raw_multi_label_accuracy: 0.8218 - val_loss: 0.6953 - val_raw_multi_label_accuracy: 0.2116\n",
      "Epoch: 46/1000\n",
      "Train on 2149 samples, validate on 239 samples\n",
      "Epoch 1/1\n",
      "2149/2149 [==============================] - 16s 8ms/step - loss: 0.0680 - raw_multi_label_accuracy: 0.8211 - val_loss: 0.7419 - val_raw_multi_label_accuracy: 0.2060\n",
      "Epoch: 47/1000\n",
      "Train on 2149 samples, validate on 239 samples\n",
      "Epoch 1/1\n",
      "2149/2149 [==============================] - 17s 8ms/step - loss: 0.0623 - raw_multi_label_accuracy: 0.8409 - val_loss: 0.7041 - val_raw_multi_label_accuracy: 0.2090\n",
      "Epoch: 48/1000\n",
      "Train on 2149 samples, validate on 239 samples\n",
      "Epoch 1/1\n",
      "2149/2149 [==============================] - 20s 9ms/step - loss: 0.0571 - raw_multi_label_accuracy: 0.8514 - val_loss: 0.7576 - val_raw_multi_label_accuracy: 0.2125\n",
      "Epoch: 49/1000\n",
      "Train on 2149 samples, validate on 239 samples\n",
      "Epoch 1/1\n",
      "2149/2149 [==============================] - 23s 11ms/step - loss: 0.0531 - raw_multi_label_accuracy: 0.8660 - val_loss: 0.7822 - val_raw_multi_label_accuracy: 0.2139\n",
      "Epoch: 50/1000\n",
      "Train on 2149 samples, validate on 239 samples\n",
      "Epoch 1/1\n",
      "2149/2149 [==============================] - 18s 8ms/step - loss: 0.0496 - raw_multi_label_accuracy: 0.8764 - val_loss: 0.8169 - val_raw_multi_label_accuracy: 0.2106\n",
      "Epoch: 51/1000\n",
      "Train on 2149 samples, validate on 239 samples\n",
      "Epoch 1/1\n",
      "2149/2149 [==============================] - 17s 8ms/step - loss: 0.0473 - raw_multi_label_accuracy: 0.8808 - val_loss: 0.8323 - val_raw_multi_label_accuracy: 0.2142\n",
      "Epoch: 52/1000\n",
      "Train on 2149 samples, validate on 239 samples\n",
      "Epoch 1/1\n",
      "2149/2149 [==============================] - 20s 9ms/step - loss: 0.0459 - raw_multi_label_accuracy: 0.8863 - val_loss: 0.8217 - val_raw_multi_label_accuracy: 0.2142\n",
      "Epoch: 53/1000\n",
      "Train on 2149 samples, validate on 239 samples\n",
      "Epoch 1/1\n",
      "2149/2149 [==============================] - 47s 22ms/step - loss: 0.0439 - raw_multi_label_accuracy: 0.8849 - val_loss: 0.8729 - val_raw_multi_label_accuracy: 0.2192\n",
      "Epoch: 54/1000\n",
      "Train on 2149 samples, validate on 239 samples\n",
      "Epoch 1/1\n",
      "2149/2149 [==============================] - 45s 21ms/step - loss: 0.0402 - raw_multi_label_accuracy: 0.8995 - val_loss: 0.8873 - val_raw_multi_label_accuracy: 0.2130\n",
      "Epoch: 55/1000\n",
      "Train on 2149 samples, validate on 239 samples\n",
      "Epoch 1/1\n",
      "2149/2149 [==============================] - 30s 14ms/step - loss: 0.0375 - raw_multi_label_accuracy: 0.9107 - val_loss: 0.9377 - val_raw_multi_label_accuracy: 0.2144\n",
      "Epoch: 56/1000\n",
      "Train on 2149 samples, validate on 239 samples\n",
      "Epoch 1/1\n",
      "2149/2149 [==============================] - 23s 11ms/step - loss: 0.0348 - raw_multi_label_accuracy: 0.9184 - val_loss: 0.9221 - val_raw_multi_label_accuracy: 0.2094\n",
      "Epoch: 57/1000\n",
      "Train on 2149 samples, validate on 239 samples\n",
      "Epoch 1/1\n",
      "2149/2149 [==============================] - 30s 14ms/step - loss: 0.0324 - raw_multi_label_accuracy: 0.9223 - val_loss: 0.9445 - val_raw_multi_label_accuracy: 0.2079\n",
      "Epoch: 58/1000\n",
      "Train on 2149 samples, validate on 239 samples\n",
      "Epoch 1/1\n",
      "2149/2149 [==============================] - 27s 12ms/step - loss: 0.0316 - raw_multi_label_accuracy: 0.9241 - val_loss: 0.9584 - val_raw_multi_label_accuracy: 0.2066\n",
      "Epoch: 59/1000\n",
      "Train on 2149 samples, validate on 239 samples\n",
      "Epoch 1/1\n",
      "2149/2149 [==============================] - 18s 9ms/step - loss: 0.0326 - raw_multi_label_accuracy: 0.9182 - val_loss: 0.9827 - val_raw_multi_label_accuracy: 0.2078\n",
      "Epoch: 60/1000\n",
      "Train on 2149 samples, validate on 239 samples\n",
      "Epoch 1/1\n",
      "2149/2149 [==============================] - 16s 7ms/step - loss: 0.0337 - raw_multi_label_accuracy: 0.9108 - val_loss: 0.9750 - val_raw_multi_label_accuracy: 0.2073\n",
      "Epoch: 61/1000\n",
      "Train on 2149 samples, validate on 239 samples\n",
      "Epoch 1/1\n",
      "2149/2149 [==============================] - 22s 10ms/step - loss: 0.0316 - raw_multi_label_accuracy: 0.9194 - val_loss: 1.0118 - val_raw_multi_label_accuracy: 0.2148\n",
      "Epoch: 62/1000\n",
      "Train on 2149 samples, validate on 239 samples\n",
      "Epoch 1/1\n",
      "2149/2149 [==============================] - 17s 8ms/step - loss: 0.0288 - raw_multi_label_accuracy: 0.9285 - val_loss: 1.0080 - val_raw_multi_label_accuracy: 0.2218\n",
      "Epoch: 63/1000\n",
      "Train on 2149 samples, validate on 239 samples\n",
      "Epoch 1/1\n",
      "2149/2149 [==============================] - 20s 9ms/step - loss: 0.0253 - raw_multi_label_accuracy: 0.9374 - val_loss: 1.0529 - val_raw_multi_label_accuracy: 0.2090\n",
      "Epoch: 64/1000\n",
      "Train on 2149 samples, validate on 239 samples\n",
      "Epoch 1/1\n",
      "2149/2149 [==============================] - 24s 11ms/step - loss: 0.0227 - raw_multi_label_accuracy: 0.9499 - val_loss: 1.0728 - val_raw_multi_label_accuracy: 0.2096\n",
      "Epoch: 65/1000\n",
      "Train on 2149 samples, validate on 239 samples\n",
      "Epoch 1/1\n",
      "2149/2149 [==============================] - 19s 9ms/step - loss: 0.0213 - raw_multi_label_accuracy: 0.9535 - val_loss: 1.0787 - val_raw_multi_label_accuracy: 0.2143\n",
      "Stopping Early to Avoid Overfitting.\n"
     ]
    }
   ],
   "source": [
    "n_epochs = 1000\n",
    "history = []\n",
    "test_err = []\n",
    "test_acc = []\n",
    "test_prec = []\n",
    "test_recall = []\n",
    "stopping = 1\n",
    "pat = 10\n",
    "patience = 10\n",
    "delay = 25\n",
    "\n",
    "for num in range(n_epochs):\n",
    "    print(\"Epoch: {}/{}\".format(num+1, n_epochs))\n",
    "    this_hist = model_lstm.fit(x_train_seq, y_train, batch_size=100, epochs=1, validation_split=0.1)\n",
    "    history.append(this_hist)\n",
    "    \n",
    "    vl = this_hist.history['val_loss']\n",
    "    \n",
    "    if patience > -1:\n",
    "        if stopping >= vl[0]:\n",
    "            if patience < pat:\n",
    "                patience = pat\n",
    "            stopping = vl\n",
    "        else:\n",
    "            patience -= 1\n",
    "            stopping = vl\n",
    "    else:\n",
    "        delay -= 1\n",
    "        \n",
    "    this_preds = nn_output_to_predictions(model_lstm.predict(x_test_seq))\n",
    "    acc = multi_label_accuracy(y_test, this_preds)\n",
    "    test_acc.append(acc)\n",
    "    test_err.append(1-acc)\n",
    "    \n",
    "    if patience == 0:\n",
    "        print(\"Avoid Overfitting, Initiating Early Stopping\")\n",
    "        patience = -1\n",
    "        \n",
    "    if delay == 0:\n",
    "        print(\"Stopping Early to Avoid Overfitting.\")\n",
    "        break\n",
    "   "
   ]
  },
  {
   "cell_type": "markdown",
   "metadata": {},
   "source": [
    "### Plot Accuracy and Loss\n",
    "Use accuracy and loss metrics collected from each epoch and plot to compare training, validation, and testing sets."
   ]
  },
  {
   "cell_type": "code",
   "execution_count": 27,
   "metadata": {},
   "outputs": [],
   "source": [
    "# go through history to store accuracies and errors in individual lists\n",
    "all_multi_acc = []\n",
    "all_loss = []\n",
    "all_val_multi_acc = []\n",
    "all_val_loss = []\n",
    "\n",
    "for x in history:\n",
    "    all_multi_acc.append(x.history['raw_multi_label_accuracy'])\n",
    "    all_loss.append(x.history['loss'])\n",
    "    all_val_multi_acc.append(x.history['val_raw_multi_label_accuracy'])\n",
    "    all_val_loss.append(x.history['val_loss'])\n",
    "    \n",
    "# flatten all variables to one dimension list\n",
    "flat_acc = [val for sublist in all_multi_acc for val in sublist]\n",
    "flat_loss = [val for sublist in all_loss for val in sublist]\n",
    "flat_val_acc = [val for sublist in all_val_multi_acc for val in sublist]\n",
    "flat_val_loss = [val for sublist in all_val_loss for val in sublist]\n"
   ]
  },
  {
   "cell_type": "code",
   "execution_count": 28,
   "metadata": {},
   "outputs": [
    {
     "data": {
      "text/plain": [
       "<Figure size 640x480 with 1 Axes>"
      ]
     },
     "metadata": {},
     "output_type": "display_data"
    }
   ],
   "source": [
    "import matplotlib.pyplot as plt\n",
    "# plot accuracy\n",
    "plt.plot(all_multi_acc)\n",
    "plt.plot(all_val_multi_acc)\n",
    "plt.plot(test_acc)\n",
    "plt.title(\"Bi-Directional LSTM Accuracy - All Genres\")\n",
    "plt.ylabel('accuracy')\n",
    "plt.xlabel('epoch')\n",
    "plt.legend(['train', 'valid', 'test'], loc='upper left')\n",
    "plt.show()"
   ]
  },
  {
   "cell_type": "code",
   "execution_count": 29,
   "metadata": {},
   "outputs": [
    {
     "data": {
      "image/png": "[encoded data removed]",
      "text/plain": [
       "<Figure size 432x288 with 1 Axes>"
      ]
     },
     "metadata": {
      "needs_background": "light"
     },
     "output_type": "display_data"
    }
   ],
   "source": [
    "# plot loss (error)\n",
    "plt.plot(all_loss)\n",
    "plt.plot(all_val_loss)\n",
    "plt.plot(test_err)\n",
    "plt.title(\"Bi-Directional LSTM Loss - All Genres\")\n",
    "plt.ylabel('loss')\n",
    "plt.xlabel('epoch')\n",
    "plt.legend(['train', 'valid', 'test'], loc='upper left')\n",
    "plt.show()"
   ]
  },
  {
   "cell_type": "markdown",
   "metadata": {},
   "source": [
    "### Get Final Predictions\n",
    "<ul>\n",
    "    <li>Show Multi-Level Metrics</li>\n",
    "    <li>Show percentage of correctly labeled predicitons</li>\n",
    "    <li>Show accuracy, precision, and recall for each genre</li>\n",
    "</ul>"
   ]
  },
  {
   "cell_type": "code",
   "execution_count": 30,
   "metadata": {},
   "outputs": [],
   "source": [
    "predictions = nn_output_to_predictions(model_lstm.predict(x_test_seq))"
   ]
  },
  {
   "cell_type": "code",
   "execution_count": 31,
   "metadata": {},
   "outputs": [
    {
     "data": {
      "text/plain": [
       "27"
      ]
     },
     "execution_count": 31,
     "metadata": {},
     "output_type": "execute_result"
    }
   ],
   "source": [
    "y_test[:,2].sum()"
   ]
  },
  {
   "cell_type": "code",
   "execution_count": 32,
   "metadata": {},
   "outputs": [
    {
     "data": {
      "text/plain": [
       "3"
      ]
     },
     "execution_count": 32,
     "metadata": {},
     "output_type": "execute_result"
    }
   ],
   "source": [
    "predictions[:,2].sum()"
   ]
  },
  {
   "cell_type": "code",
   "execution_count": 33,
   "metadata": {},
   "outputs": [
    {
     "data": {
      "text/plain": [
       "0.26660684374252236"
      ]
     },
     "execution_count": 33,
     "metadata": {},
     "output_type": "execute_result"
    }
   ],
   "source": [
    "multi_label_accuracy(y_test, predictions)"
   ]
  },
  {
   "cell_type": "code",
   "execution_count": 34,
   "metadata": {},
   "outputs": [
    {
     "data": {
      "text/plain": [
       "0.4083475298126064"
      ]
     },
     "execution_count": 34,
     "metadata": {},
     "output_type": "execute_result"
    }
   ],
   "source": [
    "multi_label_precision(y_test, predictions)"
   ]
  },
  {
   "cell_type": "code",
   "execution_count": 35,
   "metadata": {},
   "outputs": [
    {
     "data": {
      "text/plain": [
       "0.3856185690356546"
      ]
     },
     "execution_count": 35,
     "metadata": {},
     "output_type": "execute_result"
    }
   ],
   "source": [
    "multi_label_recall(y_test, predictions)"
   ]
  },
  {
   "cell_type": "code",
   "execution_count": 36,
   "metadata": {},
   "outputs": [
    {
     "name": "stdout",
     "output_type": "stream",
     "text": [
      "Percent of correctly decided label decisions: 84.48911222780569\n"
     ]
    }
   ],
   "source": [
    "print(\"Percent of correctly decided label decisions: \" + str(100* (1-hamming_loss(y_test, predictions))))"
   ]
  },
  {
   "cell_type": "code",
   "execution_count": 37,
   "metadata": {},
   "outputs": [
    {
     "name": "stdout",
     "output_type": "stream",
     "text": [
      "Accuracy for Action: 0.6566164154103853\n",
      "Precision for Action: 0.36046511627906974\n",
      "Recall for Action: 0.39490445859872614\n",
      "\n",
      "Accuracy for Adventure: 0.8123953098827471\n",
      "Precision for Adventure: 0.28205128205128205\n",
      "Recall for Adventure: 0.11578947368421053\n",
      "\n",
      "Accuracy for Animation: 0.9530988274706867\n",
      "Precision for Animation: 0.3333333333333333\n",
      "Recall for Animation: 0.037037037037037035\n",
      "\n",
      "Accuracy for Comedy: 0.6063651591289783\n",
      "Precision for Comedy: 0.45077720207253885\n",
      "Recall for Comedy: 0.4027777777777778\n",
      "\n",
      "Accuracy for Family: 0.9095477386934674\n",
      "Precision for Family: 0.0\n",
      "Recall for Family: 0.0\n",
      "\n",
      "Accuracy for War: 0.9279731993299832\n",
      "Precision for War: 0.041666666666666664\n",
      "Recall for War: 0.047619047619047616\n",
      "\n",
      "Accuracy for Documentary: 0.9731993299832495\n",
      "Precision for Documentary: 0.5\n",
      "Recall for Documentary: 0.0625\n",
      "\n",
      "Accuracy for Crime: 0.6934673366834171\n",
      "Precision for Crime: 0.19014084507042253\n",
      "Recall for Crime: 0.28421052631578947\n",
      "\n",
      "Accuracy for Fantasy: 0.8994974874371859\n",
      "Precision for Fantasy: 0.1111111111111111\n",
      "Recall for Fantasy: 0.043478260869565216\n",
      "\n",
      "Accuracy for Music: 0.9748743718592965\n",
      "Precision for Music: 0.0\n",
      "Recall for Music: 0.0\n",
      "\n",
      "Accuracy for Thriller: 0.6331658291457286\n",
      "Precision for Thriller: 0.35795454545454547\n",
      "Recall for Thriller: 0.3727810650887574\n",
      "\n",
      "Accuracy for Drama: 0.559463986599665\n",
      "Precision for Drama: 0.57\n",
      "Recall for Drama: 0.7147335423197492\n",
      "\n",
      "Accuracy for TV Movie: 1.0\n",
      "Precision for TV Movie: 0.0\n",
      "Recall for TV Movie: 0.0\n",
      "\n",
      "Accuracy for Mystery: 0.8927973199329984\n",
      "Precision for Mystery: 0.1\n",
      "Recall for Mystery: 0.075\n",
      "\n",
      "Accuracy for Romance: 0.7621440536013401\n",
      "Precision for Romance: 0.3465346534653465\n",
      "Recall for Romance: 0.3153153153153153\n",
      "\n",
      "Accuracy for History: 0.9346733668341709\n",
      "Precision for History: 0.1\n",
      "Recall for History: 0.08695652173913043\n",
      "\n",
      "Accuracy for Science Fiction: 0.8877721943048577\n",
      "Precision for Science Fiction: 0.4\n",
      "Recall for Science Fiction: 0.16129032258064516\n",
      "\n",
      "Accuracy for Horror: 0.8542713567839196\n",
      "Precision for Horror: 0.10256410256410256\n",
      "Recall for Horror: 0.07142857142857142\n",
      "\n",
      "Accuracy for Western: 0.983249581239531\n",
      "Precision for Western: 0.0\n",
      "Recall for Western: 0.0\n",
      "\n",
      "Accuracy for Foreign: 0.983249581239531\n",
      "Precision for Foreign: 0.2\n",
      "Recall for Foreign: 0.14285714285714285\n",
      "\n"
     ]
    },
    {
     "name": "stderr",
     "output_type": "stream",
     "text": [
      "/usr/local/Cellar/python/3.7.0/Frameworks/Python.framework/Versions/3.7/lib/python3.7/site-packages/sklearn/metrics/classification.py:1143: UndefinedMetricWarning: Precision is ill-defined and being set to 0.0 due to no predicted samples.\n",
      "  'precision', 'predicted', average, warn_for)\n"
     ]
    }
   ],
   "source": [
    "get_per_label_metrics(y_test, predictions)"
   ]
  },
  {
   "cell_type": "code",
   "execution_count": null,
   "metadata": {},
   "outputs": [],
   "source": []
  }
 ],
 "metadata": {
  "kernelspec": {
   "display_name": "Python 3",
   "language": "python",
   "name": "python3"
  },
  "language_info": {
   "codemirror_mode": {
    "name": "ipython",
    "version": 3
   },
   "file_extension": ".py",
   "mimetype": "text/x-python",
   "name": "python",
   "nbconvert_exporter": "python",
   "pygments_lexer": "ipython3",
   "version": "3.7.0"
  }
 },
 "nbformat": 4,
 "nbformat_minor": 2
}
