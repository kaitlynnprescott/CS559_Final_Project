{
 "cells": [
  {
   "cell_type": "code",
   "execution_count": 1,
   "metadata": {},
   "outputs": [
    {
     "name": "stderr",
     "output_type": "stream",
     "text": [
      "Using TensorFlow backend.\n"
     ]
    }
   ],
   "source": [
    "import numpy as np\n",
    "import pandas as pd\n",
    "#for reading in data properly\n",
    "import ast\n",
    "import json\n",
    "\n",
    "import gensim\n",
    "from gensim.models import Word2Vec\n",
    "\n",
    "from sklearn.model_selection import train_test_split\n",
    "from sklearn import utils\n",
    "from sklearn.metrics import accuracy_score\n",
    "from sklearn.metrics import precision_score\n",
    "from sklearn.metrics import recall_score\n",
    "\n",
    "import re\n",
    "\n",
    "import nltk\n",
    "from nltk.corpus import stopwords\n",
    "from nltk.tokenize import word_tokenize\n",
    "\n",
    "from keras.preprocessing.text import Tokenizer\n",
    "from keras.preprocessing.sequence import pad_sequences\n",
    "import keras.backend as K\n",
    "from keras.callbacks import EarlyStopping\n",
    "from keras.layers import Conv1D, GlobalMaxPooling1D, LSTM, SimpleRNN, Dense, Dropout, Flatten, Bidirectional\n",
    "from keras.layers import Input, concatenate, Activation\n",
    "from keras.layers.embeddings import Embedding\n",
    "from keras.models import Sequential, Model\n",
    "from keras.regularizers import l2\n",
    "\n",
    "stop_words = set(stopwords.words('english'))\n",
    "\n",
    "import time"
   ]
  },
  {
   "cell_type": "markdown",
   "metadata": {},
   "source": [
    "read in the data"
   ]
  },
  {
   "cell_type": "code",
   "execution_count": 2,
   "metadata": {},
   "outputs": [],
   "source": [
    "all_data = pd.read_csv('train.csv')\n",
    "all_data = all_data.dropna(subset=['overview', 'genres']) #drop cols without overview or genre (data we use or labels)"
   ]
  },
  {
   "cell_type": "code",
   "execution_count": 3,
   "metadata": {},
   "outputs": [],
   "source": [
    "#parse each row to get label vectors from json\n",
    "def parse_genres_json(x):\n",
    "    try:\n",
    "        json_genres = json.loads(x.replace(\"'\", '\"'))\n",
    "        numElems = len(json_genres)\n",
    "        ret = [0]*len(genre_dict) #number of genres we are looking at\n",
    "        for i in range(numElems):\n",
    "            genre_str = (json_genres[i]['name'])\n",
    "            if genre_str in genre_map.keys():\n",
    "                ret[genre_dict[genre_map[genre_str]]] = 1\n",
    "        return ret\n",
    "    except Exception as excep:\n",
    "        print('Exception' + str(excep))\n",
    "        return ''"
   ]
  },
  {
   "cell_type": "markdown",
   "metadata": {},
   "source": [
    "Get dictionary for genre to its index in label vector"
   ]
  },
  {
   "cell_type": "code",
   "execution_count": 4,
   "metadata": {},
   "outputs": [
    {
     "data": {
      "text/plain": [
       "{'Action-Adventure': 0,\n",
       " 'Romance': 1,\n",
       " 'Horror-Thriller': 2,\n",
       " 'Comedy': 3,\n",
       " 'Science Fiction': 4,\n",
       " 'Drama': 5}"
      ]
     },
     "execution_count": 4,
     "metadata": {},
     "output_type": "execute_result"
    }
   ],
   "source": [
    "genre_dict = {}\n",
    "genre_dict['Action-Adventure'] = 0\n",
    "genre_dict['Romance'] = 1\n",
    "genre_dict['Horror-Thriller'] = 2\n",
    "genre_dict['Comedy'] = 3\n",
    "genre_dict['Science Fiction'] = 4\n",
    "genre_dict['Drama'] = 5\n",
    "genre_dict"
   ]
  },
  {
   "cell_type": "code",
   "execution_count": 5,
   "metadata": {},
   "outputs": [],
   "source": [
    "#map original labels to more coarse grained labels\n",
    "genre_map = {}\n",
    "genre_map['Adventure'] = 'Action-Adventure'\n",
    "genre_map['Romance'] = 'Romance'\n",
    "genre_map['Horror'] = 'Horror-Thriller'\n",
    "genre_map['Thriller'] = 'Horror-Thriller'\n",
    "genre_map['Comedy'] = 'Comedy'\n",
    "genre_map['Fantasy'] = 'Science Fiction'\n",
    "genre_map['Action'] = 'Action-Adventure'\n",
    "genre_map['Science Fiction'] = 'Science Fiction'\n",
    "genre_map['Drama'] = 'Drama'"
   ]
  },
  {
   "cell_type": "code",
   "execution_count": 6,
   "metadata": {},
   "outputs": [],
   "source": [
    "def getGenresVects():\n",
    "    y = all_data['genres']\n",
    "    ret = y.apply(parse_genres_json)\n",
    "    all_data['genres_vect'] = ret"
   ]
  },
  {
   "cell_type": "code",
   "execution_count": 7,
   "metadata": {},
   "outputs": [],
   "source": [
    "getGenresVects() #get label vectors for genres indexed by indexes in genre_dict"
   ]
  },
  {
   "cell_type": "code",
   "execution_count": 8,
   "metadata": {},
   "outputs": [],
   "source": [
    "#put to lower case, remove punctation, remove stopwords\n",
    "def cleanText(text):\n",
    "    no_stopword_text = [w for w in text.split() if not w in stop_words]\n",
    "    text = ' '.join(no_stopword_text)\n",
    "    text = re.sub(r'[^a-z A-Z0-9]', \"\", text) #maybe shouldn't remove punction between words here?\n",
    "    text = text.lower()\n",
    "    return text\n",
    "\n",
    "all_data['cleanOverview'] = all_data['overview'].apply(cleanText)"
   ]
  },
  {
   "cell_type": "code",
   "execution_count": 9,
   "metadata": {},
   "outputs": [],
   "source": [
    "all_data = all_data[all_data.genres_vect.map(sum) > 0] #drop rows that now have no labels "
   ]
  },
  {
   "cell_type": "code",
   "execution_count": 10,
   "metadata": {},
   "outputs": [],
   "source": [
    "#neural net data only needs a few cols\n",
    "nn_data = all_data[['cleanOverview', 'genres_vect', 'overview']]"
   ]
  },
  {
   "cell_type": "code",
   "execution_count": 11,
   "metadata": {},
   "outputs": [],
   "source": [
    "train, test = train_test_split(nn_data, test_size=0.2, random_state=42)"
   ]
  },
  {
   "cell_type": "markdown",
   "metadata": {},
   "source": [
    "Extract actual features and labels from train and test set"
   ]
  },
  {
   "cell_type": "code",
   "execution_count": 12,
   "metadata": {},
   "outputs": [],
   "source": [
    "#gettrian and test features for classification. Just need text and lables for this\n",
    "x = train['cleanOverview'].values.tolist()\n",
    "y = train['genres_vect']\n",
    "x_test = test['cleanOverview'].values.tolist()\n",
    "y_test = test['genres_vect']"
   ]
  },
  {
   "cell_type": "code",
   "execution_count": 13,
   "metadata": {},
   "outputs": [],
   "source": [
    "#convert labels from array of lists to numpy array\n",
    "\n",
    "y_train = y.tolist()\n",
    "y_train = np.array(y_train)\n",
    "\n",
    "y_test = y_test.tolist()\n",
    "y_test = np.array(y_test)"
   ]
  },
  {
   "cell_type": "markdown",
   "metadata": {},
   "source": [
    "Get initial word embedding vectors"
   ]
  },
  {
   "cell_type": "code",
   "execution_count": 14,
   "metadata": {},
   "outputs": [],
   "source": [
    "tok = [word_tokenize(ov) for ov in x]"
   ]
  },
  {
   "cell_type": "code",
   "execution_count": 15,
   "metadata": {},
   "outputs": [],
   "source": [
    "word_vec_len = 32\n",
    "w2v = Word2Vec(tok, min_count = 2, size=word_vec_len)"
   ]
  },
  {
   "cell_type": "code",
   "execution_count": 16,
   "metadata": {},
   "outputs": [],
   "source": [
    "num_words_kept = 100000 #using 100000 most popular words, use throughout\n",
    "\n",
    "tokenizer = Tokenizer(num_words_kept)\n",
    "tokenizer.fit_on_texts(x)\n",
    "sequences = tokenizer.texts_to_sequences(x)\n",
    "\n",
    "max_seq_len = 150 #larger than averaage but not too large\n",
    "\n",
    "#get actual train features to feed into neural nets for training\n",
    "x_train_seq = pad_sequences(sequences, maxlen=max_seq_len)"
   ]
  },
  {
   "cell_type": "code",
   "execution_count": 17,
   "metadata": {},
   "outputs": [],
   "source": [
    "test_sequences = tokenizer.texts_to_sequences(x_test)\n",
    "#get actual test features to feed into neural nets for testing\n",
    "x_test_seq = pad_sequences(test_sequences, maxlen=max_seq_len)"
   ]
  },
  {
   "cell_type": "markdown",
   "metadata": {},
   "source": [
    "Get word embeddings matrix for start input to neural net"
   ]
  },
  {
   "cell_type": "code",
   "execution_count": 18,
   "metadata": {},
   "outputs": [],
   "source": [
    "#Citation: This technique to get word embeddings comes, with some minor changes, mostly from: \n",
    "#https://towardsdatascience.com/another-twitter-sentiment-analysis-with-python-part-11-cnn-word2vec-41f5e28eda74\n",
    "\n",
    "embeddings_index = {}\n",
    "for w in w2v.wv.vocab.keys():\n",
    "    embeddings_index[w] = w2v.wv[w]\n",
    "\n",
    "\n",
    "embedding_matrix = np.zeros((num_words_kept, word_vec_len))\n",
    "for word, i in tokenizer.word_index.items():\n",
    "    if i >= num_words_kept:\n",
    "        continue\n",
    "    embedding_vector = embeddings_index.get(word)\n",
    "    if embedding_vector is not None:\n",
    "        embedding_matrix[i] = embedding_vector"
   ]
  },
  {
   "cell_type": "markdown",
   "metadata": {},
   "source": [
    "Below we define evlaution metric functions"
   ]
  },
  {
   "cell_type": "code",
   "execution_count": 19,
   "metadata": {},
   "outputs": [],
   "source": [
    "def get_per_label_metrics(real_labels_matrix, predictions_labels_matrix):\n",
    "    for genre in genre_dict.keys():\n",
    "        index = genre_dict[genre]\n",
    "        real_labels_vect = real_labels_matrix[:, index]\n",
    "        prediction_vect = predictions_labels_matrix[:,index]\n",
    "        print(\"Accuruacy for \" + genre + \": \" + str(accuracy_score(real_labels_vect, prediction_vect)))\n",
    "        print(\"Precision for \" + genre + \": \" + str(precision_score(real_labels_vect, prediction_vect)))\n",
    "        print(\"Recall for \" + genre + \": \" + str(recall_score(real_labels_vect, prediction_vect)))\n",
    "        print()"
   ]
  },
  {
   "cell_type": "code",
   "execution_count": 20,
   "metadata": {},
   "outputs": [],
   "source": [
    "#size of intersection of predicted and actual labels divided by size of their union for each datapoint tested on\n",
    "#sum those and then divide by number of datapoints\n",
    "#vectorized for speed\n",
    "def multi_label_accuracy(real_labels_matrix, predictions_labels_matrix):\n",
    "    #binary so set intersection is and operator\n",
    "    intersection = real_labels_matrix & predictions_labels_matrix\n",
    "    #set union for binary is same as or operator\n",
    "    union = real_labels_matrix | predictions_labels_matrix\n",
    "    #sum(array.T) gets number of 1s in row\n",
    "    row_wise_accuracy = sum(intersection.T) / sum(union.T)\n",
    "    return sum(row_wise_accuracy) / real_labels_matrix.shape[0]\n",
    "\n",
    "#size of intersection of predicted and actual labels divided by size of predicted set for each datapoint tested on\n",
    "#sum those and divide by number of datapoints\n",
    "#if no predicted labels, don't count that row towards the precision as that would be undefined\n",
    "def multi_label_precision(real_labels_matrix, predictions_labels_matrix):\n",
    "    #binary so set intersection is and operator\n",
    "    intersection = real_labels_matrix & predictions_labels_matrix\n",
    "    precision_sum = 0\n",
    "    num_rows = 0\n",
    "    for row in range(intersection.shape[0]):\n",
    "        if sum(predictions_labels_matrix[row]) > 0: #if there is at least one prediction for this row\n",
    "            num_rows += 1\n",
    "            precision_sum += sum(intersection[row]) / sum(predictions_labels_matrix[row])\n",
    "    if num_rows == 0:\n",
    "        return 0#no labels predicted at all will give us 0 precision as precision makes no sense here\n",
    "    return precision_sum / num_rows\n",
    "\n",
    "#size of intersection of predicted and actual labels divided by size of real label set for each datapoint tested on\n",
    "#sum those and divide by number of datapoints\n",
    "#all datapoints should have at least 1 real label in this data set\n",
    "#vectorized for speed\n",
    "def multi_label_recall(real_labels_matrix, predictions_labels_matrix):\n",
    "    #binary so set intersection is and operator\n",
    "    intersection = real_labels_matrix & predictions_labels_matrix\n",
    "    #set union for binary is same as or operator\n",
    "    #sum(array.T) gets number of 1s in row\n",
    "    row_wise_recall = sum(intersection.T) / sum(real_labels_matrix.T)\n",
    "    return sum(row_wise_recall) / real_labels_matrix.shape[0]\n",
    "\n",
    "#lower is better. Percent incorrectly chosen labels counting assignment and non-assignment equally\n",
    "def hamming_loss(real_labels_matrix, predictions_labels_matrix):\n",
    "    return (np.logical_xor(real_labels_matrix, predictions_labels_matrix)).sum()/(real_labels_matrix.shape[0] * real_labels_matrix.shape[1])\n",
    "\n",
    "\n",
    "#K is what we imported keras backend as\n",
    "\n",
    "#metric for keras for early stopping\n",
    "#takes in raw labels from kerass (not yet converted to 0 and 1s)\n",
    "#NOT the same as accuracy, this is total labels correctly identified divided by union of total labels\n",
    "#this weights rows with more labels higher, where accruacy does not, but this is still a good metric for early stopping\n",
    "def raw_multi_label_accuracy(y_true, y_pred):\n",
    "    positives = K.greater_equal(y_pred, 0.5)\n",
    "    positives = K.cast(positives, K.floatx())\n",
    "    new_y_pred = positives #+ ((1-positives)*y_pred)\n",
    "    intersection = y_true * new_y_pred\n",
    "    union = 1 -((1-y_true)*(1-new_y_pred))\n",
    "    accuracy = K.sum(intersection) / K.sum(union)\n",
    "    return accuracy\n",
    "    "
   ]
  },
  {
   "cell_type": "code",
   "execution_count": 21,
   "metadata": {},
   "outputs": [],
   "source": [
    "def get_all_metrics(actual_labels, predictions):\n",
    "    print('Getting evaluation metrics for each label:')\n",
    "    get_per_label_metrics(actual_labels, predictions)\n",
    "    print('Getting evaluations for multilabel problem')\n",
    "    print('Multilabel accuracy: ' + str(multi_label_accuracy(actual_labels, predictions)))\n",
    "    print('Multilabel precision: ' + str(multi_label_precision(actual_labels, predictions)))\n",
    "    print('Multilabel recall: ' + str(multi_label_recall(actual_labels, predictions)))\n",
    "    print(\"Percent of correctly decided label decisions: \" + str(100* (1-hamming_loss(actual_labels, predictions))))"
   ]
  },
  {
   "cell_type": "code",
   "execution_count": 22,
   "metadata": {},
   "outputs": [],
   "source": [
    "#for early stopping only after certain number of epochs. wait until delay epochs until early stopping\n",
    "#not same as patience. Want to not even start looking until delay is reached\n",
    "class DelayedEarlyStopping(EarlyStopping):\n",
    "    def __init__(self, monitor, min_delta=0, patience=0, verbose=0, mode='auto', delay = 100):\n",
    "        super(DelayedEarlyStopping, self).__init__(monitor=monitor, min_delta=min_delta, patience=patience,verbose=verbose, mode=mode)\n",
    "        self.delay = delay\n",
    "\n",
    "    def on_epoch_end(self, epoch, logs=None):\n",
    "        if epoch > self.delay:\n",
    "            super().on_epoch_end(epoch, logs)"
   ]
  },
  {
   "cell_type": "code",
   "execution_count": 23,
   "metadata": {},
   "outputs": [],
   "source": [
    "def nn_output_to_predictions(res):\n",
    "    label_predictions = []\n",
    "    for i in range(res.shape[0]):\n",
    "        pred = [0]*len(genre_dict)\n",
    "        for j in range(res.shape[1]):\n",
    "            if res[i][j] >= .5:\n",
    "                pred[j] = 1\n",
    "        label_predictions.append(pred)\n",
    "    return np.array(label_predictions)"
   ]
  },
  {
   "cell_type": "markdown",
   "metadata": {},
   "source": [
    "Convolutional Neural Networks"
   ]
  },
  {
   "cell_type": "code",
   "execution_count": 24,
   "metadata": {
    "scrolled": true
   },
   "outputs": [
    {
     "name": "stdout",
     "output_type": "stream",
     "text": [
      "WARNING:tensorflow:From /home/matt/.local/lib/python3.6/site-packages/tensorflow/python/framework/op_def_library.py:263: colocate_with (from tensorflow.python.framework.ops) is deprecated and will be removed in a future version.\n",
      "Instructions for updating:\n",
      "Colocations handled automatically by placer.\n",
      "WARNING:tensorflow:From /home/matt/.local/lib/python3.6/site-packages/keras/backend/tensorflow_backend.py:3445: calling dropout (from tensorflow.python.ops.nn_ops) with keep_prob is deprecated and will be removed in a future version.\n",
      "Instructions for updating:\n",
      "Please use `rate` instead of `keep_prob`. Rate should be set to `rate = 1 - keep_prob`.\n",
      "WARNING:tensorflow:From /home/matt/.local/lib/python3.6/site-packages/tensorflow/python/ops/math_ops.py:3066: to_int32 (from tensorflow.python.ops.math_ops) is deprecated and will be removed in a future version.\n",
      "Instructions for updating:\n",
      "Use tf.cast instead.\n",
      "WARNING:tensorflow:From /home/matt/.local/lib/python3.6/site-packages/tensorflow/python/ops/math_grad.py:102: div (from tensorflow.python.ops.math_ops) is deprecated and will be removed in a future version.\n",
      "Instructions for updating:\n",
      "Deprecated in favor of operator or tf.math.divide.\n",
      "Train on 2072 samples, validate on 231 samples\n",
      "Epoch 1/1000\n",
      " - 3s - loss: 0.6957 - raw_multi_label_accuracy: 0.1961 - val_loss: 0.6663 - val_raw_multi_label_accuracy: 0.2182\n",
      "Epoch 2/1000\n",
      " - 1s - loss: 0.6530 - raw_multi_label_accuracy: 0.1983 - val_loss: 0.6500 - val_raw_multi_label_accuracy: 0.2182\n",
      "Epoch 3/1000\n",
      " - 2s - loss: 0.6356 - raw_multi_label_accuracy: 0.1894 - val_loss: 0.6384 - val_raw_multi_label_accuracy: 0.2182\n",
      "Epoch 4/1000\n",
      " - 1s - loss: 0.6266 - raw_multi_label_accuracy: 0.1906 - val_loss: 0.6309 - val_raw_multi_label_accuracy: 0.2182\n",
      "Epoch 5/1000\n",
      " - 1s - loss: 0.6139 - raw_multi_label_accuracy: 0.2056 - val_loss: 0.6258 - val_raw_multi_label_accuracy: 0.2054\n",
      "Epoch 6/1000\n",
      " - 1s - loss: 0.6023 - raw_multi_label_accuracy: 0.2127 - val_loss: 0.6215 - val_raw_multi_label_accuracy: 0.2164\n",
      "Epoch 7/1000\n",
      " - 1s - loss: 0.5823 - raw_multi_label_accuracy: 0.2321 - val_loss: 0.6177 - val_raw_multi_label_accuracy: 0.2153\n",
      "Epoch 8/1000\n",
      " - 1s - loss: 0.5358 - raw_multi_label_accuracy: 0.3249 - val_loss: 0.6157 - val_raw_multi_label_accuracy: 0.2203\n",
      "Epoch 9/1000\n",
      " - 1s - loss: 0.4544 - raw_multi_label_accuracy: 0.4855 - val_loss: 0.6161 - val_raw_multi_label_accuracy: 0.2255\n",
      "Epoch 10/1000\n",
      " - 1s - loss: 0.3739 - raw_multi_label_accuracy: 0.5904 - val_loss: 0.6310 - val_raw_multi_label_accuracy: 0.2411\n",
      "Epoch 11/1000\n",
      " - 1s - loss: 0.3202 - raw_multi_label_accuracy: 0.6667 - val_loss: 0.6502 - val_raw_multi_label_accuracy: 0.2350\n",
      "Epoch 12/1000\n",
      " - 1s - loss: 0.2885 - raw_multi_label_accuracy: 0.7111 - val_loss: 0.6777 - val_raw_multi_label_accuracy: 0.2551\n",
      "Epoch 13/1000\n",
      " - 1s - loss: 0.2607 - raw_multi_label_accuracy: 0.7502 - val_loss: 0.6887 - val_raw_multi_label_accuracy: 0.2716\n",
      "Epoch 14/1000\n",
      " - 1s - loss: 0.2344 - raw_multi_label_accuracy: 0.7877 - val_loss: 0.7113 - val_raw_multi_label_accuracy: 0.2607\n",
      "Epoch 15/1000\n",
      " - 2s - loss: 0.2125 - raw_multi_label_accuracy: 0.8190 - val_loss: 0.7482 - val_raw_multi_label_accuracy: 0.2753\n",
      "Epoch 16/1000\n",
      " - 1s - loss: 0.1921 - raw_multi_label_accuracy: 0.8376 - val_loss: 0.7588 - val_raw_multi_label_accuracy: 0.2685\n",
      "Epoch 17/1000\n",
      " - 2s - loss: 0.1784 - raw_multi_label_accuracy: 0.8589 - val_loss: 0.7802 - val_raw_multi_label_accuracy: 0.2842\n",
      "Epoch 18/1000\n",
      " - 2s - loss: 0.1655 - raw_multi_label_accuracy: 0.8697 - val_loss: 0.8105 - val_raw_multi_label_accuracy: 0.2821\n",
      "Epoch 19/1000\n",
      " - 1s - loss: 0.1557 - raw_multi_label_accuracy: 0.8802 - val_loss: 0.8198 - val_raw_multi_label_accuracy: 0.2891\n",
      "Epoch 20/1000\n",
      " - 1s - loss: 0.1430 - raw_multi_label_accuracy: 0.8982 - val_loss: 0.8161 - val_raw_multi_label_accuracy: 0.2834\n",
      "Epoch 21/1000\n",
      " - 2s - loss: 0.1296 - raw_multi_label_accuracy: 0.9159 - val_loss: 0.8597 - val_raw_multi_label_accuracy: 0.2899\n",
      "Epoch 22/1000\n",
      " - 2s - loss: 0.1166 - raw_multi_label_accuracy: 0.9275 - val_loss: 0.8909 - val_raw_multi_label_accuracy: 0.3029\n",
      "Epoch 23/1000\n",
      " - 1s - loss: 0.1093 - raw_multi_label_accuracy: 0.9367 - val_loss: 0.8727 - val_raw_multi_label_accuracy: 0.2974\n",
      "Epoch 24/1000\n",
      " - 2s - loss: 0.1002 - raw_multi_label_accuracy: 0.9528 - val_loss: 0.9197 - val_raw_multi_label_accuracy: 0.2990\n",
      "Epoch 25/1000\n",
      " - 1s - loss: 0.0954 - raw_multi_label_accuracy: 0.9546 - val_loss: 0.9492 - val_raw_multi_label_accuracy: 0.2988\n",
      "Epoch 26/1000\n",
      " - 1s - loss: 0.0864 - raw_multi_label_accuracy: 0.9605 - val_loss: 0.9274 - val_raw_multi_label_accuracy: 0.2965\n",
      "Epoch 27/1000\n",
      " - 1s - loss: 0.0824 - raw_multi_label_accuracy: 0.9632 - val_loss: 0.9468 - val_raw_multi_label_accuracy: 0.3143\n",
      "Epoch 28/1000\n",
      " - 1s - loss: 0.0785 - raw_multi_label_accuracy: 0.9693 - val_loss: 0.9391 - val_raw_multi_label_accuracy: 0.3034\n",
      "Epoch 29/1000\n",
      " - 1s - loss: 0.0734 - raw_multi_label_accuracy: 0.9700 - val_loss: 0.9651 - val_raw_multi_label_accuracy: 0.2987\n",
      "Epoch 30/1000\n",
      " - 1s - loss: 0.0711 - raw_multi_label_accuracy: 0.9740 - val_loss: 0.9669 - val_raw_multi_label_accuracy: 0.2967\n",
      "Epoch 31/1000\n",
      " - 1s - loss: 0.0671 - raw_multi_label_accuracy: 0.9783 - val_loss: 0.9540 - val_raw_multi_label_accuracy: 0.3035\n",
      "Epoch 32/1000\n",
      " - 1s - loss: 0.0652 - raw_multi_label_accuracy: 0.9749 - val_loss: 0.9810 - val_raw_multi_label_accuracy: 0.2994\n",
      "Time to train with cross validation for early stopping: 48.867366552352905 seconds\n"
     ]
    }
   ],
   "source": [
    "model_cnn = Sequential()\n",
    "e = Embedding(num_words_kept, word_vec_len, weights=[embedding_matrix], input_length=max_seq_len, trainable=True)\n",
    "#e = Embedding(num_words_kept, word_vec_len, input_length=max_seq_len, trainable=True)\n",
    "model_cnn.add(e)\n",
    "model_cnn.add(Conv1D(filters=50, kernel_size=2, padding='valid', activation='relu', strides=1))\n",
    "model_cnn.add(GlobalMaxPooling1D())\n",
    "model_cnn.add(Dense(256, activation='relu', kernel_regularizer=l2(0.001)))\n",
    "model_cnn.add(Dropout(.5))\n",
    "model_cnn.add(Dense(len(genre_dict), activation='sigmoid'))\n",
    "model_cnn.compile(loss='binary_crossentropy', optimizer='adam', metrics=[raw_multi_label_accuracy])\n",
    "start = time.time()\n",
    "model_cnn.fit(x_train_seq, y_train, validation_split = .1, callbacks = [DelayedEarlyStopping(monitor = 'val_raw_multi_label_accuracy', patience = 5, delay=25)], epochs=1000, batch_size=100, verbose=2)\n",
    "end = time.time()\n",
    "print('Time to train with cross validation for early stopping: ' + str(end-start) + ' seconds')"
   ]
  },
  {
   "cell_type": "code",
   "execution_count": 25,
   "metadata": {},
   "outputs": [],
   "source": [
    "predictions = nn_output_to_predictions(model_cnn.predict(x_test_seq))"
   ]
  },
  {
   "cell_type": "code",
   "execution_count": 26,
   "metadata": {},
   "outputs": [
    {
     "name": "stdout",
     "output_type": "stream",
     "text": [
      "Getting evaluation metrics for each label:\n",
      "Accuruacy for Action-Adventure: 0.6822916666666666\n",
      "Precision for Action-Adventure: 0.5211267605633803\n",
      "Recall for Action-Adventure: 0.3915343915343915\n",
      "\n",
      "Accuruacy for Romance: 0.8090277777777778\n",
      "Precision for Romance: 0.5925925925925926\n",
      "Recall for Romance: 0.1391304347826087\n",
      "\n",
      "Accuruacy for Horror-Thriller: 0.6822916666666666\n",
      "Precision for Horror-Thriller: 0.5337078651685393\n",
      "Recall for Horror-Thriller: 0.48717948717948717\n",
      "\n",
      "Accuruacy for Comedy: 0.6302083333333334\n",
      "Precision for Comedy: 0.43846153846153846\n",
      "Recall for Comedy: 0.2893401015228426\n",
      "\n",
      "Accuruacy for Science Fiction: 0.796875\n",
      "Precision for Science Fiction: 0.35294117647058826\n",
      "Recall for Science Fiction: 0.17647058823529413\n",
      "\n",
      "Accuruacy for Drama: 0.5347222222222222\n",
      "Precision for Drama: 0.5287671232876713\n",
      "Recall for Drama: 0.6678200692041523\n",
      "\n",
      "Getting evaluations for multilabel problem\n",
      "Multilabel accuracy: 0.35795717592592635\n",
      "Multilabel precision: 0.5242805755395683\n",
      "Multilabel recall: 0.4453703703703705\n",
      "Percent of correctly decided label decisions: 68.92361111111111\n"
     ]
    }
   ],
   "source": [
    "get_all_metrics(y_test, predictions)"
   ]
  },
  {
   "cell_type": "markdown",
   "metadata": {},
   "source": [
    "CNN but with multiple filter sizes so we don't just filter on group of words at a time"
   ]
  },
  {
   "cell_type": "code",
   "execution_count": 27,
   "metadata": {
    "scrolled": true
   },
   "outputs": [
    {
     "name": "stdout",
     "output_type": "stream",
     "text": [
      "Train on 2072 samples, validate on 231 samples\n",
      "Epoch 1/1000\n",
      " - 5s - loss: 2.8385 - raw_multi_label_accuracy: 0.1833 - val_loss: 2.2222 - val_raw_multi_label_accuracy: 0.1882\n",
      "Epoch 2/1000\n",
      " - 4s - loss: 1.8214 - raw_multi_label_accuracy: 0.1738 - val_loss: 1.4537 - val_raw_multi_label_accuracy: 0.2182\n",
      "Epoch 3/1000\n",
      " - 4s - loss: 1.2267 - raw_multi_label_accuracy: 0.1739 - val_loss: 1.0323 - val_raw_multi_label_accuracy: 0.2182\n",
      "Epoch 4/1000\n",
      " - 4s - loss: 0.9104 - raw_multi_label_accuracy: 0.1778 - val_loss: 0.8161 - val_raw_multi_label_accuracy: 0.2182\n",
      "Epoch 5/1000\n",
      " - 4s - loss: 0.7506 - raw_multi_label_accuracy: 0.1647 - val_loss: 0.7073 - val_raw_multi_label_accuracy: 0.2182\n",
      "Epoch 6/1000\n",
      " - 4s - loss: 0.6687 - raw_multi_label_accuracy: 0.1931 - val_loss: 0.6565 - val_raw_multi_label_accuracy: 0.2182\n",
      "Epoch 7/1000\n",
      " - 4s - loss: 0.6304 - raw_multi_label_accuracy: 0.1788 - val_loss: 0.6329 - val_raw_multi_label_accuracy: 0.2182\n",
      "Epoch 8/1000\n",
      " - 4s - loss: 0.6112 - raw_multi_label_accuracy: 0.2037 - val_loss: 0.6208 - val_raw_multi_label_accuracy: 0.2182\n",
      "Epoch 9/1000\n",
      " - 4s - loss: 0.5960 - raw_multi_label_accuracy: 0.1911 - val_loss: 0.6155 - val_raw_multi_label_accuracy: 0.2182\n",
      "Epoch 10/1000\n",
      " - 4s - loss: 0.5758 - raw_multi_label_accuracy: 0.2128 - val_loss: 0.6135 - val_raw_multi_label_accuracy: 0.1721\n",
      "Epoch 11/1000\n",
      " - 4s - loss: 0.5336 - raw_multi_label_accuracy: 0.2972 - val_loss: 0.6142 - val_raw_multi_label_accuracy: 0.1962\n",
      "Epoch 12/1000\n",
      " - 4s - loss: 0.4890 - raw_multi_label_accuracy: 0.4200 - val_loss: 0.6201 - val_raw_multi_label_accuracy: 0.2175\n",
      "Epoch 13/1000\n",
      " - 5s - loss: 0.4628 - raw_multi_label_accuracy: 0.4423 - val_loss: 0.6067 - val_raw_multi_label_accuracy: 0.2115\n",
      "Epoch 14/1000\n",
      " - 5s - loss: 0.4353 - raw_multi_label_accuracy: 0.4797 - val_loss: 0.6056 - val_raw_multi_label_accuracy: 0.2276\n",
      "Epoch 15/1000\n",
      " - 4s - loss: 0.4012 - raw_multi_label_accuracy: 0.5480 - val_loss: 0.6281 - val_raw_multi_label_accuracy: 0.2283\n",
      "Epoch 16/1000\n",
      " - 4s - loss: 0.3577 - raw_multi_label_accuracy: 0.6223 - val_loss: 0.6336 - val_raw_multi_label_accuracy: 0.2326\n",
      "Epoch 17/1000\n",
      " - 5s - loss: 0.3255 - raw_multi_label_accuracy: 0.6653 - val_loss: 0.6474 - val_raw_multi_label_accuracy: 0.2172\n",
      "Epoch 18/1000\n",
      " - 5s - loss: 0.3025 - raw_multi_label_accuracy: 0.6876 - val_loss: 0.6639 - val_raw_multi_label_accuracy: 0.2282\n",
      "Epoch 19/1000\n",
      " - 5s - loss: 0.2829 - raw_multi_label_accuracy: 0.7082 - val_loss: 0.6624 - val_raw_multi_label_accuracy: 0.2701\n",
      "Epoch 20/1000\n",
      " - 6s - loss: 0.2633 - raw_multi_label_accuracy: 0.7350 - val_loss: 0.6510 - val_raw_multi_label_accuracy: 0.2628\n",
      "Epoch 21/1000\n",
      " - 5s - loss: 0.2500 - raw_multi_label_accuracy: 0.7401 - val_loss: 0.6780 - val_raw_multi_label_accuracy: 0.2609\n",
      "Epoch 22/1000\n",
      " - 5s - loss: 0.2343 - raw_multi_label_accuracy: 0.7645 - val_loss: 0.7026 - val_raw_multi_label_accuracy: 0.2765\n",
      "Epoch 23/1000\n",
      " - 5s - loss: 0.2195 - raw_multi_label_accuracy: 0.7765 - val_loss: 0.6991 - val_raw_multi_label_accuracy: 0.3076\n",
      "Epoch 24/1000\n",
      " - 4s - loss: 0.2090 - raw_multi_label_accuracy: 0.7989 - val_loss: 0.7268 - val_raw_multi_label_accuracy: 0.2870\n",
      "Epoch 25/1000\n",
      " - 5s - loss: 0.1975 - raw_multi_label_accuracy: 0.8089 - val_loss: 0.7689 - val_raw_multi_label_accuracy: 0.2870\n",
      "Epoch 26/1000\n",
      " - 5s - loss: 0.1828 - raw_multi_label_accuracy: 0.8372 - val_loss: 0.7930 - val_raw_multi_label_accuracy: 0.2944\n",
      "Epoch 27/1000\n",
      " - 4s - loss: 0.1682 - raw_multi_label_accuracy: 0.8524 - val_loss: 0.7932 - val_raw_multi_label_accuracy: 0.2851\n",
      "Epoch 28/1000\n",
      " - 4s - loss: 0.1612 - raw_multi_label_accuracy: 0.8643 - val_loss: 0.8139 - val_raw_multi_label_accuracy: 0.3013\n",
      "Epoch 29/1000\n",
      " - 5s - loss: 0.1497 - raw_multi_label_accuracy: 0.8749 - val_loss: 0.8365 - val_raw_multi_label_accuracy: 0.3049\n",
      "Epoch 30/1000\n",
      " - 5s - loss: 0.1433 - raw_multi_label_accuracy: 0.8811 - val_loss: 0.8643 - val_raw_multi_label_accuracy: 0.2950\n",
      "Epoch 31/1000\n",
      " - 4s - loss: 0.1348 - raw_multi_label_accuracy: 0.8907 - val_loss: 0.8793 - val_raw_multi_label_accuracy: 0.2902\n",
      "Epoch 32/1000\n",
      " - 4s - loss: 0.1282 - raw_multi_label_accuracy: 0.8966 - val_loss: 0.9121 - val_raw_multi_label_accuracy: 0.2857\n",
      "Epoch 33/1000\n",
      " - 4s - loss: 0.1238 - raw_multi_label_accuracy: 0.9031 - val_loss: 0.9278 - val_raw_multi_label_accuracy: 0.2975\n",
      "Epoch 34/1000\n",
      " - 4s - loss: 0.1212 - raw_multi_label_accuracy: 0.9012 - val_loss: 0.9028 - val_raw_multi_label_accuracy: 0.2909\n",
      "Time to train with cross validation for early stopping: 154.99727749824524 seconds\n"
     ]
    }
   ],
   "source": [
    "model_input = Input(shape=(max_seq_len,), dtype='int32')\n",
    "e = Embedding(num_words_kept, word_vec_len, weights=[embedding_matrix], input_length=max_seq_len, trainable=True)(model_input)\n",
    "two_word_filter = Conv1D(filters=100, kernel_size=2, padding='valid', activation='relu', strides=1)(e)\n",
    "two_word_filter = GlobalMaxPooling1D()(two_word_filter)\n",
    "three_word_filter = Conv1D(filters=100, kernel_size=3, padding='valid', activation='relu', strides=1)(e)\n",
    "three_word_filter = GlobalMaxPooling1D()(three_word_filter)\n",
    "four_word_filter = Conv1D(filters=100, kernel_size=4, padding='valid', activation='relu', strides=1)(e)\n",
    "four_word_filter = GlobalMaxPooling1D()(four_word_filter)\n",
    "merged = concatenate([two_word_filter, three_word_filter, four_word_filter], axis=1)\n",
    "\n",
    "merged = Dense(256, activation='relu', kernel_regularizer=l2(0.01))(merged)\n",
    "merged = Dropout(0.5)(merged)\n",
    "merged = Dense(len(genre_dict))(merged)\n",
    "output = Activation('sigmoid')(merged)\n",
    "model = Model(inputs=[model_input], outputs=[output])\n",
    "model.compile(loss='binary_crossentropy', optimizer='adam', metrics=[raw_multi_label_accuracy])\n",
    "start = time.time()\n",
    "model.fit(x_train_seq, y_train, validation_split = .1, callbacks = [DelayedEarlyStopping(monitor = 'val_raw_multi_label_accuracy', patience = 5, delay=25)], epochs=1000, batch_size=100, verbose=2)\n",
    "end = time.time()\n",
    "print('Time to train with cross validation for early stopping: ' + str(end-start) + ' seconds')"
   ]
  },
  {
   "cell_type": "code",
   "execution_count": 28,
   "metadata": {},
   "outputs": [],
   "source": [
    "predictions = nn_output_to_predictions(model.predict(x_test_seq))"
   ]
  },
  {
   "cell_type": "code",
   "execution_count": 29,
   "metadata": {},
   "outputs": [
    {
     "name": "stdout",
     "output_type": "stream",
     "text": [
      "Getting evaluation metrics for each label:\n",
      "Accuruacy for Action-Adventure: 0.6475694444444444\n",
      "Precision for Action-Adventure: 0.4435483870967742\n",
      "Recall for Action-Adventure: 0.291005291005291\n",
      "\n",
      "Accuruacy for Romance: 0.78125\n",
      "Precision for Romance: 0.37209302325581395\n",
      "Recall for Romance: 0.1391304347826087\n",
      "\n",
      "Accuruacy for Horror-Thriller: 0.6493055555555556\n",
      "Precision for Horror-Thriller: 0.47586206896551725\n",
      "Recall for Horror-Thriller: 0.35384615384615387\n",
      "\n",
      "Accuruacy for Comedy: 0.6302083333333334\n",
      "Precision for Comedy: 0.4411764705882353\n",
      "Recall for Comedy: 0.30456852791878175\n",
      "\n",
      "Accuruacy for Science Fiction: 0.8020833333333334\n",
      "Precision for Science Fiction: 0.34210526315789475\n",
      "Recall for Science Fiction: 0.12745098039215685\n",
      "\n",
      "Accuruacy for Drama: 0.5972222222222222\n",
      "Precision for Drama: 0.5780821917808219\n",
      "Recall for Drama: 0.7301038062283737\n",
      "\n",
      "Getting evaluations for multilabel problem\n",
      "Multilabel accuracy: 0.33486689814814846\n",
      "Multilabel precision: 0.5137614678899081\n",
      "Multilabel recall: 0.4154803240740743\n",
      "Percent of correctly decided label decisions: 68.46064814814814\n"
     ]
    }
   ],
   "source": [
    "get_all_metrics(y_test, predictions)"
   ]
  },
  {
   "cell_type": "markdown",
   "metadata": {},
   "source": [
    "Regular Neural Network"
   ]
  },
  {
   "cell_type": "code",
   "execution_count": 30,
   "metadata": {},
   "outputs": [
    {
     "name": "stdout",
     "output_type": "stream",
     "text": [
      "Train on 2072 samples, validate on 231 samples\n",
      "Epoch 1/1000\n",
      " - 3s - loss: 0.6258 - raw_multi_label_accuracy: 0.1908 - val_loss: 0.6171 - val_raw_multi_label_accuracy: 0.1715\n",
      "Epoch 2/1000\n",
      " - 3s - loss: 0.5864 - raw_multi_label_accuracy: 0.2006 - val_loss: 0.6180 - val_raw_multi_label_accuracy: 0.1390\n",
      "Epoch 3/1000\n",
      " - 3s - loss: 0.5677 - raw_multi_label_accuracy: 0.2072 - val_loss: 0.6183 - val_raw_multi_label_accuracy: 0.1429\n",
      "Epoch 4/1000\n",
      " - 2s - loss: 0.5468 - raw_multi_label_accuracy: 0.2407 - val_loss: 0.6151 - val_raw_multi_label_accuracy: 0.1447\n",
      "Epoch 5/1000\n",
      " - 2s - loss: 0.5192 - raw_multi_label_accuracy: 0.2853 - val_loss: 0.6185 - val_raw_multi_label_accuracy: 0.1270\n",
      "Epoch 6/1000\n",
      " - 2s - loss: 0.4734 - raw_multi_label_accuracy: 0.3786 - val_loss: 0.6192 - val_raw_multi_label_accuracy: 0.2058\n",
      "Epoch 7/1000\n",
      " - 3s - loss: 0.3983 - raw_multi_label_accuracy: 0.5333 - val_loss: 0.6267 - val_raw_multi_label_accuracy: 0.1919\n",
      "Epoch 8/1000\n",
      " - 3s - loss: 0.3036 - raw_multi_label_accuracy: 0.6689 - val_loss: 0.6274 - val_raw_multi_label_accuracy: 0.2129\n",
      "Epoch 9/1000\n",
      " - 3s - loss: 0.2213 - raw_multi_label_accuracy: 0.7864 - val_loss: 0.6259 - val_raw_multi_label_accuracy: 0.2441\n",
      "Epoch 10/1000\n",
      " - 2s - loss: 0.1613 - raw_multi_label_accuracy: 0.8642 - val_loss: 0.6660 - val_raw_multi_label_accuracy: 0.2037\n",
      "Epoch 11/1000\n",
      " - 2s - loss: 0.1138 - raw_multi_label_accuracy: 0.9310 - val_loss: 0.6979 - val_raw_multi_label_accuracy: 0.2322\n",
      "Epoch 12/1000\n",
      " - 2s - loss: 0.0779 - raw_multi_label_accuracy: 0.9569 - val_loss: 0.7588 - val_raw_multi_label_accuracy: 0.2302\n",
      "Epoch 13/1000\n",
      " - 2s - loss: 0.0534 - raw_multi_label_accuracy: 0.9785 - val_loss: 0.7489 - val_raw_multi_label_accuracy: 0.2322\n",
      "Epoch 14/1000\n",
      " - 2s - loss: 0.0369 - raw_multi_label_accuracy: 0.9889 - val_loss: 0.7825 - val_raw_multi_label_accuracy: 0.2285\n",
      "Epoch 15/1000\n",
      " - 2s - loss: 0.0262 - raw_multi_label_accuracy: 0.9955 - val_loss: 0.8369 - val_raw_multi_label_accuracy: 0.2238\n",
      "Epoch 16/1000\n",
      " - 2s - loss: 0.0189 - raw_multi_label_accuracy: 0.9977 - val_loss: 0.8373 - val_raw_multi_label_accuracy: 0.2336\n",
      "Epoch 17/1000\n",
      " - 2s - loss: 0.0143 - raw_multi_label_accuracy: 0.9995 - val_loss: 0.8788 - val_raw_multi_label_accuracy: 0.2324\n",
      "Epoch 18/1000\n",
      " - 2s - loss: 0.0110 - raw_multi_label_accuracy: 1.0000 - val_loss: 0.9003 - val_raw_multi_label_accuracy: 0.2323\n",
      "Epoch 19/1000\n",
      " - 2s - loss: 0.0086 - raw_multi_label_accuracy: 1.0000 - val_loss: 0.9307 - val_raw_multi_label_accuracy: 0.2206\n",
      "Epoch 20/1000\n",
      " - 2s - loss: 0.0070 - raw_multi_label_accuracy: 1.0000 - val_loss: 0.9319 - val_raw_multi_label_accuracy: 0.2269\n",
      "Epoch 21/1000\n",
      " - 2s - loss: 0.0059 - raw_multi_label_accuracy: 1.0000 - val_loss: 0.9612 - val_raw_multi_label_accuracy: 0.2276\n",
      "Epoch 22/1000\n",
      " - 2s - loss: 0.0050 - raw_multi_label_accuracy: 1.0000 - val_loss: 0.9857 - val_raw_multi_label_accuracy: 0.2205\n",
      "Epoch 23/1000\n",
      " - 2s - loss: 0.0043 - raw_multi_label_accuracy: 1.0000 - val_loss: 1.0354 - val_raw_multi_label_accuracy: 0.2098\n",
      "Epoch 24/1000\n",
      " - 2s - loss: 0.0037 - raw_multi_label_accuracy: 1.0000 - val_loss: 1.0089 - val_raw_multi_label_accuracy: 0.2273\n",
      "Epoch 25/1000\n",
      " - 2s - loss: 0.0032 - raw_multi_label_accuracy: 1.0000 - val_loss: 1.0229 - val_raw_multi_label_accuracy: 0.2307\n",
      "Epoch 26/1000\n",
      " - 3s - loss: 0.0028 - raw_multi_label_accuracy: 1.0000 - val_loss: 1.0311 - val_raw_multi_label_accuracy: 0.2358\n",
      "Epoch 27/1000\n",
      " - 2s - loss: 0.0025 - raw_multi_label_accuracy: 1.0000 - val_loss: 1.0547 - val_raw_multi_label_accuracy: 0.2176\n",
      "Epoch 28/1000\n",
      " - 2s - loss: 0.0022 - raw_multi_label_accuracy: 1.0000 - val_loss: 1.0700 - val_raw_multi_label_accuracy: 0.2235\n",
      "Epoch 29/1000\n",
      " - 2s - loss: 0.0020 - raw_multi_label_accuracy: 1.0000 - val_loss: 1.0797 - val_raw_multi_label_accuracy: 0.2235\n",
      "Epoch 30/1000\n",
      " - 2s - loss: 0.0018 - raw_multi_label_accuracy: 1.0000 - val_loss: 1.0886 - val_raw_multi_label_accuracy: 0.2265\n",
      "Epoch 31/1000\n",
      " - 2s - loss: 0.0017 - raw_multi_label_accuracy: 1.0000 - val_loss: 1.1060 - val_raw_multi_label_accuracy: 0.2222\n",
      "Epoch 32/1000\n",
      " - 2s - loss: 0.0015 - raw_multi_label_accuracy: 1.0000 - val_loss: 1.0993 - val_raw_multi_label_accuracy: 0.2269\n",
      "Epoch 33/1000\n",
      " - 2s - loss: 0.0014 - raw_multi_label_accuracy: 1.0000 - val_loss: 1.1266 - val_raw_multi_label_accuracy: 0.2207\n",
      "Epoch 34/1000\n",
      " - 2s - loss: 0.0013 - raw_multi_label_accuracy: 1.0000 - val_loss: 1.1197 - val_raw_multi_label_accuracy: 0.2242\n",
      "Epoch 35/1000\n",
      " - 2s - loss: 0.0012 - raw_multi_label_accuracy: 1.0000 - val_loss: 1.1390 - val_raw_multi_label_accuracy: 0.2192\n",
      "Epoch 36/1000\n",
      " - 2s - loss: 0.0011 - raw_multi_label_accuracy: 1.0000 - val_loss: 1.1411 - val_raw_multi_label_accuracy: 0.2243\n",
      "Epoch 37/1000\n",
      " - 2s - loss: 0.0010 - raw_multi_label_accuracy: 1.0000 - val_loss: 1.1621 - val_raw_multi_label_accuracy: 0.2179\n",
      "Time to train with cross validation for early stopping: 74.54964995384216 seconds\n"
     ]
    }
   ],
   "source": [
    "normal_nn = Sequential()\n",
    "e = Embedding(num_words_kept, word_vec_len, weights=[embedding_matrix], input_length=max_seq_len, trainable=True)\n",
    "normal_nn.add(e)\n",
    "normal_nn.add(Flatten())\n",
    "normal_nn.add(Dense(256, activation='relu'))\n",
    "normal_nn.add(Dense(len(genre_dict), activation='sigmoid'))\n",
    "normal_nn.compile(loss='binary_crossentropy', optimizer='adam', metrics=[raw_multi_label_accuracy])\n",
    "start = time.time()\n",
    "normal_nn.fit(x_train_seq, y_train, validation_split = .1, callbacks = [DelayedEarlyStopping(monitor = 'val_raw_multi_label_accuracy', patience = 5, delay=25)], epochs=1000, batch_size=100, verbose=2)\n",
    "end = time.time()\n",
    "print('Time to train with cross validation for early stopping: ' + str(end-start) + ' seconds')"
   ]
  },
  {
   "cell_type": "code",
   "execution_count": 31,
   "metadata": {},
   "outputs": [],
   "source": [
    "predictions = nn_output_to_predictions(normal_nn.predict(x_test_seq))"
   ]
  },
  {
   "cell_type": "code",
   "execution_count": 32,
   "metadata": {},
   "outputs": [
    {
     "name": "stdout",
     "output_type": "stream",
     "text": [
      "Getting evaluation metrics for each label:\n",
      "Accuruacy for Action-Adventure: 0.6805555555555556\n",
      "Precision for Action-Adventure: 0.52\n",
      "Recall for Action-Adventure: 0.3439153439153439\n",
      "\n",
      "Accuruacy for Romance: 0.8055555555555556\n",
      "Precision for Romance: 0.6\n",
      "Recall for Romance: 0.0782608695652174\n",
      "\n",
      "Accuruacy for Horror-Thriller: 0.6961805555555556\n",
      "Precision for Horror-Thriller: 0.6428571428571429\n",
      "Recall for Horror-Thriller: 0.23076923076923078\n",
      "\n",
      "Accuruacy for Comedy: 0.6545138888888888\n",
      "Precision for Comedy: 0.4880952380952381\n",
      "Recall for Comedy: 0.20812182741116753\n",
      "\n",
      "Accuruacy for Science Fiction: 0.8298611111111112\n",
      "Precision for Science Fiction: 0.6\n",
      "Recall for Science Fiction: 0.11764705882352941\n",
      "\n",
      "Accuruacy for Drama: 0.578125\n",
      "Precision for Drama: 0.5727848101265823\n",
      "Recall for Drama: 0.6262975778546713\n",
      "\n",
      "Getting evaluations for multilabel problem\n",
      "Multilabel accuracy: 0.29800347222222245\n",
      "Multilabel precision: 0.5701754385964913\n",
      "Multilabel recall: 0.34366319444444465\n",
      "Percent of correctly decided label decisions: 70.74652777777779\n"
     ]
    }
   ],
   "source": [
    "get_all_metrics(y_test, predictions)"
   ]
  },
  {
   "cell_type": "markdown",
   "metadata": {},
   "source": [
    "LSTM"
   ]
  },
  {
   "cell_type": "code",
   "execution_count": 33,
   "metadata": {},
   "outputs": [
    {
     "name": "stdout",
     "output_type": "stream",
     "text": [
      "Train on 2072 samples, validate on 231 samples\n",
      "Epoch 1/1000\n",
      " - 12s - loss: 0.6253 - raw_multi_label_accuracy: 0.2010 - val_loss: 0.6029 - val_raw_multi_label_accuracy: 0.2182\n",
      "Epoch 2/1000\n",
      " - 10s - loss: 0.5916 - raw_multi_label_accuracy: 0.2310 - val_loss: 0.5991 - val_raw_multi_label_accuracy: 0.2182\n",
      "Epoch 3/1000\n",
      " - 10s - loss: 0.5886 - raw_multi_label_accuracy: 0.1698 - val_loss: 0.6006 - val_raw_multi_label_accuracy: 0.2182\n",
      "Epoch 4/1000\n",
      " - 8s - loss: 0.5873 - raw_multi_label_accuracy: 0.2301 - val_loss: 0.5994 - val_raw_multi_label_accuracy: 0.2182\n",
      "Epoch 5/1000\n",
      " - 10s - loss: 0.5856 - raw_multi_label_accuracy: 0.2289 - val_loss: 0.5970 - val_raw_multi_label_accuracy: 0.0972\n",
      "Epoch 6/1000\n",
      " - 11s - loss: 0.5838 - raw_multi_label_accuracy: 0.1659 - val_loss: 0.5984 - val_raw_multi_label_accuracy: 0.2182\n",
      "Epoch 7/1000\n",
      " - 11s - loss: 0.5728 - raw_multi_label_accuracy: 0.2094 - val_loss: 0.5840 - val_raw_multi_label_accuracy: 0.1375\n",
      "Epoch 8/1000\n",
      " - 10s - loss: 0.5341 - raw_multi_label_accuracy: 0.2714 - val_loss: 0.5487 - val_raw_multi_label_accuracy: 0.2538\n",
      "Epoch 9/1000\n",
      " - 10s - loss: 0.4809 - raw_multi_label_accuracy: 0.3788 - val_loss: 0.5450 - val_raw_multi_label_accuracy: 0.3103\n",
      "Epoch 10/1000\n",
      " - 11s - loss: 0.4501 - raw_multi_label_accuracy: 0.4382 - val_loss: 0.5486 - val_raw_multi_label_accuracy: 0.3298\n",
      "Epoch 11/1000\n",
      " - 10s - loss: 0.4178 - raw_multi_label_accuracy: 0.4989 - val_loss: 0.5373 - val_raw_multi_label_accuracy: 0.3541\n",
      "Epoch 12/1000\n",
      " - 11s - loss: 0.3874 - raw_multi_label_accuracy: 0.5303 - val_loss: 0.5560 - val_raw_multi_label_accuracy: 0.3536\n",
      "Epoch 13/1000\n",
      " - 15s - loss: 0.3497 - raw_multi_label_accuracy: 0.5838 - val_loss: 0.5778 - val_raw_multi_label_accuracy: 0.3707\n",
      "Epoch 14/1000\n",
      " - 11s - loss: 0.3158 - raw_multi_label_accuracy: 0.6242 - val_loss: 0.5966 - val_raw_multi_label_accuracy: 0.3419\n",
      "Epoch 15/1000\n",
      " - 11s - loss: 0.2809 - raw_multi_label_accuracy: 0.6615 - val_loss: 0.6159 - val_raw_multi_label_accuracy: 0.3211\n",
      "Epoch 16/1000\n",
      " - 10s - loss: 0.2396 - raw_multi_label_accuracy: 0.7235 - val_loss: 0.6600 - val_raw_multi_label_accuracy: 0.3351\n",
      "Epoch 17/1000\n",
      " - 9s - loss: 0.2062 - raw_multi_label_accuracy: 0.7576 - val_loss: 0.7642 - val_raw_multi_label_accuracy: 0.3349\n",
      "Epoch 18/1000\n",
      " - 9s - loss: 0.1717 - raw_multi_label_accuracy: 0.8014 - val_loss: 0.7982 - val_raw_multi_label_accuracy: 0.3352\n",
      "Epoch 19/1000\n",
      " - 9s - loss: 0.1470 - raw_multi_label_accuracy: 0.8264 - val_loss: 0.7863 - val_raw_multi_label_accuracy: 0.3371\n",
      "Epoch 20/1000\n",
      " - 9s - loss: 0.1193 - raw_multi_label_accuracy: 0.8618 - val_loss: 0.8439 - val_raw_multi_label_accuracy: 0.3378\n",
      "Epoch 21/1000\n",
      " - 8s - loss: 0.0993 - raw_multi_label_accuracy: 0.8876 - val_loss: 0.9120 - val_raw_multi_label_accuracy: 0.3436\n",
      "Epoch 22/1000\n",
      " - 11s - loss: 0.0834 - raw_multi_label_accuracy: 0.9019 - val_loss: 1.0250 - val_raw_multi_label_accuracy: 0.3523\n",
      "Epoch 23/1000\n",
      " - 10s - loss: 0.0726 - raw_multi_label_accuracy: 0.9154 - val_loss: 1.0442 - val_raw_multi_label_accuracy: 0.3480\n",
      "Epoch 24/1000\n",
      " - 9s - loss: 0.0670 - raw_multi_label_accuracy: 0.9253 - val_loss: 1.0272 - val_raw_multi_label_accuracy: 0.3617\n",
      "Epoch 25/1000\n",
      " - 9s - loss: 0.0619 - raw_multi_label_accuracy: 0.9317 - val_loss: 1.0914 - val_raw_multi_label_accuracy: 0.3491\n",
      "Epoch 26/1000\n",
      " - 9s - loss: 0.0569 - raw_multi_label_accuracy: 0.9318 - val_loss: 1.1553 - val_raw_multi_label_accuracy: 0.3331\n",
      "Epoch 27/1000\n",
      " - 8s - loss: 0.0499 - raw_multi_label_accuracy: 0.9456 - val_loss: 1.2276 - val_raw_multi_label_accuracy: 0.3412\n",
      "Epoch 28/1000\n",
      " - 8s - loss: 0.0439 - raw_multi_label_accuracy: 0.9496 - val_loss: 1.2136 - val_raw_multi_label_accuracy: 0.3409\n",
      "Epoch 29/1000\n",
      " - 8s - loss: 0.0423 - raw_multi_label_accuracy: 0.9519 - val_loss: 1.3045 - val_raw_multi_label_accuracy: 0.3514\n",
      "Epoch 30/1000\n",
      " - 9s - loss: 0.0420 - raw_multi_label_accuracy: 0.9499 - val_loss: 1.1906 - val_raw_multi_label_accuracy: 0.3460\n",
      "Epoch 31/1000\n",
      " - 9s - loss: 0.0370 - raw_multi_label_accuracy: 0.9591 - val_loss: 1.3393 - val_raw_multi_label_accuracy: 0.3385\n",
      "Epoch 32/1000\n",
      " - 8s - loss: 0.0335 - raw_multi_label_accuracy: 0.9628 - val_loss: 1.3364 - val_raw_multi_label_accuracy: 0.3545\n",
      "Epoch 33/1000\n",
      " - 8s - loss: 0.0308 - raw_multi_label_accuracy: 0.9665 - val_loss: 1.3184 - val_raw_multi_label_accuracy: 0.3463\n",
      "Epoch 34/1000\n",
      " - 8s - loss: 0.0307 - raw_multi_label_accuracy: 0.9635 - val_loss: 1.3382 - val_raw_multi_label_accuracy: 0.3471\n",
      "Epoch 35/1000\n",
      " - 9s - loss: 0.0276 - raw_multi_label_accuracy: 0.9696 - val_loss: 1.4328 - val_raw_multi_label_accuracy: 0.3500\n",
      "Epoch 36/1000\n",
      " - 8s - loss: 0.0284 - raw_multi_label_accuracy: 0.9687 - val_loss: 1.4165 - val_raw_multi_label_accuracy: 0.3495\n",
      "Epoch 37/1000\n",
      " - 8s - loss: 0.0241 - raw_multi_label_accuracy: 0.9746 - val_loss: 1.3583 - val_raw_multi_label_accuracy: 0.3449\n",
      "Time to train with cross validation for early stopping: 357.7310721874237 seconds\n"
     ]
    }
   ],
   "source": [
    "lstm_model = Sequential()\n",
    "e = Embedding(num_words_kept, word_vec_len, weights=[embedding_matrix], input_length=max_seq_len, trainable=True)\n",
    "lstm_model.add(e)\n",
    "lstm_model.add(LSTM(100, dropout=0.25, recurrent_dropout=0.25))\n",
    "lstm_model.add(Dense(256, activation='relu'))\n",
    "lstm_model.add(Dense(len(genre_dict), activation='sigmoid'))\n",
    "lstm_model.compile(loss='binary_crossentropy', optimizer='adam', metrics=[raw_multi_label_accuracy])\n",
    "start = time.time()\n",
    "lstm_model.fit(x_train_seq, y_train, validation_split = .1, callbacks = [DelayedEarlyStopping(monitor = 'val_raw_multi_label_accuracy', patience = 5, delay=25)], epochs=1000, batch_size=100, verbose=2)\n",
    "end = time.time()\n",
    "print('Time to train with cross validation for early stopping: ' + str(end-start) + ' seconds')"
   ]
  },
  {
   "cell_type": "code",
   "execution_count": 34,
   "metadata": {},
   "outputs": [],
   "source": [
    "predictions = nn_output_to_predictions(lstm_model.predict(x_test_seq))"
   ]
  },
  {
   "cell_type": "code",
   "execution_count": 35,
   "metadata": {},
   "outputs": [
    {
     "name": "stdout",
     "output_type": "stream",
     "text": [
      "Getting evaluation metrics for each label:\n",
      "Accuruacy for Action-Adventure: 0.6840277777777778\n",
      "Precision for Action-Adventure: 0.519774011299435\n",
      "Recall for Action-Adventure: 0.48677248677248675\n",
      "\n",
      "Accuruacy for Romance: 0.7673611111111112\n",
      "Precision for Romance: 0.4020618556701031\n",
      "Recall for Romance: 0.3391304347826087\n",
      "\n",
      "Accuruacy for Horror-Thriller: 0.625\n",
      "Precision for Horror-Thriller: 0.452914798206278\n",
      "Recall for Horror-Thriller: 0.517948717948718\n",
      "\n",
      "Accuruacy for Comedy: 0.5885416666666666\n",
      "Precision for Comedy: 0.4090909090909091\n",
      "Recall for Comedy: 0.45685279187817257\n",
      "\n",
      "Accuruacy for Science Fiction: 0.8246527777777778\n",
      "Precision for Science Fiction: 0.5102040816326531\n",
      "Recall for Science Fiction: 0.24509803921568626\n",
      "\n",
      "Accuruacy for Drama: 0.5555555555555556\n",
      "Precision for Drama: 0.5435356200527705\n",
      "Recall for Drama: 0.71280276816609\n",
      "\n",
      "Getting evaluations for multilabel problem\n",
      "Multilabel accuracy: 0.37702546296296346\n",
      "Multilabel precision: 0.5014178240740741\n",
      "Multilabel recall: 0.5313657407407409\n",
      "Percent of correctly decided label decisions: 67.4189814814815\n"
     ]
    }
   ],
   "source": [
    "get_all_metrics(y_test, predictions)"
   ]
  },
  {
   "cell_type": "markdown",
   "metadata": {},
   "source": [
    "simple rnn"
   ]
  },
  {
   "cell_type": "code",
   "execution_count": 36,
   "metadata": {},
   "outputs": [
    {
     "name": "stdout",
     "output_type": "stream",
     "text": [
      "Train on 2072 samples, validate on 231 samples\n",
      "Epoch 1/1000\n",
      " - 3s - loss: 0.6468 - raw_multi_label_accuracy: 0.2246 - val_loss: 0.6168 - val_raw_multi_label_accuracy: 0.2182\n",
      "Epoch 2/1000\n",
      " - 2s - loss: 0.6027 - raw_multi_label_accuracy: 0.2304 - val_loss: 0.6056 - val_raw_multi_label_accuracy: 0.2182\n",
      "Epoch 3/1000\n",
      " - 1s - loss: 0.5882 - raw_multi_label_accuracy: 0.2309 - val_loss: 0.5997 - val_raw_multi_label_accuracy: 0.2182\n",
      "Epoch 4/1000\n",
      " - 2s - loss: 0.5748 - raw_multi_label_accuracy: 0.2294 - val_loss: 0.6012 - val_raw_multi_label_accuracy: 0.2182\n",
      "Epoch 5/1000\n",
      " - 1s - loss: 0.5562 - raw_multi_label_accuracy: 0.2317 - val_loss: 0.5998 - val_raw_multi_label_accuracy: 0.2191\n",
      "Epoch 6/1000\n",
      " - 2s - loss: 0.5218 - raw_multi_label_accuracy: 0.2316 - val_loss: 0.5906 - val_raw_multi_label_accuracy: 0.1814\n",
      "Epoch 7/1000\n",
      " - 2s - loss: 0.4772 - raw_multi_label_accuracy: 0.2936 - val_loss: 0.5967 - val_raw_multi_label_accuracy: 0.2027\n",
      "Epoch 8/1000\n",
      " - 1s - loss: 0.4180 - raw_multi_label_accuracy: 0.4306 - val_loss: 0.6168 - val_raw_multi_label_accuracy: 0.2315\n",
      "Epoch 9/1000\n",
      " - 2s - loss: 0.3339 - raw_multi_label_accuracy: 0.6056 - val_loss: 0.6549 - val_raw_multi_label_accuracy: 0.2396\n",
      "Epoch 10/1000\n",
      " - 2s - loss: 0.2567 - raw_multi_label_accuracy: 0.7161 - val_loss: 0.7667 - val_raw_multi_label_accuracy: 0.2247\n",
      "Epoch 11/1000\n",
      " - 2s - loss: 0.1935 - raw_multi_label_accuracy: 0.7929 - val_loss: 0.8490 - val_raw_multi_label_accuracy: 0.2325\n",
      "Epoch 12/1000\n",
      " - 1s - loss: 0.1349 - raw_multi_label_accuracy: 0.8684 - val_loss: 0.9297 - val_raw_multi_label_accuracy: 0.2255\n",
      "Epoch 13/1000\n",
      " - 1s - loss: 0.0982 - raw_multi_label_accuracy: 0.9174 - val_loss: 0.9835 - val_raw_multi_label_accuracy: 0.2470\n",
      "Epoch 14/1000\n",
      " - 1s - loss: 0.0735 - raw_multi_label_accuracy: 0.9401 - val_loss: 1.0348 - val_raw_multi_label_accuracy: 0.2596\n",
      "Epoch 15/1000\n",
      " - 1s - loss: 0.0553 - raw_multi_label_accuracy: 0.9633 - val_loss: 1.1343 - val_raw_multi_label_accuracy: 0.2626\n",
      "Epoch 16/1000\n",
      " - 1s - loss: 0.0351 - raw_multi_label_accuracy: 0.9781 - val_loss: 1.2402 - val_raw_multi_label_accuracy: 0.2623\n",
      "Epoch 17/1000\n",
      " - 1s - loss: 0.0236 - raw_multi_label_accuracy: 0.9883 - val_loss: 1.3346 - val_raw_multi_label_accuracy: 0.2644\n",
      "Epoch 18/1000\n",
      " - 1s - loss: 0.0166 - raw_multi_label_accuracy: 0.9941 - val_loss: 1.4442 - val_raw_multi_label_accuracy: 0.2823\n",
      "Epoch 19/1000\n",
      " - 1s - loss: 0.0122 - raw_multi_label_accuracy: 0.9951 - val_loss: 1.4917 - val_raw_multi_label_accuracy: 0.2675\n",
      "Epoch 20/1000\n",
      " - 1s - loss: 0.0093 - raw_multi_label_accuracy: 0.9964 - val_loss: 1.5665 - val_raw_multi_label_accuracy: 0.2696\n",
      "Epoch 21/1000\n",
      " - 1s - loss: 0.0071 - raw_multi_label_accuracy: 0.9975 - val_loss: 1.5783 - val_raw_multi_label_accuracy: 0.2656\n",
      "Epoch 22/1000\n",
      " - 2s - loss: 0.0067 - raw_multi_label_accuracy: 0.9970 - val_loss: 1.6052 - val_raw_multi_label_accuracy: 0.2689\n",
      "Epoch 23/1000\n",
      " - 1s - loss: 0.0052 - raw_multi_label_accuracy: 0.9990 - val_loss: 1.5994 - val_raw_multi_label_accuracy: 0.2676\n",
      "Epoch 24/1000\n",
      " - 1s - loss: 0.0048 - raw_multi_label_accuracy: 0.9982 - val_loss: 1.5925 - val_raw_multi_label_accuracy: 0.2573\n",
      "Epoch 25/1000\n",
      " - 2s - loss: 0.0037 - raw_multi_label_accuracy: 0.9987 - val_loss: 1.7396 - val_raw_multi_label_accuracy: 0.2792\n",
      "Epoch 26/1000\n",
      " - 2s - loss: 0.0030 - raw_multi_label_accuracy: 0.9992 - val_loss: 1.7885 - val_raw_multi_label_accuracy: 0.2766\n",
      "Epoch 27/1000\n",
      " - 2s - loss: 0.0025 - raw_multi_label_accuracy: 0.9992 - val_loss: 1.7695 - val_raw_multi_label_accuracy: 0.2804\n",
      "Epoch 28/1000\n",
      " - 2s - loss: 0.0019 - raw_multi_label_accuracy: 0.9998 - val_loss: 1.9076 - val_raw_multi_label_accuracy: 0.2747\n",
      "Epoch 29/1000\n",
      " - 2s - loss: 0.0015 - raw_multi_label_accuracy: 0.9997 - val_loss: 1.9162 - val_raw_multi_label_accuracy: 0.2731\n",
      "Epoch 30/1000\n",
      " - 1s - loss: 0.0013 - raw_multi_label_accuracy: 0.9997 - val_loss: 1.9516 - val_raw_multi_label_accuracy: 0.2713\n",
      "Epoch 31/1000\n",
      " - 1s - loss: 0.0011 - raw_multi_label_accuracy: 0.9997 - val_loss: 1.9794 - val_raw_multi_label_accuracy: 0.2724\n",
      "Epoch 32/1000\n",
      " - 1s - loss: 9.9962e-04 - raw_multi_label_accuracy: 0.9997 - val_loss: 2.0025 - val_raw_multi_label_accuracy: 0.2751\n",
      "Time to train with cross validation for early stopping: 53.005385637283325 seconds\n"
     ]
    }
   ],
   "source": [
    "rnn = Sequential()\n",
    "e = Embedding(num_words_kept, word_vec_len, weights=[embedding_matrix], input_length=max_seq_len, trainable=True)\n",
    "rnn.add(e)\n",
    "rnn.add(SimpleRNN(32, activation = 'relu'))\n",
    "rnn.add(Dense(256, activation='relu'))\n",
    "rnn.add(Dense(len(genre_dict), activation='sigmoid'))\n",
    "rnn.compile(loss='binary_crossentropy', optimizer='adam', metrics=[raw_multi_label_accuracy])\n",
    "start = time.time()\n",
    "rnn.fit(x_train_seq, y_train, validation_split = .1, callbacks = [DelayedEarlyStopping(monitor = 'val_raw_multi_label_accuracy', patience = 5, delay=25)], epochs=1000, batch_size=100, verbose=2)\n",
    "end = time.time()\n",
    "print('Time to train with cross validation for early stopping: ' + str(end-start) + ' seconds')"
   ]
  },
  {
   "cell_type": "code",
   "execution_count": 37,
   "metadata": {},
   "outputs": [],
   "source": [
    "predictions = nn_output_to_predictions(rnn.predict(x_test_seq))"
   ]
  },
  {
   "cell_type": "code",
   "execution_count": 38,
   "metadata": {},
   "outputs": [
    {
     "name": "stdout",
     "output_type": "stream",
     "text": [
      "Getting evaluation metrics for each label:\n",
      "Accuruacy for Action-Adventure: 0.59375\n",
      "Precision for Action-Adventure: 0.38219895287958117\n",
      "Recall for Action-Adventure: 0.3862433862433862\n",
      "\n",
      "Accuruacy for Romance: 0.7638888888888888\n",
      "Precision for Romance: 0.26666666666666666\n",
      "Recall for Romance: 0.10434782608695652\n",
      "\n",
      "Accuruacy for Horror-Thriller: 0.6371527777777778\n",
      "Precision for Horror-Thriller: 0.4533333333333333\n",
      "Recall for Horror-Thriller: 0.3487179487179487\n",
      "\n",
      "Accuruacy for Comedy: 0.5555555555555556\n",
      "Precision for Comedy: 0.3254437869822485\n",
      "Recall for Comedy: 0.27918781725888325\n",
      "\n",
      "Accuruacy for Science Fiction: 0.8090277777777778\n",
      "Precision for Science Fiction: 0.43333333333333335\n",
      "Recall for Science Fiction: 0.2549019607843137\n",
      "\n",
      "Accuruacy for Drama: 0.5590277777777778\n",
      "Precision for Drama: 0.5609756097560976\n",
      "Recall for Drama: 0.5570934256055363\n",
      "\n",
      "Getting evaluations for multilabel problem\n",
      "Multilabel accuracy: 0.2987268518518518\n",
      "Multilabel precision: 0.4647077114427863\n",
      "Multilabel recall: 0.3932870370370374\n",
      "Percent of correctly decided label decisions: 65.30671296296296\n"
     ]
    }
   ],
   "source": [
    "get_all_metrics(y_test, predictions)"
   ]
  },
  {
   "cell_type": "markdown",
   "metadata": {},
   "source": [
    "bidirectional-LSTM"
   ]
  },
  {
   "cell_type": "code",
   "execution_count": 39,
   "metadata": {},
   "outputs": [
    {
     "name": "stdout",
     "output_type": "stream",
     "text": [
      "Train on 2072 samples, validate on 231 samples\n",
      "Epoch 1/1000\n",
      " - 23s - loss: 0.6218 - raw_multi_label_accuracy: 0.2025 - val_loss: 0.6042 - val_raw_multi_label_accuracy: 0.2182\n",
      "Epoch 2/1000\n",
      " - 17s - loss: 0.5917 - raw_multi_label_accuracy: 0.2010 - val_loss: 0.5999 - val_raw_multi_label_accuracy: 0.2139\n",
      "Epoch 3/1000\n",
      " - 17s - loss: 0.5893 - raw_multi_label_accuracy: 0.2286 - val_loss: 0.6006 - val_raw_multi_label_accuracy: 0.2182\n",
      "Epoch 4/1000\n",
      " - 17s - loss: 0.5874 - raw_multi_label_accuracy: 0.2241 - val_loss: 0.5999 - val_raw_multi_label_accuracy: 0.1748\n",
      "Epoch 5/1000\n",
      " - 19s - loss: 0.5871 - raw_multi_label_accuracy: 0.2224 - val_loss: 0.5988 - val_raw_multi_label_accuracy: 0.2182\n",
      "Epoch 6/1000\n",
      " - 19s - loss: 0.5844 - raw_multi_label_accuracy: 0.2307 - val_loss: 0.5979 - val_raw_multi_label_accuracy: 0.2182\n",
      "Epoch 7/1000\n",
      " - 19s - loss: 0.5771 - raw_multi_label_accuracy: 0.2150 - val_loss: 0.5919 - val_raw_multi_label_accuracy: 0.2167\n",
      "Epoch 8/1000\n",
      " - 18s - loss: 0.5533 - raw_multi_label_accuracy: 0.2365 - val_loss: 0.5810 - val_raw_multi_label_accuracy: 0.1955\n",
      "Epoch 9/1000\n",
      " - 18s - loss: 0.5110 - raw_multi_label_accuracy: 0.2912 - val_loss: 0.5781 - val_raw_multi_label_accuracy: 0.2025\n",
      "Epoch 10/1000\n",
      " - 20s - loss: 0.4684 - raw_multi_label_accuracy: 0.3595 - val_loss: 0.5715 - val_raw_multi_label_accuracy: 0.2316\n",
      "Epoch 11/1000\n",
      " - 21s - loss: 0.4235 - raw_multi_label_accuracy: 0.4493 - val_loss: 0.5710 - val_raw_multi_label_accuracy: 0.2496\n",
      "Epoch 12/1000\n",
      " - 23s - loss: 0.3759 - raw_multi_label_accuracy: 0.5246 - val_loss: 0.5793 - val_raw_multi_label_accuracy: 0.2747\n",
      "Epoch 13/1000\n",
      " - 20s - loss: 0.3353 - raw_multi_label_accuracy: 0.5919 - val_loss: 0.6198 - val_raw_multi_label_accuracy: 0.3216\n",
      "Epoch 14/1000\n",
      " - 20s - loss: 0.3011 - raw_multi_label_accuracy: 0.6360 - val_loss: 0.6244 - val_raw_multi_label_accuracy: 0.3224\n",
      "Epoch 15/1000\n",
      " - 22s - loss: 0.2627 - raw_multi_label_accuracy: 0.6865 - val_loss: 0.6796 - val_raw_multi_label_accuracy: 0.3217\n",
      "Epoch 16/1000\n",
      " - 24s - loss: 0.2349 - raw_multi_label_accuracy: 0.7276 - val_loss: 0.7084 - val_raw_multi_label_accuracy: 0.3271\n",
      "Epoch 17/1000\n",
      " - 23s - loss: 0.2026 - raw_multi_label_accuracy: 0.7651 - val_loss: 0.7461 - val_raw_multi_label_accuracy: 0.3358\n",
      "Epoch 18/1000\n",
      " - 23s - loss: 0.1722 - raw_multi_label_accuracy: 0.8042 - val_loss: 0.7882 - val_raw_multi_label_accuracy: 0.3557\n",
      "Epoch 19/1000\n",
      " - 19s - loss: 0.1491 - raw_multi_label_accuracy: 0.8355 - val_loss: 0.8991 - val_raw_multi_label_accuracy: 0.3284\n",
      "Epoch 20/1000\n",
      " - 19s - loss: 0.1269 - raw_multi_label_accuracy: 0.8575 - val_loss: 0.8852 - val_raw_multi_label_accuracy: 0.3433\n",
      "Epoch 21/1000\n",
      " - 17s - loss: 0.1096 - raw_multi_label_accuracy: 0.8804 - val_loss: 0.9816 - val_raw_multi_label_accuracy: 0.3324\n",
      "Epoch 22/1000\n",
      " - 18s - loss: 0.0968 - raw_multi_label_accuracy: 0.8874 - val_loss: 1.0141 - val_raw_multi_label_accuracy: 0.3372\n",
      "Epoch 23/1000\n",
      " - 18s - loss: 0.0870 - raw_multi_label_accuracy: 0.8991 - val_loss: 1.0281 - val_raw_multi_label_accuracy: 0.3426\n",
      "Epoch 24/1000\n",
      " - 18s - loss: 0.0781 - raw_multi_label_accuracy: 0.9133 - val_loss: 1.0136 - val_raw_multi_label_accuracy: 0.3390\n",
      "Epoch 25/1000\n",
      " - 17s - loss: 0.0699 - raw_multi_label_accuracy: 0.9254 - val_loss: 1.0589 - val_raw_multi_label_accuracy: 0.3535\n",
      "Epoch 26/1000\n",
      " - 17s - loss: 0.0600 - raw_multi_label_accuracy: 0.9294 - val_loss: 1.2510 - val_raw_multi_label_accuracy: 0.3487\n",
      "Epoch 27/1000\n",
      " - 18s - loss: 0.0564 - raw_multi_label_accuracy: 0.9368 - val_loss: 1.2388 - val_raw_multi_label_accuracy: 0.3384\n",
      "Epoch 28/1000\n",
      " - 18s - loss: 0.0514 - raw_multi_label_accuracy: 0.9422 - val_loss: 1.2681 - val_raw_multi_label_accuracy: 0.3482\n",
      "Epoch 29/1000\n",
      " - 19s - loss: 0.0469 - raw_multi_label_accuracy: 0.9491 - val_loss: 1.2619 - val_raw_multi_label_accuracy: 0.3495\n",
      "Epoch 30/1000\n",
      " - 18s - loss: 0.0428 - raw_multi_label_accuracy: 0.9532 - val_loss: 1.3702 - val_raw_multi_label_accuracy: 0.3506\n",
      "Epoch 31/1000\n",
      " - 19s - loss: 0.0401 - raw_multi_label_accuracy: 0.9546 - val_loss: 1.4606 - val_raw_multi_label_accuracy: 0.3457\n",
      "Epoch 32/1000\n",
      " - 17s - loss: 0.0355 - raw_multi_label_accuracy: 0.9627 - val_loss: 1.4359 - val_raw_multi_label_accuracy: 0.3566\n",
      "Epoch 33/1000\n",
      " - 17s - loss: 0.0345 - raw_multi_label_accuracy: 0.9589 - val_loss: 1.4041 - val_raw_multi_label_accuracy: 0.3435\n",
      "Epoch 34/1000\n",
      " - 18s - loss: 0.0333 - raw_multi_label_accuracy: 0.9629 - val_loss: 1.4421 - val_raw_multi_label_accuracy: 0.3400\n",
      "Epoch 35/1000\n",
      " - 18s - loss: 0.0292 - raw_multi_label_accuracy: 0.9683 - val_loss: 1.5104 - val_raw_multi_label_accuracy: 0.3580\n",
      "Epoch 36/1000\n",
      " - 17s - loss: 0.0298 - raw_multi_label_accuracy: 0.9665 - val_loss: 1.5304 - val_raw_multi_label_accuracy: 0.3483\n",
      "Epoch 37/1000\n",
      " - 17s - loss: 0.0288 - raw_multi_label_accuracy: 0.9668 - val_loss: 1.5522 - val_raw_multi_label_accuracy: 0.3572\n",
      "Epoch 38/1000\n",
      " - 22s - loss: 0.0247 - raw_multi_label_accuracy: 0.9730 - val_loss: 1.5761 - val_raw_multi_label_accuracy: 0.3474\n",
      "Epoch 39/1000\n",
      " - 17s - loss: 0.0255 - raw_multi_label_accuracy: 0.9715 - val_loss: 1.5504 - val_raw_multi_label_accuracy: 0.3573\n",
      "Epoch 40/1000\n",
      " - 17s - loss: 0.0235 - raw_multi_label_accuracy: 0.9738 - val_loss: 1.5496 - val_raw_multi_label_accuracy: 0.3586\n",
      "Epoch 41/1000\n",
      " - 17s - loss: 0.0203 - raw_multi_label_accuracy: 0.9778 - val_loss: 1.6266 - val_raw_multi_label_accuracy: 0.3593\n",
      "Epoch 42/1000\n",
      " - 21s - loss: 0.0189 - raw_multi_label_accuracy: 0.9809 - val_loss: 1.6348 - val_raw_multi_label_accuracy: 0.3527\n",
      "Epoch 43/1000\n",
      " - 17s - loss: 0.0189 - raw_multi_label_accuracy: 0.9780 - val_loss: 1.6982 - val_raw_multi_label_accuracy: 0.3628\n",
      "Epoch 44/1000\n",
      " - 17s - loss: 0.0173 - raw_multi_label_accuracy: 0.9801 - val_loss: 1.7032 - val_raw_multi_label_accuracy: 0.3587\n",
      "Epoch 45/1000\n",
      " - 17s - loss: 0.0187 - raw_multi_label_accuracy: 0.9785 - val_loss: 1.5849 - val_raw_multi_label_accuracy: 0.3605\n",
      "Epoch 46/1000\n",
      " - 18s - loss: 0.0152 - raw_multi_label_accuracy: 0.9821 - val_loss: 1.7667 - val_raw_multi_label_accuracy: 0.3578\n",
      "Epoch 47/1000\n",
      " - 18s - loss: 0.0157 - raw_multi_label_accuracy: 0.9830 - val_loss: 1.6731 - val_raw_multi_label_accuracy: 0.3661\n",
      "Epoch 48/1000\n",
      " - 19s - loss: 0.0139 - raw_multi_label_accuracy: 0.9837 - val_loss: 1.7287 - val_raw_multi_label_accuracy: 0.3625\n",
      "Epoch 49/1000\n",
      " - 17s - loss: 0.0156 - raw_multi_label_accuracy: 0.9837 - val_loss: 1.7582 - val_raw_multi_label_accuracy: 0.3595\n",
      "Epoch 50/1000\n",
      " - 23s - loss: 0.0128 - raw_multi_label_accuracy: 0.9876 - val_loss: 1.7907 - val_raw_multi_label_accuracy: 0.3646\n",
      "Epoch 51/1000\n",
      " - 17s - loss: 0.0126 - raw_multi_label_accuracy: 0.9882 - val_loss: 1.8664 - val_raw_multi_label_accuracy: 0.3612\n",
      "Epoch 52/1000\n",
      " - 17s - loss: 0.0112 - raw_multi_label_accuracy: 0.9892 - val_loss: 1.8280 - val_raw_multi_label_accuracy: 0.3651\n",
      "Time to train with cross validation for early stopping: 980.2343521118164 seconds\n"
     ]
    }
   ],
   "source": [
    "bi_lstm = Sequential()\n",
    "e = Embedding(num_words_kept, word_vec_len, weights=[embedding_matrix], input_length=max_seq_len, trainable=True)\n",
    "bi_lstm.add(e)\n",
    "bi_lstm.add(Bidirectional(LSTM(100, dropout=0.25, recurrent_dropout=0.25)))\n",
    "bi_lstm.add(Dense(256, activation='relu'))\n",
    "bi_lstm.add(Dense(len(genre_dict), activation='sigmoid'))\n",
    "bi_lstm.compile(loss='binary_crossentropy', optimizer='adam', metrics=[raw_multi_label_accuracy])\n",
    "start = time.time()\n",
    "bi_lstm.fit(x_train_seq, y_train, validation_split = .1, callbacks = [DelayedEarlyStopping(monitor = 'val_raw_multi_label_accuracy', patience = 5, delay=25)], epochs=1000, batch_size=100, verbose=2)\n",
    "end = time.time()\n",
    "print('Time to train with cross validation for early stopping: ' + str(end-start) + ' seconds')"
   ]
  },
  {
   "cell_type": "code",
   "execution_count": 40,
   "metadata": {},
   "outputs": [],
   "source": [
    "predictions = nn_output_to_predictions(bi_lstm.predict(x_test_seq))"
   ]
  },
  {
   "cell_type": "code",
   "execution_count": 41,
   "metadata": {},
   "outputs": [
    {
     "name": "stdout",
     "output_type": "stream",
     "text": [
      "Getting evaluation metrics for each label:\n",
      "Accuruacy for Action-Adventure: 0.6493055555555556\n",
      "Precision for Action-Adventure: 0.47346938775510206\n",
      "Recall for Action-Adventure: 0.6137566137566137\n",
      "\n",
      "Accuruacy for Romance: 0.8107638888888888\n",
      "Precision for Romance: 0.5789473684210527\n",
      "Recall for Romance: 0.19130434782608696\n",
      "\n",
      "Accuruacy for Horror-Thriller: 0.6736111111111112\n",
      "Precision for Horror-Thriller: 0.5207100591715976\n",
      "Recall for Horror-Thriller: 0.4512820512820513\n",
      "\n",
      "Accuruacy for Comedy: 0.6215277777777778\n",
      "Precision for Comedy: 0.46511627906976744\n",
      "Recall for Comedy: 0.7106598984771574\n",
      "\n",
      "Accuruacy for Science Fiction: 0.8038194444444444\n",
      "Precision for Science Fiction: 0.4126984126984127\n",
      "Recall for Science Fiction: 0.2549019607843137\n",
      "\n",
      "Accuruacy for Drama: 0.5972222222222222\n",
      "Precision for Drama: 0.5789473684210527\n",
      "Recall for Drama: 0.7231833910034602\n",
      "\n",
      "Getting evaluations for multilabel problem\n",
      "Multilabel accuracy: 0.4102430555555559\n",
      "Multilabel precision: 0.5370370370370371\n",
      "Multilabel recall: 0.5849537037037034\n",
      "Percent of correctly decided label decisions: 69.27083333333333\n"
     ]
    }
   ],
   "source": [
    "get_all_metrics(y_test, predictions)"
   ]
  }
 ],
 "metadata": {
  "kernelspec": {
   "display_name": "Python 3",
   "language": "python",
   "name": "python3"
  },
  "language_info": {
   "codemirror_mode": {
    "name": "ipython",
    "version": 3
   },
   "file_extension": ".py",
   "mimetype": "text/x-python",
   "name": "python",
   "nbconvert_exporter": "python",
   "pygments_lexer": "ipython3",
   "version": "3.6.7"
  }
 },
 "nbformat": 4,
 "nbformat_minor": 2
}
