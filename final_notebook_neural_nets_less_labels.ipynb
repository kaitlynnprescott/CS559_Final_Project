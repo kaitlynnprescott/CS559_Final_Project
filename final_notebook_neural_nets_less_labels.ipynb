{
 "cells": [
  {
   "cell_type": "code",
   "execution_count": 1,
   "metadata": {},
   "outputs": [
    {
     "name": "stderr",
     "output_type": "stream",
     "text": [
      "Using TensorFlow backend.\n"
     ]
    }
   ],
   "source": [
    "import numpy as np\n",
    "import pandas as pd\n",
    "#for reading in data properly\n",
    "import ast\n",
    "import json\n",
    "\n",
    "import gensim\n",
    "from gensim.models import Word2Vec\n",
    "\n",
    "from sklearn.model_selection import train_test_split\n",
    "from sklearn import utils\n",
    "from sklearn.metrics import accuracy_score\n",
    "from sklearn.metrics import precision_score\n",
    "from sklearn.metrics import recall_score\n",
    "\n",
    "import re\n",
    "\n",
    "import nltk\n",
    "from nltk.corpus import stopwords\n",
    "from nltk.tokenize import word_tokenize\n",
    "\n",
    "from keras.preprocessing.text import Tokenizer\n",
    "from keras.preprocessing.sequence import pad_sequences\n",
    "import keras.backend as K\n",
    "from keras.callbacks import EarlyStopping\n",
    "from keras.layers import Conv1D, GlobalMaxPooling1D, LSTM, SimpleRNN, Dense, Dropout, Flatten, Bidirectional\n",
    "from keras.layers import Input, concatenate, Activation\n",
    "from keras.layers.embeddings import Embedding\n",
    "from keras.models import Sequential, Model\n",
    "from keras.regularizers import l2\n",
    "\n",
    "stop_words = set(stopwords.words('english'))\n",
    "\n",
    "import time"
   ]
  },
  {
   "cell_type": "markdown",
   "metadata": {},
   "source": [
    "read in the data"
   ]
  },
  {
   "cell_type": "code",
   "execution_count": 2,
   "metadata": {},
   "outputs": [],
   "source": [
    "all_data = pd.read_csv('train.csv')\n",
    "all_data = all_data.dropna(subset=['overview', 'genres']) #drop cols without overview or genre (data we use or labels)"
   ]
  },
  {
   "cell_type": "code",
   "execution_count": 3,
   "metadata": {},
   "outputs": [],
   "source": [
    "#parse each row to get label vectors from json\n",
    "def parse_genres_json(x):\n",
    "    try:\n",
    "        json_genres = json.loads(x.replace(\"'\", '\"'))\n",
    "        numElems = len(json_genres)\n",
    "        ret = [0]*len(genre_dict) #number of genres we are looking at\n",
    "        for i in range(numElems):\n",
    "            genre_str = (json_genres[i]['name'])\n",
    "            if genre_str in genre_map.keys():\n",
    "                ret[genre_dict[genre_map[genre_str]]] = 1\n",
    "        return ret\n",
    "    except Exception as excep:\n",
    "        print('Exception' + str(excep))\n",
    "        return ''"
   ]
  },
  {
   "cell_type": "markdown",
   "metadata": {},
   "source": [
    "Get dictionary for genre to its index in label vector"
   ]
  },
  {
   "cell_type": "code",
   "execution_count": 4,
   "metadata": {},
   "outputs": [
    {
     "data": {
      "text/plain": [
       "{'Action-Adventure': 0,\n",
       " 'Romance': 1,\n",
       " 'Horror-Thriller': 2,\n",
       " 'Comedy': 3,\n",
       " 'Science Fiction': 4}"
      ]
     },
     "execution_count": 4,
     "metadata": {},
     "output_type": "execute_result"
    }
   ],
   "source": [
    "genre_dict = {}\n",
    "genre_dict['Action-Adventure'] = 0\n",
    "genre_dict['Romance'] = 1\n",
    "genre_dict['Horror-Thriller'] = 2\n",
    "genre_dict['Comedy'] = 3\n",
    "genre_dict['Science Fiction'] = 4\n",
    "#genre_dict['Drama'] = 5\n",
    "genre_dict"
   ]
  },
  {
   "cell_type": "code",
   "execution_count": 5,
   "metadata": {},
   "outputs": [],
   "source": [
    "#map original labels to more coarse grained labels\n",
    "genre_map = {}\n",
    "genre_map['Adventure'] = 'Action-Adventure'\n",
    "genre_map['Romance'] = 'Romance'\n",
    "genre_map['Horror'] = 'Horror-Thriller'\n",
    "genre_map['Thriller'] = 'Horror-Thriller'\n",
    "genre_map['Comedy'] = 'Comedy'\n",
    "#genre_map['War'] = 'Action-Adventure'#not sure about this\n",
    "genre_map['Action'] = 'Action-Adventure'\n",
    "genre_map['Science Fiction'] = 'Science Fiction'\n",
    "#genre_map['Drama'] = 'Drama'"
   ]
  },
  {
   "cell_type": "code",
   "execution_count": 6,
   "metadata": {},
   "outputs": [],
   "source": [
    "def getGenresVects():\n",
    "    y = all_data['genres']\n",
    "    ret = y.apply(parse_genres_json)\n",
    "    all_data['genres_vect'] = ret"
   ]
  },
  {
   "cell_type": "code",
   "execution_count": 7,
   "metadata": {},
   "outputs": [],
   "source": [
    "getGenresVects() #get label vectors for genres indexed by indexes in genre_dict"
   ]
  },
  {
   "cell_type": "code",
   "execution_count": 8,
   "metadata": {},
   "outputs": [],
   "source": [
    "#put to lower case, remove punctation, remove stopwords\n",
    "def cleanText(text):\n",
    "    no_stopword_text = [w for w in text.split() if not w in stop_words]\n",
    "    text = ' '.join(no_stopword_text)\n",
    "    text = re.sub(r'[^a-z A-Z0-9]', \"\", text) #maybe shouldn't remove punction between words here?\n",
    "    text = text.lower()\n",
    "    return text\n",
    "\n",
    "all_data['cleanOverview'] = all_data['overview'].apply(cleanText)"
   ]
  },
  {
   "cell_type": "code",
   "execution_count": 9,
   "metadata": {},
   "outputs": [],
   "source": [
    "all_data = all_data[all_data.genres_vect.map(sum) > 0] #drop rows that now have no labels "
   ]
  },
  {
   "cell_type": "code",
   "execution_count": 10,
   "metadata": {},
   "outputs": [],
   "source": [
    "#neural net data only needs a few cols\n",
    "nn_data = all_data[['cleanOverview', 'genres_vect', 'overview']]"
   ]
  },
  {
   "cell_type": "code",
   "execution_count": 11,
   "metadata": {},
   "outputs": [],
   "source": [
    "train, test = train_test_split(nn_data, test_size=0.2, random_state=42)"
   ]
  },
  {
   "cell_type": "markdown",
   "metadata": {},
   "source": [
    "Extract actual features and labels from train and test set"
   ]
  },
  {
   "cell_type": "code",
   "execution_count": 12,
   "metadata": {},
   "outputs": [],
   "source": [
    "#gettrian and test features for classification. Just need text and lables for this\n",
    "x = train['cleanOverview'].values.tolist()\n",
    "y = train['genres_vect']\n",
    "x_test = test['cleanOverview'].values.tolist()\n",
    "y_test = test['genres_vect']"
   ]
  },
  {
   "cell_type": "code",
   "execution_count": 13,
   "metadata": {},
   "outputs": [],
   "source": [
    "#convert labels from array of lists to numpy array\n",
    "\n",
    "y_train = y.tolist()\n",
    "y_train = np.array(y_train)\n",
    "\n",
    "y_test = y_test.tolist()\n",
    "y_test = np.array(y_test)"
   ]
  },
  {
   "cell_type": "markdown",
   "metadata": {},
   "source": [
    "Get initial word embedding vectors"
   ]
  },
  {
   "cell_type": "code",
   "execution_count": 14,
   "metadata": {},
   "outputs": [],
   "source": [
    "tok = [word_tokenize(ov) for ov in x]"
   ]
  },
  {
   "cell_type": "code",
   "execution_count": 15,
   "metadata": {},
   "outputs": [],
   "source": [
    "word_vec_len = 32\n",
    "w2v = Word2Vec(tok, min_count = 2, size=word_vec_len)"
   ]
  },
  {
   "cell_type": "code",
   "execution_count": 16,
   "metadata": {},
   "outputs": [],
   "source": [
    "num_words_kept = 100000 #using 100000 most popular words, use throughout\n",
    "\n",
    "tokenizer = Tokenizer(num_words_kept)\n",
    "tokenizer.fit_on_texts(x)\n",
    "sequences = tokenizer.texts_to_sequences(x)\n",
    "\n",
    "max_seq_len = 150 #larger than averaage but not too large\n",
    "\n",
    "#get actual train features to feed into neural nets for training\n",
    "x_train_seq = pad_sequences(sequences, maxlen=max_seq_len)"
   ]
  },
  {
   "cell_type": "code",
   "execution_count": 17,
   "metadata": {},
   "outputs": [],
   "source": [
    "test_sequences = tokenizer.texts_to_sequences(x_test)\n",
    "#get actual test features to feed into neural nets for testing\n",
    "x_test_seq = pad_sequences(test_sequences, maxlen=max_seq_len)"
   ]
  },
  {
   "cell_type": "markdown",
   "metadata": {},
   "source": [
    "Get word embeddings matrix for start input to neural net"
   ]
  },
  {
   "cell_type": "code",
   "execution_count": 18,
   "metadata": {},
   "outputs": [],
   "source": [
    "#Citation: This technique to get word embeddings comes, with some minor changes, mostly from: \n",
    "#https://towardsdatascience.com/another-twitter-sentiment-analysis-with-python-part-11-cnn-word2vec-41f5e28eda74\n",
    "\n",
    "embeddings_index = {}\n",
    "for w in w2v.wv.vocab.keys():\n",
    "    embeddings_index[w] = w2v.wv[w]\n",
    "\n",
    "\n",
    "embedding_matrix = np.zeros((num_words_kept, word_vec_len))\n",
    "for word, i in tokenizer.word_index.items():\n",
    "    if i >= num_words_kept:\n",
    "        continue\n",
    "    embedding_vector = embeddings_index.get(word)\n",
    "    if embedding_vector is not None:\n",
    "        embedding_matrix[i] = embedding_vector"
   ]
  },
  {
   "cell_type": "markdown",
   "metadata": {},
   "source": [
    "Below we define evlaution metric functions"
   ]
  },
  {
   "cell_type": "code",
   "execution_count": 19,
   "metadata": {},
   "outputs": [],
   "source": [
    "def get_per_label_metrics(real_labels_matrix, predictions_labels_matrix):\n",
    "    for genre in genre_dict.keys():\n",
    "        index = genre_dict[genre]\n",
    "        real_labels_vect = real_labels_matrix[:, index]\n",
    "        prediction_vect = predictions_labels_matrix[:,index]\n",
    "        print(\"Accuruacy for \" + genre + \": \" + str(accuracy_score(real_labels_vect, prediction_vect)))\n",
    "        print(\"Precision for \" + genre + \": \" + str(precision_score(real_labels_vect, prediction_vect)))\n",
    "        print(\"Recall for \" + genre + \": \" + str(recall_score(real_labels_vect, prediction_vect)))\n",
    "        print()"
   ]
  },
  {
   "cell_type": "code",
   "execution_count": 20,
   "metadata": {},
   "outputs": [],
   "source": [
    "#size of intersection of predicted and actual labels divided by size of their union for each datapoint tested on\n",
    "#sum those and then divide by number of datapoints\n",
    "#vectorized for speed\n",
    "def multi_label_accuracy(real_labels_matrix, predictions_labels_matrix):\n",
    "    #binary so set intersection is and operator\n",
    "    intersection = real_labels_matrix & predictions_labels_matrix\n",
    "    #set union for binary is same as or operator\n",
    "    union = real_labels_matrix | predictions_labels_matrix\n",
    "    #sum(array.T) gets number of 1s in row\n",
    "    row_wise_accuracy = sum(intersection.T) / sum(union.T)\n",
    "    return sum(row_wise_accuracy) / real_labels_matrix.shape[0]\n",
    "\n",
    "#size of intersection of predicted and actual labels divided by size of predicted set for each datapoint tested on\n",
    "#sum those and divide by number of datapoints\n",
    "#if no predicted labels, don't count that row towards the precision as that would be undefined\n",
    "def multi_label_precision(real_labels_matrix, predictions_labels_matrix):\n",
    "    #binary so set intersection is and operator\n",
    "    intersection = real_labels_matrix & predictions_labels_matrix\n",
    "    precision_sum = 0\n",
    "    num_rows = 0\n",
    "    for row in range(intersection.shape[0]):\n",
    "        if sum(predictions_labels_matrix[row]) > 0: #if there is at least one prediction for this row\n",
    "            num_rows += 1\n",
    "            precision_sum += sum(intersection[row]) / sum(predictions_labels_matrix[row])\n",
    "    if num_rows == 0:\n",
    "        return 0#no labels predicted at all will give us 0 precision as precision makes no sense here\n",
    "    return precision_sum / num_rows\n",
    "\n",
    "#size of intersection of predicted and actual labels divided by size of real label set for each datapoint tested on\n",
    "#sum those and divide by number of datapoints\n",
    "#all datapoints should have at least 1 real label in this data set\n",
    "#vectorized for speed\n",
    "def multi_label_recall(real_labels_matrix, predictions_labels_matrix):\n",
    "    #binary so set intersection is and operator\n",
    "    intersection = real_labels_matrix & predictions_labels_matrix\n",
    "    #set union for binary is same as or operator\n",
    "    #sum(array.T) gets number of 1s in row\n",
    "    row_wise_recall = sum(intersection.T) / sum(real_labels_matrix.T)\n",
    "    return sum(row_wise_recall) / real_labels_matrix.shape[0]\n",
    "\n",
    "#lower is better. Percent incorrectly chosen labels counting assignment and non-assignment equally\n",
    "def hamming_loss(real_labels_matrix, predictions_labels_matrix):\n",
    "    return (np.logical_xor(real_labels_matrix, predictions_labels_matrix)).sum()/(real_labels_matrix.shape[0] * real_labels_matrix.shape[1])\n",
    "\n",
    "\n",
    "#K is what we imported keras backend as\n",
    "\n",
    "#metric for keras for early stopping\n",
    "#takes in raw labels from kerass (not yet converted to 0 and 1s)\n",
    "#NOT the same as accuracy, this is total labels correctly identified divided by union of total labels\n",
    "#this weights rows with more labels higher, where accruacy does not, but this is still a good metric for early stopping\n",
    "def raw_multi_label_accuracy(y_true, y_pred):\n",
    "    positives = K.greater_equal(y_pred, 0.5)\n",
    "    positives = K.cast(positives, K.floatx())\n",
    "    new_y_pred = positives #+ ((1-positives)*y_pred)\n",
    "    intersection = y_true * new_y_pred\n",
    "    union = 1 -((1-y_true)*(1-new_y_pred))\n",
    "    accuracy = K.sum(intersection) / K.sum(union)\n",
    "    return accuracy\n",
    "    "
   ]
  },
  {
   "cell_type": "code",
   "execution_count": 21,
   "metadata": {},
   "outputs": [],
   "source": [
    "def get_all_metrics(actual_labels, predictions):\n",
    "    print('Getting evaluation metrics for each label:')\n",
    "    get_per_label_metrics(actual_labels, predictions)\n",
    "    print('Getting evaluations for multilabel problem')\n",
    "    print('Multilabel accuracy: ' + str(multi_label_accuracy(actual_labels, predictions)))\n",
    "    print('Multilabel precision: ' + str(multi_label_precision(actual_labels, predictions)))\n",
    "    print('Multilabel recall: ' + str(multi_label_recall(actual_labels, predictions)))\n",
    "    print(\"Percent of correctly decided label decisions: \" + str(100* (1-hamming_loss(actual_labels, predictions))))"
   ]
  },
  {
   "cell_type": "code",
   "execution_count": 22,
   "metadata": {},
   "outputs": [],
   "source": [
    "#for early stopping only after certain number of epochs. wait until delay epochs until early stopping\n",
    "#not same as patience. Want to not even start looking until delay is reached\n",
    "class DelayedEarlyStopping(EarlyStopping):\n",
    "    def __init__(self, monitor, min_delta=0, patience=0, verbose=0, mode='auto', delay = 100):\n",
    "        super(DelayedEarlyStopping, self).__init__(monitor=monitor, min_delta=min_delta, patience=patience,verbose=verbose, mode=mode)\n",
    "        self.delay = delay\n",
    "\n",
    "    def on_epoch_end(self, epoch, logs=None):\n",
    "        if epoch > self.delay:\n",
    "            super().on_epoch_end(epoch, logs)"
   ]
  },
  {
   "cell_type": "code",
   "execution_count": 23,
   "metadata": {},
   "outputs": [],
   "source": [
    "def nn_output_to_predictions(res):\n",
    "    label_predictions = []\n",
    "    for i in range(res.shape[0]):\n",
    "        pred = [0]*len(genre_dict)\n",
    "        for j in range(res.shape[1]):\n",
    "            if res[i][j] >= .5:\n",
    "                pred[j] = 1\n",
    "        label_predictions.append(pred)\n",
    "    return np.array(label_predictions)"
   ]
  },
  {
   "cell_type": "markdown",
   "metadata": {},
   "source": [
    "Convolutional Neural Networks"
   ]
  },
  {
   "cell_type": "code",
   "execution_count": 24,
   "metadata": {
    "scrolled": true
   },
   "outputs": [
    {
     "name": "stdout",
     "output_type": "stream",
     "text": [
      "WARNING:tensorflow:From /usr/local/Cellar/python/3.7.0/Frameworks/Python.framework/Versions/3.7/lib/python3.7/site-packages/tensorflow/python/framework/op_def_library.py:263: colocate_with (from tensorflow.python.framework.ops) is deprecated and will be removed in a future version.\n",
      "Instructions for updating:\n",
      "Colocations handled automatically by placer.\n",
      "WARNING:tensorflow:From /usr/local/Cellar/python/3.7.0/Frameworks/Python.framework/Versions/3.7/lib/python3.7/site-packages/keras/backend/tensorflow_backend.py:3445: calling dropout (from tensorflow.python.ops.nn_ops) with keep_prob is deprecated and will be removed in a future version.\n",
      "Instructions for updating:\n",
      "Please use `rate` instead of `keep_prob`. Rate should be set to `rate = 1 - keep_prob`.\n",
      "WARNING:tensorflow:From /usr/local/Cellar/python/3.7.0/Frameworks/Python.framework/Versions/3.7/lib/python3.7/site-packages/tensorflow/python/ops/math_ops.py:3066: to_int32 (from tensorflow.python.ops.math_ops) is deprecated and will be removed in a future version.\n",
      "Instructions for updating:\n",
      "Use tf.cast instead.\n",
      "WARNING:tensorflow:From /usr/local/Cellar/python/3.7.0/Frameworks/Python.framework/Versions/3.7/lib/python3.7/site-packages/tensorflow/python/ops/math_grad.py:102: div (from tensorflow.python.ops.math_ops) is deprecated and will be removed in a future version.\n",
      "Instructions for updating:\n",
      "Deprecated in favor of operator or tf.math.divide.\n",
      "Train on 1738 samples, validate on 194 samples\n",
      "Epoch 1/1000\n",
      " - 2s - loss: 0.6974 - raw_multi_label_accuracy: 0.0946 - val_loss: 0.6588 - val_raw_multi_label_accuracy: 0.0000e+00\n",
      "Epoch 2/1000\n",
      " - 1s - loss: 0.6591 - raw_multi_label_accuracy: 0.0431 - val_loss: 0.6391 - val_raw_multi_label_accuracy: 0.0000e+00\n",
      "Epoch 3/1000\n",
      " - 1s - loss: 0.6418 - raw_multi_label_accuracy: 0.0128 - val_loss: 0.6272 - val_raw_multi_label_accuracy: 0.0000e+00\n",
      "Epoch 4/1000\n",
      " - 1s - loss: 0.6307 - raw_multi_label_accuracy: 0.0343 - val_loss: 0.6188 - val_raw_multi_label_accuracy: 0.0000e+00\n",
      "Epoch 5/1000\n",
      " - 1s - loss: 0.6182 - raw_multi_label_accuracy: 0.0177 - val_loss: 0.6120 - val_raw_multi_label_accuracy: 0.0000e+00\n",
      "Epoch 6/1000\n",
      " - 1s - loss: 0.6042 - raw_multi_label_accuracy: 0.0236 - val_loss: 0.6039 - val_raw_multi_label_accuracy: 0.0000e+00\n",
      "Epoch 7/1000\n",
      " - 1s - loss: 0.5775 - raw_multi_label_accuracy: 0.0888 - val_loss: 0.5910 - val_raw_multi_label_accuracy: 0.0068\n",
      "Epoch 8/1000\n",
      " - 1s - loss: 0.5247 - raw_multi_label_accuracy: 0.3588 - val_loss: 0.5696 - val_raw_multi_label_accuracy: 0.2007\n",
      "Epoch 9/1000\n",
      " - 1s - loss: 0.4470 - raw_multi_label_accuracy: 0.5089 - val_loss: 0.5453 - val_raw_multi_label_accuracy: 0.2655\n",
      "Epoch 10/1000\n",
      " - 2s - loss: 0.3839 - raw_multi_label_accuracy: 0.5707 - val_loss: 0.5476 - val_raw_multi_label_accuracy: 0.2314\n",
      "Epoch 11/1000\n",
      " - 1s - loss: 0.3370 - raw_multi_label_accuracy: 0.6298 - val_loss: 0.5366 - val_raw_multi_label_accuracy: 0.2714\n",
      "Epoch 12/1000\n",
      " - 1s - loss: 0.2880 - raw_multi_label_accuracy: 0.7276 - val_loss: 0.5464 - val_raw_multi_label_accuracy: 0.2765\n",
      "Epoch 13/1000\n",
      " - 1s - loss: 0.2434 - raw_multi_label_accuracy: 0.7917 - val_loss: 0.5531 - val_raw_multi_label_accuracy: 0.2982\n",
      "Epoch 14/1000\n",
      " - 1s - loss: 0.2046 - raw_multi_label_accuracy: 0.8426 - val_loss: 0.5692 - val_raw_multi_label_accuracy: 0.3050\n",
      "Epoch 15/1000\n",
      " - 1s - loss: 0.1758 - raw_multi_label_accuracy: 0.8734 - val_loss: 0.5703 - val_raw_multi_label_accuracy: 0.3176\n",
      "Epoch 16/1000\n",
      " - 1s - loss: 0.1501 - raw_multi_label_accuracy: 0.9045 - val_loss: 0.5714 - val_raw_multi_label_accuracy: 0.3478\n",
      "Epoch 17/1000\n",
      " - 1s - loss: 0.1291 - raw_multi_label_accuracy: 0.9364 - val_loss: 0.6001 - val_raw_multi_label_accuracy: 0.3305\n",
      "Epoch 18/1000\n",
      " - 1s - loss: 0.1153 - raw_multi_label_accuracy: 0.9513 - val_loss: 0.6076 - val_raw_multi_label_accuracy: 0.3651\n",
      "Epoch 19/1000\n",
      " - 1s - loss: 0.1048 - raw_multi_label_accuracy: 0.9591 - val_loss: 0.6381 - val_raw_multi_label_accuracy: 0.3588\n",
      "Epoch 20/1000\n",
      " - 1s - loss: 0.0972 - raw_multi_label_accuracy: 0.9639 - val_loss: 0.6339 - val_raw_multi_label_accuracy: 0.3681\n",
      "Epoch 21/1000\n",
      " - 1s - loss: 0.0893 - raw_multi_label_accuracy: 0.9723 - val_loss: 0.6341 - val_raw_multi_label_accuracy: 0.3731\n",
      "Epoch 22/1000\n",
      " - 1s - loss: 0.0831 - raw_multi_label_accuracy: 0.9741 - val_loss: 0.6633 - val_raw_multi_label_accuracy: 0.3671\n",
      "Epoch 23/1000\n",
      " - 1s - loss: 0.0789 - raw_multi_label_accuracy: 0.9761 - val_loss: 0.6595 - val_raw_multi_label_accuracy: 0.3634\n",
      "Epoch 24/1000\n",
      " - 1s - loss: 0.0737 - raw_multi_label_accuracy: 0.9813 - val_loss: 0.6754 - val_raw_multi_label_accuracy: 0.3619\n",
      "Epoch 25/1000\n",
      " - 1s - loss: 0.0700 - raw_multi_label_accuracy: 0.9846 - val_loss: 0.6863 - val_raw_multi_label_accuracy: 0.3398\n",
      "Epoch 26/1000\n",
      " - 1s - loss: 0.0674 - raw_multi_label_accuracy: 0.9817 - val_loss: 0.6843 - val_raw_multi_label_accuracy: 0.3512\n",
      "Epoch 27/1000\n",
      " - 1s - loss: 0.0642 - raw_multi_label_accuracy: 0.9830 - val_loss: 0.6803 - val_raw_multi_label_accuracy: 0.3619\n",
      "Epoch 28/1000\n",
      " - 1s - loss: 0.0603 - raw_multi_label_accuracy: 0.9875 - val_loss: 0.6815 - val_raw_multi_label_accuracy: 0.3636\n",
      "Epoch 29/1000\n",
      " - 1s - loss: 0.0590 - raw_multi_label_accuracy: 0.9833 - val_loss: 0.7011 - val_raw_multi_label_accuracy: 0.3552\n",
      "Epoch 30/1000\n",
      " - 1s - loss: 0.0552 - raw_multi_label_accuracy: 0.9904 - val_loss: 0.7130 - val_raw_multi_label_accuracy: 0.3551\n",
      "Epoch 31/1000\n",
      " - 1s - loss: 0.0543 - raw_multi_label_accuracy: 0.9875 - val_loss: 0.7070 - val_raw_multi_label_accuracy: 0.3602\n",
      "Epoch 32/1000\n",
      " - 1s - loss: 0.0530 - raw_multi_label_accuracy: 0.9889 - val_loss: 0.7216 - val_raw_multi_label_accuracy: 0.3470\n",
      "Epoch 33/1000\n",
      " - 1s - loss: 0.0498 - raw_multi_label_accuracy: 0.9886 - val_loss: 0.7168 - val_raw_multi_label_accuracy: 0.3501\n",
      "Time to train with cross validation for early stopping: 45.14652180671692 seconds\n"
     ]
    }
   ],
   "source": [
    "model_cnn = Sequential()\n",
    "e = Embedding(num_words_kept, word_vec_len, weights=[embedding_matrix], input_length=max_seq_len, trainable=True)\n",
    "#e = Embedding(num_words_kept, word_vec_len, input_length=max_seq_len, trainable=True)\n",
    "model_cnn.add(e)\n",
    "model_cnn.add(Conv1D(filters=50, kernel_size=2, padding='valid', activation='relu', strides=1))\n",
    "model_cnn.add(GlobalMaxPooling1D())\n",
    "model_cnn.add(Dense(256, activation='relu', kernel_regularizer=l2(0.001)))\n",
    "model_cnn.add(Dropout(.5))\n",
    "model_cnn.add(Dense(len(genre_dict), activation='sigmoid'))\n",
    "model_cnn.compile(loss='binary_crossentropy', optimizer='adam', metrics=[raw_multi_label_accuracy])\n",
    "start = time.time()\n",
    "model_cnn.fit(x_train_seq, y_train, validation_split = .1, callbacks = [DelayedEarlyStopping(monitor = 'val_raw_multi_label_accuracy', patience = 5, delay=25)], epochs=1000, batch_size=100, verbose=2)\n",
    "end = time.time()\n",
    "print('Time to train with cross validation for early stopping: ' + str(end-start) + ' seconds')"
   ]
  },
  {
   "cell_type": "code",
   "execution_count": 25,
   "metadata": {},
   "outputs": [],
   "source": [
    "predictions = nn_output_to_predictions(model_cnn.predict(x_test_seq))"
   ]
  },
  {
   "cell_type": "code",
   "execution_count": 26,
   "metadata": {},
   "outputs": [
    {
     "name": "stdout",
     "output_type": "stream",
     "text": [
      "Getting evaluation metrics for each label:\n",
      "Accuruacy for Action-Adventure: 0.6687370600414079\n",
      "Precision for Action-Adventure: 0.6097560975609756\n",
      "Recall for Action-Adventure: 0.40106951871657753\n",
      "\n",
      "Accuruacy for Romance: 0.7660455486542443\n",
      "Precision for Romance: 0.4533333333333333\n",
      "Recall for Romance: 0.32075471698113206\n",
      "\n",
      "Accuruacy for Horror-Thriller: 0.6625258799171843\n",
      "Precision for Horror-Thriller: 0.6106870229007634\n",
      "Recall for Horror-Thriller: 0.4166666666666667\n",
      "\n",
      "Accuruacy for Comedy: 0.6169772256728778\n",
      "Precision for Comedy: 0.5693069306930693\n",
      "Recall for Comedy: 0.539906103286385\n",
      "\n",
      "Accuruacy for Science Fiction: 0.8861283643892339\n",
      "Precision for Science Fiction: 0.5217391304347826\n",
      "Recall for Science Fiction: 0.21428571428571427\n",
      "\n",
      "Getting evaluations for multilabel problem\n",
      "Multilabel accuracy: 0.36404416839199455\n",
      "Multilabel precision: 0.5747549019607844\n",
      "Multilabel recall: 0.43840579710144933\n",
      "Percent of correctly decided label decisions: 72.00828157349896\n"
     ]
    }
   ],
   "source": [
    "get_all_metrics(y_test, predictions)"
   ]
  },
  {
   "cell_type": "markdown",
   "metadata": {},
   "source": [
    "CNN but with multiple filter sizes so we don't just filter on group of words at a time"
   ]
  },
  {
   "cell_type": "code",
   "execution_count": 27,
   "metadata": {
    "scrolled": true
   },
   "outputs": [
    {
     "name": "stdout",
     "output_type": "stream",
     "text": [
      "Train on 1738 samples, validate on 194 samples\n",
      "Epoch 1/1000\n",
      " - 4s - loss: 2.8438 - raw_multi_label_accuracy: 0.0657 - val_loss: 2.2403 - val_raw_multi_label_accuracy: 0.0000e+00\n",
      "Epoch 2/1000\n",
      " - 3s - loss: 1.8801 - raw_multi_label_accuracy: 0.0341 - val_loss: 1.5013 - val_raw_multi_label_accuracy: 0.0000e+00\n",
      "Epoch 3/1000\n",
      " - 3s - loss: 1.2861 - raw_multi_label_accuracy: 0.0279 - val_loss: 1.0670 - val_raw_multi_label_accuracy: 0.0000e+00\n",
      "Epoch 4/1000\n",
      " - 3s - loss: 0.9513 - raw_multi_label_accuracy: 0.0223 - val_loss: 0.8285 - val_raw_multi_label_accuracy: 0.0000e+00\n",
      "Epoch 5/1000\n",
      " - 3s - loss: 0.7723 - raw_multi_label_accuracy: 0.0202 - val_loss: 0.7064 - val_raw_multi_label_accuracy: 0.0000e+00\n",
      "Epoch 6/1000\n",
      " - 3s - loss: 0.6776 - raw_multi_label_accuracy: 0.0223 - val_loss: 0.6444 - val_raw_multi_label_accuracy: 0.0000e+00\n",
      "Epoch 7/1000\n",
      " - 3s - loss: 0.6292 - raw_multi_label_accuracy: 0.0148 - val_loss: 0.6151 - val_raw_multi_label_accuracy: 0.0000e+00\n",
      "Epoch 8/1000\n",
      " - 3s - loss: 0.6040 - raw_multi_label_accuracy: 0.0327 - val_loss: 0.6003 - val_raw_multi_label_accuracy: 0.0000e+00\n",
      "Epoch 9/1000\n",
      " - 3s - loss: 0.5794 - raw_multi_label_accuracy: 0.0667 - val_loss: 0.5976 - val_raw_multi_label_accuracy: 0.0000e+00\n",
      "Epoch 10/1000\n",
      " - 3s - loss: 0.5227 - raw_multi_label_accuracy: 0.3082 - val_loss: 0.5913 - val_raw_multi_label_accuracy: 0.1204\n",
      "Epoch 11/1000\n",
      " - 3s - loss: 0.4489 - raw_multi_label_accuracy: 0.5052 - val_loss: 0.5851 - val_raw_multi_label_accuracy: 0.1262\n",
      "Epoch 12/1000\n",
      " - 3s - loss: 0.4101 - raw_multi_label_accuracy: 0.5333 - val_loss: 0.5784 - val_raw_multi_label_accuracy: 0.1951\n",
      "Epoch 13/1000\n",
      " - 3s - loss: 0.3725 - raw_multi_label_accuracy: 0.5732 - val_loss: 0.5799 - val_raw_multi_label_accuracy: 0.2287\n",
      "Epoch 14/1000\n",
      " - 3s - loss: 0.3272 - raw_multi_label_accuracy: 0.6676 - val_loss: 0.5894 - val_raw_multi_label_accuracy: 0.2515\n",
      "Epoch 15/1000\n",
      " - 4s - loss: 0.2761 - raw_multi_label_accuracy: 0.7608 - val_loss: 0.6311 - val_raw_multi_label_accuracy: 0.2514\n",
      "Epoch 16/1000\n",
      " - 3s - loss: 0.2384 - raw_multi_label_accuracy: 0.8093 - val_loss: 0.6235 - val_raw_multi_label_accuracy: 0.2372\n",
      "Epoch 17/1000\n",
      " - 3s - loss: 0.2118 - raw_multi_label_accuracy: 0.8349 - val_loss: 0.6453 - val_raw_multi_label_accuracy: 0.2585\n",
      "Epoch 18/1000\n",
      " - 3s - loss: 0.1921 - raw_multi_label_accuracy: 0.8522 - val_loss: 0.6422 - val_raw_multi_label_accuracy: 0.2809\n",
      "Epoch 19/1000\n",
      " - 3s - loss: 0.1744 - raw_multi_label_accuracy: 0.8654 - val_loss: 0.6595 - val_raw_multi_label_accuracy: 0.2771\n",
      "Epoch 20/1000\n",
      " - 3s - loss: 0.1639 - raw_multi_label_accuracy: 0.8682 - val_loss: 0.6730 - val_raw_multi_label_accuracy: 0.2767\n",
      "Epoch 21/1000\n",
      " - 3s - loss: 0.1559 - raw_multi_label_accuracy: 0.8781 - val_loss: 0.6977 - val_raw_multi_label_accuracy: 0.2665\n",
      "Epoch 22/1000\n",
      " - 3s - loss: 0.1463 - raw_multi_label_accuracy: 0.8829 - val_loss: 0.6681 - val_raw_multi_label_accuracy: 0.2613\n",
      "Epoch 23/1000\n",
      " - 3s - loss: 0.1377 - raw_multi_label_accuracy: 0.8929 - val_loss: 0.6877 - val_raw_multi_label_accuracy: 0.2845\n",
      "Epoch 24/1000\n",
      " - 3s - loss: 0.1304 - raw_multi_label_accuracy: 0.9035 - val_loss: 0.6767 - val_raw_multi_label_accuracy: 0.2696\n",
      "Epoch 25/1000\n",
      " - 3s - loss: 0.1229 - raw_multi_label_accuracy: 0.9079 - val_loss: 0.6911 - val_raw_multi_label_accuracy: 0.2580\n",
      "Epoch 26/1000\n",
      " - 3s - loss: 0.1200 - raw_multi_label_accuracy: 0.9108 - val_loss: 0.7191 - val_raw_multi_label_accuracy: 0.2542\n",
      "Epoch 27/1000\n",
      " - 3s - loss: 0.1160 - raw_multi_label_accuracy: 0.9123 - val_loss: 0.7094 - val_raw_multi_label_accuracy: 0.2971\n",
      "Epoch 28/1000\n",
      " - 3s - loss: 0.1120 - raw_multi_label_accuracy: 0.9209 - val_loss: 0.7041 - val_raw_multi_label_accuracy: 0.3053\n",
      "Epoch 29/1000\n",
      " - 3s - loss: 0.1092 - raw_multi_label_accuracy: 0.9213 - val_loss: 0.7038 - val_raw_multi_label_accuracy: 0.2909\n",
      "Epoch 30/1000\n",
      " - 3s - loss: 0.1040 - raw_multi_label_accuracy: 0.9219 - val_loss: 0.7130 - val_raw_multi_label_accuracy: 0.3005\n",
      "Epoch 31/1000\n",
      " - 3s - loss: 0.1000 - raw_multi_label_accuracy: 0.9271 - val_loss: 0.7262 - val_raw_multi_label_accuracy: 0.2808\n",
      "Epoch 32/1000\n",
      " - 3s - loss: 0.0997 - raw_multi_label_accuracy: 0.9282 - val_loss: 0.7084 - val_raw_multi_label_accuracy: 0.3107\n",
      "Epoch 33/1000\n",
      " - 3s - loss: 0.0975 - raw_multi_label_accuracy: 0.9243 - val_loss: 0.7566 - val_raw_multi_label_accuracy: 0.3126\n",
      "Epoch 34/1000\n",
      " - 3s - loss: 0.0930 - raw_multi_label_accuracy: 0.9270 - val_loss: 0.7366 - val_raw_multi_label_accuracy: 0.2668\n",
      "Epoch 35/1000\n",
      " - 3s - loss: 0.0903 - raw_multi_label_accuracy: 0.9376 - val_loss: 0.7498 - val_raw_multi_label_accuracy: 0.2835\n",
      "Epoch 36/1000\n",
      " - 3s - loss: 0.0904 - raw_multi_label_accuracy: 0.9326 - val_loss: 0.7738 - val_raw_multi_label_accuracy: 0.2928\n",
      "Epoch 37/1000\n",
      " - 3s - loss: 0.0906 - raw_multi_label_accuracy: 0.9290 - val_loss: 0.7499 - val_raw_multi_label_accuracy: 0.3003\n",
      "Epoch 38/1000\n",
      " - 3s - loss: 0.0859 - raw_multi_label_accuracy: 0.9319 - val_loss: 0.8018 - val_raw_multi_label_accuracy: 0.3089\n",
      "Time to train with cross validation for early stopping: 111.71574211120605 seconds\n"
     ]
    }
   ],
   "source": [
    "model_input = Input(shape=(max_seq_len,), dtype='int32')\n",
    "e = Embedding(num_words_kept, word_vec_len, weights=[embedding_matrix], input_length=max_seq_len, trainable=True)(model_input)\n",
    "two_word_filter = Conv1D(filters=100, kernel_size=2, padding='valid', activation='relu', strides=1)(e)\n",
    "two_word_filter = GlobalMaxPooling1D()(two_word_filter)\n",
    "three_word_filter = Conv1D(filters=100, kernel_size=3, padding='valid', activation='relu', strides=1)(e)\n",
    "three_word_filter = GlobalMaxPooling1D()(three_word_filter)\n",
    "four_word_filter = Conv1D(filters=100, kernel_size=4, padding='valid', activation='relu', strides=1)(e)\n",
    "four_word_filter = GlobalMaxPooling1D()(four_word_filter)\n",
    "merged = concatenate([two_word_filter, three_word_filter, four_word_filter], axis=1)\n",
    "\n",
    "merged = Dense(256, activation='relu', kernel_regularizer=l2(0.01))(merged)\n",
    "merged = Dropout(0.5)(merged)\n",
    "merged = Dense(len(genre_dict))(merged)\n",
    "output = Activation('sigmoid')(merged)\n",
    "model = Model(inputs=[model_input], outputs=[output])\n",
    "model.compile(loss='binary_crossentropy', optimizer='adam', metrics=[raw_multi_label_accuracy])\n",
    "start = time.time()\n",
    "model.fit(x_train_seq, y_train, validation_split = .1, callbacks = [DelayedEarlyStopping(monitor = 'val_raw_multi_label_accuracy', patience = 5, delay=25)], epochs=1000, batch_size=100, verbose=2)\n",
    "end = time.time()\n",
    "print('Time to train with cross validation for early stopping: ' + str(end-start) + ' seconds')"
   ]
  },
  {
   "cell_type": "code",
   "execution_count": 28,
   "metadata": {},
   "outputs": [],
   "source": [
    "predictions = nn_output_to_predictions(model.predict(x_test_seq))"
   ]
  },
  {
   "cell_type": "code",
   "execution_count": 29,
   "metadata": {},
   "outputs": [
    {
     "name": "stdout",
     "output_type": "stream",
     "text": [
      "Getting evaluation metrics for each label:\n",
      "Accuruacy for Action-Adventure: 0.639751552795031\n",
      "Precision for Action-Adventure: 0.5403726708074534\n",
      "Recall for Action-Adventure: 0.46524064171123\n",
      "\n",
      "Accuruacy for Romance: 0.7805383022774327\n",
      "Precision for Romance: 0.5\n",
      "Recall for Romance: 0.1509433962264151\n",
      "\n",
      "Accuruacy for Horror-Thriller: 0.6128364389233955\n",
      "Precision for Horror-Thriller: 0.5139664804469274\n",
      "Recall for Horror-Thriller: 0.4791666666666667\n",
      "\n",
      "Accuruacy for Comedy: 0.6252587991718427\n",
      "Precision for Comedy: 0.5851063829787234\n",
      "Recall for Comedy: 0.5164319248826291\n",
      "\n",
      "Accuruacy for Science Fiction: 0.8716356107660456\n",
      "Precision for Science Fiction: 0.125\n",
      "Recall for Science Fiction: 0.017857142857142856\n",
      "\n",
      "Getting evaluations for multilabel problem\n",
      "Multilabel accuracy: 0.3609385783298828\n",
      "Multilabel precision: 0.5493119266055045\n",
      "Multilabel recall: 0.4259834368530021\n",
      "Percent of correctly decided label decisions: 70.60041407867494\n"
     ]
    }
   ],
   "source": [
    "get_all_metrics(y_test, predictions)"
   ]
  },
  {
   "cell_type": "markdown",
   "metadata": {},
   "source": [
    "Regular Neural Network"
   ]
  },
  {
   "cell_type": "code",
   "execution_count": 30,
   "metadata": {},
   "outputs": [
    {
     "name": "stdout",
     "output_type": "stream",
     "text": [
      "Train on 1738 samples, validate on 194 samples\n",
      "Epoch 1/1000\n",
      " - 2s - loss: 0.6163 - raw_multi_label_accuracy: 0.0509 - val_loss: 0.5952 - val_raw_multi_label_accuracy: 0.0264\n",
      "Epoch 2/1000\n",
      " - 1s - loss: 0.5807 - raw_multi_label_accuracy: 0.0537 - val_loss: 0.5917 - val_raw_multi_label_accuracy: 0.0917\n",
      "Epoch 3/1000\n",
      " - 1s - loss: 0.5571 - raw_multi_label_accuracy: 0.1211 - val_loss: 0.5984 - val_raw_multi_label_accuracy: 0.1064\n",
      "Epoch 4/1000\n",
      " - 1s - loss: 0.5299 - raw_multi_label_accuracy: 0.2308 - val_loss: 0.6063 - val_raw_multi_label_accuracy: 0.1964\n",
      "Epoch 5/1000\n",
      " - 1s - loss: 0.4834 - raw_multi_label_accuracy: 0.3588 - val_loss: 0.6043 - val_raw_multi_label_accuracy: 0.2078\n",
      "Epoch 6/1000\n",
      " - 1s - loss: 0.3984 - raw_multi_label_accuracy: 0.5356 - val_loss: 0.6027 - val_raw_multi_label_accuracy: 0.2023\n",
      "Epoch 7/1000\n",
      " - 1s - loss: 0.2982 - raw_multi_label_accuracy: 0.6794 - val_loss: 0.6184 - val_raw_multi_label_accuracy: 0.1789\n",
      "Epoch 8/1000\n",
      " - 1s - loss: 0.2165 - raw_multi_label_accuracy: 0.7912 - val_loss: 0.6246 - val_raw_multi_label_accuracy: 0.1921\n",
      "Epoch 9/1000\n",
      " - 1s - loss: 0.1539 - raw_multi_label_accuracy: 0.8687 - val_loss: 0.6493 - val_raw_multi_label_accuracy: 0.2237\n",
      "Epoch 10/1000\n",
      " - 1s - loss: 0.1031 - raw_multi_label_accuracy: 0.9371 - val_loss: 0.6742 - val_raw_multi_label_accuracy: 0.2085\n",
      "Epoch 11/1000\n",
      " - 1s - loss: 0.0687 - raw_multi_label_accuracy: 0.9637 - val_loss: 0.6920 - val_raw_multi_label_accuracy: 0.2306\n",
      "Epoch 12/1000\n",
      " - 1s - loss: 0.0474 - raw_multi_label_accuracy: 0.9805 - val_loss: 0.7122 - val_raw_multi_label_accuracy: 0.2310\n",
      "Epoch 13/1000\n",
      " - 1s - loss: 0.0331 - raw_multi_label_accuracy: 0.9904 - val_loss: 0.7425 - val_raw_multi_label_accuracy: 0.2285\n",
      "Epoch 14/1000\n",
      " - 1s - loss: 0.0242 - raw_multi_label_accuracy: 0.9930 - val_loss: 0.7692 - val_raw_multi_label_accuracy: 0.2236\n",
      "Epoch 15/1000\n",
      " - 1s - loss: 0.0185 - raw_multi_label_accuracy: 0.9966 - val_loss: 0.7938 - val_raw_multi_label_accuracy: 0.2230\n",
      "Epoch 16/1000\n",
      " - 1s - loss: 0.0144 - raw_multi_label_accuracy: 0.9978 - val_loss: 0.8275 - val_raw_multi_label_accuracy: 0.2146\n",
      "Epoch 17/1000\n",
      " - 1s - loss: 0.0117 - raw_multi_label_accuracy: 0.9985 - val_loss: 0.8223 - val_raw_multi_label_accuracy: 0.2466\n",
      "Epoch 18/1000\n",
      " - 1s - loss: 0.0094 - raw_multi_label_accuracy: 0.9989 - val_loss: 0.8606 - val_raw_multi_label_accuracy: 0.2135\n",
      "Epoch 19/1000\n",
      " - 1s - loss: 0.0079 - raw_multi_label_accuracy: 0.9989 - val_loss: 0.8533 - val_raw_multi_label_accuracy: 0.2521\n",
      "Epoch 20/1000\n",
      " - 1s - loss: 0.0068 - raw_multi_label_accuracy: 0.9989 - val_loss: 0.8729 - val_raw_multi_label_accuracy: 0.2298\n",
      "Epoch 21/1000\n",
      " - 1s - loss: 0.0058 - raw_multi_label_accuracy: 0.9993 - val_loss: 0.8747 - val_raw_multi_label_accuracy: 0.2354\n",
      "Epoch 22/1000\n",
      " - 1s - loss: 0.0052 - raw_multi_label_accuracy: 0.9993 - val_loss: 0.9030 - val_raw_multi_label_accuracy: 0.2493\n",
      "Epoch 23/1000\n",
      " - 1s - loss: 0.0046 - raw_multi_label_accuracy: 0.9992 - val_loss: 0.9171 - val_raw_multi_label_accuracy: 0.2313\n",
      "Epoch 24/1000\n",
      " - 1s - loss: 0.0042 - raw_multi_label_accuracy: 0.9993 - val_loss: 0.9158 - val_raw_multi_label_accuracy: 0.2301\n",
      "Epoch 25/1000\n",
      " - 1s - loss: 0.0037 - raw_multi_label_accuracy: 0.9992 - val_loss: 0.9163 - val_raw_multi_label_accuracy: 0.2478\n",
      "Epoch 26/1000\n",
      " - 1s - loss: 0.0033 - raw_multi_label_accuracy: 0.9992 - val_loss: 0.9442 - val_raw_multi_label_accuracy: 0.2267\n",
      "Epoch 27/1000\n",
      " - 1s - loss: 0.0031 - raw_multi_label_accuracy: 0.9992 - val_loss: 0.9322 - val_raw_multi_label_accuracy: 0.2485\n",
      "Epoch 28/1000\n",
      " - 1s - loss: 0.0029 - raw_multi_label_accuracy: 0.9992 - val_loss: 0.9491 - val_raw_multi_label_accuracy: 0.2388\n",
      "Epoch 29/1000\n",
      " - 1s - loss: 0.0026 - raw_multi_label_accuracy: 0.9992 - val_loss: 0.9666 - val_raw_multi_label_accuracy: 0.2354\n",
      "Epoch 30/1000\n",
      " - 1s - loss: 0.0025 - raw_multi_label_accuracy: 0.9993 - val_loss: 0.9653 - val_raw_multi_label_accuracy: 0.2250\n",
      "Epoch 31/1000\n",
      " - 1s - loss: 0.0024 - raw_multi_label_accuracy: 0.9993 - val_loss: 0.9663 - val_raw_multi_label_accuracy: 0.2408\n",
      "Epoch 32/1000\n",
      " - 1s - loss: 0.0022 - raw_multi_label_accuracy: 0.9992 - val_loss: 0.9797 - val_raw_multi_label_accuracy: 0.2302\n",
      "Time to train with cross validation for early stopping: 43.7388129234314 seconds\n"
     ]
    }
   ],
   "source": [
    "normal_nn = Sequential()\n",
    "e = Embedding(num_words_kept, word_vec_len, weights=[embedding_matrix], input_length=max_seq_len, trainable=True)\n",
    "normal_nn.add(e)\n",
    "normal_nn.add(Flatten())\n",
    "normal_nn.add(Dense(256, activation='relu'))\n",
    "normal_nn.add(Dense(len(genre_dict), activation='sigmoid'))\n",
    "normal_nn.compile(loss='binary_crossentropy', optimizer='adam', metrics=[raw_multi_label_accuracy])\n",
    "start = time.time()\n",
    "normal_nn.fit(x_train_seq, y_train, validation_split = .1, callbacks = [DelayedEarlyStopping(monitor = 'val_raw_multi_label_accuracy', patience = 5, delay=25)], epochs=1000, batch_size=100, verbose=2)\n",
    "end = time.time()\n",
    "print('Time to train with cross validation for early stopping: ' + str(end-start) + ' seconds')"
   ]
  },
  {
   "cell_type": "code",
   "execution_count": 31,
   "metadata": {},
   "outputs": [],
   "source": [
    "predictions = nn_output_to_predictions(normal_nn.predict(x_test_seq))"
   ]
  },
  {
   "cell_type": "code",
   "execution_count": 32,
   "metadata": {},
   "outputs": [
    {
     "name": "stdout",
     "output_type": "stream",
     "text": [
      "Getting evaluation metrics for each label:\n",
      "Accuruacy for Action-Adventure: 0.639751552795031\n",
      "Precision for Action-Adventure: 0.5619047619047619\n",
      "Recall for Action-Adventure: 0.3155080213903743\n",
      "\n",
      "Accuruacy for Romance: 0.772256728778468\n",
      "Precision for Romance: 0.4411764705882353\n",
      "Recall for Romance: 0.14150943396226415\n",
      "\n",
      "Accuruacy for Horror-Thriller: 0.6128364389233955\n",
      "Precision for Horror-Thriller: 0.5316455696202531\n",
      "Recall for Horror-Thriller: 0.21875\n",
      "\n",
      "Accuruacy for Comedy: 0.5734989648033126\n",
      "Precision for Comedy: 0.5251798561151079\n",
      "Recall for Comedy: 0.3427230046948357\n",
      "\n",
      "Accuruacy for Science Fiction: 0.8944099378881988\n",
      "Precision for Science Fiction: 0.7272727272727273\n",
      "Recall for Science Fiction: 0.14285714285714285\n",
      "\n",
      "Getting evaluations for multilabel problem\n",
      "Multilabel accuracy: 0.2454106280193236\n",
      "Multilabel precision: 0.5300546448087431\n",
      "Multilabel recall: 0.2708764665286404\n",
      "Percent of correctly decided label decisions: 69.85507246376812\n"
     ]
    }
   ],
   "source": [
    "get_all_metrics(y_test, predictions)"
   ]
  },
  {
   "cell_type": "markdown",
   "metadata": {},
   "source": [
    "LSTM"
   ]
  },
  {
   "cell_type": "code",
   "execution_count": 33,
   "metadata": {},
   "outputs": [
    {
     "name": "stdout",
     "output_type": "stream",
     "text": [
      "Train on 1738 samples, validate on 194 samples\n",
      "Epoch 1/1000\n",
      " - 9s - loss: 0.6397 - raw_multi_label_accuracy: 0.0339 - val_loss: 0.5911 - val_raw_multi_label_accuracy: 0.0000e+00\n",
      "Epoch 2/1000\n",
      " - 7s - loss: 0.5939 - raw_multi_label_accuracy: 0.0000e+00 - val_loss: 0.5826 - val_raw_multi_label_accuracy: 0.0000e+00\n",
      "Epoch 3/1000\n",
      " - 7s - loss: 0.5895 - raw_multi_label_accuracy: 0.0000e+00 - val_loss: 0.5819 - val_raw_multi_label_accuracy: 0.0000e+00\n",
      "Epoch 4/1000\n",
      " - 7s - loss: 0.5873 - raw_multi_label_accuracy: 0.0000e+00 - val_loss: 0.5827 - val_raw_multi_label_accuracy: 0.0000e+00\n",
      "Epoch 5/1000\n",
      " - 7s - loss: 0.5857 - raw_multi_label_accuracy: 0.0000e+00 - val_loss: 0.5822 - val_raw_multi_label_accuracy: 0.0000e+00\n",
      "Epoch 6/1000\n",
      " - 7s - loss: 0.5785 - raw_multi_label_accuracy: 3.9043e-04 - val_loss: 0.5748 - val_raw_multi_label_accuracy: 0.0103\n",
      "Epoch 7/1000\n",
      " - 7s - loss: 0.5538 - raw_multi_label_accuracy: 0.1307 - val_loss: 0.5478 - val_raw_multi_label_accuracy: 0.1150\n",
      "Epoch 8/1000\n",
      " - 7s - loss: 0.4855 - raw_multi_label_accuracy: 0.3701 - val_loss: 0.4993 - val_raw_multi_label_accuracy: 0.3118\n",
      "Epoch 9/1000\n",
      " - 7s - loss: 0.4277 - raw_multi_label_accuracy: 0.4755 - val_loss: 0.4987 - val_raw_multi_label_accuracy: 0.3176\n",
      "Epoch 10/1000\n",
      " - 7s - loss: 0.3871 - raw_multi_label_accuracy: 0.5281 - val_loss: 0.5133 - val_raw_multi_label_accuracy: 0.3670\n",
      "Epoch 11/1000\n",
      " - 7s - loss: 0.3509 - raw_multi_label_accuracy: 0.5817 - val_loss: 0.5093 - val_raw_multi_label_accuracy: 0.3755\n",
      "Epoch 12/1000\n",
      " - 7s - loss: 0.3050 - raw_multi_label_accuracy: 0.6445 - val_loss: 0.5491 - val_raw_multi_label_accuracy: 0.3818\n",
      "Epoch 13/1000\n",
      " - 7s - loss: 0.2670 - raw_multi_label_accuracy: 0.6829 - val_loss: 0.5979 - val_raw_multi_label_accuracy: 0.3756\n",
      "Epoch 14/1000\n",
      " - 7s - loss: 0.2241 - raw_multi_label_accuracy: 0.7377 - val_loss: 0.6334 - val_raw_multi_label_accuracy: 0.3642\n",
      "Epoch 15/1000\n",
      " - 7s - loss: 0.1877 - raw_multi_label_accuracy: 0.7815 - val_loss: 0.6965 - val_raw_multi_label_accuracy: 0.3890\n",
      "Epoch 16/1000\n",
      " - 7s - loss: 0.1485 - raw_multi_label_accuracy: 0.8321 - val_loss: 0.7461 - val_raw_multi_label_accuracy: 0.3971\n",
      "Epoch 17/1000\n",
      " - 7s - loss: 0.1302 - raw_multi_label_accuracy: 0.8401 - val_loss: 0.7145 - val_raw_multi_label_accuracy: 0.3995\n",
      "Epoch 18/1000\n",
      " - 7s - loss: 0.1126 - raw_multi_label_accuracy: 0.8611 - val_loss: 0.7531 - val_raw_multi_label_accuracy: 0.3984\n",
      "Epoch 19/1000\n",
      " - 7s - loss: 0.0977 - raw_multi_label_accuracy: 0.8861 - val_loss: 0.7877 - val_raw_multi_label_accuracy: 0.4074\n",
      "Epoch 20/1000\n",
      " - 7s - loss: 0.0828 - raw_multi_label_accuracy: 0.8986 - val_loss: 0.7779 - val_raw_multi_label_accuracy: 0.3961\n",
      "Epoch 21/1000\n",
      " - 7s - loss: 0.0694 - raw_multi_label_accuracy: 0.9153 - val_loss: 0.9299 - val_raw_multi_label_accuracy: 0.3937\n",
      "Epoch 22/1000\n",
      " - 7s - loss: 0.0661 - raw_multi_label_accuracy: 0.9248 - val_loss: 1.0670 - val_raw_multi_label_accuracy: 0.3798\n",
      "Epoch 23/1000\n",
      " - 7s - loss: 0.0602 - raw_multi_label_accuracy: 0.9292 - val_loss: 0.9052 - val_raw_multi_label_accuracy: 0.4060\n",
      "Epoch 24/1000\n",
      " - 7s - loss: 0.0596 - raw_multi_label_accuracy: 0.9227 - val_loss: 0.8920 - val_raw_multi_label_accuracy: 0.4104\n",
      "Epoch 25/1000\n",
      " - 7s - loss: 0.0515 - raw_multi_label_accuracy: 0.9358 - val_loss: 1.0104 - val_raw_multi_label_accuracy: 0.4066\n",
      "Epoch 26/1000\n",
      " - 7s - loss: 0.0476 - raw_multi_label_accuracy: 0.9424 - val_loss: 1.0235 - val_raw_multi_label_accuracy: 0.4067\n",
      "Epoch 27/1000\n",
      " - 7s - loss: 0.0427 - raw_multi_label_accuracy: 0.9517 - val_loss: 1.0363 - val_raw_multi_label_accuracy: 0.3951\n",
      "Epoch 28/1000\n",
      " - 7s - loss: 0.0360 - raw_multi_label_accuracy: 0.9565 - val_loss: 1.0664 - val_raw_multi_label_accuracy: 0.4033\n",
      "Epoch 29/1000\n",
      " - 7s - loss: 0.0404 - raw_multi_label_accuracy: 0.9487 - val_loss: 1.1104 - val_raw_multi_label_accuracy: 0.4050\n",
      "Epoch 30/1000\n",
      " - 7s - loss: 0.0338 - raw_multi_label_accuracy: 0.9593 - val_loss: 1.1410 - val_raw_multi_label_accuracy: 0.4090\n",
      "Epoch 31/1000\n",
      " - 7s - loss: 0.0302 - raw_multi_label_accuracy: 0.9626 - val_loss: 1.2008 - val_raw_multi_label_accuracy: 0.3948\n",
      "Epoch 32/1000\n",
      " - 7s - loss: 0.0295 - raw_multi_label_accuracy: 0.9618 - val_loss: 1.1389 - val_raw_multi_label_accuracy: 0.3989\n",
      "Epoch 33/1000\n",
      " - 7s - loss: 0.0292 - raw_multi_label_accuracy: 0.9666 - val_loss: 1.1994 - val_raw_multi_label_accuracy: 0.4084\n",
      "Epoch 34/1000\n",
      " - 7s - loss: 0.0269 - raw_multi_label_accuracy: 0.9708 - val_loss: 1.2233 - val_raw_multi_label_accuracy: 0.4062\n",
      "Epoch 35/1000\n",
      " - 7s - loss: 0.0265 - raw_multi_label_accuracy: 0.9704 - val_loss: 1.1907 - val_raw_multi_label_accuracy: 0.4072\n",
      "Time to train with cross validation for early stopping: 243.8532521724701 seconds\n"
     ]
    }
   ],
   "source": [
    "lstm_model = Sequential()\n",
    "e = Embedding(num_words_kept, word_vec_len, weights=[embedding_matrix], input_length=max_seq_len, trainable=True)\n",
    "lstm_model.add(e)\n",
    "lstm_model.add(LSTM(100, dropout=0.25, recurrent_dropout=0.25))\n",
    "lstm_model.add(Dense(256, activation='relu'))\n",
    "lstm_model.add(Dense(len(genre_dict), activation='sigmoid'))\n",
    "lstm_model.compile(loss='binary_crossentropy', optimizer='adam', metrics=[raw_multi_label_accuracy])\n",
    "start = time.time()\n",
    "lstm_model.fit(x_train_seq, y_train, validation_split = .1, callbacks = [DelayedEarlyStopping(monitor = 'val_raw_multi_label_accuracy', patience = 5, delay=25)], epochs=1000, batch_size=100, verbose=2)\n",
    "end = time.time()\n",
    "print('Time to train with cross validation for early stopping: ' + str(end-start) + ' seconds')"
   ]
  },
  {
   "cell_type": "code",
   "execution_count": 34,
   "metadata": {},
   "outputs": [],
   "source": [
    "predictions = nn_output_to_predictions(lstm_model.predict(x_test_seq))"
   ]
  },
  {
   "cell_type": "code",
   "execution_count": 35,
   "metadata": {},
   "outputs": [
    {
     "name": "stdout",
     "output_type": "stream",
     "text": [
      "Getting evaluation metrics for each label:\n",
      "Accuruacy for Action-Adventure: 0.6915113871635611\n",
      "Precision for Action-Adventure: 0.5818965517241379\n",
      "Recall for Action-Adventure: 0.7219251336898396\n",
      "\n",
      "Accuruacy for Romance: 0.7432712215320911\n",
      "Precision for Romance: 0.40625\n",
      "Recall for Romance: 0.36792452830188677\n",
      "\n",
      "Accuruacy for Horror-Thriller: 0.6273291925465838\n",
      "Precision for Horror-Thriller: 0.527027027027027\n",
      "Recall for Horror-Thriller: 0.609375\n",
      "\n",
      "Accuruacy for Comedy: 0.6749482401656315\n",
      "Precision for Comedy: 0.609375\n",
      "Recall for Comedy: 0.7323943661971831\n",
      "\n",
      "Accuruacy for Science Fiction: 0.8737060041407867\n",
      "Precision for Science Fiction: 0.391304347826087\n",
      "Recall for Science Fiction: 0.16071428571428573\n",
      "\n",
      "Getting evaluations for multilabel problem\n",
      "Multilabel accuracy: 0.48126293995859243\n",
      "Multilabel precision: 0.5838509316770186\n",
      "Multilabel recall: 0.6399240855762595\n",
      "Percent of correctly decided label decisions: 72.21532091097309\n"
     ]
    }
   ],
   "source": [
    "get_all_metrics(y_test, predictions)"
   ]
  },
  {
   "cell_type": "markdown",
   "metadata": {},
   "source": [
    "simple rnn"
   ]
  },
  {
   "cell_type": "code",
   "execution_count": 36,
   "metadata": {},
   "outputs": [
    {
     "name": "stdout",
     "output_type": "stream",
     "text": [
      "Train on 1738 samples, validate on 194 samples\n",
      "Epoch 1/1000\n",
      " - 3s - loss: 0.6609 - raw_multi_label_accuracy: 0.0233 - val_loss: 0.6063 - val_raw_multi_label_accuracy: 0.0000e+00\n",
      "Epoch 2/1000\n",
      " - 2s - loss: 0.5980 - raw_multi_label_accuracy: 0.0000e+00 - val_loss: 0.5868 - val_raw_multi_label_accuracy: 0.0000e+00\n",
      "Epoch 3/1000\n",
      " - 2s - loss: 0.5815 - raw_multi_label_accuracy: 0.0000e+00 - val_loss: 0.5808 - val_raw_multi_label_accuracy: 0.0000e+00\n",
      "Epoch 4/1000\n",
      " - 2s - loss: 0.5636 - raw_multi_label_accuracy: 0.0000e+00 - val_loss: 0.5806 - val_raw_multi_label_accuracy: 0.0000e+00\n",
      "Epoch 5/1000\n",
      " - 2s - loss: 0.5392 - raw_multi_label_accuracy: 0.0068 - val_loss: 0.5777 - val_raw_multi_label_accuracy: 0.0000e+00\n",
      "Epoch 6/1000\n",
      " - 2s - loss: 0.4954 - raw_multi_label_accuracy: 0.1017 - val_loss: 0.5780 - val_raw_multi_label_accuracy: 0.0929\n",
      "Epoch 7/1000\n",
      " - 2s - loss: 0.4200 - raw_multi_label_accuracy: 0.4414 - val_loss: 0.5949 - val_raw_multi_label_accuracy: 0.1559\n",
      "Epoch 8/1000\n",
      " - 2s - loss: 0.2889 - raw_multi_label_accuracy: 0.7081 - val_loss: 0.6107 - val_raw_multi_label_accuracy: 0.2182\n",
      "Epoch 9/1000\n",
      " - 2s - loss: 0.1648 - raw_multi_label_accuracy: 0.8492 - val_loss: 0.7334 - val_raw_multi_label_accuracy: 0.2012\n",
      "Epoch 10/1000\n",
      " - 2s - loss: 0.0912 - raw_multi_label_accuracy: 0.9143 - val_loss: 0.7439 - val_raw_multi_label_accuracy: 0.2242\n",
      "Epoch 11/1000\n",
      " - 2s - loss: 0.0518 - raw_multi_label_accuracy: 0.9585 - val_loss: 0.8289 - val_raw_multi_label_accuracy: 0.2557\n",
      "Epoch 12/1000\n",
      " - 2s - loss: 0.0317 - raw_multi_label_accuracy: 0.9743 - val_loss: 0.8815 - val_raw_multi_label_accuracy: 0.2649\n",
      "Epoch 13/1000\n",
      " - 2s - loss: 0.0222 - raw_multi_label_accuracy: 0.9825 - val_loss: 1.0156 - val_raw_multi_label_accuracy: 0.2267\n",
      "Epoch 14/1000\n",
      " - 2s - loss: 0.0161 - raw_multi_label_accuracy: 0.9862 - val_loss: 1.0561 - val_raw_multi_label_accuracy: 0.2354\n",
      "Epoch 15/1000\n",
      " - 2s - loss: 0.0100 - raw_multi_label_accuracy: 0.9922 - val_loss: 1.1045 - val_raw_multi_label_accuracy: 0.2476\n",
      "Epoch 16/1000\n",
      " - 2s - loss: 0.0058 - raw_multi_label_accuracy: 0.9960 - val_loss: 1.1926 - val_raw_multi_label_accuracy: 0.2589\n",
      "Epoch 17/1000\n",
      " - 2s - loss: 0.0084 - raw_multi_label_accuracy: 0.9927 - val_loss: 1.0634 - val_raw_multi_label_accuracy: 0.2820\n",
      "Epoch 18/1000\n",
      " - 2s - loss: 0.0176 - raw_multi_label_accuracy: 0.9912 - val_loss: 1.1505 - val_raw_multi_label_accuracy: 0.2219\n",
      "Epoch 19/1000\n",
      " - 2s - loss: 0.0071 - raw_multi_label_accuracy: 0.9959 - val_loss: 1.1897 - val_raw_multi_label_accuracy: 0.2599\n",
      "Epoch 20/1000\n",
      " - 2s - loss: 0.0038 - raw_multi_label_accuracy: 0.9974 - val_loss: 1.2203 - val_raw_multi_label_accuracy: 0.2599\n",
      "Epoch 21/1000\n",
      " - 2s - loss: 0.0025 - raw_multi_label_accuracy: 0.9989 - val_loss: 1.3211 - val_raw_multi_label_accuracy: 0.2458\n",
      "Epoch 22/1000\n",
      " - 2s - loss: 0.0021 - raw_multi_label_accuracy: 0.9989 - val_loss: 1.3463 - val_raw_multi_label_accuracy: 0.2440\n",
      "Epoch 23/1000\n",
      " - 2s - loss: 0.0018 - raw_multi_label_accuracy: 0.9989 - val_loss: 1.4168 - val_raw_multi_label_accuracy: 0.2567\n",
      "Epoch 24/1000\n",
      " - 2s - loss: 0.0016 - raw_multi_label_accuracy: 0.9989 - val_loss: 1.3626 - val_raw_multi_label_accuracy: 0.2512\n",
      "Epoch 25/1000\n",
      " - 2s - loss: 0.0026 - raw_multi_label_accuracy: 0.9978 - val_loss: 1.3238 - val_raw_multi_label_accuracy: 0.2325\n",
      "Epoch 26/1000\n",
      " - 2s - loss: 0.0015 - raw_multi_label_accuracy: 0.9993 - val_loss: 1.3689 - val_raw_multi_label_accuracy: 0.2465\n",
      "Epoch 27/1000\n",
      " - 2s - loss: 0.0014 - raw_multi_label_accuracy: 0.9989 - val_loss: 1.4058 - val_raw_multi_label_accuracy: 0.2482\n",
      "Epoch 28/1000\n",
      " - 2s - loss: 0.0015 - raw_multi_label_accuracy: 0.9989 - val_loss: 1.3353 - val_raw_multi_label_accuracy: 0.2411\n",
      "Epoch 29/1000\n",
      " - 2s - loss: 0.0015 - raw_multi_label_accuracy: 0.9985 - val_loss: 1.4260 - val_raw_multi_label_accuracy: 0.2407\n",
      "Epoch 30/1000\n",
      " - 2s - loss: 0.0012 - raw_multi_label_accuracy: 0.9993 - val_loss: 1.4194 - val_raw_multi_label_accuracy: 0.2454\n",
      "Epoch 31/1000\n",
      " - 2s - loss: 0.0012 - raw_multi_label_accuracy: 0.9989 - val_loss: 1.4416 - val_raw_multi_label_accuracy: 0.2214\n",
      "Epoch 32/1000\n",
      " - 2s - loss: 0.0011 - raw_multi_label_accuracy: 0.9989 - val_loss: 1.4219 - val_raw_multi_label_accuracy: 0.2302\n",
      "Time to train with cross validation for early stopping: 52.73799705505371 seconds\n"
     ]
    }
   ],
   "source": [
    "rnn = Sequential()\n",
    "e = Embedding(num_words_kept, word_vec_len, weights=[embedding_matrix], input_length=max_seq_len, trainable=True)\n",
    "rnn.add(e)\n",
    "rnn.add(SimpleRNN(32, activation = 'relu'))\n",
    "rnn.add(Dense(256, activation='relu'))\n",
    "rnn.add(Dense(len(genre_dict), activation='sigmoid'))\n",
    "rnn.compile(loss='binary_crossentropy', optimizer='adam', metrics=[raw_multi_label_accuracy])\n",
    "start = time.time()\n",
    "rnn.fit(x_train_seq, y_train, validation_split = .1, callbacks = [DelayedEarlyStopping(monitor = 'val_raw_multi_label_accuracy', patience = 5, delay=25)], epochs=1000, batch_size=100, verbose=2)\n",
    "end = time.time()\n",
    "print('Time to train with cross validation for early stopping: ' + str(end-start) + ' seconds')"
   ]
  },
  {
   "cell_type": "code",
   "execution_count": 37,
   "metadata": {},
   "outputs": [],
   "source": [
    "predictions = nn_output_to_predictions(rnn.predict(x_test_seq))"
   ]
  },
  {
   "cell_type": "code",
   "execution_count": 38,
   "metadata": {},
   "outputs": [
    {
     "name": "stdout",
     "output_type": "stream",
     "text": [
      "Getting evaluation metrics for each label:\n",
      "Accuruacy for Action-Adventure: 0.5900621118012422\n",
      "Precision for Action-Adventure: 0.46258503401360546\n",
      "Recall for Action-Adventure: 0.36363636363636365\n",
      "\n",
      "Accuruacy for Romance: 0.6252587991718427\n",
      "Precision for Romance: 0.1951219512195122\n",
      "Recall for Romance: 0.22641509433962265\n",
      "\n",
      "Accuruacy for Horror-Thriller: 0.5445134575569358\n",
      "Precision for Horror-Thriller: 0.375\n",
      "Recall for Horror-Thriller: 0.21875\n",
      "\n",
      "Accuruacy for Comedy: 0.5196687370600414\n",
      "Precision for Comedy: 0.42748091603053434\n",
      "Recall for Comedy: 0.26291079812206575\n",
      "\n",
      "Accuruacy for Science Fiction: 0.9047619047619048\n",
      "Precision for Science Fiction: 1.0\n",
      "Recall for Science Fiction: 0.17857142857142858\n",
      "\n",
      "Getting evaluations for multilabel problem\n",
      "Multilabel accuracy: 0.22291235334713594\n",
      "Multilabel precision: 0.3794604003481288\n",
      "Multilabel recall: 0.2757073844030366\n",
      "Percent of correctly decided label decisions: 63.68530020703933\n"
     ]
    }
   ],
   "source": [
    "get_all_metrics(y_test, predictions)"
   ]
  },
  {
   "cell_type": "markdown",
   "metadata": {},
   "source": [
    "bidirectional-LSTM"
   ]
  },
  {
   "cell_type": "code",
   "execution_count": 39,
   "metadata": {},
   "outputs": [
    {
     "name": "stdout",
     "output_type": "stream",
     "text": [
      "Train on 1738 samples, validate on 194 samples\n",
      "Epoch 1/1000\n",
      " - 15s - loss: 0.6366 - raw_multi_label_accuracy: 0.0279 - val_loss: 0.5917 - val_raw_multi_label_accuracy: 0.0000e+00\n",
      "Epoch 2/1000\n",
      " - 11s - loss: 0.5953 - raw_multi_label_accuracy: 0.0000e+00 - val_loss: 0.5826 - val_raw_multi_label_accuracy: 0.0000e+00\n",
      "Epoch 3/1000\n",
      " - 11s - loss: 0.5888 - raw_multi_label_accuracy: 0.0000e+00 - val_loss: 0.5850 - val_raw_multi_label_accuracy: 0.0000e+00\n",
      "Epoch 4/1000\n",
      " - 11s - loss: 0.5874 - raw_multi_label_accuracy: 0.0000e+00 - val_loss: 0.5823 - val_raw_multi_label_accuracy: 0.0000e+00\n",
      "Epoch 5/1000\n",
      " - 11s - loss: 0.5850 - raw_multi_label_accuracy: 0.0000e+00 - val_loss: 0.5821 - val_raw_multi_label_accuracy: 0.0000e+00\n",
      "Epoch 6/1000\n",
      " - 11s - loss: 0.5798 - raw_multi_label_accuracy: 0.0000e+00 - val_loss: 0.5785 - val_raw_multi_label_accuracy: 0.0000e+00\n",
      "Epoch 7/1000\n",
      " - 12s - loss: 0.5694 - raw_multi_label_accuracy: 0.0511 - val_loss: 0.5813 - val_raw_multi_label_accuracy: 0.0203\n",
      "Epoch 8/1000\n",
      " - 11s - loss: 0.5361 - raw_multi_label_accuracy: 0.2120 - val_loss: 0.5416 - val_raw_multi_label_accuracy: 0.1924\n",
      "Epoch 9/1000\n",
      " - 11s - loss: 0.4568 - raw_multi_label_accuracy: 0.4054 - val_loss: 0.5017 - val_raw_multi_label_accuracy: 0.3024\n",
      "Epoch 10/1000\n",
      " - 14s - loss: 0.3921 - raw_multi_label_accuracy: 0.5161 - val_loss: 0.5086 - val_raw_multi_label_accuracy: 0.3261\n",
      "Epoch 11/1000\n",
      " - 12s - loss: 0.3467 - raw_multi_label_accuracy: 0.5800 - val_loss: 0.5109 - val_raw_multi_label_accuracy: 0.3548\n",
      "Epoch 12/1000\n",
      " - 13s - loss: 0.3085 - raw_multi_label_accuracy: 0.6195 - val_loss: 0.5598 - val_raw_multi_label_accuracy: 0.3298\n",
      "Epoch 13/1000\n",
      " - 819s - loss: 0.2722 - raw_multi_label_accuracy: 0.6684 - val_loss: 0.5621 - val_raw_multi_label_accuracy: 0.3744\n",
      "Epoch 14/1000\n",
      " - 13s - loss: 0.2443 - raw_multi_label_accuracy: 0.7033 - val_loss: 0.5933 - val_raw_multi_label_accuracy: 0.3579\n",
      "Epoch 15/1000\n",
      " - 13s - loss: 0.2165 - raw_multi_label_accuracy: 0.7501 - val_loss: 0.6423 - val_raw_multi_label_accuracy: 0.3643\n",
      "Epoch 16/1000\n",
      " - 18s - loss: 0.1870 - raw_multi_label_accuracy: 0.7850 - val_loss: 0.7063 - val_raw_multi_label_accuracy: 0.3519\n",
      "Epoch 17/1000\n",
      " - 15s - loss: 0.1696 - raw_multi_label_accuracy: 0.8090 - val_loss: 0.7334 - val_raw_multi_label_accuracy: 0.3684\n",
      "Epoch 18/1000\n",
      " - 12s - loss: 0.1483 - raw_multi_label_accuracy: 0.8337 - val_loss: 0.7444 - val_raw_multi_label_accuracy: 0.3750\n",
      "Epoch 19/1000\n",
      " - 12s - loss: 0.1276 - raw_multi_label_accuracy: 0.8597 - val_loss: 0.8030 - val_raw_multi_label_accuracy: 0.3765\n",
      "Epoch 20/1000\n",
      " - 11s - loss: 0.1026 - raw_multi_label_accuracy: 0.8875 - val_loss: 0.8915 - val_raw_multi_label_accuracy: 0.3900\n",
      "Epoch 21/1000\n",
      " - 11s - loss: 0.0910 - raw_multi_label_accuracy: 0.9041 - val_loss: 0.8497 - val_raw_multi_label_accuracy: 0.3912\n",
      "Epoch 22/1000\n",
      " - 11s - loss: 0.0787 - raw_multi_label_accuracy: 0.9157 - val_loss: 0.9247 - val_raw_multi_label_accuracy: 0.3879\n",
      "Epoch 23/1000\n",
      " - 11s - loss: 0.0676 - raw_multi_label_accuracy: 0.9322 - val_loss: 0.9540 - val_raw_multi_label_accuracy: 0.3885\n",
      "Epoch 24/1000\n",
      " - 11s - loss: 0.0640 - raw_multi_label_accuracy: 0.9352 - val_loss: 1.0136 - val_raw_multi_label_accuracy: 0.3968\n",
      "Epoch 25/1000\n",
      " - 11s - loss: 0.0547 - raw_multi_label_accuracy: 0.9422 - val_loss: 1.0543 - val_raw_multi_label_accuracy: 0.3984\n",
      "Epoch 26/1000\n",
      " - 11s - loss: 0.0500 - raw_multi_label_accuracy: 0.9497 - val_loss: 1.0295 - val_raw_multi_label_accuracy: 0.3972\n",
      "Epoch 27/1000\n",
      " - 11s - loss: 0.0454 - raw_multi_label_accuracy: 0.9511 - val_loss: 1.2013 - val_raw_multi_label_accuracy: 0.3699\n",
      "Epoch 28/1000\n",
      " - 11s - loss: 0.0422 - raw_multi_label_accuracy: 0.9578 - val_loss: 1.1320 - val_raw_multi_label_accuracy: 0.3882\n",
      "Epoch 29/1000\n",
      " - 11s - loss: 0.0358 - raw_multi_label_accuracy: 0.9611 - val_loss: 1.2378 - val_raw_multi_label_accuracy: 0.3951\n",
      "Epoch 30/1000\n",
      " - 11s - loss: 0.0303 - raw_multi_label_accuracy: 0.9709 - val_loss: 1.1870 - val_raw_multi_label_accuracy: 0.4004\n",
      "Epoch 31/1000\n",
      " - 11s - loss: 0.0311 - raw_multi_label_accuracy: 0.9675 - val_loss: 1.2397 - val_raw_multi_label_accuracy: 0.3933\n",
      "Epoch 32/1000\n",
      " - 11s - loss: 0.0280 - raw_multi_label_accuracy: 0.9694 - val_loss: 1.2061 - val_raw_multi_label_accuracy: 0.4073\n",
      "Epoch 33/1000\n",
      " - 11s - loss: 0.0243 - raw_multi_label_accuracy: 0.9761 - val_loss: 1.2940 - val_raw_multi_label_accuracy: 0.3971\n",
      "Epoch 34/1000\n",
      " - 11s - loss: 0.0257 - raw_multi_label_accuracy: 0.9723 - val_loss: 1.2855 - val_raw_multi_label_accuracy: 0.4113\n",
      "Epoch 35/1000\n",
      " - 11s - loss: 0.0242 - raw_multi_label_accuracy: 0.9760 - val_loss: 1.3052 - val_raw_multi_label_accuracy: 0.4053\n",
      "Epoch 36/1000\n",
      " - 11s - loss: 0.0237 - raw_multi_label_accuracy: 0.9787 - val_loss: 1.3061 - val_raw_multi_label_accuracy: 0.4130\n",
      "Epoch 37/1000\n",
      " - 11s - loss: 0.0203 - raw_multi_label_accuracy: 0.9791 - val_loss: 1.2882 - val_raw_multi_label_accuracy: 0.4212\n",
      "Epoch 38/1000\n",
      " - 11s - loss: 0.0204 - raw_multi_label_accuracy: 0.9783 - val_loss: 1.3962 - val_raw_multi_label_accuracy: 0.4013\n",
      "Epoch 39/1000\n",
      " - 11s - loss: 0.0161 - raw_multi_label_accuracy: 0.9838 - val_loss: 1.4712 - val_raw_multi_label_accuracy: 0.4032\n",
      "Epoch 40/1000\n",
      " - 12s - loss: 0.0174 - raw_multi_label_accuracy: 0.9817 - val_loss: 1.4315 - val_raw_multi_label_accuracy: 0.4088\n",
      "Epoch 41/1000\n",
      " - 11s - loss: 0.0151 - raw_multi_label_accuracy: 0.9847 - val_loss: 1.4342 - val_raw_multi_label_accuracy: 0.4055\n",
      "Epoch 42/1000\n",
      " - 11s - loss: 0.0154 - raw_multi_label_accuracy: 0.9828 - val_loss: 1.4550 - val_raw_multi_label_accuracy: 0.4174\n",
      "Time to train with cross validation for early stopping: 1298.0432851314545 seconds\n"
     ]
    }
   ],
   "source": [
    "bi_lstm = Sequential()\n",
    "e = Embedding(num_words_kept, word_vec_len, weights=[embedding_matrix], input_length=max_seq_len, trainable=True)\n",
    "bi_lstm.add(e)\n",
    "bi_lstm.add(Bidirectional(LSTM(100, dropout=0.25, recurrent_dropout=0.25)))\n",
    "bi_lstm.add(Dense(256, activation='relu'))\n",
    "bi_lstm.add(Dense(len(genre_dict), activation='sigmoid'))\n",
    "bi_lstm.compile(loss='binary_crossentropy', optimizer='adam', metrics=[raw_multi_label_accuracy])\n",
    "start = time.time()\n",
    "bi_lstm.fit(x_train_seq, y_train, validation_split = .1, callbacks = [DelayedEarlyStopping(monitor = 'val_raw_multi_label_accuracy', patience = 5, delay=25)], epochs=1000, batch_size=100, verbose=2)\n",
    "end = time.time()\n",
    "print('Time to train with cross validation for early stopping: ' + str(end-start) + ' seconds')"
   ]
  },
  {
   "cell_type": "code",
   "execution_count": 40,
   "metadata": {},
   "outputs": [],
   "source": [
    "predictions = nn_output_to_predictions(bi_lstm.predict(x_test_seq))"
   ]
  },
  {
   "cell_type": "code",
   "execution_count": 41,
   "metadata": {},
   "outputs": [
    {
     "name": "stdout",
     "output_type": "stream",
     "text": [
      "Getting evaluation metrics for each label:\n",
      "Accuruacy for Action-Adventure: 0.639751552795031\n",
      "Precision for Action-Adventure: 0.5232974910394266\n",
      "Recall for Action-Adventure: 0.7807486631016043\n",
      "\n",
      "Accuruacy for Romance: 0.7556935817805382\n",
      "Precision for Romance: 0.42105263157894735\n",
      "Recall for Romance: 0.3018867924528302\n",
      "\n",
      "Accuruacy for Horror-Thriller: 0.6708074534161491\n",
      "Precision for Horror-Thriller: 0.5647058823529412\n",
      "Recall for Horror-Thriller: 0.75\n",
      "\n",
      "Accuruacy for Comedy: 0.7101449275362319\n",
      "Precision for Comedy: 0.6377358490566037\n",
      "Recall for Comedy: 0.7934272300469484\n",
      "\n",
      "Accuruacy for Science Fiction: 0.8840579710144928\n",
      "Precision for Science Fiction: 0.5\n",
      "Recall for Science Fiction: 0.21428571428571427\n",
      "\n",
      "Getting evaluations for multilabel problem\n",
      "Multilabel accuracy: 0.49875776397515575\n",
      "Multilabel precision: 0.5883367839889578\n",
      "Multilabel recall: 0.6992753623188407\n",
      "Percent of correctly decided label decisions: 73.20910973084887\n"
     ]
    }
   ],
   "source": [
    "get_all_metrics(y_test, predictions)"
   ]
  }
 ],
 "metadata": {
  "kernelspec": {
   "display_name": "Python 3",
   "language": "python",
   "name": "python3"
  },
  "language_info": {
   "codemirror_mode": {
    "name": "ipython",
    "version": 3
   },
   "file_extension": ".py",
   "mimetype": "text/x-python",
   "name": "python",
   "nbconvert_exporter": "python",
   "pygments_lexer": "ipython3",
   "version": "3.7.0"
  }
 },
 "nbformat": 4,
 "nbformat_minor": 2
}
