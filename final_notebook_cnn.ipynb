{
 "cells": [
  {
   "cell_type": "code",
   "execution_count": 28,
   "metadata": {},
   "outputs": [],
   "source": [
    "import numpy as np\n",
    "import pandas as pd\n",
    "#for reading in data properly\n",
    "import ast\n",
    "import json\n",
    "\n",
    "import gensim\n",
    "from gensim.models import Doc2Vec\n",
    "from gensim.models import Word2Vec\n",
    "from gensim.models.doc2vec import TaggedDocument\n",
    "\n",
    "from sklearn.model_selection import train_test_split\n",
    "from sklearn import utils\n",
    "\n",
    "import re\n",
    "\n",
    "import nltk\n",
    "from nltk.corpus import stopwords\n",
    "from nltk.tokenize import word_tokenize\n",
    "\n",
    "stop_words = set(stopwords.words('english'))"
   ]
  },
  {
   "cell_type": "code",
   "execution_count": 29,
   "metadata": {},
   "outputs": [],
   "source": [
    "all_data = pd.read_csv('train.csv')\n",
    "all_data = all_data.dropna(subset=['overview', 'genres']) #drop cols without overview or genre (data we use or labels)\n",
    "genre_set = {'Comedy'}"
   ]
  },
  {
   "cell_type": "code",
   "execution_count": 30,
   "metadata": {},
   "outputs": [],
   "source": [
    "def text_to_list(x):\n",
    "    if pd.isna(x):\n",
    "        return ''\n",
    "    else:\n",
    "        return ast.literal_eval(x)\n",
    "\n",
    "def parse_json(x):\n",
    "    try:\n",
    "        return json.loads(x.replace(\"'\", '\"'))[0]['name']\n",
    "    except:\n",
    "        return ''\n",
    "    \n",
    "def parse_all_genres_json(x):\n",
    "    try:\n",
    "        json_genres = json.loads(x.replace(\"'\", '\"'))\n",
    "        numElems = len(json_genres)\n",
    "        for i in range(numElems):\n",
    "            genre_set.add(json_genres[i]['name'])\n",
    "    except:\n",
    "        return ''\n",
    "    \n",
    "def parse_genres_json(x):\n",
    "    try:\n",
    "        json_genres = json.loads(x.replace(\"'\", '\"'))\n",
    "        numElems = len(json_genres)\n",
    "        ret = [0]*len(genre_dict) #20 0s\n",
    "        for i in range(numElems):\n",
    "            ret[genre_dict[(json_genres[i]['name'])]] = 1\n",
    "        return ret\n",
    "    except:\n",
    "        return ''\n",
    "    \n",
    "\n",
    "def get_labels_as_strs(x):\n",
    "    try:\n",
    "        json_genres = json.loads(x.replace(\"'\", '\"'))\n",
    "        numElems = len(json_genres)\n",
    "        ret = []#20 0s\n",
    "        for i in range(numElems):\n",
    "            ret.append(json_genres[i]['name'])\n",
    "        return ret\n",
    "    except:\n",
    "        return ''"
   ]
  },
  {
   "cell_type": "code",
   "execution_count": 31,
   "metadata": {},
   "outputs": [],
   "source": [
    " def getAllGenres():\n",
    "    full_data = pd.read_csv('train.csv')\n",
    "\n",
    "    y = full_data['genres']\n",
    "    y.apply(parse_all_genres_json)"
   ]
  },
  {
   "cell_type": "code",
   "execution_count": 32,
   "metadata": {},
   "outputs": [],
   "source": [
    "getAllGenres()#populate the genre set"
   ]
  },
  {
   "cell_type": "code",
   "execution_count": 33,
   "metadata": {},
   "outputs": [],
   "source": [
    "#get set to dictionary for indexing of target vectors\n",
    "genre_dict = {}\n",
    "index = 0\n",
    "for genre in genre_set:\n",
    "    genre_dict[genre] = index\n",
    "    index += 1"
   ]
  },
  {
   "cell_type": "code",
   "execution_count": 34,
   "metadata": {},
   "outputs": [],
   "source": [
    "def getGenresVects():\n",
    "    y = all_data['genres']\n",
    "    ret = y.apply(parse_genres_json)\n",
    "    all_data['genres_vect'] = ret\n",
    "    label_strs = y.apply(get_labels_as_strs)\n",
    "    all_data['genres_labels'] = label_strs\n",
    "    return ret"
   ]
  },
  {
   "cell_type": "code",
   "execution_count": 35,
   "metadata": {},
   "outputs": [],
   "source": [
    "labels_vects = getGenresVects() #get label vectors for genres indexed by indexes in genre_dict"
   ]
  },
  {
   "cell_type": "code",
   "execution_count": 36,
   "metadata": {},
   "outputs": [],
   "source": [
    "#put to lower case, remove punctation\n",
    "def cleanText(text):\n",
    "    text = re.sub(r'[^a-z A-Z0-9]', \"\", text) #maybe shouldn't remove punction between words here?\n",
    "    text = text.lower()\n",
    "    return text\n",
    "all_data['cleanOverview'] = all_data['overview'].apply(cleanText)"
   ]
  },
  {
   "cell_type": "code",
   "execution_count": 37,
   "metadata": {},
   "outputs": [],
   "source": [
    "#logistic regression data\n",
    "lr_data = all_data[['cleanOverview', 'genres_labels', 'genres_vect', 'overview']]"
   ]
  },
  {
   "cell_type": "code",
   "execution_count": 38,
   "metadata": {},
   "outputs": [],
   "source": [
    "train, test = train_test_split(lr_data, test_size=0.2, random_state=42)"
   ]
  },
  {
   "cell_type": "markdown",
   "metadata": {},
   "source": [
    "CNN STUFF here"
   ]
  },
  {
   "cell_type": "code",
   "execution_count": 39,
   "metadata": {},
   "outputs": [],
   "source": [
    "#get word embeddings\n",
    "x = train['cleanOverview'].values.tolist()\n",
    "y = train['genres_vect']"
   ]
  },
  {
   "cell_type": "code",
   "execution_count": 40,
   "metadata": {},
   "outputs": [],
   "source": [
    "x_test = test['cleanOverview'].values.tolist()\n",
    "y_test = test['genres_vect']"
   ]
  },
  {
   "cell_type": "code",
   "execution_count": 41,
   "metadata": {},
   "outputs": [],
   "source": [
    "y_train = y.tolist()\n",
    "y_train = np.array(y_train)"
   ]
  },
  {
   "cell_type": "code",
   "execution_count": 42,
   "metadata": {},
   "outputs": [],
   "source": [
    "y_test = y_test.tolist()\n",
    "y_test = np.array(y_test)"
   ]
  },
  {
   "cell_type": "code",
   "execution_count": 43,
   "metadata": {},
   "outputs": [],
   "source": [
    "tok = [word_tokenize(sent) for sent in x]"
   ]
  },
  {
   "cell_type": "code",
   "execution_count": 44,
   "metadata": {},
   "outputs": [],
   "source": [
    "word_vec_len = 32\n",
    "model = Word2Vec(tok, min_count = 1, size=word_vec_len)"
   ]
  },
  {
   "cell_type": "code",
   "execution_count": 45,
   "metadata": {},
   "outputs": [],
   "source": [
    "from keras.preprocessing.text import Tokenizer\n",
    "from keras.preprocessing.sequence import pad_sequences\n",
    "\n",
    "num_words_kept = 100000 #using 100000 most popular words, use throughout\n",
    "\n",
    "tokenizer = Tokenizer(num_words_kept)\n",
    "tokenizer.fit_on_texts(x)\n",
    "sequences = tokenizer.texts_to_sequences(x)\n",
    "\n",
    "x_train_seq = pad_sequences(sequences, maxlen=200)"
   ]
  },
  {
   "cell_type": "code",
   "execution_count": 46,
   "metadata": {},
   "outputs": [],
   "source": [
    "test_sequences = tokenizer.texts_to_sequences(x_test)\n",
    "x_test_seq = pad_sequences(test_sequences, maxlen=200)"
   ]
  },
  {
   "cell_type": "code",
   "execution_count": 47,
   "metadata": {},
   "outputs": [],
   "source": [
    "embeddings_index = {}\n",
    "for w in model.wv.vocab.keys():\n",
    "    embeddings_index[w] = model.wv[w]\n",
    "\n",
    "\n",
    "embedding_matrix = np.zeros((num_words_kept, word_vec_len))\n",
    "for word, i in tokenizer.word_index.items():\n",
    "    if i >= num_words_kept:\n",
    "        continue\n",
    "    embedding_vector = embeddings_index.get(word)\n",
    "    if embedding_vector is not None:\n",
    "        embedding_matrix[i] = embedding_vector"
   ]
  },
  {
   "cell_type": "code",
   "execution_count": 48,
   "metadata": {},
   "outputs": [],
   "source": [
    "#intersection of predicted and actual labels divided by uniont for each datapoint tested on\n",
    "#sum those and then divide by number of datapoints\n",
    "#vectorized for speed\n",
    "def multi_label_accuracy(real_labels_matrix, predictions_labels_matrix):\n",
    "    #binary so set intersection is and operator\n",
    "    intersection = real_labels_matrix & predictions_labels_matrix\n",
    "    #set union for binary is same as or operator\n",
    "    union = real_labels_matrix | predictions_labels_matrix\n",
    "    #sum(array.T) gets number of 1s in row\n",
    "    row_wise_accuracy = sum(intersection.T) / sum(union.T)\n",
    "    return sum(row_wise_accuracy) / real_labels_matrix.shape[0]\n",
    "\n",
    "import keras.backend as K\n",
    "\n",
    "#metric for keras for early stopping\n",
    "#takes in raw labels from kerass (not yet converted to 0 and 1s)\n",
    "#NOT the same as accuracy, this is total labels correctly identified divided by union of total labels\n",
    "#this weights rows with more labels higher, where accruacy does not\n",
    "def raw_multi_label_accuracy(y_true, y_pred):\n",
    "    positives = K.greater_equal(y_pred, 0.5)\n",
    "    positives = K.cast(positives, K.floatx())\n",
    "    new_y_pred = positives #+ ((1-positives)*y_pred)\n",
    "    intersection = y_true * new_y_pred\n",
    "    union = 1 -((1-y_true)*(1-new_y_pred))\n",
    "    accuracy = K.sum(intersection) / K.sum(union)\n",
    "    return accuracy\n",
    "    "
   ]
  },
  {
   "cell_type": "code",
   "execution_count": 49,
   "metadata": {},
   "outputs": [
    {
     "name": "stdout",
     "output_type": "stream",
     "text": [
      "Train on 2149 samples, validate on 239 samples\n",
      "Epoch 1/500\n",
      " - 2s - loss: 0.4191 - raw_multi_label_accuracy: 0.0567 - val_loss: 0.3224 - val_raw_multi_label_accuracy: 0.1315\n",
      "Epoch 2/500\n",
      " - 1s - loss: 0.3164 - raw_multi_label_accuracy: 0.1039 - val_loss: 0.3153 - val_raw_multi_label_accuracy: 0.0000e+00\n",
      "Epoch 3/500\n",
      " - 1s - loss: 0.3136 - raw_multi_label_accuracy: 0.0737 - val_loss: 0.3156 - val_raw_multi_label_accuracy: 0.0000e+00\n",
      "Epoch 4/500\n",
      " - 1s - loss: 0.3133 - raw_multi_label_accuracy: 0.0867 - val_loss: 0.3152 - val_raw_multi_label_accuracy: 0.0000e+00\n",
      "Epoch 5/500\n",
      " - 1s - loss: 0.3140 - raw_multi_label_accuracy: 0.0996 - val_loss: 0.3139 - val_raw_multi_label_accuracy: 0.1682\n",
      "Epoch 6/500\n",
      " - 2s - loss: 0.3137 - raw_multi_label_accuracy: 0.0838 - val_loss: 0.3154 - val_raw_multi_label_accuracy: 0.1695\n",
      "Epoch 7/500\n",
      " - 1s - loss: 0.3135 - raw_multi_label_accuracy: 0.0903 - val_loss: 0.3148 - val_raw_multi_label_accuracy: 0.1695\n",
      "Epoch 8/500\n",
      " - 1s - loss: 0.3139 - raw_multi_label_accuracy: 0.1015 - val_loss: 0.3159 - val_raw_multi_label_accuracy: 0.0000e+00\n",
      "Epoch 9/500\n",
      " - 1s - loss: 0.3134 - raw_multi_label_accuracy: 0.0866 - val_loss: 0.3141 - val_raw_multi_label_accuracy: 0.1653\n",
      "Epoch 10/500\n",
      " - 1s - loss: 0.3132 - raw_multi_label_accuracy: 0.1206 - val_loss: 0.3148 - val_raw_multi_label_accuracy: 0.0000e+00\n",
      "Epoch 11/500\n",
      " - 1s - loss: 0.3136 - raw_multi_label_accuracy: 0.1000 - val_loss: 0.3148 - val_raw_multi_label_accuracy: 0.1695\n",
      "Epoch 12/500\n",
      " - 2s - loss: 0.3132 - raw_multi_label_accuracy: 0.1042 - val_loss: 0.3164 - val_raw_multi_label_accuracy: 0.1695\n",
      "Epoch 13/500\n",
      " - 3s - loss: 0.3136 - raw_multi_label_accuracy: 0.0969 - val_loss: 0.3156 - val_raw_multi_label_accuracy: 0.0000e+00\n",
      "Epoch 14/500\n",
      " - 1s - loss: 0.3134 - raw_multi_label_accuracy: 0.0906 - val_loss: 0.3160 - val_raw_multi_label_accuracy: 0.1695\n",
      "Epoch 15/500\n",
      " - 1s - loss: 0.3139 - raw_multi_label_accuracy: 0.1157 - val_loss: 0.3150 - val_raw_multi_label_accuracy: 0.0000e+00\n",
      "Epoch 16/500\n",
      " - 1s - loss: 0.3134 - raw_multi_label_accuracy: 0.0963 - val_loss: 0.3148 - val_raw_multi_label_accuracy: 0.1695\n",
      "Epoch 17/500\n",
      " - 1s - loss: 0.3133 - raw_multi_label_accuracy: 0.0855 - val_loss: 0.3142 - val_raw_multi_label_accuracy: 0.0832\n",
      "Epoch 18/500\n",
      " - 1s - loss: 0.3130 - raw_multi_label_accuracy: 0.1080 - val_loss: 0.3146 - val_raw_multi_label_accuracy: 0.1695\n",
      "Epoch 19/500\n",
      " - 1s - loss: 0.3135 - raw_multi_label_accuracy: 0.1233 - val_loss: 0.3156 - val_raw_multi_label_accuracy: 0.1695\n",
      "Epoch 20/500\n",
      " - 1s - loss: 0.3129 - raw_multi_label_accuracy: 0.1047 - val_loss: 0.3151 - val_raw_multi_label_accuracy: 0.1695\n",
      "Epoch 21/500\n",
      " - 1s - loss: 0.3132 - raw_multi_label_accuracy: 0.1131 - val_loss: 0.3161 - val_raw_multi_label_accuracy: 0.1667\n",
      "Epoch 22/500\n",
      " - 1s - loss: 0.3135 - raw_multi_label_accuracy: 0.1309 - val_loss: 0.3158 - val_raw_multi_label_accuracy: 0.1658\n",
      "Epoch 23/500\n",
      " - 2s - loss: 0.3129 - raw_multi_label_accuracy: 0.1068 - val_loss: 0.3155 - val_raw_multi_label_accuracy: 0.0000e+00\n",
      "Epoch 24/500\n",
      " - 2s - loss: 0.3131 - raw_multi_label_accuracy: 0.0881 - val_loss: 0.3161 - val_raw_multi_label_accuracy: 0.0000e+00\n",
      "Epoch 25/500\n",
      " - 2s - loss: 0.3133 - raw_multi_label_accuracy: 0.1027 - val_loss: 0.3141 - val_raw_multi_label_accuracy: 0.1683\n",
      "Epoch 26/500\n",
      " - 2s - loss: 0.3122 - raw_multi_label_accuracy: 0.0957 - val_loss: 0.3145 - val_raw_multi_label_accuracy: 0.1546\n",
      "Epoch 27/500\n",
      " - 2s - loss: 0.3124 - raw_multi_label_accuracy: 0.1094 - val_loss: 0.3151 - val_raw_multi_label_accuracy: 0.1681\n",
      "Epoch 28/500\n",
      " - 2s - loss: 0.3126 - raw_multi_label_accuracy: 0.0598 - val_loss: 0.3159 - val_raw_multi_label_accuracy: 0.1695\n",
      "Epoch 29/500\n",
      " - 1s - loss: 0.3127 - raw_multi_label_accuracy: 0.1038 - val_loss: 0.3153 - val_raw_multi_label_accuracy: 0.0000e+00\n",
      "Epoch 30/500\n",
      " - 1s - loss: 0.3126 - raw_multi_label_accuracy: 0.0710 - val_loss: 0.3151 - val_raw_multi_label_accuracy: 0.0000e+00\n",
      "Epoch 31/500\n",
      " - 1s - loss: 0.3121 - raw_multi_label_accuracy: 0.0970 - val_loss: 0.3145 - val_raw_multi_label_accuracy: 0.1695\n"
     ]
    },
    {
     "data": {
      "text/plain": [
       "<keras.callbacks.History at 0x7ffa2c1d8320>"
      ]
     },
     "execution_count": 49,
     "metadata": {},
     "output_type": "execute_result"
    }
   ],
   "source": [
    "from keras.layers import Conv1D, GlobalMaxPooling1D\n",
    "from keras.models import Sequential\n",
    "from keras.layers import Dense, Dropout\n",
    "from keras.layers import Flatten\n",
    "from keras.layers.embeddings import Embedding\n",
    "from keras.callbacks import EarlyStopping\n",
    "\n",
    "model_cnn = Sequential()\n",
    "e = Embedding(num_words_kept, word_vec_len, weights=[embedding_matrix], input_length=200, trainable=False)\n",
    "model_cnn.add(e)\n",
    "model_cnn.add(Conv1D(filters=100, kernel_size=2, padding='valid', activation='relu', strides=1))\n",
    "model_cnn.add(GlobalMaxPooling1D())\n",
    "model_cnn.add(Dense(256, activation='relu'))\n",
    "model_cnn.add(Dense(20, activation='sigmoid'))\n",
    "model_cnn.compile(loss='binary_crossentropy', optimizer='adam', metrics=[raw_multi_label_accuracy])\n",
    "#model_cnn_01.fit(x_train_seq, y_train, validation_data=(x_val_seq, y_validation), epochs=5, batch_size=32, verbose=2)\n",
    "model_cnn.fit(x_train_seq, y_train, validation_split = .1, callbacks = [EarlyStopping(monitor = 'val_raw_multi_label_accuracy', patience = 25)], epochs=500, batch_size=100, verbose=2)"
   ]
  },
  {
   "cell_type": "code",
   "execution_count": 50,
   "metadata": {},
   "outputs": [],
   "source": [
    "res = model_cnn.predict(x_test_seq)"
   ]
  },
  {
   "cell_type": "code",
   "execution_count": 51,
   "metadata": {},
   "outputs": [],
   "source": [
    "label_predictions = []\n",
    "for i in range(res.shape[0]):\n",
    "    pred = [0]*20\n",
    "    for j in range(res.shape[1]):\n",
    "        if res[i][j] >= .5:\n",
    "            pred[j] = 1\n",
    "    label_predictions.append(pred)"
   ]
  },
  {
   "cell_type": "code",
   "execution_count": 52,
   "metadata": {},
   "outputs": [
    {
     "data": {
      "text/plain": [
       "95"
      ]
     },
     "execution_count": 52,
     "metadata": {},
     "output_type": "execute_result"
    }
   ],
   "source": [
    "y_test[:,1].sum()"
   ]
  },
  {
   "cell_type": "code",
   "execution_count": 53,
   "metadata": {},
   "outputs": [
    {
     "data": {
      "text/plain": [
       "0"
      ]
     },
     "execution_count": 53,
     "metadata": {},
     "output_type": "execute_result"
    }
   ],
   "source": [
    "label_predictions = np.array(label_predictions)\n",
    "label_predictions[:,1].sum()"
   ]
  },
  {
   "cell_type": "code",
   "execution_count": 54,
   "metadata": {},
   "outputs": [
    {
     "data": {
      "text/plain": [
       "0.25447076653106804"
      ]
     },
     "execution_count": 54,
     "metadata": {},
     "output_type": "execute_result"
    }
   ],
   "source": [
    "multi_label_accuracy(y_test, label_predictions)"
   ]
  },
  {
   "cell_type": "code",
   "execution_count": null,
   "metadata": {},
   "outputs": [],
   "source": []
  }
 ],
 "metadata": {
  "kernelspec": {
   "display_name": "Python 3",
   "language": "python",
   "name": "python3"
  },
  "language_info": {
   "codemirror_mode": {
    "name": "ipython",
    "version": 3
   },
   "file_extension": ".py",
   "mimetype": "text/x-python",
   "name": "python",
   "nbconvert_exporter": "python",
   "pygments_lexer": "ipython3",
   "version": "3.6.7"
  }
 },
 "nbformat": 4,
 "nbformat_minor": 2
}
