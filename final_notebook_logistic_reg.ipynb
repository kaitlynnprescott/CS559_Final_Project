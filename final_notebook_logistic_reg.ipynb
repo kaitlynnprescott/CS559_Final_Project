{
 "cells": [
  {
   "cell_type": "code",
   "execution_count": 1,
   "metadata": {},
   "outputs": [],
   "source": [
    "import numpy as np\n",
    "import pandas as pd\n",
    "#for reading in data properly\n",
    "import ast\n",
    "import json\n",
    "\n",
    "import gensim\n",
    "from gensim.models import Doc2Vec\n",
    "from gensim.models.doc2vec import TaggedDocument\n",
    "\n",
    "from sklearn.linear_model import LogisticRegression\n",
    "from sklearn.multiclass import OneVsRestClassifier\n",
    "from sklearn.pipeline import Pipeline\n",
    "from sklearn.model_selection import train_test_split\n",
    "from sklearn.metrics import accuracy_score\n",
    "from sklearn.metrics import precision_score\n",
    "from sklearn.metrics import recall_score\n",
    "from sklearn.feature_extraction.text import TfidfVectorizer\n",
    "from sklearn import utils\n",
    "\n",
    "import re\n",
    "\n",
    "import nltk\n",
    "from nltk.corpus import stopwords\n",
    "from nltk.stem import PorterStemmer\n",
    "from nltk.tokenize import word_tokenize\n",
    "\n",
    "stop_words = set(stopwords.words('english'))"
   ]
  },
  {
   "cell_type": "code",
   "execution_count": 2,
   "metadata": {},
   "outputs": [],
   "source": [
    "all_data = pd.read_csv('train.csv')\n",
    "all_data = all_data.dropna(subset=['overview', 'genres']) #drop cols without overview or genre (data we use or labels)\n",
    "genre_set = {'Comedy'}"
   ]
  },
  {
   "cell_type": "code",
   "execution_count": 3,
   "metadata": {},
   "outputs": [],
   "source": [
    "def text_to_list(x):\n",
    "    if pd.isna(x):\n",
    "        return ''\n",
    "    else:\n",
    "        return ast.literal_eval(x)\n",
    "\n",
    "def parse_json(x):\n",
    "    try:\n",
    "        return json.loads(x.replace(\"'\", '\"'))[0]['name']\n",
    "    except:\n",
    "        return ''\n",
    "    \n",
    "def parse_all_genres_json(x):\n",
    "    try:\n",
    "        json_genres = json.loads(x.replace(\"'\", '\"'))\n",
    "        numElems = len(json_genres)\n",
    "        for i in range(numElems):\n",
    "            genre_set.add(json_genres[i]['name'])\n",
    "    except:\n",
    "        return ''\n",
    "    \n",
    "def parse_genres_json(x):\n",
    "    try:\n",
    "        json_genres = json.loads(x.replace(\"'\", '\"'))\n",
    "        numElems = len(json_genres)\n",
    "        ret = [0]*len(genre_dict) #20 0s\n",
    "        for i in range(numElems):\n",
    "            ret[genre_dict[(json_genres[i]['name'])]] = 1\n",
    "        return ret\n",
    "    except:\n",
    "        return ''\n",
    "    \n",
    "\n",
    "def get_labels_as_strs(x):\n",
    "    try:\n",
    "        json_genres = json.loads(x.replace(\"'\", '\"'))\n",
    "        numElems = len(json_genres)\n",
    "        ret = []#20 0s\n",
    "        for i in range(numElems):\n",
    "            ret.append(json_genres[i]['name'])\n",
    "        return ret\n",
    "    except:\n",
    "        return ''"
   ]
  },
  {
   "cell_type": "code",
   "execution_count": 4,
   "metadata": {},
   "outputs": [],
   "source": [
    " def getAllGenres():\n",
    "    full_data = pd.read_csv('train.csv')\n",
    "\n",
    "    y = full_data['genres']\n",
    "    y.apply(parse_all_genres_json)"
   ]
  },
  {
   "cell_type": "code",
   "execution_count": 5,
   "metadata": {},
   "outputs": [],
   "source": [
    "getAllGenres()"
   ]
  },
  {
   "cell_type": "code",
   "execution_count": 6,
   "metadata": {},
   "outputs": [
    {
     "data": {
      "text/plain": [
       "20"
      ]
     },
     "execution_count": 6,
     "metadata": {},
     "output_type": "execute_result"
    }
   ],
   "source": [
    "len(genre_set)"
   ]
  },
  {
   "cell_type": "code",
   "execution_count": 7,
   "metadata": {},
   "outputs": [],
   "source": [
    "#get set to dictionary for indexing of target vectors\n",
    "genre_dict = {}\n",
    "index = 0\n",
    "for genre in genre_set:\n",
    "    genre_dict[genre] = index\n",
    "    index += 1"
   ]
  },
  {
   "cell_type": "code",
   "execution_count": 8,
   "metadata": {},
   "outputs": [],
   "source": [
    "def getGenresVects():\n",
    "    y = all_data['genres']\n",
    "    ret = y.apply(parse_genres_json)\n",
    "    all_data['genres_vect'] = ret\n",
    "    label_strs = y.apply(get_labels_as_strs)\n",
    "    all_data['genres_labels'] = label_strs\n",
    "    return ret"
   ]
  },
  {
   "cell_type": "code",
   "execution_count": 9,
   "metadata": {},
   "outputs": [],
   "source": [
    "genres_vects = getGenresVects()"
   ]
  },
  {
   "cell_type": "code",
   "execution_count": 10,
   "metadata": {},
   "outputs": [],
   "source": [
    "#put to lower case, remove punctation\n",
    "def cleanText(text):\n",
    "    no_stopword_text = [w for w in text.split() if not w in stop_words]\n",
    "    text = ' '.join(no_stopword_text)\n",
    "    text = re.sub(r'[^a-z A-Z0-9]', \"\", text) #maybe shouldn't remove punction between words here?\n",
    "    text = text.lower()\n",
    "    return text\n",
    "all_data['cleanOverview'] = all_data['overview'].apply(cleanText)"
   ]
  },
  {
   "cell_type": "code",
   "execution_count": 11,
   "metadata": {},
   "outputs": [],
   "source": [
    "#logistic regression data\n",
    "lr_data = all_data[['cleanOverview', 'genres_labels', 'genres_vect']]"
   ]
  },
  {
   "cell_type": "code",
   "execution_count": 12,
   "metadata": {},
   "outputs": [],
   "source": [
    "train, test = train_test_split(lr_data, test_size=0.2, random_state=42)"
   ]
  },
  {
   "cell_type": "code",
   "execution_count": 13,
   "metadata": {},
   "outputs": [],
   "source": [
    "import multiprocessing\n",
    "\n",
    "cores = multiprocessing.cpu_count()"
   ]
  },
  {
   "cell_type": "code",
   "execution_count": 14,
   "metadata": {},
   "outputs": [],
   "source": [
    "from tqdm import tqdm"
   ]
  },
  {
   "cell_type": "code",
   "execution_count": 15,
   "metadata": {},
   "outputs": [],
   "source": [
    "X_train = train.cleanOverview\n",
    "X_test = test.cleanOverview"
   ]
  },
  {
   "cell_type": "code",
   "execution_count": 16,
   "metadata": {},
   "outputs": [],
   "source": [
    "train_targets_arr = train['genres_vect'].tolist()\n",
    "train_targets_arr = np.array(train_targets_arr)\n",
    "\n",
    "test_targets_arr = test['genres_vect'].tolist()\n",
    "test_targets_arr = np.array(test_targets_arr)"
   ]
  },
  {
   "cell_type": "code",
   "execution_count": 17,
   "metadata": {},
   "outputs": [],
   "source": [
    "class MultiLabelLogisitcRegression():\n",
    "    def __init__(self, genre_dict):\n",
    "        self.genre_dict = genre_dict\n",
    "        self.pipelines = {}\n",
    "        for category in self.genre_dict.keys():\n",
    "            self.pipelines[category]=Pipeline([\n",
    "                ('tfidf', TfidfVectorizer(stop_words=stop_words)),\n",
    "                ('clf', OneVsRestClassifier(LogisticRegression(solver='liblinear', multi_class='ovr'), n_jobs=1)),\n",
    "            ])\n",
    "        \n",
    "    def fit(self, X_train, train_targets_arr):\n",
    "        for category in self.genre_dict.keys():\n",
    "            print('Processing {}'.format(category))\n",
    "            self.pipelines[category].fit(X_train, train_targets_arr[:,genre_dict[category]])\n",
    "\n",
    "    def predict(self, X_test):\n",
    "        Ret = np.zeros((X_test.shape[0],len(self.genre_dict.keys())), dtype='int')\n",
    "        for category in self.genre_dict.keys():\n",
    "            prediction = self.pipelines[category].predict(X_test)\n",
    "            Ret[:,self.genre_dict[category]] = prediction\n",
    "        return Ret\n",
    "    \n",
    "    def predict_threshold(self, X_test, threshold):\n",
    "        Ret = np.zeros((X_test.shape[0],len(self.genre_dict.keys())), dtype='int')\n",
    "        for category in self.genre_dict.keys():\n",
    "            prediction = self.pipelines[category].predict_proba(X_test)[:,1]\n",
    "            prediction[prediction >=threshold] = 1\n",
    "            prediction[prediction < threshold] = 0\n",
    "            Ret[:,self.genre_dict[category]] = prediction\n",
    "        return Ret"
   ]
  },
  {
   "cell_type": "code",
   "execution_count": 18,
   "metadata": {},
   "outputs": [],
   "source": [
    "#size of intersection of predicted and actual labels divided by size of their union for each datapoint tested on\n",
    "#sum those and then divide by number of datapoints\n",
    "#vectorized for speed\n",
    "def multi_label_accuracy(real_labels_matrix, predictions_labels_matrix):\n",
    "    #binary so set intersection is and operator\n",
    "    intersection = real_labels_matrix & predictions_labels_matrix\n",
    "    #set union for binary is same as or operator\n",
    "    union = real_labels_matrix | predictions_labels_matrix\n",
    "    #sum(array.T) gets number of 1s in row\n",
    "    row_wise_accuracy = sum(intersection.T) / sum(union.T)\n",
    "    return sum(row_wise_accuracy) / real_labels_matrix.shape[0]\n",
    "\n",
    "#size of intersection of predicted and actual labels divided by size of predicted set for each datapoint tested on\n",
    "#sum those and divide by number of datapoints\n",
    "#if no predicted labels, don't count that row towards the precision as that would be undefined\n",
    "def multi_label_precision(real_labels_matrix, predictions_labels_matrix):\n",
    "    #binary so set intersection is and operator\n",
    "    intersection = real_labels_matrix & predictions_labels_matrix\n",
    "    precision_sum = 0\n",
    "    num_rows = 0\n",
    "    for row in range(intersection.shape[0]):\n",
    "        if sum(predictions_labels_matrix[row]) > 0: #if there is at least one prediction for this row\n",
    "            num_rows += 1\n",
    "            precision_sum += sum(intersection[row]) / sum(predictions_labels_matrix[row])\n",
    "    if num_rows == 0:\n",
    "        return 0#no labels predicted at all will give us 0 precision as precision makes no sense here\n",
    "    return precision_sum / num_rows\n",
    "\n",
    "#size of intersection of predicted and actual labels divided by size of real label set for each datapoint tested on\n",
    "#sum those and divide by number of datapoints\n",
    "#all datapoints should have at least 1 real label in this data set\n",
    "#vectorized for speed\n",
    "def multi_label_recall(real_labels_matrix, predictions_labels_matrix):\n",
    "    #binary so set intersection is and operator\n",
    "    intersection = real_labels_matrix & predictions_labels_matrix\n",
    "    #set union for binary is same as or operator\n",
    "    #sum(array.T) gets number of 1s in row\n",
    "    row_wise_recall = sum(intersection.T) / sum(real_labels_matrix.T)\n",
    "    return sum(row_wise_recall) / real_labels_matrix.shape[0]\n",
    "\n",
    "#lower is better\n",
    "def hamming_loss(real_labels_matrix, predictions_labels_matrix):\n",
    "    return (np.logical_xor(real_labels_matrix, predictions_labels_matrix)).sum()/(real_labels_matrix.shape[0] * real_labels_matrix.shape[1])\n"
   ]
  },
  {
   "cell_type": "code",
   "execution_count": 19,
   "metadata": {},
   "outputs": [],
   "source": [
    "def get_per_label_metrics(real_labels_matrix, predictions_labels_matrix):\n",
    "    for genre in genre_dict.keys():\n",
    "        index = genre_dict[genre]\n",
    "        real_labels_vect = real_labels_matrix[:, index]\n",
    "        prediction_vect = predictions_labels_matrix[:,index]\n",
    "        print(\"Accuruacy for \" + genre + \": \" + str(accuracy_score(real_labels_vect, prediction_vect)))\n",
    "        print(\"Precision for \" + genre + \": \" + str(precision_score(real_labels_vect, prediction_vect)))\n",
    "        print(\"Recall for \" + genre + \": \" + str(recall_score(real_labels_vect, prediction_vect)))\n",
    "        print()"
   ]
  },
  {
   "cell_type": "code",
   "execution_count": 20,
   "metadata": {},
   "outputs": [
    {
     "name": "stdout",
     "output_type": "stream",
     "text": [
      "Processing Romance\n",
      "Processing Western\n",
      "Processing Documentary\n",
      "Processing Adventure\n",
      "Processing Science Fiction\n",
      "Processing Horror\n",
      "Processing Thriller\n",
      "Processing Comedy\n",
      "Processing Music\n",
      "Processing TV Movie\n",
      "Processing Animation\n",
      "Processing Action\n",
      "Processing Mystery\n",
      "Processing Fantasy\n",
      "Processing Family\n",
      "Processing History\n",
      "Processing Drama\n",
      "Processing Crime\n",
      "Processing Foreign\n",
      "Processing War\n"
     ]
    }
   ],
   "source": [
    "multi = MultiLabelLogisitcRegression(genre_dict)\n",
    "multi.fit(X_train, train_targets_arr)\n",
    "results = multi.predict(X_test)"
   ]
  },
  {
   "cell_type": "code",
   "execution_count": 21,
   "metadata": {},
   "outputs": [
    {
     "name": "stdout",
     "output_type": "stream",
     "text": [
      "Accuruacy for Romance: 0.8257956448911222\n",
      "Precision for Romance: 0.8888888888888888\n",
      "Recall for Romance: 0.07207207207207207\n",
      "\n",
      "Accuruacy for Western: 0.983249581239531\n",
      "Precision for Western: 0.0\n",
      "Recall for Western: 0.0\n",
      "\n",
      "Accuruacy for Documentary: 0.9731993299832495\n",
      "Precision for Documentary: 0.0\n",
      "Recall for Documentary: 0.0\n",
      "\n",
      "Accuruacy for Adventure: 0.8408710217755444\n",
      "Precision for Adventure: 0.0\n",
      "Recall for Adventure: 0.0\n",
      "\n",
      "Accuruacy for Science Fiction: 0.8961474036850922\n",
      "Precision for Science Fiction: 0.0\n",
      "Recall for Science Fiction: 0.0\n",
      "\n",
      "Accuruacy for Horror: 0.9061976549413735\n",
      "Precision for Horror: 0.0\n",
      "Recall for Horror: 0.0\n",
      "\n",
      "Accuruacy for Thriller: 0.7286432160804021\n",
      "Precision for Thriller: 0.8888888888888888\n",
      "Recall for Thriller: 0.047337278106508875\n",
      "\n",
      "Accuruacy for Comedy: 0.6834170854271356\n",
      "Precision for Comedy: 0.813953488372093\n",
      "Recall for Comedy: 0.16203703703703703\n",
      "\n",
      "Accuruacy for Music: 0.9748743718592965\n",
      "Precision for Music: 0.0\n",
      "Recall for Music: 0.0\n",
      "\n",
      "Accuruacy for TV Movie: 1.0\n",
      "Precision for TV Movie: 0.0\n",
      "Recall for TV Movie: 0.0\n",
      "\n",
      "Accuruacy for Animation: 0.9547738693467337\n",
      "Precision for Animation: 0.0\n",
      "Recall for Animation: 0.0\n",
      "\n",
      "Accuruacy for Action: 0.7554438860971524\n",
      "Precision for Action: 0.9230769230769231\n",
      "Recall for Action: 0.07643312101910828\n",
      "\n",
      "Accuruacy for Mystery: 0.932998324958124\n",
      "Precision for Mystery: 0.0\n",
      "Recall for Mystery: 0.0\n",
      "\n",
      "Accuruacy for Fantasy: 0.9229480737018425\n",
      "Precision for Fantasy: 0.0\n",
      "Recall for Fantasy: 0.0\n",
      "\n",
      "Accuruacy for Family: 0.9229480737018425\n",
      "Precision for Family: 0.0\n",
      "Recall for Family: 0.0\n",
      "\n",
      "Accuruacy for History: 0.9614740368509213\n",
      "Precision for History: 0.0\n",
      "Recall for History: 0.0\n",
      "\n",
      "Accuruacy for Drama: 0.6633165829145728\n",
      "Precision for Drama: 0.6966666666666667\n",
      "Recall for Drama: 0.6551724137931034\n",
      "\n",
      "Accuruacy for Crime: 0.8408710217755444\n",
      "Precision for Crime: 0.0\n",
      "Recall for Crime: 0.0\n",
      "\n",
      "Accuruacy for Foreign: 0.9882747068676717\n",
      "Precision for Foreign: 0.0\n",
      "Recall for Foreign: 0.0\n",
      "\n",
      "Accuruacy for War: 0.964824120603015\n",
      "Precision for War: 0.0\n",
      "Recall for War: 0.0\n",
      "\n"
     ]
    },
    {
     "name": "stderr",
     "output_type": "stream",
     "text": [
      "/home/matt/.local/lib/python3.6/site-packages/sklearn/metrics/classification.py:1437: UndefinedMetricWarning: Precision is ill-defined and being set to 0.0 due to no predicted samples.\n",
      "  'precision', 'predicted', average, warn_for)\n",
      "/home/matt/.local/lib/python3.6/site-packages/sklearn/metrics/classification.py:1439: UndefinedMetricWarning: Recall is ill-defined and being set to 0.0 due to no true samples.\n",
      "  'recall', 'true', average, warn_for)\n"
     ]
    }
   ],
   "source": [
    "get_per_label_metrics(test_targets_arr, results)"
   ]
  },
  {
   "cell_type": "code",
   "execution_count": 22,
   "metadata": {},
   "outputs": [
    {
     "name": "stdout",
     "output_type": "stream",
     "text": [
      "Percent of correctly decided label decisions: 88.60134003350085\n"
     ]
    }
   ],
   "source": [
    "print(\"Percent of correctly decided label decisions: \" + str(100* (1-hamming_loss(test_targets_arr, results))))"
   ]
  },
  {
   "cell_type": "code",
   "execution_count": 23,
   "metadata": {},
   "outputs": [
    {
     "data": {
      "text/plain": [
       "0.2167185132009251"
      ]
     },
     "execution_count": 23,
     "metadata": {},
     "output_type": "execute_result"
    }
   ],
   "source": [
    "multi_label_accuracy(test_targets_arr, results)"
   ]
  },
  {
   "cell_type": "code",
   "execution_count": 24,
   "metadata": {},
   "outputs": [
    {
     "data": {
      "text/plain": [
       "0.22224615139188"
      ]
     },
     "execution_count": 24,
     "metadata": {},
     "output_type": "execute_result"
    }
   ],
   "source": [
    "multi_label_recall(test_targets_arr, results)"
   ]
  },
  {
   "cell_type": "code",
   "execution_count": 25,
   "metadata": {},
   "outputs": [
    {
     "data": {
      "text/plain": [
       "0.717564870259481"
      ]
     },
     "execution_count": 25,
     "metadata": {},
     "output_type": "execute_result"
    }
   ],
   "source": [
    "multi_label_precision(test_targets_arr, results)"
   ]
  },
  {
   "cell_type": "code",
   "execution_count": null,
   "metadata": {},
   "outputs": [],
   "source": []
  }
 ],
 "metadata": {
  "kernelspec": {
   "display_name": "Python 3",
   "language": "python",
   "name": "python3"
  },
  "language_info": {
   "codemirror_mode": {
    "name": "ipython",
    "version": 3
   },
   "file_extension": ".py",
   "mimetype": "text/x-python",
   "name": "python",
   "nbconvert_exporter": "python",
   "pygments_lexer": "ipython3",
   "version": "3.6.7"
  }
 },
 "nbformat": 4,
 "nbformat_minor": 2
}
